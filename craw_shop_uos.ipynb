{
 "cells": [
  {
   "cell_type": "code",
   "execution_count": 1,
   "metadata": {},
   "outputs": [],
   "source": [
    "from selenium import webdriver\n",
    "from bs4 import BeautifulSoup\n",
    "from selenium.webdriver.support.ui import WebDriverWait\n",
    "from selenium.webdriver.support import expected_conditions as EC\n",
    "from selenium.webdriver.common.by import By\n",
    "import pandas as pd\n",
    "import time\n",
    "from urllib.request import urlretrieve\n",
    "from tqdm import tqdm\n",
    "from selenium.webdriver import ActionChains\n",
    "import re"
   ]
  },
  {
   "cell_type": "code",
   "execution_count": 13,
   "metadata": {},
   "outputs": [],
   "source": [
    "from selenium.common.exceptions import NoSuchElementException\n",
    "from selenium.common.exceptions import ElementClickInterceptedException"
   ]
  },
  {
   "cell_type": "code",
   "execution_count": 2,
   "metadata": {},
   "outputs": [],
   "source": [
    "#서울특별시 동대문구 회기동 36-3 경희대학교\n",
    "#'서울특별시 동대문구 전농동 694 서울시립대학교'\n",
    "#서울특별시 동대문구 이문동 284-1 한국외국어대학교"
   ]
  },
  {
   "cell_type": "code",
   "execution_count": 3,
   "metadata": {},
   "outputs": [],
   "source": [
    "def driver_start(university):\n",
    "    chrome_options = webdriver.ChromeOptions() \n",
    "    chrome_options.add_argument('--headless')#창없이 실행\n",
    "    chrome_options.add_argument('--no-sandbox')\n",
    "    chrome_options.add_argument('--disable-dev-shm-usage')\n",
    "\n",
    "    path=r'/data/chromedriver'\n",
    "    driver = webdriver.Chrome(executable_path=path,chrome_options=chrome_options)\n",
    "    driver.set_window_size(1024,1000)\n",
    "\n",
    "    url = \"https://www.yogiyo.co.kr/mobile/#/\"\n",
    "    driver.get(url)\n",
    "    time.sleep(1)\n",
    "    driver.find_element_by_xpath('//*[@id=\"search\"]/div/form/input').clear()\n",
    "    driver.find_element_by_xpath('//*[@id=\"search\"]/div/form/input').send_keys(university)\n",
    "    driver.find_element_by_xpath('//*[@id=\"button_search_address\"]/button[2]').click()\n",
    "    time.sleep(1)\n",
    "    \n",
    "    return driver"
   ]
  },
  {
   "cell_type": "code",
   "execution_count": 4,
   "metadata": {},
   "outputs": [],
   "source": [
    "def scroll():\n",
    "    last_height = driver.execute_script(\"return document.body.scrollHeight\")\n",
    "    while True:\n",
    "        driver.execute_script(\"window.scrollTo(0, document.body.scrollHeight);\")\n",
    "        time.sleep(1)\n",
    "        new_height = driver.execute_script(\"return document.body.scrollHeight\")\n",
    "        if new_height == last_height: #스크롤후 높이 변화 없으면 탈출\n",
    "            break\n",
    "        last_height = new_height"
   ]
  },
  {
   "cell_type": "code",
   "execution_count": 5,
   "metadata": {},
   "outputs": [],
   "source": [
    "def shops_catag(driver,cnt):\n",
    "    driver.find_element_by_xpath(f'//*[@id=\"category\"]/ul/li[{cnt}]/span').click() #치킨,피자등 카테고리 클릭\n",
    "    time.sleep(3)\n",
    "\n",
    "    last_height = driver.execute_script(\"return document.body.scrollHeight\")\n",
    "    \n",
    "    scroll()\n",
    "\n",
    "    html = driver.page_source\n",
    "    soup = BeautifulSoup(html, 'html.parser')\n",
    "    soup2=soup.find_all('div',{'class':\"restaurant-list\"})[2]\n",
    "    name_list=[x.text for x in soup2.find_all('div',{'ng-bind':\"restaurant.name\"})]\n",
    "    \n",
    "    return name_list"
   ]
  },
  {
   "cell_type": "code",
   "execution_count": 6,
   "metadata": {},
   "outputs": [],
   "source": [
    "def scroll_element(shop):#음식점이 있는 곳까지 스크롤\n",
    "    print(f\"{shop} scroll\")\n",
    "    while True:\n",
    "        last_height = driver.execute_script(\"return document.body.scrollHeight\")\n",
    "        try:\n",
    "            some_tag = driver.find_element_by_xpath(f'//*[@title=\"{shop}\"]')\n",
    "            if some_tag:\n",
    "                return False\n",
    "        except Exception:\n",
    "            driver.execute_script(\"window.scrollTo(0, document.body.scrollHeight);\")\n",
    "            time.sleep(1)\n",
    "            new_height = driver.execute_script(\"return document.body.scrollHeight\")\n",
    "            if new_height == last_height: #끝까지 스크롤후 해당 음식점이 없으면 종료 \n",
    "                return True\n",
    "            last_height = new_height\n",
    "            time.sleep(0.5)"
   ]
  },
  {
   "cell_type": "code",
   "execution_count": 7,
   "metadata": {},
   "outputs": [],
   "source": [
    "def craw(shop,driver):\n",
    "    try:\n",
    "        #정보창 클릭\n",
    "        driver.find_element_by_xpath('//*[@id=\"content\"]/div[2]/div[1]/ul/li[3]').click()\n",
    "    except Exception:\n",
    "        driver.quit()\n",
    "        driver=driver_start(university)\n",
    "        time.sleep(3)\n",
    "        scroll_element(shop)\n",
    "        #driver.find_element_by_xpath(f'//*[@title=\"{shop_in[i]}\"]').click()\n",
    "        time.sleep(3)\n",
    "        driver.find_element_by_xpath(f'//*[@title=\"{shop}\"]').click()\n",
    "        time.sleep(3)\n",
    "        driver.find_element_by_xpath('//*[@id=\"content\"]/div[2]/div[1]/ul/li[3]').click()\n",
    "    \n",
    "    time.sleep(2)\n",
    "    #shop=driver.find_element_by_xpath('//*[@id=\"content\"]/div[2]/div[1]/div[1]/div[1]/span').text\n",
    "    star=driver.find_element_by_xpath('//*[@id=\"content\"]/div[2]/div[1]/div[1]/div[2]/ul/li[1]/span').text\n",
    "    star=re.sub('[^0-9.]','',star)\n",
    "    notice=driver.find_element_by_xpath('//*[@id=\"info\"]/div[1]/div[2]').text\n",
    "    \n",
    "    return star, notice"
   ]
  },
  {
   "cell_type": "code",
   "execution_count": 8,
   "metadata": {},
   "outputs": [
    {
     "name": "stderr",
     "output_type": "stream",
     "text": [
      "<ipython-input-3-bb62db29bb57>:8: DeprecationWarning: use options instead of chrome_options\n",
      "  driver = webdriver.Chrome(executable_path=path,chrome_options=chrome_options)\n"
     ]
    }
   ],
   "source": [
    "university='서울특별시 동대문구 전농동 694 서울시립대학교'\n",
    "#driver.quit()\n",
    "driver=driver_start(university)"
   ]
  },
  {
   "cell_type": "code",
   "execution_count": 9,
   "metadata": {},
   "outputs": [],
   "source": [
    "# shops_all=shops_catag(driver,2)\n",
    "# shops_conv=shops_catag(driver,14)\n",
    "# shops_list=list(set(shops_all)-set(shops_conv))\n",
    "# len(shops_list)"
   ]
  },
  {
   "cell_type": "code",
   "execution_count": 10,
   "metadata": {},
   "outputs": [],
   "source": [
    "# shop_list=pd.Series(shops_list)\n",
    "# path='/data/yogiyo/pr_data/uos/'\n",
    "# shop_list.to_pickle(path+'only_shop_name.pickle')"
   ]
  },
  {
   "cell_type": "code",
   "execution_count": 11,
   "metadata": {},
   "outputs": [
    {
     "data": {
      "text/plain": [
       "2057"
      ]
     },
     "execution_count": 11,
     "metadata": {},
     "output_type": "execute_result"
    }
   ],
   "source": [
    "path='/data/yogiyo/pr_data/uos/'\n",
    "shops_list=pd.read_pickle(path+'only_shop_name.pickle').tolist()\n",
    "len(shops_list)"
   ]
  },
  {
   "cell_type": "code",
   "execution_count": 14,
   "metadata": {},
   "outputs": [
    {
     "name": "stderr",
     "output_type": "stream",
     "text": [
      "<ipython-input-3-bb62db29bb57>:8: DeprecationWarning: use options instead of chrome_options\n",
      "  driver = webdriver.Chrome(executable_path=path,chrome_options=chrome_options)\n",
      "  0%|          | 0/55 [00:00<?, ?it/s]"
     ]
    },
    {
     "name": "stdout",
     "output_type": "stream",
     "text": [
      "shop645 : 퍼스트에스프레소\n",
      "퍼스트에스프레소 scroll\n",
      "리뷰가 없습니다\n"
     ]
    },
    {
     "name": "stderr",
     "output_type": "stream",
     "text": [
      "\r",
      "  2%|▏         | 1/55 [00:32<28:51, 32.06s/it]"
     ]
    },
    {
     "name": "stdout",
     "output_type": "stream",
     "text": [
      "shop646 : 커피마마장안우리집\n",
      "커피마마장안우리집 scroll\n",
      "리뷰가 없습니다\n"
     ]
    },
    {
     "name": "stderr",
     "output_type": "stream",
     "text": [
      "\r",
      "  4%|▎         | 2/55 [00:57<26:36, 30.12s/it]"
     ]
    },
    {
     "name": "stdout",
     "output_type": "stream",
     "text": [
      "shop647 : 쭈꾸미선장쭈삼돌\n",
      "쭈꾸미선장쭈삼돌 scroll\n",
      "쭈꾸미선장쭈삼돌 4.9 7\n"
     ]
    },
    {
     "name": "stderr",
     "output_type": "stream",
     "text": [
      "\r",
      "  5%|▌         | 3/55 [01:23<25:02, 28.90s/it]"
     ]
    },
    {
     "name": "stdout",
     "output_type": "stream",
     "text": [
      "shop648 : 30년전통춘천닭갈비-안암점\n",
      "30년전통춘천닭갈비-안암점 scroll\n"
     ]
    },
    {
     "name": "stderr",
     "output_type": "stream",
     "text": [
      "\r",
      "  7%|▋         | 4/55 [01:58<26:02, 30.64s/it]"
     ]
    },
    {
     "name": "stdout",
     "output_type": "stream",
     "text": [
      "wrong shop\n",
      "shop649 : 1인삼겹오빠삼-중랑점\n",
      "1인삼겹오빠삼-중랑점 scroll\n",
      "1인삼겹오빠삼-중랑점 scroll\n",
      "1인삼겹오빠삼-중랑점 5.0 1\n"
     ]
    },
    {
     "name": "stderr",
     "output_type": "stream",
     "text": [
      "\r",
      "  9%|▉         | 5/55 [02:31<26:11, 31.43s/it]"
     ]
    },
    {
     "name": "stdout",
     "output_type": "stream",
     "text": [
      "shop650 : 달빛오징어광어-장안점\n",
      "달빛오징어광어-장안점 scroll\n",
      "달빛오징어광어-장안점 4.8 48\n"
     ]
    },
    {
     "name": "stderr",
     "output_type": "stream",
     "text": [
      "\r",
      " 11%|█         | 6/55 [03:17<29:09, 35.70s/it]"
     ]
    },
    {
     "name": "stdout",
     "output_type": "stream",
     "text": [
      "shop651 : 춘천터닭갈비-사가정본점\n",
      "춘천터닭갈비-사가정본점 scroll\n",
      "춘천터닭갈비-사가정본점 5.0 1\n"
     ]
    },
    {
     "name": "stderr",
     "output_type": "stream",
     "text": [
      "\r",
      " 13%|█▎        | 7/55 [04:01<30:35, 38.24s/it]"
     ]
    },
    {
     "name": "stdout",
     "output_type": "stream",
     "text": [
      "shop652 : 60계-전농점\n",
      "60계-전농점 scroll\n",
      "60계-전농점 4.6 658\n"
     ]
    },
    {
     "name": "stderr",
     "output_type": "stream",
     "text": [
      "\r",
      " 15%|█▍        | 8/55 [04:33<28:35, 36.50s/it]"
     ]
    },
    {
     "name": "stdout",
     "output_type": "stream",
     "text": [
      "shop653 : 명랑부대찌개-장안점\n",
      "명랑부대찌개-장안점 scroll\n"
     ]
    },
    {
     "name": "stderr",
     "output_type": "stream",
     "text": [
      "\r",
      " 16%|█▋        | 9/55 [05:01<26:00, 33.93s/it]"
     ]
    },
    {
     "name": "stdout",
     "output_type": "stream",
     "text": [
      "wrong shop\n",
      "shop654 : 미담\n",
      "미담 scroll\n",
      "미담 scroll\n",
      "미담 4.8 80\n"
     ]
    },
    {
     "name": "stderr",
     "output_type": "stream",
     "text": [
      "\r",
      " 18%|█▊        | 10/55 [05:46<27:47, 37.06s/it]"
     ]
    },
    {
     "name": "stdout",
     "output_type": "stream",
     "text": [
      "shop655 : 돈갓수제돈까스-장안점\n",
      "돈갓수제돈까스-장안점 scroll\n",
      "돈갓수제돈까스-장안점 4.7 57\n"
     ]
    },
    {
     "name": "stderr",
     "output_type": "stream",
     "text": [
      "\r",
      " 20%|██        | 11/55 [06:22<26:56, 36.74s/it]"
     ]
    },
    {
     "name": "stdout",
     "output_type": "stream",
     "text": [
      "shop656 : 일도식당\n",
      "일도식당 scroll\n",
      "일도식당 4.6 158\n"
     ]
    },
    {
     "name": "stderr",
     "output_type": "stream",
     "text": [
      "\r",
      " 22%|██▏       | 12/55 [06:34<20:58, 29.27s/it]"
     ]
    },
    {
     "name": "stdout",
     "output_type": "stream",
     "text": [
      "shop657 : XO핫도그\n",
      "XO핫도그 scroll\n",
      "XO핫도그 4.6 44\n"
     ]
    },
    {
     "name": "stderr",
     "output_type": "stream",
     "text": [
      "\r",
      " 24%|██▎       | 13/55 [06:52<18:08, 25.92s/it]"
     ]
    },
    {
     "name": "stdout",
     "output_type": "stream",
     "text": [
      "shop658 : 한명순도시락-본점\n",
      "한명순도시락-본점 scroll\n"
     ]
    },
    {
     "name": "stderr",
     "output_type": "stream",
     "text": [
      "\r",
      " 25%|██▌       | 14/55 [07:03<14:49, 21.68s/it]"
     ]
    },
    {
     "name": "stdout",
     "output_type": "stream",
     "text": [
      "wrong shop\n",
      "shop659 : 미스터카츠-경희대점\n",
      "미스터카츠-경희대점 scroll\n",
      "미스터카츠-경희대점 4.6 41\n"
     ]
    },
    {
     "name": "stderr",
     "output_type": "stream",
     "text": [
      "\r",
      " 27%|██▋       | 15/55 [07:23<14:06, 21.15s/it]"
     ]
    },
    {
     "name": "stdout",
     "output_type": "stream",
     "text": [
      "shop660 : 연어에빠지다\n",
      "연어에빠지다 scroll\n"
     ]
    },
    {
     "name": "stderr",
     "output_type": "stream",
     "text": [
      "\r",
      " 29%|██▉       | 16/55 [08:04<17:37, 27.12s/it]"
     ]
    },
    {
     "name": "stdout",
     "output_type": "stream",
     "text": [
      "wrong shop\n",
      "shop661 : 용표철판곱창\n",
      "용표철판곱창 scroll\n",
      "용표철판곱창 scroll\n",
      "리뷰가 없습니다\n"
     ]
    },
    {
     "name": "stderr",
     "output_type": "stream",
     "text": [
      "\r",
      " 31%|███       | 17/55 [08:48<20:16, 32.01s/it]"
     ]
    },
    {
     "name": "stdout",
     "output_type": "stream",
     "text": [
      "shop662 : 정글포차-용두점\n",
      "정글포차-용두점 scroll\n",
      "정글포차-용두점 4.2 6\n"
     ]
    },
    {
     "name": "stderr",
     "output_type": "stream",
     "text": [
      "\r",
      " 33%|███▎      | 18/55 [09:11<18:03, 29.28s/it]"
     ]
    },
    {
     "name": "stdout",
     "output_type": "stream",
     "text": [
      "shop663 : 광양석쇠불고기\n",
      "광양석쇠불고기 scroll\n",
      "광양석쇠불고기 4.4 32\n"
     ]
    },
    {
     "name": "stderr",
     "output_type": "stream",
     "text": [
      "\r",
      " 35%|███▍      | 19/55 [09:31<15:51, 26.42s/it]"
     ]
    },
    {
     "name": "stdout",
     "output_type": "stream",
     "text": [
      "shop664 : 푸짐해153\n",
      "푸짐해153 scroll\n"
     ]
    },
    {
     "name": "stderr",
     "output_type": "stream",
     "text": [
      "\r",
      " 36%|███▋      | 20/55 [10:07<17:08, 29.39s/it]"
     ]
    },
    {
     "name": "stdout",
     "output_type": "stream",
     "text": [
      "wrong shop\n",
      "shop665 : 헐피자\n",
      "헐피자 scroll\n",
      "헐피자 4.3 64\n"
     ]
    },
    {
     "name": "stderr",
     "output_type": "stream",
     "text": [
      "\r",
      " 38%|███▊      | 21/55 [10:18<13:29, 23.81s/it]"
     ]
    },
    {
     "name": "stdout",
     "output_type": "stream",
     "text": [
      "shop666 : 족발야시장-장안점\n",
      "족발야시장-장안점 scroll\n",
      "족발야시장-장안점 4.8 410\n"
     ]
    },
    {
     "name": "stderr",
     "output_type": "stream",
     "text": [
      "\r",
      " 40%|████      | 22/55 [10:31<11:22, 20.69s/it]"
     ]
    },
    {
     "name": "stdout",
     "output_type": "stream",
     "text": [
      "shop667 : 걸작떡볶이치킨-외대점\n",
      "걸작떡볶이치킨-외대점 scroll\n",
      "걸작떡볶이치킨-외대점 4.8 1854\n"
     ]
    },
    {
     "name": "stderr",
     "output_type": "stream",
     "text": [
      "\r",
      " 42%|████▏     | 23/55 [10:41<09:22, 17.58s/it]"
     ]
    },
    {
     "name": "stdout",
     "output_type": "stream",
     "text": [
      "shop668 : 혼밥연구소-본점\n",
      "혼밥연구소-본점 scroll\n"
     ]
    },
    {
     "name": "stderr",
     "output_type": "stream",
     "text": [
      "\r",
      " 44%|████▎     | 24/55 [11:08<10:28, 20.26s/it]"
     ]
    },
    {
     "name": "stdout",
     "output_type": "stream",
     "text": [
      "wrong shop\n",
      "shop669 : 동대문구가장맛있는석도치킨\n",
      "동대문구가장맛있는석도치킨 scroll\n",
      "리뷰가 없습니다\n"
     ]
    },
    {
     "name": "stderr",
     "output_type": "stream",
     "text": [
      "\r",
      " 45%|████▌     | 25/55 [11:20<08:51, 17.72s/it]"
     ]
    },
    {
     "name": "stdout",
     "output_type": "stream",
     "text": [
      "shop670 : 마장골뱅이&노가리\n",
      "마장골뱅이&노가리 scroll\n"
     ]
    },
    {
     "name": "stderr",
     "output_type": "stream",
     "text": [
      "\r",
      " 47%|████▋     | 26/55 [12:10<13:13, 27.37s/it]"
     ]
    },
    {
     "name": "stdout",
     "output_type": "stream",
     "text": [
      "wrong shop\n",
      "shop671 : 골뱅이시집가는날\n",
      "골뱅이시집가는날 scroll\n",
      "골뱅이시집가는날 scroll\n",
      "골뱅이시집가는날 4.2 181\n"
     ]
    },
    {
     "name": "stderr",
     "output_type": "stream",
     "text": [
      "\r",
      " 49%|████▉     | 27/55 [12:41<13:21, 28.63s/it]"
     ]
    },
    {
     "name": "stdout",
     "output_type": "stream",
     "text": [
      "shop672 : 만득이곱창-본점\n",
      "만득이곱창-본점 scroll\n",
      "만득이곱창-본점 4.7 481\n"
     ]
    },
    {
     "name": "stderr",
     "output_type": "stream",
     "text": [
      "\r",
      " 51%|█████     | 28/55 [12:59<11:28, 25.48s/it]"
     ]
    },
    {
     "name": "stdout",
     "output_type": "stream",
     "text": [
      "shop673 : 꼬꼬방집으로삼겹-장안점\n",
      "꼬꼬방집으로삼겹-장안점 scroll\n",
      "꼬꼬방집으로삼겹-장안점 4.9 15\n"
     ]
    },
    {
     "name": "stderr",
     "output_type": "stream",
     "text": [
      "\r",
      " 53%|█████▎    | 29/55 [13:32<11:59, 27.66s/it]"
     ]
    },
    {
     "name": "stdout",
     "output_type": "stream",
     "text": [
      "shop674 : 얼음골냉면-용두점\n",
      "얼음골냉면-용두점 scroll\n"
     ]
    },
    {
     "name": "stderr",
     "output_type": "stream",
     "text": [
      "\r",
      " 55%|█████▍    | 30/55 [14:12<13:02, 31.28s/it]"
     ]
    },
    {
     "name": "stdout",
     "output_type": "stream",
     "text": [
      "wrong shop\n",
      "shop675 : 오부장서민치킨-장안동점\n",
      "오부장서민치킨-장안동점 scroll\n",
      "오부장서민치킨-장안동점 scroll\n",
      "오부장서민치킨-장안동점 4.3 3\n"
     ]
    },
    {
     "name": "stderr",
     "output_type": "stream",
     "text": [
      "\r",
      " 56%|█████▋    | 31/55 [14:41<12:19, 30.82s/it]"
     ]
    },
    {
     "name": "stdout",
     "output_type": "stream",
     "text": [
      "shop676 : 영양맛갈비찜-석관점\n",
      "영양맛갈비찜-석관점 scroll\n",
      "영양맛갈비찜-석관점 4.6 295\n"
     ]
    },
    {
     "name": "stderr",
     "output_type": "stream",
     "text": [
      "\r",
      " 58%|█████▊    | 32/55 [14:56<09:59, 26.07s/it]"
     ]
    },
    {
     "name": "stdout",
     "output_type": "stream",
     "text": [
      "shop677 : 송가네낙지\n",
      "송가네낙지 scroll\n"
     ]
    },
    {
     "name": "stderr",
     "output_type": "stream",
     "text": [
      "\r",
      " 60%|██████    | 33/55 [15:13<08:31, 23.25s/it]"
     ]
    },
    {
     "name": "stdout",
     "output_type": "stream",
     "text": [
      "wrong shop\n",
      "shop678 : 오떡후-중랑점\n",
      "오떡후-중랑점 scroll\n",
      "오떡후-중랑점 4.8 429\n"
     ]
    },
    {
     "name": "stderr",
     "output_type": "stream",
     "text": [
      "\r",
      " 62%|██████▏   | 34/55 [15:30<07:28, 21.35s/it]"
     ]
    },
    {
     "name": "stdout",
     "output_type": "stream",
     "text": [
      "shop679 : 꼬지사께-서울전농점\n",
      "꼬지사께-서울전농점 scroll\n",
      "꼬지사께-서울전농점 4.9 110\n"
     ]
    },
    {
     "name": "stderr",
     "output_type": "stream",
     "text": [
      "\r",
      " 64%|██████▎   | 35/55 [16:18<09:45, 29.25s/it]"
     ]
    },
    {
     "name": "stdout",
     "output_type": "stream",
     "text": [
      "shop680 : 삼순이생고기\n",
      "삼순이생고기 scroll\n",
      "삼순이생고기 4.8 74\n"
     ]
    },
    {
     "name": "stderr",
     "output_type": "stream",
     "text": [
      "\r",
      " 65%|██████▌   | 36/55 [17:16<12:00, 37.90s/it]"
     ]
    },
    {
     "name": "stdout",
     "output_type": "stream",
     "text": [
      "shop681 : 당식당\n",
      "당식당 scroll\n"
     ]
    },
    {
     "name": "stderr",
     "output_type": "stream",
     "text": [
      "\r",
      " 67%|██████▋   | 37/55 [17:18<08:11, 27.31s/it]"
     ]
    },
    {
     "name": "stdout",
     "output_type": "stream",
     "text": [
      "wrong shop\n",
      "shop682 : 놀스캘리-초밥롤전문점\n",
      "놀스캘리-초밥롤전문점 scroll\n",
      "놀스캘리-초밥롤전문점 4.8 82\n"
     ]
    },
    {
     "name": "stderr",
     "output_type": "stream",
     "text": [
      "\r",
      " 69%|██████▉   | 38/55 [18:03<09:11, 32.42s/it]"
     ]
    },
    {
     "name": "stdout",
     "output_type": "stream",
     "text": [
      "shop683 : 팔당동동육개장-장한평점\n",
      "팔당동동육개장-장한평점 scroll\n"
     ]
    },
    {
     "name": "stderr",
     "output_type": "stream",
     "text": [
      "\r",
      " 71%|███████   | 39/55 [18:21<07:30, 28.14s/it]"
     ]
    },
    {
     "name": "stdout",
     "output_type": "stream",
     "text": [
      "wrong shop\n",
      "shop684 : 불밤매운오징어-면목점\n",
      "불밤매운오징어-면목점 scroll\n",
      "불밤매운오징어-면목점 4.1 9\n"
     ]
    },
    {
     "name": "stderr",
     "output_type": "stream",
     "text": [
      "\r",
      " 73%|███████▎  | 40/55 [18:46<06:48, 27.25s/it]"
     ]
    },
    {
     "name": "stdout",
     "output_type": "stream",
     "text": [
      "shop685 : 오돌이와불닭발-경희대점\n",
      "오돌이와불닭발-경희대점 scroll\n",
      "오돌이와불닭발-경희대점 4.4 15\n"
     ]
    },
    {
     "name": "stderr",
     "output_type": "stream",
     "text": [
      "\r",
      " 75%|███████▍  | 41/55 [19:03<05:36, 24.03s/it]"
     ]
    },
    {
     "name": "stdout",
     "output_type": "stream",
     "text": [
      "shop686 : 그릴오\n",
      "그릴오 scroll\n"
     ]
    },
    {
     "name": "stderr",
     "output_type": "stream",
     "text": [
      "\r",
      " 76%|███████▋  | 42/55 [19:05<03:48, 17.60s/it]"
     ]
    },
    {
     "name": "stdout",
     "output_type": "stream",
     "text": [
      "wrong shop\n",
      "shop687 : 곱창이빛나는밤愛\n",
      "곱창이빛나는밤愛 scroll\n",
      "곱창이빛나는밤愛 5.0 3\n"
     ]
    },
    {
     "name": "stderr",
     "output_type": "stream",
     "text": [
      "\r",
      " 78%|███████▊  | 43/55 [20:07<06:10, 30.91s/it]"
     ]
    },
    {
     "name": "stdout",
     "output_type": "stream",
     "text": [
      "shop688 : 강금옥쭈꾸미\n",
      "강금옥쭈꾸미 scroll\n",
      "강금옥쭈꾸미 4.8 288\n"
     ]
    },
    {
     "name": "stderr",
     "output_type": "stream",
     "text": [
      "\r",
      " 80%|████████  | 44/55 [20:22<04:47, 26.12s/it]"
     ]
    },
    {
     "name": "stdout",
     "output_type": "stream",
     "text": [
      "shop689 : 무이리꼬냉면돈가스만두\n",
      "무이리꼬냉면돈가스만두 scroll\n",
      "무이리꼬냉면돈가스만두 4.4 47\n"
     ]
    },
    {
     "name": "stderr",
     "output_type": "stream",
     "text": [
      "\r",
      " 82%|████████▏ | 45/55 [20:48<04:20, 26.09s/it]"
     ]
    },
    {
     "name": "stdout",
     "output_type": "stream",
     "text": [
      "shop690 : 피씨나인쿡\n",
      "피씨나인쿡 scroll\n",
      "리뷰가 없습니다\n"
     ]
    },
    {
     "name": "stderr",
     "output_type": "stream",
     "text": [
      "\r",
      " 84%|████████▎ | 46/55 [21:30<04:37, 30.88s/it]"
     ]
    },
    {
     "name": "stdout",
     "output_type": "stream",
     "text": [
      "shop691 : 핫도그방\n",
      "핫도그방 scroll\n",
      "핫도그방 4.0 2\n"
     ]
    },
    {
     "name": "stderr",
     "output_type": "stream",
     "text": [
      "\r",
      " 85%|████████▌ | 47/55 [22:13<04:35, 34.48s/it]"
     ]
    },
    {
     "name": "stdout",
     "output_type": "stream",
     "text": [
      "shop692 : 고기롭다\n",
      "고기롭다 scroll\n",
      "고기롭다 5.0 1\n"
     ]
    },
    {
     "name": "stderr",
     "output_type": "stream",
     "text": [
      "\r",
      " 87%|████████▋ | 48/55 [22:41<03:46, 32.39s/it]"
     ]
    },
    {
     "name": "stdout",
     "output_type": "stream",
     "text": [
      "shop693 : 여수횟집\n",
      "여수횟집 scroll\n"
     ]
    },
    {
     "name": "stderr",
     "output_type": "stream",
     "text": [
      "\r",
      " 89%|████████▉ | 49/55 [22:43<02:20, 23.44s/it]"
     ]
    },
    {
     "name": "stdout",
     "output_type": "stream",
     "text": [
      "wrong shop\n",
      "shop694 : 장수설렁탕장수면옥\n",
      "장수설렁탕장수면옥 scroll\n",
      "리뷰가 없습니다\n"
     ]
    },
    {
     "name": "stderr",
     "output_type": "stream",
     "text": [
      "\r",
      " 91%|█████████ | 50/55 [23:36<02:41, 32.32s/it]"
     ]
    },
    {
     "name": "stdout",
     "output_type": "stream",
     "text": [
      "shop695 : 장안동-닭으로가\n",
      "장안동-닭으로가 scroll\n"
     ]
    },
    {
     "name": "stderr",
     "output_type": "stream",
     "text": [
      "\r",
      " 93%|█████████▎| 51/55 [23:40<01:35, 23.85s/it]"
     ]
    },
    {
     "name": "stdout",
     "output_type": "stream",
     "text": [
      "wrong shop\n",
      "shop696 : 이디야커피-경희대점\n",
      "이디야커피-경희대점 scroll\n",
      "이디야커피-경희대점 4.8 99\n"
     ]
    },
    {
     "name": "stderr",
     "output_type": "stream",
     "text": [
      "\r",
      " 95%|█████████▍| 52/55 [24:13<01:19, 26.59s/it]"
     ]
    },
    {
     "name": "stdout",
     "output_type": "stream",
     "text": [
      "shop697 : 손가네쌈밥갈비\n",
      "손가네쌈밥갈비 scroll\n"
     ]
    },
    {
     "name": "stderr",
     "output_type": "stream",
     "text": [
      "\r",
      " 96%|█████████▋| 53/55 [24:41<00:54, 27.03s/it]"
     ]
    },
    {
     "name": "stdout",
     "output_type": "stream",
     "text": [
      "wrong shop\n",
      "shop698 : 파파존스피자-장안점\n",
      "파파존스피자-장안점 scroll\n",
      "파파존스피자-장안점 scroll\n",
      "파파존스피자-장안점 4.8 73\n"
     ]
    },
    {
     "name": "stderr",
     "output_type": "stream",
     "text": [
      "\r",
      " 98%|█████████▊| 54/55 [25:21<00:30, 30.94s/it]"
     ]
    },
    {
     "name": "stdout",
     "output_type": "stream",
     "text": [
      "shop699 : 큐데이블디저트카페\n",
      "큐데이블디저트카페 scroll\n",
      "큐데이블디저트카페 5.0 128\n"
     ]
    },
    {
     "name": "stderr",
     "output_type": "stream",
     "text": [
      "100%|██████████| 55/55 [25:46<00:00, 28.12s/it]\n"
     ]
    }
   ],
   "source": [
    "start=645\n",
    "end=700\n",
    "#end=len(shops_list)\n",
    "\n",
    "# shops=[]\n",
    "# notices=[]\n",
    "# stars=[]\n",
    "# review_cnts=[]\n",
    "driver.quit()\n",
    "driver=driver_start(university)\n",
    "time.sleep(2)\n",
    "#전체보기로 이동\n",
    "driver.find_element_by_xpath(f'//*[@id=\"category\"]/ul/li[2]/span').click()\n",
    "time.sleep(2)\n",
    "for i in tqdm(range(start,end)):\n",
    "    shop=shops_list[i]\n",
    "    print(f'shop{i} : {shop}')\n",
    "    #음식점 있는 곳까지 스크롤\n",
    "    go_stop=scroll_element(shop)\n",
    "    if go_stop:\n",
    "        #스크롤 했는데 음식점 없으면 다음으로 넘어감\n",
    "        print('wrong shop')\n",
    "        continue\n",
    "        \n",
    "    time.sleep(3)\n",
    "    \n",
    "    #찾은 음식점 클릭\n",
    "    try:\n",
    "        driver.find_element_by_xpath(f'//*[@title=\"{shop}\"]').click()\n",
    "    except (Exception, NoSuchElementException, ElementClickInterceptedException):\n",
    "        driver.quit()\n",
    "        driver=driver_start(university)\n",
    "        time.sleep(2)\n",
    "        scroll_element(shop)\n",
    "        time.sleep(3)\n",
    "        driver.find_element_by_xpath(f'//*[@title=\"{shop}\"]').click()\n",
    "    time.sleep(3)\n",
    "    \n",
    "    #식당의 리뷰가 없으면 넘어감\n",
    "    review_cnt=driver.find_element_by_xpath('//*[@id=\"content\"]/div[2]/div[1]/ul/li[2]/a/span').text\n",
    "    if review_cnt=='0':\n",
    "        print('리뷰가 없습니다')\n",
    "        driver.back()\n",
    "        time.sleep(2)\n",
    "        continue\n",
    "    \n",
    "    star,notice=craw(shop,driver)\n",
    "    shops.append(shop)\n",
    "    stars.append(star)\n",
    "    review_cnts.append(review_cnt)\n",
    "    print(shop,star,review_cnt)\n",
    "    notices.append(notice)\n",
    "    driver.back()\n",
    "    time.sleep(2)\n",
    "    \n",
    "df=pd.DataFrame({'shop':shops,'star':stars,'review_cnt':review_cnts,'notice':notices})"
   ]
  },
  {
   "cell_type": "code",
   "execution_count": 15,
   "metadata": {},
   "outputs": [],
   "source": [
    "df.to_csv(path+'uos_shop1.csv')"
   ]
  }
 ],
 "metadata": {
  "kernelspec": {
   "display_name": "Python 3",
   "language": "python",
   "name": "python3"
  },
  "language_info": {
   "codemirror_mode": {
    "name": "ipython",
    "version": 3
   },
   "file_extension": ".py",
   "mimetype": "text/x-python",
   "name": "python",
   "nbconvert_exporter": "python",
   "pygments_lexer": "ipython3",
   "version": "3.8.5"
  }
 },
 "nbformat": 4,
 "nbformat_minor": 4
}
