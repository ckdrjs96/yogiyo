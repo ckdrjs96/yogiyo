{
 "cells": [
  {
   "cell_type": "code",
   "execution_count": 1,
   "metadata": {},
   "outputs": [],
   "source": [
    "from selenium import webdriver\n",
    "from bs4 import BeautifulSoup\n",
    "from selenium.webdriver.support.ui import WebDriverWait\n",
    "from selenium.webdriver.support import expected_conditions as EC\n",
    "from selenium.webdriver.common.by import By\n",
    "import pandas as pd\n",
    "import time\n",
    "from urllib.request import urlretrieve\n",
    "from tqdm import tqdm\n",
    "import os,csv\n",
    "from selenium.common.exceptions import NoSuchElementException, ElementClickInterceptedException"
   ]
  },
  {
   "cell_type": "code",
   "execution_count": 2,
   "metadata": {},
   "outputs": [],
   "source": [
    "def driver_start(university):\n",
    "    chrome_options = webdriver.ChromeOptions() \n",
    "    chrome_options.add_argument('--headless')#창없이 실행\n",
    "    chrome_options.add_argument('--no-sandbox')\n",
    "    chrome_options.add_argument('--disable-dev-shm-usage')\n",
    "\n",
    "    path=r'/data/chromedriver'\n",
    "    driver = webdriver.Chrome(executable_path=path,chrome_options=chrome_options)\n",
    "    driver.set_window_size(1024,1000)\n",
    "\n",
    "    url = \"https://www.yogiyo.co.kr/mobile/#/\"\n",
    "    driver.get(url)\n",
    "    time.sleep(1)\n",
    "    driver.find_element_by_xpath('//*[@id=\"search\"]/div/form/input').clear()\n",
    "    driver.find_element_by_xpath('//*[@id=\"search\"]/div/form/input').send_keys(university)\n",
    "    driver.find_element_by_xpath('//*[@id=\"button_search_address\"]/button[2]').click()\n",
    "    time.sleep(1)\n",
    "    \n",
    "    return driver"
   ]
  },
  {
   "cell_type": "code",
   "execution_count": 3,
   "metadata": {},
   "outputs": [],
   "source": [
    "def scroll_element(shop):#음식점이 있는 곳까지 스크롤\n",
    "    print(f\"{shop} scroll\")\n",
    "    while True:\n",
    "        last_height = driver.execute_script(\"return document.body.scrollHeight\")\n",
    "        try:\n",
    "            some_tag = driver.find_element_by_xpath(f'//*[@title=\"{shop}\"]')\n",
    "            if some_tag:\n",
    "                return False\n",
    "        except Exception:\n",
    "            driver.execute_script(\"window.scrollTo(0, document.body.scrollHeight);\")\n",
    "            time.sleep(1)\n",
    "            new_height = driver.execute_script(\"return document.body.scrollHeight\")\n",
    "            if new_height == last_height: #끝까지 스크롤후 해당 음식점이 없으면 종료 \n",
    "                return True\n",
    "            last_height = new_height\n",
    "            time.sleep(0.5)"
   ]
  },
  {
   "cell_type": "code",
   "execution_count": 4,
   "metadata": {},
   "outputs": [],
   "source": [
    "def stretch_review_page(review_cnt):\n",
    "    #클린리뷰에서 제일 아랫부분까지 열기\n",
    "    click_count = int((review_cnt/10))\n",
    "    print('모든 리뷰 불러오기 시작...')\n",
    "    for _ in range(click_count):\n",
    "        try:\n",
    "            driver.execute_script(\"window.scrollTo(0,document.body.scrollHeight);\")\n",
    "            driver.find_element_by_class_name('btn-more').click()\n",
    "            time.sleep(2)\n",
    "        except Exception as e:\n",
    "            pass\n",
    "    driver.execute_script(\"window.scrollTo(0,document.body.scrollHeight);\")\n",
    "    print('모든 리뷰 불러오기 완료!')"
   ]
  },
  {
   "cell_type": "code",
   "execution_count": 5,
   "metadata": {},
   "outputs": [],
   "source": [
    "def craw(i,shop,driver,col_list,cata):\n",
    "    #클린리뷰클릭\n",
    "    try:\n",
    "        driver.find_element_by_xpath('//*[@id=\"content\"]/div[2]/div[1]/ul/li[2]').click()\n",
    "    except Exception:\n",
    "        driver.quit()\n",
    "        driver=driver_start(university)\n",
    "        time.sleep(3)\n",
    "        scroll_element(shop)\n",
    "        #driver.find_element_by_xpath(f'//*[@title=\"{shop_in[i]}\"]').click()\n",
    "        time.sleep(3)\n",
    "        driver.find_element_by_xpath(f'//*[@title=\"{shop}\"]').click()\n",
    "        time.sleep(3)\n",
    "        driver.find_element_by_xpath('//*[@id=\"content\"]/div[2]/div[1]/ul/li[2]').click()\n",
    "    \n",
    "    time.sleep(2)\n",
    "    review_cnt=driver.find_element_by_xpath('//*[@id=\"content\"]/div[2]/div[1]/ul/li[2]/a/span').text\n",
    "    review_cnt=int(review_cnt)\n",
    "\n",
    "    print(shop, review_cnt)\n",
    "    \n",
    "    if review_cnt==0: #리뷰없으면 종료\n",
    "        print(0)\n",
    "        return\n",
    "    \n",
    "    stretch_review_page(review_cnt)\n",
    "        \n",
    "    html = driver.page_source\n",
    "    soup = BeautifulSoup(html, 'html.parser')\n",
    "\n",
    "    b=soup.find_all('li',{'class':'list-group-item star-point ng-scope'})\n",
    "    \n",
    "    tot_star_list=[]\n",
    "    name_list,date_list,star_flavor_list,star_volume_list,star_deliver_list=[],[],[],[],[]\n",
    "    menu_list,review_customer_list,review_owner_list,img_name_list=[],[],[],[]\n",
    "    for i in tqdm(range(len(b)),desc='save..',mininterval=3):\n",
    "        now=b[i]\n",
    "        name=now.find('span',{'ng-show':\"review.phone\"}).text\n",
    "        name_list.append(name)\n",
    "        date=now.find('span',{'ng-bind':\"review.time|since\"}).text\n",
    "        date_list.append(date)\n",
    "        \n",
    "        try:\n",
    "            star=now.find_all('span',{'class':\"points ng-binding\"})\n",
    "        except IndexError:\n",
    "            print(f'{i}th review, none star')\n",
    "            continue\n",
    "        \n",
    "        \n",
    "        try:\n",
    "            tot_star=len(now.find_all('span',{'class':\"full ng-scope\"}))\n",
    "        except IndexError:\n",
    "            print(f'{i}th review, none star')\n",
    "            continue\n",
    "        tot_star_list.append(tot_star)\n",
    "        \n",
    "        try:\n",
    "            star_flavor=star[0].text\n",
    "        except IndexError:\n",
    "            star_flavor=None\n",
    "        star_flavor_list.append(star_flavor)\n",
    "        \n",
    "        try:\n",
    "            star_volume=star[1].text\n",
    "        except IndexError:\n",
    "            star_volume=None\n",
    "        star_volume_list.append(star_volume)\n",
    "\n",
    "        try:\n",
    "            star_deliver=star[2].text\n",
    "        except IndexError:\n",
    "            star_deliver=None\n",
    "            pass\n",
    "        star_deliver_list.append(star_deliver)\n",
    "            \n",
    "        menu=now.find(\"div\",{\"class\":\"order-items default ng-binding\"}).text.strip()\n",
    "        menu_list.append(menu)\n",
    "        review_customer=now.find(\"p\",{\"class\":\"ng-binding\"}).text\n",
    "        review_customer_list.append(review_customer)\n",
    "\n",
    "    \n",
    "        try:\n",
    "            review_owner=now.find(\"p\",{\"ng-bind-html\":\"review.owner_reply.comment|strip_html\"}).text\n",
    "        except AttributeError:\n",
    "            review_owner=None\n",
    "        review_owner_list.append(review_owner)\n",
    "        try:\n",
    "            img_urls=now.find_all('img')\n",
    "        except TypeError:\n",
    "            img_names=None\n",
    "        else:\n",
    "            img_names=[]\n",
    "            for idx in range(len(img_urls)):\n",
    "                img_name=shop+'_'+str(i)+'_'+str(idx)\n",
    "                path=f'/data/yogiyo/pr_data/khu/cata{cata}/{shop}'\n",
    "                img_url=img_urls[idx]['src']\n",
    "                if not os.path.isdir(path):\n",
    "                    os.mkdir(path)\n",
    "                try:\n",
    "                    urlretrieve(img_url,path+'/'+img_name+'.jpg')\n",
    "                except requests.exceptions.SSLError or URLError:\n",
    "                    pass\n",
    "                img_names.append(img_name)\n",
    "        img_name_list.append(img_names)\n",
    "                \n",
    "    #new=pd.DataFrame([[shop,name,date,star_flavor,star_volume,star_deliver,menu,review_customer,review_owner,img_name]],columns=col_list)\n",
    "    data={'shop':shop,'name':name_list,'date':date_list,'tot_star':tot_star_list,\n",
    "          'star_flavor':star_flavor_list,'star_volume':star_volume_list,\n",
    "         'star_deliver':star_deliver_list,'menu':menu_list,'review_customer':review_customer_list,\n",
    "          'review_owner':review_owner_list,'img_name':img_name_list}\n",
    "    new=pd.DataFrame(data)\n",
    "\n",
    "    return new"
   ]
  },
  {
   "cell_type": "code",
   "execution_count": 6,
   "metadata": {},
   "outputs": [],
   "source": [
    "path='/data/yogiyo/pr_data/khu/'\n",
    "university='서울특별시 동대문구 회기동 36-3 경희대학교'\n",
    "uni_shop=pd.read_csv(path+'khu_shop.csv')"
   ]
  },
  {
   "cell_type": "code",
   "execution_count": 7,
   "metadata": {},
   "outputs": [
    {
     "data": {
      "text/plain": [
       "4    818\n",
       "0    260\n",
       "3     86\n",
       "1     72\n",
       "2     71\n",
       "Name: catagory, dtype: int64"
      ]
     },
     "execution_count": 7,
     "metadata": {},
     "output_type": "execute_result"
    }
   ],
   "source": [
    "uni_shop.catagory.value_counts()"
   ]
  },
  {
   "cell_type": "code",
   "execution_count": 8,
   "metadata": {},
   "outputs": [
    {
     "name": "stderr",
     "output_type": "stream",
     "text": [
      "<ipython-input-2-bb62db29bb57>:8: DeprecationWarning: use options instead of chrome_options\n",
      "  driver = webdriver.Chrome(executable_path=path,chrome_options=chrome_options)\n",
      "craw:   0%|          | 0/300 [00:00<?, ?it/s]"
     ]
    },
    {
     "name": "stdout",
     "output_type": "stream",
     "text": [
      "맘스터치-경희대로점 scroll\n",
      "맘스터치-경희대로점 58\n",
      "모든 리뷰 불러오기 시작...\n",
      "모든 리뷰 불러오기 완료!\n"
     ]
    },
    {
     "name": "stderr",
     "output_type": "stream",
     "text": [
      "\n",
      "save..: 100%|██████████| 58/58 [00:01<00:00, 44.85it/s]\n"
     ]
    },
    {
     "name": "stdout",
     "output_type": "stream",
     "text": [
      "(58, 11)\n"
     ]
    },
    {
     "name": "stderr",
     "output_type": "stream",
     "text": [
      "\r",
      "craw:   0%|          | 1/300 [01:04<5:20:59, 64.41s/it]"
     ]
    },
    {
     "name": "stdout",
     "output_type": "stream",
     "text": [
      "이디야커피-회기역점 scroll\n",
      "이디야커피-회기역점 32\n",
      "모든 리뷰 불러오기 시작...\n",
      "모든 리뷰 불러오기 완료!\n"
     ]
    },
    {
     "name": "stderr",
     "output_type": "stream",
     "text": [
      "\n",
      "save..: 100%|██████████| 32/32 [00:00<00:00, 45.22it/s]\n"
     ]
    },
    {
     "name": "stdout",
     "output_type": "stream",
     "text": [
      "(90, 11)\n"
     ]
    },
    {
     "name": "stderr",
     "output_type": "stream",
     "text": [
      "\r",
      "craw:   1%|          | 2/300 [01:44<4:43:41, 57.12s/it]"
     ]
    },
    {
     "name": "stdout",
     "output_type": "stream",
     "text": [
      "자담치킨-이문점 scroll\n",
      "자담치킨-이문점 1398\n",
      "모든 리뷰 불러오기 시작...\n",
      "모든 리뷰 불러오기 완료!\n"
     ]
    },
    {
     "name": "stderr",
     "output_type": "stream",
     "text": [
      "\n",
      "save..:   0%|          | 0/1398 [00:00<?, ?it/s]\u001b[A\n",
      "save..:   2%|▏         | 31/1398 [00:03<02:22,  9.61it/s]\u001b[A\n",
      "save..:   5%|▍         | 64/1398 [00:06<02:16,  9.77it/s]\u001b[A\n",
      "save..:   8%|▊         | 105/1398 [00:09<02:01, 10.66it/s]\u001b[A\n",
      "save..:  10%|█         | 143/1398 [00:12<01:52, 11.18it/s]\u001b[A\n",
      "save..:  12%|█▏        | 171/1398 [00:16<02:03,  9.95it/s]\u001b[A\n",
      "save..:  14%|█▍        | 198/1398 [00:19<02:05,  9.60it/s]\u001b[A\n",
      "save..:  17%|█▋        | 231/1398 [00:22<01:57,  9.96it/s]\u001b[A\n",
      "save..:  20%|█▉        | 277/1398 [00:25<01:41, 11.07it/s]\u001b[A\n",
      "save..:  23%|██▎       | 316/1398 [00:28<01:33, 11.57it/s]\u001b[A\n",
      "save..:  26%|██▌       | 359/1398 [00:31<01:25, 12.17it/s]\u001b[A\n",
      "save..:  28%|██▊       | 396/1398 [00:35<01:35, 10.48it/s]\u001b[A\n",
      "save..:  31%|███       | 429/1398 [00:40<01:44,  9.24it/s]\u001b[A\n",
      "save..:  34%|███▎      | 469/1398 [00:43<01:32, 10.07it/s]\u001b[A\n",
      "save..:  37%|███▋      | 518/1398 [00:46<01:17, 11.33it/s]\u001b[A\n",
      "save..:  40%|████      | 565/1398 [00:49<01:07, 12.25it/s]\u001b[A\n",
      "save..:  40%|████      | 565/1398 [01:07<01:07, 12.25it/s]\u001b[A\n",
      "save..:  41%|████      | 573/1398 [03:01<1:08:33,  4.99s/it]\u001b[A\n",
      "save..:  44%|████▍     | 613/1398 [03:04<45:57,  3.51s/it]  \u001b[A\n",
      "save..:  47%|████▋     | 659/1398 [03:07<30:31,  2.48s/it]\u001b[A\n",
      "save..:  51%|█████     | 715/1398 [03:10<19:56,  1.75s/it]\u001b[A\n",
      "save..:  54%|█████▍    | 755/1398 [03:13<13:23,  1.25s/it]\u001b[A\n",
      "save..:  59%|█████▉    | 826/1398 [03:16<08:27,  1.13it/s]\u001b[A\n",
      "save..:  66%|██████▌   | 924/1398 [03:19<04:58,  1.59it/s]\u001b[A\n",
      "save..:  71%|███████▏  | 997/1398 [03:22<03:01,  2.20it/s]\u001b[A\n",
      "save..:  71%|███████▏  | 997/1398 [03:37<03:01,  2.20it/s]\u001b[A\n",
      "save..:  75%|███████▌  | 1054/1398 [05:37<05:52,  1.03s/it]\u001b[A\n",
      "save..:  75%|███████▌  | 1054/1398 [05:47<05:52,  1.03s/it]\u001b[A\n",
      "save..:  76%|███████▌  | 1056/1398 [07:48<1:56:08, 20.37s/it]\u001b[A\n",
      "save..:  81%|████████  | 1134/1398 [07:51<1:02:48, 14.27s/it]\u001b[A\n",
      "save..:  90%|█████████ | 1262/1398 [07:54<22:39, 10.00s/it]  \u001b[A\n",
      "save..: 100%|██████████| 1398/1398 [07:58<00:00,  2.92it/s]\u001b[A\n"
     ]
    },
    {
     "name": "stdout",
     "output_type": "stream",
     "text": [
      "(1488, 11)\n"
     ]
    },
    {
     "name": "stderr",
     "output_type": "stream",
     "text": [
      "\r",
      "craw:   1%|          | 3/300 [15:43<24:03:57, 291.71s/it]"
     ]
    },
    {
     "name": "stdout",
     "output_type": "stream",
     "text": [
      "1인불향쭈꾸미&낙지-동대문점 scroll\n",
      "1인불향쭈꾸미&낙지-동대문점 24\n",
      "모든 리뷰 불러오기 시작...\n"
     ]
    },
    {
     "name": "stderr",
     "output_type": "stream",
     "text": [
      "\n",
      "save..:   0%|          | 0/24 [00:00<?, ?it/s]\u001b[A"
     ]
    },
    {
     "name": "stdout",
     "output_type": "stream",
     "text": [
      "모든 리뷰 불러오기 완료!\n"
     ]
    },
    {
     "name": "stderr",
     "output_type": "stream",
     "text": [
      "\n",
      "save..: 100%|██████████| 24/24 [02:12<00:00,  5.52s/it][A\n"
     ]
    },
    {
     "name": "stdout",
     "output_type": "stream",
     "text": [
      "(1512, 11)\n"
     ]
    },
    {
     "name": "stderr",
     "output_type": "stream",
     "text": [
      "\r",
      "craw:   1%|▏         | 4/300 [18:13<20:29:40, 249.26s/it]"
     ]
    },
    {
     "name": "stdout",
     "output_type": "stream",
     "text": [
      "우리식당-용두점 scroll\n"
     ]
    },
    {
     "name": "stderr",
     "output_type": "stream",
     "text": [
      "\n",
      "save..:   0%|          | 0/2 [00:00<?, ?it/s]\u001b[A"
     ]
    },
    {
     "name": "stdout",
     "output_type": "stream",
     "text": [
      "우리식당-용두점 2\n",
      "모든 리뷰 불러오기 시작...\n",
      "모든 리뷰 불러오기 완료!\n"
     ]
    },
    {
     "name": "stderr",
     "output_type": "stream",
     "text": [
      "save..: 100%|██████████| 2/2 [00:00<00:00,  5.10it/s]\n"
     ]
    },
    {
     "name": "stdout",
     "output_type": "stream",
     "text": [
      "(1514, 11)\n"
     ]
    },
    {
     "name": "stderr",
     "output_type": "stream",
     "text": [
      "\r",
      "craw:   2%|▏         | 5/300 [18:50<15:11:33, 185.40s/it]"
     ]
    },
    {
     "name": "stdout",
     "output_type": "stream",
     "text": [
      "라포(Rapport) scroll\n",
      "라포(Rapport) 28\n",
      "모든 리뷰 불러오기 시작...\n",
      "모든 리뷰 불러오기 완료!\n"
     ]
    },
    {
     "name": "stderr",
     "output_type": "stream",
     "text": [
      "\n",
      "save..: 100%|██████████| 28/28 [00:02<00:00, 10.30it/s]\n"
     ]
    },
    {
     "name": "stdout",
     "output_type": "stream",
     "text": [
      "(1542, 11)\n"
     ]
    },
    {
     "name": "stderr",
     "output_type": "stream",
     "text": [
      "\r",
      "craw:   2%|▏         | 6/300 [19:12<11:08:24, 136.41s/it]"
     ]
    },
    {
     "name": "stdout",
     "output_type": "stream",
     "text": [
      "정영진허브영양족발 scroll\n",
      "정영진허브영양족발 21\n",
      "모든 리뷰 불러오기 시작...\n"
     ]
    },
    {
     "name": "stderr",
     "output_type": "stream",
     "text": [
      "\n",
      "save..:   0%|          | 0/21 [00:00<?, ?it/s]\u001b[A"
     ]
    },
    {
     "name": "stdout",
     "output_type": "stream",
     "text": [
      "모든 리뷰 불러오기 완료!\n"
     ]
    },
    {
     "name": "stderr",
     "output_type": "stream",
     "text": [
      "save..: 100%|██████████| 21/21 [00:02<00:00,  8.95it/s]\n"
     ]
    },
    {
     "name": "stdout",
     "output_type": "stream",
     "text": [
      "(1563, 11)\n"
     ]
    },
    {
     "name": "stderr",
     "output_type": "stream",
     "text": [
      "\r",
      "craw:   2%|▏         | 7/300 [19:33<8:17:46, 101.93s/it] "
     ]
    },
    {
     "name": "stdout",
     "output_type": "stream",
     "text": [
      "1인식탁-청량리점 scroll\n"
     ]
    },
    {
     "name": "stderr",
     "output_type": "stream",
     "text": [
      "\r",
      "craw:   3%|▎         | 8/300 [19:48<6:09:20, 75.89s/it] "
     ]
    },
    {
     "name": "stdout",
     "output_type": "stream",
     "text": [
      "wrong shop\n",
      "deartable-본점 scroll\n",
      "deartable-본점 13\n",
      "모든 리뷰 불러오기 시작...\n"
     ]
    },
    {
     "name": "stderr",
     "output_type": "stream",
     "text": [
      "\n",
      "save..:   0%|          | 0/13 [00:00<?, ?it/s]\u001b[A"
     ]
    },
    {
     "name": "stdout",
     "output_type": "stream",
     "text": [
      "모든 리뷰 불러오기 완료!\n"
     ]
    },
    {
     "name": "stderr",
     "output_type": "stream",
     "text": [
      "save..: 100%|██████████| 13/13 [00:00<00:00, 20.69it/s]\n"
     ]
    },
    {
     "name": "stdout",
     "output_type": "stream",
     "text": [
      "(1576, 11)\n"
     ]
    },
    {
     "name": "stderr",
     "output_type": "stream",
     "text": [
      "\r",
      "craw:   3%|▎         | 9/300 [20:33<5:22:43, 66.54s/it]"
     ]
    },
    {
     "name": "stdout",
     "output_type": "stream",
     "text": [
      "보쌈하다-장안점 scroll\n"
     ]
    },
    {
     "name": "stderr",
     "output_type": "stream",
     "text": [
      "\n",
      "save..: 100%|██████████| 1/1 [00:00<00:00, 10.10it/s]"
     ]
    },
    {
     "name": "stdout",
     "output_type": "stream",
     "text": [
      "보쌈하다-장안점 1\n",
      "모든 리뷰 불러오기 시작...\n",
      "모든 리뷰 불러오기 완료!\n",
      "(1577, 11)\n"
     ]
    },
    {
     "name": "stderr",
     "output_type": "stream",
     "text": [
      "\n",
      "craw:   3%|▎         | 10/300 [21:22<4:55:45, 61.19s/it]"
     ]
    },
    {
     "name": "stdout",
     "output_type": "stream",
     "text": [
      "코리엔탈깻잎두마리치킨-석계점 scroll\n",
      "코리엔탈깻잎두마리치킨-석계점 737\n",
      "모든 리뷰 불러오기 시작...\n",
      "모든 리뷰 불러오기 완료!\n"
     ]
    },
    {
     "name": "stderr",
     "output_type": "stream",
     "text": [
      "\n",
      "save..:   0%|          | 0/737 [00:00<?, ?it/s]\u001b[A\n",
      "save..:   6%|▋         | 47/737 [00:03<00:45, 15.33it/s]\u001b[A\n",
      "save..:  15%|█▍        | 110/737 [00:06<00:37, 16.67it/s]\u001b[A\n",
      "save..:  23%|██▎       | 173/737 [00:09<00:31, 17.75it/s]\u001b[A\n",
      "save..:  29%|██▉       | 212/737 [00:12<00:33, 15.82it/s]\u001b[A\n",
      "save..:  34%|███▍      | 251/737 [00:15<00:33, 14.53it/s]\u001b[A\n",
      "save..:  40%|████      | 297/737 [00:18<00:30, 14.63it/s]\u001b[A\n",
      "save..:  47%|████▋     | 348/737 [00:21<00:25, 15.26it/s]\u001b[A\n",
      "save..:  53%|█████▎    | 392/737 [00:24<00:24, 14.35it/s]\u001b[A\n",
      "save..:  59%|█████▉    | 434/737 [00:28<00:21, 14.13it/s]\u001b[A\n",
      "save..:  65%|██████▌   | 482/737 [00:31<00:17, 14.58it/s]\u001b[A\n",
      "save..:  72%|███████▏  | 533/737 [00:34<00:13, 15.11it/s]\u001b[A\n",
      "save..:  80%|███████▉  | 588/737 [00:37<00:09, 15.95it/s]\u001b[A\n",
      "save..: 100%|██████████| 737/737 [00:43<00:00, 17.07it/s]\u001b[A\n"
     ]
    },
    {
     "name": "stdout",
     "output_type": "stream",
     "text": [
      "(2314, 11)\n"
     ]
    },
    {
     "name": "stderr",
     "output_type": "stream",
     "text": [
      "\r",
      "craw:   4%|▎         | 11/300 [24:57<8:36:59, 107.33s/it]"
     ]
    },
    {
     "name": "stdout",
     "output_type": "stream",
     "text": [
      "카페브레맨 scroll\n"
     ]
    },
    {
     "name": "stderr",
     "output_type": "stream",
     "text": [
      "\n",
      "save..:   0%|          | 0/3 [00:00<?, ?it/s]\u001b[A"
     ]
    },
    {
     "name": "stdout",
     "output_type": "stream",
     "text": [
      "카페브레맨 3\n",
      "모든 리뷰 불러오기 시작...\n",
      "모든 리뷰 불러오기 완료!\n"
     ]
    },
    {
     "name": "stderr",
     "output_type": "stream",
     "text": [
      "\n",
      "save..: 100%|██████████| 3/3 [02:09<00:00, 43.30s/it] \u001b[A\n"
     ]
    },
    {
     "name": "stdout",
     "output_type": "stream",
     "text": [
      "(2317, 11)\n"
     ]
    },
    {
     "name": "stderr",
     "output_type": "stream",
     "text": [
      "\r",
      "craw:   4%|▍         | 12/300 [27:41<9:57:16, 124.43s/it]"
     ]
    },
    {
     "name": "stdout",
     "output_type": "stream",
     "text": [
      "맛집옛날통닭-경희대점 scroll\n",
      "맛집옛날통닭-경희대점 40\n",
      "모든 리뷰 불러오기 시작...\n"
     ]
    },
    {
     "name": "stderr",
     "output_type": "stream",
     "text": [
      "\n",
      "save..:   0%|          | 0/40 [00:00<?, ?it/s]\u001b[A"
     ]
    },
    {
     "name": "stdout",
     "output_type": "stream",
     "text": [
      "모든 리뷰 불러오기 완료!\n"
     ]
    },
    {
     "name": "stderr",
     "output_type": "stream",
     "text": [
      "save..: 100%|██████████| 40/40 [00:01<00:00, 34.56it/s]\n"
     ]
    },
    {
     "name": "stdout",
     "output_type": "stream",
     "text": [
      "(2357, 11)\n"
     ]
    },
    {
     "name": "stderr",
     "output_type": "stream",
     "text": [
      "\r",
      "craw:   4%|▍         | 13/300 [28:04<7:29:28, 93.97s/it] "
     ]
    },
    {
     "name": "stdout",
     "output_type": "stream",
     "text": [
      "원골전통순대국전문 scroll\n"
     ]
    },
    {
     "name": "stderr",
     "output_type": "stream",
     "text": [
      "\n",
      "save..:   0%|          | 0/1 [00:00<?, ?it/s]\u001b[A"
     ]
    },
    {
     "name": "stdout",
     "output_type": "stream",
     "text": [
      "원골전통순대국전문 1\n",
      "모든 리뷰 불러오기 시작...\n",
      "모든 리뷰 불러오기 완료!\n"
     ]
    },
    {
     "name": "stderr",
     "output_type": "stream",
     "text": [
      "save..: 100%|██████████| 1/1 [00:00<00:00,  4.91it/s]\n"
     ]
    },
    {
     "name": "stdout",
     "output_type": "stream",
     "text": [
      "(2358, 11)\n"
     ]
    },
    {
     "name": "stderr",
     "output_type": "stream",
     "text": [
      "\r",
      "craw:   5%|▍         | 14/300 [28:42<6:08:10, 77.24s/it]"
     ]
    },
    {
     "name": "stdout",
     "output_type": "stream",
     "text": [
      "레드컵스-고대점 scroll\n"
     ]
    },
    {
     "name": "stderr",
     "output_type": "stream",
     "text": [
      "\n",
      "save..:   0%|          | 0/7 [00:00<?, ?it/s]\u001b[A"
     ]
    },
    {
     "name": "stdout",
     "output_type": "stream",
     "text": [
      "레드컵스-고대점 7\n",
      "모든 리뷰 불러오기 시작...\n",
      "모든 리뷰 불러오기 완료!\n"
     ]
    },
    {
     "name": "stderr",
     "output_type": "stream",
     "text": [
      "save..: 100%|██████████| 7/7 [00:00<00:00, 30.62it/s]\n"
     ]
    },
    {
     "name": "stdout",
     "output_type": "stream",
     "text": [
      "(2365, 11)\n"
     ]
    },
    {
     "name": "stderr",
     "output_type": "stream",
     "text": [
      "\r",
      "craw:   5%|▌         | 15/300 [29:01<4:43:07, 59.61s/it]"
     ]
    },
    {
     "name": "stdout",
     "output_type": "stream",
     "text": [
      "현택이두마리치킨 scroll\n",
      "현택이두마리치킨 11\n",
      "모든 리뷰 불러오기 시작...\n",
      "모든 리뷰 불러오기 완료!\n"
     ]
    },
    {
     "name": "stderr",
     "output_type": "stream",
     "text": [
      "\n",
      "save..:   0%|          | 0/11 [00:00<?, ?it/s]\u001b[A\n",
      "save..: 100%|██████████| 11/11 [02:09<00:00, 11.81s/it][A\n"
     ]
    },
    {
     "name": "stdout",
     "output_type": "stream",
     "text": [
      "(2376, 11)\n"
     ]
    },
    {
     "name": "stderr",
     "output_type": "stream",
     "text": [
      "\r",
      "craw:   5%|▌         | 16/300 [31:33<6:53:15, 87.31s/it]"
     ]
    },
    {
     "name": "stdout",
     "output_type": "stream",
     "text": [
      "맘스떡볶이&컵밥-석계역본사직영점 scroll\n"
     ]
    },
    {
     "name": "stderr",
     "output_type": "stream",
     "text": [
      "\n",
      "save..:   0%|          | 0/8 [00:00<?, ?it/s]\u001b[A"
     ]
    },
    {
     "name": "stdout",
     "output_type": "stream",
     "text": [
      "맘스떡볶이&컵밥-석계역본사직영점 8\n",
      "모든 리뷰 불러오기 시작...\n",
      "모든 리뷰 불러오기 완료!\n"
     ]
    },
    {
     "name": "stderr",
     "output_type": "stream",
     "text": [
      "save..: 100%|██████████| 8/8 [00:00<00:00, 40.42it/s]\n"
     ]
    },
    {
     "name": "stdout",
     "output_type": "stream",
     "text": [
      "(2384, 11)\n"
     ]
    },
    {
     "name": "stderr",
     "output_type": "stream",
     "text": [
      "\r",
      "craw:   6%|▌         | 17/300 [32:26<6:03:45, 77.12s/it]"
     ]
    },
    {
     "name": "stdout",
     "output_type": "stream",
     "text": [
      "락원오리주물럭&삼계탕 scroll\n"
     ]
    },
    {
     "name": "stderr",
     "output_type": "stream",
     "text": [
      "\n",
      "save..: 100%|██████████| 1/1 [00:00<00:00, 15.87it/s]"
     ]
    },
    {
     "name": "stdout",
     "output_type": "stream",
     "text": [
      "락원오리주물럭&삼계탕 1\n",
      "모든 리뷰 불러오기 시작...\n",
      "모든 리뷰 불러오기 완료!\n",
      "(2385, 11)\n"
     ]
    },
    {
     "name": "stderr",
     "output_type": "stream",
     "text": [
      "\n",
      "craw:   6%|▌         | 18/300 [33:02<5:04:35, 64.81s/it]"
     ]
    },
    {
     "name": "stdout",
     "output_type": "stream",
     "text": [
      "풍년생선구이 scroll\n"
     ]
    },
    {
     "name": "stderr",
     "output_type": "stream",
     "text": [
      "\r",
      "craw:   6%|▋         | 19/300 [33:34<4:16:46, 54.83s/it]"
     ]
    },
    {
     "name": "stdout",
     "output_type": "stream",
     "text": [
      "wrong shop\n",
      "미스터바베큐 scroll\n",
      "미스터바베큐 scroll\n"
     ]
    },
    {
     "name": "stderr",
     "output_type": "stream",
     "text": [
      "\n",
      "save..:   0%|          | 0/6 [00:00<?, ?it/s]\u001b[A"
     ]
    },
    {
     "name": "stdout",
     "output_type": "stream",
     "text": [
      "미스터바베큐 6\n",
      "모든 리뷰 불러오기 시작...\n",
      "모든 리뷰 불러오기 완료!\n"
     ]
    },
    {
     "name": "stderr",
     "output_type": "stream",
     "text": [
      "save..: 100%|██████████| 6/6 [00:00<00:00, 12.27it/s]\n"
     ]
    },
    {
     "name": "stdout",
     "output_type": "stream",
     "text": [
      "(2391, 11)\n"
     ]
    },
    {
     "name": "stderr",
     "output_type": "stream",
     "text": [
      "\r",
      "craw:   7%|▋         | 20/300 [34:06<3:43:41, 47.93s/it]"
     ]
    },
    {
     "name": "stdout",
     "output_type": "stream",
     "text": [
      "명인옛날통닭-장안직영점 scroll\n"
     ]
    },
    {
     "name": "stderr",
     "output_type": "stream",
     "text": [
      "\n",
      "save..:   0%|          | 0/2 [00:00<?, ?it/s]\u001b[A"
     ]
    },
    {
     "name": "stdout",
     "output_type": "stream",
     "text": [
      "명인옛날통닭-장안직영점 2\n",
      "모든 리뷰 불러오기 시작...\n",
      "모든 리뷰 불러오기 완료!\n"
     ]
    },
    {
     "name": "stderr",
     "output_type": "stream",
     "text": [
      "save..: 100%|██████████| 2/2 [00:00<00:00, 10.51it/s]\n"
     ]
    },
    {
     "name": "stdout",
     "output_type": "stream",
     "text": [
      "(2393, 11)\n"
     ]
    },
    {
     "name": "stderr",
     "output_type": "stream",
     "text": [
      "\r",
      "craw:   7%|▋         | 21/300 [34:44<3:29:31, 45.06s/it]"
     ]
    },
    {
     "name": "stdout",
     "output_type": "stream",
     "text": [
      "커피바 scroll\n",
      "커피바 1\n",
      "모든 리뷰 불러오기 시작...\n",
      "모든 리뷰 불러오기 완료!\n"
     ]
    },
    {
     "name": "stderr",
     "output_type": "stream",
     "text": [
      "\n",
      "save..: 100%|██████████| 1/1 [00:00<00:00, 16.92it/s]\n"
     ]
    },
    {
     "name": "stdout",
     "output_type": "stream",
     "text": [
      "(2394, 11)\n"
     ]
    },
    {
     "name": "stderr",
     "output_type": "stream",
     "text": [
      "\r",
      "craw:   7%|▋         | 22/300 [35:36<3:39:08, 47.30s/it]"
     ]
    },
    {
     "name": "stdout",
     "output_type": "stream",
     "text": [
      "정's샌드위치경동시장청년몰 scroll\n"
     ]
    },
    {
     "name": "stderr",
     "output_type": "stream",
     "text": [
      "\n",
      "save..:   0%|          | 0/5 [00:00<?, ?it/s]\u001b[A"
     ]
    },
    {
     "name": "stdout",
     "output_type": "stream",
     "text": [
      "정's샌드위치경동시장청년몰 5\n",
      "모든 리뷰 불러오기 시작...\n",
      "모든 리뷰 불러오기 완료!\n"
     ]
    },
    {
     "name": "stderr",
     "output_type": "stream",
     "text": [
      "save..: 100%|██████████| 5/5 [00:00<00:00, 26.37it/s]\n"
     ]
    },
    {
     "name": "stdout",
     "output_type": "stream",
     "text": [
      "(2399, 11)\n"
     ]
    },
    {
     "name": "stderr",
     "output_type": "stream",
     "text": [
      "\r",
      "craw:   8%|▊         | 23/300 [36:31<3:47:53, 49.36s/it]"
     ]
    },
    {
     "name": "stdout",
     "output_type": "stream",
     "text": [
      "마시그래이-경희대점 scroll\n"
     ]
    },
    {
     "name": "stderr",
     "output_type": "stream",
     "text": [
      "\r",
      "craw:   8%|▊         | 24/300 [36:46<2:59:48, 39.09s/it]"
     ]
    },
    {
     "name": "stdout",
     "output_type": "stream",
     "text": [
      "wrong shop\n",
      "호식이두마리치킨-장위점 scroll\n",
      "호식이두마리치킨-장위점 scroll\n",
      "호식이두마리치킨-장위점 102\n",
      "모든 리뷰 불러오기 시작...\n",
      "모든 리뷰 불러오기 완료!\n"
     ]
    },
    {
     "name": "stderr",
     "output_type": "stream",
     "text": [
      "\n",
      "save..: 100%|██████████| 102/102 [00:02<00:00, 35.83it/s]\n"
     ]
    },
    {
     "name": "stdout",
     "output_type": "stream",
     "text": [
      "(2501, 11)\n"
     ]
    },
    {
     "name": "stderr",
     "output_type": "stream",
     "text": [
      "\r",
      "craw:   8%|▊         | 25/300 [37:33<3:09:58, 41.45s/it]"
     ]
    },
    {
     "name": "stdout",
     "output_type": "stream",
     "text": [
      "강다짐-고대점 scroll\n"
     ]
    },
    {
     "name": "stderr",
     "output_type": "stream",
     "text": [
      "\n",
      "save..:   0%|          | 0/3 [00:00<?, ?it/s]\u001b[A"
     ]
    },
    {
     "name": "stdout",
     "output_type": "stream",
     "text": [
      "강다짐-고대점 3\n",
      "모든 리뷰 불러오기 시작...\n",
      "모든 리뷰 불러오기 완료!\n"
     ]
    },
    {
     "name": "stderr",
     "output_type": "stream",
     "text": [
      "save..: 100%|██████████| 3/3 [00:00<00:00, 12.62it/s]\n"
     ]
    },
    {
     "name": "stdout",
     "output_type": "stream",
     "text": [
      "(2504, 11)\n"
     ]
    },
    {
     "name": "stderr",
     "output_type": "stream",
     "text": [
      "\r",
      "craw:   9%|▊         | 26/300 [38:27<3:26:56, 45.32s/it]"
     ]
    },
    {
     "name": "stdout",
     "output_type": "stream",
     "text": [
      "송연95닭갈비 scroll\n",
      "송연95닭갈비 61\n",
      "모든 리뷰 불러오기 시작...\n",
      "모든 리뷰 불러오기 완료!\n"
     ]
    },
    {
     "name": "stderr",
     "output_type": "stream",
     "text": [
      "\n",
      "save..:   0%|          | 0/61 [00:00<?, ?it/s]\u001b[A\n",
      "save..: 100%|██████████| 61/61 [00:03<00:00, 19.79it/s]\u001b[A\n"
     ]
    },
    {
     "name": "stdout",
     "output_type": "stream",
     "text": [
      "(2565, 11)\n"
     ]
    },
    {
     "name": "stderr",
     "output_type": "stream",
     "text": [
      "\r",
      "craw:   9%|▉         | 27/300 [39:33<3:54:22, 51.51s/it]"
     ]
    },
    {
     "name": "stdout",
     "output_type": "stream",
     "text": [
      "황학동숯불구이막창 scroll\n",
      "황학동숯불구이막창 10\n",
      "모든 리뷰 불러오기 시작...\n"
     ]
    },
    {
     "name": "stderr",
     "output_type": "stream",
     "text": [
      "\n",
      "save..:   0%|          | 0/10 [00:00<?, ?it/s]\u001b[A"
     ]
    },
    {
     "name": "stdout",
     "output_type": "stream",
     "text": [
      "모든 리뷰 불러오기 완료!\n"
     ]
    },
    {
     "name": "stderr",
     "output_type": "stream",
     "text": [
      "save..: 100%|██████████| 10/10 [00:00<00:00, 12.49it/s]\n"
     ]
    },
    {
     "name": "stdout",
     "output_type": "stream",
     "text": [
      "(2575, 11)\n"
     ]
    },
    {
     "name": "stderr",
     "output_type": "stream",
     "text": [
      "\r",
      "craw:   9%|▉         | 28/300 [39:56<3:14:30, 42.91s/it]"
     ]
    },
    {
     "name": "stdout",
     "output_type": "stream",
     "text": [
      "동대문엽기떡볶이-장안점 scroll\n",
      "동대문엽기떡볶이-장안점 627\n",
      "모든 리뷰 불러오기 시작...\n",
      "모든 리뷰 불러오기 완료!\n"
     ]
    },
    {
     "name": "stderr",
     "output_type": "stream",
     "text": [
      "\n",
      "save..:   0%|          | 0/627 [00:00<?, ?it/s]\u001b[A\n",
      "save..:  14%|█▎        | 86/627 [00:03<00:20, 26.50it/s]\u001b[A\n",
      "save..:  26%|██▌       | 161/627 [00:06<00:18, 25.83it/s]\u001b[A\n",
      "save..:  33%|███▎      | 209/627 [00:09<00:19, 21.22it/s]\u001b[A\n",
      "save..:  45%|████▌     | 285/627 [00:12<00:15, 22.13it/s]\u001b[A\n",
      "save..:  60%|██████    | 379/627 [00:15<00:10, 24.14it/s]\u001b[A\n",
      "save..:  75%|███████▌  | 473/627 [00:18<00:05, 25.86it/s]\u001b[A\n",
      "save..: 100%|██████████| 627/627 [00:24<00:00, 25.14it/s]\u001b[A\n"
     ]
    },
    {
     "name": "stdout",
     "output_type": "stream",
     "text": [
      "(3202, 11)\n"
     ]
    },
    {
     "name": "stderr",
     "output_type": "stream",
     "text": [
      "\r",
      "craw:  10%|▉         | 29/300 [43:06<6:33:12, 87.06s/it]"
     ]
    },
    {
     "name": "stdout",
     "output_type": "stream",
     "text": [
      "호세야오리바베큐-청량리점 scroll\n",
      "호세야오리바베큐-청량리점 164\n",
      "모든 리뷰 불러오기 시작...\n",
      "모든 리뷰 불러오기 완료!\n"
     ]
    },
    {
     "name": "stderr",
     "output_type": "stream",
     "text": [
      "\n",
      "save..: 100%|██████████| 164/164 [00:02<00:00, 62.18it/s]\n"
     ]
    },
    {
     "name": "stdout",
     "output_type": "stream",
     "text": [
      "(3366, 11)\n"
     ]
    },
    {
     "name": "stderr",
     "output_type": "stream",
     "text": [
      "\r",
      "craw:  10%|█         | 30/300 [44:23<6:19:01, 84.23s/it]"
     ]
    },
    {
     "name": "stdout",
     "output_type": "stream",
     "text": [
      "백종원의인생설렁탕-경희대점 scroll\n",
      "백종원의인생설렁탕-경희대점 72\n",
      "모든 리뷰 불러오기 시작...\n",
      "모든 리뷰 불러오기 완료!\n"
     ]
    },
    {
     "name": "stderr",
     "output_type": "stream",
     "text": [
      "\n",
      "save..:   0%|          | 0/72 [00:00<?, ?it/s]\u001b[A\n",
      "save..: 100%|██████████| 72/72 [00:04<00:00, 17.41it/s]\u001b[A\n"
     ]
    },
    {
     "name": "stdout",
     "output_type": "stream",
     "text": [
      "(3438, 11)\n"
     ]
    },
    {
     "name": "stderr",
     "output_type": "stream",
     "text": [
      "\r",
      "craw:  10%|█         | 31/300 [45:04<5:18:31, 71.05s/it]"
     ]
    },
    {
     "name": "stdout",
     "output_type": "stream",
     "text": [
      "웰스-경희대점 scroll\n"
     ]
    },
    {
     "name": "stderr",
     "output_type": "stream",
     "text": [
      "\n",
      "save..:   0%|          | 0/3 [00:00<?, ?it/s]\u001b[A"
     ]
    },
    {
     "name": "stdout",
     "output_type": "stream",
     "text": [
      "웰스-경희대점 3\n",
      "모든 리뷰 불러오기 시작...\n",
      "모든 리뷰 불러오기 완료!\n"
     ]
    },
    {
     "name": "stderr",
     "output_type": "stream",
     "text": [
      "save..: 100%|██████████| 3/3 [00:00<00:00,  9.51it/s]\n"
     ]
    },
    {
     "name": "stdout",
     "output_type": "stream",
     "text": [
      "(3441, 11)\n"
     ]
    },
    {
     "name": "stderr",
     "output_type": "stream",
     "text": [
      "\r",
      "craw:  11%|█         | 32/300 [45:27<4:13:33, 56.77s/it]"
     ]
    },
    {
     "name": "stdout",
     "output_type": "stream",
     "text": [
      "하마쌀국수 scroll\n",
      "하마쌀국수 21\n",
      "모든 리뷰 불러오기 시작...\n"
     ]
    },
    {
     "name": "stderr",
     "output_type": "stream",
     "text": [
      "\n",
      "save..:   0%|          | 0/21 [00:00<?, ?it/s]\u001b[A"
     ]
    },
    {
     "name": "stdout",
     "output_type": "stream",
     "text": [
      "모든 리뷰 불러오기 완료!\n"
     ]
    },
    {
     "name": "stderr",
     "output_type": "stream",
     "text": [
      "save..: 100%|██████████| 21/21 [00:01<00:00, 11.64it/s]\n"
     ]
    },
    {
     "name": "stdout",
     "output_type": "stream",
     "text": [
      "(3462, 11)\n"
     ]
    },
    {
     "name": "stderr",
     "output_type": "stream",
     "text": [
      "\r",
      "craw:  11%|█         | 33/300 [46:04<3:46:32, 50.91s/it]"
     ]
    },
    {
     "name": "stdout",
     "output_type": "stream",
     "text": [
      "에이프런보스-미아본점 scroll\n",
      "에이프런보스-미아본점 22\n",
      "모든 리뷰 불러오기 시작...\n"
     ]
    },
    {
     "name": "stderr",
     "output_type": "stream",
     "text": [
      "\n",
      "save..:   0%|          | 0/22 [00:00<?, ?it/s]\u001b[A"
     ]
    },
    {
     "name": "stdout",
     "output_type": "stream",
     "text": [
      "모든 리뷰 불러오기 완료!\n"
     ]
    },
    {
     "name": "stderr",
     "output_type": "stream",
     "text": [
      "save..: 100%|██████████| 22/22 [00:00<00:00, 23.45it/s]\n"
     ]
    },
    {
     "name": "stdout",
     "output_type": "stream",
     "text": [
      "(3484, 11)\n"
     ]
    },
    {
     "name": "stderr",
     "output_type": "stream",
     "text": [
      "\r",
      "craw:  11%|█▏        | 34/300 [47:02<3:54:04, 52.80s/it]"
     ]
    },
    {
     "name": "stdout",
     "output_type": "stream",
     "text": [
      "뚱카롱 scroll\n"
     ]
    },
    {
     "name": "stderr",
     "output_type": "stream",
     "text": [
      "\r",
      "craw:  12%|█▏        | 35/300 [47:20<3:07:48, 42.52s/it]"
     ]
    },
    {
     "name": "stdout",
     "output_type": "stream",
     "text": [
      "wrong shop\n",
      "돈까스혁명-제기점 scroll\n"
     ]
    },
    {
     "name": "stderr",
     "output_type": "stream",
     "text": [
      "\n",
      "save..:   0%|          | 0/6 [00:00<?, ?it/s]\u001b[A"
     ]
    },
    {
     "name": "stdout",
     "output_type": "stream",
     "text": [
      "돈까스혁명-제기점 6\n",
      "모든 리뷰 불러오기 시작...\n",
      "모든 리뷰 불러오기 완료!\n"
     ]
    },
    {
     "name": "stderr",
     "output_type": "stream",
     "text": [
      "save..: 100%|██████████| 6/6 [00:00<00:00, 19.87it/s]\n"
     ]
    },
    {
     "name": "stdout",
     "output_type": "stream",
     "text": [
      "(3490, 11)\n"
     ]
    },
    {
     "name": "stderr",
     "output_type": "stream",
     "text": [
      "\r",
      "craw:  12%|█▏        | 36/300 [47:34<2:29:49, 34.05s/it]"
     ]
    },
    {
     "name": "stdout",
     "output_type": "stream",
     "text": [
      "자가제빵선명희피자-외대점 scroll\n",
      "자가제빵선명희피자-외대점 13\n",
      "모든 리뷰 불러오기 시작...\n",
      "모든 리뷰 불러오기 완료!\n"
     ]
    },
    {
     "name": "stderr",
     "output_type": "stream",
     "text": [
      "\n",
      "save..: 100%|██████████| 13/13 [00:01<00:00, 12.17it/s]\n"
     ]
    },
    {
     "name": "stdout",
     "output_type": "stream",
     "text": [
      "(3503, 11)\n"
     ]
    },
    {
     "name": "stderr",
     "output_type": "stream",
     "text": [
      "\r",
      "craw:  12%|█▏        | 37/300 [48:19<2:43:26, 37.29s/it]"
     ]
    },
    {
     "name": "stdout",
     "output_type": "stream",
     "text": [
      "가위바위보떡볶이-본점 scroll\n",
      "가위바위보떡볶이-본점 571\n",
      "모든 리뷰 불러오기 시작...\n",
      "모든 리뷰 불러오기 완료!\n"
     ]
    },
    {
     "name": "stderr",
     "output_type": "stream",
     "text": [
      "\n",
      "save..:   0%|          | 0/571 [00:00<?, ?it/s]\u001b[A\n",
      "save..:   8%|▊         | 45/571 [00:03<00:36, 14.24it/s]\u001b[A\n",
      "save..:  17%|█▋        | 99/571 [00:06<00:31, 15.16it/s]\u001b[A\n",
      "save..:  28%|██▊       | 159/571 [00:09<00:25, 15.99it/s]\u001b[A\n",
      "save..:  35%|███▍      | 199/571 [00:12<00:24, 14.91it/s]\u001b[A\n",
      "save..:  42%|████▏     | 237/571 [00:15<00:24, 13.74it/s]\u001b[A\n",
      "save..:  51%|█████     | 290/571 [00:19<00:19, 14.19it/s]\u001b[A\n",
      "save..:  62%|██████▏   | 353/571 [00:22<00:14, 15.36it/s]\u001b[A\n",
      "save..: 100%|██████████| 571/571 [00:28<00:00, 20.03it/s]\u001b[A\n"
     ]
    },
    {
     "name": "stdout",
     "output_type": "stream",
     "text": [
      "(4074, 11)\n"
     ]
    },
    {
     "name": "stderr",
     "output_type": "stream",
     "text": [
      "\r",
      "craw:  13%|█▎        | 38/300 [51:03<5:28:44, 75.28s/it]"
     ]
    },
    {
     "name": "stdout",
     "output_type": "stream",
     "text": [
      "모즈플레이스 scroll\n"
     ]
    },
    {
     "name": "stderr",
     "output_type": "stream",
     "text": [
      "\r",
      "craw:  13%|█▎        | 39/300 [51:14<4:02:47, 55.81s/it]"
     ]
    },
    {
     "name": "stdout",
     "output_type": "stream",
     "text": [
      "wrong shop\n",
      "맛닭꼬-답십리점 scroll\n",
      "맛닭꼬-답십리점 34\n",
      "모든 리뷰 불러오기 시작...\n",
      "모든 리뷰 불러오기 완료!\n"
     ]
    },
    {
     "name": "stderr",
     "output_type": "stream",
     "text": [
      "\n",
      "save..:   0%|          | 0/34 [00:00<?, ?it/s]\u001b[A\n",
      "save..: 100%|██████████| 34/34 [00:03<00:00, 11.02it/s]\u001b[A\n"
     ]
    },
    {
     "name": "stdout",
     "output_type": "stream",
     "text": [
      "(4108, 11)\n"
     ]
    },
    {
     "name": "stderr",
     "output_type": "stream",
     "text": [
      "\r",
      "craw:  13%|█▎        | 40/300 [51:44<3:28:22, 48.09s/it]"
     ]
    },
    {
     "name": "stdout",
     "output_type": "stream",
     "text": [
      "아비꼬-경희대점 scroll\n",
      "아비꼬-경희대점 150\n",
      "모든 리뷰 불러오기 시작...\n",
      "모든 리뷰 불러오기 완료!\n"
     ]
    },
    {
     "name": "stderr",
     "output_type": "stream",
     "text": [
      "\n",
      "save..:   0%|          | 0/150 [00:00<?, ?it/s]\u001b[A\n",
      "save..:  42%|████▏     | 63/150 [00:03<00:04, 19.54it/s]\u001b[A\n",
      "save..:  56%|█████▌    | 84/150 [00:06<00:05, 12.55it/s]\u001b[A\n",
      "save..: 100%|██████████| 150/150 [00:11<00:00, 13.32it/s]\u001b[A\n"
     ]
    },
    {
     "name": "stdout",
     "output_type": "stream",
     "text": [
      "(4258, 11)\n"
     ]
    },
    {
     "name": "stderr",
     "output_type": "stream",
     "text": [
      "\r",
      "craw:  14%|█▎        | 41/300 [52:47<3:47:05, 52.61s/it]"
     ]
    },
    {
     "name": "stdout",
     "output_type": "stream",
     "text": [
      "스쿨푸드-딜리버리왕십리뉴타운점 scroll\n",
      "스쿨푸드-딜리버리왕십리뉴타운점 1928\n",
      "모든 리뷰 불러오기 시작...\n",
      "모든 리뷰 불러오기 완료!\n"
     ]
    },
    {
     "name": "stderr",
     "output_type": "stream",
     "text": [
      "\n",
      "save..:   0%|          | 0/1928 [00:00<?, ?it/s]\u001b[A\n",
      "save..:   2%|▏         | 35/1928 [00:03<02:48, 11.26it/s]\u001b[A\n",
      "save..:   4%|▍         | 85/1928 [00:06<02:28, 12.44it/s]\u001b[A\n",
      "save..:   7%|▋         | 141/1928 [00:09<02:09, 13.81it/s]\u001b[A\n",
      "save..:   9%|▉         | 176/1928 [00:12<02:14, 13.01it/s]\u001b[A\n",
      "save..:  11%|█         | 209/1928 [00:15<02:26, 11.75it/s]\u001b[A\n",
      "save..:  12%|█▎        | 241/1928 [00:18<02:32, 11.05it/s]\u001b[A\n",
      "save..:  15%|█▍        | 286/1928 [00:21<02:17, 11.98it/s]\u001b[A\n",
      "save..:  19%|█▉        | 374/1928 [00:25<01:47, 14.52it/s]\u001b[A\n",
      "save..:  24%|██▍       | 459/1928 [00:28<01:26, 16.98it/s]\u001b[A\n",
      "save..:  28%|██▊       | 545/1928 [00:31<01:12, 19.02it/s]\u001b[A\n",
      "save..:  32%|███▏      | 617/1928 [00:34<01:04, 20.24it/s]\u001b[A\n",
      "save..:  36%|███▌      | 685/1928 [00:38<01:05, 19.05it/s]\u001b[A\n",
      "save..:  39%|███▉      | 757/1928 [00:41<00:57, 20.25it/s]\u001b[A\n",
      "save..:  45%|████▍     | 867/1928 [00:44<00:45, 23.32it/s]\u001b[A\n",
      "save..:  49%|████▉     | 946/1928 [00:47<00:41, 23.43it/s]\u001b[A\n",
      "save..:  54%|█████▎    | 1036/1928 [00:50<00:35, 24.95it/s]\u001b[A\n",
      "save..:  58%|█████▊    | 1116/1928 [00:54<00:35, 23.07it/s]\u001b[A\n",
      "save..:  62%|██████▏   | 1196/1928 [00:58<00:30, 23.75it/s]\u001b[A\n",
      "save..:  67%|██████▋   | 1289/1928 [01:01<00:25, 25.47it/s]\u001b[A\n",
      "save..:  73%|███████▎  | 1408/1928 [01:04<00:18, 28.49it/s]\u001b[A\n",
      "save..:  82%|████████▏ | 1589/1928 [01:07<00:10, 33.69it/s]\u001b[A\n",
      "save..:  90%|█████████ | 1741/1928 [01:10<00:05, 37.24it/s]\u001b[A\n",
      "save..: 100%|██████████| 1928/1928 [01:14<00:00, 25.79it/s]\u001b[A\n"
     ]
    },
    {
     "name": "stdout",
     "output_type": "stream",
     "text": [
      "(6186, 11)\n"
     ]
    },
    {
     "name": "stderr",
     "output_type": "stream",
     "text": [
      "\r",
      "craw:  14%|█▍        | 42/300 [1:03:33<16:31:45, 230.64s/it]"
     ]
    },
    {
     "name": "stdout",
     "output_type": "stream",
     "text": [
      "알촌-경희외대점 scroll\n",
      "알촌-경희외대점 80\n",
      "모든 리뷰 불러오기 시작...\n",
      "모든 리뷰 불러오기 완료!\n"
     ]
    },
    {
     "name": "stderr",
     "output_type": "stream",
     "text": [
      "\n",
      "save..:   0%|          | 0/80 [00:00<?, ?it/s]\u001b[A\n",
      "save..: 100%|██████████| 80/80 [00:04<00:00, 17.84it/s]\u001b[A\n"
     ]
    },
    {
     "name": "stdout",
     "output_type": "stream",
     "text": [
      "(6266, 11)\n"
     ]
    },
    {
     "name": "stderr",
     "output_type": "stream",
     "text": [
      "\r",
      "craw:  14%|█▍        | 43/300 [1:04:14<12:24:44, 173.87s/it]"
     ]
    },
    {
     "name": "stdout",
     "output_type": "stream",
     "text": [
      "배스킨라빈스-경희대점 scroll\n",
      "배스킨라빈스-경희대점 123\n",
      "모든 리뷰 불러오기 시작...\n",
      "모든 리뷰 불러오기 완료!\n"
     ]
    },
    {
     "name": "stderr",
     "output_type": "stream",
     "text": [
      "\n",
      "save..:   0%|          | 0/123 [00:00<?, ?it/s]\u001b[A\n",
      "save..:  15%|█▍        | 18/123 [00:03<00:19,  5.45it/s]\u001b[A\n",
      "save..: 100%|██████████| 123/123 [00:07<00:00, 16.18it/s][A\n"
     ]
    },
    {
     "name": "stdout",
     "output_type": "stream",
     "text": [
      "(6389, 11)\n"
     ]
    },
    {
     "name": "stderr",
     "output_type": "stream",
     "text": [
      "\r",
      "craw:  15%|█▍        | 44/300 [1:05:29<10:14:41, 144.07s/it]"
     ]
    },
    {
     "name": "stdout",
     "output_type": "stream",
     "text": [
      "신사동떡볶이-석관점 scroll\n",
      "신사동떡볶이-석관점 13\n",
      "모든 리뷰 불러오기 시작...\n"
     ]
    },
    {
     "name": "stderr",
     "output_type": "stream",
     "text": [
      "\n",
      "save..:   0%|          | 0/13 [00:00<?, ?it/s]\u001b[A"
     ]
    },
    {
     "name": "stdout",
     "output_type": "stream",
     "text": [
      "모든 리뷰 불러오기 완료!\n"
     ]
    },
    {
     "name": "stderr",
     "output_type": "stream",
     "text": [
      "save..: 100%|██████████| 13/13 [00:00<00:00, 29.97it/s]\n"
     ]
    },
    {
     "name": "stdout",
     "output_type": "stream",
     "text": [
      "(6402, 11)\n"
     ]
    },
    {
     "name": "stderr",
     "output_type": "stream",
     "text": [
      "\r",
      "craw:  15%|█▌        | 45/300 [1:05:48<7:33:22, 106.68s/it] "
     ]
    },
    {
     "name": "stdout",
     "output_type": "stream",
     "text": [
      "어제그쭈꾸미집JIB-석계점 scroll\n"
     ]
    },
    {
     "name": "stderr",
     "output_type": "stream",
     "text": [
      "\r",
      "craw:  15%|█▌        | 46/300 [1:06:04<5:35:28, 79.25s/it] "
     ]
    },
    {
     "name": "stdout",
     "output_type": "stream",
     "text": [
      "wrong shop\n",
      "못말리는파닭-전농시립대점 scroll\n",
      "못말리는파닭-전농시립대점 scroll\n",
      "못말리는파닭-전농시립대점 49\n",
      "모든 리뷰 불러오기 시작...\n"
     ]
    },
    {
     "name": "stderr",
     "output_type": "stream",
     "text": [
      "\n",
      "save..:   0%|          | 0/49 [00:00<?, ?it/s]\u001b[A"
     ]
    },
    {
     "name": "stdout",
     "output_type": "stream",
     "text": [
      "모든 리뷰 불러오기 완료!\n"
     ]
    },
    {
     "name": "stderr",
     "output_type": "stream",
     "text": [
      "save..: 100%|██████████| 49/49 [00:02<00:00, 23.77it/s]\n"
     ]
    },
    {
     "name": "stdout",
     "output_type": "stream",
     "text": [
      "(6451, 11)\n"
     ]
    },
    {
     "name": "stderr",
     "output_type": "stream",
     "text": [
      "\r",
      "craw:  16%|█▌        | 47/300 [1:06:39<4:38:57, 66.16s/it]"
     ]
    },
    {
     "name": "stdout",
     "output_type": "stream",
     "text": [
      "압구정찌개마을-동덕여대점 scroll\n"
     ]
    },
    {
     "name": "stderr",
     "output_type": "stream",
     "text": [
      "\n",
      "save..: 100%|██████████| 2/2 [00:00<00:00, 23.14it/s]"
     ]
    },
    {
     "name": "stdout",
     "output_type": "stream",
     "text": [
      "압구정찌개마을-동덕여대점 2\n",
      "모든 리뷰 불러오기 시작...\n",
      "모든 리뷰 불러오기 완료!\n",
      "(6453, 11)\n"
     ]
    },
    {
     "name": "stderr",
     "output_type": "stream",
     "text": [
      "\n",
      "craw:  16%|█▌        | 48/300 [1:07:10<3:54:00, 55.72s/it]"
     ]
    },
    {
     "name": "stdout",
     "output_type": "stream",
     "text": [
      "샐러데이 scroll\n"
     ]
    },
    {
     "name": "stderr",
     "output_type": "stream",
     "text": [
      "\r",
      "craw:  16%|█▋        | 49/300 [1:07:29<3:06:07, 44.49s/it]"
     ]
    },
    {
     "name": "stdout",
     "output_type": "stream",
     "text": [
      "wrong shop\n",
      "신참떡볶이-중화역점 scroll\n",
      "신참떡볶이-중화역점 63\n",
      "모든 리뷰 불러오기 시작...\n",
      "모든 리뷰 불러오기 완료!\n"
     ]
    },
    {
     "name": "stderr",
     "output_type": "stream",
     "text": [
      "\n",
      "save..:   0%|          | 0/63 [00:00<?, ?it/s]\u001b[A\n",
      "save..: 100%|██████████| 63/63 [00:05<00:00, 11.84it/s]\u001b[A\n"
     ]
    },
    {
     "name": "stdout",
     "output_type": "stream",
     "text": [
      "(6516, 11)\n"
     ]
    },
    {
     "name": "stderr",
     "output_type": "stream",
     "text": [
      "\r",
      "craw:  17%|█▋        | 50/300 [1:08:20<3:13:15, 46.38s/it]"
     ]
    },
    {
     "name": "stdout",
     "output_type": "stream",
     "text": [
      "빵치는삼촌토핑하는이모피자-본점 scroll\n"
     ]
    },
    {
     "name": "stderr",
     "output_type": "stream",
     "text": [
      "\r",
      "craw:  17%|█▋        | 51/300 [1:08:30<2:27:40, 35.59s/it]"
     ]
    },
    {
     "name": "stdout",
     "output_type": "stream",
     "text": [
      "wrong shop\n",
      "담은죽&냉면 scroll\n",
      "담은죽&냉면 5\n",
      "모든 리뷰 불러오기 시작...\n",
      "모든 리뷰 불러오기 완료!\n"
     ]
    },
    {
     "name": "stderr",
     "output_type": "stream",
     "text": [
      "\n",
      "save..: 100%|██████████| 5/5 [00:00<00:00, 15.72it/s]\n"
     ]
    },
    {
     "name": "stdout",
     "output_type": "stream",
     "text": [
      "(6521, 11)\n"
     ]
    },
    {
     "name": "stderr",
     "output_type": "stream",
     "text": [
      "\r",
      "craw:  17%|█▋        | 52/300 [1:09:05<2:25:58, 35.32s/it]"
     ]
    },
    {
     "name": "stdout",
     "output_type": "stream",
     "text": [
      "전국에서손꼽히는족발 scroll\n",
      "전국에서손꼽히는족발 25\n",
      "모든 리뷰 불러오기 시작...\n"
     ]
    },
    {
     "name": "stderr",
     "output_type": "stream",
     "text": [
      "\n",
      "save..:   0%|          | 0/25 [00:00<?, ?it/s]\u001b[A"
     ]
    },
    {
     "name": "stdout",
     "output_type": "stream",
     "text": [
      "모든 리뷰 불러오기 완료!\n"
     ]
    },
    {
     "name": "stderr",
     "output_type": "stream",
     "text": [
      "save..: 100%|██████████| 25/25 [00:01<00:00, 14.87it/s]\n"
     ]
    },
    {
     "name": "stdout",
     "output_type": "stream",
     "text": [
      "(6546, 11)\n"
     ]
    },
    {
     "name": "stderr",
     "output_type": "stream",
     "text": [
      "\r",
      "craw:  18%|█▊        | 53/300 [1:09:26<2:07:43, 31.03s/it]"
     ]
    },
    {
     "name": "stdout",
     "output_type": "stream",
     "text": [
      "호반닭갈비&막국수-중화본점 scroll\n"
     ]
    },
    {
     "name": "stderr",
     "output_type": "stream",
     "text": [
      "\n",
      "save..:   0%|          | 0/2 [00:00<?, ?it/s]\u001b[A"
     ]
    },
    {
     "name": "stdout",
     "output_type": "stream",
     "text": [
      "호반닭갈비&막국수-중화본점 2\n",
      "모든 리뷰 불러오기 시작...\n",
      "모든 리뷰 불러오기 완료!\n"
     ]
    },
    {
     "name": "stderr",
     "output_type": "stream",
     "text": [
      "save..: 100%|██████████| 2/2 [00:00<00:00,  7.99it/s]\n"
     ]
    },
    {
     "name": "stdout",
     "output_type": "stream",
     "text": [
      "(6548, 11)\n"
     ]
    },
    {
     "name": "stderr",
     "output_type": "stream",
     "text": [
      "\r",
      "craw:  18%|█▊        | 54/300 [1:10:25<2:41:53, 39.48s/it]"
     ]
    },
    {
     "name": "stdout",
     "output_type": "stream",
     "text": [
      "좋은아침PASTRY-제기역점 scroll\n"
     ]
    },
    {
     "name": "stderr",
     "output_type": "stream",
     "text": [
      "\n",
      "save..:   0%|          | 0/5 [00:00<?, ?it/s]\u001b[A"
     ]
    },
    {
     "name": "stdout",
     "output_type": "stream",
     "text": [
      "좋은아침PASTRY-제기역점 5\n",
      "모든 리뷰 불러오기 시작...\n",
      "모든 리뷰 불러오기 완료!\n"
     ]
    },
    {
     "name": "stderr",
     "output_type": "stream",
     "text": [
      "save..: 100%|██████████| 5/5 [00:00<00:00, 17.67it/s]\n"
     ]
    },
    {
     "name": "stdout",
     "output_type": "stream",
     "text": [
      "(6553, 11)\n"
     ]
    },
    {
     "name": "stderr",
     "output_type": "stream",
     "text": [
      "\r",
      "craw:  18%|█▊        | 55/300 [1:11:00<2:35:53, 38.18s/it]"
     ]
    },
    {
     "name": "stdout",
     "output_type": "stream",
     "text": [
      "대성집-고려대점 scroll\n"
     ]
    },
    {
     "name": "stderr",
     "output_type": "stream",
     "text": [
      "\n",
      "save..:   0%|          | 0/1 [00:00<?, ?it/s]\u001b[A"
     ]
    },
    {
     "name": "stdout",
     "output_type": "stream",
     "text": [
      "대성집-고려대점 1\n",
      "모든 리뷰 불러오기 시작...\n",
      "모든 리뷰 불러오기 완료!\n"
     ]
    },
    {
     "name": "stderr",
     "output_type": "stream",
     "text": [
      "save..: 100%|██████████| 1/1 [00:00<00:00,  3.57it/s]\n"
     ]
    },
    {
     "name": "stdout",
     "output_type": "stream",
     "text": [
      "(6554, 11)\n"
     ]
    },
    {
     "name": "stderr",
     "output_type": "stream",
     "text": [
      "\r",
      "craw:  19%|█▊        | 56/300 [1:11:28<2:22:59, 35.16s/it]"
     ]
    },
    {
     "name": "stdout",
     "output_type": "stream",
     "text": [
      "사나이뚝배기-경희대점 scroll\n"
     ]
    },
    {
     "name": "stderr",
     "output_type": "stream",
     "text": [
      "\r",
      "craw:  19%|█▉        | 57/300 [1:11:32<1:44:42, 25.85s/it]"
     ]
    },
    {
     "name": "stdout",
     "output_type": "stream",
     "text": [
      "wrong shop\n",
      "경양카츠-제기점 scroll\n"
     ]
    },
    {
     "name": "stderr",
     "output_type": "stream",
     "text": [
      "\n",
      "save..: 100%|██████████| 1/1 [00:00<00:00, 1053.32it/s]"
     ]
    },
    {
     "name": "stdout",
     "output_type": "stream",
     "text": [
      "경양카츠-제기점 1\n",
      "모든 리뷰 불러오기 시작...\n",
      "모든 리뷰 불러오기 완료!\n",
      "(6555, 11)\n"
     ]
    },
    {
     "name": "stderr",
     "output_type": "stream",
     "text": [
      "\n",
      "craw:  19%|█▉        | 58/300 [1:12:06<1:53:28, 28.13s/it]"
     ]
    },
    {
     "name": "stdout",
     "output_type": "stream",
     "text": [
      "윤전시광 scroll\n"
     ]
    },
    {
     "name": "stderr",
     "output_type": "stream",
     "text": [
      "\n",
      "save..: 100%|██████████| 1/1 [00:00<00:00, 13.84it/s]"
     ]
    },
    {
     "name": "stdout",
     "output_type": "stream",
     "text": [
      "윤전시광 1\n",
      "모든 리뷰 불러오기 시작...\n",
      "모든 리뷰 불러오기 완료!\n",
      "(6556, 11)\n"
     ]
    },
    {
     "name": "stderr",
     "output_type": "stream",
     "text": [
      "\n",
      "craw:  20%|█▉        | 59/300 [1:12:18<1:33:33, 23.29s/it]"
     ]
    },
    {
     "name": "stdout",
     "output_type": "stream",
     "text": [
      "회기농장 scroll\n"
     ]
    },
    {
     "name": "stderr",
     "output_type": "stream",
     "text": [
      "\n",
      "save..: 100%|██████████| 1/1 [00:00<00:00, 1208.38it/s]"
     ]
    },
    {
     "name": "stdout",
     "output_type": "stream",
     "text": [
      "회기농장 1\n",
      "모든 리뷰 불러오기 시작...\n",
      "모든 리뷰 불러오기 완료!\n",
      "(6557, 11)\n"
     ]
    },
    {
     "name": "stderr",
     "output_type": "stream",
     "text": [
      "\n",
      "craw:  20%|██        | 60/300 [1:12:49<1:43:05, 25.77s/it]"
     ]
    },
    {
     "name": "stdout",
     "output_type": "stream",
     "text": [
      "도시락파스타-회기본점 scroll\n",
      "도시락파스타-회기본점 89\n",
      "모든 리뷰 불러오기 시작...\n",
      "모든 리뷰 불러오기 완료!\n"
     ]
    },
    {
     "name": "stderr",
     "output_type": "stream",
     "text": [
      "\n",
      "save..:   0%|          | 0/89 [00:00<?, ?it/s]\u001b[A\n",
      "save..:  24%|██▎       | 21/89 [00:03<00:10,  6.39it/s]\u001b[A\n",
      "save..:  48%|████▊     | 43/89 [00:06<00:07,  6.54it/s]\u001b[A\n",
      "save..:  64%|██████▍   | 57/89 [00:10<00:05,  5.46it/s]\u001b[A\n",
      "save..: 100%|██████████| 89/89 [00:14<00:00,  6.01it/s]\u001b[A\n"
     ]
    },
    {
     "name": "stdout",
     "output_type": "stream",
     "text": [
      "(6646, 11)\n"
     ]
    },
    {
     "name": "stderr",
     "output_type": "stream",
     "text": [
      "\r",
      "craw:  20%|██        | 61/300 [1:13:55<2:30:49, 37.86s/it]"
     ]
    },
    {
     "name": "stdout",
     "output_type": "stream",
     "text": [
      "59쌀피자-안암오거리점 scroll\n",
      "59쌀피자-안암오거리점 50\n",
      "모든 리뷰 불러오기 시작...\n",
      "모든 리뷰 불러오기 완료!\n"
     ]
    },
    {
     "name": "stderr",
     "output_type": "stream",
     "text": [
      "\n",
      "save..:   0%|          | 0/50 [00:00<?, ?it/s]\u001b[A\n",
      "save..: 100%|██████████| 50/50 [00:03<00:00, 13.68it/s]\u001b[A\n"
     ]
    },
    {
     "name": "stdout",
     "output_type": "stream",
     "text": [
      "(6696, 11)\n"
     ]
    },
    {
     "name": "stderr",
     "output_type": "stream",
     "text": [
      "\r",
      "craw:  21%|██        | 62/300 [1:15:07<3:10:26, 48.01s/it]"
     ]
    },
    {
     "name": "stdout",
     "output_type": "stream",
     "text": [
      "신참떡볶이-장안사거리점 scroll\n",
      "신참떡볶이-장안사거리점 28\n",
      "모든 리뷰 불러오기 시작...\n",
      "모든 리뷰 불러오기 완료!\n"
     ]
    },
    {
     "name": "stderr",
     "output_type": "stream",
     "text": [
      "\n",
      "save..: 100%|██████████| 28/28 [00:01<00:00, 16.59it/s]\n"
     ]
    },
    {
     "name": "stdout",
     "output_type": "stream",
     "text": [
      "(6724, 11)\n"
     ]
    },
    {
     "name": "stderr",
     "output_type": "stream",
     "text": [
      "\r",
      "craw:  21%|██        | 63/300 [1:16:06<3:22:36, 51.29s/it]"
     ]
    },
    {
     "name": "stdout",
     "output_type": "stream",
     "text": [
      "취중야식-본점 scroll\n"
     ]
    },
    {
     "name": "stderr",
     "output_type": "stream",
     "text": [
      "\n",
      "save..: 100%|██████████| 1/1 [00:00<00:00, 641.43it/s]"
     ]
    },
    {
     "name": "stdout",
     "output_type": "stream",
     "text": [
      "취중야식-본점 1\n",
      "모든 리뷰 불러오기 시작...\n",
      "모든 리뷰 불러오기 완료!\n",
      "(6725, 11)\n"
     ]
    },
    {
     "name": "stderr",
     "output_type": "stream",
     "text": [
      "\n",
      "craw:  21%|██▏       | 64/300 [1:16:23<2:41:01, 40.94s/it]"
     ]
    },
    {
     "name": "stdout",
     "output_type": "stream",
     "text": [
      "더철판곱창앤불고기 scroll\n"
     ]
    },
    {
     "name": "stderr",
     "output_type": "stream",
     "text": [
      "\n",
      "save..: 100%|██████████| 1/1 [00:00<00:00, 12.09it/s]"
     ]
    },
    {
     "name": "stdout",
     "output_type": "stream",
     "text": [
      "더철판곱창앤불고기 1\n",
      "모든 리뷰 불러오기 시작...\n",
      "모든 리뷰 불러오기 완료!\n",
      "(6726, 11)\n"
     ]
    },
    {
     "name": "stderr",
     "output_type": "stream",
     "text": [
      "\n",
      "craw:  22%|██▏       | 65/300 [1:16:44<2:17:31, 35.11s/it]"
     ]
    },
    {
     "name": "stdout",
     "output_type": "stream",
     "text": [
      "10첩반상찌개백반-묵동점 scroll\n",
      "10첩반상찌개백반-묵동점 374\n",
      "모든 리뷰 불러오기 시작...\n",
      "모든 리뷰 불러오기 완료!\n"
     ]
    },
    {
     "name": "stderr",
     "output_type": "stream",
     "text": [
      "\n",
      "save..:   0%|          | 0/374 [00:00<?, ?it/s]\u001b[A\n",
      "save..:  17%|█▋        | 63/374 [00:03<00:14, 20.84it/s]\u001b[A\n",
      "save..:  33%|███▎      | 123/374 [00:06<00:12, 20.45it/s]\u001b[A\n",
      "save..:  48%|████▊     | 180/374 [00:09<00:09, 19.80it/s]\u001b[A\n",
      "save..:  60%|██████    | 226/374 [00:12<00:08, 17.97it/s]\u001b[A\n",
      "save..:  78%|███████▊  | 293/374 [00:15<00:04, 19.00it/s]\u001b[A\n",
      "save..: 100%|██████████| 374/374 [00:19<00:00, 19.64it/s]\u001b[A\n"
     ]
    },
    {
     "name": "stdout",
     "output_type": "stream",
     "text": [
      "(7100, 11)\n"
     ]
    },
    {
     "name": "stderr",
     "output_type": "stream",
     "text": [
      "\r",
      "craw:  22%|██▏       | 66/300 [1:18:53<4:06:36, 63.23s/it]"
     ]
    },
    {
     "name": "stdout",
     "output_type": "stream",
     "text": [
      "카페오크라 scroll\n",
      "카페오크라 10\n",
      "모든 리뷰 불러오기 시작...\n",
      "모든 리뷰 불러오기 완료!\n"
     ]
    },
    {
     "name": "stderr",
     "output_type": "stream",
     "text": [
      "\n",
      "save..: 100%|██████████| 10/10 [00:00<00:00, 12.94it/s]\n"
     ]
    },
    {
     "name": "stdout",
     "output_type": "stream",
     "text": [
      "(7110, 11)\n"
     ]
    },
    {
     "name": "stderr",
     "output_type": "stream",
     "text": [
      "\r",
      "craw:  22%|██▏       | 67/300 [1:19:18<3:20:26, 51.62s/it]"
     ]
    },
    {
     "name": "stdout",
     "output_type": "stream",
     "text": [
      "낙지랑아구 scroll\n",
      "낙지랑아구 96\n",
      "모든 리뷰 불러오기 시작...\n",
      "모든 리뷰 불러오기 완료!\n"
     ]
    },
    {
     "name": "stderr",
     "output_type": "stream",
     "text": [
      "\n",
      "save..:   0%|          | 0/96 [00:00<?, ?it/s]\u001b[A\n",
      "save..: 100%|██████████| 96/96 [00:03<00:00, 26.27it/s]\u001b[A\n"
     ]
    },
    {
     "name": "stdout",
     "output_type": "stream",
     "text": [
      "(7206, 11)\n"
     ]
    },
    {
     "name": "stderr",
     "output_type": "stream",
     "text": [
      "\r",
      "craw:  23%|██▎       | 68/300 [1:20:31<3:44:42, 58.11s/it]"
     ]
    },
    {
     "name": "stdout",
     "output_type": "stream",
     "text": [
      "요띠드 scroll\n",
      "요띠드 378\n",
      "모든 리뷰 불러오기 시작...\n",
      "모든 리뷰 불러오기 완료!\n"
     ]
    },
    {
     "name": "stderr",
     "output_type": "stream",
     "text": [
      "\n",
      "save..:   0%|          | 0/378 [00:00<?, ?it/s]\u001b[A\n",
      "save..:  11%|█▏        | 43/378 [00:03<00:24, 13.78it/s]\u001b[A\n",
      "save..:  25%|██▍       | 94/378 [00:06<00:19, 14.46it/s]\u001b[A\n",
      "save..:  32%|███▏      | 121/378 [00:09<00:21, 12.16it/s]\u001b[A\n",
      "save..:  41%|████      | 155/378 [00:12<00:18, 11.80it/s]\u001b[A\n",
      "save..:  51%|█████     | 193/378 [00:15<00:15, 11.61it/s]\u001b[A\n",
      "save..:  59%|█████▊    | 222/378 [00:18<00:14, 10.83it/s]\u001b[A\n",
      "save..:  67%|██████▋   | 255/378 [00:21<00:11, 10.84it/s]\u001b[A\n",
      "save..:  76%|███████▌  | 287/378 [00:25<00:08, 10.52it/s]\u001b[A\n",
      "save..:  85%|████████▌ | 323/378 [00:28<00:05, 10.67it/s]\u001b[A\n",
      "save..: 100%|██████████| 378/378 [00:34<00:00, 10.97it/s]\u001b[A\n"
     ]
    },
    {
     "name": "stdout",
     "output_type": "stream",
     "text": [
      "(7584, 11)\n"
     ]
    },
    {
     "name": "stderr",
     "output_type": "stream",
     "text": [
      "\r",
      "craw:  23%|██▎       | 69/300 [1:22:46<5:12:40, 81.22s/it]"
     ]
    },
    {
     "name": "stdout",
     "output_type": "stream",
     "text": [
      "아임찜닭-고대안암점 scroll\n",
      "아임찜닭-고대안암점 289\n",
      "모든 리뷰 불러오기 시작...\n",
      "모든 리뷰 불러오기 완료!\n"
     ]
    },
    {
     "name": "stderr",
     "output_type": "stream",
     "text": [
      "\n",
      "save..:   0%|          | 0/289 [00:00<?, ?it/s]\u001b[A\n",
      "save..:  13%|█▎        | 37/289 [00:03<00:21, 11.89it/s]\u001b[A\n",
      "save..:  29%|██▊       | 83/289 [00:06<00:16, 12.72it/s]\u001b[A\n",
      "save..:  48%|████▊     | 140/289 [00:09<00:10, 14.06it/s]\u001b[A\n",
      "save..: 100%|██████████| 289/289 [00:14<00:00, 19.44it/s]\u001b[A\n"
     ]
    },
    {
     "name": "stdout",
     "output_type": "stream",
     "text": [
      "(7873, 11)\n"
     ]
    },
    {
     "name": "stderr",
     "output_type": "stream",
     "text": [
      "\r",
      "craw:  23%|██▎       | 70/300 [1:24:52<6:02:16, 94.51s/it]"
     ]
    },
    {
     "name": "stdout",
     "output_type": "stream",
     "text": [
      "고향족발-청량리점 scroll\n"
     ]
    },
    {
     "name": "stderr",
     "output_type": "stream",
     "text": [
      "\r",
      "craw:  24%|██▎       | 71/300 [1:25:05<4:28:18, 70.30s/it]"
     ]
    },
    {
     "name": "stdout",
     "output_type": "stream",
     "text": [
      "wrong shop\n",
      "카페멜라-본점 scroll\n",
      "카페멜라-본점 11\n",
      "모든 리뷰 불러오기 시작...\n"
     ]
    },
    {
     "name": "stderr",
     "output_type": "stream",
     "text": [
      "\n",
      "save..:   0%|          | 0/11 [00:00<?, ?it/s]\u001b[A"
     ]
    },
    {
     "name": "stdout",
     "output_type": "stream",
     "text": [
      "모든 리뷰 불러오기 완료!\n"
     ]
    },
    {
     "name": "stderr",
     "output_type": "stream",
     "text": [
      "save..: 100%|██████████| 11/11 [00:00<00:00, 25.52it/s]\n"
     ]
    },
    {
     "name": "stdout",
     "output_type": "stream",
     "text": [
      "(7884, 11)\n"
     ]
    },
    {
     "name": "stderr",
     "output_type": "stream",
     "text": [
      "\r",
      "craw:  24%|██▍       | 72/300 [1:25:48<3:55:03, 61.86s/it]"
     ]
    },
    {
     "name": "stdout",
     "output_type": "stream",
     "text": [
      "쿨한냉면-석관점 scroll\n"
     ]
    },
    {
     "name": "stderr",
     "output_type": "stream",
     "text": [
      "\n",
      "save..:   0%|          | 0/1 [00:00<?, ?it/s]\u001b[A"
     ]
    },
    {
     "name": "stdout",
     "output_type": "stream",
     "text": [
      "쿨한냉면-석관점 1\n",
      "모든 리뷰 불러오기 시작...\n",
      "모든 리뷰 불러오기 완료!\n"
     ]
    },
    {
     "name": "stderr",
     "output_type": "stream",
     "text": [
      "save..: 100%|██████████| 1/1 [00:00<00:00,  7.23it/s]\n"
     ]
    },
    {
     "name": "stdout",
     "output_type": "stream",
     "text": [
      "(7885, 11)\n"
     ]
    },
    {
     "name": "stderr",
     "output_type": "stream",
     "text": [
      "\r",
      "craw:  24%|██▍       | 73/300 [1:26:35<3:37:35, 57.51s/it]"
     ]
    },
    {
     "name": "stdout",
     "output_type": "stream",
     "text": [
      "굽네치킨&피자-이문1호점 scroll\n",
      "굽네치킨&피자-이문1호점 2397\n",
      "모든 리뷰 불러오기 시작...\n",
      "모든 리뷰 불러오기 완료!\n"
     ]
    },
    {
     "name": "stderr",
     "output_type": "stream",
     "text": [
      "\n",
      "save..:   0%|          | 0/2397 [00:00<?, ?it/s]\u001b[A\n",
      "save..:   2%|▏         | 57/2397 [00:03<02:03, 18.91it/s]\u001b[A\n",
      "save..:   5%|▌         | 121/2397 [00:06<01:56, 19.52it/s]\u001b[A\n",
      "save..:   8%|▊         | 182/2397 [00:09<01:53, 19.55it/s]\u001b[A\n",
      "save..:  10%|█         | 246/2397 [00:12<01:47, 19.93it/s]\u001b[A\n",
      "save..:  13%|█▎        | 305/2397 [00:15<01:45, 19.77it/s]\u001b[A\n",
      "save..:  16%|█▋        | 395/2397 [00:18<01:31, 21.91it/s]\u001b[A\n",
      "save..:  20%|██        | 480/2397 [00:21<01:22, 23.28it/s]\u001b[A\n",
      "save..:  23%|██▎       | 548/2397 [00:24<01:21, 22.77it/s]\u001b[A\n",
      "save..:  26%|██▌       | 622/2397 [00:27<01:16, 23.28it/s]\u001b[A\n",
      "save..:  29%|██▉       | 691/2397 [00:30<01:15, 22.59it/s]\u001b[A\n",
      "save..:  32%|███▏      | 759/2397 [00:34<01:14, 21.86it/s]\u001b[A\n",
      "save..:  34%|███▍      | 826/2397 [00:37<01:11, 21.87it/s]\u001b[A\n",
      "save..:  38%|███▊      | 917/2397 [00:40<01:02, 23.77it/s]\u001b[A\n",
      "save..:  42%|████▏     | 1014/2397 [00:43<00:53, 25.66it/s]\u001b[A\n",
      "save..:  46%|████▋     | 1111/2397 [00:46<00:47, 27.27it/s]\u001b[A\n",
      "save..:  52%|█████▏    | 1240/2397 [00:49<00:37, 30.62it/s]\u001b[A\n",
      "save..:  56%|█████▌    | 1343/2397 [00:52<00:33, 31.55it/s]\u001b[A\n",
      "save..:  60%|██████    | 1442/2397 [00:57<00:36, 26.39it/s]\u001b[A\n",
      "save..:  64%|██████▍   | 1529/2397 [01:01<00:35, 24.58it/s]\u001b[A\n",
      "save..:  67%|██████▋   | 1609/2397 [01:04<00:31, 24.67it/s]\u001b[A\n",
      "save..:  74%|███████▍  | 1768/2397 [01:08<00:21, 29.26it/s]\u001b[A\n",
      "save..:  79%|███████▉  | 1899/2397 [01:11<00:15, 32.30it/s]\u001b[A\n",
      "save..:  85%|████████▍ | 2034/2397 [01:14<00:10, 35.28it/s]\u001b[A\n",
      "save..: 100%|██████████| 2397/2397 [01:19<00:00, 30.27it/s]\u001b[A\n"
     ]
    },
    {
     "name": "stdout",
     "output_type": "stream",
     "text": [
      "(10282, 11)\n"
     ]
    },
    {
     "name": "stderr",
     "output_type": "stream",
     "text": [
      "\r",
      "craw:  25%|██▍       | 74/300 [1:39:19<16:54:29, 269.33s/it]"
     ]
    },
    {
     "name": "stdout",
     "output_type": "stream",
     "text": [
      "남대문우리식당-본점 scroll\n",
      "남대문우리식당-본점 12\n",
      "모든 리뷰 불러오기 시작...\n"
     ]
    },
    {
     "name": "stderr",
     "output_type": "stream",
     "text": [
      "\n",
      "save..:   0%|          | 0/12 [00:00<?, ?it/s]\u001b[A"
     ]
    },
    {
     "name": "stdout",
     "output_type": "stream",
     "text": [
      "모든 리뷰 불러오기 완료!\n"
     ]
    },
    {
     "name": "stderr",
     "output_type": "stream",
     "text": [
      "save..: 100%|██████████| 12/12 [00:00<00:00, 35.24it/s]\n"
     ]
    },
    {
     "name": "stdout",
     "output_type": "stream",
     "text": [
      "(10294, 11)\n"
     ]
    },
    {
     "name": "stderr",
     "output_type": "stream",
     "text": [
      "\r",
      "craw:  25%|██▌       | 75/300 [1:40:19<12:54:32, 206.54s/it]"
     ]
    },
    {
     "name": "stdout",
     "output_type": "stream",
     "text": [
      "이원용피자 scroll\n",
      "이원용피자 27\n",
      "모든 리뷰 불러오기 시작...\n",
      "모든 리뷰 불러오기 완료!\n"
     ]
    },
    {
     "name": "stderr",
     "output_type": "stream",
     "text": [
      "\n",
      "save..: 100%|██████████| 27/27 [00:01<00:00, 24.43it/s]\n"
     ]
    },
    {
     "name": "stdout",
     "output_type": "stream",
     "text": [
      "(10321, 11)\n"
     ]
    },
    {
     "name": "stderr",
     "output_type": "stream",
     "text": [
      "\r",
      "craw:  25%|██▌       | 76/300 [1:41:23<10:11:27, 163.79s/it]"
     ]
    },
    {
     "name": "stdout",
     "output_type": "stream",
     "text": [
      "우마이스시 scroll\n",
      "우마이스시 932\n",
      "모든 리뷰 불러오기 시작...\n",
      "모든 리뷰 불러오기 완료!\n"
     ]
    },
    {
     "name": "stderr",
     "output_type": "stream",
     "text": [
      "\n",
      "save..:   0%|          | 0/932 [00:00<?, ?it/s]\u001b[A\n",
      "save..:   6%|▌         | 57/932 [00:03<00:46, 18.64it/s]\u001b[A\n",
      "save..:  11%|█         | 104/932 [00:06<00:47, 17.50it/s]\u001b[A\n",
      "save..:  16%|█▌        | 150/932 [00:09<00:47, 16.56it/s]\u001b[A\n",
      "save..:  20%|██        | 191/932 [00:12<00:47, 15.47it/s]\u001b[A\n",
      "save..:  24%|██▍       | 225/932 [00:16<01:01, 11.57it/s]\u001b[A\n",
      "save..:  27%|██▋       | 256/932 [00:20<01:05, 10.34it/s]\u001b[A\n",
      "save..:  31%|███       | 285/932 [00:24<01:07,  9.61it/s]\u001b[A\n",
      "save..:  35%|███▍      | 323/932 [00:27<00:58, 10.35it/s]\u001b[A\n",
      "save..:  38%|███▊      | 355/932 [00:30<00:55, 10.39it/s]\u001b[A\n",
      "save..:  41%|████▏     | 386/932 [00:35<01:05,  8.34it/s]\u001b[A\n",
      "save..:  45%|████▌     | 421/932 [00:38<00:56,  9.00it/s]\u001b[A\n",
      "save..:  51%|█████     | 474/932 [00:41<00:43, 10.55it/s]\u001b[A\n",
      "save..:  56%|█████▌    | 521/932 [00:44<00:35, 11.63it/s]\u001b[A\n",
      "save..:  60%|██████    | 560/932 [00:48<00:31, 11.77it/s]\u001b[A\n",
      "save..:  69%|██████▉   | 642/932 [00:51<00:20, 14.15it/s]\u001b[A\n",
      "save..:  76%|███████▌  | 705/932 [00:54<00:14, 15.54it/s]\u001b[A\n",
      "save..:  83%|████████▎ | 769/932 [00:57<00:09, 16.89it/s]\u001b[A\n",
      "save..:  89%|████████▊ | 826/932 [01:00<00:06, 17.04it/s]\u001b[A\n",
      "save..: 100%|██████████| 932/932 [01:06<00:00, 13.95it/s]\u001b[A\n"
     ]
    },
    {
     "name": "stdout",
     "output_type": "stream",
     "text": [
      "(11253, 11)\n"
     ]
    },
    {
     "name": "stderr",
     "output_type": "stream",
     "text": [
      "\r",
      "craw:  26%|██▌       | 77/300 [1:46:16<12:33:16, 202.67s/it]"
     ]
    },
    {
     "name": "stdout",
     "output_type": "stream",
     "text": [
      "사리원돼지국밥&순대국 scroll\n",
      "사리원돼지국밥&순대국 57\n",
      "모든 리뷰 불러오기 시작...\n"
     ]
    },
    {
     "name": "stderr",
     "output_type": "stream",
     "text": [
      "\n",
      "save..:   0%|          | 0/57 [00:00<?, ?it/s]\u001b[A"
     ]
    },
    {
     "name": "stdout",
     "output_type": "stream",
     "text": [
      "모든 리뷰 불러오기 완료!\n"
     ]
    },
    {
     "name": "stderr",
     "output_type": "stream",
     "text": [
      "save..: 100%|██████████| 57/57 [00:02<00:00, 19.65it/s]\n"
     ]
    },
    {
     "name": "stdout",
     "output_type": "stream",
     "text": [
      "(11310, 11)\n"
     ]
    },
    {
     "name": "stderr",
     "output_type": "stream",
     "text": [
      "\r",
      "craw:  26%|██▌       | 78/300 [1:47:08<9:42:27, 157.42s/it] "
     ]
    },
    {
     "name": "stdout",
     "output_type": "stream",
     "text": [
      "1인마라탕Delivery-장안동점 scroll\n",
      "1인마라탕Delivery-장안동점 39\n",
      "모든 리뷰 불러오기 시작...\n"
     ]
    },
    {
     "name": "stderr",
     "output_type": "stream",
     "text": [
      "\n",
      "save..:   0%|          | 0/39 [00:00<?, ?it/s]\u001b[A"
     ]
    },
    {
     "name": "stdout",
     "output_type": "stream",
     "text": [
      "모든 리뷰 불러오기 완료!\n"
     ]
    },
    {
     "name": "stderr",
     "output_type": "stream",
     "text": [
      "save..: 100%|██████████| 39/39 [00:01<00:00, 27.52it/s]\n"
     ]
    },
    {
     "name": "stdout",
     "output_type": "stream",
     "text": [
      "(11349, 11)\n"
     ]
    },
    {
     "name": "stderr",
     "output_type": "stream",
     "text": [
      "\r",
      "craw:  26%|██▋       | 79/300 [1:48:04<7:48:00, 127.06s/it]"
     ]
    },
    {
     "name": "stdout",
     "output_type": "stream",
     "text": [
      "오소록 scroll\n"
     ]
    },
    {
     "name": "stderr",
     "output_type": "stream",
     "text": [
      "\r",
      "craw:  27%|██▋       | 80/300 [1:48:34<5:59:39, 98.09s/it] "
     ]
    },
    {
     "name": "stdout",
     "output_type": "stream",
     "text": [
      "wrong shop\n",
      "작은동경덮밥&소바-회기점 scroll\n",
      "작은동경덮밥&소바-회기점 scroll\n",
      "작은동경덮밥&소바-회기점 110\n",
      "모든 리뷰 불러오기 시작...\n",
      "모든 리뷰 불러오기 완료!\n"
     ]
    },
    {
     "name": "stderr",
     "output_type": "stream",
     "text": [
      "\n",
      "save..:   0%|          | 0/110 [00:00<?, ?it/s]\u001b[A\n",
      "save..: 100%|██████████| 110/110 [00:05<00:00, 20.77it/s][A\n"
     ]
    },
    {
     "name": "stdout",
     "output_type": "stream",
     "text": [
      "(11459, 11)\n"
     ]
    },
    {
     "name": "stderr",
     "output_type": "stream",
     "text": [
      "\r",
      "craw:  27%|██▋       | 81/300 [1:49:55<5:38:14, 92.67s/it]"
     ]
    },
    {
     "name": "stdout",
     "output_type": "stream",
     "text": [
      "그옛날1947왕만두-이문점 scroll\n",
      "그옛날1947왕만두-이문점 80\n",
      "모든 리뷰 불러오기 시작...\n",
      "모든 리뷰 불러오기 완료!\n"
     ]
    },
    {
     "name": "stderr",
     "output_type": "stream",
     "text": [
      "\n",
      "save..:   0%|          | 0/80 [00:00<?, ?it/s]\u001b[A\n",
      "save..: 100%|██████████| 80/80 [00:03<00:00, 20.19it/s]\u001b[A\n"
     ]
    },
    {
     "name": "stdout",
     "output_type": "stream",
     "text": [
      "(11539, 11)\n"
     ]
    },
    {
     "name": "stderr",
     "output_type": "stream",
     "text": [
      "\r",
      "craw:  27%|██▋       | 82/300 [1:50:33<4:38:09, 76.56s/it]"
     ]
    },
    {
     "name": "stdout",
     "output_type": "stream",
     "text": [
      "8000샤브칼국수 scroll\n"
     ]
    },
    {
     "name": "stderr",
     "output_type": "stream",
     "text": [
      "\n",
      "save..: 100%|██████████| 5/5 [00:00<00:00, 57.91it/s]"
     ]
    },
    {
     "name": "stdout",
     "output_type": "stream",
     "text": [
      "8000샤브칼국수 5\n",
      "모든 리뷰 불러오기 시작...\n",
      "모든 리뷰 불러오기 완료!\n"
     ]
    },
    {
     "name": "stderr",
     "output_type": "stream",
     "text": [
      "\n"
     ]
    },
    {
     "name": "stdout",
     "output_type": "stream",
     "text": [
      "(11544, 11)\n"
     ]
    },
    {
     "name": "stderr",
     "output_type": "stream",
     "text": [
      "\r",
      "craw:  28%|██▊       | 83/300 [1:51:07<3:49:55, 63.58s/it]"
     ]
    },
    {
     "name": "stdout",
     "output_type": "stream",
     "text": [
      "마라룽샤전문점-꼬마꼬치 scroll\n",
      "마라룽샤전문점-꼬마꼬치 2\n",
      "모든 리뷰 불러오기 시작...\n",
      "모든 리뷰 불러오기 완료!\n"
     ]
    },
    {
     "name": "stderr",
     "output_type": "stream",
     "text": [
      "\n",
      "save..: 100%|██████████| 2/2 [00:00<00:00, 16.84it/s]\n"
     ]
    },
    {
     "name": "stdout",
     "output_type": "stream",
     "text": [
      "(11546, 11)\n"
     ]
    },
    {
     "name": "stderr",
     "output_type": "stream",
     "text": [
      "\r",
      "craw:  28%|██▊       | 84/300 [1:51:54<3:31:15, 58.68s/it]"
     ]
    },
    {
     "name": "stdout",
     "output_type": "stream",
     "text": [
      "카페115번지 scroll\n",
      "카페115번지 51\n",
      "모든 리뷰 불러오기 시작...\n",
      "모든 리뷰 불러오기 완료!\n"
     ]
    },
    {
     "name": "stderr",
     "output_type": "stream",
     "text": [
      "\n",
      "save..:   0%|          | 0/51 [00:00<?, ?it/s]\u001b[A\n",
      "save..: 100%|██████████| 51/51 [00:03<00:00, 15.49it/s]\u001b[A\n"
     ]
    },
    {
     "name": "stdout",
     "output_type": "stream",
     "text": [
      "(11597, 11)\n"
     ]
    },
    {
     "name": "stderr",
     "output_type": "stream",
     "text": [
      "\r",
      "craw:  28%|██▊       | 85/300 [1:52:26<3:01:43, 50.72s/it]"
     ]
    },
    {
     "name": "stdout",
     "output_type": "stream",
     "text": [
      "담소소사골순대,육개장-월곡역점 scroll\n"
     ]
    },
    {
     "name": "stderr",
     "output_type": "stream",
     "text": [
      "\r",
      "craw:  29%|██▊       | 86/300 [1:52:38<2:19:33, 39.13s/it]"
     ]
    },
    {
     "name": "stdout",
     "output_type": "stream",
     "text": [
      "wrong shop\n",
      "베스트등갈비&돼지갈비찜 scroll\n",
      "베스트등갈비&돼지갈비찜 67\n",
      "모든 리뷰 불러오기 시작...\n",
      "모든 리뷰 불러오기 완료!\n"
     ]
    },
    {
     "name": "stderr",
     "output_type": "stream",
     "text": [
      "\n",
      "save..: 100%|██████████| 67/67 [00:02<00:00, 31.12it/s]\n"
     ]
    },
    {
     "name": "stdout",
     "output_type": "stream",
     "text": [
      "(11664, 11)\n"
     ]
    },
    {
     "name": "stderr",
     "output_type": "stream",
     "text": [
      "\r",
      "craw:  29%|██▉       | 87/300 [1:53:34<2:36:11, 44.00s/it]"
     ]
    },
    {
     "name": "stdout",
     "output_type": "stream",
     "text": [
      "풍천장어굴보쌈 scroll\n",
      "풍천장어굴보쌈 17\n",
      "모든 리뷰 불러오기 시작...\n"
     ]
    },
    {
     "name": "stderr",
     "output_type": "stream",
     "text": [
      "\n",
      "save..:   0%|          | 0/17 [00:00<?, ?it/s]\u001b[A"
     ]
    },
    {
     "name": "stdout",
     "output_type": "stream",
     "text": [
      "모든 리뷰 불러오기 완료!\n"
     ]
    },
    {
     "name": "stderr",
     "output_type": "stream",
     "text": [
      "save..: 100%|██████████| 17/17 [00:00<00:00, 23.42it/s]\n"
     ]
    },
    {
     "name": "stdout",
     "output_type": "stream",
     "text": [
      "(11681, 11)\n"
     ]
    },
    {
     "name": "stderr",
     "output_type": "stream",
     "text": [
      "\r",
      "craw:  29%|██▉       | 88/300 [1:54:00<2:16:19, 38.58s/it]"
     ]
    },
    {
     "name": "stdout",
     "output_type": "stream",
     "text": [
      "풍년오리&추어탕 scroll\n"
     ]
    },
    {
     "name": "stderr",
     "output_type": "stream",
     "text": [
      "\n",
      "save..:   0%|          | 0/2 [00:00<?, ?it/s]\u001b[A"
     ]
    },
    {
     "name": "stdout",
     "output_type": "stream",
     "text": [
      "풍년오리&추어탕 2\n",
      "모든 리뷰 불러오기 시작...\n",
      "모든 리뷰 불러오기 완료!\n"
     ]
    },
    {
     "name": "stderr",
     "output_type": "stream",
     "text": [
      "save..: 100%|██████████| 2/2 [00:00<00:00, 12.49it/s]\n"
     ]
    },
    {
     "name": "stdout",
     "output_type": "stream",
     "text": [
      "(11683, 11)\n"
     ]
    },
    {
     "name": "stderr",
     "output_type": "stream",
     "text": [
      "\r",
      "craw:  30%|██▉       | 89/300 [1:54:45<2:22:40, 40.57s/it]"
     ]
    },
    {
     "name": "stdout",
     "output_type": "stream",
     "text": [
      "불스떡볶이-석계점 scroll\n",
      "불스떡볶이-석계점 32\n",
      "모든 리뷰 불러오기 시작...\n",
      "모든 리뷰 불러오기 완료!\n"
     ]
    },
    {
     "name": "stderr",
     "output_type": "stream",
     "text": [
      "\n",
      "save..: 100%|██████████| 32/32 [00:01<00:00, 18.89it/s]\n"
     ]
    },
    {
     "name": "stdout",
     "output_type": "stream",
     "text": [
      "(11715, 11)\n"
     ]
    },
    {
     "name": "stderr",
     "output_type": "stream",
     "text": [
      "\r",
      "craw:  30%|███       | 90/300 [1:55:49<2:46:40, 47.62s/it]"
     ]
    },
    {
     "name": "stdout",
     "output_type": "stream",
     "text": [
      "9292김치삼겹살 scroll\n",
      "9292김치삼겹살 51\n",
      "모든 리뷰 불러오기 시작...\n",
      "모든 리뷰 불러오기 완료!\n"
     ]
    },
    {
     "name": "stderr",
     "output_type": "stream",
     "text": [
      "\n",
      "save..: 100%|██████████| 51/51 [00:02<00:00, 23.16it/s]\n"
     ]
    },
    {
     "name": "stdout",
     "output_type": "stream",
     "text": [
      "(11766, 11)\n"
     ]
    },
    {
     "name": "stderr",
     "output_type": "stream",
     "text": [
      "\r",
      "craw:  30%|███       | 91/300 [1:56:59<3:09:33, 54.42s/it]"
     ]
    },
    {
     "name": "stdout",
     "output_type": "stream",
     "text": [
      "조마루감자탕-석관점 scroll\n",
      "조마루감자탕-석관점 22\n",
      "모든 리뷰 불러오기 시작...\n"
     ]
    },
    {
     "name": "stderr",
     "output_type": "stream",
     "text": [
      "\n",
      "save..:   0%|          | 0/22 [00:00<?, ?it/s]\u001b[A"
     ]
    },
    {
     "name": "stdout",
     "output_type": "stream",
     "text": [
      "모든 리뷰 불러오기 완료!\n"
     ]
    },
    {
     "name": "stderr",
     "output_type": "stream",
     "text": [
      "save..: 100%|██████████| 22/22 [00:00<00:00, 47.97it/s]\n"
     ]
    },
    {
     "name": "stdout",
     "output_type": "stream",
     "text": [
      "(11788, 11)\n"
     ]
    },
    {
     "name": "stderr",
     "output_type": "stream",
     "text": [
      "\r",
      "craw:  31%|███       | 92/300 [1:57:35<2:49:27, 48.88s/it]"
     ]
    },
    {
     "name": "stdout",
     "output_type": "stream",
     "text": [
      "돈태자 scroll\n"
     ]
    },
    {
     "name": "stderr",
     "output_type": "stream",
     "text": [
      "\n",
      "save..: 100%|██████████| 6/6 [00:00<00:00, 1241.35it/s]"
     ]
    },
    {
     "name": "stdout",
     "output_type": "stream",
     "text": [
      "돈태자 6\n",
      "모든 리뷰 불러오기 시작...\n",
      "모든 리뷰 불러오기 완료!\n",
      "(11794, 11)\n"
     ]
    },
    {
     "name": "stderr",
     "output_type": "stream",
     "text": [
      "\n",
      "craw:  31%|███       | 93/300 [1:58:07<2:30:45, 43.70s/it]"
     ]
    },
    {
     "name": "stdout",
     "output_type": "stream",
     "text": [
      "아임요거트그렐-동대문점 scroll\n",
      "아임요거트그렐-동대문점 13\n",
      "모든 리뷰 불러오기 시작...\n",
      "모든 리뷰 불러오기 완료!\n"
     ]
    },
    {
     "name": "stderr",
     "output_type": "stream",
     "text": [
      "\n",
      "save..: 100%|██████████| 13/13 [00:00<00:00, 27.42it/s]\n"
     ]
    },
    {
     "name": "stdout",
     "output_type": "stream",
     "text": [
      "(11807, 11)\n"
     ]
    },
    {
     "name": "stderr",
     "output_type": "stream",
     "text": [
      "\r",
      "craw:  31%|███▏      | 94/300 [1:58:28<2:06:38, 36.88s/it]"
     ]
    },
    {
     "name": "stdout",
     "output_type": "stream",
     "text": [
      "고씨네 고려대점 scroll\n",
      "고씨네 고려대점 97\n",
      "모든 리뷰 불러오기 시작...\n",
      "모든 리뷰 불러오기 완료!\n"
     ]
    },
    {
     "name": "stderr",
     "output_type": "stream",
     "text": [
      "\n",
      "save..:   0%|          | 0/97 [00:00<?, ?it/s]\u001b[A\n",
      "save..: 100%|██████████| 97/97 [00:04<00:00, 22.50it/s]\u001b[A\n"
     ]
    },
    {
     "name": "stdout",
     "output_type": "stream",
     "text": [
      "(11904, 11)\n"
     ]
    },
    {
     "name": "stderr",
     "output_type": "stream",
     "text": [
      "\r",
      "craw:  32%|███▏      | 95/300 [1:59:09<2:10:45, 38.27s/it]"
     ]
    },
    {
     "name": "stdout",
     "output_type": "stream",
     "text": [
      "제기동마라탕마라샹궈전문점 scroll\n"
     ]
    },
    {
     "name": "stderr",
     "output_type": "stream",
     "text": [
      "\n",
      "save..:   0%|          | 0/3 [00:00<?, ?it/s]\u001b[A"
     ]
    },
    {
     "name": "stdout",
     "output_type": "stream",
     "text": [
      "제기동마라탕마라샹궈전문점 3\n",
      "모든 리뷰 불러오기 시작...\n",
      "모든 리뷰 불러오기 완료!\n"
     ]
    },
    {
     "name": "stderr",
     "output_type": "stream",
     "text": [
      "save..: 100%|██████████| 3/3 [00:00<00:00, 15.70it/s]\n"
     ]
    },
    {
     "name": "stdout",
     "output_type": "stream",
     "text": [
      "(11907, 11)\n"
     ]
    },
    {
     "name": "stderr",
     "output_type": "stream",
     "text": [
      "\r",
      "craw:  32%|███▏      | 96/300 [2:00:05<2:28:20, 43.63s/it]"
     ]
    },
    {
     "name": "stdout",
     "output_type": "stream",
     "text": [
      "치킨주막-동덕여대점 scroll\n",
      "치킨주막-동덕여대점 21\n",
      "모든 리뷰 불러오기 시작...\n"
     ]
    },
    {
     "name": "stderr",
     "output_type": "stream",
     "text": [
      "\n",
      "save..:   0%|          | 0/21 [00:00<?, ?it/s]\u001b[A"
     ]
    },
    {
     "name": "stdout",
     "output_type": "stream",
     "text": [
      "모든 리뷰 불러오기 완료!\n"
     ]
    },
    {
     "name": "stderr",
     "output_type": "stream",
     "text": [
      "save..: 100%|██████████| 21/21 [00:01<00:00, 14.29it/s]\n"
     ]
    },
    {
     "name": "stdout",
     "output_type": "stream",
     "text": [
      "(11928, 11)\n"
     ]
    },
    {
     "name": "stderr",
     "output_type": "stream",
     "text": [
      "\r",
      "craw:  32%|███▏      | 97/300 [2:01:05<2:43:45, 48.40s/it]"
     ]
    },
    {
     "name": "stdout",
     "output_type": "stream",
     "text": [
      "오마뎅-답십리래미안점 scroll\n",
      "오마뎅-답십리래미안점 18\n",
      "모든 리뷰 불러오기 시작...\n",
      "모든 리뷰 불러오기 완료!\n"
     ]
    },
    {
     "name": "stderr",
     "output_type": "stream",
     "text": [
      "\n",
      "save..: 100%|██████████| 18/18 [00:00<00:00, 33.55it/s]\n"
     ]
    },
    {
     "name": "stdout",
     "output_type": "stream",
     "text": [
      "(11946, 11)\n"
     ]
    },
    {
     "name": "stderr",
     "output_type": "stream",
     "text": [
      "\r",
      "craw:  33%|███▎      | 98/300 [2:01:46<2:35:26, 46.17s/it]"
     ]
    },
    {
     "name": "stdout",
     "output_type": "stream",
     "text": [
      "꽁지네 scroll\n",
      "꽁지네 39\n",
      "모든 리뷰 불러오기 시작...\n",
      "모든 리뷰 불러오기 완료!\n"
     ]
    },
    {
     "name": "stderr",
     "output_type": "stream",
     "text": [
      "\n",
      "save..: 100%|██████████| 39/39 [00:02<00:00, 13.97it/s]\n"
     ]
    },
    {
     "name": "stdout",
     "output_type": "stream",
     "text": [
      "(11985, 11)\n"
     ]
    },
    {
     "name": "stderr",
     "output_type": "stream",
     "text": [
      "\r",
      "craw:  33%|███▎      | 99/300 [2:02:20<2:22:29, 42.53s/it]"
     ]
    },
    {
     "name": "stdout",
     "output_type": "stream",
     "text": [
      "우마이-본점 scroll\n",
      "우마이-본점 162\n",
      "모든 리뷰 불러오기 시작...\n",
      "모든 리뷰 불러오기 완료!\n"
     ]
    },
    {
     "name": "stderr",
     "output_type": "stream",
     "text": [
      "\n",
      "save..:   0%|          | 0/162 [00:00<?, ?it/s]\u001b[A\n",
      "save..: 100%|██████████| 162/162 [00:03<00:00, 42.54it/s]\u001b[A\n"
     ]
    },
    {
     "name": "stdout",
     "output_type": "stream",
     "text": [
      "(12147, 11)\n"
     ]
    },
    {
     "name": "stderr",
     "output_type": "stream",
     "text": [
      "\r",
      "craw:  33%|███▎      | 100/300 [2:03:38<2:56:53, 53.07s/it]"
     ]
    },
    {
     "name": "stdout",
     "output_type": "stream",
     "text": [
      "가장맛있는족발-경희대점 scroll\n",
      "가장맛있는족발-경희대점 53\n",
      "모든 리뷰 불러오기 시작...\n"
     ]
    },
    {
     "name": "stderr",
     "output_type": "stream",
     "text": [
      "\n",
      "save..:   0%|          | 0/53 [00:00<?, ?it/s]\u001b[A"
     ]
    },
    {
     "name": "stdout",
     "output_type": "stream",
     "text": [
      "모든 리뷰 불러오기 완료!\n"
     ]
    },
    {
     "name": "stderr",
     "output_type": "stream",
     "text": [
      "save..: 100%|██████████| 53/53 [00:01<00:00, 49.53it/s]\n"
     ]
    },
    {
     "name": "stdout",
     "output_type": "stream",
     "text": [
      "(12200, 11)\n"
     ]
    },
    {
     "name": "stderr",
     "output_type": "stream",
     "text": [
      "\r",
      "craw:  34%|███▎      | 101/300 [2:04:01<2:26:32, 44.18s/it]"
     ]
    },
    {
     "name": "stdout",
     "output_type": "stream",
     "text": [
      "판다플래터&파스타 scroll\n",
      "판다플래터&파스타 130\n",
      "모든 리뷰 불러오기 시작...\n",
      "모든 리뷰 불러오기 완료!\n"
     ]
    },
    {
     "name": "stderr",
     "output_type": "stream",
     "text": [
      "\n",
      "save..:   0%|          | 0/130 [00:00<?, ?it/s]\u001b[A\n",
      "save..:  34%|███▍      | 44/130 [00:03<00:05, 14.45it/s]\u001b[A\n",
      "save..: 100%|██████████| 130/130 [00:08<00:00, 16.04it/s]\u001b[A\n"
     ]
    },
    {
     "name": "stdout",
     "output_type": "stream",
     "text": [
      "(12330, 11)\n"
     ]
    },
    {
     "name": "stderr",
     "output_type": "stream",
     "text": [
      "\r",
      "craw:  34%|███▍      | 102/300 [2:05:22<3:01:52, 55.11s/it]"
     ]
    },
    {
     "name": "stdout",
     "output_type": "stream",
     "text": [
      "왔다흑돼지전문점 scroll\n"
     ]
    },
    {
     "name": "stderr",
     "output_type": "stream",
     "text": [
      "\n",
      "save..: 100%|██████████| 1/1 [00:00<00:00, 15.76it/s]"
     ]
    },
    {
     "name": "stdout",
     "output_type": "stream",
     "text": [
      "왔다흑돼지전문점 1\n",
      "모든 리뷰 불러오기 시작...\n",
      "모든 리뷰 불러오기 완료!\n",
      "(12331, 11)\n"
     ]
    },
    {
     "name": "stderr",
     "output_type": "stream",
     "text": [
      "\n",
      "craw:  34%|███▍      | 103/300 [2:05:41<2:26:15, 44.54s/it]"
     ]
    },
    {
     "name": "stdout",
     "output_type": "stream",
     "text": [
      "참맛감자탕-석관점 scroll\n",
      "참맛감자탕-석관점 13\n",
      "모든 리뷰 불러오기 시작...\n"
     ]
    },
    {
     "name": "stderr",
     "output_type": "stream",
     "text": [
      "\n",
      "save..:   0%|          | 0/13 [00:00<?, ?it/s]\u001b[A"
     ]
    },
    {
     "name": "stdout",
     "output_type": "stream",
     "text": [
      "모든 리뷰 불러오기 완료!\n"
     ]
    },
    {
     "name": "stderr",
     "output_type": "stream",
     "text": [
      "save..: 100%|██████████| 13/13 [00:00<00:00, 19.62it/s]\n"
     ]
    },
    {
     "name": "stdout",
     "output_type": "stream",
     "text": [
      "(12344, 11)\n"
     ]
    },
    {
     "name": "stderr",
     "output_type": "stream",
     "text": [
      "\r",
      "craw:  35%|███▍      | 104/300 [2:06:09<2:08:48, 39.43s/it]"
     ]
    },
    {
     "name": "stdout",
     "output_type": "stream",
     "text": [
      "바다양푼이동태탕-청량리점 scroll\n"
     ]
    },
    {
     "name": "stderr",
     "output_type": "stream",
     "text": [
      "\n",
      "save..:   0%|          | 0/4 [00:00<?, ?it/s]\u001b[A"
     ]
    },
    {
     "name": "stdout",
     "output_type": "stream",
     "text": [
      "바다양푼이동태탕-청량리점 4\n",
      "모든 리뷰 불러오기 시작...\n",
      "모든 리뷰 불러오기 완료!\n"
     ]
    },
    {
     "name": "stderr",
     "output_type": "stream",
     "text": [
      "save..: 100%|██████████| 4/4 [00:00<00:00, 21.41it/s]\n"
     ]
    },
    {
     "name": "stdout",
     "output_type": "stream",
     "text": [
      "(12348, 11)\n"
     ]
    },
    {
     "name": "stderr",
     "output_type": "stream",
     "text": [
      "\r",
      "craw:  35%|███▌      | 105/300 [2:06:51<2:10:45, 40.23s/it]"
     ]
    },
    {
     "name": "stdout",
     "output_type": "stream",
     "text": [
      "원수산 scroll\n",
      "원수산 14\n",
      "모든 리뷰 불러오기 시작...\n"
     ]
    },
    {
     "name": "stderr",
     "output_type": "stream",
     "text": [
      "\n",
      "save..:   0%|          | 0/14 [00:00<?, ?it/s]\u001b[A"
     ]
    },
    {
     "name": "stdout",
     "output_type": "stream",
     "text": [
      "모든 리뷰 불러오기 완료!\n"
     ]
    },
    {
     "name": "stderr",
     "output_type": "stream",
     "text": [
      "save..: 100%|██████████| 14/14 [00:00<00:00, 105.64it/s]\n"
     ]
    },
    {
     "name": "stdout",
     "output_type": "stream",
     "text": [
      "(12362, 11)\n"
     ]
    },
    {
     "name": "stderr",
     "output_type": "stream",
     "text": [
      "\r",
      "craw:  35%|███▌      | 106/300 [2:07:51<2:28:57, 46.07s/it]"
     ]
    },
    {
     "name": "stdout",
     "output_type": "stream",
     "text": [
      "투썸플레이스-서울시립대점 scroll\n",
      "투썸플레이스-서울시립대점 58\n",
      "모든 리뷰 불러오기 시작...\n",
      "모든 리뷰 불러오기 완료!\n"
     ]
    },
    {
     "name": "stderr",
     "output_type": "stream",
     "text": [
      "\n",
      "save..: 100%|██████████| 58/58 [00:02<00:00, 28.14it/s]\n"
     ]
    },
    {
     "name": "stdout",
     "output_type": "stream",
     "text": [
      "(12420, 11)\n"
     ]
    },
    {
     "name": "stderr",
     "output_type": "stream",
     "text": [
      "\r",
      "craw:  36%|███▌      | 107/300 [2:08:22<2:13:53, 41.62s/it]"
     ]
    },
    {
     "name": "stdout",
     "output_type": "stream",
     "text": [
      "존네맛집-월곡점 scroll\n",
      "존네맛집-월곡점 72\n",
      "모든 리뷰 불러오기 시작...\n",
      "모든 리뷰 불러오기 완료!\n"
     ]
    },
    {
     "name": "stderr",
     "output_type": "stream",
     "text": [
      "\n",
      "save..:   0%|          | 0/72 [00:00<?, ?it/s]\u001b[A\n",
      "save..: 100%|██████████| 72/72 [00:04<00:00, 14.72it/s]\u001b[A\n"
     ]
    },
    {
     "name": "stdout",
     "output_type": "stream",
     "text": [
      "(12492, 11)\n"
     ]
    },
    {
     "name": "stderr",
     "output_type": "stream",
     "text": [
      "\r",
      "craw:  36%|███▌      | 108/300 [2:09:17<2:25:44, 45.55s/it]"
     ]
    },
    {
     "name": "stdout",
     "output_type": "stream",
     "text": [
      "청량리장충족발 scroll\n",
      "청량리장충족발 57\n",
      "모든 리뷰 불러오기 시작...\n",
      "모든 리뷰 불러오기 완료!\n"
     ]
    },
    {
     "name": "stderr",
     "output_type": "stream",
     "text": [
      "\n",
      "save..: 100%|██████████| 57/57 [00:00<00:00, 150.56it/s]\n"
     ]
    },
    {
     "name": "stdout",
     "output_type": "stream",
     "text": [
      "(12549, 11)\n"
     ]
    },
    {
     "name": "stderr",
     "output_type": "stream",
     "text": [
      "\r",
      "craw:  36%|███▋      | 109/300 [2:10:09<2:31:21, 47.55s/it]"
     ]
    },
    {
     "name": "stdout",
     "output_type": "stream",
     "text": [
      "청량반점-본점 scroll\n",
      "청량반점-본점 10\n",
      "모든 리뷰 불러오기 시작...\n"
     ]
    },
    {
     "name": "stderr",
     "output_type": "stream",
     "text": [
      "\n",
      "save..:   0%|          | 0/10 [00:00<?, ?it/s]\u001b[A"
     ]
    },
    {
     "name": "stdout",
     "output_type": "stream",
     "text": [
      "모든 리뷰 불러오기 완료!\n"
     ]
    },
    {
     "name": "stderr",
     "output_type": "stream",
     "text": [
      "save..: 100%|██████████| 10/10 [00:00<00:00, 39.48it/s]\n"
     ]
    },
    {
     "name": "stdout",
     "output_type": "stream",
     "text": [
      "(12559, 11)\n"
     ]
    },
    {
     "name": "stderr",
     "output_type": "stream",
     "text": [
      "\r",
      "craw:  37%|███▋      | 110/300 [2:10:33<2:08:11, 40.48s/it]"
     ]
    },
    {
     "name": "stdout",
     "output_type": "stream",
     "text": [
      "피자헛-외대2호점 scroll\n",
      "피자헛-외대2호점 1457\n",
      "모든 리뷰 불러오기 시작...\n",
      "모든 리뷰 불러오기 완료!\n"
     ]
    },
    {
     "name": "stderr",
     "output_type": "stream",
     "text": [
      "\n",
      "save..:   0%|          | 0/1457 [00:00<?, ?it/s]\u001b[A\n",
      "save..:   3%|▎         | 41/1457 [00:03<01:47, 13.17it/s]\u001b[A\n",
      "save..:   7%|▋         | 95/1457 [00:06<01:35, 14.24it/s]\u001b[A\n",
      "save..:   9%|▉         | 138/1457 [00:09<01:32, 14.19it/s]\u001b[A\n",
      "save..:  13%|█▎        | 183/1457 [00:12<01:28, 14.35it/s]\u001b[A\n",
      "save..:  16%|█▌        | 229/1457 [00:15<01:25, 14.36it/s]\u001b[A\n",
      "save..:  22%|██▏       | 315/1457 [00:18<01:07, 16.84it/s]\u001b[A\n",
      "save..:  26%|██▌       | 373/1457 [00:21<01:02, 17.43it/s]\u001b[A\n",
      "save..:  30%|███       | 444/1457 [00:24<00:53, 18.85it/s]\u001b[A\n",
      "save..:  37%|███▋      | 540/1457 [00:27<00:42, 21.46it/s]\u001b[A\n",
      "save..:  42%|████▏     | 610/1457 [00:31<00:39, 21.33it/s]\u001b[A\n",
      "save..:  47%|████▋     | 678/1457 [00:34<00:37, 20.61it/s]\u001b[A\n",
      "save..:  51%|█████     | 744/1457 [00:37<00:34, 20.78it/s]\u001b[A\n",
      "save..:  59%|█████▊    | 854/1457 [00:40<00:25, 23.84it/s]\u001b[A\n",
      "save..:  70%|██████▉   | 1019/1457 [00:43<00:15, 28.65it/s]\u001b[A\n",
      "save..:  77%|███████▋  | 1123/1457 [00:47<00:11, 27.98it/s]\u001b[A\n",
      "save..:  85%|████████▍ | 1235/1457 [00:50<00:07, 30.25it/s]\u001b[A\n",
      "save..: 100%|██████████| 1457/1457 [00:54<00:00, 26.59it/s]\u001b[A\n"
     ]
    },
    {
     "name": "stdout",
     "output_type": "stream",
     "text": [
      "(14016, 11)\n"
     ]
    },
    {
     "name": "stderr",
     "output_type": "stream",
     "text": [
      "\r",
      "craw:  37%|███▋      | 111/300 [2:17:56<8:28:09, 161.32s/it]"
     ]
    },
    {
     "name": "stdout",
     "output_type": "stream",
     "text": [
      "수제맵스버거-외대점 scroll\n",
      "수제맵스버거-외대점 57\n",
      "모든 리뷰 불러오기 시작...\n",
      "모든 리뷰 불러오기 완료!\n"
     ]
    },
    {
     "name": "stderr",
     "output_type": "stream",
     "text": [
      "\n",
      "save..: 100%|██████████| 57/57 [00:02<00:00, 23.23it/s]\n"
     ]
    },
    {
     "name": "stdout",
     "output_type": "stream",
     "text": [
      "(14073, 11)\n"
     ]
    },
    {
     "name": "stderr",
     "output_type": "stream",
     "text": [
      "\r",
      "craw:  37%|███▋      | 112/300 [2:18:36<6:30:55, 124.77s/it]"
     ]
    },
    {
     "name": "stdout",
     "output_type": "stream",
     "text": [
      "영미네곱창전골 scroll\n"
     ]
    },
    {
     "name": "stderr",
     "output_type": "stream",
     "text": [
      "\n",
      "save..:   0%|          | 0/7 [00:00<?, ?it/s]\u001b[A"
     ]
    },
    {
     "name": "stdout",
     "output_type": "stream",
     "text": [
      "영미네곱창전골 7\n",
      "모든 리뷰 불러오기 시작...\n",
      "모든 리뷰 불러오기 완료!\n"
     ]
    },
    {
     "name": "stderr",
     "output_type": "stream",
     "text": [
      "save..: 100%|██████████| 7/7 [00:00<00:00, 38.55it/s]\n"
     ]
    },
    {
     "name": "stdout",
     "output_type": "stream",
     "text": [
      "(14080, 11)\n"
     ]
    },
    {
     "name": "stderr",
     "output_type": "stream",
     "text": [
      "\r",
      "craw:  38%|███▊      | 113/300 [2:19:05<5:00:02, 96.27s/it] "
     ]
    },
    {
     "name": "stdout",
     "output_type": "stream",
     "text": [
      "BBQ-이문동점 scroll\n",
      "BBQ-이문동점 2144\n",
      "모든 리뷰 불러오기 시작...\n",
      "모든 리뷰 불러오기 완료!\n"
     ]
    },
    {
     "name": "stderr",
     "output_type": "stream",
     "text": [
      "\n",
      "save..:   0%|          | 0/2144 [00:00<?, ?it/s]\u001b[A\n",
      "save..:   2%|▏         | 44/2144 [00:03<02:51, 12.26it/s]\u001b[A\n",
      "save..:   4%|▍         | 96/2144 [00:06<02:34, 13.23it/s]\u001b[A\n",
      "save..:   6%|▌         | 131/2144 [00:09<02:39, 12.63it/s]\u001b[A\n",
      "save..:   8%|▊         | 167/2144 [00:12<02:41, 12.28it/s]\u001b[A\n",
      "save..:  10%|█         | 218/2144 [00:15<02:23, 13.38it/s]\u001b[A\n",
      "save..:  12%|█▏        | 258/2144 [00:19<02:21, 13.29it/s]\u001b[A\n",
      "save..:  15%|█▍        | 315/2144 [00:22<02:05, 14.54it/s]\u001b[A\n",
      "save..:  17%|█▋        | 358/2144 [00:25<02:03, 14.43it/s]\u001b[A\n",
      "save..:  20%|█▉        | 421/2144 [00:28<01:50, 15.64it/s]\u001b[A\n",
      "save..:  23%|██▎       | 483/2144 [00:31<01:38, 16.79it/s]\u001b[A\n",
      "save..:  25%|██▍       | 535/2144 [00:34<01:36, 16.69it/s]\u001b[A\n",
      "save..:  28%|██▊       | 591/2144 [00:37<01:30, 17.10it/s]\u001b[A\n",
      "save..:  31%|███       | 664/2144 [00:40<01:19, 18.73it/s]\u001b[A\n",
      "save..:  36%|███▌      | 766/2144 [00:43<01:03, 21.57it/s]\u001b[A\n",
      "save..:  40%|████      | 858/2144 [00:46<00:54, 23.46it/s]\u001b[A\n",
      "save..:  44%|████▎     | 934/2144 [00:50<00:52, 22.96it/s]\u001b[A\n",
      "save..:  47%|████▋     | 1007/2144 [00:54<00:53, 21.06it/s]\u001b[A\n",
      "save..:  50%|█████     | 1074/2144 [00:57<00:52, 20.52it/s]\u001b[A\n",
      "save..:  54%|█████▍    | 1153/2144 [01:01<00:45, 21.75it/s]\u001b[A\n",
      "save..:  57%|█████▋    | 1221/2144 [01:04<00:45, 20.28it/s]\u001b[A\n",
      "save..:  63%|██████▎   | 1343/2144 [01:07<00:33, 23.85it/s]\u001b[A\n",
      "save..:  67%|██████▋   | 1428/2144 [01:11<00:28, 24.89it/s]\u001b[A\n",
      "save..:  70%|███████   | 1510/2144 [01:14<00:26, 23.72it/s]\u001b[A\n",
      "save..:  77%|███████▋  | 1642/2144 [01:17<00:18, 27.44it/s]\u001b[A\n",
      "save..:  83%|████████▎ | 1783/2144 [01:20<00:11, 31.28it/s]\u001b[A\n",
      "save..: 100%|██████████| 2144/2144 [01:26<00:00, 24.67it/s]\u001b[A\n"
     ]
    },
    {
     "name": "stdout",
     "output_type": "stream",
     "text": [
      "(16224, 11)\n"
     ]
    },
    {
     "name": "stderr",
     "output_type": "stream",
     "text": [
      "\r",
      "craw:  38%|███▊      | 114/300 [2:30:42<14:16:47, 276.39s/it]"
     ]
    },
    {
     "name": "stdout",
     "output_type": "stream",
     "text": [
      "웍곱창 scroll\n",
      "웍곱창 17\n",
      "모든 리뷰 불러오기 시작...\n"
     ]
    },
    {
     "name": "stderr",
     "output_type": "stream",
     "text": [
      "\n",
      "save..:   0%|          | 0/17 [00:00<?, ?it/s]\u001b[A"
     ]
    },
    {
     "name": "stdout",
     "output_type": "stream",
     "text": [
      "모든 리뷰 불러오기 완료!\n"
     ]
    },
    {
     "name": "stderr",
     "output_type": "stream",
     "text": [
      "save..: 100%|██████████| 17/17 [00:01<00:00,  9.11it/s]\n"
     ]
    },
    {
     "name": "stdout",
     "output_type": "stream",
     "text": [
      "(16241, 11)\n"
     ]
    },
    {
     "name": "stderr",
     "output_type": "stream",
     "text": [
      "\r",
      "craw:  38%|███▊      | 115/300 [2:31:42<10:52:12, 211.52s/it]"
     ]
    },
    {
     "name": "stdout",
     "output_type": "stream",
     "text": [
      "강원식당 scroll\n"
     ]
    },
    {
     "name": "stderr",
     "output_type": "stream",
     "text": [
      "\n",
      "save..: 100%|██████████| 2/2 [00:00<00:00, 1144.27it/s]"
     ]
    },
    {
     "name": "stdout",
     "output_type": "stream",
     "text": [
      "강원식당 2\n",
      "모든 리뷰 불러오기 시작...\n",
      "모든 리뷰 불러오기 완료!\n",
      "(16243, 11)\n"
     ]
    },
    {
     "name": "stderr",
     "output_type": "stream",
     "text": [
      "\n",
      "craw:  39%|███▊      | 116/300 [2:32:24<8:12:21, 160.55s/it] "
     ]
    },
    {
     "name": "stdout",
     "output_type": "stream",
     "text": [
      "야무진닭 scroll\n",
      "야무진닭 16\n",
      "모든 리뷰 불러오기 시작...\n"
     ]
    },
    {
     "name": "stderr",
     "output_type": "stream",
     "text": [
      "\n",
      "save..:   0%|          | 0/16 [00:00<?, ?it/s]\u001b[A"
     ]
    },
    {
     "name": "stdout",
     "output_type": "stream",
     "text": [
      "모든 리뷰 불러오기 완료!\n"
     ]
    },
    {
     "name": "stderr",
     "output_type": "stream",
     "text": [
      "save..: 100%|██████████| 16/16 [00:00<00:00, 25.16it/s]\n"
     ]
    },
    {
     "name": "stdout",
     "output_type": "stream",
     "text": [
      "(16259, 11)\n"
     ]
    },
    {
     "name": "stderr",
     "output_type": "stream",
     "text": [
      "\r",
      "craw:  39%|███▉      | 117/300 [2:33:05<6:20:19, 124.70s/it]"
     ]
    },
    {
     "name": "stdout",
     "output_type": "stream",
     "text": [
      "수퍼보울 scroll\n",
      "수퍼보울 296\n",
      "모든 리뷰 불러오기 시작...\n",
      "모든 리뷰 불러오기 완료!\n"
     ]
    },
    {
     "name": "stderr",
     "output_type": "stream",
     "text": [
      "\n",
      "save..:   0%|          | 0/296 [00:00<?, ?it/s]\u001b[A\n",
      "save..:  16%|█▌        | 46/296 [00:03<00:16, 15.26it/s]\u001b[A\n",
      "save..:  30%|███       | 90/296 [00:06<00:13, 15.07it/s]\u001b[A\n",
      "save..:  42%|████▏     | 124/296 [00:09<00:12, 13.61it/s]\u001b[A\n",
      "save..:  54%|█████▎    | 159/296 [00:12<00:10, 12.93it/s]\u001b[A\n",
      "save..:  67%|██████▋   | 198/296 [00:15<00:07, 12.92it/s]\u001b[A\n",
      "save..:  78%|███████▊  | 231/296 [00:18<00:05, 12.24it/s]\u001b[A\n",
      "save..: 100%|██████████| 296/296 [00:21<00:00, 13.68it/s]\u001b[A\n"
     ]
    },
    {
     "name": "stdout",
     "output_type": "stream",
     "text": [
      "(16555, 11)\n"
     ]
    },
    {
     "name": "stderr",
     "output_type": "stream",
     "text": [
      "\r",
      "craw:  39%|███▉      | 118/300 [2:34:43<5:54:26, 116.85s/it]"
     ]
    },
    {
     "name": "stdout",
     "output_type": "stream",
     "text": [
      "봉추찜닭-경희대점 scroll\n",
      "봉추찜닭-경희대점 828\n",
      "모든 리뷰 불러오기 시작...\n",
      "모든 리뷰 불러오기 완료!\n"
     ]
    },
    {
     "name": "stderr",
     "output_type": "stream",
     "text": [
      "\n",
      "save..:   0%|          | 0/828 [00:00<?, ?it/s]\u001b[A\n",
      "save..:   6%|▌         | 51/828 [00:03<00:47, 16.52it/s]\u001b[A\n",
      "save..:  16%|█▌        | 131/828 [00:06<00:37, 18.59it/s]\u001b[A\n",
      "save..:  22%|██▏       | 185/828 [00:09<00:35, 18.37it/s]\u001b[A\n",
      "save..:  29%|██▉       | 241/828 [00:12<00:32, 18.30it/s]\u001b[A\n",
      "save..:  41%|████▏     | 343/828 [00:15<00:22, 21.15it/s]\u001b[A\n",
      "save..:  50%|████▉     | 413/828 [00:18<00:19, 21.68it/s]\u001b[A\n",
      "save..:  58%|█████▊    | 477/828 [00:22<00:17, 20.09it/s]\u001b[A\n",
      "save..:  67%|██████▋   | 551/828 [00:25<00:13, 21.15it/s]\u001b[A\n",
      "save..: 100%|██████████| 828/828 [00:29<00:00, 27.66it/s]\u001b[A\n"
     ]
    },
    {
     "name": "stdout",
     "output_type": "stream",
     "text": [
      "(17383, 11)\n"
     ]
    },
    {
     "name": "stderr",
     "output_type": "stream",
     "text": [
      "\r",
      "craw:  40%|███▉      | 119/300 [2:38:51<7:50:47, 156.06s/it]"
     ]
    },
    {
     "name": "stdout",
     "output_type": "stream",
     "text": [
      "카페끄망 scroll\n"
     ]
    },
    {
     "name": "stderr",
     "output_type": "stream",
     "text": [
      "\n",
      "save..: 100%|██████████| 2/2 [00:00<00:00, 29.66it/s]"
     ]
    },
    {
     "name": "stdout",
     "output_type": "stream",
     "text": [
      "카페끄망 2\n",
      "모든 리뷰 불러오기 시작...\n",
      "모든 리뷰 불러오기 완료!\n"
     ]
    },
    {
     "name": "stderr",
     "output_type": "stream",
     "text": [
      "\n"
     ]
    },
    {
     "name": "stdout",
     "output_type": "stream",
     "text": [
      "(17385, 11)\n"
     ]
    },
    {
     "name": "stderr",
     "output_type": "stream",
     "text": [
      "\r",
      "craw:  40%|████      | 120/300 [2:39:16<5:50:01, 116.67s/it]"
     ]
    },
    {
     "name": "stdout",
     "output_type": "stream",
     "text": [
      "서양요리집 scroll\n",
      "서양요리집 151\n",
      "모든 리뷰 불러오기 시작...\n",
      "모든 리뷰 불러오기 완료!\n"
     ]
    },
    {
     "name": "stderr",
     "output_type": "stream",
     "text": [
      "\n",
      "save..:   0%|          | 0/151 [00:00<?, ?it/s]\u001b[A\n",
      "save..:   3%|▎         | 4/151 [02:09<1:19:31, 32.46s/it]\u001b[A\n",
      "save..:  32%|███▏      | 48/151 [02:12<39:02, 22.74s/it] \u001b[A\n",
      "save..:  66%|██████▌   | 100/151 [02:16<13:32, 15.94s/it]\u001b[A\n",
      "save..: 100%|██████████| 151/151 [02:19<00:00,  1.08it/s]\u001b[A\n"
     ]
    },
    {
     "name": "stdout",
     "output_type": "stream",
     "text": [
      "(17536, 11)\n"
     ]
    },
    {
     "name": "stderr",
     "output_type": "stream",
     "text": [
      "\r",
      "craw:  40%|████      | 121/300 [2:42:24<6:52:13, 138.18s/it]"
     ]
    },
    {
     "name": "stdout",
     "output_type": "stream",
     "text": [
      "오늘의식탁-장안동점 scroll\n",
      "오늘의식탁-장안동점 65\n",
      "모든 리뷰 불러오기 시작...\n",
      "모든 리뷰 불러오기 완료!\n"
     ]
    },
    {
     "name": "stderr",
     "output_type": "stream",
     "text": [
      "\n",
      "save..:   0%|          | 0/65 [00:00<?, ?it/s]\u001b[A\n",
      "save..: 100%|██████████| 65/65 [00:03<00:00, 19.56it/s]\u001b[A\n"
     ]
    },
    {
     "name": "stdout",
     "output_type": "stream",
     "text": [
      "(17601, 11)\n"
     ]
    },
    {
     "name": "stderr",
     "output_type": "stream",
     "text": [
      "\r",
      "craw:  41%|████      | 122/300 [2:43:15<5:32:22, 112.03s/it]"
     ]
    },
    {
     "name": "stdout",
     "output_type": "stream",
     "text": [
      "국빈중식 scroll\n",
      "국빈중식 185\n",
      "모든 리뷰 불러오기 시작...\n",
      "모든 리뷰 불러오기 완료!\n"
     ]
    },
    {
     "name": "stderr",
     "output_type": "stream",
     "text": [
      "\n",
      "save..:   0%|          | 0/185 [00:00<?, ?it/s]\u001b[A\n",
      "save..:  37%|███▋      | 68/185 [00:03<00:05, 22.54it/s]\u001b[A\n",
      "save..: 100%|██████████| 185/185 [00:07<00:00, 23.21it/s]\u001b[A\n"
     ]
    },
    {
     "name": "stdout",
     "output_type": "stream",
     "text": [
      "(17786, 11)\n"
     ]
    },
    {
     "name": "stderr",
     "output_type": "stream",
     "text": [
      "\r",
      "craw:  41%|████      | 123/300 [2:44:27<4:54:50, 99.94s/it] "
     ]
    },
    {
     "name": "stdout",
     "output_type": "stream",
     "text": [
      "이웃집라자냐 scroll\n",
      "이웃집라자냐 94\n",
      "모든 리뷰 불러오기 시작...\n",
      "모든 리뷰 불러오기 완료!\n"
     ]
    },
    {
     "name": "stderr",
     "output_type": "stream",
     "text": [
      "\n",
      "save..:   0%|          | 0/94 [00:00<?, ?it/s]\u001b[A\n",
      "save..:  12%|█▏        | 11/94 [02:10<16:25, 11.88s/it]\u001b[A\n",
      "save..:  60%|█████▉    | 56/94 [02:13<05:16,  8.33s/it]\u001b[A\n",
      "save..: 100%|██████████| 94/94 [02:17<00:00,  1.47s/it]\u001b[A\n"
     ]
    },
    {
     "name": "stdout",
     "output_type": "stream",
     "text": [
      "(17880, 11)\n"
     ]
    },
    {
     "name": "stderr",
     "output_type": "stream",
     "text": [
      "\r",
      "craw:  41%|████▏     | 124/300 [2:47:47<6:21:23, 130.02s/it]"
     ]
    },
    {
     "name": "stdout",
     "output_type": "stream",
     "text": [
      "피치떡-동대문점 scroll\n",
      "피치떡-동대문점 115\n",
      "모든 리뷰 불러오기 시작...\n",
      "모든 리뷰 불러오기 완료!\n"
     ]
    },
    {
     "name": "stderr",
     "output_type": "stream",
     "text": [
      "\n",
      "save..:   0%|          | 0/115 [00:00<?, ?it/s]\u001b[A\n",
      "save..: 100%|██████████| 115/115 [00:04<00:00, 24.61it/s][A\n"
     ]
    },
    {
     "name": "stdout",
     "output_type": "stream",
     "text": [
      "(17995, 11)\n"
     ]
    },
    {
     "name": "stderr",
     "output_type": "stream",
     "text": [
      "\r",
      "craw:  42%|████▏     | 125/300 [2:48:27<5:00:24, 103.00s/it]"
     ]
    },
    {
     "name": "stdout",
     "output_type": "stream",
     "text": [
      "신참떡볶이 전농사거리점 scroll\n",
      "신참떡볶이 전농사거리점 189\n",
      "모든 리뷰 불러오기 시작...\n",
      "모든 리뷰 불러오기 완료!\n"
     ]
    },
    {
     "name": "stderr",
     "output_type": "stream",
     "text": [
      "\n",
      "save..:   0%|          | 0/189 [00:00<?, ?it/s]\u001b[A\n",
      "save..: 100%|██████████| 189/189 [00:05<00:00, 37.24it/s][A\n"
     ]
    },
    {
     "name": "stdout",
     "output_type": "stream",
     "text": [
      "(18184, 11)\n"
     ]
    },
    {
     "name": "stderr",
     "output_type": "stream",
     "text": [
      "\r",
      "craw:  42%|████▏     | 126/300 [2:49:38<4:30:54, 93.42s/it] "
     ]
    },
    {
     "name": "stdout",
     "output_type": "stream",
     "text": [
      "직화구이삼겹배달-장안점 scroll\n",
      "직화구이삼겹배달-장안점 40\n",
      "모든 리뷰 불러오기 시작...\n",
      "모든 리뷰 불러오기 완료!\n"
     ]
    },
    {
     "name": "stderr",
     "output_type": "stream",
     "text": [
      "\n",
      "save..: 100%|██████████| 40/40 [00:01<00:00, 34.15it/s]\n"
     ]
    },
    {
     "name": "stdout",
     "output_type": "stream",
     "text": [
      "(18224, 11)\n"
     ]
    },
    {
     "name": "stderr",
     "output_type": "stream",
     "text": [
      "\r",
      "craw:  42%|████▏     | 127/300 [2:50:37<3:59:36, 83.10s/it]"
     ]
    },
    {
     "name": "stdout",
     "output_type": "stream",
     "text": [
      "피자알볼로-이문회기점 scroll\n",
      "피자알볼로-이문회기점 1041\n",
      "모든 리뷰 불러오기 시작...\n",
      "모든 리뷰 불러오기 완료!\n"
     ]
    },
    {
     "name": "stderr",
     "output_type": "stream",
     "text": [
      "\n",
      "save..:   0%|          | 0/1041 [00:00<?, ?it/s]\u001b[A\n",
      "save..:   5%|▌         | 56/1041 [00:03<00:53, 18.29it/s]\u001b[A\n",
      "save..:  13%|█▎        | 131/1041 [00:06<00:45, 19.87it/s]\u001b[A\n",
      "save..:  18%|█▊        | 183/1041 [00:09<00:45, 19.01it/s]\u001b[A\n",
      "save..:  23%|██▎       | 244/1041 [00:12<00:41, 19.23it/s]\u001b[A\n",
      "save..:  30%|██▉       | 309/1041 [00:15<00:36, 19.86it/s]\u001b[A\n",
      "save..:  36%|███▌      | 375/1041 [00:18<00:32, 20.24it/s]\u001b[A\n",
      "save..:  42%|████▏     | 435/1041 [00:21<00:30, 19.87it/s]\u001b[A\n",
      "save..:  51%|█████     | 531/1041 [00:24<00:22, 22.35it/s]\u001b[A\n",
      "save..:  62%|██████▏   | 645/1041 [00:27<00:15, 25.44it/s]\u001b[A\n",
      "save..:  71%|███████▏  | 744/1041 [00:30<00:10, 27.15it/s]\u001b[A\n",
      "save..: 100%|██████████| 1041/1041 [00:34<00:00, 30.16it/s][A\n"
     ]
    },
    {
     "name": "stdout",
     "output_type": "stream",
     "text": [
      "(19265, 11)\n"
     ]
    },
    {
     "name": "stderr",
     "output_type": "stream",
     "text": [
      "\r",
      "craw:  43%|████▎     | 128/300 [2:55:39<7:05:59, 148.60s/it]"
     ]
    },
    {
     "name": "stdout",
     "output_type": "stream",
     "text": [
      "신포두마리강정 scroll\n"
     ]
    },
    {
     "name": "stderr",
     "output_type": "stream",
     "text": [
      "\n",
      "save..:   0%|          | 0/2 [00:00<?, ?it/s]\u001b[A"
     ]
    },
    {
     "name": "stdout",
     "output_type": "stream",
     "text": [
      "신포두마리강정 2\n",
      "모든 리뷰 불러오기 시작...\n",
      "모든 리뷰 불러오기 완료!\n"
     ]
    },
    {
     "name": "stderr",
     "output_type": "stream",
     "text": [
      "save..: 100%|██████████| 2/2 [00:00<00:00, 10.98it/s]\n"
     ]
    },
    {
     "name": "stdout",
     "output_type": "stream",
     "text": [
      "(19267, 11)\n"
     ]
    },
    {
     "name": "stderr",
     "output_type": "stream",
     "text": [
      "\r",
      "craw:  43%|████▎     | 129/300 [2:56:34<5:44:06, 120.74s/it]"
     ]
    },
    {
     "name": "stdout",
     "output_type": "stream",
     "text": [
      "취홍 scroll\n",
      "취홍 3384\n",
      "모든 리뷰 불러오기 시작...\n",
      "모든 리뷰 불러오기 완료!\n"
     ]
    },
    {
     "name": "stderr",
     "output_type": "stream",
     "text": [
      "\n",
      "save..:   0%|          | 0/3384 [00:00<?, ?it/s]\u001b[A\n",
      "save..:   2%|▏         | 80/3384 [00:03<02:06, 26.12it/s]\u001b[A\n",
      "save..:   5%|▍         | 154/3384 [00:06<02:06, 25.47it/s]\u001b[A\n",
      "save..:   7%|▋         | 229/3384 [00:09<02:05, 25.17it/s]\u001b[A\n",
      "save..:   9%|▉         | 305/3384 [00:12<02:02, 25.05it/s]\u001b[A\n",
      "save..:  12%|█▏        | 396/3384 [00:15<01:54, 26.20it/s]\u001b[A\n",
      "save..:  14%|█▍        | 473/3384 [00:18<01:52, 25.79it/s]\u001b[A\n",
      "save..:  16%|█▋        | 552/3384 [00:22<02:00, 23.48it/s]\u001b[A\n",
      "save..:  19%|█▊        | 632/3384 [00:25<01:53, 24.18it/s]\u001b[A\n",
      "save..:  21%|██▏       | 724/3384 [00:28<01:43, 25.73it/s]\u001b[A\n",
      "save..:  24%|██▎       | 800/3384 [00:31<01:42, 25.11it/s]\u001b[A\n",
      "save..:  27%|██▋       | 911/3384 [00:34<01:29, 27.60it/s]\u001b[A\n",
      "save..:  29%|██▉       | 996/3384 [00:38<01:32, 25.72it/s]\u001b[A\n",
      "save..:  32%|███▏      | 1076/3384 [00:42<01:35, 24.20it/s]\u001b[A\n",
      "save..:  34%|███▍      | 1154/3384 [00:45<01:30, 24.57it/s]\u001b[A\n",
      "save..:  36%|███▋      | 1230/3384 [00:49<01:34, 22.88it/s]\u001b[A\n",
      "save..:  38%|███▊      | 1301/3384 [00:53<01:37, 21.33it/s]\u001b[A\n",
      "save..:  41%|████      | 1383/3384 [00:56<01:28, 22.74it/s]\u001b[A\n",
      "save..:  43%|████▎     | 1461/3384 [00:59<01:21, 23.46it/s]\u001b[A\n",
      "save..:  45%|████▌     | 1533/3384 [01:02<01:20, 23.05it/s]\u001b[A\n",
      "save..:  48%|████▊     | 1623/3384 [01:05<01:11, 24.77it/s]\u001b[A\n",
      "save..:  52%|█████▏    | 1761/3384 [01:08<00:56, 28.61it/s]\u001b[A\n",
      "save..:  55%|█████▍    | 1858/3384 [01:11<00:51, 29.64it/s]\u001b[A\n",
      "save..:  58%|█████▊    | 1953/3384 [01:14<00:48, 29.62it/s]\u001b[A\n",
      "save..:  63%|██████▎   | 2121/3384 [01:17<00:36, 34.44it/s]\u001b[A\n",
      "save..:  67%|██████▋   | 2251/3384 [01:21<00:31, 36.54it/s]\u001b[A\n",
      "save..:  72%|███████▏  | 2441/3384 [01:24<00:22, 41.65it/s]\u001b[A\n",
      "save..:  76%|███████▌  | 2580/3384 [01:27<00:19, 41.95it/s]\u001b[A\n",
      "save..:  80%|████████  | 2716/3384 [01:30<00:15, 42.16it/s]\u001b[A\n",
      "save..:  85%|████████▌ | 2880/3384 [01:33<00:11, 44.81it/s]\u001b[A\n",
      "save..:  92%|█████████▏| 3106/3384 [01:36<00:05, 50.89it/s]\u001b[A\n",
      "save..: 100%|██████████| 3384/3384 [01:42<00:00, 33.10it/s]\u001b[A\n"
     ]
    },
    {
     "name": "stdout",
     "output_type": "stream",
     "text": [
      "(22651, 11)\n"
     ]
    },
    {
     "name": "stderr",
     "output_type": "stream",
     "text": [
      "\r",
      "craw:  43%|████▎     | 130/300 [3:16:03<20:32:52, 435.13s/it]"
     ]
    },
    {
     "name": "stdout",
     "output_type": "stream",
     "text": [
      "워너빈wannabean scroll\n"
     ]
    },
    {
     "name": "stderr",
     "output_type": "stream",
     "text": [
      "\r",
      "craw:  44%|████▎     | 131/300 [3:16:15<14:28:25, 308.32s/it]"
     ]
    },
    {
     "name": "stdout",
     "output_type": "stream",
     "text": [
      "wrong shop\n",
      "긴카오태국식당 scroll\n",
      "긴카오태국식당 27\n",
      "모든 리뷰 불러오기 시작...\n"
     ]
    },
    {
     "name": "stderr",
     "output_type": "stream",
     "text": [
      "\n",
      "save..:   0%|          | 0/27 [00:00<?, ?it/s]\u001b[A"
     ]
    },
    {
     "name": "stdout",
     "output_type": "stream",
     "text": [
      "모든 리뷰 불러오기 완료!\n"
     ]
    },
    {
     "name": "stderr",
     "output_type": "stream",
     "text": [
      "save..: 100%|██████████| 27/27 [00:01<00:00, 17.95it/s]\n"
     ]
    },
    {
     "name": "stdout",
     "output_type": "stream",
     "text": [
      "(22678, 11)\n"
     ]
    },
    {
     "name": "stderr",
     "output_type": "stream",
     "text": [
      "\r",
      "craw:  44%|████▍     | 132/300 [3:16:47<10:30:42, 225.25s/it]"
     ]
    },
    {
     "name": "stdout",
     "output_type": "stream",
     "text": [
      "서울쉬퐁 scroll\n",
      "서울쉬퐁 12\n",
      "모든 리뷰 불러오기 시작...\n"
     ]
    },
    {
     "name": "stderr",
     "output_type": "stream",
     "text": [
      "\n",
      "save..:   0%|          | 0/12 [00:00<?, ?it/s]\u001b[A"
     ]
    },
    {
     "name": "stdout",
     "output_type": "stream",
     "text": [
      "모든 리뷰 불러오기 완료!\n"
     ]
    },
    {
     "name": "stderr",
     "output_type": "stream",
     "text": [
      "save..: 100%|██████████| 12/12 [00:00<00:00, 20.93it/s]\n"
     ]
    },
    {
     "name": "stdout",
     "output_type": "stream",
     "text": [
      "(22690, 11)\n"
     ]
    },
    {
     "name": "stderr",
     "output_type": "stream",
     "text": [
      "\r",
      "craw:  44%|████▍     | 133/300 [3:17:14<7:41:44, 165.90s/it] "
     ]
    },
    {
     "name": "stdout",
     "output_type": "stream",
     "text": [
      "놀스캘리-초밥롤전문점 scroll\n",
      "놀스캘리-초밥롤전문점 82\n",
      "모든 리뷰 불러오기 시작...\n",
      "모든 리뷰 불러오기 완료!\n"
     ]
    },
    {
     "name": "stderr",
     "output_type": "stream",
     "text": [
      "\n",
      "save..:   0%|          | 0/82 [00:00<?, ?it/s]\u001b[A\n",
      "save..: 100%|██████████| 82/82 [00:04<00:00, 18.65it/s]\u001b[A\n"
     ]
    },
    {
     "name": "stdout",
     "output_type": "stream",
     "text": [
      "(22772, 11)\n"
     ]
    },
    {
     "name": "stderr",
     "output_type": "stream",
     "text": [
      "\r",
      "craw:  45%|████▍     | 134/300 [3:17:59<5:58:11, 129.47s/it]"
     ]
    },
    {
     "name": "stdout",
     "output_type": "stream",
     "text": [
      "인생소곱창 scroll\n"
     ]
    },
    {
     "name": "stderr",
     "output_type": "stream",
     "text": [
      "\n",
      "save..: 100%|██████████| 1/1 [00:00<00:00, 16.04it/s]"
     ]
    },
    {
     "name": "stdout",
     "output_type": "stream",
     "text": [
      "인생소곱창 1\n",
      "모든 리뷰 불러오기 시작...\n",
      "모든 리뷰 불러오기 완료!\n",
      "(22773, 11)\n"
     ]
    },
    {
     "name": "stderr",
     "output_type": "stream",
     "text": [
      "\n",
      "craw:  45%|████▌     | 135/300 [3:18:39<4:42:13, 102.63s/it]"
     ]
    },
    {
     "name": "stdout",
     "output_type": "stream",
     "text": [
      "오거리왕십리야채곱창-동덕여대점 scroll\n"
     ]
    },
    {
     "name": "stderr",
     "output_type": "stream",
     "text": [
      "\n",
      "save..: 100%|██████████| 1/1 [00:00<00:00, 17.89it/s]"
     ]
    },
    {
     "name": "stdout",
     "output_type": "stream",
     "text": [
      "오거리왕십리야채곱창-동덕여대점 1\n",
      "모든 리뷰 불러오기 시작...\n",
      "모든 리뷰 불러오기 완료!\n",
      "(22774, 11)\n"
     ]
    },
    {
     "name": "stderr",
     "output_type": "stream",
     "text": [
      "\n",
      "craw:  45%|████▌     | 136/300 [3:19:35<4:02:26, 88.70s/it] "
     ]
    },
    {
     "name": "stdout",
     "output_type": "stream",
     "text": [
      "피자꾼-떡전교점 scroll\n",
      "피자꾼-떡전교점 125\n",
      "모든 리뷰 불러오기 시작...\n",
      "모든 리뷰 불러오기 완료!\n"
     ]
    },
    {
     "name": "stderr",
     "output_type": "stream",
     "text": [
      "\n",
      "save..:   0%|          | 0/125 [00:00<?, ?it/s]\u001b[A\n",
      "save..: 100%|██████████| 125/125 [00:05<00:00, 23.75it/s][A\n"
     ]
    },
    {
     "name": "stdout",
     "output_type": "stream",
     "text": [
      "(22899, 11)\n"
     ]
    },
    {
     "name": "stderr",
     "output_type": "stream",
     "text": [
      "\r",
      "craw:  46%|████▌     | 137/300 [3:20:39<3:40:30, 81.17s/it]"
     ]
    },
    {
     "name": "stdout",
     "output_type": "stream",
     "text": [
      "아재부산낙곱새-청량리점 scroll\n"
     ]
    },
    {
     "name": "stderr",
     "output_type": "stream",
     "text": [
      "\n",
      "save..:   0%|          | 0/7 [00:00<?, ?it/s]\u001b[A"
     ]
    },
    {
     "name": "stdout",
     "output_type": "stream",
     "text": [
      "아재부산낙곱새-청량리점 7\n",
      "모든 리뷰 불러오기 시작...\n",
      "모든 리뷰 불러오기 완료!\n"
     ]
    },
    {
     "name": "stderr",
     "output_type": "stream",
     "text": [
      "save..: 100%|██████████| 7/7 [00:00<00:00, 14.83it/s]\n"
     ]
    },
    {
     "name": "stdout",
     "output_type": "stream",
     "text": [
      "(22906, 11)\n"
     ]
    },
    {
     "name": "stderr",
     "output_type": "stream",
     "text": [
      "\r",
      "craw:  46%|████▌     | 138/300 [3:21:32<3:16:20, 72.72s/it]"
     ]
    },
    {
     "name": "stdout",
     "output_type": "stream",
     "text": [
      "육감-외대점 scroll\n",
      "육감-외대점 7\n",
      "모든 리뷰 불러오기 시작...\n",
      "모든 리뷰 불러오기 완료!\n"
     ]
    },
    {
     "name": "stderr",
     "output_type": "stream",
     "text": [
      "\n",
      "save..: 100%|██████████| 7/7 [00:00<00:00,  9.62it/s]\n"
     ]
    },
    {
     "name": "stdout",
     "output_type": "stream",
     "text": [
      "(22913, 11)\n"
     ]
    },
    {
     "name": "stderr",
     "output_type": "stream",
     "text": [
      "\r",
      "craw:  46%|████▋     | 139/300 [3:21:59<2:38:42, 59.15s/it]"
     ]
    },
    {
     "name": "stdout",
     "output_type": "stream",
     "text": [
      "골목족발 scroll\n",
      "골목족발 27\n",
      "모든 리뷰 불러오기 시작...\n"
     ]
    },
    {
     "name": "stderr",
     "output_type": "stream",
     "text": [
      "\n",
      "save..:   0%|          | 0/27 [00:00<?, ?it/s]\u001b[A"
     ]
    },
    {
     "name": "stdout",
     "output_type": "stream",
     "text": [
      "모든 리뷰 불러오기 완료!\n"
     ]
    },
    {
     "name": "stderr",
     "output_type": "stream",
     "text": [
      "save..: 100%|██████████| 27/27 [00:02<00:00, 12.54it/s]\n"
     ]
    },
    {
     "name": "stdout",
     "output_type": "stream",
     "text": [
      "(22940, 11)\n"
     ]
    },
    {
     "name": "stderr",
     "output_type": "stream",
     "text": [
      "\r",
      "craw:  47%|████▋     | 140/300 [3:22:27<2:12:35, 49.72s/it]"
     ]
    },
    {
     "name": "stdout",
     "output_type": "stream",
     "text": [
      "발리하이 scroll\n",
      "발리하이 18\n",
      "모든 리뷰 불러오기 시작...\n"
     ]
    },
    {
     "name": "stderr",
     "output_type": "stream",
     "text": [
      "\n",
      "save..:   0%|          | 0/18 [00:00<?, ?it/s]\u001b[A"
     ]
    },
    {
     "name": "stdout",
     "output_type": "stream",
     "text": [
      "모든 리뷰 불러오기 완료!\n"
     ]
    },
    {
     "name": "stderr",
     "output_type": "stream",
     "text": [
      "save..: 100%|██████████| 18/18 [00:00<00:00, 23.33it/s]\n"
     ]
    },
    {
     "name": "stdout",
     "output_type": "stream",
     "text": [
      "(22958, 11)\n"
     ]
    },
    {
     "name": "stderr",
     "output_type": "stream",
     "text": [
      "\r",
      "craw:  47%|████▋     | 141/300 [3:23:22<2:16:00, 51.32s/it]"
     ]
    },
    {
     "name": "stdout",
     "output_type": "stream",
     "text": [
      "롯데리아-석관점 scroll\n",
      "롯데리아-석관점 3270\n",
      "모든 리뷰 불러오기 시작...\n",
      "모든 리뷰 불러오기 완료!\n"
     ]
    },
    {
     "name": "stderr",
     "output_type": "stream",
     "text": [
      "\n",
      "save..:   0%|          | 0/3270 [00:00<?, ?it/s]\u001b[A\n",
      "save..:   3%|▎         | 86/3270 [00:03<01:52, 28.24it/s]\u001b[A\n",
      "save..:   4%|▍         | 146/3270 [00:06<02:05, 24.98it/s]\u001b[A\n",
      "save..:   6%|▌         | 200/3270 [00:09<02:18, 22.22it/s]\u001b[A\n",
      "save..:   8%|▊         | 271/3270 [00:12<02:13, 22.45it/s]\u001b[A\n",
      "save..:  10%|█         | 338/3270 [00:15<02:11, 22.37it/s]\u001b[A\n",
      "save..:  12%|█▏        | 404/3270 [00:18<02:09, 22.17it/s]\u001b[A\n",
      "save..:  14%|█▍        | 462/3270 [00:21<02:19, 20.18it/s]\u001b[A\n",
      "save..:  16%|█▌        | 521/3270 [00:24<02:17, 19.97it/s]\u001b[A\n",
      "save..:  18%|█▊        | 590/3270 [00:27<02:08, 20.78it/s]\u001b[A\n",
      "save..:  20%|█▉        | 651/3270 [00:31<02:18, 18.85it/s]\u001b[A\n",
      "save..:  22%|██▏       | 707/3270 [00:34<02:18, 18.47it/s]\u001b[A\n",
      "save..:  23%|██▎       | 766/3270 [00:37<02:13, 18.70it/s]\u001b[A\n",
      "save..:  26%|██▌       | 834/3270 [00:41<02:03, 19.67it/s]\u001b[A\n",
      "save..:  27%|██▋       | 899/3270 [00:44<01:57, 20.20it/s]\u001b[A\n",
      "save..:  30%|██▉       | 976/3270 [00:47<01:46, 21.47it/s]\u001b[A\n",
      "save..:  33%|███▎      | 1066/3270 [00:50<01:34, 23.25it/s]\u001b[A\n",
      "save..:  35%|███▌      | 1147/3270 [00:53<01:27, 24.13it/s]\u001b[A\n",
      "save..:  38%|███▊      | 1251/3270 [00:56<01:17, 26.07it/s]\u001b[A\n",
      "save..:  41%|████      | 1332/3270 [00:59<01:16, 25.18it/s]\u001b[A\n",
      "save..:  44%|████▎     | 1424/3270 [01:03<01:10, 26.16it/s]\u001b[A\n",
      "save..:  46%|████▋     | 1514/3270 [01:06<01:04, 27.11it/s]\u001b[A\n",
      "save..:  49%|████▉     | 1614/3270 [01:09<00:58, 28.55it/s]\u001b[A\n",
      "save..:  52%|█████▏    | 1703/3270 [01:12<00:54, 28.72it/s]\u001b[A\n",
      "save..:  55%|█████▍    | 1791/3270 [01:16<00:58, 25.24it/s]\u001b[A\n",
      "save..:  57%|█████▋    | 1872/3270 [01:19<00:54, 25.61it/s]\u001b[A\n",
      "save..:  60%|██████    | 1962/3270 [01:22<00:49, 26.68it/s]\u001b[A\n",
      "save..:  63%|██████▎   | 2056/3270 [01:26<00:43, 27.71it/s]\u001b[A\n",
      "save..:  66%|██████▌   | 2142/3270 [01:29<00:40, 27.94it/s]\u001b[A\n",
      "save..:  69%|██████▊   | 2241/3270 [01:32<00:35, 29.02it/s]\u001b[A\n",
      "save..:  73%|███████▎  | 2387/3270 [01:35<00:26, 32.83it/s]\u001b[A\n",
      "save..:  80%|███████▉  | 2606/3270 [01:38<00:16, 39.28it/s]\u001b[A\n",
      "save..:  85%|████████▍ | 2773/3270 [01:41<00:11, 43.06it/s]\u001b[A\n",
      "save..: 100%|██████████| 3270/3270 [01:46<00:00, 30.57it/s]\u001b[A\n"
     ]
    },
    {
     "name": "stdout",
     "output_type": "stream",
     "text": [
      "(26228, 11)\n"
     ]
    },
    {
     "name": "stderr",
     "output_type": "stream",
     "text": [
      "\r",
      "craw:  47%|████▋     | 142/300 [3:42:35<16:45:16, 381.75s/it]"
     ]
    },
    {
     "name": "stdout",
     "output_type": "stream",
     "text": [
      "삼첩분식-서울면목점 scroll\n",
      "삼첩분식-서울면목점 61\n",
      "모든 리뷰 불러오기 시작...\n",
      "모든 리뷰 불러오기 완료!\n"
     ]
    },
    {
     "name": "stderr",
     "output_type": "stream",
     "text": [
      "\n",
      "save..:   0%|          | 0/61 [00:00<?, ?it/s]\u001b[A\n",
      "save..: 100%|██████████| 61/61 [00:04<00:00, 15.08it/s]\u001b[A\n"
     ]
    },
    {
     "name": "stdout",
     "output_type": "stream",
     "text": [
      "(26289, 11)\n"
     ]
    },
    {
     "name": "stderr",
     "output_type": "stream",
     "text": [
      "\r",
      "craw:  48%|████▊     | 143/300 [3:43:28<12:20:51, 283.13s/it]"
     ]
    },
    {
     "name": "stdout",
     "output_type": "stream",
     "text": [
      "전농황제족발앤보쌈 scroll\n",
      "전농황제족발앤보쌈 16\n",
      "모든 리뷰 불러오기 시작...\n",
      "모든 리뷰 불러오기 완료!\n"
     ]
    },
    {
     "name": "stderr",
     "output_type": "stream",
     "text": [
      "\n",
      "save..: 100%|██████████| 16/16 [00:00<00:00, 26.25it/s]\n"
     ]
    },
    {
     "name": "stdout",
     "output_type": "stream",
     "text": [
      "(26305, 11)\n"
     ]
    },
    {
     "name": "stderr",
     "output_type": "stream",
     "text": [
      "\r",
      "craw:  48%|████▊     | 144/300 [3:44:11<9:09:13, 211.24s/it] "
     ]
    },
    {
     "name": "stdout",
     "output_type": "stream",
     "text": [
      "밀플랜비-한국외대점 scroll\n",
      "밀플랜비-한국외대점 114\n",
      "모든 리뷰 불러오기 시작...\n",
      "모든 리뷰 불러오기 완료!\n"
     ]
    },
    {
     "name": "stderr",
     "output_type": "stream",
     "text": [
      "\n",
      "save..:   0%|          | 0/114 [00:00<?, ?it/s]\u001b[A\n",
      "save..:  49%|████▉     | 56/114 [00:03<00:03, 18.62it/s]\u001b[A\n",
      "save..: 100%|██████████| 114/114 [00:06<00:00, 18.96it/s]\u001b[A\n"
     ]
    },
    {
     "name": "stdout",
     "output_type": "stream",
     "text": [
      "(26419, 11)\n"
     ]
    },
    {
     "name": "stderr",
     "output_type": "stream",
     "text": [
      "\r",
      "craw:  48%|████▊     | 145/300 [3:45:12<7:08:59, 166.06s/it]"
     ]
    },
    {
     "name": "stdout",
     "output_type": "stream",
     "text": [
      "주오꼬마김밥 scroll\n",
      "주오꼬마김밥 33\n",
      "모든 리뷰 불러오기 시작...\n"
     ]
    },
    {
     "name": "stderr",
     "output_type": "stream",
     "text": [
      "\n",
      "save..:   0%|          | 0/33 [00:00<?, ?it/s]\u001b[A"
     ]
    },
    {
     "name": "stdout",
     "output_type": "stream",
     "text": [
      "모든 리뷰 불러오기 완료!\n"
     ]
    },
    {
     "name": "stderr",
     "output_type": "stream",
     "text": [
      "save..: 100%|██████████| 33/33 [00:01<00:00, 18.70it/s]\n"
     ]
    },
    {
     "name": "stdout",
     "output_type": "stream",
     "text": [
      "(26452, 11)\n"
     ]
    },
    {
     "name": "stderr",
     "output_type": "stream",
     "text": [
      "\r",
      "craw:  49%|████▊     | 146/300 [3:45:49<5:27:21, 127.54s/it]"
     ]
    },
    {
     "name": "stdout",
     "output_type": "stream",
     "text": [
      "피치파킹-월곡직영점 scroll\n"
     ]
    },
    {
     "name": "stderr",
     "output_type": "stream",
     "text": [
      "\n",
      "save..: 100%|██████████| 1/1 [00:00<00:00, 743.41it/s]"
     ]
    },
    {
     "name": "stdout",
     "output_type": "stream",
     "text": [
      "피치파킹-월곡직영점 1\n",
      "모든 리뷰 불러오기 시작...\n",
      "모든 리뷰 불러오기 완료!\n",
      "(26453, 11)\n"
     ]
    },
    {
     "name": "stderr",
     "output_type": "stream",
     "text": [
      "\n",
      "craw:  49%|████▉     | 147/300 [3:46:28<4:17:00, 100.78s/it]"
     ]
    },
    {
     "name": "stdout",
     "output_type": "stream",
     "text": [
      "곽선생왕만두-중랑점 scroll\n"
     ]
    },
    {
     "name": "stderr",
     "output_type": "stream",
     "text": [
      "\r",
      "craw:  49%|████▉     | 148/300 [3:46:51<3:16:28, 77.55s/it] "
     ]
    },
    {
     "name": "stdout",
     "output_type": "stream",
     "text": [
      "wrong shop\n",
      "탐앤탐스-상봉메가박스점 scroll\n",
      "탐앤탐스-상봉메가박스점 scroll\n",
      "탐앤탐스-상봉메가박스점 84\n",
      "모든 리뷰 불러오기 시작...\n",
      "모든 리뷰 불러오기 완료!\n"
     ]
    },
    {
     "name": "stderr",
     "output_type": "stream",
     "text": [
      "\n",
      "save..:   0%|          | 0/84 [00:00<?, ?it/s]\u001b[A\n",
      "save..: 100%|██████████| 84/84 [00:04<00:00, 16.97it/s]\u001b[A\n"
     ]
    },
    {
     "name": "stdout",
     "output_type": "stream",
     "text": [
      "(26537, 11)\n"
     ]
    },
    {
     "name": "stderr",
     "output_type": "stream",
     "text": [
      "\r",
      "craw:  50%|████▉     | 149/300 [3:47:38<2:51:54, 68.31s/it]"
     ]
    },
    {
     "name": "stdout",
     "output_type": "stream",
     "text": [
      "아워웨이브(ourwave) scroll\n"
     ]
    },
    {
     "name": "stderr",
     "output_type": "stream",
     "text": [
      "\n",
      "save..:   0%|          | 0/3 [00:00<?, ?it/s]\u001b[A"
     ]
    },
    {
     "name": "stdout",
     "output_type": "stream",
     "text": [
      "아워웨이브(ourwave) 3\n",
      "모든 리뷰 불러오기 시작...\n",
      "모든 리뷰 불러오기 완료!\n"
     ]
    },
    {
     "name": "stderr",
     "output_type": "stream",
     "text": [
      "save..: 100%|██████████| 3/3 [00:00<00:00, 11.69it/s]\n"
     ]
    },
    {
     "name": "stdout",
     "output_type": "stream",
     "text": [
      "(26540, 11)\n"
     ]
    },
    {
     "name": "stderr",
     "output_type": "stream",
     "text": [
      "\r",
      "craw:  50%|█████     | 150/300 [3:47:55<2:12:23, 52.95s/it]"
     ]
    },
    {
     "name": "stdout",
     "output_type": "stream",
     "text": [
      "일번지곱창 scroll\n",
      "일번지곱창 121\n",
      "모든 리뷰 불러오기 시작...\n",
      "모든 리뷰 불러오기 완료!\n"
     ]
    },
    {
     "name": "stderr",
     "output_type": "stream",
     "text": [
      "\n",
      "save..:   0%|          | 0/121 [00:00<?, ?it/s]\u001b[A\n",
      "save..:  44%|████▍     | 53/121 [00:03<00:03, 17.41it/s]\u001b[A\n",
      "save..: 100%|██████████| 121/121 [00:07<00:00, 15.26it/s][A\n"
     ]
    },
    {
     "name": "stdout",
     "output_type": "stream",
     "text": [
      "(26661, 11)\n"
     ]
    },
    {
     "name": "stderr",
     "output_type": "stream",
     "text": [
      "\r",
      "craw:  50%|█████     | 151/300 [3:49:17<2:32:52, 61.56s/it]"
     ]
    },
    {
     "name": "stdout",
     "output_type": "stream",
     "text": [
      "좋은맛-장안점 scroll\n"
     ]
    },
    {
     "name": "stderr",
     "output_type": "stream",
     "text": [
      "\r",
      "craw:  51%|█████     | 152/300 [3:49:45<2:07:23, 51.64s/it]"
     ]
    },
    {
     "name": "stdout",
     "output_type": "stream",
     "text": [
      "wrong shop\n",
      "김준현의 피자헤븐-회기점 scroll\n",
      "김준현의 피자헤븐-회기점 scroll\n",
      "김준현의 피자헤븐-회기점 1209\n",
      "모든 리뷰 불러오기 시작...\n",
      "모든 리뷰 불러오기 완료!\n"
     ]
    },
    {
     "name": "stderr",
     "output_type": "stream",
     "text": [
      "\n",
      "save..:   0%|          | 0/1209 [00:00<?, ?it/s]\u001b[A\n",
      "save..:   4%|▍         | 47/1209 [00:03<01:14, 15.50it/s]\u001b[A\n",
      "save..:   7%|▋         | 83/1209 [00:06<01:20, 13.99it/s]\u001b[A\n",
      "save..:  12%|█▏        | 146/1209 [00:09<01:08, 15.46it/s]\u001b[A\n",
      "save..:  16%|█▋        | 199/1209 [00:12<01:02, 16.04it/s]\u001b[A\n",
      "save..:  25%|██▌       | 305/1209 [00:15<00:47, 19.18it/s]\u001b[A\n",
      "save..:  41%|████      | 495/1209 [00:18<00:29, 24.01it/s]\u001b[A\n",
      "save..:  53%|█████▎    | 641/1209 [00:21<00:20, 28.18it/s]\u001b[A\n",
      "save..:  62%|██████▏   | 750/1209 [00:25<00:15, 28.85it/s]\u001b[A\n",
      "save..:  74%|███████▍  | 899/1209 [00:28<00:09, 32.24it/s]\u001b[A\n",
      "save..: 100%|██████████| 1209/1209 [00:32<00:00, 37.69it/s]\u001b[A\n"
     ]
    },
    {
     "name": "stdout",
     "output_type": "stream",
     "text": [
      "(27870, 11)\n"
     ]
    },
    {
     "name": "stderr",
     "output_type": "stream",
     "text": [
      "\r",
      "craw:  51%|█████     | 153/300 [3:55:31<5:42:55, 139.97s/it]"
     ]
    },
    {
     "name": "stdout",
     "output_type": "stream",
     "text": [
      "오늘통닭-도봉구청점 scroll\n",
      "오늘통닭-도봉구청점 129\n",
      "모든 리뷰 불러오기 시작...\n",
      "모든 리뷰 불러오기 완료!\n"
     ]
    },
    {
     "name": "stderr",
     "output_type": "stream",
     "text": [
      "\n",
      "save..:   0%|          | 0/129 [00:00<?, ?it/s]\u001b[A\n",
      "save..:  38%|███▊      | 49/129 [00:03<00:04, 16.10it/s]\u001b[A\n",
      "save..: 100%|██████████| 129/129 [00:07<00:00, 16.77it/s]\u001b[A\n"
     ]
    },
    {
     "name": "stdout",
     "output_type": "stream",
     "text": [
      "(27999, 11)\n"
     ]
    },
    {
     "name": "stderr",
     "output_type": "stream",
     "text": [
      "\r",
      "craw:  51%|█████▏    | 154/300 [3:56:53<4:57:52, 122.41s/it]"
     ]
    },
    {
     "name": "stdout",
     "output_type": "stream",
     "text": [
      "중앙아구찜&탕 scroll\n",
      "중앙아구찜&탕 1901\n",
      "모든 리뷰 불러오기 시작...\n",
      "모든 리뷰 불러오기 완료!\n"
     ]
    },
    {
     "name": "stderr",
     "output_type": "stream",
     "text": [
      "\n",
      "save..:   0%|          | 0/1901 [00:00<?, ?it/s]\u001b[A\n",
      "save..:   2%|▏         | 45/1901 [00:03<02:06, 14.62it/s]\u001b[A\n",
      "save..:   6%|▌         | 118/1901 [00:06<01:47, 16.52it/s]\u001b[A\n",
      "save..:  10%|▉         | 181/1901 [00:09<01:37, 17.63it/s]\u001b[A\n",
      "save..:  12%|█▏        | 222/1901 [00:12<01:44, 16.10it/s]\u001b[A\n",
      "save..:  14%|█▍        | 275/1901 [00:15<01:38, 16.48it/s]\u001b[A\n",
      "save..:  17%|█▋        | 325/1901 [00:18<01:35, 16.45it/s]\u001b[A\n",
      "save..:  20%|█▉        | 379/1901 [00:21<01:30, 16.82it/s]\u001b[A\n",
      "save..:  23%|██▎       | 445/1901 [00:24<01:20, 18.01it/s]\u001b[A\n",
      "save..:  27%|██▋       | 512/1901 [00:27<01:13, 18.93it/s]\u001b[A\n",
      "save..:  30%|███       | 576/1901 [00:30<01:07, 19.54it/s]\u001b[A\n",
      "save..:  34%|███▎      | 640/1901 [00:33<01:03, 19.89it/s]\u001b[A\n",
      "save..:  38%|███▊      | 722/1901 [00:36<00:54, 21.62it/s]\u001b[A\n",
      "save..:  42%|████▏     | 790/1901 [00:39<00:50, 21.81it/s]\u001b[A\n",
      "save..:  45%|████▌     | 857/1901 [00:43<00:49, 20.94it/s]\u001b[A\n",
      "save..:  48%|████▊     | 921/1901 [00:46<00:48, 20.03it/s]\u001b[A\n",
      "save..:  52%|█████▏    | 982/1901 [00:49<00:46, 19.68it/s]\u001b[A\n",
      "save..:  58%|█████▊    | 1108/1901 [00:53<00:33, 23.38it/s]\u001b[A\n",
      "save..:  64%|██████▍   | 1215/1901 [00:56<00:26, 26.07it/s]\u001b[A\n",
      "save..:  69%|██████▊   | 1303/1901 [00:59<00:23, 25.97it/s]\u001b[A\n",
      "save..:  73%|███████▎  | 1388/1901 [01:04<00:22, 23.06it/s]\u001b[A\n",
      "save..:  79%|███████▉  | 1500/1901 [01:07<00:15, 26.05it/s]\u001b[A\n",
      "save..:  83%|████████▎ | 1587/1901 [01:10<00:11, 26.33it/s]\u001b[A\n",
      "save..: 100%|██████████| 1901/1901 [01:16<00:00, 24.91it/s]\u001b[A\n"
     ]
    },
    {
     "name": "stdout",
     "output_type": "stream",
     "text": [
      "(29900, 11)\n"
     ]
    },
    {
     "name": "stderr",
     "output_type": "stream",
     "text": [
      "\r",
      "craw:  52%|█████▏    | 155/300 [4:06:48<10:38:52, 264.36s/it]"
     ]
    },
    {
     "name": "stdout",
     "output_type": "stream",
     "text": [
      "이삭토스트-서울경희대점 scroll\n",
      "이삭토스트-서울경희대점 8\n",
      "모든 리뷰 불러오기 시작...\n",
      "모든 리뷰 불러오기 완료!\n"
     ]
    },
    {
     "name": "stderr",
     "output_type": "stream",
     "text": [
      "\n",
      "save..: 100%|██████████| 8/8 [00:00<00:00, 15.00it/s]\n"
     ]
    },
    {
     "name": "stdout",
     "output_type": "stream",
     "text": [
      "(29908, 11)\n"
     ]
    },
    {
     "name": "stderr",
     "output_type": "stream",
     "text": [
      "\r",
      "craw:  52%|█████▏    | 156/300 [4:07:32<7:55:53, 198.29s/it] "
     ]
    },
    {
     "name": "stdout",
     "output_type": "stream",
     "text": [
      "파스타입니다-회기이문점 scroll\n",
      "파스타입니다-회기이문점 61\n",
      "모든 리뷰 불러오기 시작...\n",
      "모든 리뷰 불러오기 완료!\n"
     ]
    },
    {
     "name": "stderr",
     "output_type": "stream",
     "text": [
      "\n",
      "save..:   0%|          | 0/61 [00:00<?, ?it/s]\u001b[A\n",
      "save..: 100%|██████████| 61/61 [00:04<00:00, 13.54it/s]\u001b[A\n"
     ]
    },
    {
     "name": "stdout",
     "output_type": "stream",
     "text": [
      "(29969, 11)\n"
     ]
    },
    {
     "name": "stderr",
     "output_type": "stream",
     "text": [
      "\r",
      "craw:  52%|█████▏    | 157/300 [4:08:03<5:52:43, 148.00s/it]"
     ]
    },
    {
     "name": "stdout",
     "output_type": "stream",
     "text": [
      "베트남테이블-상봉점 scroll\n",
      "베트남테이블-상봉점 13\n",
      "모든 리뷰 불러오기 시작...\n"
     ]
    },
    {
     "name": "stderr",
     "output_type": "stream",
     "text": [
      "\n",
      "save..:   0%|          | 0/13 [00:00<?, ?it/s]\u001b[A"
     ]
    },
    {
     "name": "stdout",
     "output_type": "stream",
     "text": [
      "모든 리뷰 불러오기 완료!\n"
     ]
    },
    {
     "name": "stderr",
     "output_type": "stream",
     "text": [
      "save..: 100%|██████████| 13/13 [00:00<00:00, 13.84it/s]\n"
     ]
    },
    {
     "name": "stdout",
     "output_type": "stream",
     "text": [
      "(29982, 11)\n"
     ]
    },
    {
     "name": "stderr",
     "output_type": "stream",
     "text": [
      "\r",
      "craw:  53%|█████▎    | 158/300 [4:08:58<4:44:14, 120.10s/it]"
     ]
    },
    {
     "name": "stdout",
     "output_type": "stream",
     "text": [
      "냠냠분식 scroll\n",
      "냠냠분식 326\n",
      "모든 리뷰 불러오기 시작...\n",
      "모든 리뷰 불러오기 완료!\n"
     ]
    },
    {
     "name": "stderr",
     "output_type": "stream",
     "text": [
      "\n",
      "save..:   0%|          | 0/326 [00:00<?, ?it/s]\u001b[A\n",
      "save..:  16%|█▌        | 52/326 [00:03<00:16, 17.12it/s]\u001b[A\n",
      "save..:  35%|███▍      | 113/326 [00:06<00:11, 17.93it/s]\u001b[A\n",
      "save..:  51%|█████     | 166/326 [00:09<00:09, 17.67it/s]\u001b[A\n",
      "save..: 100%|██████████| 326/326 [00:15<00:00, 21.67it/s]\u001b[A\n"
     ]
    },
    {
     "name": "stdout",
     "output_type": "stream",
     "text": [
      "(30308, 11)\n"
     ]
    },
    {
     "name": "stderr",
     "output_type": "stream",
     "text": [
      "\r",
      "craw:  53%|█████▎    | 159/300 [4:10:49<4:35:41, 117.32s/it]"
     ]
    },
    {
     "name": "stdout",
     "output_type": "stream",
     "text": [
      "서병장부대찌개-회기점 scroll\n",
      "서병장부대찌개-회기점 65\n",
      "모든 리뷰 불러오기 시작...\n",
      "모든 리뷰 불러오기 완료!\n"
     ]
    },
    {
     "name": "stderr",
     "output_type": "stream",
     "text": [
      "\n",
      "save..: 100%|██████████| 65/65 [00:02<00:00, 29.49it/s]\n"
     ]
    },
    {
     "name": "stdout",
     "output_type": "stream",
     "text": [
      "(30373, 11)\n"
     ]
    },
    {
     "name": "stderr",
     "output_type": "stream",
     "text": [
      "\r",
      "craw:  53%|█████▎    | 160/300 [4:11:23<3:35:50, 92.51s/it] "
     ]
    },
    {
     "name": "stdout",
     "output_type": "stream",
     "text": [
      "JMT아구찜 scroll\n"
     ]
    },
    {
     "name": "stderr",
     "output_type": "stream",
     "text": [
      "\n",
      "save..: 100%|██████████| 2/2 [00:00<00:00, 1081.84it/s]"
     ]
    },
    {
     "name": "stdout",
     "output_type": "stream",
     "text": [
      "JMT아구찜 2\n",
      "모든 리뷰 불러오기 시작...\n",
      "모든 리뷰 불러오기 완료!\n",
      "(30375, 11)\n"
     ]
    },
    {
     "name": "stderr",
     "output_type": "stream",
     "text": [
      "\n",
      "craw:  54%|█████▎    | 161/300 [4:12:09<3:01:22, 78.29s/it]"
     ]
    },
    {
     "name": "stdout",
     "output_type": "stream",
     "text": [
      "제이제이카페 scroll\n"
     ]
    },
    {
     "name": "stderr",
     "output_type": "stream",
     "text": [
      "\n",
      "save..: 100%|██████████| 3/3 [00:00<00:00, 1357.38it/s]"
     ]
    },
    {
     "name": "stdout",
     "output_type": "stream",
     "text": [
      "제이제이카페 3\n",
      "모든 리뷰 불러오기 시작...\n",
      "모든 리뷰 불러오기 완료!\n",
      "(30378, 11)\n"
     ]
    },
    {
     "name": "stderr",
     "output_type": "stream",
     "text": [
      "\n",
      "craw:  54%|█████▍    | 162/300 [4:12:41<2:28:42, 64.65s/it]"
     ]
    },
    {
     "name": "stdout",
     "output_type": "stream",
     "text": [
      "샐러데이샐러드-중랑점 scroll\n",
      "샐러데이샐러드-중랑점 428\n",
      "모든 리뷰 불러오기 시작...\n",
      "모든 리뷰 불러오기 완료!\n"
     ]
    },
    {
     "name": "stderr",
     "output_type": "stream",
     "text": [
      "\n",
      "save..:   0%|          | 0/428 [00:00<?, ?it/s]\u001b[A\n",
      "save..:  11%|█         | 48/428 [00:03<00:27, 13.79it/s]\u001b[A\n",
      "save..:  20%|██        | 87/428 [00:06<00:25, 13.22it/s]\u001b[A\n",
      "save..:  28%|██▊       | 120/428 [00:09<00:24, 12.46it/s]\u001b[A\n",
      "save..:  40%|████      | 172/428 [00:12<00:19, 13.44it/s]\u001b[A\n",
      "save..:  49%|████▉     | 210/428 [00:16<00:16, 13.00it/s]\u001b[A\n",
      "save..:  57%|█████▋    | 243/428 [00:20<00:18, 10.27it/s]\u001b[A\n",
      "save..:  68%|██████▊   | 293/428 [00:23<00:11, 11.58it/s]\u001b[A\n",
      "save..:  81%|████████  | 346/428 [00:26<00:06, 12.79it/s]\u001b[A\n",
      "save..:  90%|█████████ | 386/428 [00:30<00:03, 12.53it/s]\u001b[A\n",
      "save..: 100%|██████████| 428/428 [00:34<00:00, 12.26it/s]\u001b[A\n"
     ]
    },
    {
     "name": "stdout",
     "output_type": "stream",
     "text": [
      "(30806, 11)\n"
     ]
    },
    {
     "name": "stderr",
     "output_type": "stream",
     "text": [
      "\r",
      "craw:  54%|█████▍    | 163/300 [4:15:09<3:24:40, 89.64s/it]"
     ]
    },
    {
     "name": "stdout",
     "output_type": "stream",
     "text": [
      "도미노피자-홍릉점 scroll\n",
      "도미노피자-홍릉점 176\n",
      "모든 리뷰 불러오기 시작...\n",
      "모든 리뷰 불러오기 완료!\n"
     ]
    },
    {
     "name": "stderr",
     "output_type": "stream",
     "text": [
      "\n",
      "save..:   0%|          | 0/176 [00:00<?, ?it/s]\u001b[A\n",
      "save..:  24%|██▍       | 42/176 [00:03<00:09, 13.99it/s]\u001b[A\n",
      "save..:  61%|██████    | 107/176 [00:06<00:04, 15.63it/s]\u001b[A\n",
      "save..: 100%|██████████| 176/176 [00:10<00:00, 17.33it/s]\u001b[A\n"
     ]
    },
    {
     "name": "stdout",
     "output_type": "stream",
     "text": [
      "(30982, 11)\n"
     ]
    },
    {
     "name": "stderr",
     "output_type": "stream",
     "text": [
      "\r",
      "craw:  55%|█████▍    | 164/300 [4:16:25<3:13:58, 85.58s/it]"
     ]
    },
    {
     "name": "stdout",
     "output_type": "stream",
     "text": [
      "부스부리또-서울시립대점 scroll\n"
     ]
    },
    {
     "name": "stderr",
     "output_type": "stream",
     "text": [
      "\r",
      "craw:  55%|█████▌    | 165/300 [4:16:45<2:28:16, 65.90s/it]"
     ]
    },
    {
     "name": "stdout",
     "output_type": "stream",
     "text": [
      "wrong shop\n",
      "동대문신야채곱창 scroll\n",
      "동대문신야채곱창 scroll\n",
      "동대문신야채곱창 31\n",
      "모든 리뷰 불러오기 시작...\n",
      "모든 리뷰 불러오기 완료!\n"
     ]
    },
    {
     "name": "stderr",
     "output_type": "stream",
     "text": [
      "\n",
      "save..: 100%|██████████| 31/31 [00:01<00:00, 28.42it/s]\n"
     ]
    },
    {
     "name": "stdout",
     "output_type": "stream",
     "text": [
      "(31013, 11)\n"
     ]
    },
    {
     "name": "stderr",
     "output_type": "stream",
     "text": [
      "\r",
      "craw:  55%|█████▌    | 166/300 [4:17:16<2:03:20, 55.23s/it]"
     ]
    },
    {
     "name": "stdout",
     "output_type": "stream",
     "text": [
      "버거플래닛 scroll\n",
      "버거플래닛 73\n",
      "모든 리뷰 불러오기 시작...\n",
      "모든 리뷰 불러오기 완료!\n"
     ]
    },
    {
     "name": "stderr",
     "output_type": "stream",
     "text": [
      "\n",
      "save..:   0%|          | 0/73 [00:00<?, ?it/s]\u001b[A\n",
      "save..: 100%|██████████| 73/73 [00:05<00:00, 14.46it/s]\u001b[A\n"
     ]
    },
    {
     "name": "stdout",
     "output_type": "stream",
     "text": [
      "(31086, 11)\n"
     ]
    },
    {
     "name": "stderr",
     "output_type": "stream",
     "text": [
      "\r",
      "craw:  56%|█████▌    | 167/300 [4:18:15<2:05:20, 56.55s/it]"
     ]
    },
    {
     "name": "stdout",
     "output_type": "stream",
     "text": [
      "1인용묵은지김치찜-청량리점 scroll\n",
      "1인용묵은지김치찜-청량리점 90\n",
      "모든 리뷰 불러오기 시작...\n",
      "모든 리뷰 불러오기 완료!\n"
     ]
    },
    {
     "name": "stderr",
     "output_type": "stream",
     "text": [
      "\n",
      "save..:   0%|          | 0/90 [00:00<?, ?it/s]\u001b[A\n",
      "save..: 100%|██████████| 90/90 [00:05<00:00, 15.16it/s]\u001b[A\n"
     ]
    },
    {
     "name": "stdout",
     "output_type": "stream",
     "text": [
      "(31176, 11)\n"
     ]
    },
    {
     "name": "stderr",
     "output_type": "stream",
     "text": [
      "\r",
      "craw:  56%|█████▌    | 168/300 [4:19:05<1:59:44, 54.43s/it]"
     ]
    },
    {
     "name": "stdout",
     "output_type": "stream",
     "text": [
      "원조작살감자탕&해장국 scroll\n",
      "원조작살감자탕&해장국 384\n",
      "모든 리뷰 불러오기 시작...\n"
     ]
    },
    {
     "name": "stderr",
     "output_type": "stream",
     "text": [
      "\n",
      "save..: 0it [00:00, ?it/s]\u001b[A"
     ]
    },
    {
     "name": "stdout",
     "output_type": "stream",
     "text": [
      "모든 리뷰 불러오기 완료!\n",
      "(31176, 11)\n"
     ]
    },
    {
     "name": "stderr",
     "output_type": "stream",
     "text": [
      "\n",
      "craw:  56%|█████▋    | 169/300 [4:19:35<1:43:06, 47.23s/it]"
     ]
    },
    {
     "name": "stdout",
     "output_type": "stream",
     "text": [
      "프로김치와반찬 scroll\n"
     ]
    },
    {
     "name": "stderr",
     "output_type": "stream",
     "text": [
      "\r",
      "craw:  57%|█████▋    | 170/300 [4:19:36<1:12:17, 33.36s/it]"
     ]
    },
    {
     "name": "stdout",
     "output_type": "stream",
     "text": [
      "wrong shop\n",
      "정직한삼겹살-동대문점 scroll\n"
     ]
    },
    {
     "name": "stderr",
     "output_type": "stream",
     "text": [
      "\r",
      "craw:  57%|█████▋    | 171/300 [4:19:37<50:52, 23.66s/it]  "
     ]
    },
    {
     "name": "stdout",
     "output_type": "stream",
     "text": [
      "wrong shop\n",
      "아라연대게 scroll\n"
     ]
    },
    {
     "name": "stderr",
     "output_type": "stream",
     "text": [
      "\r",
      "craw:  57%|█████▋    | 172/300 [4:19:38<35:59, 16.87s/it]"
     ]
    },
    {
     "name": "stdout",
     "output_type": "stream",
     "text": [
      "wrong shop\n",
      "파치-외대점 scroll\n"
     ]
    },
    {
     "name": "stderr",
     "output_type": "stream",
     "text": [
      "\r",
      "craw:  58%|█████▊    | 173/300 [4:19:39<25:38, 12.11s/it]"
     ]
    },
    {
     "name": "stdout",
     "output_type": "stream",
     "text": [
      "wrong shop\n",
      "JMT부대찌개-석관점 scroll\n"
     ]
    },
    {
     "name": "stderr",
     "output_type": "stream",
     "text": [
      "\r",
      "craw:  58%|█████▊    | 174/300 [4:19:40<18:27,  8.79s/it]"
     ]
    },
    {
     "name": "stdout",
     "output_type": "stream",
     "text": [
      "wrong shop\n",
      "반올림피자샵-동대문구점 scroll\n"
     ]
    },
    {
     "name": "stderr",
     "output_type": "stream",
     "text": [
      "\r",
      "craw:  58%|█████▊    | 175/300 [4:19:41<13:27,  6.46s/it]"
     ]
    },
    {
     "name": "stdout",
     "output_type": "stream",
     "text": [
      "wrong shop\n",
      "꼬꼬스토리-석관점 scroll\n"
     ]
    },
    {
     "name": "stderr",
     "output_type": "stream",
     "text": [
      "\r",
      "craw:  59%|█████▊    | 176/300 [4:19:42<09:58,  4.83s/it]"
     ]
    },
    {
     "name": "stdout",
     "output_type": "stream",
     "text": [
      "wrong shop\n",
      "하동우렁추어탕-먹골점 scroll\n"
     ]
    },
    {
     "name": "stderr",
     "output_type": "stream",
     "text": [
      "\r",
      "craw:  59%|█████▉    | 177/300 [4:19:45<08:29,  4.14s/it]"
     ]
    },
    {
     "name": "stdout",
     "output_type": "stream",
     "text": [
      "wrong shop\n",
      "리후찬팅 scroll\n"
     ]
    },
    {
     "name": "stderr",
     "output_type": "stream",
     "text": [
      "\r",
      "craw:  59%|█████▉    | 178/300 [4:19:46<06:30,  3.20s/it]"
     ]
    },
    {
     "name": "stdout",
     "output_type": "stream",
     "text": [
      "wrong shop\n",
      "파리바게뜨-청량리점 scroll\n"
     ]
    },
    {
     "name": "stderr",
     "output_type": "stream",
     "text": [
      "\r",
      "craw:  60%|█████▉    | 179/300 [4:19:47<05:08,  2.55s/it]"
     ]
    },
    {
     "name": "stdout",
     "output_type": "stream",
     "text": [
      "wrong shop\n",
      "소중한참숯화로구이 scroll\n"
     ]
    },
    {
     "name": "stderr",
     "output_type": "stream",
     "text": [
      "\r",
      "craw:  60%|██████    | 180/300 [4:19:48<04:10,  2.09s/it]"
     ]
    },
    {
     "name": "stdout",
     "output_type": "stream",
     "text": [
      "wrong shop\n",
      "조개삼국지 scroll\n"
     ]
    },
    {
     "name": "stderr",
     "output_type": "stream",
     "text": [
      "\r",
      "craw:  60%|██████    | 181/300 [4:19:49<03:30,  1.77s/it]"
     ]
    },
    {
     "name": "stdout",
     "output_type": "stream",
     "text": [
      "wrong shop\n",
      "에그드랍-샌드위치전문점 scroll\n"
     ]
    },
    {
     "name": "stderr",
     "output_type": "stream",
     "text": [
      "\r",
      "craw:  61%|██████    | 182/300 [4:19:50<03:02,  1.55s/it]"
     ]
    },
    {
     "name": "stdout",
     "output_type": "stream",
     "text": [
      "wrong shop\n",
      "오븐에빠진닭-회기역점 scroll\n"
     ]
    },
    {
     "name": "stderr",
     "output_type": "stream",
     "text": [
      "\r",
      "craw:  61%|██████    | 183/300 [4:19:51<02:42,  1.39s/it]"
     ]
    },
    {
     "name": "stdout",
     "output_type": "stream",
     "text": [
      "wrong shop\n",
      "용두동방앗간 scroll\n"
     ]
    },
    {
     "name": "stderr",
     "output_type": "stream",
     "text": [
      "\r",
      "craw:  61%|██████▏   | 184/300 [4:19:52<02:28,  1.28s/it]"
     ]
    },
    {
     "name": "stdout",
     "output_type": "stream",
     "text": [
      "wrong shop\n",
      "JMT마라탕집 scroll\n"
     ]
    },
    {
     "name": "stderr",
     "output_type": "stream",
     "text": [
      "\r",
      "craw:  62%|██████▏   | 185/300 [4:19:53<02:18,  1.20s/it]"
     ]
    },
    {
     "name": "stdout",
     "output_type": "stream",
     "text": [
      "wrong shop\n",
      "굽네치킨&피자-시립대점 scroll\n"
     ]
    },
    {
     "name": "stderr",
     "output_type": "stream",
     "text": [
      "\r",
      "craw:  62%|██████▏   | 186/300 [4:19:54<02:10,  1.15s/it]"
     ]
    },
    {
     "name": "stdout",
     "output_type": "stream",
     "text": [
      "wrong shop\n",
      "오하이요돈까스&돈부리 scroll\n"
     ]
    },
    {
     "name": "stderr",
     "output_type": "stream",
     "text": [
      "\r",
      "craw:  62%|██████▏   | 187/300 [4:19:55<02:05,  1.11s/it]"
     ]
    },
    {
     "name": "stdout",
     "output_type": "stream",
     "text": [
      "wrong shop\n",
      "평양냉면-본점 scroll\n"
     ]
    },
    {
     "name": "stderr",
     "output_type": "stream",
     "text": [
      "\r",
      "craw:  63%|██████▎   | 188/300 [4:19:56<02:01,  1.08s/it]"
     ]
    },
    {
     "name": "stdout",
     "output_type": "stream",
     "text": [
      "wrong shop\n",
      "79번지국수집 scroll\n"
     ]
    },
    {
     "name": "stderr",
     "output_type": "stream",
     "text": [
      "\r",
      "craw:  63%|██████▎   | 189/300 [4:19:57<01:58,  1.06s/it]"
     ]
    },
    {
     "name": "stdout",
     "output_type": "stream",
     "text": [
      "wrong shop\n",
      "리김밥-홈플러스동대문점 scroll\n"
     ]
    },
    {
     "name": "stderr",
     "output_type": "stream",
     "text": [
      "\r",
      "craw:  63%|██████▎   | 190/300 [4:19:58<01:55,  1.05s/it]"
     ]
    },
    {
     "name": "stdout",
     "output_type": "stream",
     "text": [
      "wrong shop\n",
      "깐띤 scroll\n"
     ]
    },
    {
     "name": "stderr",
     "output_type": "stream",
     "text": [
      "\r",
      "craw:  64%|██████▎   | 191/300 [4:19:59<01:53,  1.04s/it]"
     ]
    },
    {
     "name": "stdout",
     "output_type": "stream",
     "text": [
      "wrong shop\n",
      "정아니의불타는여고24시떡볶이-전농점 scroll\n"
     ]
    },
    {
     "name": "stderr",
     "output_type": "stream",
     "text": [
      "\r",
      "craw:  64%|██████▍   | 192/300 [4:20:00<01:51,  1.04s/it]"
     ]
    },
    {
     "name": "stdout",
     "output_type": "stream",
     "text": [
      "wrong shop\n",
      "제주올레족발 scroll\n"
     ]
    },
    {
     "name": "stderr",
     "output_type": "stream",
     "text": [
      "\r",
      "craw:  64%|██████▍   | 193/300 [4:20:01<01:50,  1.03s/it]"
     ]
    },
    {
     "name": "stdout",
     "output_type": "stream",
     "text": [
      "wrong shop\n",
      "와가리피순대 scroll\n"
     ]
    },
    {
     "name": "stderr",
     "output_type": "stream",
     "text": [
      "\r",
      "craw:  65%|██████▍   | 194/300 [4:20:02<01:49,  1.03s/it]"
     ]
    },
    {
     "name": "stdout",
     "output_type": "stream",
     "text": [
      "wrong shop\n",
      "살루드 scroll\n"
     ]
    },
    {
     "name": "stderr",
     "output_type": "stream",
     "text": [
      "\r",
      "craw:  65%|██████▌   | 195/300 [4:20:03<01:47,  1.03s/it]"
     ]
    },
    {
     "name": "stdout",
     "output_type": "stream",
     "text": [
      "wrong shop\n",
      "알로카시아 scroll\n"
     ]
    },
    {
     "name": "stderr",
     "output_type": "stream",
     "text": [
      "\r",
      "craw:  65%|██████▌   | 196/300 [4:20:04<01:46,  1.02s/it]"
     ]
    },
    {
     "name": "stdout",
     "output_type": "stream",
     "text": [
      "wrong shop\n",
      "평양불냉면&임금님갈비탕 scroll\n"
     ]
    },
    {
     "name": "stderr",
     "output_type": "stream",
     "text": [
      "\r",
      "craw:  66%|██████▌   | 197/300 [4:20:05<01:45,  1.02s/it]"
     ]
    },
    {
     "name": "stdout",
     "output_type": "stream",
     "text": [
      "wrong shop\n",
      "오동통닭 scroll\n"
     ]
    },
    {
     "name": "stderr",
     "output_type": "stream",
     "text": [
      "\r",
      "craw:  66%|██████▌   | 198/300 [4:20:06<01:44,  1.02s/it]"
     ]
    },
    {
     "name": "stdout",
     "output_type": "stream",
     "text": [
      "wrong shop\n",
      "신품떡볶이-석관점 scroll\n"
     ]
    },
    {
     "name": "stderr",
     "output_type": "stream",
     "text": [
      "\r",
      "craw:  66%|██████▋   | 199/300 [4:20:07<01:43,  1.02s/it]"
     ]
    },
    {
     "name": "stdout",
     "output_type": "stream",
     "text": [
      "wrong shop\n",
      "은행골-경희대점 scroll\n"
     ]
    },
    {
     "name": "stderr",
     "output_type": "stream",
     "text": [
      "\r",
      "craw:  67%|██████▋   | 200/300 [4:20:08<01:42,  1.02s/it]"
     ]
    },
    {
     "name": "stdout",
     "output_type": "stream",
     "text": [
      "wrong shop\n",
      "신의주부대찌개-경희대점 scroll\n"
     ]
    },
    {
     "name": "stderr",
     "output_type": "stream",
     "text": [
      "\r",
      "craw:  67%|██████▋   | 201/300 [4:20:09<01:41,  1.02s/it]"
     ]
    },
    {
     "name": "stdout",
     "output_type": "stream",
     "text": [
      "wrong shop\n",
      "국밥만선생 scroll\n"
     ]
    },
    {
     "name": "stderr",
     "output_type": "stream",
     "text": [
      "\r",
      "craw:  67%|██████▋   | 202/300 [4:20:10<01:40,  1.02s/it]"
     ]
    },
    {
     "name": "stdout",
     "output_type": "stream",
     "text": [
      "wrong shop\n",
      "오돌이와불닭발-경희대점 scroll\n"
     ]
    },
    {
     "name": "stderr",
     "output_type": "stream",
     "text": [
      "\r",
      "craw:  68%|██████▊   | 203/300 [4:20:11<01:38,  1.02s/it]"
     ]
    },
    {
     "name": "stdout",
     "output_type": "stream",
     "text": [
      "wrong shop\n",
      "파파존스피자-외대경희대점 scroll\n"
     ]
    },
    {
     "name": "stderr",
     "output_type": "stream",
     "text": [
      "\r",
      "craw:  68%|██████▊   | 204/300 [4:20:12<01:37,  1.02s/it]"
     ]
    },
    {
     "name": "stdout",
     "output_type": "stream",
     "text": [
      "wrong shop\n",
      "나혼자 scroll\n"
     ]
    },
    {
     "name": "stderr",
     "output_type": "stream",
     "text": [
      "\r",
      "craw:  68%|██████▊   | 205/300 [4:20:13<01:36,  1.02s/it]"
     ]
    },
    {
     "name": "stdout",
     "output_type": "stream",
     "text": [
      "wrong shop\n",
      "산천골양푼이동태요리전문점 scroll\n"
     ]
    },
    {
     "name": "stderr",
     "output_type": "stream",
     "text": [
      "\r",
      "craw:  69%|██████▊   | 206/300 [4:20:15<01:35,  1.02s/it]"
     ]
    },
    {
     "name": "stdout",
     "output_type": "stream",
     "text": [
      "wrong shop\n",
      "문립 scroll\n"
     ]
    },
    {
     "name": "stderr",
     "output_type": "stream",
     "text": [
      "\r",
      "craw:  69%|██████▉   | 207/300 [4:20:16<01:34,  1.02s/it]"
     ]
    },
    {
     "name": "stdout",
     "output_type": "stream",
     "text": [
      "wrong shop\n",
      "봉차우 scroll\n"
     ]
    },
    {
     "name": "stderr",
     "output_type": "stream",
     "text": [
      "\r",
      "craw:  69%|██████▉   | 208/300 [4:20:17<01:34,  1.02s/it]"
     ]
    },
    {
     "name": "stdout",
     "output_type": "stream",
     "text": [
      "wrong shop\n",
      "영산포홍어삼합 scroll\n"
     ]
    },
    {
     "name": "stderr",
     "output_type": "stream",
     "text": [
      "\r",
      "craw:  70%|██████▉   | 209/300 [4:20:18<01:32,  1.02s/it]"
     ]
    },
    {
     "name": "stdout",
     "output_type": "stream",
     "text": [
      "wrong shop\n",
      "큰손갈비 scroll\n"
     ]
    },
    {
     "name": "stderr",
     "output_type": "stream",
     "text": [
      "\r",
      "craw:  70%|███████   | 210/300 [4:20:19<01:31,  1.02s/it]"
     ]
    },
    {
     "name": "stdout",
     "output_type": "stream",
     "text": [
      "wrong shop\n",
      "군산아구산꽃게전문점 scroll\n"
     ]
    },
    {
     "name": "stderr",
     "output_type": "stream",
     "text": [
      "\r",
      "craw:  70%|███████   | 211/300 [4:20:20<01:30,  1.02s/it]"
     ]
    },
    {
     "name": "stdout",
     "output_type": "stream",
     "text": [
      "wrong shop\n",
      "카페밀리언생과일&디저트 scroll\n"
     ]
    },
    {
     "name": "stderr",
     "output_type": "stream",
     "text": [
      "\r",
      "craw:  71%|███████   | 212/300 [4:20:21<01:29,  1.02s/it]"
     ]
    },
    {
     "name": "stdout",
     "output_type": "stream",
     "text": [
      "wrong shop\n",
      "주수사-맞춤초밥전문점 scroll\n"
     ]
    },
    {
     "name": "stderr",
     "output_type": "stream",
     "text": [
      "\r",
      "craw:  71%|███████   | 213/300 [4:20:22<01:28,  1.02s/it]"
     ]
    },
    {
     "name": "stdout",
     "output_type": "stream",
     "text": [
      "wrong shop\n",
      "고대골목집 scroll\n"
     ]
    },
    {
     "name": "stderr",
     "output_type": "stream",
     "text": [
      "\r",
      "craw:  71%|███████▏  | 214/300 [4:20:23<01:27,  1.02s/it]"
     ]
    },
    {
     "name": "stdout",
     "output_type": "stream",
     "text": [
      "wrong shop\n",
      "스시와사비 scroll\n"
     ]
    },
    {
     "name": "stderr",
     "output_type": "stream",
     "text": [
      "\r",
      "craw:  72%|███████▏  | 215/300 [4:20:24<01:26,  1.02s/it]"
     ]
    },
    {
     "name": "stdout",
     "output_type": "stream",
     "text": [
      "wrong shop\n",
      "미성 scroll\n"
     ]
    },
    {
     "name": "stderr",
     "output_type": "stream",
     "text": [
      "\r",
      "craw:  72%|███████▏  | 216/300 [4:20:25<01:25,  1.02s/it]"
     ]
    },
    {
     "name": "stdout",
     "output_type": "stream",
     "text": [
      "wrong shop\n",
      "돈태자돈가스 scroll\n"
     ]
    },
    {
     "name": "stderr",
     "output_type": "stream",
     "text": [
      "\r",
      "craw:  72%|███████▏  | 217/300 [4:20:26<01:24,  1.02s/it]"
     ]
    },
    {
     "name": "stdout",
     "output_type": "stream",
     "text": [
      "wrong shop\n",
      "제기동맛고을 scroll\n"
     ]
    },
    {
     "name": "stderr",
     "output_type": "stream",
     "text": [
      "\r",
      "craw:  73%|███████▎  | 218/300 [4:20:27<01:23,  1.02s/it]"
     ]
    },
    {
     "name": "stdout",
     "output_type": "stream",
     "text": [
      "wrong shop\n",
      "골드레벨파스타&필라프 scroll\n"
     ]
    },
    {
     "name": "stderr",
     "output_type": "stream",
     "text": [
      "\r",
      "craw:  73%|███████▎  | 219/300 [4:20:28<01:22,  1.02s/it]"
     ]
    },
    {
     "name": "stdout",
     "output_type": "stream",
     "text": [
      "wrong shop\n",
      "국밥집불쌈냉면 scroll\n"
     ]
    },
    {
     "name": "stderr",
     "output_type": "stream",
     "text": [
      "\r",
      "craw:  73%|███████▎  | 220/300 [4:20:29<01:21,  1.02s/it]"
     ]
    },
    {
     "name": "stdout",
     "output_type": "stream",
     "text": [
      "wrong shop\n",
      "PB델리-외대후문점 scroll\n"
     ]
    },
    {
     "name": "stderr",
     "output_type": "stream",
     "text": [
      "\r",
      "craw:  74%|███████▎  | 221/300 [4:20:30<01:20,  1.02s/it]"
     ]
    },
    {
     "name": "stdout",
     "output_type": "stream",
     "text": [
      "wrong shop\n",
      "삼다옥찌개수육떡갈비 scroll\n"
     ]
    },
    {
     "name": "stderr",
     "output_type": "stream",
     "text": [
      "\r",
      "craw:  74%|███████▍  | 222/300 [4:20:31<01:19,  1.02s/it]"
     ]
    },
    {
     "name": "stdout",
     "output_type": "stream",
     "text": [
      "wrong shop\n",
      "삼촌네-본점 scroll\n"
     ]
    },
    {
     "name": "stderr",
     "output_type": "stream",
     "text": [
      "\r",
      "craw:  74%|███████▍  | 223/300 [4:20:32<01:18,  1.02s/it]"
     ]
    },
    {
     "name": "stdout",
     "output_type": "stream",
     "text": [
      "wrong shop\n",
      "CAFE153 scroll\n"
     ]
    },
    {
     "name": "stderr",
     "output_type": "stream",
     "text": [
      "\r",
      "craw:  75%|███████▍  | 224/300 [4:20:33<01:17,  1.02s/it]"
     ]
    },
    {
     "name": "stdout",
     "output_type": "stream",
     "text": [
      "wrong shop\n",
      "홍춘천치즈닭갈비-회기경희대점 scroll\n"
     ]
    },
    {
     "name": "stderr",
     "output_type": "stream",
     "text": [
      "\r",
      "craw:  75%|███████▌  | 225/300 [4:20:34<01:16,  1.02s/it]"
     ]
    },
    {
     "name": "stdout",
     "output_type": "stream",
     "text": [
      "wrong shop\n",
      "꽃중년푸줏간-장안점 scroll\n"
     ]
    },
    {
     "name": "stderr",
     "output_type": "stream",
     "text": [
      "\r",
      "craw:  75%|███████▌  | 226/300 [4:20:35<01:15,  1.02s/it]"
     ]
    },
    {
     "name": "stdout",
     "output_type": "stream",
     "text": [
      "wrong shop\n",
      "굿모닝카페 scroll\n"
     ]
    },
    {
     "name": "stderr",
     "output_type": "stream",
     "text": [
      "\r",
      "craw:  76%|███████▌  | 227/300 [4:20:36<01:14,  1.02s/it]"
     ]
    },
    {
     "name": "stdout",
     "output_type": "stream",
     "text": [
      "wrong shop\n",
      "아경면선-외대점 scroll\n"
     ]
    },
    {
     "name": "stderr",
     "output_type": "stream",
     "text": [
      "\r",
      "craw:  76%|███████▌  | 228/300 [4:20:37<01:13,  1.02s/it]"
     ]
    },
    {
     "name": "stdout",
     "output_type": "stream",
     "text": [
      "wrong shop\n",
      "우아한떡볶이-장안답십리점 scroll\n"
     ]
    },
    {
     "name": "stderr",
     "output_type": "stream",
     "text": [
      "\r",
      "craw:  76%|███████▋  | 229/300 [4:20:38<01:12,  1.02s/it]"
     ]
    },
    {
     "name": "stdout",
     "output_type": "stream",
     "text": [
      "wrong shop\n",
      "닭치고해물 scroll\n"
     ]
    },
    {
     "name": "stderr",
     "output_type": "stream",
     "text": [
      "\r",
      "craw:  77%|███████▋  | 230/300 [4:20:39<01:11,  1.02s/it]"
     ]
    },
    {
     "name": "stdout",
     "output_type": "stream",
     "text": [
      "wrong shop\n",
      "미스터피자-전농점 scroll\n"
     ]
    },
    {
     "name": "stderr",
     "output_type": "stream",
     "text": [
      "\r",
      "craw:  77%|███████▋  | 231/300 [4:20:40<01:10,  1.02s/it]"
     ]
    },
    {
     "name": "stdout",
     "output_type": "stream",
     "text": [
      "wrong shop\n",
      "통큰할매토종순대국&설렁탕-상월곡점 scroll\n"
     ]
    },
    {
     "name": "stderr",
     "output_type": "stream",
     "text": [
      "\r",
      "craw:  77%|███████▋  | 232/300 [4:20:41<01:09,  1.02s/it]"
     ]
    },
    {
     "name": "stdout",
     "output_type": "stream",
     "text": [
      "wrong shop\n",
      "모구모구초밥 scroll\n"
     ]
    },
    {
     "name": "stderr",
     "output_type": "stream",
     "text": [
      "\r",
      "craw:  78%|███████▊  | 233/300 [4:20:42<01:08,  1.02s/it]"
     ]
    },
    {
     "name": "stdout",
     "output_type": "stream",
     "text": [
      "wrong shop\n",
      "옥다방 scroll\n"
     ]
    },
    {
     "name": "stderr",
     "output_type": "stream",
     "text": [
      "\r",
      "craw:  78%|███████▊  | 234/300 [4:20:43<01:07,  1.02s/it]"
     ]
    },
    {
     "name": "stdout",
     "output_type": "stream",
     "text": [
      "wrong shop\n",
      "디어테이블-본점 scroll\n"
     ]
    },
    {
     "name": "stderr",
     "output_type": "stream",
     "text": [
      "\r",
      "craw:  78%|███████▊  | 235/300 [4:20:44<01:06,  1.02s/it]"
     ]
    },
    {
     "name": "stdout",
     "output_type": "stream",
     "text": [
      "wrong shop\n",
      "치즈밥이슈-시립대점 scroll\n"
     ]
    },
    {
     "name": "stderr",
     "output_type": "stream",
     "text": [
      "\r",
      "craw:  79%|███████▊  | 236/300 [4:20:45<01:05,  1.02s/it]"
     ]
    },
    {
     "name": "stdout",
     "output_type": "stream",
     "text": [
      "wrong shop\n",
      "왕건고기촌육회집 scroll\n"
     ]
    },
    {
     "name": "stderr",
     "output_type": "stream",
     "text": [
      "\r",
      "craw:  79%|███████▉  | 237/300 [4:20:46<01:04,  1.02s/it]"
     ]
    },
    {
     "name": "stdout",
     "output_type": "stream",
     "text": [
      "wrong shop\n",
      "연안식당-동대문구청점 scroll\n"
     ]
    },
    {
     "name": "stderr",
     "output_type": "stream",
     "text": [
      "\r",
      "craw:  79%|███████▉  | 238/300 [4:20:47<01:03,  1.02s/it]"
     ]
    },
    {
     "name": "stdout",
     "output_type": "stream",
     "text": [
      "wrong shop\n",
      "땡초닭발-경희대점 scroll\n"
     ]
    },
    {
     "name": "stderr",
     "output_type": "stream",
     "text": [
      "\r",
      "craw:  80%|███████▉  | 239/300 [4:20:48<01:02,  1.02s/it]"
     ]
    },
    {
     "name": "stdout",
     "output_type": "stream",
     "text": [
      "wrong shop\n",
      "대찌대파생고기김치찌개-성북점 scroll\n"
     ]
    },
    {
     "name": "stderr",
     "output_type": "stream",
     "text": [
      "\r",
      "craw:  80%|████████  | 240/300 [4:20:49<01:01,  1.02s/it]"
     ]
    },
    {
     "name": "stdout",
     "output_type": "stream",
     "text": [
      "wrong shop\n",
      "맛있는곱창전골-영미네 scroll\n"
     ]
    },
    {
     "name": "stderr",
     "output_type": "stream",
     "text": [
      "\r",
      "craw:  80%|████████  | 241/300 [4:20:50<01:00,  1.02s/it]"
     ]
    },
    {
     "name": "stdout",
     "output_type": "stream",
     "text": [
      "wrong shop\n",
      "부산돼지국밥-장안동점 scroll\n"
     ]
    },
    {
     "name": "stderr",
     "output_type": "stream",
     "text": [
      "\r",
      "craw:  81%|████████  | 242/300 [4:20:51<00:59,  1.02s/it]"
     ]
    },
    {
     "name": "stdout",
     "output_type": "stream",
     "text": [
      "wrong shop\n",
      "대대통닭-중화점 scroll\n"
     ]
    },
    {
     "name": "stderr",
     "output_type": "stream",
     "text": [
      "\r",
      "craw:  81%|████████  | 243/300 [4:20:52<00:58,  1.02s/it]"
     ]
    },
    {
     "name": "stdout",
     "output_type": "stream",
     "text": [
      "wrong shop\n",
      "맵당-경희대점 scroll\n"
     ]
    },
    {
     "name": "stderr",
     "output_type": "stream",
     "text": [
      "\r",
      "craw:  81%|████████▏ | 244/300 [4:20:53<00:57,  1.02s/it]"
     ]
    },
    {
     "name": "stdout",
     "output_type": "stream",
     "text": [
      "wrong shop\n",
      "일품춘천닭갈비 scroll\n"
     ]
    },
    {
     "name": "stderr",
     "output_type": "stream",
     "text": [
      "\r",
      "craw:  82%|████████▏ | 245/300 [4:20:54<00:56,  1.02s/it]"
     ]
    },
    {
     "name": "stdout",
     "output_type": "stream",
     "text": [
      "wrong shop\n",
      "경희대에그드랍 scroll\n"
     ]
    },
    {
     "name": "stderr",
     "output_type": "stream",
     "text": [
      "\r",
      "craw:  82%|████████▏ | 246/300 [4:20:55<00:55,  1.02s/it]"
     ]
    },
    {
     "name": "stdout",
     "output_type": "stream",
     "text": [
      "wrong shop\n",
      "청량리뼈구이 scroll\n"
     ]
    },
    {
     "name": "stderr",
     "output_type": "stream",
     "text": [
      "\r",
      "craw:  82%|████████▏ | 247/300 [4:20:56<00:54,  1.02s/it]"
     ]
    },
    {
     "name": "stdout",
     "output_type": "stream",
     "text": [
      "wrong shop\n",
      "삽교원조두리곱창 scroll\n"
     ]
    },
    {
     "name": "stderr",
     "output_type": "stream",
     "text": [
      "\r",
      "craw:  83%|████████▎ | 248/300 [4:20:57<00:53,  1.02s/it]"
     ]
    },
    {
     "name": "stdout",
     "output_type": "stream",
     "text": [
      "wrong shop\n",
      "요녀석파스타 scroll\n"
     ]
    },
    {
     "name": "stderr",
     "output_type": "stream",
     "text": [
      "\r",
      "craw:  83%|████████▎ | 249/300 [4:20:58<00:52,  1.02s/it]"
     ]
    },
    {
     "name": "stdout",
     "output_type": "stream",
     "text": [
      "wrong shop\n",
      "1인용이태원부대찌개-청량리점 scroll\n"
     ]
    },
    {
     "name": "stderr",
     "output_type": "stream",
     "text": [
      "\r",
      "craw:  83%|████████▎ | 250/300 [4:20:59<00:51,  1.02s/it]"
     ]
    },
    {
     "name": "stdout",
     "output_type": "stream",
     "text": [
      "wrong shop\n",
      "뿅가곱창-이문동점 scroll\n"
     ]
    },
    {
     "name": "stderr",
     "output_type": "stream",
     "text": [
      "\r",
      "craw:  84%|████████▎ | 251/300 [4:21:00<00:50,  1.02s/it]"
     ]
    },
    {
     "name": "stdout",
     "output_type": "stream",
     "text": [
      "wrong shop\n",
      "떡수레 scroll\n"
     ]
    },
    {
     "name": "stderr",
     "output_type": "stream",
     "text": [
      "\r",
      "craw:  84%|████████▍ | 252/300 [4:21:01<00:48,  1.02s/it]"
     ]
    },
    {
     "name": "stdout",
     "output_type": "stream",
     "text": [
      "wrong shop\n",
      "시대곱창-시립대점 scroll\n"
     ]
    },
    {
     "name": "stderr",
     "output_type": "stream",
     "text": [
      "\r",
      "craw:  84%|████████▍ | 253/300 [4:21:02<00:47,  1.02s/it]"
     ]
    },
    {
     "name": "stdout",
     "output_type": "stream",
     "text": [
      "wrong shop\n",
      "춘리마라탕-상봉점 scroll\n"
     ]
    },
    {
     "name": "stderr",
     "output_type": "stream",
     "text": [
      "\r",
      "craw:  85%|████████▍ | 254/300 [4:21:03<00:46,  1.02s/it]"
     ]
    },
    {
     "name": "stdout",
     "output_type": "stream",
     "text": [
      "wrong shop\n",
      "맘스컵밥&떡볶이-석계역본사직영점 scroll\n"
     ]
    },
    {
     "name": "stderr",
     "output_type": "stream",
     "text": [
      "\r",
      "craw:  85%|████████▌ | 255/300 [4:21:05<00:45,  1.02s/it]"
     ]
    },
    {
     "name": "stdout",
     "output_type": "stream",
     "text": [
      "wrong shop\n",
      "XO핫도그 scroll\n"
     ]
    },
    {
     "name": "stderr",
     "output_type": "stream",
     "text": [
      "\r",
      "craw:  85%|████████▌ | 256/300 [4:21:06<00:45,  1.02s/it]"
     ]
    },
    {
     "name": "stdout",
     "output_type": "stream",
     "text": [
      "wrong shop\n",
      "7번가피자-회기점 scroll\n"
     ]
    },
    {
     "name": "stderr",
     "output_type": "stream",
     "text": [
      "\r",
      "craw:  86%|████████▌ | 257/300 [4:21:07<00:43,  1.02s/it]"
     ]
    },
    {
     "name": "stdout",
     "output_type": "stream",
     "text": [
      "wrong shop\n",
      "치요남치킨-장안점 scroll\n"
     ]
    },
    {
     "name": "stderr",
     "output_type": "stream",
     "text": [
      "\r",
      "craw:  86%|████████▌ | 258/300 [4:21:08<00:42,  1.02s/it]"
     ]
    },
    {
     "name": "stdout",
     "output_type": "stream",
     "text": [
      "wrong shop\n",
      "1인분전문밥도둑술도둑 scroll\n"
     ]
    },
    {
     "name": "stderr",
     "output_type": "stream",
     "text": [
      "\r",
      "craw:  86%|████████▋ | 259/300 [4:21:09<00:41,  1.02s/it]"
     ]
    },
    {
     "name": "stdout",
     "output_type": "stream",
     "text": [
      "wrong shop\n",
      "닛시스시 scroll\n"
     ]
    },
    {
     "name": "stderr",
     "output_type": "stream",
     "text": [
      "\r",
      "craw:  87%|████████▋ | 260/300 [4:21:10<00:40,  1.02s/it]"
     ]
    },
    {
     "name": "stdout",
     "output_type": "stream",
     "text": [
      "wrong shop\n",
      "용두동마약떡볶이 scroll\n"
     ]
    },
    {
     "name": "stderr",
     "output_type": "stream",
     "text": [
      "\r",
      "craw:  87%|████████▋ | 261/300 [4:21:11<00:39,  1.02s/it]"
     ]
    },
    {
     "name": "stdout",
     "output_type": "stream",
     "text": [
      "wrong shop\n",
      "59년옛날통닭 scroll\n"
     ]
    },
    {
     "name": "stderr",
     "output_type": "stream",
     "text": [
      "\r",
      "craw:  87%|████████▋ | 262/300 [4:21:12<00:38,  1.02s/it]"
     ]
    },
    {
     "name": "stdout",
     "output_type": "stream",
     "text": [
      "wrong shop\n",
      "쏘크라테스떡볶이-성북아렌트점 scroll\n"
     ]
    },
    {
     "name": "stderr",
     "output_type": "stream",
     "text": [
      "\r",
      "craw:  88%|████████▊ | 263/300 [4:21:13<00:37,  1.02s/it]"
     ]
    },
    {
     "name": "stdout",
     "output_type": "stream",
     "text": [
      "wrong shop\n",
      "신천할매떡볶이-상봉점 scroll\n"
     ]
    },
    {
     "name": "stderr",
     "output_type": "stream",
     "text": [
      "\r",
      "craw:  88%|████████▊ | 264/300 [4:21:14<00:36,  1.02s/it]"
     ]
    },
    {
     "name": "stdout",
     "output_type": "stream",
     "text": [
      "wrong shop\n",
      "쏭스핫도그-회기점 scroll\n"
     ]
    },
    {
     "name": "stderr",
     "output_type": "stream",
     "text": [
      "\r",
      "craw:  88%|████████▊ | 265/300 [4:21:15<00:35,  1.02s/it]"
     ]
    },
    {
     "name": "stdout",
     "output_type": "stream",
     "text": [
      "wrong shop\n",
      "여기가좋겠네 scroll\n"
     ]
    },
    {
     "name": "stderr",
     "output_type": "stream",
     "text": [
      "\r",
      "craw:  89%|████████▊ | 266/300 [4:21:16<00:34,  1.02s/it]"
     ]
    },
    {
     "name": "stdout",
     "output_type": "stream",
     "text": [
      "wrong shop\n",
      "바나프레소-회기역사거리점 scroll\n"
     ]
    },
    {
     "name": "stderr",
     "output_type": "stream",
     "text": [
      "\r",
      "craw:  89%|████████▉ | 267/300 [4:21:17<00:33,  1.02s/it]"
     ]
    },
    {
     "name": "stdout",
     "output_type": "stream",
     "text": [
      "wrong shop\n",
      "육회지존-시립대점 scroll\n"
     ]
    },
    {
     "name": "stderr",
     "output_type": "stream",
     "text": [
      "\r",
      "craw:  89%|████████▉ | 268/300 [4:21:18<00:32,  1.02s/it]"
     ]
    },
    {
     "name": "stdout",
     "output_type": "stream",
     "text": [
      "wrong shop\n",
      "물로 scroll\n"
     ]
    },
    {
     "name": "stderr",
     "output_type": "stream",
     "text": [
      "\r",
      "craw:  90%|████████▉ | 269/300 [4:21:19<00:31,  1.02s/it]"
     ]
    },
    {
     "name": "stdout",
     "output_type": "stream",
     "text": [
      "wrong shop\n",
      "칼리앤메리 scroll\n"
     ]
    },
    {
     "name": "stderr",
     "output_type": "stream",
     "text": [
      "\r",
      "craw:  90%|█████████ | 270/300 [4:21:20<00:30,  1.02s/it]"
     ]
    },
    {
     "name": "stdout",
     "output_type": "stream",
     "text": [
      "wrong shop\n",
      "정상호당진아구 scroll\n"
     ]
    },
    {
     "name": "stderr",
     "output_type": "stream",
     "text": [
      "\r",
      "craw:  90%|█████████ | 271/300 [4:21:21<00:29,  1.02s/it]"
     ]
    },
    {
     "name": "stdout",
     "output_type": "stream",
     "text": [
      "wrong shop\n",
      "하루미 scroll\n"
     ]
    },
    {
     "name": "stderr",
     "output_type": "stream",
     "text": [
      "\r",
      "craw:  91%|█████████ | 272/300 [4:21:22<00:28,  1.02s/it]"
     ]
    },
    {
     "name": "stdout",
     "output_type": "stream",
     "text": [
      "wrong shop\n",
      "마라천국-본점 scroll\n"
     ]
    },
    {
     "name": "stderr",
     "output_type": "stream",
     "text": [
      "\r",
      "craw:  91%|█████████ | 273/300 [4:21:23<00:27,  1.02s/it]"
     ]
    },
    {
     "name": "stdout",
     "output_type": "stream",
     "text": [
      "wrong shop\n",
      "동부시장마산아구찜 scroll\n"
     ]
    },
    {
     "name": "stderr",
     "output_type": "stream",
     "text": [
      "\r",
      "craw:  91%|█████████▏| 274/300 [4:21:24<00:26,  1.02s/it]"
     ]
    },
    {
     "name": "stdout",
     "output_type": "stream",
     "text": [
      "wrong shop\n",
      "청춘닭꼬치-장안점 scroll\n"
     ]
    },
    {
     "name": "stderr",
     "output_type": "stream",
     "text": [
      "\r",
      "craw:  92%|█████████▏| 275/300 [4:21:25<00:25,  1.02s/it]"
     ]
    },
    {
     "name": "stdout",
     "output_type": "stream",
     "text": [
      "wrong shop\n",
      "장어촌-중랑점 scroll\n"
     ]
    },
    {
     "name": "stderr",
     "output_type": "stream",
     "text": [
      "\r",
      "craw:  92%|█████████▏| 276/300 [4:21:26<00:24,  1.02s/it]"
     ]
    },
    {
     "name": "stdout",
     "output_type": "stream",
     "text": [
      "wrong shop\n",
      "식생원-시립대본점 scroll\n"
     ]
    },
    {
     "name": "stderr",
     "output_type": "stream",
     "text": [
      "\r",
      "craw:  92%|█████████▏| 277/300 [4:21:27<00:23,  1.02s/it]"
     ]
    },
    {
     "name": "stdout",
     "output_type": "stream",
     "text": [
      "wrong shop\n",
      "곽씨네김치찌개 scroll\n"
     ]
    },
    {
     "name": "stderr",
     "output_type": "stream",
     "text": [
      "\r",
      "craw:  93%|█████████▎| 278/300 [4:21:28<00:22,  1.02s/it]"
     ]
    },
    {
     "name": "stdout",
     "output_type": "stream",
     "text": [
      "wrong shop\n",
      "교촌치킨-신이문점 scroll\n"
     ]
    },
    {
     "name": "stderr",
     "output_type": "stream",
     "text": [
      "\r",
      "craw:  93%|█████████▎| 279/300 [4:21:29<00:21,  1.02s/it]"
     ]
    },
    {
     "name": "stdout",
     "output_type": "stream",
     "text": [
      "wrong shop\n",
      "브라더탕수-회기점 scroll\n"
     ]
    },
    {
     "name": "stderr",
     "output_type": "stream",
     "text": [
      "\r",
      "craw:  93%|█████████▎| 280/300 [4:21:30<00:20,  1.02s/it]"
     ]
    },
    {
     "name": "stdout",
     "output_type": "stream",
     "text": [
      "wrong shop\n",
      "명문족발 scroll\n"
     ]
    },
    {
     "name": "stderr",
     "output_type": "stream",
     "text": [
      "\r",
      "craw:  94%|█████████▎| 281/300 [4:21:31<00:19,  1.02s/it]"
     ]
    },
    {
     "name": "stdout",
     "output_type": "stream",
     "text": [
      "wrong shop\n",
      "알레아ALEA scroll\n"
     ]
    },
    {
     "name": "stderr",
     "output_type": "stream",
     "text": [
      "\r",
      "craw:  94%|█████████▍| 282/300 [4:21:32<00:18,  1.02s/it]"
     ]
    },
    {
     "name": "stdout",
     "output_type": "stream",
     "text": [
      "wrong shop\n",
      "낭풍김치찌개-경희대점 scroll\n"
     ]
    },
    {
     "name": "stderr",
     "output_type": "stream",
     "text": [
      "\r",
      "craw:  94%|█████████▍| 283/300 [4:21:33<00:17,  1.02s/it]"
     ]
    },
    {
     "name": "stdout",
     "output_type": "stream",
     "text": [
      "wrong shop\n",
      "던킨-삼육서울병원점 scroll\n"
     ]
    },
    {
     "name": "stderr",
     "output_type": "stream",
     "text": [
      "\r",
      "craw:  95%|█████████▍| 284/300 [4:21:34<00:16,  1.02s/it]"
     ]
    },
    {
     "name": "stdout",
     "output_type": "stream",
     "text": [
      "wrong shop\n",
      "장안제일손칼국수 scroll\n"
     ]
    },
    {
     "name": "stderr",
     "output_type": "stream",
     "text": [
      "\r",
      "craw:  95%|█████████▌| 285/300 [4:21:35<00:15,  1.02s/it]"
     ]
    },
    {
     "name": "stdout",
     "output_type": "stream",
     "text": [
      "wrong shop\n",
      "서산간장게장-장안본점 scroll\n"
     ]
    },
    {
     "name": "stderr",
     "output_type": "stream",
     "text": [
      "\r",
      "craw:  95%|█████████▌| 286/300 [4:21:36<00:14,  1.02s/it]"
     ]
    },
    {
     "name": "stdout",
     "output_type": "stream",
     "text": [
      "wrong shop\n",
      "언제나만족 scroll\n"
     ]
    },
    {
     "name": "stderr",
     "output_type": "stream",
     "text": [
      "\r",
      "craw:  96%|█████████▌| 287/300 [4:21:37<00:13,  1.02s/it]"
     ]
    },
    {
     "name": "stdout",
     "output_type": "stream",
     "text": [
      "wrong shop\n",
      "르쁠랭 scroll\n"
     ]
    },
    {
     "name": "stderr",
     "output_type": "stream",
     "text": [
      "\r",
      "craw:  96%|█████████▌| 288/300 [4:21:38<00:12,  1.02s/it]"
     ]
    },
    {
     "name": "stdout",
     "output_type": "stream",
     "text": [
      "wrong shop\n",
      "이경규의압구정김밥-이문점 scroll\n"
     ]
    },
    {
     "name": "stderr",
     "output_type": "stream",
     "text": [
      "\r",
      "craw:  96%|█████████▋| 289/300 [4:21:39<00:11,  1.02s/it]"
     ]
    },
    {
     "name": "stdout",
     "output_type": "stream",
     "text": [
      "wrong shop\n",
      "외대철판마을 scroll\n"
     ]
    },
    {
     "name": "stderr",
     "output_type": "stream",
     "text": [
      "\r",
      "craw:  97%|█████████▋| 290/300 [4:21:40<00:10,  1.02s/it]"
     ]
    },
    {
     "name": "stdout",
     "output_type": "stream",
     "text": [
      "wrong shop\n",
      "솔향기능이오리 scroll\n"
     ]
    },
    {
     "name": "stderr",
     "output_type": "stream",
     "text": [
      "\r",
      "craw:  97%|█████████▋| 291/300 [4:21:41<00:09,  1.02s/it]"
     ]
    },
    {
     "name": "stdout",
     "output_type": "stream",
     "text": [
      "wrong shop\n",
      "피자링크-회기점 scroll\n"
     ]
    },
    {
     "name": "stderr",
     "output_type": "stream",
     "text": [
      "\r",
      "craw:  97%|█████████▋| 292/300 [4:21:42<00:08,  1.02s/it]"
     ]
    },
    {
     "name": "stdout",
     "output_type": "stream",
     "text": [
      "wrong shop\n",
      "백돈-답십리점 scroll\n"
     ]
    },
    {
     "name": "stderr",
     "output_type": "stream",
     "text": [
      "\r",
      "craw:  98%|█████████▊| 293/300 [4:21:43<00:07,  1.02s/it]"
     ]
    },
    {
     "name": "stdout",
     "output_type": "stream",
     "text": [
      "wrong shop\n",
      "명동아구찜-묵동본점 scroll\n"
     ]
    },
    {
     "name": "stderr",
     "output_type": "stream",
     "text": [
      "\r",
      "craw:  98%|█████████▊| 294/300 [4:21:44<00:06,  1.02s/it]"
     ]
    },
    {
     "name": "stdout",
     "output_type": "stream",
     "text": [
      "wrong shop\n",
      "PB델리-고대역점 scroll\n"
     ]
    },
    {
     "name": "stderr",
     "output_type": "stream",
     "text": [
      "\r",
      "craw:  98%|█████████▊| 295/300 [4:21:45<00:05,  1.02s/it]"
     ]
    },
    {
     "name": "stdout",
     "output_type": "stream",
     "text": [
      "wrong shop\n",
      "신가네동춘찜닭 scroll\n"
     ]
    },
    {
     "name": "stderr",
     "output_type": "stream",
     "text": [
      "\r",
      "craw:  99%|█████████▊| 296/300 [4:21:46<00:04,  1.02s/it]"
     ]
    },
    {
     "name": "stdout",
     "output_type": "stream",
     "text": [
      "wrong shop\n",
      "여느일 scroll\n"
     ]
    },
    {
     "name": "stderr",
     "output_type": "stream",
     "text": [
      "\r",
      "craw:  99%|█████████▉| 297/300 [4:21:47<00:03,  1.02s/it]"
     ]
    },
    {
     "name": "stdout",
     "output_type": "stream",
     "text": [
      "wrong shop\n",
      "동대문엽기떡볶이-고려대점 scroll\n"
     ]
    },
    {
     "name": "stderr",
     "output_type": "stream",
     "text": [
      "\r",
      "craw:  99%|█████████▉| 298/300 [4:21:48<00:02,  1.02s/it]"
     ]
    },
    {
     "name": "stdout",
     "output_type": "stream",
     "text": [
      "wrong shop\n",
      "네네치킨-종암점 scroll\n"
     ]
    },
    {
     "name": "stderr",
     "output_type": "stream",
     "text": [
      "\r",
      "craw: 100%|█████████▉| 299/300 [4:21:49<00:01,  1.02s/it]"
     ]
    },
    {
     "name": "stdout",
     "output_type": "stream",
     "text": [
      "wrong shop\n",
      "배스킨라빈스-월곡역점 scroll\n"
     ]
    },
    {
     "name": "stderr",
     "output_type": "stream",
     "text": [
      "craw: 100%|██████████| 300/300 [4:21:50<00:00, 52.37s/it]"
     ]
    },
    {
     "name": "stdout",
     "output_type": "stream",
     "text": [
      "wrong shop\n",
      "tot_shop:299,crawling sucess\n"
     ]
    },
    {
     "name": "stderr",
     "output_type": "stream",
     "text": [
      "\n"
     ]
    }
   ],
   "source": [
    "cata=4\n",
    "start=0\n",
    "end=300\n",
    "\n",
    "\n",
    "shops_list=uni_shop.shop[uni_shop.catagory == cata].tolist()\n",
    "col_list=['shop','name','date','tot_star','star_flavor','star_volume','star_deliver','menu','review_customer','review_owner','img_name']\n",
    "df=pd.DataFrame(columns=col_list)\n",
    "global driver\n",
    "#driver.quit()\n",
    "driver=driver_start(university)\n",
    "for i in tqdm(range(start,end),desc='craw'):\n",
    "    shop=shops_list[i]\n",
    "    go_stop=scroll_element(shop)\n",
    "    if go_stop:\n",
    "        #스크롤 했는데 음식점 없으면 다음으로 넘어감\n",
    "        print('wrong shop')\n",
    "        continue\n",
    "    \n",
    "    time.sleep(3)\n",
    "    \n",
    "        #찾은 음식점 클릭\n",
    "    try:\n",
    "        driver.find_element_by_xpath(f'//*[@title=\"{shop}\"]').click()\n",
    "    except (Exception, NoSuchElementException, ElementClickInterceptedException):\n",
    "        driver.quit()\n",
    "        driver=driver_start(university)\n",
    "        time.sleep(2)\n",
    "        scroll_element(shop)\n",
    "        time.sleep(3)\n",
    "        driver.find_element_by_xpath(f'//*[@title=\"{shop}\"]').click()\n",
    "    time.sleep(3)\n",
    "    \n",
    "\n",
    "    new=craw(i,shop,driver,col_list,cata)\n",
    "    df=pd.concat([new,df])\n",
    "    print(df.shape)\n",
    "    driver.back()\n",
    "    time.sleep(2)\n",
    "\n",
    "print(f'tot_shop:{i},crawling sucess')"
   ]
  },
  {
   "cell_type": "code",
   "execution_count": 9,
   "metadata": {},
   "outputs": [],
   "source": [
    "df.to_csv(path+f'cata{cata}_1.csv',index=False)"
   ]
  },
  {
   "cell_type": "code",
   "execution_count": null,
   "metadata": {},
   "outputs": [],
   "source": []
  }
 ],
 "metadata": {
  "kernelspec": {
   "display_name": "Python 3",
   "language": "python",
   "name": "python3"
  },
  "language_info": {
   "codemirror_mode": {
    "name": "ipython",
    "version": 3
   },
   "file_extension": ".py",
   "mimetype": "text/x-python",
   "name": "python",
   "nbconvert_exporter": "python",
   "pygments_lexer": "ipython3",
   "version": "3.8.5"
  }
 },
 "nbformat": 4,
 "nbformat_minor": 4
}
