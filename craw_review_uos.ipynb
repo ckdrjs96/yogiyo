{
 "cells": [
  {
   "cell_type": "code",
   "execution_count": 1,
   "metadata": {},
   "outputs": [],
   "source": [
    "from selenium import webdriver\n",
    "from bs4 import BeautifulSoup\n",
    "from selenium.webdriver.support.ui import WebDriverWait\n",
    "from selenium.webdriver.support import expected_conditions as EC\n",
    "from selenium.webdriver.common.by import By\n",
    "import pandas as pd\n",
    "import time\n",
    "from urllib.request import urlretrieve\n",
    "from tqdm import tqdm\n",
    "import os,csv\n",
    "from selenium.common.exceptions import NoSuchElementException, ElementClickInterceptedException"
   ]
  },
  {
   "cell_type": "code",
   "execution_count": 2,
   "metadata": {},
   "outputs": [],
   "source": [
    "def driver_start(university):\n",
    "    chrome_options = webdriver.ChromeOptions() \n",
    "    chrome_options.add_argument('--headless')#창없이 실행\n",
    "    chrome_options.add_argument('--no-sandbox')\n",
    "    chrome_options.add_argument('--disable-dev-shm-usage')\n",
    "\n",
    "    path=r'/data/chromedriver'\n",
    "    driver = webdriver.Chrome(executable_path=path,chrome_options=chrome_options)\n",
    "    driver.set_window_size(1024,1000)\n",
    "\n",
    "    url = \"https://www.yogiyo.co.kr/mobile/#/\"\n",
    "    driver.get(url)\n",
    "    time.sleep(1)\n",
    "    driver.find_element_by_xpath('//*[@id=\"search\"]/div/form/input').clear()\n",
    "    driver.find_element_by_xpath('//*[@id=\"search\"]/div/form/input').send_keys(university)\n",
    "    driver.find_element_by_xpath('//*[@id=\"button_search_address\"]/button[2]').click()\n",
    "    time.sleep(1)\n",
    "    \n",
    "    return driver"
   ]
  },
  {
   "cell_type": "code",
   "execution_count": 3,
   "metadata": {},
   "outputs": [],
   "source": [
    "def scroll_element(shop):#음식점이 있는 곳까지 스크롤\n",
    "    print(f\"{shop} scroll\")\n",
    "    while True:\n",
    "        last_height = driver.execute_script(\"return document.body.scrollHeight\")\n",
    "        try:\n",
    "            some_tag = driver.find_element_by_xpath(f'//*[@title=\"{shop}\"]')\n",
    "            if some_tag:\n",
    "                return False\n",
    "        except Exception:\n",
    "            driver.execute_script(\"window.scrollTo(0, document.body.scrollHeight);\")\n",
    "            time.sleep(1)\n",
    "            new_height = driver.execute_script(\"return document.body.scrollHeight\")\n",
    "            if new_height == last_height: #끝까지 스크롤후 해당 음식점이 없으면 종료 \n",
    "                return True\n",
    "            last_height = new_height\n",
    "            time.sleep(0.5)"
   ]
  },
  {
   "cell_type": "code",
   "execution_count": 4,
   "metadata": {},
   "outputs": [],
   "source": [
    "def stretch_review_page(review_cnt):\n",
    "    #클린리뷰에서 제일 아랫부분까지 열기\n",
    "    click_count = int((review_cnt/10))\n",
    "    print('모든 리뷰 불러오기 시작...')\n",
    "    for _ in range(click_count):\n",
    "        try:\n",
    "            driver.execute_script(\"window.scrollTo(0,document.body.scrollHeight);\")\n",
    "            driver.find_element_by_class_name('btn-more').click()\n",
    "            time.sleep(2)\n",
    "        except Exception as e:\n",
    "            pass\n",
    "    driver.execute_script(\"window.scrollTo(0,document.body.scrollHeight);\")\n",
    "    print('모든 리뷰 불러오기 완료!')"
   ]
  },
  {
   "cell_type": "code",
   "execution_count": 5,
   "metadata": {},
   "outputs": [],
   "source": [
    "def craw(i,shop,driver,col_list,cata):\n",
    "    #클린리뷰클릭\n",
    "    try:\n",
    "        driver.find_element_by_xpath('//*[@id=\"content\"]/div[2]/div[1]/ul/li[2]').click()\n",
    "    except Exception:\n",
    "        driver.quit()\n",
    "        driver=driver_start(university)\n",
    "        time.sleep(3)\n",
    "        scroll_element(shop)\n",
    "        #driver.find_element_by_xpath(f'//*[@title=\"{shop_in[i]}\"]').click()\n",
    "        time.sleep(3)\n",
    "        driver.find_element_by_xpath(f'//*[@title=\"{shop}\"]').click()\n",
    "        time.sleep(3)\n",
    "        driver.find_element_by_xpath('//*[@id=\"content\"]/div[2]/div[1]/ul/li[2]').click()\n",
    "    \n",
    "    time.sleep(2)\n",
    "    review_cnt=driver.find_element_by_xpath('//*[@id=\"content\"]/div[2]/div[1]/ul/li[2]/a/span').text\n",
    "    review_cnt=int(review_cnt)\n",
    "\n",
    "    print(shop, review_cnt)\n",
    "    \n",
    "    if review_cnt==0: #리뷰없으면 종료\n",
    "        print(0)\n",
    "        return\n",
    "    \n",
    "    stretch_review_page(review_cnt)\n",
    "        \n",
    "    html = driver.page_source\n",
    "    soup = BeautifulSoup(html, 'html.parser')\n",
    "\n",
    "    b=soup.find_all('li',{'class':'list-group-item star-point ng-scope'})\n",
    "    \n",
    "    tot_star_list=[]\n",
    "    name_list,date_list,star_flavor_list,star_volume_list,star_deliver_list=[],[],[],[],[]\n",
    "    menu_list,review_customer_list,review_owner_list,img_name_list=[],[],[],[]\n",
    "    for i in tqdm(range(len(b)),desc='save..',mininterval=3):\n",
    "        now=b[i]\n",
    "        name=now.find('span',{'ng-show':\"review.phone\"}).text\n",
    "        name_list.append(name)\n",
    "        date=now.find('span',{'ng-bind':\"review.time|since\"}).text\n",
    "        date_list.append(date)\n",
    "        \n",
    "        try:\n",
    "            star=now.find_all('span',{'class':\"points ng-binding\"})\n",
    "        except IndexError:\n",
    "            print(f'{i}th review, none star')\n",
    "            continue\n",
    "        \n",
    "        \n",
    "        try:\n",
    "            tot_star=len(now.find_all('span',{'class':\"full ng-scope\"}))\n",
    "        except IndexError:\n",
    "            print(f'{i}th review, none star')\n",
    "            continue\n",
    "        tot_star_list.append(tot_star)\n",
    "        \n",
    "        try:\n",
    "            star_flavor=star[0].text\n",
    "        except IndexError:\n",
    "            star_flavor=None\n",
    "        star_flavor_list.append(star_flavor)\n",
    "        \n",
    "        try:\n",
    "            star_volume=star[1].text\n",
    "        except IndexError:\n",
    "            star_volume=None\n",
    "        star_volume_list.append(star_volume)\n",
    "\n",
    "        try:\n",
    "            star_deliver=star[2].text\n",
    "        except IndexError:\n",
    "            star_deliver=None\n",
    "            pass\n",
    "        star_deliver_list.append(star_deliver)\n",
    "            \n",
    "        menu=now.find(\"div\",{\"class\":\"order-items default ng-binding\"}).text.strip()\n",
    "        menu_list.append(menu)\n",
    "        review_customer=now.find(\"p\",{\"class\":\"ng-binding\"}).text\n",
    "        review_customer_list.append(review_customer)\n",
    "\n",
    "    \n",
    "        try:\n",
    "            review_owner=now.find(\"p\",{\"ng-bind-html\":\"review.owner_reply.comment|strip_html\"}).text\n",
    "        except AttributeError:\n",
    "            review_owner=None\n",
    "        review_owner_list.append(review_owner)\n",
    "        try:\n",
    "            img_urls=now.find_all('img')\n",
    "        except TypeError:\n",
    "            img_names=None\n",
    "        else:\n",
    "            img_names=[]\n",
    "            for idx in range(len(img_urls)):\n",
    "                img_name=shop+'_'+str(i)+'_'+str(idx)\n",
    "                path=f'/data/yogiyo/pr_data/uos/cata{cata}/{shop}'\n",
    "                img_url=img_urls[idx]['src']\n",
    "                if not os.path.isdir(path):\n",
    "                    os.mkdir(path)\n",
    "                try:\n",
    "                    urlretrieve(img_url,path+'/'+img_name+'.jpg')\n",
    "                except requests.exceptions.SSLError or URLError:\n",
    "                    pass\n",
    "                img_names.append(img_name)\n",
    "        img_name_list.append(img_names)\n",
    "                \n",
    "    #new=pd.DataFrame([[shop,name,date,star_flavor,star_volume,star_deliver,menu,review_customer,review_owner,img_name]],columns=col_list)\n",
    "    data={'shop':shop,'name':name_list,'date':date_list,'tot_star':tot_star_list,\n",
    "          'star_flavor':star_flavor_list,'star_volume':star_volume_list,\n",
    "         'star_deliver':star_deliver_list,'menu':menu_list,'review_customer':review_customer_list,\n",
    "          'review_owner':review_owner_list,'img_name':img_name_list}\n",
    "    new=pd.DataFrame(data)\n",
    "\n",
    "    return new"
   ]
  },
  {
   "cell_type": "code",
   "execution_count": 6,
   "metadata": {},
   "outputs": [],
   "source": [
    "path='/data/yogiyo/pr_data/uos/'\n",
    "university='서울특별시 동대문구 전농동 694 서울시립대학교'\n",
    "uni_shop=pd.read_csv(path+'uos_shop.csv')"
   ]
  },
  {
   "cell_type": "code",
   "execution_count": 7,
   "metadata": {},
   "outputs": [
    {
     "data": {
      "text/plain": [
       "4    882\n",
       "0    276\n",
       "3     94\n",
       "1     70\n",
       "2     66\n",
       "Name: catagory, dtype: int64"
      ]
     },
     "execution_count": 7,
     "metadata": {},
     "output_type": "execute_result"
    }
   ],
   "source": [
    "uni_shop.catagory.value_counts()"
   ]
  },
  {
   "cell_type": "code",
   "execution_count": 8,
   "metadata": {},
   "outputs": [
    {
     "name": "stderr",
     "output_type": "stream",
     "text": [
      "<ipython-input-2-bb62db29bb57>:8: DeprecationWarning: use options instead of chrome_options\n",
      "  driver = webdriver.Chrome(executable_path=path,chrome_options=chrome_options)\n",
      "craw:   0%|          | 0/300 [00:00<?, ?it/s]"
     ]
    },
    {
     "name": "stdout",
     "output_type": "stream",
     "text": [
      "배스킨라빈스-경희대점 scroll\n",
      "배스킨라빈스-경희대점 123\n",
      "모든 리뷰 불러오기 시작...\n",
      "모든 리뷰 불러오기 완료!\n"
     ]
    },
    {
     "name": "stderr",
     "output_type": "stream",
     "text": [
      "\n",
      "save..:   0%|          | 0/123 [00:00<?, ?it/s]\u001b[A\n",
      "save..: 100%|██████████| 123/123 [00:06<00:00, 18.87it/s][A\n"
     ]
    },
    {
     "name": "stdout",
     "output_type": "stream",
     "text": [
      "(123, 11)\n"
     ]
    },
    {
     "name": "stderr",
     "output_type": "stream",
     "text": [
      "\r",
      "craw:   0%|          | 1/300 [01:23<6:56:07, 83.50s/it]"
     ]
    },
    {
     "name": "stdout",
     "output_type": "stream",
     "text": [
      "베브릿지-한국외대점 scroll\n"
     ]
    },
    {
     "name": "stderr",
     "output_type": "stream",
     "text": [
      "\r",
      "craw:   1%|          | 2/300 [01:46<5:24:46, 65.39s/it]"
     ]
    },
    {
     "name": "stdout",
     "output_type": "stream",
     "text": [
      "wrong shop\n",
      "조선닭발 scroll\n"
     ]
    },
    {
     "name": "stderr",
     "output_type": "stream",
     "text": [
      "\n",
      "save..:   0%|          | 0/2 [00:00<?, ?it/s]\u001b[A"
     ]
    },
    {
     "name": "stdout",
     "output_type": "stream",
     "text": [
      "조선닭발 2\n",
      "모든 리뷰 불러오기 시작...\n",
      "모든 리뷰 불러오기 완료!\n"
     ]
    },
    {
     "name": "stderr",
     "output_type": "stream",
     "text": [
      "save..: 100%|██████████| 2/2 [00:00<00:00, 15.60it/s]\n"
     ]
    },
    {
     "name": "stdout",
     "output_type": "stream",
     "text": [
      "(125, 11)\n"
     ]
    },
    {
     "name": "stderr",
     "output_type": "stream",
     "text": [
      "\r",
      "craw:   1%|          | 3/300 [02:16<4:30:12, 54.59s/it]"
     ]
    },
    {
     "name": "stdout",
     "output_type": "stream",
     "text": [
      "골목집돼지불백 scroll\n"
     ]
    },
    {
     "name": "stderr",
     "output_type": "stream",
     "text": [
      "\r",
      "craw:   1%|▏         | 4/300 [02:34<3:35:37, 43.71s/it]"
     ]
    },
    {
     "name": "stdout",
     "output_type": "stream",
     "text": [
      "wrong shop\n",
      "정상호당진아구 scroll\n"
     ]
    },
    {
     "name": "stderr",
     "output_type": "stream",
     "text": [
      "\n",
      "save..:   0%|          | 0/9 [00:00<?, ?it/s]\u001b[A"
     ]
    },
    {
     "name": "stdout",
     "output_type": "stream",
     "text": [
      "정상호당진아구 9\n",
      "모든 리뷰 불러오기 시작...\n",
      "모든 리뷰 불러오기 완료!\n"
     ]
    },
    {
     "name": "stderr",
     "output_type": "stream",
     "text": [
      "save..: 100%|██████████| 9/9 [00:00<00:00, 42.23it/s]\n"
     ]
    },
    {
     "name": "stdout",
     "output_type": "stream",
     "text": [
      "(134, 11)\n"
     ]
    },
    {
     "name": "stderr",
     "output_type": "stream",
     "text": [
      "\r",
      "craw:   2%|▏         | 5/300 [03:25<3:45:29, 45.86s/it]"
     ]
    },
    {
     "name": "stdout",
     "output_type": "stream",
     "text": [
      "메밀사랑묵사랑-장안점 scroll\n"
     ]
    },
    {
     "name": "stderr",
     "output_type": "stream",
     "text": [
      "\n",
      "save..:   0%|          | 0/5 [00:00<?, ?it/s]\u001b[A"
     ]
    },
    {
     "name": "stdout",
     "output_type": "stream",
     "text": [
      "메밀사랑묵사랑-장안점 5\n",
      "모든 리뷰 불러오기 시작...\n",
      "모든 리뷰 불러오기 완료!\n"
     ]
    },
    {
     "name": "stderr",
     "output_type": "stream",
     "text": [
      "save..: 100%|██████████| 5/5 [00:00<00:00,  8.77it/s]\n"
     ]
    },
    {
     "name": "stdout",
     "output_type": "stream",
     "text": [
      "(139, 11)\n"
     ]
    },
    {
     "name": "stderr",
     "output_type": "stream",
     "text": [
      "\r",
      "craw:   2%|▏         | 6/300 [04:03<3:33:54, 43.66s/it]"
     ]
    },
    {
     "name": "stdout",
     "output_type": "stream",
     "text": [
      "큰맘할매순대국-서울시립대점 scroll\n",
      "큰맘할매순대국-서울시립대점 1463\n",
      "모든 리뷰 불러오기 시작...\n",
      "모든 리뷰 불러오기 완료!\n"
     ]
    },
    {
     "name": "stderr",
     "output_type": "stream",
     "text": [
      "\n",
      "save..:   0%|          | 0/1463 [00:00<?, ?it/s]\u001b[A\n",
      "save..:   4%|▍         | 56/1463 [00:03<01:18, 17.99it/s]\u001b[A\n",
      "save..:   8%|▊         | 112/1463 [00:06<01:14, 18.06it/s]\u001b[A\n",
      "save..:  10%|█         | 153/1463 [00:09<01:20, 16.32it/s]\u001b[A\n",
      "save..:  15%|█▍        | 215/1463 [00:12<01:12, 17.23it/s]\u001b[A\n",
      "save..:  18%|█▊        | 267/1463 [00:15<01:09, 17.15it/s]\u001b[A\n",
      "save..:  22%|██▏       | 326/1463 [00:18<01:04, 17.74it/s]\u001b[A\n",
      "save..:  27%|██▋       | 390/1463 [00:21<00:57, 18.53it/s]\u001b[A\n",
      "save..:  30%|███       | 442/1463 [00:24<00:57, 17.75it/s]\u001b[A\n",
      "save..:  34%|███▍      | 495/1463 [00:27<00:54, 17.65it/s]\u001b[A\n",
      "save..:  38%|███▊      | 550/1463 [00:31<00:52, 17.43it/s]\u001b[A\n",
      "save..:  41%|████      | 602/1463 [00:35<00:56, 15.36it/s]\u001b[A\n",
      "save..:  45%|████▍     | 654/1463 [00:38<00:50, 15.88it/s]\u001b[A\n",
      "save..:  49%|████▊     | 713/1463 [00:41<00:45, 16.63it/s]\u001b[A\n",
      "save..:  54%|█████▎    | 785/1463 [00:44<00:37, 18.24it/s]\u001b[A\n",
      "save..:  58%|█████▊    | 842/1463 [00:47<00:34, 18.14it/s]\u001b[A\n",
      "save..:  63%|██████▎   | 925/1463 [00:50<00:26, 20.14it/s]\u001b[A\n",
      "save..:  70%|██████▉   | 1018/1463 [00:54<00:19, 22.35it/s]\u001b[A\n",
      "save..:  75%|███████▍  | 1090/1463 [00:57<00:17, 21.49it/s]\u001b[A\n",
      "save..:  79%|███████▉  | 1158/1463 [01:01<00:15, 19.83it/s]\u001b[A\n",
      "save..:  83%|████████▎ | 1221/1463 [01:05<00:13, 18.32it/s]\u001b[A\n",
      "save..:  88%|████████▊ | 1284/1463 [01:08<00:09, 18.95it/s]\u001b[A\n",
      "save..:  92%|█████████▏| 1346/1463 [01:11<00:06, 19.32it/s]\u001b[A\n",
      "save..: 100%|██████████| 1463/1463 [01:17<00:00, 18.77it/s]\u001b[A\n"
     ]
    },
    {
     "name": "stdout",
     "output_type": "stream",
     "text": [
      "(1602, 11)\n"
     ]
    },
    {
     "name": "stderr",
     "output_type": "stream",
     "text": [
      "\r",
      "craw:   2%|▏         | 7/300 [12:05<14:14:48, 175.05s/it]"
     ]
    },
    {
     "name": "stdout",
     "output_type": "stream",
     "text": [
      "빽다방-장안동사거리점 scroll\n",
      "빽다방-장안동사거리점 61\n",
      "모든 리뷰 불러오기 시작...\n",
      "모든 리뷰 불러오기 완료!\n"
     ]
    },
    {
     "name": "stderr",
     "output_type": "stream",
     "text": [
      "\n",
      "save..: 100%|██████████| 61/61 [00:02<00:00, 21.31it/s]\n"
     ]
    },
    {
     "name": "stdout",
     "output_type": "stream",
     "text": [
      "(1663, 11)\n"
     ]
    },
    {
     "name": "stderr",
     "output_type": "stream",
     "text": [
      "\r",
      "craw:   3%|▎         | 8/300 [12:50<11:02:36, 136.15s/it]"
     ]
    },
    {
     "name": "stdout",
     "output_type": "stream",
     "text": [
      "외대하이즈야중국식만두 scroll\n"
     ]
    },
    {
     "name": "stderr",
     "output_type": "stream",
     "text": [
      "\n",
      "save..: 100%|██████████| 2/2 [00:00<00:00, 29.98it/s]"
     ]
    },
    {
     "name": "stdout",
     "output_type": "stream",
     "text": [
      "외대하이즈야중국식만두 2\n",
      "모든 리뷰 불러오기 시작...\n",
      "모든 리뷰 불러오기 완료!\n",
      "(1665, 11)\n"
     ]
    },
    {
     "name": "stderr",
     "output_type": "stream",
     "text": [
      "\n",
      "craw:   3%|▎         | 9/300 [13:55<9:16:57, 114.84s/it] "
     ]
    },
    {
     "name": "stdout",
     "output_type": "stream",
     "text": [
      "요녀석파스타 scroll\n"
     ]
    },
    {
     "name": "stderr",
     "output_type": "stream",
     "text": [
      "\r",
      "craw:   3%|▎         | 10/300 [14:09<6:48:19, 84.48s/it]"
     ]
    },
    {
     "name": "stdout",
     "output_type": "stream",
     "text": [
      "wrong shop\n",
      "1인용묵은지김치찜-청량리점 scroll\n",
      "1인용묵은지김치찜-청량리점 90\n",
      "모든 리뷰 불러오기 시작...\n",
      "모든 리뷰 불러오기 완료!\n"
     ]
    },
    {
     "name": "stderr",
     "output_type": "stream",
     "text": [
      "\n",
      "save..:   0%|          | 0/90 [00:00<?, ?it/s]\u001b[A\n",
      "save..: 100%|██████████| 90/90 [00:04<00:00, 18.16it/s]\u001b[A\n"
     ]
    },
    {
     "name": "stdout",
     "output_type": "stream",
     "text": [
      "(1755, 11)\n"
     ]
    },
    {
     "name": "stderr",
     "output_type": "stream",
     "text": [
      "\r",
      "craw:   4%|▎         | 11/300 [14:55<5:50:52, 72.85s/it]"
     ]
    },
    {
     "name": "stdout",
     "output_type": "stream",
     "text": [
      "정성도시락&혼밥 scroll\n",
      "정성도시락&혼밥 14\n",
      "모든 리뷰 불러오기 시작...\n",
      "모든 리뷰 불러오기 완료!\n"
     ]
    },
    {
     "name": "stderr",
     "output_type": "stream",
     "text": [
      "\n",
      "save..: 100%|██████████| 14/14 [00:00<00:00, 19.94it/s]\n"
     ]
    },
    {
     "name": "stdout",
     "output_type": "stream",
     "text": [
      "(1769, 11)\n"
     ]
    },
    {
     "name": "stderr",
     "output_type": "stream",
     "text": [
      "\r",
      "craw:   4%|▍         | 12/300 [15:29<4:54:06, 61.27s/it]"
     ]
    },
    {
     "name": "stdout",
     "output_type": "stream",
     "text": [
      "뚜레쥬르-사가정역점 scroll\n",
      "뚜레쥬르-사가정역점 64\n",
      "모든 리뷰 불러오기 시작...\n",
      "모든 리뷰 불러오기 완료!\n"
     ]
    },
    {
     "name": "stderr",
     "output_type": "stream",
     "text": [
      "\n",
      "save..:   0%|          | 0/64 [00:00<?, ?it/s]\u001b[A\n",
      "save..: 100%|██████████| 64/64 [00:03<00:00, 19.24it/s]\u001b[A\n"
     ]
    },
    {
     "name": "stdout",
     "output_type": "stream",
     "text": [
      "(1833, 11)\n"
     ]
    },
    {
     "name": "stderr",
     "output_type": "stream",
     "text": [
      "\r",
      "craw:   4%|▍         | 13/300 [16:25<4:45:39, 59.72s/it]"
     ]
    },
    {
     "name": "stdout",
     "output_type": "stream",
     "text": [
      "카페브레맨 scroll\n"
     ]
    },
    {
     "name": "stderr",
     "output_type": "stream",
     "text": [
      "\n",
      "save..:   0%|          | 0/3 [00:00<?, ?it/s]\u001b[A"
     ]
    },
    {
     "name": "stdout",
     "output_type": "stream",
     "text": [
      "카페브레맨 3\n",
      "모든 리뷰 불러오기 시작...\n",
      "모든 리뷰 불러오기 완료!\n"
     ]
    },
    {
     "name": "stderr",
     "output_type": "stream",
     "text": [
      "save..: 100%|██████████| 3/3 [00:00<00:00, 13.94it/s]\n"
     ]
    },
    {
     "name": "stdout",
     "output_type": "stream",
     "text": [
      "(1836, 11)\n"
     ]
    },
    {
     "name": "stderr",
     "output_type": "stream",
     "text": [
      "\r",
      "craw:   5%|▍         | 14/300 [17:05<4:16:42, 53.86s/it]"
     ]
    },
    {
     "name": "stdout",
     "output_type": "stream",
     "text": [
      "철판요리힐 scroll\n"
     ]
    },
    {
     "name": "stderr",
     "output_type": "stream",
     "text": [
      "\n",
      "save..: 100%|██████████| 1/1 [00:00<00:00, 16.46it/s]"
     ]
    },
    {
     "name": "stdout",
     "output_type": "stream",
     "text": [
      "철판요리힐 1\n",
      "모든 리뷰 불러오기 시작...\n",
      "모든 리뷰 불러오기 완료!\n",
      "(1837, 11)\n"
     ]
    },
    {
     "name": "stderr",
     "output_type": "stream",
     "text": [
      "\n",
      "craw:   5%|▌         | 15/300 [18:03<4:20:41, 54.88s/it]"
     ]
    },
    {
     "name": "stdout",
     "output_type": "stream",
     "text": [
      "바나프레소-회기역사거리점 scroll\n",
      "바나프레소-회기역사거리점 1\n",
      "모든 리뷰 불러오기 시작...\n",
      "모든 리뷰 불러오기 완료!\n"
     ]
    },
    {
     "name": "stderr",
     "output_type": "stream",
     "text": [
      "\n",
      "save..: 100%|██████████| 1/1 [00:00<00:00, 615.72it/s]\n"
     ]
    },
    {
     "name": "stdout",
     "output_type": "stream",
     "text": [
      "(1838, 11)\n"
     ]
    },
    {
     "name": "stderr",
     "output_type": "stream",
     "text": [
      "\r",
      "craw:   5%|▌         | 16/300 [19:01<4:24:11, 55.82s/it]"
     ]
    },
    {
     "name": "stdout",
     "output_type": "stream",
     "text": [
      "오징어데이 scroll\n",
      "오징어데이 95\n",
      "모든 리뷰 불러오기 시작...\n",
      "모든 리뷰 불러오기 완료!\n"
     ]
    },
    {
     "name": "stderr",
     "output_type": "stream",
     "text": [
      "\n",
      "save..:   0%|          | 0/95 [00:00<?, ?it/s]\u001b[A\n",
      "save..:  27%|██▋       | 26/95 [00:03<00:08,  8.51it/s]\u001b[A\n",
      "save..: 100%|██████████| 95/95 [00:07<00:00, 13.48it/s]\u001b[A\n"
     ]
    },
    {
     "name": "stdout",
     "output_type": "stream",
     "text": [
      "(1933, 11)\n"
     ]
    },
    {
     "name": "stderr",
     "output_type": "stream",
     "text": [
      "\r",
      "craw:   6%|▌         | 17/300 [19:45<4:06:49, 52.33s/it]"
     ]
    },
    {
     "name": "stdout",
     "output_type": "stream",
     "text": [
      "청담스시 scroll\n"
     ]
    },
    {
     "name": "stderr",
     "output_type": "stream",
     "text": [
      "\r",
      "craw:   6%|▌         | 18/300 [20:15<3:34:32, 45.65s/it]"
     ]
    },
    {
     "name": "stdout",
     "output_type": "stream",
     "text": [
      "wrong shop\n",
      "봉순이네감자탕 scroll\n"
     ]
    },
    {
     "name": "stderr",
     "output_type": "stream",
     "text": [
      "\n",
      "save..:   0%|          | 0/8 [00:00<?, ?it/s]\u001b[A"
     ]
    },
    {
     "name": "stdout",
     "output_type": "stream",
     "text": [
      "봉순이네감자탕 8\n",
      "모든 리뷰 불러오기 시작...\n",
      "모든 리뷰 불러오기 완료!\n"
     ]
    },
    {
     "name": "stderr",
     "output_type": "stream",
     "text": [
      "save..: 100%|██████████| 8/8 [00:00<00:00, 12.29it/s]\n"
     ]
    },
    {
     "name": "stdout",
     "output_type": "stream",
     "text": [
      "(1941, 11)\n"
     ]
    },
    {
     "name": "stderr",
     "output_type": "stream",
     "text": [
      "\r",
      "craw:   6%|▋         | 19/300 [20:51<3:20:00, 42.71s/it]"
     ]
    },
    {
     "name": "stdout",
     "output_type": "stream",
     "text": [
      "일층집 scroll\n",
      "일층집 105\n",
      "모든 리뷰 불러오기 시작...\n",
      "모든 리뷰 불러오기 완료!\n"
     ]
    },
    {
     "name": "stderr",
     "output_type": "stream",
     "text": [
      "\n",
      "save..:   0%|          | 0/105 [00:00<?, ?it/s]\u001b[A\n",
      "save..: 100%|██████████| 105/105 [00:05<00:00, 20.50it/s][A\n"
     ]
    },
    {
     "name": "stdout",
     "output_type": "stream",
     "text": [
      "(2046, 11)\n"
     ]
    },
    {
     "name": "stderr",
     "output_type": "stream",
     "text": [
      "\r",
      "craw:   7%|▋         | 20/300 [21:45<3:35:07, 46.10s/it]"
     ]
    },
    {
     "name": "stdout",
     "output_type": "stream",
     "text": [
      "경동연탄돼지갈비 scroll\n"
     ]
    },
    {
     "name": "stderr",
     "output_type": "stream",
     "text": [
      "\n",
      "save..: 100%|██████████| 1/1 [00:00<00:00, 1001.03it/s]"
     ]
    },
    {
     "name": "stdout",
     "output_type": "stream",
     "text": [
      "경동연탄돼지갈비 1\n",
      "모든 리뷰 불러오기 시작...\n",
      "모든 리뷰 불러오기 완료!\n",
      "(2047, 11)\n"
     ]
    },
    {
     "name": "stderr",
     "output_type": "stream",
     "text": [
      "\n",
      "craw:   7%|▋         | 21/300 [22:44<3:52:41, 50.04s/it]"
     ]
    },
    {
     "name": "stdout",
     "output_type": "stream",
     "text": [
      "또래오래-동대문답십리점 scroll\n",
      "또래오래-동대문답십리점 1179\n",
      "모든 리뷰 불러오기 시작...\n",
      "모든 리뷰 불러오기 완료!\n"
     ]
    },
    {
     "name": "stderr",
     "output_type": "stream",
     "text": [
      "\n",
      "save..:   0%|          | 0/1179 [00:00<?, ?it/s]\u001b[A\n",
      "save..:   3%|▎         | 38/1179 [00:03<01:30, 12.61it/s]\u001b[A\n",
      "save..:   8%|▊         | 96/1179 [00:06<01:17, 14.04it/s]\u001b[A\n",
      "save..:  12%|█▏        | 145/1179 [00:09<01:10, 14.62it/s]\u001b[A\n",
      "save..:  19%|█▉        | 226/1179 [00:12<00:56, 16.90it/s]\u001b[A\n",
      "save..:  26%|██▌       | 303/1179 [00:15<00:46, 18.75it/s]\u001b[A\n",
      "save..:  26%|██▌       | 303/1179 [00:27<00:46, 18.75it/s]\u001b[A\n",
      "save..:  32%|███▏      | 375/1179 [02:28<07:56,  1.69it/s]\u001b[A\n",
      "save..:  37%|███▋      | 433/1179 [02:31<05:21,  2.32it/s]\u001b[A\n",
      "save..:  42%|████▏     | 494/1179 [02:34<03:36,  3.16it/s]\u001b[A\n",
      "save..:  50%|████▉     | 587/1179 [02:37<02:16,  4.33it/s]\u001b[A\n",
      "save..:  60%|██████    | 711/1179 [02:40<01:19,  5.91it/s]\u001b[A\n",
      "save..:  70%|███████   | 826/1179 [02:43<00:44,  7.90it/s]\u001b[A\n",
      "save..:  77%|███████▋  | 909/1179 [02:46<00:27,  9.97it/s]\u001b[A\n",
      "save..:  86%|████████▌ | 1015/1179 [02:49<00:12, 12.70it/s]\u001b[A\n",
      "save..: 100%|██████████| 1179/1179 [02:52<00:00,  6.82it/s]\u001b[A\n"
     ]
    },
    {
     "name": "stdout",
     "output_type": "stream",
     "text": [
      "(3226, 11)\n"
     ]
    },
    {
     "name": "stderr",
     "output_type": "stream",
     "text": [
      "\r",
      "craw:   7%|▋         | 22/300 [30:48<13:55:10, 180.26s/it]"
     ]
    },
    {
     "name": "stdout",
     "output_type": "stream",
     "text": [
      "김밥&즉석반찬전문점소담찬 scroll\n"
     ]
    },
    {
     "name": "stderr",
     "output_type": "stream",
     "text": [
      "\n",
      "save..:   0%|          | 0/3 [00:00<?, ?it/s]\u001b[A"
     ]
    },
    {
     "name": "stdout",
     "output_type": "stream",
     "text": [
      "김밥&즉석반찬전문점소담찬 3\n",
      "모든 리뷰 불러오기 시작...\n",
      "모든 리뷰 불러오기 완료!\n"
     ]
    },
    {
     "name": "stderr",
     "output_type": "stream",
     "text": [
      "save..: 100%|██████████| 3/3 [00:00<00:00,  9.62it/s]\n"
     ]
    },
    {
     "name": "stdout",
     "output_type": "stream",
     "text": [
      "(3229, 11)\n"
     ]
    },
    {
     "name": "stderr",
     "output_type": "stream",
     "text": [
      "\r",
      "craw:   8%|▊         | 23/300 [31:13<10:17:21, 133.72s/it]"
     ]
    },
    {
     "name": "stdout",
     "output_type": "stream",
     "text": [
      "파스쿠찌-장안사거리점 scroll\n"
     ]
    },
    {
     "name": "stderr",
     "output_type": "stream",
     "text": [
      "\n",
      "save..:   0%|          | 0/1 [00:00<?, ?it/s]\u001b[A"
     ]
    },
    {
     "name": "stdout",
     "output_type": "stream",
     "text": [
      "파스쿠찌-장안사거리점 1\n",
      "모든 리뷰 불러오기 시작...\n",
      "모든 리뷰 불러오기 완료!\n"
     ]
    },
    {
     "name": "stderr",
     "output_type": "stream",
     "text": [
      "\n",
      "save..: 100%|██████████| 1/1 [02:11<00:00, 131.13s/it]\u001b[A\n"
     ]
    },
    {
     "name": "stdout",
     "output_type": "stream",
     "text": [
      "(3230, 11)\n"
     ]
    },
    {
     "name": "stderr",
     "output_type": "stream",
     "text": [
      "\r",
      "craw:   8%|▊         | 24/300 [34:22<11:31:37, 150.35s/it]"
     ]
    },
    {
     "name": "stdout",
     "output_type": "stream",
     "text": [
      "고향미중식당 scroll\n",
      "고향미중식당 37\n",
      "모든 리뷰 불러오기 시작...\n",
      "모든 리뷰 불러오기 완료!\n"
     ]
    },
    {
     "name": "stderr",
     "output_type": "stream",
     "text": [
      "\n",
      "save..: 100%|██████████| 37/37 [00:02<00:00, 13.63it/s]\n"
     ]
    },
    {
     "name": "stdout",
     "output_type": "stream",
     "text": [
      "(3267, 11)\n"
     ]
    },
    {
     "name": "stderr",
     "output_type": "stream",
     "text": [
      "\r",
      "craw:   8%|▊         | 25/300 [35:04<8:59:58, 117.81s/it] "
     ]
    },
    {
     "name": "stdout",
     "output_type": "stream",
     "text": [
      "파치-외대점 scroll\n"
     ]
    },
    {
     "name": "stderr",
     "output_type": "stream",
     "text": [
      "\r",
      "craw:   9%|▊         | 26/300 [35:29<6:50:58, 89.99s/it] "
     ]
    },
    {
     "name": "stdout",
     "output_type": "stream",
     "text": [
      "wrong shop\n",
      "베트남테이블-상봉점 scroll\n",
      "베트남테이블-상봉점 scroll\n",
      "베트남테이블-상봉점 13\n",
      "모든 리뷰 불러오기 시작...\n"
     ]
    },
    {
     "name": "stderr",
     "output_type": "stream",
     "text": [
      "\n",
      "save..:   0%|          | 0/13 [00:00<?, ?it/s]\u001b[A"
     ]
    },
    {
     "name": "stdout",
     "output_type": "stream",
     "text": [
      "모든 리뷰 불러오기 완료!\n"
     ]
    },
    {
     "name": "stderr",
     "output_type": "stream",
     "text": [
      "save..: 100%|██████████| 13/13 [00:00<00:00, 15.14it/s]\n"
     ]
    },
    {
     "name": "stdout",
     "output_type": "stream",
     "text": [
      "(3280, 11)\n"
     ]
    },
    {
     "name": "stderr",
     "output_type": "stream",
     "text": [
      "\r",
      "craw:   9%|▉         | 27/300 [35:59<5:27:14, 71.92s/it]"
     ]
    },
    {
     "name": "stdout",
     "output_type": "stream",
     "text": [
      "밥꼬찜닭-청계점 scroll\n",
      "밥꼬찜닭-청계점 25\n",
      "모든 리뷰 불러오기 시작...\n",
      "모든 리뷰 불러오기 완료!\n"
     ]
    },
    {
     "name": "stderr",
     "output_type": "stream",
     "text": [
      "\n",
      "save..:   0%|          | 0/25 [00:00<?, ?it/s]\u001b[A\n",
      "save..: 100%|██████████| 25/25 [00:03<00:00,  8.31it/s]\u001b[A\n"
     ]
    },
    {
     "name": "stdout",
     "output_type": "stream",
     "text": [
      "(3305, 11)\n"
     ]
    },
    {
     "name": "stderr",
     "output_type": "stream",
     "text": [
      "\r",
      "craw:   9%|▉         | 28/300 [36:18<4:14:37, 56.17s/it]"
     ]
    },
    {
     "name": "stdout",
     "output_type": "stream",
     "text": [
      "포(for)혼밥족 scroll\n",
      "포(for)혼밥족 1705\n",
      "모든 리뷰 불러오기 시작...\n",
      "모든 리뷰 불러오기 완료!\n"
     ]
    },
    {
     "name": "stderr",
     "output_type": "stream",
     "text": [
      "\n",
      "save..:   0%|          | 0/1705 [00:00<?, ?it/s]\u001b[A\n",
      "save..:   2%|▏         | 30/1705 [00:03<02:53,  9.66it/s]\u001b[A\n",
      "save..:   4%|▍         | 65/1705 [00:06<02:41, 10.15it/s]\u001b[A\n",
      "save..:   7%|▋         | 111/1705 [00:09<02:21, 11.27it/s]\u001b[A\n",
      "save..:   9%|▉         | 152/1705 [00:12<02:10, 11.88it/s]\u001b[A\n",
      "save..:  11%|█▏        | 196/1705 [00:15<01:59, 12.59it/s]\u001b[A\n",
      "save..:  14%|█▎        | 231/1705 [00:19<02:10, 11.27it/s]\u001b[A\n",
      "save..:  15%|█▌        | 264/1705 [00:23<02:26,  9.85it/s]\u001b[A\n",
      "save..:  19%|█▊        | 316/1705 [00:26<02:02, 11.29it/s]\u001b[A\n",
      "save..:  21%|██        | 354/1705 [00:29<01:56, 11.62it/s]\u001b[A\n",
      "save..:  23%|██▎       | 391/1705 [00:34<02:12,  9.94it/s]\u001b[A\n",
      "save..:  25%|██▌       | 427/1705 [00:37<02:02, 10.47it/s]\u001b[A\n",
      "save..:  27%|██▋       | 461/1705 [00:40<02:00, 10.36it/s]\u001b[A\n",
      "save..:  31%|███       | 528/1705 [00:43<01:35, 12.32it/s]\u001b[A\n",
      "save..:  33%|███▎      | 571/1705 [00:47<01:31, 12.43it/s]\u001b[A\n",
      "save..:  36%|███▌      | 613/1705 [00:50<01:25, 12.81it/s]\u001b[A\n",
      "save..:  39%|███▉      | 666/1705 [00:53<01:14, 13.91it/s]\u001b[A\n",
      "save..:  43%|████▎     | 727/1705 [00:56<01:03, 15.30it/s]\u001b[A\n",
      "save..:  46%|████▋     | 792/1705 [00:59<00:54, 16.74it/s]\u001b[A\n",
      "save..:  51%|█████     | 872/1705 [01:02<00:44, 18.81it/s]\u001b[A\n",
      "save..:  58%|█████▊    | 990/1705 [01:05<00:32, 22.15it/s]\u001b[A\n",
      "save..:  63%|██████▎   | 1079/1705 [01:08<00:26, 23.94it/s]\u001b[A\n",
      "save..:  68%|██████▊   | 1160/1705 [01:11<00:21, 24.78it/s]\u001b[A\n",
      "save..:  74%|███████▍  | 1264/1705 [01:14<00:16, 26.95it/s]\u001b[A\n",
      "save..:  81%|████████  | 1382/1705 [01:17<00:10, 29.62it/s]\u001b[A\n",
      "save..:  87%|████████▋ | 1478/1705 [01:21<00:07, 28.83it/s]\u001b[A\n",
      "save..:  92%|█████████▏| 1570/1705 [01:26<00:05, 25.13it/s]\u001b[A\n",
      "save..: 100%|██████████| 1705/1705 [01:30<00:00, 18.91it/s]\u001b[A\n"
     ]
    },
    {
     "name": "stdout",
     "output_type": "stream",
     "text": [
      "(5010, 11)\n"
     ]
    },
    {
     "name": "stderr",
     "output_type": "stream",
     "text": [
      "\r",
      "craw:  10%|▉         | 29/300 [45:57<16:01:45, 212.94s/it]"
     ]
    },
    {
     "name": "stdout",
     "output_type": "stream",
     "text": [
      "신설동진순대국&수육 scroll\n"
     ]
    },
    {
     "name": "stderr",
     "output_type": "stream",
     "text": [
      "\n",
      "save..: 100%|██████████| 2/2 [00:00<00:00, 1124.93it/s]"
     ]
    },
    {
     "name": "stdout",
     "output_type": "stream",
     "text": [
      "신설동진순대국&수육 2\n",
      "모든 리뷰 불러오기 시작...\n",
      "모든 리뷰 불러오기 완료!\n",
      "(5012, 11)\n"
     ]
    },
    {
     "name": "stderr",
     "output_type": "stream",
     "text": [
      "\n",
      "craw:  10%|█         | 30/300 [47:00<12:35:35, 167.91s/it]"
     ]
    },
    {
     "name": "stdout",
     "output_type": "stream",
     "text": [
      "페리카나-답십리점 scroll\n",
      "페리카나-답십리점 403\n",
      "모든 리뷰 불러오기 시작...\n",
      "모든 리뷰 불러오기 완료!\n"
     ]
    },
    {
     "name": "stderr",
     "output_type": "stream",
     "text": [
      "\n",
      "save..:   0%|          | 0/403 [00:00<?, ?it/s]\u001b[A\n",
      "save..:  11%|█         | 43/403 [00:03<00:25, 14.27it/s]\u001b[A\n",
      "save..:  27%|██▋       | 108/403 [00:06<00:18, 15.77it/s]\u001b[A\n",
      "save..:  48%|████▊     | 193/403 [00:09<00:11, 18.14it/s]\u001b[A\n",
      "save..: 100%|██████████| 403/403 [00:14<00:00, 27.26it/s]\u001b[A\n"
     ]
    },
    {
     "name": "stdout",
     "output_type": "stream",
     "text": [
      "(5415, 11)\n"
     ]
    },
    {
     "name": "stderr",
     "output_type": "stream",
     "text": [
      "\r",
      "craw:  10%|█         | 31/300 [49:22<11:57:30, 160.04s/it]"
     ]
    },
    {
     "name": "stdout",
     "output_type": "stream",
     "text": [
      "해경당떡집 scroll\n",
      "해경당떡집 147\n",
      "모든 리뷰 불러오기 시작...\n",
      "모든 리뷰 불러오기 완료!\n"
     ]
    },
    {
     "name": "stderr",
     "output_type": "stream",
     "text": [
      "\n",
      "save..:   0%|          | 0/147 [00:00<?, ?it/s]\u001b[A\n",
      "save..:  18%|█▊        | 26/147 [00:03<00:14,  8.50it/s]\u001b[A\n",
      "save..:  44%|████▎     | 64/147 [00:06<00:08,  9.29it/s]\u001b[A\n",
      "save..:  72%|███████▏  | 106/147 [00:09<00:03, 10.30it/s]\u001b[A\n",
      "save..: 100%|██████████| 147/147 [00:13<00:00, 11.22it/s]\u001b[A\n"
     ]
    },
    {
     "name": "stdout",
     "output_type": "stream",
     "text": [
      "(5562, 11)\n"
     ]
    },
    {
     "name": "stderr",
     "output_type": "stream",
     "text": [
      "\r",
      "craw:  11%|█         | 32/300 [50:22<9:41:49, 130.26s/it] "
     ]
    },
    {
     "name": "stdout",
     "output_type": "stream",
     "text": [
      "다정식당 scroll\n",
      "다정식당 312\n",
      "모든 리뷰 불러오기 시작...\n",
      "모든 리뷰 불러오기 완료!\n"
     ]
    },
    {
     "name": "stderr",
     "output_type": "stream",
     "text": [
      "\n",
      "save..:   0%|          | 0/312 [00:00<?, ?it/s]\u001b[A\n",
      "save..:  14%|█▍        | 45/312 [00:03<00:18, 14.64it/s]\u001b[A\n",
      "save..:  29%|██▉       | 92/312 [00:06<00:14, 14.86it/s]\u001b[A\n",
      "save..:  41%|████      | 128/312 [00:09<00:13, 13.79it/s]\u001b[A\n",
      "save..:  58%|█████▊    | 180/312 [00:12<00:08, 14.68it/s]\u001b[A\n",
      "save..: 100%|██████████| 312/312 [00:17<00:00, 17.53it/s]\u001b[A\n"
     ]
    },
    {
     "name": "stdout",
     "output_type": "stream",
     "text": [
      "(5874, 11)\n"
     ]
    },
    {
     "name": "stderr",
     "output_type": "stream",
     "text": [
      "\r",
      "craw:  11%|█         | 33/300 [52:19<9:21:18, 126.14s/it]"
     ]
    },
    {
     "name": "stdout",
     "output_type": "stream",
     "text": [
      "뽀빠이탕수육 scroll\n",
      "뽀빠이탕수육 41\n",
      "모든 리뷰 불러오기 시작...\n"
     ]
    },
    {
     "name": "stderr",
     "output_type": "stream",
     "text": [
      "\n",
      "save..:   0%|          | 0/41 [00:00<?, ?it/s]\u001b[A"
     ]
    },
    {
     "name": "stdout",
     "output_type": "stream",
     "text": [
      "모든 리뷰 불러오기 완료!\n"
     ]
    },
    {
     "name": "stderr",
     "output_type": "stream",
     "text": [
      "save..: 100%|██████████| 41/41 [00:00<00:00, 116.49it/s]\n"
     ]
    },
    {
     "name": "stdout",
     "output_type": "stream",
     "text": [
      "(5915, 11)\n"
     ]
    },
    {
     "name": "stderr",
     "output_type": "stream",
     "text": [
      "\r",
      "craw:  11%|█▏        | 34/300 [53:18<7:50:22, 106.10s/it]"
     ]
    },
    {
     "name": "stdout",
     "output_type": "stream",
     "text": [
      "교촌치킨-서울시립대점 scroll\n",
      "교촌치킨-서울시립대점 1969\n",
      "모든 리뷰 불러오기 시작...\n",
      "모든 리뷰 불러오기 완료!\n"
     ]
    },
    {
     "name": "stderr",
     "output_type": "stream",
     "text": [
      "\n",
      "save..:   0%|          | 0/1969 [00:00<?, ?it/s]\u001b[A\n",
      "save..:   3%|▎         | 61/1969 [00:03<01:35, 19.96it/s]\u001b[A\n",
      "save..:   6%|▌         | 110/1969 [00:06<01:40, 18.50it/s]\u001b[A\n",
      "save..:   8%|▊         | 151/1969 [00:09<01:48, 16.69it/s]\u001b[A\n",
      "save..:  10%|█         | 198/1969 [00:12<01:48, 16.26it/s]\u001b[A\n",
      "save..:  12%|█▏        | 238/1969 [00:15<01:55, 15.04it/s]\u001b[A\n",
      "save..:  14%|█▍        | 275/1969 [00:19<02:14, 12.60it/s]\u001b[A\n",
      "save..:  16%|█▌        | 309/1969 [00:22<02:23, 11.59it/s]\u001b[A\n",
      "save..:  17%|█▋        | 342/1969 [00:26<02:26, 11.13it/s]\u001b[A\n",
      "save..:  19%|█▉        | 383/1969 [00:29<02:16, 11.61it/s]\u001b[A\n",
      "save..:  22%|██▏       | 426/1969 [00:32<02:08, 12.00it/s]\u001b[A\n",
      "save..:  24%|██▎       | 464/1969 [00:35<02:03, 12.16it/s]\u001b[A\n",
      "save..:  26%|██▌       | 506/1969 [00:38<01:57, 12.43it/s]\u001b[A\n",
      "save..:  28%|██▊       | 544/1969 [00:42<02:04, 11.42it/s]\u001b[A\n",
      "save..:  30%|██▉       | 582/1969 [00:45<01:58, 11.67it/s]\u001b[A\n",
      "save..:  31%|███▏      | 618/1969 [00:50<02:08, 10.51it/s]\u001b[A\n",
      "save..:  33%|███▎      | 651/1969 [00:53<02:03, 10.64it/s]\u001b[A\n",
      "save..:  35%|███▌      | 693/1969 [00:56<01:52, 11.36it/s]\u001b[A\n",
      "save..:  37%|███▋      | 728/1969 [00:59<01:50, 11.27it/s]\u001b[A\n",
      "save..:  39%|███▉      | 763/1969 [01:02<01:51, 10.86it/s]\u001b[A\n",
      "save..:  40%|████      | 797/1969 [01:06<01:54, 10.27it/s]\u001b[A\n",
      "save..:  43%|████▎     | 846/1969 [01:09<01:37, 11.53it/s]\u001b[A\n",
      "save..:  45%|████▍     | 883/1969 [01:14<01:44, 10.35it/s]\u001b[A\n",
      "save..:  47%|████▋     | 917/1969 [01:17<01:44, 10.11it/s]\u001b[A\n",
      "save..:  49%|████▉     | 967/1969 [01:20<01:28, 11.36it/s]\u001b[A\n",
      "save..:  51%|█████     | 1004/1969 [01:25<01:38,  9.79it/s]\u001b[A\n",
      "save..:  53%|█████▎    | 1037/1969 [01:32<02:04,  7.51it/s]\u001b[A\n",
      "save..:  54%|█████▍    | 1064/1969 [01:37<02:15,  6.70it/s]\u001b[A\n",
      "save..:  56%|█████▌    | 1107/1969 [01:40<01:50,  7.80it/s]\u001b[A\n",
      "save..:  58%|█████▊    | 1147/1969 [01:44<01:33,  8.80it/s]\u001b[A\n",
      "save..:  60%|█████▉    | 1178/1969 [01:47<01:28,  8.98it/s]\u001b[A\n",
      "save..:  63%|██████▎   | 1237/1969 [01:50<01:08, 10.69it/s]\u001b[A\n",
      "save..:  68%|██████▊   | 1334/1969 [01:53<00:48, 13.16it/s]\u001b[A\n",
      "save..:  73%|███████▎  | 1441/1969 [01:57<00:32, 16.17it/s]\u001b[A\n",
      "save..:  79%|███████▉  | 1556/1969 [02:00<00:21, 19.39it/s]\u001b[A\n",
      "save..:  85%|████████▌ | 1677/1969 [02:03<00:12, 22.89it/s]\u001b[A\n",
      "save..: 100%|██████████| 1969/1969 [02:08<00:00, 15.37it/s]\u001b[A\n"
     ]
    },
    {
     "name": "stdout",
     "output_type": "stream",
     "text": [
      "(7884, 11)\n"
     ]
    },
    {
     "name": "stderr",
     "output_type": "stream",
     "text": [
      "\r",
      "craw:  12%|█▏        | 35/300 [1:04:23<20:09:10, 273.77s/it]"
     ]
    },
    {
     "name": "stdout",
     "output_type": "stream",
     "text": [
      "야무진닭 scroll\n",
      "야무진닭 16\n",
      "모든 리뷰 불러오기 시작...\n"
     ]
    },
    {
     "name": "stderr",
     "output_type": "stream",
     "text": [
      "\n",
      "save..:   0%|          | 0/16 [00:00<?, ?it/s]\u001b[A"
     ]
    },
    {
     "name": "stdout",
     "output_type": "stream",
     "text": [
      "모든 리뷰 불러오기 완료!\n"
     ]
    },
    {
     "name": "stderr",
     "output_type": "stream",
     "text": [
      "save..: 100%|██████████| 16/16 [00:00<00:00, 23.75it/s]\n"
     ]
    },
    {
     "name": "stdout",
     "output_type": "stream",
     "text": [
      "(7900, 11)\n"
     ]
    },
    {
     "name": "stderr",
     "output_type": "stream",
     "text": [
      "\r",
      "craw:  12%|█▏        | 36/300 [1:05:13<15:09:01, 206.60s/it]"
     ]
    },
    {
     "name": "stdout",
     "output_type": "stream",
     "text": [
      "카페Macha-장안점 scroll\n",
      "카페Macha-장안점 10\n",
      "모든 리뷰 불러오기 시작...\n",
      "모든 리뷰 불러오기 완료!\n"
     ]
    },
    {
     "name": "stderr",
     "output_type": "stream",
     "text": [
      "\n",
      "save..: 100%|██████████| 10/10 [00:01<00:00,  6.81it/s]\n"
     ]
    },
    {
     "name": "stdout",
     "output_type": "stream",
     "text": [
      "(7910, 11)\n"
     ]
    },
    {
     "name": "stderr",
     "output_type": "stream",
     "text": [
      "\r",
      "craw:  12%|█▏        | 37/300 [1:05:38<11:07:05, 152.19s/it]"
     ]
    },
    {
     "name": "stdout",
     "output_type": "stream",
     "text": [
      "또봉이통닭-답십리점 scroll\n",
      "또봉이통닭-답십리점 45\n",
      "모든 리뷰 불러오기 시작...\n",
      "모든 리뷰 불러오기 완료!\n"
     ]
    },
    {
     "name": "stderr",
     "output_type": "stream",
     "text": [
      "\n",
      "save..: 100%|██████████| 45/45 [00:01<00:00, 40.95it/s]\n"
     ]
    },
    {
     "name": "stdout",
     "output_type": "stream",
     "text": [
      "(7955, 11)\n"
     ]
    },
    {
     "name": "stderr",
     "output_type": "stream",
     "text": [
      "\r",
      "craw:  13%|█▎        | 38/300 [1:05:58<8:11:18, 112.51s/it] "
     ]
    },
    {
     "name": "stdout",
     "output_type": "stream",
     "text": [
      "카페끄망 scroll\n"
     ]
    },
    {
     "name": "stderr",
     "output_type": "stream",
     "text": [
      "\r",
      "craw:  13%|█▎        | 39/300 [1:06:02<5:48:01, 80.01s/it] "
     ]
    },
    {
     "name": "stdout",
     "output_type": "stream",
     "text": [
      "wrong shop\n",
      "비나레스토랑-본점 scroll\n",
      "비나레스토랑-본점 156\n",
      "모든 리뷰 불러오기 시작...\n",
      "모든 리뷰 불러오기 완료!\n"
     ]
    },
    {
     "name": "stderr",
     "output_type": "stream",
     "text": [
      "\n",
      "save..:   0%|          | 0/156 [00:00<?, ?it/s]\u001b[A\n",
      "save..:  42%|████▏     | 65/156 [00:03<00:04, 21.63it/s]\u001b[A\n",
      "save..: 100%|██████████| 156/156 [00:08<00:00, 18.31it/s]\u001b[A\n"
     ]
    },
    {
     "name": "stdout",
     "output_type": "stream",
     "text": [
      "(8111, 11)\n"
     ]
    },
    {
     "name": "stderr",
     "output_type": "stream",
     "text": [
      "\r",
      "craw:  13%|█▎        | 40/300 [1:07:08<5:27:35, 75.60s/it]"
     ]
    },
    {
     "name": "stdout",
     "output_type": "stream",
     "text": [
      "크러쉬온유 scroll\n",
      "크러쉬온유 67\n",
      "모든 리뷰 불러오기 시작...\n",
      "모든 리뷰 불러오기 완료!\n"
     ]
    },
    {
     "name": "stderr",
     "output_type": "stream",
     "text": [
      "\n",
      "save..: 100%|██████████| 67/67 [00:02<00:00, 28.28it/s]\n"
     ]
    },
    {
     "name": "stdout",
     "output_type": "stream",
     "text": [
      "(8178, 11)\n"
     ]
    },
    {
     "name": "stderr",
     "output_type": "stream",
     "text": [
      "\r",
      "craw:  14%|█▎        | 41/300 [1:07:51<4:43:50, 65.75s/it]"
     ]
    },
    {
     "name": "stdout",
     "output_type": "stream",
     "text": [
      "취홍별관 scroll\n",
      "취홍별관 39\n",
      "모든 리뷰 불러오기 시작...\n",
      "모든 리뷰 불러오기 완료!\n"
     ]
    },
    {
     "name": "stderr",
     "output_type": "stream",
     "text": [
      "\n",
      "save..: 100%|██████████| 39/39 [00:01<00:00, 21.45it/s]\n"
     ]
    },
    {
     "name": "stdout",
     "output_type": "stream",
     "text": [
      "(8217, 11)\n"
     ]
    },
    {
     "name": "stderr",
     "output_type": "stream",
     "text": [
      "\r",
      "craw:  14%|█▍        | 42/300 [1:08:11<3:44:05, 52.12s/it]"
     ]
    },
    {
     "name": "stdout",
     "output_type": "stream",
     "text": [
      "영호야네족발 scroll\n",
      "영호야네족발 219\n",
      "모든 리뷰 불러오기 시작...\n",
      "모든 리뷰 불러오기 완료!\n"
     ]
    },
    {
     "name": "stderr",
     "output_type": "stream",
     "text": [
      "\n",
      "save..:   0%|          | 0/219 [00:00<?, ?it/s]\u001b[A\n",
      "save..:  31%|███       | 67/219 [00:03<00:06, 22.13it/s]\u001b[A\n",
      "save..: 100%|██████████| 219/219 [00:07<00:00, 30.27it/s]\u001b[A\n"
     ]
    },
    {
     "name": "stdout",
     "output_type": "stream",
     "text": [
      "(8436, 11)\n"
     ]
    },
    {
     "name": "stderr",
     "output_type": "stream",
     "text": [
      "\r",
      "craw:  14%|█▍        | 43/300 [1:09:59<4:55:26, 68.98s/it]"
     ]
    },
    {
     "name": "stdout",
     "output_type": "stream",
     "text": [
      "회사세끼 scroll\n"
     ]
    },
    {
     "name": "stderr",
     "output_type": "stream",
     "text": [
      "\n",
      "save..:   0%|          | 0/8 [00:00<?, ?it/s]\u001b[A"
     ]
    },
    {
     "name": "stdout",
     "output_type": "stream",
     "text": [
      "회사세끼 8\n",
      "모든 리뷰 불러오기 시작...\n",
      "모든 리뷰 불러오기 완료!\n"
     ]
    },
    {
     "name": "stderr",
     "output_type": "stream",
     "text": [
      "save..: 100%|██████████| 8/8 [00:00<00:00, 12.85it/s]\n"
     ]
    },
    {
     "name": "stdout",
     "output_type": "stream",
     "text": [
      "(8444, 11)\n"
     ]
    },
    {
     "name": "stderr",
     "output_type": "stream",
     "text": [
      "\r",
      "craw:  15%|█▍        | 44/300 [1:11:07<4:52:15, 68.50s/it]"
     ]
    },
    {
     "name": "stdout",
     "output_type": "stream",
     "text": [
      "일번지곱창&막창전문 scroll\n"
     ]
    },
    {
     "name": "stderr",
     "output_type": "stream",
     "text": [
      "\n",
      "save..: 100%|██████████| 2/2 [00:00<00:00, 30.73it/s]"
     ]
    },
    {
     "name": "stdout",
     "output_type": "stream",
     "text": [
      "일번지곱창&막창전문 2\n",
      "모든 리뷰 불러오기 시작...\n",
      "모든 리뷰 불러오기 완료!\n",
      "(8446, 11)\n"
     ]
    },
    {
     "name": "stderr",
     "output_type": "stream",
     "text": [
      "\n",
      "craw:  15%|█▌        | 45/300 [1:11:20<3:41:08, 52.03s/it]"
     ]
    },
    {
     "name": "stdout",
     "output_type": "stream",
     "text": [
      "명가춘천닭갈비-장안점 scroll\n",
      "명가춘천닭갈비-장안점 18\n",
      "모든 리뷰 불러오기 시작...\n"
     ]
    },
    {
     "name": "stderr",
     "output_type": "stream",
     "text": [
      "\n",
      "save..:   0%|          | 0/18 [00:00<?, ?it/s]\u001b[A"
     ]
    },
    {
     "name": "stdout",
     "output_type": "stream",
     "text": [
      "모든 리뷰 불러오기 완료!\n"
     ]
    },
    {
     "name": "stderr",
     "output_type": "stream",
     "text": [
      "save..: 100%|██████████| 18/18 [00:00<00:00, 35.80it/s]\n"
     ]
    },
    {
     "name": "stdout",
     "output_type": "stream",
     "text": [
      "(8464, 11)\n"
     ]
    },
    {
     "name": "stderr",
     "output_type": "stream",
     "text": [
      "\r",
      "craw:  15%|█▌        | 46/300 [1:12:13<3:41:28, 52.32s/it]"
     ]
    },
    {
     "name": "stdout",
     "output_type": "stream",
     "text": [
      "신전떡볶이-전농점 scroll\n",
      "신전떡볶이-전농점 525\n",
      "모든 리뷰 불러오기 시작...\n",
      "모든 리뷰 불러오기 완료!\n"
     ]
    },
    {
     "name": "stderr",
     "output_type": "stream",
     "text": [
      "\n",
      "save..:   0%|          | 0/525 [00:00<?, ?it/s]\u001b[A\n",
      "save..:  16%|█▌        | 83/525 [00:03<00:16, 27.19it/s]\u001b[A\n",
      "save..:  39%|███▉      | 204/525 [00:06<00:10, 29.94it/s]\u001b[A\n",
      "save..:  62%|██████▏   | 325/525 [00:09<00:06, 32.40it/s]\u001b[A\n",
      "save..: 100%|██████████| 525/525 [00:13<00:00, 37.56it/s]\u001b[A\n"
     ]
    },
    {
     "name": "stdout",
     "output_type": "stream",
     "text": [
      "(8989, 11)\n"
     ]
    },
    {
     "name": "stderr",
     "output_type": "stream",
     "text": [
      "\r",
      "craw:  16%|█▌        | 47/300 [1:14:55<5:59:03, 85.15s/it]"
     ]
    },
    {
     "name": "stdout",
     "output_type": "stream",
     "text": [
      "KFC-한국외대점 scroll\n",
      "KFC-한국외대점 3307\n",
      "모든 리뷰 불러오기 시작...\n",
      "모든 리뷰 불러오기 완료!\n"
     ]
    },
    {
     "name": "stderr",
     "output_type": "stream",
     "text": [
      "\n",
      "save..:   0%|          | 0/3307 [00:00<?, ?it/s]\u001b[A\n",
      "save..:   3%|▎         | 97/3307 [00:03<01:46, 30.15it/s]\u001b[A\n",
      "save..:   5%|▌         | 167/3307 [00:06<01:53, 27.62it/s]\u001b[A\n",
      "save..:   6%|▋         | 214/3307 [00:09<02:19, 22.17it/s]\u001b[A\n",
      "save..:   8%|▊         | 261/3307 [00:12<02:35, 19.60it/s]\u001b[A\n",
      "save..:  10%|▉         | 318/3307 [00:15<02:34, 19.34it/s]\u001b[A\n",
      "save..:  12%|█▏        | 402/3307 [00:18<02:17, 21.20it/s]\u001b[A\n",
      "save..:  14%|█▍        | 476/3307 [00:21<02:08, 22.10it/s]\u001b[A\n",
      "save..:  17%|█▋        | 556/3307 [00:24<01:58, 23.29it/s]\u001b[A\n",
      "save..:  19%|█▉        | 628/3307 [00:27<01:54, 23.48it/s]\u001b[A\n",
      "save..:  21%|██        | 697/3307 [00:30<01:56, 22.39it/s]\u001b[A\n",
      "save..:  23%|██▎       | 764/3307 [00:34<01:58, 21.46it/s]\u001b[A\n",
      "save..:  26%|██▌       | 862/3307 [00:37<01:42, 23.83it/s]\u001b[A\n",
      "save..:  28%|██▊       | 936/3307 [00:40<01:42, 23.18it/s]\u001b[A\n",
      "save..:  30%|███       | 1008/3307 [00:43<01:39, 23.10it/s]\u001b[A\n",
      "save..:  33%|███▎      | 1079/3307 [00:47<01:40, 22.20it/s]\u001b[A\n",
      "save..:  35%|███▌      | 1169/3307 [00:50<01:29, 23.85it/s]\u001b[A\n",
      "save..:  38%|███▊      | 1243/3307 [00:54<01:32, 22.34it/s]\u001b[A\n",
      "save..:  41%|████      | 1342/3307 [00:57<01:19, 24.66it/s]\u001b[A\n",
      "save..:  43%|████▎     | 1420/3307 [01:00<01:15, 24.92it/s]\u001b[A\n",
      "save..:  45%|████▌     | 1503/3307 [01:03<01:10, 25.68it/s]\u001b[A\n",
      "save..:  48%|████▊     | 1582/3307 [01:07<01:15, 22.71it/s]\u001b[A\n",
      "save..:  50%|█████     | 1654/3307 [01:11<01:17, 21.33it/s]\u001b[A\n",
      "save..:  52%|█████▏    | 1721/3307 [01:15<01:15, 21.02it/s]\u001b[A\n",
      "save..:  54%|█████▍    | 1787/3307 [01:18<01:14, 20.29it/s]\u001b[A\n",
      "save..:  56%|█████▌    | 1853/3307 [01:21<01:10, 20.57it/s]\u001b[A\n",
      "save..:  58%|█████▊    | 1916/3307 [01:25<01:12, 19.17it/s]\u001b[A\n",
      "save..:  60%|█████▉    | 1975/3307 [01:29<01:13, 18.10it/s]\u001b[A\n",
      "save..:  62%|██████▏   | 2041/3307 [01:32<01:06, 19.09it/s]\u001b[A\n",
      "save..:  65%|██████▍   | 2135/3307 [01:35<00:54, 21.54it/s]\u001b[A\n",
      "save..:  67%|██████▋   | 2210/3307 [01:38<00:49, 22.36it/s]\u001b[A\n",
      "save..:  69%|██████▉   | 2281/3307 [01:41<00:47, 21.53it/s]\u001b[A\n",
      "save..:  71%|███████   | 2348/3307 [01:45<00:47, 20.10it/s]\u001b[A\n",
      "save..:  73%|███████▎  | 2411/3307 [01:49<00:48, 18.67it/s]\u001b[A\n",
      "save..:  75%|███████▌  | 2486/3307 [01:52<00:40, 20.15it/s]\u001b[A\n",
      "save..:  77%|███████▋  | 2549/3307 [01:56<00:39, 19.22it/s]\u001b[A\n",
      "save..:  79%|███████▉  | 2627/3307 [01:59<00:32, 20.71it/s]\u001b[A\n",
      "save..:  82%|████████▏ | 2719/3307 [02:02<00:25, 22.95it/s]\u001b[A\n",
      "save..:  84%|████████▍ | 2792/3307 [02:05<00:22, 22.81it/s]\u001b[A\n",
      "save..:  87%|████████▋ | 2881/3307 [02:08<00:17, 24.40it/s]\u001b[A\n",
      "save..:  90%|█████████ | 2990/3307 [02:11<00:11, 26.96it/s]\u001b[A\n",
      "save..:  93%|█████████▎| 3079/3307 [02:14<00:08, 27.60it/s]\u001b[A\n",
      "save..:  96%|█████████▌| 3166/3307 [02:18<00:05, 26.08it/s]\u001b[A\n",
      "save..: 100%|██████████| 3307/3307 [02:22<00:00, 23.23it/s]\u001b[A\n"
     ]
    },
    {
     "name": "stdout",
     "output_type": "stream",
     "text": [
      "(12296, 11)\n"
     ]
    },
    {
     "name": "stderr",
     "output_type": "stream",
     "text": [
      "\r",
      "craw:  16%|█▌        | 48/300 [1:34:39<29:02:32, 414.89s/it]"
     ]
    },
    {
     "name": "stdout",
     "output_type": "stream",
     "text": [
      "밀스테이크 scroll\n"
     ]
    },
    {
     "name": "stderr",
     "output_type": "stream",
     "text": [
      "\n",
      "save..:   0%|          | 0/7 [00:00<?, ?it/s]\u001b[A"
     ]
    },
    {
     "name": "stdout",
     "output_type": "stream",
     "text": [
      "밀스테이크 7\n",
      "모든 리뷰 불러오기 시작...\n",
      "모든 리뷰 불러오기 완료!\n"
     ]
    },
    {
     "name": "stderr",
     "output_type": "stream",
     "text": [
      "save..: 100%|██████████| 7/7 [00:00<00:00, 20.81it/s]\n"
     ]
    },
    {
     "name": "stdout",
     "output_type": "stream",
     "text": [
      "(12303, 11)\n"
     ]
    },
    {
     "name": "stderr",
     "output_type": "stream",
     "text": [
      "\r",
      "craw:  16%|█▋        | 49/300 [1:35:06<20:48:36, 298.47s/it]"
     ]
    },
    {
     "name": "stdout",
     "output_type": "stream",
     "text": [
      "오케이삼겹살&수육 scroll\n",
      "오케이삼겹살&수육 12\n",
      "모든 리뷰 불러오기 시작...\n"
     ]
    },
    {
     "name": "stderr",
     "output_type": "stream",
     "text": [
      "\n",
      "save..:   0%|          | 0/12 [00:00<?, ?it/s]\u001b[A"
     ]
    },
    {
     "name": "stdout",
     "output_type": "stream",
     "text": [
      "모든 리뷰 불러오기 완료!\n"
     ]
    },
    {
     "name": "stderr",
     "output_type": "stream",
     "text": [
      "save..: 100%|██████████| 12/12 [00:00<00:00, 19.03it/s]\n"
     ]
    },
    {
     "name": "stdout",
     "output_type": "stream",
     "text": [
      "(12315, 11)\n"
     ]
    },
    {
     "name": "stderr",
     "output_type": "stream",
     "text": [
      "\r",
      "craw:  17%|█▋        | 50/300 [1:36:03<15:42:09, 226.12s/it]"
     ]
    },
    {
     "name": "stdout",
     "output_type": "stream",
     "text": [
      "락원오리주물럭&삼계탕 scroll\n"
     ]
    },
    {
     "name": "stderr",
     "output_type": "stream",
     "text": [
      "\n",
      "save..: 100%|██████████| 1/1 [00:00<00:00, 14.25it/s]"
     ]
    },
    {
     "name": "stdout",
     "output_type": "stream",
     "text": [
      "락원오리주물럭&삼계탕 1\n",
      "모든 리뷰 불러오기 시작...\n",
      "모든 리뷰 불러오기 완료!\n",
      "(12316, 11)\n"
     ]
    },
    {
     "name": "stderr",
     "output_type": "stream",
     "text": [
      "\n",
      "craw:  17%|█▋        | 51/300 [1:36:42<11:44:31, 169.77s/it]"
     ]
    },
    {
     "name": "stdout",
     "output_type": "stream",
     "text": [
      "떡마루 scroll\n"
     ]
    },
    {
     "name": "stderr",
     "output_type": "stream",
     "text": [
      "\n",
      "save..:   0%|          | 0/9 [00:00<?, ?it/s]\u001b[A"
     ]
    },
    {
     "name": "stdout",
     "output_type": "stream",
     "text": [
      "떡마루 9\n",
      "모든 리뷰 불러오기 시작...\n",
      "모든 리뷰 불러오기 완료!\n"
     ]
    },
    {
     "name": "stderr",
     "output_type": "stream",
     "text": [
      "save..: 100%|██████████| 9/9 [00:00<00:00, 16.02it/s]\n"
     ]
    },
    {
     "name": "stdout",
     "output_type": "stream",
     "text": [
      "(12325, 11)\n"
     ]
    },
    {
     "name": "stderr",
     "output_type": "stream",
     "text": [
      "\r",
      "craw:  17%|█▋        | 52/300 [1:37:20<8:59:23, 130.50s/it] "
     ]
    },
    {
     "name": "stdout",
     "output_type": "stream",
     "text": [
      "코코스시-본점 scroll\n"
     ]
    },
    {
     "name": "stderr",
     "output_type": "stream",
     "text": [
      "\n",
      "save..:   0%|          | 0/6 [00:00<?, ?it/s]\u001b[A"
     ]
    },
    {
     "name": "stdout",
     "output_type": "stream",
     "text": [
      "코코스시-본점 6\n",
      "모든 리뷰 불러오기 시작...\n",
      "모든 리뷰 불러오기 완료!\n"
     ]
    },
    {
     "name": "stderr",
     "output_type": "stream",
     "text": [
      "save..: 100%|██████████| 6/6 [00:00<00:00, 14.08it/s]\n"
     ]
    },
    {
     "name": "stdout",
     "output_type": "stream",
     "text": [
      "(12331, 11)\n"
     ]
    },
    {
     "name": "stderr",
     "output_type": "stream",
     "text": [
      "\r",
      "craw:  18%|█▊        | 53/300 [1:37:41<6:41:19, 97.49s/it] "
     ]
    },
    {
     "name": "stdout",
     "output_type": "stream",
     "text": [
      "신룽푸마라탕-경희대점 scroll\n",
      "신룽푸마라탕-경희대점 77\n",
      "모든 리뷰 불러오기 시작...\n",
      "모든 리뷰 불러오기 완료!\n"
     ]
    },
    {
     "name": "stderr",
     "output_type": "stream",
     "text": [
      "\n",
      "save..:   0%|          | 0/77 [00:00<?, ?it/s]\u001b[A\n",
      "save..: 100%|██████████| 77/77 [00:03<00:00, 19.25it/s]\u001b[A\n"
     ]
    },
    {
     "name": "stdout",
     "output_type": "stream",
     "text": [
      "(12408, 11)\n"
     ]
    },
    {
     "name": "stderr",
     "output_type": "stream",
     "text": [
      "\r",
      "craw:  18%|█▊        | 54/300 [1:38:45<5:58:52, 87.53s/it]"
     ]
    },
    {
     "name": "stdout",
     "output_type": "stream",
     "text": [
      "장짬뽕-휘경점 scroll\n",
      "장짬뽕-휘경점 388\n",
      "모든 리뷰 불러오기 시작...\n",
      "모든 리뷰 불러오기 완료!\n"
     ]
    },
    {
     "name": "stderr",
     "output_type": "stream",
     "text": [
      "\n",
      "save..:   0%|          | 0/388 [00:00<?, ?it/s]\u001b[A\n",
      "save..:  18%|█▊        | 69/388 [00:03<00:14, 22.21it/s]\u001b[A\n",
      "save..:  45%|████▌     | 176/388 [00:06<00:08, 25.04it/s]\u001b[A\n",
      "save..: 100%|██████████| 388/388 [00:10<00:00, 37.56it/s]\u001b[A\n"
     ]
    },
    {
     "name": "stdout",
     "output_type": "stream",
     "text": [
      "(12796, 11)\n"
     ]
    },
    {
     "name": "stderr",
     "output_type": "stream",
     "text": [
      "\r",
      "craw:  18%|█▊        | 55/300 [1:40:46<6:37:31, 97.36s/it]"
     ]
    },
    {
     "name": "stdout",
     "output_type": "stream",
     "text": [
      "427월곡닭갈비-월곡본점 scroll\n",
      "427월곡닭갈비-월곡본점 86\n",
      "모든 리뷰 불러오기 시작...\n",
      "모든 리뷰 불러오기 완료!\n"
     ]
    },
    {
     "name": "stderr",
     "output_type": "stream",
     "text": [
      "\n",
      "save..:   0%|          | 0/86 [00:00<?, ?it/s]\u001b[A\n",
      "save..: 100%|██████████| 86/86 [00:04<00:00, 17.50it/s]\u001b[A\n"
     ]
    },
    {
     "name": "stdout",
     "output_type": "stream",
     "text": [
      "(12882, 11)\n"
     ]
    },
    {
     "name": "stderr",
     "output_type": "stream",
     "text": [
      "\r",
      "craw:  19%|█▊        | 56/300 [1:42:08<6:17:57, 92.94s/it]"
     ]
    },
    {
     "name": "stdout",
     "output_type": "stream",
     "text": [
      "은행골-경희대점 scroll\n",
      "은행골-경희대점 91\n",
      "모든 리뷰 불러오기 시작...\n",
      "모든 리뷰 불러오기 완료!\n"
     ]
    },
    {
     "name": "stderr",
     "output_type": "stream",
     "text": [
      "\n",
      "save..:   0%|          | 0/91 [00:00<?, ?it/s]\u001b[A\n",
      "save..: 100%|██████████| 91/91 [00:04<00:00, 19.13it/s]\u001b[A\n"
     ]
    },
    {
     "name": "stdout",
     "output_type": "stream",
     "text": [
      "(12973, 11)\n"
     ]
    },
    {
     "name": "stderr",
     "output_type": "stream",
     "text": [
      "\r",
      "craw:  19%|█▉        | 57/300 [1:43:15<5:45:08, 85.22s/it]"
     ]
    },
    {
     "name": "stdout",
     "output_type": "stream",
     "text": [
      "웰빙싱싱쌈밥 scroll\n"
     ]
    },
    {
     "name": "stderr",
     "output_type": "stream",
     "text": [
      "\r",
      "craw:  19%|█▉        | 58/300 [1:43:51<4:43:34, 70.31s/it]"
     ]
    },
    {
     "name": "stdout",
     "output_type": "stream",
     "text": [
      "wrong shop\n",
      "행복닭강정 scroll\n",
      "행복닭강정 scroll\n",
      "행복닭강정 502\n",
      "모든 리뷰 불러오기 시작...\n",
      "모든 리뷰 불러오기 완료!\n"
     ]
    },
    {
     "name": "stderr",
     "output_type": "stream",
     "text": [
      "\n",
      "save..:   0%|          | 0/502 [00:00<?, ?it/s]\u001b[A\n",
      "save..:  12%|█▏        | 58/502 [00:03<00:23, 19.09it/s]\u001b[A\n",
      "save..:  24%|██▎       | 118/502 [00:06<00:19, 19.26it/s]\u001b[A\n",
      "save..:  33%|███▎      | 167/502 [00:09<00:18, 18.07it/s]\u001b[A\n",
      "save..:  44%|████▍     | 221/502 [00:12<00:15, 17.96it/s]\u001b[A\n",
      "save..:  57%|█████▋    | 285/502 [00:15<00:11, 18.75it/s]\u001b[A\n",
      "save..:  71%|███████   | 357/502 [00:18<00:07, 19.98it/s]\u001b[A\n",
      "save..:  83%|████████▎ | 416/502 [00:21<00:04, 19.87it/s]\u001b[A\n",
      "save..: 100%|██████████| 502/502 [00:26<00:00, 19.22it/s]\u001b[A\n"
     ]
    },
    {
     "name": "stdout",
     "output_type": "stream",
     "text": [
      "(13475, 11)\n"
     ]
    },
    {
     "name": "stderr",
     "output_type": "stream",
     "text": [
      "\r",
      "craw:  20%|█▉        | 59/300 [1:46:39<6:40:50, 99.79s/it]"
     ]
    },
    {
     "name": "stdout",
     "output_type": "stream",
     "text": [
      "죤슨바베큐&바오탕수-장안점 scroll\n",
      "죤슨바베큐&바오탕수-장안점 16\n",
      "모든 리뷰 불러오기 시작...\n"
     ]
    },
    {
     "name": "stderr",
     "output_type": "stream",
     "text": [
      "\n",
      "save..:   0%|          | 0/16 [00:00<?, ?it/s]\u001b[A"
     ]
    },
    {
     "name": "stdout",
     "output_type": "stream",
     "text": [
      "모든 리뷰 불러오기 완료!\n"
     ]
    },
    {
     "name": "stderr",
     "output_type": "stream",
     "text": [
      "save..: 100%|██████████| 16/16 [00:00<00:00, 23.67it/s]\n"
     ]
    },
    {
     "name": "stdout",
     "output_type": "stream",
     "text": [
      "(13491, 11)\n"
     ]
    },
    {
     "name": "stderr",
     "output_type": "stream",
     "text": [
      "\r",
      "craw:  20%|██        | 60/300 [1:47:31<5:41:17, 85.32s/it]"
     ]
    },
    {
     "name": "stdout",
     "output_type": "stream",
     "text": [
      "행님디저트카페-장안점 scroll\n",
      "행님디저트카페-장안점 26\n",
      "모든 리뷰 불러오기 시작...\n",
      "모든 리뷰 불러오기 완료!\n"
     ]
    },
    {
     "name": "stderr",
     "output_type": "stream",
     "text": [
      "\n",
      "save..: 100%|██████████| 26/26 [00:01<00:00, 17.34it/s]\n"
     ]
    },
    {
     "name": "stdout",
     "output_type": "stream",
     "text": [
      "(13517, 11)\n"
     ]
    },
    {
     "name": "stderr",
     "output_type": "stream",
     "text": [
      "\r",
      "craw:  20%|██        | 61/300 [1:48:37<5:16:29, 79.46s/it]"
     ]
    },
    {
     "name": "stdout",
     "output_type": "stream",
     "text": [
      "뚜레쥬르-상봉역점 scroll\n",
      "뚜레쥬르-상봉역점 122\n",
      "모든 리뷰 불러오기 시작...\n",
      "모든 리뷰 불러오기 완료!\n"
     ]
    },
    {
     "name": "stderr",
     "output_type": "stream",
     "text": [
      "\n",
      "save..:   0%|          | 0/122 [00:00<?, ?it/s]\u001b[A\n",
      "save..: 100%|██████████| 122/122 [00:05<00:00, 21.32it/s][A\n"
     ]
    },
    {
     "name": "stdout",
     "output_type": "stream",
     "text": [
      "(13639, 11)\n"
     ]
    },
    {
     "name": "stderr",
     "output_type": "stream",
     "text": [
      "\r",
      "craw:  21%|██        | 62/300 [1:49:43<4:59:28, 75.50s/it]"
     ]
    },
    {
     "name": "stdout",
     "output_type": "stream",
     "text": [
      "짬뽕명가 scroll\n"
     ]
    },
    {
     "name": "stderr",
     "output_type": "stream",
     "text": [
      "\r",
      "craw:  21%|██        | 63/300 [1:50:01<3:50:34, 58.37s/it]"
     ]
    },
    {
     "name": "stdout",
     "output_type": "stream",
     "text": [
      "wrong shop\n",
      "한촌설렁탕-장안점 scroll\n",
      "한촌설렁탕-장안점 114\n",
      "모든 리뷰 불러오기 시작...\n",
      "모든 리뷰 불러오기 완료!\n"
     ]
    },
    {
     "name": "stderr",
     "output_type": "stream",
     "text": [
      "\n",
      "save..: 100%|██████████| 114/114 [00:02<00:00, 46.20it/s]\n"
     ]
    },
    {
     "name": "stdout",
     "output_type": "stream",
     "text": [
      "(13753, 11)\n"
     ]
    },
    {
     "name": "stderr",
     "output_type": "stream",
     "text": [
      "\r",
      "craw:  21%|██▏       | 64/300 [1:50:55<3:43:48, 56.90s/it]"
     ]
    },
    {
     "name": "stdout",
     "output_type": "stream",
     "text": [
      "아침의국 scroll\n",
      "아침의국 91\n",
      "모든 리뷰 불러오기 시작...\n",
      "모든 리뷰 불러오기 완료!\n"
     ]
    },
    {
     "name": "stderr",
     "output_type": "stream",
     "text": [
      "\n",
      "save..:   0%|          | 0/91 [00:00<?, ?it/s]\u001b[A\n",
      "save..: 100%|██████████| 91/91 [00:03<00:00, 30.26it/s]\u001b[A\n"
     ]
    },
    {
     "name": "stdout",
     "output_type": "stream",
     "text": [
      "(13844, 11)\n"
     ]
    },
    {
     "name": "stderr",
     "output_type": "stream",
     "text": [
      "\r",
      "craw:  22%|██▏       | 65/300 [1:51:46<3:36:27, 55.27s/it]"
     ]
    },
    {
     "name": "stdout",
     "output_type": "stream",
     "text": [
      "한돈제육볶음&알탕 scroll\n"
     ]
    },
    {
     "name": "stderr",
     "output_type": "stream",
     "text": [
      "\n",
      "save..: 100%|██████████| 1/1 [00:00<00:00, 958.48it/s]"
     ]
    },
    {
     "name": "stdout",
     "output_type": "stream",
     "text": [
      "한돈제육볶음&알탕 1\n",
      "모든 리뷰 불러오기 시작...\n",
      "모든 리뷰 불러오기 완료!\n",
      "(13845, 11)\n"
     ]
    },
    {
     "name": "stderr",
     "output_type": "stream",
     "text": [
      "\n",
      "craw:  22%|██▏       | 66/300 [1:52:48<3:42:33, 57.07s/it]"
     ]
    },
    {
     "name": "stdout",
     "output_type": "stream",
     "text": [
      "짜짜루-답십리점 scroll\n",
      "짜짜루-답십리점 36\n",
      "모든 리뷰 불러오기 시작...\n",
      "모든 리뷰 불러오기 완료!\n"
     ]
    },
    {
     "name": "stderr",
     "output_type": "stream",
     "text": [
      "\n",
      "save..: 100%|██████████| 36/36 [00:00<00:00, 71.88it/s]\n"
     ]
    },
    {
     "name": "stdout",
     "output_type": "stream",
     "text": [
      "(13881, 11)\n"
     ]
    },
    {
     "name": "stderr",
     "output_type": "stream",
     "text": [
      "\r",
      "craw:  22%|██▏       | 67/300 [1:53:28<3:21:57, 52.01s/it]"
     ]
    },
    {
     "name": "stdout",
     "output_type": "stream",
     "text": [
      "그대쉴꽃 scroll\n"
     ]
    },
    {
     "name": "stderr",
     "output_type": "stream",
     "text": [
      "\n",
      "save..:   0%|          | 0/7 [00:00<?, ?it/s]\u001b[A"
     ]
    },
    {
     "name": "stdout",
     "output_type": "stream",
     "text": [
      "그대쉴꽃 7\n",
      "모든 리뷰 불러오기 시작...\n",
      "모든 리뷰 불러오기 완료!\n"
     ]
    },
    {
     "name": "stderr",
     "output_type": "stream",
     "text": [
      "save..: 100%|██████████| 7/7 [00:00<00:00, 31.58it/s]\n"
     ]
    },
    {
     "name": "stdout",
     "output_type": "stream",
     "text": [
      "(13888, 11)\n"
     ]
    },
    {
     "name": "stderr",
     "output_type": "stream",
     "text": [
      "\r",
      "craw:  23%|██▎       | 68/300 [1:53:48<2:44:06, 42.44s/it]"
     ]
    },
    {
     "name": "stdout",
     "output_type": "stream",
     "text": [
      "에스플로어 scroll\n"
     ]
    },
    {
     "name": "stderr",
     "output_type": "stream",
     "text": [
      "\n",
      "save..:   0%|          | 0/4 [00:00<?, ?it/s]\u001b[A"
     ]
    },
    {
     "name": "stdout",
     "output_type": "stream",
     "text": [
      "에스플로어 4\n",
      "모든 리뷰 불러오기 시작...\n",
      "모든 리뷰 불러오기 완료!\n"
     ]
    },
    {
     "name": "stderr",
     "output_type": "stream",
     "text": [
      "save..: 100%|██████████| 4/4 [00:00<00:00, 15.44it/s]\n"
     ]
    },
    {
     "name": "stdout",
     "output_type": "stream",
     "text": [
      "(13892, 11)\n"
     ]
    },
    {
     "name": "stderr",
     "output_type": "stream",
     "text": [
      "\r",
      "craw:  23%|██▎       | 69/300 [1:54:07<2:15:46, 35.26s/it]"
     ]
    },
    {
     "name": "stdout",
     "output_type": "stream",
     "text": [
      "크레이저커피-경희대점 scroll\n"
     ]
    },
    {
     "name": "stderr",
     "output_type": "stream",
     "text": [
      "\n",
      "save..: 100%|██████████| 1/1 [00:00<00:00, 1017.29it/s]"
     ]
    },
    {
     "name": "stdout",
     "output_type": "stream",
     "text": [
      "크레이저커피-경희대점 1\n",
      "모든 리뷰 불러오기 시작...\n",
      "모든 리뷰 불러오기 완료!\n",
      "(13893, 11)\n"
     ]
    },
    {
     "name": "stderr",
     "output_type": "stream",
     "text": [
      "\n",
      "craw:  23%|██▎       | 70/300 [1:54:25<1:55:42, 30.18s/it]"
     ]
    },
    {
     "name": "stdout",
     "output_type": "stream",
     "text": [
      "육회본가-성신여대점 scroll\n"
     ]
    },
    {
     "name": "stderr",
     "output_type": "stream",
     "text": [
      "\n",
      "save..:   0%|          | 0/4 [00:00<?, ?it/s]\u001b[A"
     ]
    },
    {
     "name": "stdout",
     "output_type": "stream",
     "text": [
      "육회본가-성신여대점 4\n",
      "모든 리뷰 불러오기 시작...\n",
      "모든 리뷰 불러오기 완료!\n"
     ]
    },
    {
     "name": "stderr",
     "output_type": "stream",
     "text": [
      "save..: 100%|██████████| 4/4 [00:00<00:00, 21.92it/s]\n"
     ]
    },
    {
     "name": "stdout",
     "output_type": "stream",
     "text": [
      "(13897, 11)\n"
     ]
    },
    {
     "name": "stderr",
     "output_type": "stream",
     "text": [
      "\r",
      "craw:  24%|██▎       | 71/300 [1:54:35<1:32:48, 24.32s/it]"
     ]
    },
    {
     "name": "stdout",
     "output_type": "stream",
     "text": [
      "형제집육회&연어 scroll\n",
      "형제집육회&연어 1\n",
      "모든 리뷰 불러오기 시작...\n",
      "모든 리뷰 불러오기 완료!\n"
     ]
    },
    {
     "name": "stderr",
     "output_type": "stream",
     "text": [
      "\n",
      "save..: 100%|██████████| 1/1 [00:00<00:00,  5.22it/s]\n"
     ]
    },
    {
     "name": "stdout",
     "output_type": "stream",
     "text": [
      "(13898, 11)\n"
     ]
    },
    {
     "name": "stderr",
     "output_type": "stream",
     "text": [
      "\r",
      "craw:  24%|██▍       | 72/300 [1:54:56<1:27:43, 23.08s/it]"
     ]
    },
    {
     "name": "stdout",
     "output_type": "stream",
     "text": [
      "플로랄 scroll\n"
     ]
    },
    {
     "name": "stderr",
     "output_type": "stream",
     "text": [
      "\n",
      "save..:   0%|          | 0/7 [00:00<?, ?it/s]\u001b[A"
     ]
    },
    {
     "name": "stdout",
     "output_type": "stream",
     "text": [
      "플로랄 7\n",
      "모든 리뷰 불러오기 시작...\n",
      "모든 리뷰 불러오기 완료!\n"
     ]
    },
    {
     "name": "stderr",
     "output_type": "stream",
     "text": [
      "save..: 100%|██████████| 7/7 [00:00<00:00, 11.76it/s]\n"
     ]
    },
    {
     "name": "stdout",
     "output_type": "stream",
     "text": [
      "(13905, 11)\n"
     ]
    },
    {
     "name": "stderr",
     "output_type": "stream",
     "text": [
      "\r",
      "craw:  24%|██▍       | 73/300 [1:55:15<1:22:46, 21.88s/it]"
     ]
    },
    {
     "name": "stdout",
     "output_type": "stream",
     "text": [
      "한라참치-전농점 scroll\n"
     ]
    },
    {
     "name": "stderr",
     "output_type": "stream",
     "text": [
      "\n",
      "save..:   0%|          | 0/6 [00:00<?, ?it/s]\u001b[A"
     ]
    },
    {
     "name": "stdout",
     "output_type": "stream",
     "text": [
      "한라참치-전농점 6\n",
      "모든 리뷰 불러오기 시작...\n",
      "모든 리뷰 불러오기 완료!\n"
     ]
    },
    {
     "name": "stderr",
     "output_type": "stream",
     "text": [
      "save..: 100%|██████████| 6/6 [00:00<00:00,  9.34it/s]\n"
     ]
    },
    {
     "name": "stdout",
     "output_type": "stream",
     "text": [
      "(13911, 11)\n"
     ]
    },
    {
     "name": "stderr",
     "output_type": "stream",
     "text": [
      "\r",
      "craw:  25%|██▍       | 74/300 [1:55:29<1:13:39, 19.56s/it]"
     ]
    },
    {
     "name": "stdout",
     "output_type": "stream",
     "text": [
      "즉석반찬-사가정시장점 scroll\n",
      "즉석반찬-사가정시장점 24\n",
      "모든 리뷰 불러오기 시작...\n"
     ]
    },
    {
     "name": "stderr",
     "output_type": "stream",
     "text": [
      "\n",
      "save..:   0%|          | 0/24 [00:00<?, ?it/s]\u001b[A"
     ]
    },
    {
     "name": "stdout",
     "output_type": "stream",
     "text": [
      "모든 리뷰 불러오기 완료!\n"
     ]
    },
    {
     "name": "stderr",
     "output_type": "stream",
     "text": [
      "save..: 100%|██████████| 24/24 [00:01<00:00, 14.01it/s]\n"
     ]
    },
    {
     "name": "stdout",
     "output_type": "stream",
     "text": [
      "(13935, 11)\n"
     ]
    },
    {
     "name": "stderr",
     "output_type": "stream",
     "text": [
      "\r",
      "craw:  25%|██▌       | 75/300 [1:56:11<1:39:02, 26.41s/it]"
     ]
    },
    {
     "name": "stdout",
     "output_type": "stream",
     "text": [
      "명가네콩나물국밥 scroll\n"
     ]
    },
    {
     "name": "stderr",
     "output_type": "stream",
     "text": [
      "\n",
      "save..:   0%|          | 0/5 [00:00<?, ?it/s]\u001b[A"
     ]
    },
    {
     "name": "stdout",
     "output_type": "stream",
     "text": [
      "명가네콩나물국밥 5\n",
      "모든 리뷰 불러오기 시작...\n",
      "모든 리뷰 불러오기 완료!\n"
     ]
    },
    {
     "name": "stderr",
     "output_type": "stream",
     "text": [
      "save..: 100%|██████████| 5/5 [00:00<00:00, 39.19it/s]\n"
     ]
    },
    {
     "name": "stdout",
     "output_type": "stream",
     "text": [
      "(13940, 11)\n"
     ]
    },
    {
     "name": "stderr",
     "output_type": "stream",
     "text": [
      "\r",
      "craw:  25%|██▌       | 76/300 [1:56:30<1:29:40, 24.02s/it]"
     ]
    },
    {
     "name": "stdout",
     "output_type": "stream",
     "text": [
      "버거플래닛 scroll\n",
      "버거플래닛 73\n",
      "모든 리뷰 불러오기 시작...\n",
      "모든 리뷰 불러오기 완료!\n"
     ]
    },
    {
     "name": "stderr",
     "output_type": "stream",
     "text": [
      "\n",
      "save..:   0%|          | 0/73 [00:00<?, ?it/s]\u001b[A\n",
      "save..: 100%|██████████| 73/73 [00:04<00:00, 17.84it/s]\u001b[A\n"
     ]
    },
    {
     "name": "stdout",
     "output_type": "stream",
     "text": [
      "(14013, 11)\n"
     ]
    },
    {
     "name": "stderr",
     "output_type": "stream",
     "text": [
      "\r",
      "craw:  26%|██▌       | 77/300 [1:57:39<2:19:57, 37.66s/it]"
     ]
    },
    {
     "name": "stdout",
     "output_type": "stream",
     "text": [
      "카페115번지 scroll\n",
      "카페115번지 51\n",
      "모든 리뷰 불러오기 시작...\n",
      "모든 리뷰 불러오기 완료!\n"
     ]
    },
    {
     "name": "stderr",
     "output_type": "stream",
     "text": [
      "\n",
      "save..:   0%|          | 0/51 [00:00<?, ?it/s]\u001b[A\n",
      "save..: 100%|██████████| 51/51 [00:03<00:00, 14.34it/s]\u001b[A\n"
     ]
    },
    {
     "name": "stdout",
     "output_type": "stream",
     "text": [
      "(14064, 11)\n"
     ]
    },
    {
     "name": "stderr",
     "output_type": "stream",
     "text": [
      "\r",
      "craw:  26%|██▌       | 78/300 [1:58:18<2:20:36, 38.00s/it]"
     ]
    },
    {
     "name": "stdout",
     "output_type": "stream",
     "text": [
      "정직한삼겹살-동대문점 scroll\n",
      "정직한삼겹살-동대문점 15\n",
      "모든 리뷰 불러오기 시작...\n"
     ]
    },
    {
     "name": "stderr",
     "output_type": "stream",
     "text": [
      "\n",
      "save..:   0%|          | 0/15 [00:00<?, ?it/s]\u001b[A"
     ]
    },
    {
     "name": "stdout",
     "output_type": "stream",
     "text": [
      "모든 리뷰 불러오기 완료!\n"
     ]
    },
    {
     "name": "stderr",
     "output_type": "stream",
     "text": [
      "save..: 100%|██████████| 15/15 [00:01<00:00, 11.06it/s]\n"
     ]
    },
    {
     "name": "stdout",
     "output_type": "stream",
     "text": [
      "(14079, 11)\n"
     ]
    },
    {
     "name": "stderr",
     "output_type": "stream",
     "text": [
      "\r",
      "craw:  26%|██▋       | 79/300 [1:58:54<2:18:17, 37.55s/it]"
     ]
    },
    {
     "name": "stdout",
     "output_type": "stream",
     "text": [
      "유자유김치떡볶이-본점 scroll\n",
      "유자유김치떡볶이-본점 1640\n",
      "모든 리뷰 불러오기 시작...\n",
      "모든 리뷰 불러오기 완료!\n"
     ]
    },
    {
     "name": "stderr",
     "output_type": "stream",
     "text": [
      "\n",
      "save..:   0%|          | 0/1640 [00:00<?, ?it/s]\u001b[A\n",
      "save..:   3%|▎         | 47/1640 [00:03<01:43, 15.46it/s]\u001b[A\n",
      "save..:   5%|▌         | 86/1640 [00:06<01:46, 14.59it/s]\u001b[A\n",
      "save..:   7%|▋         | 119/1640 [00:09<01:54, 13.26it/s]\u001b[A\n",
      "save..:  10%|█         | 169/1640 [00:12<01:45, 13.99it/s]\u001b[A\n",
      "save..:  13%|█▎        | 209/1640 [00:15<01:44, 13.74it/s]\u001b[A\n",
      "save..:  15%|█▌        | 252/1640 [00:18<01:40, 13.82it/s]\u001b[A\n",
      "save..:  18%|█▊        | 302/1640 [00:21<01:32, 14.39it/s]\u001b[A\n",
      "save..:  21%|██        | 342/1640 [00:24<01:34, 13.70it/s]\u001b[A\n",
      "save..:  24%|██▍       | 396/1640 [00:27<01:24, 14.75it/s]\u001b[A\n",
      "save..:  27%|██▋       | 441/1640 [00:30<01:20, 14.81it/s]\u001b[A\n",
      "save..:  30%|██▉       | 485/1640 [00:33<01:18, 14.71it/s]\u001b[A\n",
      "save..:  32%|███▎      | 533/1640 [00:36<01:14, 14.95it/s]\u001b[A\n",
      "save..:  36%|███▋      | 597/1640 [00:39<01:03, 16.36it/s]\u001b[A\n",
      "save..:  40%|███▉      | 648/1640 [00:43<01:01, 16.16it/s]\u001b[A\n",
      "save..:  45%|████▌     | 743/1640 [00:46<00:47, 18.92it/s]\u001b[A\n",
      "save..:  50%|████▉     | 815/1640 [00:49<00:41, 19.72it/s]\u001b[A\n",
      "save..:  54%|█████▎    | 879/1640 [00:52<00:38, 19.81it/s]\u001b[A\n",
      "save..:  57%|█████▋    | 942/1640 [00:56<00:37, 18.45it/s]\u001b[A\n",
      "save..:  61%|██████    | 1001/1640 [00:59<00:34, 18.77it/s]\u001b[A\n",
      "save..:  65%|██████▍   | 1060/1640 [01:03<00:33, 17.51it/s]\u001b[A\n",
      "save..:  68%|██████▊   | 1115/1640 [01:06<00:30, 17.09it/s]\u001b[A\n",
      "save..:  72%|███████▏  | 1177/1640 [01:09<00:25, 17.90it/s]\u001b[A\n",
      "save..:  78%|███████▊  | 1271/1640 [01:13<00:17, 20.51it/s]\u001b[A\n",
      "save..:  83%|████████▎ | 1358/1640 [01:16<00:12, 22.36it/s]\u001b[A\n",
      "save..:  87%|████████▋ | 1430/1640 [01:19<00:09, 22.70it/s]\u001b[A\n",
      "save..:  92%|█████████▏| 1516/1640 [01:22<00:05, 24.15it/s]\u001b[A\n",
      "save..: 100%|██████████| 1640/1640 [01:26<00:00, 18.99it/s]\u001b[A\n"
     ]
    },
    {
     "name": "stdout",
     "output_type": "stream",
     "text": [
      "(15719, 11)\n"
     ]
    },
    {
     "name": "stderr",
     "output_type": "stream",
     "text": [
      "\r",
      "craw:  27%|██▋       | 80/300 [2:07:57<11:33:21, 189.10s/it]"
     ]
    },
    {
     "name": "stdout",
     "output_type": "stream",
     "text": [
      "장평칼국수 scroll\n",
      "장평칼국수 51\n",
      "모든 리뷰 불러오기 시작...\n"
     ]
    },
    {
     "name": "stderr",
     "output_type": "stream",
     "text": [
      "\n",
      "save..:   0%|          | 0/51 [00:00<?, ?it/s]\u001b[A"
     ]
    },
    {
     "name": "stdout",
     "output_type": "stream",
     "text": [
      "모든 리뷰 불러오기 완료!\n"
     ]
    },
    {
     "name": "stderr",
     "output_type": "stream",
     "text": [
      "\n",
      "save..:  51%|█████     | 26/51 [00:03<00:02,  8.40it/s]\u001b[A\n",
      "save..: 100%|██████████| 51/51 [00:07<00:00,  6.93it/s]\u001b[A\n"
     ]
    },
    {
     "name": "stdout",
     "output_type": "stream",
     "text": [
      "(15770, 11)\n"
     ]
    },
    {
     "name": "stderr",
     "output_type": "stream",
     "text": [
      "\r",
      "craw:  27%|██▋       | 81/300 [2:09:01<9:12:32, 151.38s/it] "
     ]
    },
    {
     "name": "stdout",
     "output_type": "stream",
     "text": [
      "꼼장어와돼지천국 scroll\n"
     ]
    },
    {
     "name": "stderr",
     "output_type": "stream",
     "text": [
      "\n",
      "save..:   0%|          | 0/1 [00:00<?, ?it/s]\u001b[A"
     ]
    },
    {
     "name": "stdout",
     "output_type": "stream",
     "text": [
      "꼼장어와돼지천국 1\n",
      "모든 리뷰 불러오기 시작...\n",
      "모든 리뷰 불러오기 완료!\n"
     ]
    },
    {
     "name": "stderr",
     "output_type": "stream",
     "text": [
      "save..: 100%|██████████| 1/1 [00:00<00:00,  8.18it/s]\n"
     ]
    },
    {
     "name": "stdout",
     "output_type": "stream",
     "text": [
      "(15771, 11)\n"
     ]
    },
    {
     "name": "stderr",
     "output_type": "stream",
     "text": [
      "\r",
      "craw:  27%|██▋       | 82/300 [2:09:41<7:08:34, 117.96s/it]"
     ]
    },
    {
     "name": "stdout",
     "output_type": "stream",
     "text": [
      "참진한순대국 scroll\n"
     ]
    },
    {
     "name": "stderr",
     "output_type": "stream",
     "text": [
      "\n",
      "save..:   0%|          | 0/4 [00:00<?, ?it/s]\u001b[A"
     ]
    },
    {
     "name": "stdout",
     "output_type": "stream",
     "text": [
      "참진한순대국 4\n",
      "모든 리뷰 불러오기 시작...\n",
      "모든 리뷰 불러오기 완료!\n"
     ]
    },
    {
     "name": "stderr",
     "output_type": "stream",
     "text": [
      "save..: 100%|██████████| 4/4 [00:00<00:00, 20.89it/s]\n"
     ]
    },
    {
     "name": "stdout",
     "output_type": "stream",
     "text": [
      "(15775, 11)\n"
     ]
    },
    {
     "name": "stderr",
     "output_type": "stream",
     "text": [
      "\r",
      "craw:  28%|██▊       | 83/300 [2:10:19<5:40:20, 94.10s/it] "
     ]
    },
    {
     "name": "stdout",
     "output_type": "stream",
     "text": [
      "하동우렁추어탕-면목역점 scroll\n",
      "하동우렁추어탕-면목역점 18\n",
      "모든 리뷰 불러오기 시작...\n"
     ]
    },
    {
     "name": "stderr",
     "output_type": "stream",
     "text": [
      "\n",
      "save..:   0%|          | 0/18 [00:00<?, ?it/s]\u001b[A"
     ]
    },
    {
     "name": "stdout",
     "output_type": "stream",
     "text": [
      "모든 리뷰 불러오기 완료!\n"
     ]
    },
    {
     "name": "stderr",
     "output_type": "stream",
     "text": [
      "save..: 100%|██████████| 18/18 [00:00<00:00, 20.69it/s]\n"
     ]
    },
    {
     "name": "stdout",
     "output_type": "stream",
     "text": [
      "(15793, 11)\n"
     ]
    },
    {
     "name": "stderr",
     "output_type": "stream",
     "text": [
      "\r",
      "craw:  28%|██▊       | 84/300 [2:10:58<4:39:35, 77.66s/it]"
     ]
    },
    {
     "name": "stdout",
     "output_type": "stream",
     "text": [
      "까로치아-용두점 scroll\n"
     ]
    },
    {
     "name": "stderr",
     "output_type": "stream",
     "text": [
      "\r",
      "craw:  28%|██▊       | 85/300 [2:11:01<3:17:36, 55.15s/it]"
     ]
    },
    {
     "name": "stdout",
     "output_type": "stream",
     "text": [
      "wrong shop\n",
      "삼대나주곰탕 회기점 scroll\n",
      "삼대나주곰탕 회기점 199\n",
      "모든 리뷰 불러오기 시작...\n",
      "모든 리뷰 불러오기 완료!\n"
     ]
    },
    {
     "name": "stderr",
     "output_type": "stream",
     "text": [
      "\n",
      "save..:   0%|          | 0/199 [00:00<?, ?it/s]\u001b[A\n",
      "save..:  38%|███▊      | 76/199 [00:03<00:05, 24.28it/s]\u001b[A\n",
      "save..: 100%|██████████| 199/199 [00:06<00:00, 28.56it/s]\u001b[A\n"
     ]
    },
    {
     "name": "stdout",
     "output_type": "stream",
     "text": [
      "(15992, 11)\n"
     ]
    },
    {
     "name": "stderr",
     "output_type": "stream",
     "text": [
      "\r",
      "craw:  29%|██▊       | 86/300 [2:12:02<3:23:00, 56.92s/it]"
     ]
    },
    {
     "name": "stdout",
     "output_type": "stream",
     "text": [
      "커피꾼 scroll\n"
     ]
    },
    {
     "name": "stderr",
     "output_type": "stream",
     "text": [
      "\n",
      "save..:   0%|          | 0/4 [00:00<?, ?it/s]\u001b[A"
     ]
    },
    {
     "name": "stdout",
     "output_type": "stream",
     "text": [
      "커피꾼 4\n",
      "모든 리뷰 불러오기 시작...\n",
      "모든 리뷰 불러오기 완료!\n"
     ]
    },
    {
     "name": "stderr",
     "output_type": "stream",
     "text": [
      "save..: 100%|██████████| 4/4 [00:00<00:00,  9.82it/s]\n"
     ]
    },
    {
     "name": "stdout",
     "output_type": "stream",
     "text": [
      "(15996, 11)\n"
     ]
    },
    {
     "name": "stderr",
     "output_type": "stream",
     "text": [
      "\r",
      "craw:  29%|██▉       | 87/300 [2:12:41<3:02:48, 51.49s/it]"
     ]
    },
    {
     "name": "stdout",
     "output_type": "stream",
     "text": [
      "동해바다명품아구찜탕 scroll\n"
     ]
    },
    {
     "name": "stderr",
     "output_type": "stream",
     "text": [
      "\r",
      "craw:  29%|██▉       | 88/300 [2:13:03<2:30:35, 42.62s/it]"
     ]
    },
    {
     "name": "stdout",
     "output_type": "stream",
     "text": [
      "wrong shop\n",
      "큰손갈비 scroll\n"
     ]
    },
    {
     "name": "stderr",
     "output_type": "stream",
     "text": [
      "\n",
      "save..:   0%|          | 0/1 [00:00<?, ?it/s]\u001b[A"
     ]
    },
    {
     "name": "stdout",
     "output_type": "stream",
     "text": [
      "큰손갈비 1\n",
      "모든 리뷰 불러오기 시작...\n",
      "모든 리뷰 불러오기 완료!\n"
     ]
    },
    {
     "name": "stderr",
     "output_type": "stream",
     "text": [
      "save..: 100%|██████████| 1/1 [00:00<00:00,  4.64it/s]\n"
     ]
    },
    {
     "name": "stdout",
     "output_type": "stream",
     "text": [
      "(15997, 11)\n"
     ]
    },
    {
     "name": "stderr",
     "output_type": "stream",
     "text": [
      "\r",
      "craw:  30%|██▉       | 89/300 [2:13:47<2:31:57, 43.21s/it]"
     ]
    },
    {
     "name": "stdout",
     "output_type": "stream",
     "text": [
      "김치만선생 scroll\n",
      "김치만선생 32\n",
      "모든 리뷰 불러오기 시작...\n"
     ]
    },
    {
     "name": "stderr",
     "output_type": "stream",
     "text": [
      "\n",
      "save..:   0%|          | 0/32 [00:00<?, ?it/s]\u001b[A"
     ]
    },
    {
     "name": "stdout",
     "output_type": "stream",
     "text": [
      "모든 리뷰 불러오기 완료!\n"
     ]
    },
    {
     "name": "stderr",
     "output_type": "stream",
     "text": [
      "save..: 100%|██████████| 32/32 [00:01<00:00, 20.11it/s]\n"
     ]
    },
    {
     "name": "stdout",
     "output_type": "stream",
     "text": [
      "(16029, 11)\n"
     ]
    },
    {
     "name": "stderr",
     "output_type": "stream",
     "text": [
      "\r",
      "craw:  30%|███       | 90/300 [2:14:29<2:29:14, 42.64s/it]"
     ]
    },
    {
     "name": "stdout",
     "output_type": "stream",
     "text": [
      "혼다라멘-경희대점 scroll\n"
     ]
    },
    {
     "name": "stderr",
     "output_type": "stream",
     "text": [
      "\r",
      "craw:  30%|███       | 91/300 [2:15:06<2:23:00, 41.05s/it]"
     ]
    },
    {
     "name": "stdout",
     "output_type": "stream",
     "text": [
      "wrong shop\n",
      "중국성-맛있는짜장 scroll\n",
      "중국성-맛있는짜장 scroll\n",
      "중국성-맛있는짜장 1143\n",
      "모든 리뷰 불러오기 시작...\n",
      "모든 리뷰 불러오기 완료!\n"
     ]
    },
    {
     "name": "stderr",
     "output_type": "stream",
     "text": [
      "\n",
      "save..:   0%|          | 0/1143 [00:00<?, ?it/s]\u001b[A\n",
      "save..:   6%|▋         | 72/1143 [00:03<00:45, 23.45it/s]\u001b[A\n",
      "save..:  14%|█▎        | 157/1143 [00:06<00:39, 24.65it/s]\u001b[A\n",
      "save..:  19%|█▉        | 218/1143 [00:09<00:39, 23.17it/s]\u001b[A\n",
      "save..:  26%|██▌       | 298/1143 [00:12<00:35, 24.06it/s]\u001b[A\n",
      "save..:  34%|███▍      | 387/1143 [00:15<00:29, 25.48it/s]\u001b[A\n",
      "save..:  34%|███▍      | 387/1143 [00:25<00:29, 25.48it/s]\u001b[A\n",
      "save..:  42%|████▏     | 481/1143 [02:26<04:55,  2.24it/s]\u001b[A\n",
      "save..:  53%|█████▎    | 608/1143 [02:29<02:51,  3.13it/s]\u001b[A\n",
      "save..:  65%|██████▌   | 746/1143 [02:32<01:31,  4.34it/s]\u001b[A\n",
      "save..:  77%|███████▋  | 880/1143 [02:35<00:44,  5.94it/s]\u001b[A\n",
      "save..: 100%|██████████| 1143/1143 [02:40<00:00,  7.13it/s]\u001b[A\n"
     ]
    },
    {
     "name": "stdout",
     "output_type": "stream",
     "text": [
      "(17172, 11)\n"
     ]
    },
    {
     "name": "stderr",
     "output_type": "stream",
     "text": [
      "\r",
      "craw:  31%|███       | 92/300 [2:22:47<9:38:58, 167.01s/it]"
     ]
    },
    {
     "name": "stdout",
     "output_type": "stream",
     "text": [
      "옥다방 scroll\n",
      "옥다방 9\n",
      "모든 리뷰 불러오기 시작...\n",
      "모든 리뷰 불러오기 완료!\n"
     ]
    },
    {
     "name": "stderr",
     "output_type": "stream",
     "text": [
      "\n",
      "save..: 100%|██████████| 9/9 [00:00<00:00, 16.85it/s]\n"
     ]
    },
    {
     "name": "stdout",
     "output_type": "stream",
     "text": [
      "(17181, 11)\n"
     ]
    },
    {
     "name": "stderr",
     "output_type": "stream",
     "text": [
      "\r",
      "craw:  31%|███       | 93/300 [2:23:24<7:21:58, 128.11s/it]"
     ]
    },
    {
     "name": "stdout",
     "output_type": "stream",
     "text": [
      "장안정수제돈가스&냉면 scroll\n",
      "장안정수제돈가스&냉면 35\n",
      "모든 리뷰 불러오기 시작...\n"
     ]
    },
    {
     "name": "stderr",
     "output_type": "stream",
     "text": [
      "\n",
      "save..:   0%|          | 0/35 [00:00<?, ?it/s]\u001b[A"
     ]
    },
    {
     "name": "stdout",
     "output_type": "stream",
     "text": [
      "모든 리뷰 불러오기 완료!\n"
     ]
    },
    {
     "name": "stderr",
     "output_type": "stream",
     "text": [
      "save..: 100%|██████████| 35/35 [00:01<00:00, 19.49it/s]\n"
     ]
    },
    {
     "name": "stdout",
     "output_type": "stream",
     "text": [
      "(17216, 11)\n"
     ]
    },
    {
     "name": "stderr",
     "output_type": "stream",
     "text": [
      "\r",
      "craw:  31%|███▏      | 94/300 [2:23:49<5:33:27, 97.12s/it] "
     ]
    },
    {
     "name": "stdout",
     "output_type": "stream",
     "text": [
      "리틀하노이-동부시장점 scroll\n",
      "리틀하노이-동부시장점 405\n",
      "모든 리뷰 불러오기 시작...\n",
      "모든 리뷰 불러오기 완료!\n"
     ]
    },
    {
     "name": "stderr",
     "output_type": "stream",
     "text": [
      "\n",
      "save..:   0%|          | 0/405 [00:00<?, ?it/s]\u001b[A\n",
      "save..:  17%|█▋        | 68/405 [00:03<00:14, 22.64it/s]\u001b[A\n",
      "save..:  33%|███▎      | 134/405 [00:06<00:12, 22.40it/s]\u001b[A\n",
      "save..:  46%|████▌     | 187/405 [00:09<00:10, 20.38it/s]\u001b[A\n",
      "save..:  64%|██████▍   | 259/405 [00:12<00:06, 21.33it/s]\u001b[A\n",
      "save..: 100%|██████████| 405/405 [00:16<00:00, 24.70it/s]\u001b[A\n"
     ]
    },
    {
     "name": "stdout",
     "output_type": "stream",
     "text": [
      "(17621, 11)\n"
     ]
    },
    {
     "name": "stderr",
     "output_type": "stream",
     "text": [
      "\r",
      "craw:  32%|███▏      | 95/300 [2:25:45<5:50:46, 102.67s/it]"
     ]
    },
    {
     "name": "stdout",
     "output_type": "stream",
     "text": [
      "더꼬치다-동대문전농점 scroll\n"
     ]
    },
    {
     "name": "stderr",
     "output_type": "stream",
     "text": [
      "\n",
      "save..: 100%|██████████| 1/1 [00:00<00:00, 12.19it/s]"
     ]
    },
    {
     "name": "stdout",
     "output_type": "stream",
     "text": [
      "더꼬치다-동대문전농점 1\n",
      "모든 리뷰 불러오기 시작...\n",
      "모든 리뷰 불러오기 완료!\n",
      "(17622, 11)\n"
     ]
    },
    {
     "name": "stderr",
     "output_type": "stream",
     "text": [
      "\n",
      "craw:  32%|███▏      | 96/300 [2:26:40<5:01:07, 88.56s/it] "
     ]
    },
    {
     "name": "stdout",
     "output_type": "stream",
     "text": [
      "낙지랑아구 scroll\n"
     ]
    },
    {
     "name": "stderr",
     "output_type": "stream",
     "text": [
      "\r",
      "craw:  32%|███▏      | 97/300 [2:26:52<3:41:57, 65.60s/it]"
     ]
    },
    {
     "name": "stdout",
     "output_type": "stream",
     "text": [
      "wrong shop\n",
      "구구참치 scroll\n",
      "구구참치 13\n",
      "모든 리뷰 불러오기 시작...\n"
     ]
    },
    {
     "name": "stderr",
     "output_type": "stream",
     "text": [
      "\n",
      "save..:   0%|          | 0/13 [00:00<?, ?it/s]\u001b[A"
     ]
    },
    {
     "name": "stdout",
     "output_type": "stream",
     "text": [
      "모든 리뷰 불러오기 완료!\n"
     ]
    },
    {
     "name": "stderr",
     "output_type": "stream",
     "text": [
      "save..: 100%|██████████| 13/13 [00:00<00:00, 22.12it/s]\n"
     ]
    },
    {
     "name": "stdout",
     "output_type": "stream",
     "text": [
      "(17635, 11)\n"
     ]
    },
    {
     "name": "stderr",
     "output_type": "stream",
     "text": [
      "\r",
      "craw:  33%|███▎      | 98/300 [2:27:46<3:29:07, 62.12s/it]"
     ]
    },
    {
     "name": "stdout",
     "output_type": "stream",
     "text": [
      "알부자찜전문점 scroll\n"
     ]
    },
    {
     "name": "stderr",
     "output_type": "stream",
     "text": [
      "\r",
      "craw:  33%|███▎      | 99/300 [2:27:52<2:31:23, 45.19s/it]"
     ]
    },
    {
     "name": "stdout",
     "output_type": "stream",
     "text": [
      "wrong shop\n",
      "안암동에서맛있다고소문난마라탕 scroll\n"
     ]
    },
    {
     "name": "stderr",
     "output_type": "stream",
     "text": [
      "\n",
      "save..: 100%|██████████| 2/2 [00:00<00:00, 1044.79it/s]"
     ]
    },
    {
     "name": "stdout",
     "output_type": "stream",
     "text": [
      "안암동에서맛있다고소문난마라탕 2\n",
      "모든 리뷰 불러오기 시작...\n",
      "모든 리뷰 불러오기 완료!\n"
     ]
    },
    {
     "name": "stderr",
     "output_type": "stream",
     "text": [
      "\n"
     ]
    },
    {
     "name": "stdout",
     "output_type": "stream",
     "text": [
      "(17637, 11)\n"
     ]
    },
    {
     "name": "stderr",
     "output_type": "stream",
     "text": [
      "\r",
      "craw:  33%|███▎      | 100/300 [2:28:55<2:48:22, 50.51s/it]"
     ]
    },
    {
     "name": "stdout",
     "output_type": "stream",
     "text": [
      "늘통큰감자탕-전농점 scroll\n"
     ]
    },
    {
     "name": "stderr",
     "output_type": "stream",
     "text": [
      "\n",
      "save..:   0%|          | 0/6 [00:00<?, ?it/s]\u001b[A"
     ]
    },
    {
     "name": "stdout",
     "output_type": "stream",
     "text": [
      "늘통큰감자탕-전농점 6\n",
      "모든 리뷰 불러오기 시작...\n",
      "모든 리뷰 불러오기 완료!\n"
     ]
    },
    {
     "name": "stderr",
     "output_type": "stream",
     "text": [
      "save..: 100%|██████████| 6/6 [00:00<00:00, 11.09it/s]\n"
     ]
    },
    {
     "name": "stdout",
     "output_type": "stream",
     "text": [
      "(17643, 11)\n"
     ]
    },
    {
     "name": "stderr",
     "output_type": "stream",
     "text": [
      "\r",
      "craw:  34%|███▎      | 101/300 [2:29:12<2:14:26, 40.53s/it]"
     ]
    },
    {
     "name": "stdout",
     "output_type": "stream",
     "text": [
      "육감-외대점 scroll\n"
     ]
    },
    {
     "name": "stderr",
     "output_type": "stream",
     "text": [
      "\n",
      "save..:   0%|          | 0/7 [00:00<?, ?it/s]\u001b[A"
     ]
    },
    {
     "name": "stdout",
     "output_type": "stream",
     "text": [
      "육감-외대점 7\n",
      "모든 리뷰 불러오기 시작...\n",
      "모든 리뷰 불러오기 완료!\n"
     ]
    },
    {
     "name": "stderr",
     "output_type": "stream",
     "text": [
      "save..: 100%|██████████| 7/7 [00:00<00:00, 12.08it/s]\n"
     ]
    },
    {
     "name": "stdout",
     "output_type": "stream",
     "text": [
      "(17650, 11)\n"
     ]
    },
    {
     "name": "stderr",
     "output_type": "stream",
     "text": [
      "\r",
      "craw:  34%|███▍      | 102/300 [2:29:44<2:05:20, 37.98s/it]"
     ]
    },
    {
     "name": "stdout",
     "output_type": "stream",
     "text": [
      "모전여전 scroll\n",
      "모전여전 57\n",
      "모든 리뷰 불러오기 시작...\n",
      "모든 리뷰 불러오기 완료!\n"
     ]
    },
    {
     "name": "stderr",
     "output_type": "stream",
     "text": [
      "\n",
      "save..: 100%|██████████| 57/57 [00:02<00:00, 26.26it/s]\n"
     ]
    },
    {
     "name": "stdout",
     "output_type": "stream",
     "text": [
      "(17707, 11)\n"
     ]
    },
    {
     "name": "stderr",
     "output_type": "stream",
     "text": [
      "\r",
      "craw:  34%|███▍      | 103/300 [2:30:30<2:12:37, 40.39s/it]"
     ]
    },
    {
     "name": "stdout",
     "output_type": "stream",
     "text": [
      "청년다방-장안점 scroll\n"
     ]
    },
    {
     "name": "stderr",
     "output_type": "stream",
     "text": [
      "\r",
      "craw:  35%|███▍      | 104/300 [2:30:56<1:57:11, 35.88s/it]"
     ]
    },
    {
     "name": "stdout",
     "output_type": "stream",
     "text": [
      "wrong shop\n",
      "뚜레쥬르-용마산역점 scroll\n",
      "뚜레쥬르-용마산역점 scroll\n",
      "뚜레쥬르-용마산역점 97\n",
      "모든 리뷰 불러오기 시작...\n",
      "모든 리뷰 불러오기 완료!\n"
     ]
    },
    {
     "name": "stderr",
     "output_type": "stream",
     "text": [
      "\n",
      "save..:   0%|          | 0/97 [00:00<?, ?it/s]\u001b[A\n",
      "save..: 100%|██████████| 97/97 [00:05<00:00, 18.33it/s]\u001b[A\n"
     ]
    },
    {
     "name": "stdout",
     "output_type": "stream",
     "text": [
      "(17804, 11)\n"
     ]
    },
    {
     "name": "stderr",
     "output_type": "stream",
     "text": [
      "\r",
      "craw:  35%|███▌      | 105/300 [2:32:05<2:29:08, 45.89s/it]"
     ]
    },
    {
     "name": "stdout",
     "output_type": "stream",
     "text": [
      "미스터피자-전농점 scroll\n",
      "미스터피자-전농점 489\n",
      "모든 리뷰 불러오기 시작...\n",
      "모든 리뷰 불러오기 완료!\n"
     ]
    },
    {
     "name": "stderr",
     "output_type": "stream",
     "text": [
      "\n",
      "save..:   0%|          | 0/489 [00:00<?, ?it/s]\u001b[A\n",
      "save..:  15%|█▌        | 75/489 [00:03<00:17, 23.87it/s]\u001b[A\n",
      "save..:  27%|██▋       | 134/489 [00:06<00:15, 22.32it/s]\u001b[A\n",
      "save..:  39%|███▉      | 190/489 [00:09<00:14, 21.08it/s]\u001b[A\n",
      "save..:  61%|██████    | 297/489 [00:12<00:08, 23.94it/s]\u001b[A\n",
      "save..: 100%|██████████| 489/489 [00:17<00:00, 28.19it/s]\u001b[A\n"
     ]
    },
    {
     "name": "stdout",
     "output_type": "stream",
     "text": [
      "(18293, 11)\n"
     ]
    },
    {
     "name": "stderr",
     "output_type": "stream",
     "text": [
      "\r",
      "craw:  35%|███▌      | 106/300 [2:34:37<4:11:38, 77.83s/it]"
     ]
    },
    {
     "name": "stdout",
     "output_type": "stream",
     "text": [
      "치악산흑염소요리전문점-본점 scroll\n"
     ]
    },
    {
     "name": "stderr",
     "output_type": "stream",
     "text": [
      "\n",
      "save..:   0%|          | 0/1 [00:00<?, ?it/s]\u001b[A"
     ]
    },
    {
     "name": "stdout",
     "output_type": "stream",
     "text": [
      "치악산흑염소요리전문점-본점 1\n",
      "모든 리뷰 불러오기 시작...\n",
      "모든 리뷰 불러오기 완료!\n"
     ]
    },
    {
     "name": "stderr",
     "output_type": "stream",
     "text": [
      "save..: 100%|██████████| 1/1 [00:00<00:00,  7.96it/s]\n"
     ]
    },
    {
     "name": "stdout",
     "output_type": "stream",
     "text": [
      "(18294, 11)\n"
     ]
    },
    {
     "name": "stderr",
     "output_type": "stream",
     "text": [
      "\r",
      "craw:  36%|███▌      | 107/300 [2:35:19<3:35:31, 67.00s/it]"
     ]
    },
    {
     "name": "stdout",
     "output_type": "stream",
     "text": [
      "봉차우 scroll\n",
      "봉차우 99\n",
      "모든 리뷰 불러오기 시작...\n",
      "모든 리뷰 불러오기 완료!\n"
     ]
    },
    {
     "name": "stderr",
     "output_type": "stream",
     "text": [
      "\n",
      "save..:   0%|          | 0/99 [00:00<?, ?it/s]\u001b[A\n",
      "save..: 100%|██████████| 99/99 [00:05<00:00, 19.31it/s]\u001b[A\n"
     ]
    },
    {
     "name": "stdout",
     "output_type": "stream",
     "text": [
      "(18393, 11)\n"
     ]
    },
    {
     "name": "stderr",
     "output_type": "stream",
     "text": [
      "\r",
      "craw:  36%|███▌      | 108/300 [2:36:05<3:13:58, 60.62s/it]"
     ]
    },
    {
     "name": "stdout",
     "output_type": "stream",
     "text": [
      "미스터피자Single메뉴-전농점 scroll\n",
      "미스터피자Single메뉴-전농점 86\n",
      "모든 리뷰 불러오기 시작...\n",
      "모든 리뷰 불러오기 완료!\n"
     ]
    },
    {
     "name": "stderr",
     "output_type": "stream",
     "text": [
      "\n",
      "save..: 100%|██████████| 86/86 [00:02<00:00, 30.94it/s]\n"
     ]
    },
    {
     "name": "stdout",
     "output_type": "stream",
     "text": [
      "(18479, 11)\n"
     ]
    },
    {
     "name": "stderr",
     "output_type": "stream",
     "text": [
      "\r",
      "craw:  36%|███▋      | 109/300 [2:36:54<3:02:30, 57.33s/it]"
     ]
    },
    {
     "name": "stdout",
     "output_type": "stream",
     "text": [
      "연안식당-동대문구청점 scroll\n"
     ]
    },
    {
     "name": "stderr",
     "output_type": "stream",
     "text": [
      "\r",
      "craw:  37%|███▋      | 110/300 [2:37:11<2:23:12, 45.23s/it]"
     ]
    },
    {
     "name": "stdout",
     "output_type": "stream",
     "text": [
      "wrong shop\n",
      "소문난순대국-면목시장입구점 scroll\n",
      "소문난순대국-면목시장입구점 24\n",
      "모든 리뷰 불러오기 시작...\n"
     ]
    },
    {
     "name": "stderr",
     "output_type": "stream",
     "text": [
      "\n",
      "save..:   0%|          | 0/24 [00:00<?, ?it/s]\u001b[A"
     ]
    },
    {
     "name": "stdout",
     "output_type": "stream",
     "text": [
      "모든 리뷰 불러오기 완료!\n"
     ]
    },
    {
     "name": "stderr",
     "output_type": "stream",
     "text": [
      "save..: 100%|██████████| 24/24 [00:00<00:00, 36.66it/s]\n"
     ]
    },
    {
     "name": "stdout",
     "output_type": "stream",
     "text": [
      "(18503, 11)\n"
     ]
    },
    {
     "name": "stderr",
     "output_type": "stream",
     "text": [
      "\r",
      "craw:  37%|███▋      | 111/300 [2:37:37<2:03:44, 39.28s/it]"
     ]
    },
    {
     "name": "stdout",
     "output_type": "stream",
     "text": [
      "장수닭도리탕&감자탕 scroll\n"
     ]
    },
    {
     "name": "stderr",
     "output_type": "stream",
     "text": [
      "\n",
      "save..: 100%|██████████| 1/1 [00:00<00:00, 16.61it/s]"
     ]
    },
    {
     "name": "stdout",
     "output_type": "stream",
     "text": [
      "장수닭도리탕&감자탕 1\n",
      "모든 리뷰 불러오기 시작...\n",
      "모든 리뷰 불러오기 완료!\n",
      "(18504, 11)\n"
     ]
    },
    {
     "name": "stderr",
     "output_type": "stream",
     "text": [
      "\n",
      "craw:  37%|███▋      | 112/300 [2:38:03<1:51:01, 35.43s/it]"
     ]
    },
    {
     "name": "stdout",
     "output_type": "stream",
     "text": [
      "치요남치킨-장안점 scroll\n"
     ]
    },
    {
     "name": "stderr",
     "output_type": "stream",
     "text": [
      "\r",
      "craw:  38%|███▊      | 113/300 [2:38:12<1:25:34, 27.46s/it]"
     ]
    },
    {
     "name": "stdout",
     "output_type": "stream",
     "text": [
      "wrong shop\n",
      "964커피로스터리-상봉점 scroll\n"
     ]
    },
    {
     "name": "stderr",
     "output_type": "stream",
     "text": [
      "\n",
      "save..:   0%|          | 0/4 [00:00<?, ?it/s]\u001b[A"
     ]
    },
    {
     "name": "stdout",
     "output_type": "stream",
     "text": [
      "964커피로스터리-상봉점 4\n",
      "모든 리뷰 불러오기 시작...\n",
      "모든 리뷰 불러오기 완료!\n"
     ]
    },
    {
     "name": "stderr",
     "output_type": "stream",
     "text": [
      "save..: 100%|██████████| 4/4 [00:00<00:00, 10.98it/s]\n"
     ]
    },
    {
     "name": "stdout",
     "output_type": "stream",
     "text": [
      "(18508, 11)\n"
     ]
    },
    {
     "name": "stderr",
     "output_type": "stream",
     "text": [
      "\r",
      "craw:  38%|███▊      | 114/300 [2:38:42<1:27:57, 28.37s/it]"
     ]
    },
    {
     "name": "stdout",
     "output_type": "stream",
     "text": [
      "냠냠밥집 scroll\n"
     ]
    },
    {
     "name": "stderr",
     "output_type": "stream",
     "text": [
      "\r",
      "craw:  38%|███▊      | 115/300 [2:39:13<1:29:01, 28.87s/it]"
     ]
    },
    {
     "name": "stdout",
     "output_type": "stream",
     "text": [
      "wrong shop\n",
      "먹깨비-본점 scroll\n",
      "먹깨비-본점 scroll\n",
      "먹깨비-본점 759\n",
      "모든 리뷰 불러오기 시작...\n",
      "모든 리뷰 불러오기 완료!\n"
     ]
    },
    {
     "name": "stderr",
     "output_type": "stream",
     "text": [
      "\n",
      "save..:   0%|          | 0/759 [00:00<?, ?it/s]\u001b[A\n",
      "save..:  18%|█▊        | 136/759 [00:03<00:13, 44.84it/s]\u001b[A\n",
      "save..:  33%|███▎      | 248/759 [00:06<00:12, 42.22it/s]\u001b[A\n",
      "save..:  47%|████▋     | 355/759 [00:09<00:10, 39.90it/s]\u001b[A\n",
      "save..:  57%|█████▋    | 431/759 [00:12<00:09, 33.41it/s]\u001b[A\n",
      "save..:  67%|██████▋   | 506/759 [00:15<00:08, 28.73it/s]\u001b[A\n",
      "save..: 100%|██████████| 759/759 [00:20<00:00, 36.57it/s]\u001b[A\n"
     ]
    },
    {
     "name": "stdout",
     "output_type": "stream",
     "text": [
      "(19267, 11)\n"
     ]
    },
    {
     "name": "stderr",
     "output_type": "stream",
     "text": [
      "\r",
      "craw:  39%|███▊      | 116/300 [2:42:55<4:26:58, 87.06s/it]"
     ]
    },
    {
     "name": "stdout",
     "output_type": "stream",
     "text": [
      "이디야커피-청량리점 scroll\n",
      "이디야커피-청량리점 4\n",
      "모든 리뷰 불러오기 시작...\n",
      "모든 리뷰 불러오기 완료!\n"
     ]
    },
    {
     "name": "stderr",
     "output_type": "stream",
     "text": [
      "\n",
      "save..: 100%|██████████| 4/4 [00:00<00:00, 1037.04it/s]\n"
     ]
    },
    {
     "name": "stdout",
     "output_type": "stream",
     "text": [
      "(19271, 11)\n"
     ]
    },
    {
     "name": "stderr",
     "output_type": "stream",
     "text": [
      "\r",
      "craw:  39%|███▉      | 117/300 [2:43:50<3:56:06, 77.41s/it]"
     ]
    },
    {
     "name": "stdout",
     "output_type": "stream",
     "text": [
      "마라천국-본점 scroll\n"
     ]
    },
    {
     "name": "stderr",
     "output_type": "stream",
     "text": [
      "\r",
      "craw:  39%|███▉      | 118/300 [2:44:20<3:11:44, 63.21s/it]"
     ]
    },
    {
     "name": "stdout",
     "output_type": "stream",
     "text": [
      "wrong shop\n",
      "이경규의압구정김밥-이문점 scroll\n",
      "이경규의압구정김밥-이문점 scroll\n",
      "이경규의압구정김밥-이문점 266\n",
      "모든 리뷰 불러오기 시작...\n",
      "모든 리뷰 불러오기 완료!\n"
     ]
    },
    {
     "name": "stderr",
     "output_type": "stream",
     "text": [
      "\n",
      "save..:   0%|          | 0/266 [00:00<?, ?it/s]\u001b[A\n",
      "save..:  21%|██        | 56/266 [00:03<00:11, 18.28it/s]\u001b[A\n",
      "save..:  43%|████▎     | 115/266 [00:06<00:08, 18.39it/s]\u001b[A\n",
      "save..:  68%|██████▊   | 180/266 [00:09<00:04, 19.20it/s]\u001b[A\n",
      "save..: 100%|██████████| 266/266 [00:12<00:00, 21.09it/s]\u001b[A\n"
     ]
    },
    {
     "name": "stdout",
     "output_type": "stream",
     "text": [
      "(19537, 11)\n"
     ]
    },
    {
     "name": "stderr",
     "output_type": "stream",
     "text": [
      "\r",
      "craw:  40%|███▉      | 119/300 [2:46:05<3:47:55, 75.56s/it]"
     ]
    },
    {
     "name": "stdout",
     "output_type": "stream",
     "text": [
      "두마리찜닭두찜-동대문휘경점 scroll\n",
      "두마리찜닭두찜-동대문휘경점 76\n",
      "모든 리뷰 불러오기 시작...\n",
      "모든 리뷰 불러오기 완료!\n"
     ]
    },
    {
     "name": "stderr",
     "output_type": "stream",
     "text": [
      "\n",
      "save..:   0%|          | 0/76 [00:00<?, ?it/s]\u001b[A\n",
      "save..: 100%|██████████| 76/76 [00:04<00:00, 17.93it/s]\u001b[A\n"
     ]
    },
    {
     "name": "stdout",
     "output_type": "stream",
     "text": [
      "(19613, 11)\n"
     ]
    },
    {
     "name": "stderr",
     "output_type": "stream",
     "text": [
      "\r",
      "craw:  40%|████      | 120/300 [2:46:52<3:21:04, 67.02s/it]"
     ]
    },
    {
     "name": "stdout",
     "output_type": "stream",
     "text": [
      "삽교원조두리곱창 scroll\n"
     ]
    },
    {
     "name": "stderr",
     "output_type": "stream",
     "text": [
      "\r",
      "craw:  40%|████      | 121/300 [2:47:04<2:30:46, 50.54s/it]"
     ]
    },
    {
     "name": "stdout",
     "output_type": "stream",
     "text": [
      "wrong shop\n",
      "끼니매운갈비찜전문점 scroll\n"
     ]
    },
    {
     "name": "stderr",
     "output_type": "stream",
     "text": [
      "\n",
      "save..:   0%|          | 0/8 [00:00<?, ?it/s]\u001b[A"
     ]
    },
    {
     "name": "stdout",
     "output_type": "stream",
     "text": [
      "끼니매운갈비찜전문점 8\n",
      "모든 리뷰 불러오기 시작...\n",
      "모든 리뷰 불러오기 완료!\n"
     ]
    },
    {
     "name": "stderr",
     "output_type": "stream",
     "text": [
      "save..: 100%|██████████| 8/8 [00:00<00:00, 11.27it/s]\n"
     ]
    },
    {
     "name": "stdout",
     "output_type": "stream",
     "text": [
      "(19621, 11)\n"
     ]
    },
    {
     "name": "stderr",
     "output_type": "stream",
     "text": [
      "\r",
      "craw:  41%|████      | 122/300 [2:47:56<2:30:55, 50.88s/it]"
     ]
    },
    {
     "name": "stdout",
     "output_type": "stream",
     "text": [
      "직화쭈꾸미잘하는직앤쿡 scroll\n",
      "직화쭈꾸미잘하는직앤쿡 180\n",
      "모든 리뷰 불러오기 시작...\n",
      "모든 리뷰 불러오기 완료!\n"
     ]
    },
    {
     "name": "stderr",
     "output_type": "stream",
     "text": [
      "\n",
      "save..:   0%|          | 0/180 [00:00<?, ?it/s]\u001b[A\n",
      "save..:  39%|███▉      | 70/180 [00:03<00:04, 23.12it/s]\u001b[A\n",
      "save..: 100%|██████████| 180/180 [00:08<00:00, 21.10it/s]\u001b[A\n"
     ]
    },
    {
     "name": "stdout",
     "output_type": "stream",
     "text": [
      "(19801, 11)\n"
     ]
    },
    {
     "name": "stderr",
     "output_type": "stream",
     "text": [
      "\r",
      "craw:  41%|████      | 123/300 [2:48:57<2:39:34, 54.09s/it]"
     ]
    },
    {
     "name": "stdout",
     "output_type": "stream",
     "text": [
      "존맛탱치밥치킨-군자역점 scroll\n",
      "존맛탱치밥치킨-군자역점 68\n",
      "모든 리뷰 불러오기 시작...\n",
      "모든 리뷰 불러오기 완료!\n"
     ]
    },
    {
     "name": "stderr",
     "output_type": "stream",
     "text": [
      "\n",
      "save..:   0%|          | 0/68 [00:00<?, ?it/s]\u001b[A\n",
      "save..: 100%|██████████| 68/68 [00:03<00:00, 19.78it/s]\u001b[A\n"
     ]
    },
    {
     "name": "stdout",
     "output_type": "stream",
     "text": [
      "(19869, 11)\n"
     ]
    },
    {
     "name": "stderr",
     "output_type": "stream",
     "text": [
      "\r",
      "craw:  41%|████▏     | 124/300 [2:49:25<2:15:49, 46.31s/it]"
     ]
    },
    {
     "name": "stdout",
     "output_type": "stream",
     "text": [
      "한식장인 scroll\n",
      "한식장인 78\n",
      "모든 리뷰 불러오기 시작...\n",
      "모든 리뷰 불러오기 완료!\n"
     ]
    },
    {
     "name": "stderr",
     "output_type": "stream",
     "text": [
      "\n",
      "save..:   0%|          | 0/78 [00:00<?, ?it/s]\u001b[A\n",
      "save..: 100%|██████████| 78/78 [00:04<00:00, 18.00it/s]\u001b[A\n"
     ]
    },
    {
     "name": "stdout",
     "output_type": "stream",
     "text": [
      "(19947, 11)\n"
     ]
    },
    {
     "name": "stderr",
     "output_type": "stream",
     "text": [
      "\r",
      "craw:  42%|████▏     | 125/300 [2:49:59<2:04:29, 42.68s/it]"
     ]
    },
    {
     "name": "stdout",
     "output_type": "stream",
     "text": [
      "중앙아구찜&탕 scroll\n",
      "중앙아구찜&탕 1901\n",
      "모든 리뷰 불러오기 시작...\n",
      "모든 리뷰 불러오기 완료!\n"
     ]
    },
    {
     "name": "stderr",
     "output_type": "stream",
     "text": [
      "\n",
      "save..:   0%|          | 0/1901 [00:00<?, ?it/s]\u001b[A\n",
      "save..:   3%|▎         | 63/1901 [00:03<01:29, 20.64it/s]\u001b[A\n",
      "save..:   7%|▋         | 136/1901 [00:06<01:21, 21.60it/s]\u001b[A\n",
      "save..:  10%|█         | 198/1901 [00:09<01:20, 21.15it/s]\u001b[A\n",
      "save..:  14%|█▍        | 264/1901 [00:12<01:17, 21.22it/s]\u001b[A\n",
      "save..:  18%|█▊        | 334/1901 [00:15<01:12, 21.69it/s]\u001b[A\n",
      "save..:  22%|██▏       | 411/1901 [00:18<01:05, 22.70it/s]\u001b[A\n",
      "save..:  26%|██▌       | 485/1901 [00:21<01:01, 23.15it/s]\u001b[A\n",
      "save..:  30%|██▉       | 566/1901 [00:24<00:55, 24.08it/s]\u001b[A\n",
      "save..:  34%|███▍      | 646/1901 [00:27<00:50, 24.73it/s]\u001b[A\n",
      "save..:  39%|███▉      | 742/1901 [00:30<00:43, 26.34it/s]\u001b[A\n",
      "save..:  44%|████▎     | 828/1901 [00:33<00:40, 26.74it/s]\u001b[A\n",
      "save..:  48%|████▊     | 908/1901 [00:36<00:38, 25.88it/s]\u001b[A\n",
      "save..:  52%|█████▏    | 986/1901 [00:40<00:36, 24.85it/s]\u001b[A\n",
      "save..:  58%|█████▊    | 1108/1901 [00:43<00:28, 27.89it/s]\u001b[A\n",
      "save..:  63%|██████▎   | 1196/1901 [00:46<00:25, 27.32it/s]\u001b[A\n",
      "save..:  67%|██████▋   | 1281/1901 [00:50<00:22, 26.96it/s]\u001b[A\n",
      "save..:  72%|███████▏  | 1364/1901 [00:53<00:20, 25.83it/s]\u001b[A\n",
      "save..:  77%|███████▋  | 1468/1901 [00:56<00:15, 27.76it/s]\u001b[A\n",
      "save..:  83%|████████▎ | 1580/1901 [00:59<00:10, 29.99it/s]\u001b[A\n",
      "save..: 100%|██████████| 1901/1901 [01:05<00:00, 28.99it/s]\u001b[A\n"
     ]
    },
    {
     "name": "stdout",
     "output_type": "stream",
     "text": [
      "(21848, 11)\n"
     ]
    },
    {
     "name": "stderr",
     "output_type": "stream",
     "text": [
      "\r",
      "craw:  42%|████▏     | 126/300 [2:59:46<9:56:36, 205.73s/it]"
     ]
    },
    {
     "name": "stdout",
     "output_type": "stream",
     "text": [
      "써브웨이-신설동역점 scroll\n",
      "써브웨이-신설동역점 544\n",
      "모든 리뷰 불러오기 시작...\n",
      "모든 리뷰 불러오기 완료!\n"
     ]
    },
    {
     "name": "stderr",
     "output_type": "stream",
     "text": [
      "\n",
      "save..:   0%|          | 0/544 [00:00<?, ?it/s]\u001b[A\n",
      "save..:  14%|█▍        | 76/544 [00:03<00:18, 25.14it/s]\u001b[A\n",
      "save..:  24%|██▍       | 131/544 [00:06<00:18, 22.20it/s]\u001b[A\n",
      "save..:  32%|███▏      | 175/544 [00:09<00:19, 19.18it/s]\u001b[A\n",
      "save..:  43%|████▎     | 234/544 [00:12<00:16, 19.30it/s]\u001b[A\n",
      "save..:  55%|█████▌    | 300/544 [00:15<00:12, 19.96it/s]\u001b[A\n",
      "save..:  65%|██████▌   | 354/544 [00:18<00:09, 19.06it/s]\u001b[A\n",
      "save..: 100%|██████████| 544/544 [00:24<00:00, 22.51it/s]\u001b[A\n"
     ]
    },
    {
     "name": "stdout",
     "output_type": "stream",
     "text": [
      "(22392, 11)\n"
     ]
    },
    {
     "name": "stderr",
     "output_type": "stream",
     "text": [
      "\r",
      "craw:  42%|████▏     | 127/300 [3:02:38<9:24:24, 195.75s/it]"
     ]
    },
    {
     "name": "stdout",
     "output_type": "stream",
     "text": [
      "평양냉면-본점 scroll\n",
      "평양냉면-본점 32\n",
      "모든 리뷰 불러오기 시작...\n",
      "모든 리뷰 불러오기 완료!\n"
     ]
    },
    {
     "name": "stderr",
     "output_type": "stream",
     "text": [
      "\n",
      "save..: 100%|██████████| 32/32 [00:01<00:00, 21.36it/s]\n"
     ]
    },
    {
     "name": "stdout",
     "output_type": "stream",
     "text": [
      "(22424, 11)\n"
     ]
    },
    {
     "name": "stderr",
     "output_type": "stream",
     "text": [
      "\r",
      "craw:  43%|████▎     | 128/300 [3:03:01<6:52:34, 143.92s/it]"
     ]
    },
    {
     "name": "stdout",
     "output_type": "stream",
     "text": [
      "우찌네녹두파전 scroll\n",
      "우찌네녹두파전 52\n",
      "모든 리뷰 불러오기 시작...\n",
      "모든 리뷰 불러오기 완료!\n"
     ]
    },
    {
     "name": "stderr",
     "output_type": "stream",
     "text": [
      "\n",
      "save..:   0%|          | 0/52 [00:00<?, ?it/s]\u001b[A\n",
      "save..: 100%|██████████| 52/52 [00:03<00:00, 14.66it/s]\u001b[A\n"
     ]
    },
    {
     "name": "stdout",
     "output_type": "stream",
     "text": [
      "(22476, 11)\n"
     ]
    },
    {
     "name": "stderr",
     "output_type": "stream",
     "text": [
      "\r",
      "craw:  43%|████▎     | 129/300 [3:03:57<5:34:30, 117.37s/it]"
     ]
    },
    {
     "name": "stdout",
     "output_type": "stream",
     "text": [
      "고대정문앞백미향마라탕 scroll\n",
      "고대정문앞백미향마라탕 54\n",
      "모든 리뷰 불러오기 시작...\n"
     ]
    },
    {
     "name": "stderr",
     "output_type": "stream",
     "text": [
      "\n",
      "save..:   0%|          | 0/54 [00:00<?, ?it/s]\u001b[A"
     ]
    },
    {
     "name": "stdout",
     "output_type": "stream",
     "text": [
      "모든 리뷰 불러오기 완료!\n"
     ]
    },
    {
     "name": "stderr",
     "output_type": "stream",
     "text": [
      "\n",
      "save..: 100%|██████████| 54/54 [00:03<00:00, 17.95it/s]\u001b[A\n"
     ]
    },
    {
     "name": "stdout",
     "output_type": "stream",
     "text": [
      "(22530, 11)\n"
     ]
    },
    {
     "name": "stderr",
     "output_type": "stream",
     "text": [
      "\r",
      "craw:  43%|████▎     | 130/300 [3:05:13<4:57:28, 104.99s/it]"
     ]
    },
    {
     "name": "stdout",
     "output_type": "stream",
     "text": [
      "신의주부대찌개-경희대점 scroll\n"
     ]
    },
    {
     "name": "stderr",
     "output_type": "stream",
     "text": [
      "\n",
      "save..:   0%|          | 0/8 [00:00<?, ?it/s]\u001b[A"
     ]
    },
    {
     "name": "stdout",
     "output_type": "stream",
     "text": [
      "신의주부대찌개-경희대점 8\n",
      "모든 리뷰 불러오기 시작...\n",
      "모든 리뷰 불러오기 완료!\n"
     ]
    },
    {
     "name": "stderr",
     "output_type": "stream",
     "text": [
      "save..: 100%|██████████| 8/8 [00:00<00:00, 39.00it/s]\n"
     ]
    },
    {
     "name": "stdout",
     "output_type": "stream",
     "text": [
      "(22538, 11)\n"
     ]
    },
    {
     "name": "stderr",
     "output_type": "stream",
     "text": [
      "\r",
      "craw:  44%|████▎     | 131/300 [3:06:01<4:08:11, 88.12s/it] "
     ]
    },
    {
     "name": "stdout",
     "output_type": "stream",
     "text": [
      "롯데리아-외대역점 scroll\n",
      "롯데리아-외대역점 237\n",
      "모든 리뷰 불러오기 시작...\n",
      "모든 리뷰 불러오기 완료!\n"
     ]
    },
    {
     "name": "stderr",
     "output_type": "stream",
     "text": [
      "\n",
      "save..:   0%|          | 0/237 [00:00<?, ?it/s]\u001b[A\n",
      "save..:  28%|██▊       | 67/237 [00:03<00:07, 22.05it/s]\u001b[A\n",
      "save..:  65%|██████▍   | 153/237 [00:06<00:03, 23.63it/s]\u001b[A\n",
      "save..: 100%|██████████| 237/237 [00:10<00:00, 23.42it/s]\u001b[A\n"
     ]
    },
    {
     "name": "stdout",
     "output_type": "stream",
     "text": [
      "(22775, 11)\n"
     ]
    },
    {
     "name": "stderr",
     "output_type": "stream",
     "text": [
      "\r",
      "craw:  44%|████▍     | 132/300 [3:07:14<3:53:57, 83.56s/it]"
     ]
    },
    {
     "name": "stdout",
     "output_type": "stream",
     "text": [
      "조선수제돈까스-본점 scroll\n",
      "조선수제돈까스-본점 84\n",
      "모든 리뷰 불러오기 시작...\n",
      "모든 리뷰 불러오기 완료!\n"
     ]
    },
    {
     "name": "stderr",
     "output_type": "stream",
     "text": [
      "\n",
      "save..:   0%|          | 0/84 [00:00<?, ?it/s]\u001b[A\n",
      "save..: 100%|██████████| 84/84 [00:04<00:00, 19.52it/s]\u001b[A\n"
     ]
    },
    {
     "name": "stdout",
     "output_type": "stream",
     "text": [
      "(22859, 11)\n"
     ]
    },
    {
     "name": "stderr",
     "output_type": "stream",
     "text": [
      "\r",
      "craw:  44%|████▍     | 133/300 [3:08:05<3:25:10, 73.72s/it]"
     ]
    },
    {
     "name": "stdout",
     "output_type": "stream",
     "text": [
      "문립 scroll\n",
      "문립 122\n",
      "모든 리뷰 불러오기 시작...\n",
      "모든 리뷰 불러오기 완료!\n"
     ]
    },
    {
     "name": "stderr",
     "output_type": "stream",
     "text": [
      "\n",
      "save..:   0%|          | 0/122 [00:00<?, ?it/s]\u001b[A\n",
      "save..: 100%|██████████| 122/122 [00:04<00:00, 25.86it/s][A\n"
     ]
    },
    {
     "name": "stdout",
     "output_type": "stream",
     "text": [
      "(22981, 11)\n"
     ]
    },
    {
     "name": "stderr",
     "output_type": "stream",
     "text": [
      "\r",
      "craw:  45%|████▍     | 134/300 [3:08:50<3:00:10, 65.13s/it]"
     ]
    },
    {
     "name": "stdout",
     "output_type": "stream",
     "text": [
      "불타는맛곱창 scroll\n",
      "불타는맛곱창 15\n",
      "모든 리뷰 불러오기 시작...\n"
     ]
    },
    {
     "name": "stderr",
     "output_type": "stream",
     "text": [
      "\n",
      "save..:   0%|          | 0/15 [00:00<?, ?it/s]\u001b[A"
     ]
    },
    {
     "name": "stdout",
     "output_type": "stream",
     "text": [
      "모든 리뷰 불러오기 완료!\n"
     ]
    },
    {
     "name": "stderr",
     "output_type": "stream",
     "text": [
      "save..: 100%|██████████| 15/15 [00:00<00:00, 24.07it/s]\n"
     ]
    },
    {
     "name": "stdout",
     "output_type": "stream",
     "text": [
      "(22996, 11)\n"
     ]
    },
    {
     "name": "stderr",
     "output_type": "stream",
     "text": [
      "\r",
      "craw:  45%|████▌     | 135/300 [3:09:09<2:21:20, 51.40s/it]"
     ]
    },
    {
     "name": "stdout",
     "output_type": "stream",
     "text": [
      "무나드-본점 scroll\n"
     ]
    },
    {
     "name": "stderr",
     "output_type": "stream",
     "text": [
      "\n",
      "save..: 100%|██████████| 2/2 [00:00<00:00, 27.05it/s]"
     ]
    },
    {
     "name": "stdout",
     "output_type": "stream",
     "text": [
      "무나드-본점 2\n",
      "모든 리뷰 불러오기 시작...\n",
      "모든 리뷰 불러오기 완료!\n"
     ]
    },
    {
     "name": "stderr",
     "output_type": "stream",
     "text": [
      "\n"
     ]
    },
    {
     "name": "stdout",
     "output_type": "stream",
     "text": [
      "(22998, 11)\n"
     ]
    },
    {
     "name": "stderr",
     "output_type": "stream",
     "text": [
      "\r",
      "craw:  45%|████▌     | 136/300 [3:09:34<1:58:41, 43.42s/it]"
     ]
    },
    {
     "name": "stdout",
     "output_type": "stream",
     "text": [
      "바람부리아구&명태찜 scroll\n",
      "바람부리아구&명태찜 67\n",
      "모든 리뷰 불러오기 시작...\n",
      "모든 리뷰 불러오기 완료!\n"
     ]
    },
    {
     "name": "stderr",
     "output_type": "stream",
     "text": [
      "\n",
      "save..: 100%|██████████| 67/67 [00:02<00:00, 33.05it/s]\n"
     ]
    },
    {
     "name": "stdout",
     "output_type": "stream",
     "text": [
      "(23065, 11)\n"
     ]
    },
    {
     "name": "stderr",
     "output_type": "stream",
     "text": [
      "\r",
      "craw:  46%|████▌     | 137/300 [3:10:24<2:02:55, 45.25s/it]"
     ]
    },
    {
     "name": "stdout",
     "output_type": "stream",
     "text": [
      "백돈-장안동점 scroll\n"
     ]
    },
    {
     "name": "stderr",
     "output_type": "stream",
     "text": [
      "\n",
      "save..: 100%|██████████| 4/4 [00:00<00:00, 60.68it/s]"
     ]
    },
    {
     "name": "stdout",
     "output_type": "stream",
     "text": [
      "백돈-장안동점 4\n",
      "모든 리뷰 불러오기 시작...\n",
      "모든 리뷰 불러오기 완료!\n",
      "(23069, 11)\n"
     ]
    },
    {
     "name": "stderr",
     "output_type": "stream",
     "text": [
      "\n",
      "craw:  46%|████▌     | 138/300 [3:10:49<1:45:35, 39.11s/it]"
     ]
    },
    {
     "name": "stdout",
     "output_type": "stream",
     "text": [
      "취홍 scroll\n",
      "취홍 3384\n",
      "모든 리뷰 불러오기 시작...\n",
      "모든 리뷰 불러오기 완료!\n"
     ]
    },
    {
     "name": "stderr",
     "output_type": "stream",
     "text": [
      "\n",
      "save..:   0%|          | 0/3384 [00:00<?, ?it/s]\u001b[A\n",
      "save..:   2%|▏         | 74/3384 [00:03<02:14, 24.56it/s]\u001b[A\n",
      "save..:   4%|▎         | 123/3384 [00:06<02:32, 21.33it/s]\u001b[A\n",
      "save..:   6%|▌         | 196/3384 [00:09<02:24, 22.06it/s]\u001b[A\n",
      "save..:   8%|▊         | 256/3384 [00:12<02:28, 21.10it/s]\u001b[A\n",
      "save..:  10%|▉         | 326/3384 [00:15<02:21, 21.58it/s]\u001b[A\n",
      "save..:  12%|█▏        | 398/3384 [00:18<02:15, 22.07it/s]\u001b[A\n",
      "save..:  14%|█▎        | 457/3384 [00:22<02:28, 19.71it/s]\u001b[A\n",
      "save..:  15%|█▌        | 513/3384 [00:25<02:32, 18.82it/s]\u001b[A\n",
      "save..:  18%|█▊        | 596/3384 [00:28<02:14, 20.74it/s]\u001b[A\n",
      "save..:  20%|█▉        | 669/3384 [00:31<02:05, 21.61it/s]\u001b[A\n",
      "save..:  22%|██▏       | 755/3384 [00:34<01:53, 23.20it/s]\u001b[A\n",
      "save..:  24%|██▍       | 826/3384 [00:38<01:59, 21.36it/s]\u001b[A\n",
      "save..:  27%|██▋       | 911/3384 [00:41<01:48, 22.79it/s]\u001b[A\n",
      "save..:  29%|██▉       | 982/3384 [00:45<01:51, 21.60it/s]\u001b[A\n",
      "save..:  31%|███       | 1049/3384 [00:50<02:05, 18.66it/s]\u001b[A\n",
      "save..:  33%|███▎      | 1109/3384 [00:54<02:10, 17.45it/s]\u001b[A\n",
      "save..:  34%|███▍      | 1165/3384 [00:57<02:06, 17.49it/s]\u001b[A\n",
      "save..:  36%|███▌      | 1220/3384 [01:01<02:11, 16.46it/s]\u001b[A\n",
      "save..:  38%|███▊      | 1272/3384 [01:05<02:20, 15.03it/s]\u001b[A\n",
      "save..:  39%|███▉      | 1320/3384 [01:08<02:22, 14.51it/s]\u001b[A\n",
      "save..:  41%|████      | 1385/3384 [01:11<02:05, 15.98it/s]\u001b[A\n",
      "save..:  42%|████▏     | 1436/3384 [01:15<02:03, 15.79it/s]\u001b[A\n",
      "save..:  44%|████▍     | 1496/3384 [01:18<01:52, 16.77it/s]\u001b[A\n",
      "save..:  46%|████▌     | 1549/3384 [01:21<01:51, 16.51it/s]\u001b[A\n",
      "save..:  48%|████▊     | 1621/3384 [01:24<01:38, 17.95it/s]\u001b[A\n",
      "save..:  50%|█████     | 1702/3384 [01:27<01:24, 19.80it/s]\u001b[A\n",
      "save..:  53%|█████▎    | 1783/3384 [01:30<01:15, 21.31it/s]\u001b[A\n",
      "save..:  55%|█████▌    | 1866/3384 [01:34<01:08, 22.20it/s]\u001b[A\n",
      "save..:  57%|█████▋    | 1938/3384 [01:37<01:04, 22.58it/s]\u001b[A\n",
      "save..:  61%|██████    | 2057/3384 [01:40<00:51, 25.76it/s]\u001b[A\n",
      "save..:  65%|██████▌   | 2208/3384 [01:43<00:39, 29.83it/s]\u001b[A\n",
      "save..:  68%|██████▊   | 2309/3384 [01:46<00:35, 30.26it/s]\u001b[A\n",
      "save..:  71%|███████   | 2408/3384 [01:50<00:32, 30.39it/s]\u001b[A\n",
      "save..:  74%|███████▍  | 2510/3384 [01:53<00:27, 31.36it/s]\u001b[A\n",
      "save..:  78%|███████▊  | 2651/3384 [01:56<00:21, 34.70it/s]\u001b[A\n",
      "save..:  82%|████████▏ | 2762/3384 [01:59<00:17, 34.72it/s]\u001b[A\n",
      "save..:  85%|████████▍ | 2871/3384 [02:02<00:14, 35.18it/s]\u001b[A\n",
      "save..:  90%|████████▉ | 3039/3384 [02:05<00:08, 39.59it/s]\u001b[A\n",
      "save..:  94%|█████████▎| 3166/3384 [02:08<00:05, 40.17it/s]\u001b[A\n",
      "save..: 100%|██████████| 3384/3384 [02:13<00:00, 25.44it/s]\u001b[A\n"
     ]
    },
    {
     "name": "stdout",
     "output_type": "stream",
     "text": [
      "(26453, 11)\n"
     ]
    },
    {
     "name": "stderr",
     "output_type": "stream",
     "text": [
      "\r",
      "craw:  46%|████▋     | 139/300 [3:30:26<17:00:51, 380.45s/it]"
     ]
    },
    {
     "name": "stdout",
     "output_type": "stream",
     "text": [
      "우리식당-용두점 scroll\n"
     ]
    },
    {
     "name": "stderr",
     "output_type": "stream",
     "text": [
      "\n",
      "save..:   0%|          | 0/2 [00:00<?, ?it/s]\u001b[A"
     ]
    },
    {
     "name": "stdout",
     "output_type": "stream",
     "text": [
      "우리식당-용두점 2\n",
      "모든 리뷰 불러오기 시작...\n",
      "모든 리뷰 불러오기 완료!\n"
     ]
    },
    {
     "name": "stderr",
     "output_type": "stream",
     "text": [
      "save..: 100%|██████████| 2/2 [00:00<00:00,  8.37it/s]\n"
     ]
    },
    {
     "name": "stdout",
     "output_type": "stream",
     "text": [
      "(26455, 11)\n"
     ]
    },
    {
     "name": "stderr",
     "output_type": "stream",
     "text": [
      "\r",
      "craw:  47%|████▋     | 140/300 [3:30:50<12:10:02, 273.77s/it]"
     ]
    },
    {
     "name": "stdout",
     "output_type": "stream",
     "text": [
      "가츠몽-상봉점 scroll\n",
      "가츠몽-상봉점 275\n",
      "모든 리뷰 불러오기 시작...\n",
      "모든 리뷰 불러오기 완료!\n"
     ]
    },
    {
     "name": "stderr",
     "output_type": "stream",
     "text": [
      "\n",
      "save..:   0%|          | 0/275 [00:00<?, ?it/s]\u001b[A\n",
      "save..:  17%|█▋        | 47/275 [00:03<00:14, 15.66it/s]\u001b[A\n",
      "save..:  29%|██▉       | 80/275 [00:06<00:14, 13.81it/s]\u001b[A\n",
      "save..:  39%|███▊      | 106/275 [00:09<00:14, 11.71it/s]\u001b[A\n",
      "save..:  53%|█████▎    | 146/275 [00:12<00:10, 11.92it/s]\u001b[A\n",
      "save..:  67%|██████▋   | 184/275 [00:15<00:07, 12.04it/s]\u001b[A\n",
      "save..:  78%|███████▊  | 214/275 [00:18<00:05, 11.32it/s]\u001b[A\n",
      "save..: 100%|██████████| 275/275 [00:25<00:00, 10.98it/s]\u001b[A\n"
     ]
    },
    {
     "name": "stdout",
     "output_type": "stream",
     "text": [
      "(26730, 11)\n"
     ]
    },
    {
     "name": "stderr",
     "output_type": "stream",
     "text": [
      "\r",
      "craw:  47%|████▋     | 141/300 [3:32:35<9:50:39, 222.89s/it] "
     ]
    },
    {
     "name": "stdout",
     "output_type": "stream",
     "text": [
      "아임요거트그렐-동대문점 scroll\n",
      "아임요거트그렐-동대문점 13\n",
      "모든 리뷰 불러오기 시작...\n"
     ]
    },
    {
     "name": "stderr",
     "output_type": "stream",
     "text": [
      "\n",
      "save..:   0%|          | 0/13 [00:00<?, ?it/s]\u001b[A"
     ]
    },
    {
     "name": "stdout",
     "output_type": "stream",
     "text": [
      "모든 리뷰 불러오기 완료!\n"
     ]
    },
    {
     "name": "stderr",
     "output_type": "stream",
     "text": [
      "save..: 100%|██████████| 13/13 [00:00<00:00, 18.63it/s]\n"
     ]
    },
    {
     "name": "stdout",
     "output_type": "stream",
     "text": [
      "(26743, 11)\n"
     ]
    },
    {
     "name": "stderr",
     "output_type": "stream",
     "text": [
      "\r",
      "craw:  47%|████▋     | 142/300 [3:32:52<7:05:00, 161.40s/it]"
     ]
    },
    {
     "name": "stdout",
     "output_type": "stream",
     "text": [
      "조선감저-장안본점 scroll\n"
     ]
    },
    {
     "name": "stderr",
     "output_type": "stream",
     "text": [
      "\n",
      "save..: 100%|██████████| 6/6 [00:00<00:00, 1395.70it/s]"
     ]
    },
    {
     "name": "stdout",
     "output_type": "stream",
     "text": [
      "조선감저-장안본점 6\n",
      "모든 리뷰 불러오기 시작...\n",
      "모든 리뷰 불러오기 완료!\n",
      "(26749, 11)\n"
     ]
    },
    {
     "name": "stderr",
     "output_type": "stream",
     "text": [
      "\n",
      "craw:  48%|████▊     | 143/300 [3:33:55<5:44:51, 131.79s/it]"
     ]
    },
    {
     "name": "stdout",
     "output_type": "stream",
     "text": [
      "오부장치킨-장안동점 scroll\n"
     ]
    },
    {
     "name": "stderr",
     "output_type": "stream",
     "text": [
      "\n",
      "save..:   0%|          | 0/7 [00:00<?, ?it/s]\u001b[A"
     ]
    },
    {
     "name": "stdout",
     "output_type": "stream",
     "text": [
      "오부장치킨-장안동점 7\n",
      "모든 리뷰 불러오기 시작...\n",
      "모든 리뷰 불러오기 완료!\n"
     ]
    },
    {
     "name": "stderr",
     "output_type": "stream",
     "text": [
      "save..: 100%|██████████| 7/7 [00:00<00:00, 37.18it/s]\n"
     ]
    },
    {
     "name": "stdout",
     "output_type": "stream",
     "text": [
      "(26756, 11)\n"
     ]
    },
    {
     "name": "stderr",
     "output_type": "stream",
     "text": [
      "\r",
      "craw:  48%|████▊     | 144/300 [3:34:20<4:19:21, 99.75s/it] "
     ]
    },
    {
     "name": "stdout",
     "output_type": "stream",
     "text": [
      "짱구짱구꼬마김밥앤만두 scroll\n",
      "짱구짱구꼬마김밥앤만두 160\n",
      "모든 리뷰 불러오기 시작...\n",
      "모든 리뷰 불러오기 완료!\n"
     ]
    },
    {
     "name": "stderr",
     "output_type": "stream",
     "text": [
      "\n",
      "save..:   0%|          | 0/160 [00:00<?, ?it/s]\u001b[A\n",
      "save..:  36%|███▌      | 57/160 [00:03<00:05, 18.17it/s]\u001b[A\n",
      "save..: 100%|██████████| 160/160 [00:06<00:00, 25.83it/s]\u001b[A\n"
     ]
    },
    {
     "name": "stdout",
     "output_type": "stream",
     "text": [
      "(26916, 11)\n"
     ]
    },
    {
     "name": "stderr",
     "output_type": "stream",
     "text": [
      "\r",
      "craw:  48%|████▊     | 145/300 [3:35:47<4:07:51, 95.95s/it]"
     ]
    },
    {
     "name": "stdout",
     "output_type": "stream",
     "text": [
      "얌샘김밥-답십리점 scroll\n"
     ]
    },
    {
     "name": "stderr",
     "output_type": "stream",
     "text": [
      "\r",
      "craw:  49%|████▊     | 146/300 [3:35:55<2:58:02, 69.36s/it]"
     ]
    },
    {
     "name": "stdout",
     "output_type": "stream",
     "text": [
      "wrong shop\n",
      "꼬꼬스토리-휘경점 scroll\n",
      "꼬꼬스토리-휘경점 50\n",
      "모든 리뷰 불러오기 시작...\n",
      "모든 리뷰 불러오기 완료!\n"
     ]
    },
    {
     "name": "stderr",
     "output_type": "stream",
     "text": [
      "\n",
      "save..: 100%|██████████| 50/50 [00:02<00:00, 20.63it/s]\n"
     ]
    },
    {
     "name": "stdout",
     "output_type": "stream",
     "text": [
      "(26966, 11)\n"
     ]
    },
    {
     "name": "stderr",
     "output_type": "stream",
     "text": [
      "\r",
      "craw:  49%|████▉     | 147/300 [3:36:52<2:47:29, 65.68s/it]"
     ]
    },
    {
     "name": "stdout",
     "output_type": "stream",
     "text": [
      "가마로강정-전농점 scroll\n"
     ]
    },
    {
     "name": "stderr",
     "output_type": "stream",
     "text": [
      "\r",
      "craw:  49%|████▉     | 148/300 [3:36:56<1:59:41, 47.24s/it]"
     ]
    },
    {
     "name": "stdout",
     "output_type": "stream",
     "text": [
      "wrong shop\n",
      "설빙-한양대점 scroll\n",
      "설빙-한양대점 237\n",
      "모든 리뷰 불러오기 시작...\n",
      "모든 리뷰 불러오기 완료!\n"
     ]
    },
    {
     "name": "stderr",
     "output_type": "stream",
     "text": [
      "\n",
      "save..:   0%|          | 0/237 [00:00<?, ?it/s]\u001b[A\n",
      "save..:  22%|██▏       | 52/237 [00:03<00:11, 16.60it/s]\u001b[A\n",
      "save..:  43%|████▎     | 102/237 [00:06<00:08, 16.58it/s]\u001b[A\n",
      "save..:  66%|██████▌   | 157/237 [00:09<00:04, 16.99it/s]\u001b[A\n",
      "save..: 100%|██████████| 237/237 [00:12<00:00, 18.58it/s]\u001b[A\n"
     ]
    },
    {
     "name": "stdout",
     "output_type": "stream",
     "text": [
      "(27203, 11)\n"
     ]
    },
    {
     "name": "stderr",
     "output_type": "stream",
     "text": [
      "\r",
      "craw:  50%|████▉     | 149/300 [3:38:36<2:38:41, 63.06s/it]"
     ]
    },
    {
     "name": "stdout",
     "output_type": "stream",
     "text": [
      "제일제면소-청량리역사점 scroll\n"
     ]
    },
    {
     "name": "stderr",
     "output_type": "stream",
     "text": [
      "\n",
      "save..: 100%|██████████| 4/4 [00:00<00:00, 44.97it/s]"
     ]
    },
    {
     "name": "stdout",
     "output_type": "stream",
     "text": [
      "제일제면소-청량리역사점 4\n",
      "모든 리뷰 불러오기 시작...\n",
      "모든 리뷰 불러오기 완료!\n"
     ]
    },
    {
     "name": "stderr",
     "output_type": "stream",
     "text": [
      "\n"
     ]
    },
    {
     "name": "stdout",
     "output_type": "stream",
     "text": [
      "(27207, 11)\n"
     ]
    },
    {
     "name": "stderr",
     "output_type": "stream",
     "text": [
      "\r",
      "craw:  50%|█████     | 150/300 [3:38:57<2:06:33, 50.62s/it]"
     ]
    },
    {
     "name": "stdout",
     "output_type": "stream",
     "text": [
      "버거킹-장안SK점(24) scroll\n",
      "버거킹-장안SK점(24) 267\n",
      "모든 리뷰 불러오기 시작...\n",
      "모든 리뷰 불러오기 완료!\n"
     ]
    },
    {
     "name": "stderr",
     "output_type": "stream",
     "text": [
      "\n",
      "save..:   0%|          | 0/267 [00:00<?, ?it/s]\u001b[A\n",
      "save..:  37%|███▋      | 99/267 [00:03<00:05, 31.65it/s]\u001b[A\n",
      "save..:  56%|█████▌    | 150/267 [00:06<00:04, 24.76it/s]\u001b[A\n",
      "save..: 100%|██████████| 267/267 [00:11<00:00, 23.43it/s]\u001b[A\n"
     ]
    },
    {
     "name": "stdout",
     "output_type": "stream",
     "text": [
      "(27474, 11)\n"
     ]
    },
    {
     "name": "stderr",
     "output_type": "stream",
     "text": [
      "\r",
      "craw:  50%|█████     | 151/300 [3:40:15<2:25:47, 58.71s/it]"
     ]
    },
    {
     "name": "stdout",
     "output_type": "stream",
     "text": [
      "예지현 scroll\n",
      "예지현 10\n",
      "모든 리뷰 불러오기 시작...\n"
     ]
    },
    {
     "name": "stderr",
     "output_type": "stream",
     "text": [
      "\n",
      "save..:   0%|          | 0/10 [00:00<?, ?it/s]\u001b[A"
     ]
    },
    {
     "name": "stdout",
     "output_type": "stream",
     "text": [
      "모든 리뷰 불러오기 완료!\n"
     ]
    },
    {
     "name": "stderr",
     "output_type": "stream",
     "text": [
      "save..: 100%|██████████| 10/10 [00:00<00:00, 22.67it/s]\n"
     ]
    },
    {
     "name": "stdout",
     "output_type": "stream",
     "text": [
      "(27484, 11)\n"
     ]
    },
    {
     "name": "stderr",
     "output_type": "stream",
     "text": [
      "\r",
      "craw:  51%|█████     | 152/300 [3:41:20<2:29:44, 60.71s/it]"
     ]
    },
    {
     "name": "stdout",
     "output_type": "stream",
     "text": [
      "영산포홍어삼합 scroll\n",
      "영산포홍어삼합 161\n",
      "모든 리뷰 불러오기 시작...\n",
      "모든 리뷰 불러오기 완료!\n"
     ]
    },
    {
     "name": "stderr",
     "output_type": "stream",
     "text": [
      "\n",
      "save..:   0%|          | 0/161 [00:00<?, ?it/s]\u001b[A\n",
      "save..: 100%|██████████| 161/161 [00:05<00:00, 31.58it/s][A\n"
     ]
    },
    {
     "name": "stdout",
     "output_type": "stream",
     "text": [
      "(27645, 11)\n"
     ]
    },
    {
     "name": "stderr",
     "output_type": "stream",
     "text": [
      "\r",
      "craw:  51%|█████     | 153/300 [3:42:11<2:21:27, 57.74s/it]"
     ]
    },
    {
     "name": "stdout",
     "output_type": "stream",
     "text": [
      "쌀똑핫도그-회기점 scroll\n",
      "쌀똑핫도그-회기점 67\n",
      "모든 리뷰 불러오기 시작...\n",
      "모든 리뷰 불러오기 완료!\n"
     ]
    },
    {
     "name": "stderr",
     "output_type": "stream",
     "text": [
      "\n",
      "save..:   0%|          | 0/67 [00:00<?, ?it/s]\u001b[A\n",
      "save..: 100%|██████████| 67/67 [00:04<00:00, 14.27it/s]\u001b[A\n"
     ]
    },
    {
     "name": "stdout",
     "output_type": "stream",
     "text": [
      "(27712, 11)\n"
     ]
    },
    {
     "name": "stderr",
     "output_type": "stream",
     "text": [
      "\r",
      "craw:  51%|█████▏    | 154/300 [3:42:44<2:02:23, 50.30s/it]"
     ]
    },
    {
     "name": "stdout",
     "output_type": "stream",
     "text": [
      "노브랜드버거-경희대점 scroll\n",
      "노브랜드버거-경희대점 23\n",
      "모든 리뷰 불러오기 시작...\n"
     ]
    },
    {
     "name": "stderr",
     "output_type": "stream",
     "text": [
      "\n",
      "save..:   0%|          | 0/23 [00:00<?, ?it/s]\u001b[A"
     ]
    },
    {
     "name": "stdout",
     "output_type": "stream",
     "text": [
      "모든 리뷰 불러오기 완료!\n"
     ]
    },
    {
     "name": "stderr",
     "output_type": "stream",
     "text": [
      "save..: 100%|██████████| 23/23 [00:01<00:00, 19.14it/s]\n"
     ]
    },
    {
     "name": "stdout",
     "output_type": "stream",
     "text": [
      "(27735, 11)\n"
     ]
    },
    {
     "name": "stderr",
     "output_type": "stream",
     "text": [
      "\r",
      "craw:  52%|█████▏    | 155/300 [3:43:17<1:49:15, 45.21s/it]"
     ]
    },
    {
     "name": "stdout",
     "output_type": "stream",
     "text": [
      "아워웨이브(ourwave) scroll\n"
     ]
    },
    {
     "name": "stderr",
     "output_type": "stream",
     "text": [
      "\n",
      "save..:   0%|          | 0/3 [00:00<?, ?it/s]\u001b[A"
     ]
    },
    {
     "name": "stdout",
     "output_type": "stream",
     "text": [
      "아워웨이브(ourwave) 3\n",
      "모든 리뷰 불러오기 시작...\n",
      "모든 리뷰 불러오기 완료!\n"
     ]
    },
    {
     "name": "stderr",
     "output_type": "stream",
     "text": [
      "save..: 100%|██████████| 3/3 [00:00<00:00, 14.27it/s]\n"
     ]
    },
    {
     "name": "stdout",
     "output_type": "stream",
     "text": [
      "(27738, 11)\n"
     ]
    },
    {
     "name": "stderr",
     "output_type": "stream",
     "text": [
      "\r",
      "craw:  52%|█████▏    | 156/300 [3:43:34<1:28:06, 36.71s/it]"
     ]
    },
    {
     "name": "stdout",
     "output_type": "stream",
     "text": [
      "커피나인-본점 scroll\n",
      "커피나인-본점 60\n",
      "모든 리뷰 불러오기 시작...\n",
      "모든 리뷰 불러오기 완료!\n"
     ]
    },
    {
     "name": "stderr",
     "output_type": "stream",
     "text": [
      "\n",
      "save..: 100%|██████████| 60/60 [00:02<00:00, 20.55it/s]\n"
     ]
    },
    {
     "name": "stdout",
     "output_type": "stream",
     "text": [
      "(27798, 11)\n"
     ]
    },
    {
     "name": "stderr",
     "output_type": "stream",
     "text": [
      "\r",
      "craw:  52%|█████▏    | 157/300 [3:44:12<1:27:52, 36.87s/it]"
     ]
    },
    {
     "name": "stdout",
     "output_type": "stream",
     "text": [
      "김장금김치찌개&김치갈비찜 scroll\n"
     ]
    },
    {
     "name": "stderr",
     "output_type": "stream",
     "text": [
      "\r",
      "craw:  53%|█████▎    | 158/300 [3:44:19<1:06:13, 27.98s/it]"
     ]
    },
    {
     "name": "stdout",
     "output_type": "stream",
     "text": [
      "wrong shop\n",
      "오늘도마라탕-장안점 scroll\n"
     ]
    },
    {
     "name": "stderr",
     "output_type": "stream",
     "text": [
      "\n",
      "save..: 100%|██████████| 3/3 [00:00<00:00, 1224.14it/s]"
     ]
    },
    {
     "name": "stdout",
     "output_type": "stream",
     "text": [
      "오늘도마라탕-장안점 3\n",
      "모든 리뷰 불러오기 시작...\n",
      "모든 리뷰 불러오기 완료!\n",
      "(27801, 11)\n"
     ]
    },
    {
     "name": "stderr",
     "output_type": "stream",
     "text": [
      "\n",
      "craw:  53%|█████▎    | 159/300 [3:44:57<1:12:59, 31.06s/it]"
     ]
    },
    {
     "name": "stdout",
     "output_type": "stream",
     "text": [
      "배스킨라빈스-전농점 scroll\n"
     ]
    },
    {
     "name": "stderr",
     "output_type": "stream",
     "text": [
      "\r",
      "craw:  53%|█████▎    | 160/300 [3:45:21<1:07:09, 28.78s/it]"
     ]
    },
    {
     "name": "stdout",
     "output_type": "stream",
     "text": [
      "wrong shop\n",
      "셰플리-셰프의건강한한끼(동대문) scroll\n",
      "셰플리-셰프의건강한한끼(동대문) scroll\n",
      "셰플리-셰프의건강한한끼(동대문) 2671\n",
      "모든 리뷰 불러오기 시작...\n",
      "모든 리뷰 불러오기 완료!\n"
     ]
    },
    {
     "name": "stderr",
     "output_type": "stream",
     "text": [
      "\n",
      "save..:   0%|          | 0/2520 [00:00<?, ?it/s]\u001b[A\n",
      "save..:   2%|▏         | 43/2520 [00:03<02:56, 14.03it/s]\u001b[A\n",
      "save..:   4%|▎         | 91/2520 [00:06<02:49, 14.31it/s]\u001b[A\n",
      "save..:   5%|▌         | 129/2520 [00:09<02:53, 13.77it/s]\u001b[A\n",
      "save..:   7%|▋         | 167/2520 [00:12<02:57, 13.27it/s]\u001b[A\n",
      "save..:   8%|▊         | 206/2520 [00:15<02:57, 13.04it/s]\u001b[A\n",
      "save..:  10%|▉         | 240/2520 [00:18<03:03, 12.43it/s]\u001b[A\n",
      "save..:  11%|█         | 275/2520 [00:21<03:06, 12.04it/s]\u001b[A\n",
      "save..:  12%|█▏        | 308/2520 [00:24<03:11, 11.54it/s]\u001b[A\n",
      "save..:  14%|█▍        | 355/2520 [00:27<02:53, 12.48it/s]\u001b[A\n",
      "save..:  16%|█▌        | 401/2520 [00:30<02:40, 13.19it/s]\u001b[A\n",
      "save..:  18%|█▊        | 451/2520 [00:33<02:27, 14.07it/s]\u001b[A\n",
      "save..:  20%|█▉        | 494/2520 [00:36<02:24, 14.00it/s]\u001b[A\n",
      "save..:  21%|██▏       | 537/2520 [00:40<02:34, 12.82it/s]\u001b[A\n",
      "save..:  23%|██▎       | 583/2520 [00:44<02:24, 13.39it/s]\u001b[A\n",
      "save..:  25%|██▍       | 624/2520 [00:47<02:25, 13.06it/s]\u001b[A\n",
      "save..:  26%|██▋       | 665/2520 [00:50<02:20, 13.17it/s]\u001b[A\n",
      "save..:  28%|██▊       | 705/2520 [00:54<02:27, 12.29it/s]\u001b[A\n",
      "save..:  30%|███       | 763/2520 [00:57<02:08, 13.69it/s]\u001b[A\n",
      "save..:  32%|███▏      | 807/2520 [01:00<02:05, 13.67it/s]\u001b[A\n",
      "save..:  34%|███▍      | 861/2520 [01:03<01:53, 14.68it/s]\u001b[A\n",
      "save..:  36%|███▌      | 911/2520 [01:06<01:46, 15.15it/s]\u001b[A\n",
      "save..:  38%|███▊      | 958/2520 [01:10<01:46, 14.73it/s]\u001b[A\n",
      "save..:  40%|███▉      | 1004/2520 [01:13<01:50, 13.78it/s]\u001b[A\n",
      "save..:  42%|████▏     | 1047/2520 [01:17<01:52, 13.11it/s]\u001b[A\n",
      "save..:  44%|████▎     | 1101/2520 [01:20<01:39, 14.24it/s]\u001b[A\n",
      "save..:  46%|████▌     | 1152/2520 [01:23<01:31, 14.94it/s]\u001b[A\n",
      "save..:  48%|████▊     | 1199/2520 [01:28<01:41, 12.98it/s]\u001b[A\n",
      "save..:  50%|█████     | 1267/2520 [01:31<01:24, 14.84it/s]\u001b[A\n",
      "save..:  52%|█████▏    | 1316/2520 [01:35<01:26, 13.97it/s]\u001b[A\n",
      "save..:  54%|█████▍    | 1372/2520 [01:38<01:15, 15.11it/s]\u001b[A\n",
      "save..:  57%|█████▋    | 1428/2520 [01:41<01:09, 15.80it/s]\u001b[A\n",
      "save..:  59%|█████▊    | 1480/2520 [01:44<01:04, 16.20it/s]\u001b[A\n",
      "save..:  61%|██████    | 1531/2520 [01:47<01:00, 16.32it/s]\u001b[A\n",
      "save..:  63%|██████▎   | 1582/2520 [01:50<00:57, 16.29it/s]\u001b[A\n",
      "save..:  65%|██████▍   | 1632/2520 [01:54<00:57, 15.53it/s]\u001b[A\n",
      "save..:  67%|██████▋   | 1692/2520 [01:57<00:52, 15.89it/s]\u001b[A\n",
      "save..:  69%|██████▉   | 1741/2520 [02:01<00:52, 14.73it/s]\u001b[A\n",
      "save..:  71%|███████   | 1787/2520 [02:05<00:50, 14.47it/s]\u001b[A\n",
      "save..:  73%|███████▎  | 1833/2520 [02:08<00:46, 14.63it/s]\u001b[A\n",
      "save..:  76%|███████▌  | 1904/2520 [02:11<00:37, 16.40it/s]\u001b[A\n",
      "save..:  78%|███████▊  | 1974/2520 [02:14<00:30, 17.68it/s]\u001b[A\n",
      "save..:  81%|████████  | 2043/2520 [02:17<00:25, 18.49it/s]\u001b[A\n",
      "save..:  83%|████████▎ | 2101/2520 [02:22<00:25, 16.22it/s]\u001b[A\n",
      "save..:  85%|████████▌ | 2153/2520 [02:25<00:23, 15.90it/s]\u001b[A\n",
      "save..:  87%|████████▋ | 2203/2520 [02:29<00:20, 15.28it/s]\u001b[A\n",
      "save..:  89%|████████▉ | 2251/2520 [02:34<00:20, 13.42it/s]\u001b[A\n",
      "save..:  91%|█████████ | 2294/2520 [02:37<00:16, 13.57it/s]\u001b[A\n",
      "save..:  93%|█████████▎| 2339/2520 [02:40<00:12, 13.96it/s]\u001b[A\n",
      "save..:  95%|█████████▍| 2383/2520 [02:43<00:09, 13.99it/s]\u001b[A\n",
      "save..:  96%|█████████▋| 2426/2520 [02:46<00:06, 13.53it/s]\u001b[A\n",
      "save..:  98%|█████████▊| 2468/2520 [02:49<00:03, 13.38it/s]\u001b[A\n",
      "save..: 100%|██████████| 2520/2520 [02:53<00:00, 14.52it/s]\u001b[A\n"
     ]
    },
    {
     "name": "stdout",
     "output_type": "stream",
     "text": [
      "(30321, 11)\n"
     ]
    },
    {
     "name": "stderr",
     "output_type": "stream",
     "text": [
      "\r",
      "craw:  54%|█████▎    | 161/300 [4:01:36<12:04:52, 312.89s/it]"
     ]
    },
    {
     "name": "stdout",
     "output_type": "stream",
     "text": [
      "유자미사천요리마라탕 scroll\n"
     ]
    },
    {
     "name": "stderr",
     "output_type": "stream",
     "text": [
      "\n",
      "save..:   0%|          | 0/1 [00:00<?, ?it/s]\u001b[A"
     ]
    },
    {
     "name": "stdout",
     "output_type": "stream",
     "text": [
      "유자미사천요리마라탕 1\n",
      "모든 리뷰 불러오기 시작...\n",
      "모든 리뷰 불러오기 완료!\n"
     ]
    },
    {
     "name": "stderr",
     "output_type": "stream",
     "text": [
      "save..: 100%|██████████| 1/1 [00:00<00:00,  6.41it/s]\n"
     ]
    },
    {
     "name": "stdout",
     "output_type": "stream",
     "text": [
      "(30322, 11)\n"
     ]
    },
    {
     "name": "stderr",
     "output_type": "stream",
     "text": [
      "\r",
      "craw:  54%|█████▍    | 162/300 [4:02:43<9:09:36, 238.96s/it] "
     ]
    },
    {
     "name": "stdout",
     "output_type": "stream",
     "text": [
      "수피자-이문동점 scroll\n",
      "수피자-이문동점 99\n",
      "모든 리뷰 불러오기 시작...\n",
      "모든 리뷰 불러오기 완료!\n"
     ]
    },
    {
     "name": "stderr",
     "output_type": "stream",
     "text": [
      "\n",
      "save..:   0%|          | 0/99 [00:00<?, ?it/s]\u001b[A\n",
      "save..:  38%|███▊      | 38/99 [00:03<00:05, 12.04it/s]\u001b[A\n",
      "save..: 100%|██████████| 99/99 [00:06<00:00, 14.77it/s]\u001b[A\n"
     ]
    },
    {
     "name": "stdout",
     "output_type": "stream",
     "text": [
      "(30421, 11)\n"
     ]
    },
    {
     "name": "stderr",
     "output_type": "stream",
     "text": [
      "\r",
      "craw:  54%|█████▍    | 163/300 [4:04:10<7:21:57, 193.56s/it]"
     ]
    },
    {
     "name": "stdout",
     "output_type": "stream",
     "text": [
      "충무할매김밥&돈까스 scroll\n"
     ]
    },
    {
     "name": "stderr",
     "output_type": "stream",
     "text": [
      "\n",
      "save..: 100%|██████████| 1/1 [00:00<00:00, 992.97it/s]"
     ]
    },
    {
     "name": "stdout",
     "output_type": "stream",
     "text": [
      "충무할매김밥&돈까스 1\n",
      "모든 리뷰 불러오기 시작...\n",
      "모든 리뷰 불러오기 완료!\n",
      "(30422, 11)\n"
     ]
    },
    {
     "name": "stderr",
     "output_type": "stream",
     "text": [
      "\n",
      "craw:  55%|█████▍    | 164/300 [4:04:41<5:28:06, 144.75s/it]"
     ]
    },
    {
     "name": "stdout",
     "output_type": "stream",
     "text": [
      "한국통닭-면목역점 scroll\n"
     ]
    },
    {
     "name": "stderr",
     "output_type": "stream",
     "text": [
      "\n",
      "save..: 100%|██████████| 4/4 [00:00<00:00, 1259.17it/s]"
     ]
    },
    {
     "name": "stdout",
     "output_type": "stream",
     "text": [
      "한국통닭-면목역점 4\n",
      "모든 리뷰 불러오기 시작...\n",
      "모든 리뷰 불러오기 완료!\n",
      "(30426, 11)\n"
     ]
    },
    {
     "name": "stderr",
     "output_type": "stream",
     "text": [
      "\n",
      "craw:  55%|█████▌    | 165/300 [4:05:18<4:12:34, 112.25s/it]"
     ]
    },
    {
     "name": "stdout",
     "output_type": "stream",
     "text": [
      "황금족발-청량리점 scroll\n"
     ]
    },
    {
     "name": "stderr",
     "output_type": "stream",
     "text": [
      "\n",
      "save..:   0%|          | 0/3 [00:00<?, ?it/s]\u001b[A"
     ]
    },
    {
     "name": "stdout",
     "output_type": "stream",
     "text": [
      "황금족발-청량리점 3\n",
      "모든 리뷰 불러오기 시작...\n",
      "모든 리뷰 불러오기 완료!\n"
     ]
    },
    {
     "name": "stderr",
     "output_type": "stream",
     "text": [
      "save..: 100%|██████████| 3/3 [00:00<00:00, 19.41it/s]\n"
     ]
    },
    {
     "name": "stdout",
     "output_type": "stream",
     "text": [
      "(30429, 11)\n"
     ]
    },
    {
     "name": "stderr",
     "output_type": "stream",
     "text": [
      "\r",
      "craw:  55%|█████▌    | 166/300 [4:05:44<3:13:10, 86.49s/it] "
     ]
    },
    {
     "name": "stdout",
     "output_type": "stream",
     "text": [
      "옛날돈까스&국물떡볶이 scroll\n",
      "옛날돈까스&국물떡볶이 154\n",
      "모든 리뷰 불러오기 시작...\n",
      "모든 리뷰 불러오기 완료!\n"
     ]
    },
    {
     "name": "stderr",
     "output_type": "stream",
     "text": [
      "\n",
      "save..:   0%|          | 0/154 [00:00<?, ?it/s]\u001b[A\n",
      "save..: 100%|██████████| 154/154 [00:04<00:00, 31.09it/s][A\n"
     ]
    },
    {
     "name": "stdout",
     "output_type": "stream",
     "text": [
      "(30583, 11)\n"
     ]
    },
    {
     "name": "stderr",
     "output_type": "stream",
     "text": [
      "\r",
      "craw:  56%|█████▌    | 167/300 [4:06:48<2:56:59, 79.85s/it]"
     ]
    },
    {
     "name": "stdout",
     "output_type": "stream",
     "text": [
      "떡수레 scroll\n",
      "떡수레 15\n",
      "모든 리뷰 불러오기 시작...\n"
     ]
    },
    {
     "name": "stderr",
     "output_type": "stream",
     "text": [
      "\n",
      "save..:   0%|          | 0/15 [00:00<?, ?it/s]\u001b[A"
     ]
    },
    {
     "name": "stdout",
     "output_type": "stream",
     "text": [
      "모든 리뷰 불러오기 완료!\n"
     ]
    },
    {
     "name": "stderr",
     "output_type": "stream",
     "text": [
      "save..: 100%|██████████| 15/15 [00:01<00:00, 11.98it/s]\n"
     ]
    },
    {
     "name": "stdout",
     "output_type": "stream",
     "text": [
      "(30598, 11)\n"
     ]
    },
    {
     "name": "stderr",
     "output_type": "stream",
     "text": [
      "\r",
      "craw:  56%|█████▌    | 168/300 [4:07:07<2:15:08, 61.43s/it]"
     ]
    },
    {
     "name": "stdout",
     "output_type": "stream",
     "text": [
      "타오타이랑마라탕1인훠궈 scroll\n",
      "타오타이랑마라탕1인훠궈 16\n",
      "모든 리뷰 불러오기 시작...\n"
     ]
    },
    {
     "name": "stderr",
     "output_type": "stream",
     "text": [
      "\n",
      "save..:   0%|          | 0/16 [00:00<?, ?it/s]\u001b[A"
     ]
    },
    {
     "name": "stdout",
     "output_type": "stream",
     "text": [
      "모든 리뷰 불러오기 완료!\n"
     ]
    },
    {
     "name": "stderr",
     "output_type": "stream",
     "text": [
      "save..: 100%|██████████| 16/16 [00:00<00:00, 22.86it/s]\n"
     ]
    },
    {
     "name": "stdout",
     "output_type": "stream",
     "text": [
      "(30614, 11)\n"
     ]
    },
    {
     "name": "stderr",
     "output_type": "stream",
     "text": [
      "\r",
      "craw:  56%|█████▋    | 169/300 [4:07:41<1:56:18, 53.27s/it]"
     ]
    },
    {
     "name": "stdout",
     "output_type": "stream",
     "text": [
      "호니도니-장안점 scroll\n",
      "호니도니-장안점 19\n",
      "모든 리뷰 불러오기 시작...\n"
     ]
    },
    {
     "name": "stderr",
     "output_type": "stream",
     "text": [
      "\n",
      "save..:   0%|          | 0/19 [00:00<?, ?it/s]\u001b[A"
     ]
    },
    {
     "name": "stdout",
     "output_type": "stream",
     "text": [
      "모든 리뷰 불러오기 완료!\n"
     ]
    },
    {
     "name": "stderr",
     "output_type": "stream",
     "text": [
      "save..: 100%|██████████| 19/19 [00:01<00:00, 11.56it/s]\n"
     ]
    },
    {
     "name": "stdout",
     "output_type": "stream",
     "text": [
      "(30633, 11)\n"
     ]
    },
    {
     "name": "stderr",
     "output_type": "stream",
     "text": [
      "\r",
      "craw:  57%|█████▋    | 170/300 [4:08:14<1:42:21, 47.24s/it]"
     ]
    },
    {
     "name": "stdout",
     "output_type": "stream",
     "text": [
      "오늘손칼국수&찜 scroll\n"
     ]
    },
    {
     "name": "stderr",
     "output_type": "stream",
     "text": [
      "\r",
      "craw:  57%|█████▋    | 171/300 [4:08:20<1:14:47, 34.78s/it]"
     ]
    },
    {
     "name": "stdout",
     "output_type": "stream",
     "text": [
      "wrong shop\n",
      "요거프레소-경희대점 scroll\n",
      "요거프레소-경희대점 scroll\n",
      "요거프레소-경희대점 165\n",
      "모든 리뷰 불러오기 시작...\n",
      "모든 리뷰 불러오기 완료!\n"
     ]
    },
    {
     "name": "stderr",
     "output_type": "stream",
     "text": [
      "\n",
      "save..:   0%|          | 0/165 [00:00<?, ?it/s]\u001b[A\n",
      "save..:  39%|███▉      | 65/165 [00:03<00:04, 21.37it/s]\u001b[A\n",
      "save..:  65%|██████▌   | 108/165 [00:06<00:03, 18.59it/s]\u001b[A\n",
      "save..: 100%|██████████| 165/165 [00:09<00:00, 17.21it/s]\u001b[A\n"
     ]
    },
    {
     "name": "stdout",
     "output_type": "stream",
     "text": [
      "(30798, 11)\n"
     ]
    },
    {
     "name": "stderr",
     "output_type": "stream",
     "text": [
      "\r",
      "craw:  57%|█████▋    | 172/300 [4:09:28<1:35:28, 44.75s/it]"
     ]
    },
    {
     "name": "stdout",
     "output_type": "stream",
     "text": [
      "양자강-중곡본점 scroll\n",
      "양자강-중곡본점 22\n",
      "모든 리뷰 불러오기 시작...\n",
      "모든 리뷰 불러오기 완료!\n"
     ]
    },
    {
     "name": "stderr",
     "output_type": "stream",
     "text": [
      "\n",
      "save..: 100%|██████████| 22/22 [00:00<00:00, 28.38it/s]\n"
     ]
    },
    {
     "name": "stdout",
     "output_type": "stream",
     "text": [
      "(30820, 11)\n"
     ]
    },
    {
     "name": "stderr",
     "output_type": "stream",
     "text": [
      "\r",
      "craw:  58%|█████▊    | 173/300 [4:10:08<1:31:35, 43.27s/it]"
     ]
    },
    {
     "name": "stdout",
     "output_type": "stream",
     "text": [
      "망우찜쌈밥-중곡점 scroll\n",
      "망우찜쌈밥-중곡점 199\n",
      "모든 리뷰 불러오기 시작...\n",
      "모든 리뷰 불러오기 완료!\n"
     ]
    },
    {
     "name": "stderr",
     "output_type": "stream",
     "text": [
      "\n",
      "save..:   0%|          | 0/199 [00:00<?, ?it/s]\u001b[A\n",
      "save..:  47%|████▋     | 93/199 [00:03<00:03, 30.51it/s]\u001b[A\n",
      "save..: 100%|██████████| 199/199 [00:06<00:00, 30.48it/s]\u001b[A\n"
     ]
    },
    {
     "name": "stdout",
     "output_type": "stream",
     "text": [
      "(31019, 11)\n"
     ]
    },
    {
     "name": "stderr",
     "output_type": "stream",
     "text": [
      "\r",
      "craw:  58%|█████▊    | 174/300 [4:11:37<2:00:00, 57.15s/it]"
     ]
    },
    {
     "name": "stdout",
     "output_type": "stream",
     "text": [
      "식생원-시립대본점 scroll\n"
     ]
    },
    {
     "name": "stderr",
     "output_type": "stream",
     "text": [
      "\n",
      "save..:   0%|          | 0/8 [00:00<?, ?it/s]\u001b[A"
     ]
    },
    {
     "name": "stdout",
     "output_type": "stream",
     "text": [
      "식생원-시립대본점 8\n",
      "모든 리뷰 불러오기 시작...\n",
      "모든 리뷰 불러오기 완료!\n"
     ]
    },
    {
     "name": "stderr",
     "output_type": "stream",
     "text": [
      "save..: 100%|██████████| 8/8 [00:00<00:00, 16.10it/s]\n"
     ]
    },
    {
     "name": "stdout",
     "output_type": "stream",
     "text": [
      "(31027, 11)\n"
     ]
    },
    {
     "name": "stderr",
     "output_type": "stream",
     "text": [
      "\r",
      "craw:  58%|█████▊    | 175/300 [4:12:22<1:51:24, 53.48s/it]"
     ]
    },
    {
     "name": "stdout",
     "output_type": "stream",
     "text": [
      "사나이뚝배기-경희대점 scroll\n",
      "사나이뚝배기-경희대점 178\n",
      "모든 리뷰 불러오기 시작...\n",
      "모든 리뷰 불러오기 완료!\n"
     ]
    },
    {
     "name": "stderr",
     "output_type": "stream",
     "text": [
      "\n",
      "save..:   0%|          | 0/178 [00:00<?, ?it/s]\u001b[A\n",
      "save..:  39%|███▉      | 70/178 [00:03<00:04, 23.04it/s]\u001b[A\n",
      "save..: 100%|██████████| 178/178 [00:07<00:00, 22.92it/s]\u001b[A\n"
     ]
    },
    {
     "name": "stdout",
     "output_type": "stream",
     "text": [
      "(31205, 11)\n"
     ]
    },
    {
     "name": "stderr",
     "output_type": "stream",
     "text": [
      "\r",
      "craw:  59%|█████▊    | 176/300 [4:13:19<1:52:47, 54.58s/it]"
     ]
    },
    {
     "name": "stdout",
     "output_type": "stream",
     "text": [
      "바푸리포쌀국수 장안점 scroll\n",
      "바푸리포쌀국수 장안점 125\n",
      "모든 리뷰 불러오기 시작...\n",
      "모든 리뷰 불러오기 완료!\n"
     ]
    },
    {
     "name": "stderr",
     "output_type": "stream",
     "text": [
      "\n",
      "save..:   0%|          | 0/125 [00:00<?, ?it/s]\u001b[A\n",
      "save..: 100%|██████████| 125/125 [00:03<00:00, 33.46it/s][A\n"
     ]
    },
    {
     "name": "stdout",
     "output_type": "stream",
     "text": [
      "(31330, 11)\n"
     ]
    },
    {
     "name": "stderr",
     "output_type": "stream",
     "text": [
      "\r",
      "craw:  59%|█████▉    | 177/300 [4:14:10<1:49:13, 53.28s/it]"
     ]
    },
    {
     "name": "stdout",
     "output_type": "stream",
     "text": [
      "LA돈가스-장안본점 scroll\n"
     ]
    },
    {
     "name": "stderr",
     "output_type": "stream",
     "text": [
      "\n",
      "save..: 100%|██████████| 6/6 [00:00<00:00, 1102.22it/s]"
     ]
    },
    {
     "name": "stdout",
     "output_type": "stream",
     "text": [
      "LA돈가스-장안본점 6\n",
      "모든 리뷰 불러오기 시작...\n",
      "모든 리뷰 불러오기 완료!\n",
      "(31336, 11)\n"
     ]
    },
    {
     "name": "stderr",
     "output_type": "stream",
     "text": [
      "\n",
      "craw:  59%|█████▉    | 178/300 [4:14:57<1:44:58, 51.63s/it]"
     ]
    },
    {
     "name": "stdout",
     "output_type": "stream",
     "text": [
      "빽다방-청량리역점 scroll\n",
      "빽다방-청량리역점 18\n",
      "모든 리뷰 불러오기 시작...\n",
      "모든 리뷰 불러오기 완료!\n"
     ]
    },
    {
     "name": "stderr",
     "output_type": "stream",
     "text": [
      "\n",
      "save..: 100%|██████████| 18/18 [00:00<00:00, 30.01it/s]\n"
     ]
    },
    {
     "name": "stdout",
     "output_type": "stream",
     "text": [
      "(31354, 11)\n"
     ]
    },
    {
     "name": "stderr",
     "output_type": "stream",
     "text": [
      "\r",
      "craw:  60%|█████▉    | 179/300 [4:15:49<1:43:53, 51.51s/it]"
     ]
    },
    {
     "name": "stdout",
     "output_type": "stream",
     "text": [
      "눈물닭발 scroll\n"
     ]
    },
    {
     "name": "stderr",
     "output_type": "stream",
     "text": [
      "\r",
      "craw:  60%|██████    | 180/300 [4:15:51<1:13:40, 36.83s/it]"
     ]
    },
    {
     "name": "stdout",
     "output_type": "stream",
     "text": [
      "wrong shop\n",
      "투썸플레이스-서울시립대점 scroll\n",
      "투썸플레이스-서울시립대점 58\n",
      "모든 리뷰 불러오기 시작...\n",
      "모든 리뷰 불러오기 완료!\n"
     ]
    },
    {
     "name": "stderr",
     "output_type": "stream",
     "text": [
      "\n",
      "save..: 100%|██████████| 58/58 [00:02<00:00, 26.90it/s]\n"
     ]
    },
    {
     "name": "stdout",
     "output_type": "stream",
     "text": [
      "(31412, 11)\n"
     ]
    },
    {
     "name": "stderr",
     "output_type": "stream",
     "text": [
      "\r",
      "craw:  60%|██████    | 181/300 [4:16:16<1:05:49, 33.19s/it]"
     ]
    },
    {
     "name": "stdout",
     "output_type": "stream",
     "text": [
      "동대문엽기떡볶이-고려대점 scroll\n",
      "동대문엽기떡볶이-고려대점 1171\n",
      "모든 리뷰 불러오기 시작...\n",
      "모든 리뷰 불러오기 완료!\n"
     ]
    },
    {
     "name": "stderr",
     "output_type": "stream",
     "text": [
      "\n",
      "save..:   0%|          | 0/1171 [00:00<?, ?it/s]\u001b[A\n",
      "save..:   6%|▌         | 72/1171 [00:03<00:46, 23.65it/s]\u001b[A\n",
      "save..:  12%|█▏        | 136/1171 [00:06<00:45, 22.64it/s]\u001b[A\n",
      "save..:  17%|█▋        | 200/1171 [00:09<00:43, 22.19it/s]\u001b[A\n",
      "save..:  23%|██▎       | 270/1171 [00:12<00:40, 22.51it/s]\u001b[A\n",
      "save..:  29%|██▉       | 344/1171 [00:15<00:35, 22.98it/s]\u001b[A\n",
      "save..:  37%|███▋      | 428/1171 [00:18<00:30, 24.15it/s]\u001b[A\n",
      "save..:  42%|████▏     | 493/1171 [00:21<00:29, 22.88it/s]\u001b[A\n",
      "save..:  50%|████▉     | 580/1171 [00:24<00:24, 24.34it/s]\u001b[A\n",
      "save..:  57%|█████▋    | 664/1171 [00:27<00:20, 25.30it/s]\u001b[A\n",
      "save..:  64%|██████▍   | 747/1171 [00:30<00:16, 25.91it/s]\u001b[A\n",
      "save..:  71%|███████▏  | 837/1171 [00:33<00:12, 26.94it/s]\u001b[A\n",
      "save..:  78%|███████▊  | 918/1171 [00:36<00:09, 26.79it/s]\u001b[A\n",
      "save..:  90%|█████████ | 1054/1171 [00:39<00:03, 30.39it/s]\u001b[A\n",
      "save..: 100%|██████████| 1171/1171 [00:42<00:00, 27.29it/s]\u001b[A\n"
     ]
    },
    {
     "name": "stdout",
     "output_type": "stream",
     "text": [
      "(32583, 11)\n"
     ]
    },
    {
     "name": "stderr",
     "output_type": "stream",
     "text": [
      "\r",
      "craw:  61%|██████    | 182/300 [4:21:53<4:04:25, 124.28s/it]"
     ]
    },
    {
     "name": "stdout",
     "output_type": "stream",
     "text": [
      "피치오래 scroll\n",
      "피치오래 149\n",
      "모든 리뷰 불러오기 시작...\n",
      "모든 리뷰 불러오기 완료!\n"
     ]
    },
    {
     "name": "stderr",
     "output_type": "stream",
     "text": [
      "\n",
      "save..: 100%|██████████| 149/149 [00:02<00:00, 68.55it/s]\n"
     ]
    },
    {
     "name": "stdout",
     "output_type": "stream",
     "text": [
      "(32732, 11)\n"
     ]
    },
    {
     "name": "stderr",
     "output_type": "stream",
     "text": [
      "\r",
      "craw:  61%|██████    | 183/300 [4:23:05<3:31:35, 108.51s/it]"
     ]
    },
    {
     "name": "stdout",
     "output_type": "stream",
     "text": [
      "직화반상by셰플리(동대문) scroll\n",
      "직화반상by셰플리(동대문) 670\n",
      "모든 리뷰 불러오기 시작...\n",
      "모든 리뷰 불러오기 완료!\n"
     ]
    },
    {
     "name": "stderr",
     "output_type": "stream",
     "text": [
      "\n",
      "save..:   0%|          | 0/670 [00:00<?, ?it/s]\u001b[A\n",
      "save..:   9%|▉         | 62/670 [00:03<00:29, 20.66it/s]\u001b[A\n",
      "save..:  20%|█▉        | 132/670 [00:06<00:25, 21.36it/s]\u001b[A\n",
      "save..:  29%|██▉       | 194/670 [00:09<00:22, 21.05it/s]\u001b[A\n",
      "save..:  38%|███▊      | 256/670 [00:12<00:19, 20.90it/s]\u001b[A\n",
      "save..:  47%|████▋     | 317/670 [00:15<00:17, 20.64it/s]\u001b[A\n",
      "save..:  57%|█████▋    | 379/670 [00:18<00:14, 20.53it/s]\u001b[A\n",
      "save..:  66%|██████▌   | 441/670 [00:21<00:11, 20.43it/s]\u001b[A\n",
      "save..:  76%|███████▋  | 512/670 [00:24<00:07, 21.30it/s]\u001b[A\n",
      "save..:  86%|████████▌ | 573/670 [00:27<00:04, 20.21it/s]\u001b[A\n",
      "save..: 100%|██████████| 670/670 [00:31<00:00, 20.96it/s]\u001b[A\n"
     ]
    },
    {
     "name": "stdout",
     "output_type": "stream",
     "text": [
      "(33402, 11)\n"
     ]
    },
    {
     "name": "stderr",
     "output_type": "stream",
     "text": [
      "\r",
      "craw:  61%|██████▏   | 184/300 [4:26:20<4:20:29, 134.74s/it]"
     ]
    },
    {
     "name": "stdout",
     "output_type": "stream",
     "text": [
      "박사네양념막창 scroll\n"
     ]
    },
    {
     "name": "stderr",
     "output_type": "stream",
     "text": [
      "\n",
      "save..:   0%|          | 0/4 [00:00<?, ?it/s]\u001b[A"
     ]
    },
    {
     "name": "stdout",
     "output_type": "stream",
     "text": [
      "박사네양념막창 4\n",
      "모든 리뷰 불러오기 시작...\n",
      "모든 리뷰 불러오기 완료!\n"
     ]
    },
    {
     "name": "stderr",
     "output_type": "stream",
     "text": [
      "save..: 100%|██████████| 4/4 [00:00<00:00, 15.90it/s]\n"
     ]
    },
    {
     "name": "stdout",
     "output_type": "stream",
     "text": [
      "(33406, 11)\n"
     ]
    },
    {
     "name": "stderr",
     "output_type": "stream",
     "text": [
      "\r",
      "craw:  62%|██████▏   | 185/300 [4:27:05<3:26:38, 107.81s/it]"
     ]
    },
    {
     "name": "stdout",
     "output_type": "stream",
     "text": [
      "노랑통닭-경희대점 scroll\n",
      "노랑통닭-경희대점 1196\n",
      "모든 리뷰 불러오기 시작...\n",
      "모든 리뷰 불러오기 완료!\n"
     ]
    },
    {
     "name": "stderr",
     "output_type": "stream",
     "text": [
      "\n",
      "save..:   0%|          | 0/1196 [00:00<?, ?it/s]\u001b[A\n",
      "save..:   6%|▋         | 75/1196 [00:03<00:45, 24.77it/s]\u001b[A\n",
      "save..:  12%|█▏        | 145/1196 [00:06<00:43, 24.21it/s]\u001b[A\n",
      "save..:  19%|█▉        | 232/1196 [00:09<00:37, 25.39it/s]\u001b[A\n",
      "save..:  25%|██▌       | 304/1196 [00:12<00:36, 24.69it/s]\u001b[A\n",
      "save..:  35%|███▌      | 424/1196 [00:15<00:27, 27.82it/s]\u001b[A\n",
      "save..:  46%|████▌     | 547/1196 [00:18<00:21, 30.71it/s]\u001b[A\n",
      "save..:  67%|██████▋   | 796/1196 [00:21<00:10, 37.77it/s]\u001b[A\n",
      "save..: 100%|██████████| 1196/1196 [00:25<00:00, 46.16it/s][A\n"
     ]
    },
    {
     "name": "stdout",
     "output_type": "stream",
     "text": [
      "(34602, 11)\n"
     ]
    },
    {
     "name": "stderr",
     "output_type": "stream",
     "text": [
      "\r",
      "craw:  62%|██████▏   | 186/300 [4:32:32<5:29:17, 173.31s/it]"
     ]
    },
    {
     "name": "stdout",
     "output_type": "stream",
     "text": [
      "스케치두마리치킨-면목점 scroll\n",
      "스케치두마리치킨-면목점 306\n",
      "모든 리뷰 불러오기 시작...\n",
      "모든 리뷰 불러오기 완료!\n"
     ]
    },
    {
     "name": "stderr",
     "output_type": "stream",
     "text": [
      "\n",
      "save..:   0%|          | 0/306 [00:00<?, ?it/s]\u001b[A\n",
      "save..:  25%|██▍       | 75/306 [00:03<00:09, 24.94it/s]\u001b[A\n",
      "save..: 100%|██████████| 306/306 [00:06<00:00, 49.94it/s]\u001b[A\n"
     ]
    },
    {
     "name": "stdout",
     "output_type": "stream",
     "text": [
      "(34908, 11)\n"
     ]
    },
    {
     "name": "stderr",
     "output_type": "stream",
     "text": [
      "\r",
      "craw:  62%|██████▏   | 187/300 [4:33:52<4:33:49, 145.40s/it]"
     ]
    },
    {
     "name": "stdout",
     "output_type": "stream",
     "text": [
      "김밥천국-청량리점 scroll\n",
      "김밥천국-청량리점 251\n",
      "모든 리뷰 불러오기 시작...\n",
      "모든 리뷰 불러오기 완료!\n"
     ]
    },
    {
     "name": "stderr",
     "output_type": "stream",
     "text": [
      "\n",
      "save..:   0%|          | 0/251 [00:00<?, ?it/s]\u001b[A\n",
      "save..:  21%|██        | 53/251 [00:03<00:11, 17.22it/s]\u001b[A\n",
      "save..:  46%|████▌     | 116/251 [00:06<00:07, 18.19it/s]\u001b[A\n",
      "save..: 100%|██████████| 251/251 [00:11<00:00, 21.99it/s]\u001b[A\n"
     ]
    },
    {
     "name": "stdout",
     "output_type": "stream",
     "text": [
      "(35159, 11)\n"
     ]
    },
    {
     "name": "stderr",
     "output_type": "stream",
     "text": [
      "\r",
      "craw:  63%|██████▎   | 188/300 [4:35:19<3:58:53, 127.98s/it]"
     ]
    },
    {
     "name": "stdout",
     "output_type": "stream",
     "text": [
      "윤포차 scroll\n"
     ]
    },
    {
     "name": "stderr",
     "output_type": "stream",
     "text": [
      "\r",
      "craw:  63%|██████▎   | 189/300 [4:35:34<2:54:11, 94.15s/it] "
     ]
    },
    {
     "name": "stdout",
     "output_type": "stream",
     "text": [
      "wrong shop\n",
      "그린치킨닥터 scroll\n",
      "그린치킨닥터 scroll\n",
      "그린치킨닥터 23\n",
      "모든 리뷰 불러오기 시작...\n",
      "모든 리뷰 불러오기 완료!\n"
     ]
    },
    {
     "name": "stderr",
     "output_type": "stream",
     "text": [
      "\n",
      "save..: 100%|██████████| 23/23 [00:01<00:00, 20.11it/s]\n"
     ]
    },
    {
     "name": "stdout",
     "output_type": "stream",
     "text": [
      "(35182, 11)\n"
     ]
    },
    {
     "name": "stderr",
     "output_type": "stream",
     "text": [
      "\r",
      "craw:  63%|██████▎   | 190/300 [4:36:06<2:18:27, 75.52s/it]"
     ]
    },
    {
     "name": "stdout",
     "output_type": "stream",
     "text": [
      "1인분한식 scroll\n"
     ]
    },
    {
     "name": "stderr",
     "output_type": "stream",
     "text": [
      "\r",
      "craw:  64%|██████▎   | 191/300 [4:36:35<1:51:24, 61.32s/it]"
     ]
    },
    {
     "name": "stdout",
     "output_type": "stream",
     "text": [
      "wrong shop\n",
      "동강민물 scroll\n"
     ]
    },
    {
     "name": "stderr",
     "output_type": "stream",
     "text": [
      "\n",
      "save..:   0%|          | 0/5 [00:00<?, ?it/s]\u001b[A"
     ]
    },
    {
     "name": "stdout",
     "output_type": "stream",
     "text": [
      "동강민물 5\n",
      "모든 리뷰 불러오기 시작...\n",
      "모든 리뷰 불러오기 완료!\n"
     ]
    },
    {
     "name": "stderr",
     "output_type": "stream",
     "text": [
      "save..: 100%|██████████| 5/5 [00:00<00:00, 24.35it/s]\n"
     ]
    },
    {
     "name": "stdout",
     "output_type": "stream",
     "text": [
      "(35187, 11)\n"
     ]
    },
    {
     "name": "stderr",
     "output_type": "stream",
     "text": [
      "\r",
      "craw:  64%|██████▍   | 192/300 [4:37:07<1:34:48, 52.67s/it]"
     ]
    },
    {
     "name": "stdout",
     "output_type": "stream",
     "text": [
      "와와닭발 scroll\n",
      "와와닭발 66\n",
      "모든 리뷰 불러오기 시작...\n",
      "모든 리뷰 불러오기 완료!\n"
     ]
    },
    {
     "name": "stderr",
     "output_type": "stream",
     "text": [
      "\n",
      "save..: 100%|██████████| 66/66 [00:02<00:00, 27.21it/s]\n"
     ]
    },
    {
     "name": "stdout",
     "output_type": "stream",
     "text": [
      "(35253, 11)\n"
     ]
    },
    {
     "name": "stderr",
     "output_type": "stream",
     "text": [
      "\r",
      "craw:  64%|██████▍   | 193/300 [4:37:44<1:25:13, 47.79s/it]"
     ]
    },
    {
     "name": "stdout",
     "output_type": "stream",
     "text": [
      "더하루-회요리코스전문점 scroll\n"
     ]
    },
    {
     "name": "stderr",
     "output_type": "stream",
     "text": [
      "\n",
      "save..:   0%|          | 0/6 [00:00<?, ?it/s]\u001b[A"
     ]
    },
    {
     "name": "stdout",
     "output_type": "stream",
     "text": [
      "더하루-회요리코스전문점 6\n",
      "모든 리뷰 불러오기 시작...\n",
      "모든 리뷰 불러오기 완료!\n"
     ]
    },
    {
     "name": "stderr",
     "output_type": "stream",
     "text": [
      "save..: 100%|██████████| 6/6 [00:00<00:00, 10.03it/s]\n"
     ]
    },
    {
     "name": "stdout",
     "output_type": "stream",
     "text": [
      "(35259, 11)\n"
     ]
    },
    {
     "name": "stderr",
     "output_type": "stream",
     "text": [
      "\r",
      "craw:  65%|██████▍   | 194/300 [4:38:09<1:12:34, 41.08s/it]"
     ]
    },
    {
     "name": "stdout",
     "output_type": "stream",
     "text": [
      "두툼 scroll\n",
      "두툼 15\n",
      "모든 리뷰 불러오기 시작...\n"
     ]
    },
    {
     "name": "stderr",
     "output_type": "stream",
     "text": [
      "\n",
      "save..:   0%|          | 0/15 [00:00<?, ?it/s]\u001b[A"
     ]
    },
    {
     "name": "stdout",
     "output_type": "stream",
     "text": [
      "모든 리뷰 불러오기 완료!\n"
     ]
    },
    {
     "name": "stderr",
     "output_type": "stream",
     "text": [
      "save..: 100%|██████████| 15/15 [00:00<00:00, 16.03it/s]\n"
     ]
    },
    {
     "name": "stdout",
     "output_type": "stream",
     "text": [
      "(35274, 11)\n"
     ]
    },
    {
     "name": "stderr",
     "output_type": "stream",
     "text": [
      "\r",
      "craw:  65%|██████▌   | 195/300 [4:39:16<1:25:34, 48.90s/it]"
     ]
    },
    {
     "name": "stdout",
     "output_type": "stream",
     "text": [
      "명품꿔바로우&마라롱샤-장안점 scroll\n",
      "명품꿔바로우&마라롱샤-장안점 22\n",
      "모든 리뷰 불러오기 시작...\n",
      "모든 리뷰 불러오기 완료!\n"
     ]
    },
    {
     "name": "stderr",
     "output_type": "stream",
     "text": [
      "\n",
      "save..: 100%|██████████| 22/22 [00:01<00:00, 20.11it/s]\n"
     ]
    },
    {
     "name": "stdout",
     "output_type": "stream",
     "text": [
      "(35296, 11)\n"
     ]
    },
    {
     "name": "stderr",
     "output_type": "stream",
     "text": [
      "\r",
      "craw:  65%|██████▌   | 196/300 [4:40:05<1:24:31, 48.76s/it]"
     ]
    },
    {
     "name": "stdout",
     "output_type": "stream",
     "text": [
      "돈수백-외대점 scroll\n",
      "돈수백-외대점 18\n",
      "모든 리뷰 불러오기 시작...\n"
     ]
    },
    {
     "name": "stderr",
     "output_type": "stream",
     "text": [
      "\n",
      "save..:   0%|          | 0/18 [00:00<?, ?it/s]\u001b[A"
     ]
    },
    {
     "name": "stdout",
     "output_type": "stream",
     "text": [
      "모든 리뷰 불러오기 완료!\n"
     ]
    },
    {
     "name": "stderr",
     "output_type": "stream",
     "text": [
      "save..: 100%|██████████| 18/18 [00:00<00:00, 23.40it/s]\n"
     ]
    },
    {
     "name": "stdout",
     "output_type": "stream",
     "text": [
      "(35314, 11)\n"
     ]
    },
    {
     "name": "stderr",
     "output_type": "stream",
     "text": [
      "\r",
      "craw:  66%|██████▌   | 197/300 [4:40:59<1:26:40, 50.49s/it]"
     ]
    },
    {
     "name": "stdout",
     "output_type": "stream",
     "text": [
      "골목막창&닭발 scroll\n",
      "골목막창&닭발 17\n",
      "모든 리뷰 불러오기 시작...\n"
     ]
    },
    {
     "name": "stderr",
     "output_type": "stream",
     "text": [
      "\n",
      "save..:   0%|          | 0/17 [00:00<?, ?it/s]\u001b[A"
     ]
    },
    {
     "name": "stdout",
     "output_type": "stream",
     "text": [
      "모든 리뷰 불러오기 완료!\n"
     ]
    },
    {
     "name": "stderr",
     "output_type": "stream",
     "text": [
      "save..: 100%|██████████| 17/17 [00:00<00:00, 23.36it/s]\n"
     ]
    },
    {
     "name": "stdout",
     "output_type": "stream",
     "text": [
      "(35331, 11)\n"
     ]
    },
    {
     "name": "stderr",
     "output_type": "stream",
     "text": [
      "\r",
      "craw:  66%|██████▌   | 198/300 [4:41:17<1:09:13, 40.72s/it]"
     ]
    },
    {
     "name": "stdout",
     "output_type": "stream",
     "text": [
      "경희쌈밥 scroll\n",
      "경희쌈밥 48\n",
      "모든 리뷰 불러오기 시작...\n"
     ]
    },
    {
     "name": "stderr",
     "output_type": "stream",
     "text": [
      "\n",
      "save..:   0%|          | 0/48 [00:00<?, ?it/s]\u001b[A"
     ]
    },
    {
     "name": "stdout",
     "output_type": "stream",
     "text": [
      "모든 리뷰 불러오기 완료!\n"
     ]
    },
    {
     "name": "stderr",
     "output_type": "stream",
     "text": [
      "save..: 100%|██████████| 48/48 [00:02<00:00, 18.64it/s]\n"
     ]
    },
    {
     "name": "stdout",
     "output_type": "stream",
     "text": [
      "(35379, 11)\n"
     ]
    },
    {
     "name": "stderr",
     "output_type": "stream",
     "text": [
      "\r",
      "craw:  66%|██████▋   | 199/300 [4:41:43<1:01:08, 36.32s/it]"
     ]
    },
    {
     "name": "stdout",
     "output_type": "stream",
     "text": [
      "푸른하늘 scroll\n",
      "푸른하늘 132\n",
      "모든 리뷰 불러오기 시작...\n",
      "모든 리뷰 불러오기 완료!\n"
     ]
    },
    {
     "name": "stderr",
     "output_type": "stream",
     "text": [
      "\n",
      "save..:   0%|          | 0/132 [00:00<?, ?it/s]\u001b[A\n",
      "save..:  52%|█████▏    | 69/132 [00:03<00:02, 22.66it/s]\u001b[A\n",
      "save..: 100%|██████████| 132/132 [00:06<00:00, 20.68it/s]\u001b[A\n"
     ]
    },
    {
     "name": "stdout",
     "output_type": "stream",
     "text": [
      "(35511, 11)\n"
     ]
    },
    {
     "name": "stderr",
     "output_type": "stream",
     "text": [
      "\r",
      "craw:  67%|██████▋   | 200/300 [4:42:53<1:17:19, 46.40s/it]"
     ]
    },
    {
     "name": "stdout",
     "output_type": "stream",
     "text": [
      "피자알볼로-장안점 scroll\n",
      "피자알볼로-장안점 1312\n",
      "모든 리뷰 불러오기 시작...\n",
      "모든 리뷰 불러오기 완료!\n"
     ]
    },
    {
     "name": "stderr",
     "output_type": "stream",
     "text": [
      "\n",
      "save..:   0%|          | 0/1312 [00:00<?, ?it/s]\u001b[A\n",
      "save..:   5%|▌         | 69/1312 [00:03<00:54, 22.72it/s]\u001b[A\n",
      "save..:  10%|█         | 137/1312 [00:06<00:52, 22.58it/s]\u001b[A\n",
      "save..:  13%|█▎        | 172/1312 [00:09<01:07, 16.84it/s]\u001b[A\n",
      "save..:  17%|█▋        | 228/1312 [00:12<01:02, 17.32it/s]\u001b[A\n",
      "save..:  21%|██        | 269/1312 [00:16<01:09, 14.98it/s]\u001b[A\n",
      "save..:  27%|██▋       | 356/1312 [00:19<00:54, 17.43it/s]\u001b[A\n",
      "save..:  35%|███▌      | 464/1312 [00:22<00:41, 20.56it/s]\u001b[A\n",
      "save..:  41%|████      | 533/1312 [00:25<00:37, 20.53it/s]\u001b[A\n",
      "save..:  49%|████▉     | 644/1312 [00:28<00:28, 23.57it/s]\u001b[A\n",
      "save..:  64%|██████▍   | 838/1312 [00:32<00:17, 27.48it/s]\u001b[A\n",
      "save..: 100%|██████████| 1312/1312 [00:36<00:00, 36.08it/s][A\n"
     ]
    },
    {
     "name": "stdout",
     "output_type": "stream",
     "text": [
      "(36823, 11)\n"
     ]
    },
    {
     "name": "stderr",
     "output_type": "stream",
     "text": [
      "\r",
      "craw:  67%|██████▋   | 201/300 [4:49:00<3:55:24, 142.67s/it]"
     ]
    },
    {
     "name": "stdout",
     "output_type": "stream",
     "text": [
      "파리바게뜨-전농점 scroll\n",
      "파리바게뜨-전농점 288\n",
      "모든 리뷰 불러오기 시작...\n",
      "모든 리뷰 불러오기 완료!\n"
     ]
    },
    {
     "name": "stderr",
     "output_type": "stream",
     "text": [
      "\n",
      "save..:   0%|          | 0/288 [00:00<?, ?it/s]\u001b[A\n",
      "save..:  19%|█▉        | 56/288 [00:03<00:12, 18.53it/s]\u001b[A\n",
      "save..:  45%|████▌     | 131/288 [00:06<00:07, 20.03it/s]\u001b[A\n",
      "save..: 100%|██████████| 288/288 [00:10<00:00, 27.82it/s]\u001b[A\n"
     ]
    },
    {
     "name": "stdout",
     "output_type": "stream",
     "text": [
      "(37111, 11)\n"
     ]
    },
    {
     "name": "stderr",
     "output_type": "stream",
     "text": [
      "\r",
      "craw:  67%|██████▋   | 202/300 [4:50:38<3:30:49, 129.07s/it]"
     ]
    },
    {
     "name": "stdout",
     "output_type": "stream",
     "text": [
      "나홀로보쌈 scroll\n"
     ]
    },
    {
     "name": "stderr",
     "output_type": "stream",
     "text": [
      "\r",
      "craw:  68%|██████▊   | 203/300 [4:51:30<2:51:21, 105.99s/it]"
     ]
    },
    {
     "name": "stdout",
     "output_type": "stream",
     "text": [
      "wrong shop\n",
      "CURRY146 scroll\n",
      "CURRY146 scroll\n",
      "CURRY146 2\n",
      "모든 리뷰 불러오기 시작...\n",
      "모든 리뷰 불러오기 완료!\n"
     ]
    },
    {
     "name": "stderr",
     "output_type": "stream",
     "text": [
      "\n",
      "save..: 100%|██████████| 2/2 [00:00<00:00, 1343.68it/s]\n"
     ]
    },
    {
     "name": "stdout",
     "output_type": "stream",
     "text": [
      "(37113, 11)\n"
     ]
    },
    {
     "name": "stderr",
     "output_type": "stream",
     "text": [
      "\r",
      "craw:  68%|██████▊   | 204/300 [4:52:35<2:29:59, 93.75s/it] "
     ]
    },
    {
     "name": "stdout",
     "output_type": "stream",
     "text": [
      "긴카오태국식당 scroll\n",
      "긴카오태국식당 27\n",
      "모든 리뷰 불러오기 시작...\n"
     ]
    },
    {
     "name": "stderr",
     "output_type": "stream",
     "text": [
      "\n",
      "save..:   0%|          | 0/27 [00:00<?, ?it/s]\u001b[A"
     ]
    },
    {
     "name": "stdout",
     "output_type": "stream",
     "text": [
      "모든 리뷰 불러오기 완료!\n"
     ]
    },
    {
     "name": "stderr",
     "output_type": "stream",
     "text": [
      "save..: 100%|██████████| 27/27 [00:02<00:00, 12.56it/s]\n"
     ]
    },
    {
     "name": "stdout",
     "output_type": "stream",
     "text": [
      "(37140, 11)\n"
     ]
    },
    {
     "name": "stderr",
     "output_type": "stream",
     "text": [
      "\r",
      "craw:  68%|██████▊   | 205/300 [4:53:26<2:08:09, 80.94s/it]"
     ]
    },
    {
     "name": "stdout",
     "output_type": "stream",
     "text": [
      "롬카페 scroll\n",
      "롬카페 81\n",
      "모든 리뷰 불러오기 시작...\n",
      "모든 리뷰 불러오기 완료!\n"
     ]
    },
    {
     "name": "stderr",
     "output_type": "stream",
     "text": [
      "\n",
      "save..:   0%|          | 0/81 [00:00<?, ?it/s]\u001b[A\n",
      "save..: 100%|██████████| 81/81 [00:03<00:00, 20.56it/s]\u001b[A\n"
     ]
    },
    {
     "name": "stdout",
     "output_type": "stream",
     "text": [
      "(37221, 11)\n"
     ]
    },
    {
     "name": "stderr",
     "output_type": "stream",
     "text": [
      "\r",
      "craw:  69%|██████▊   | 206/300 [4:54:00<1:44:50, 66.92s/it]"
     ]
    },
    {
     "name": "stdout",
     "output_type": "stream",
     "text": [
      "꼬마곱창-본점 scroll\n",
      "꼬마곱창-본점 100\n",
      "모든 리뷰 불러오기 시작...\n",
      "모든 리뷰 불러오기 완료!\n"
     ]
    },
    {
     "name": "stderr",
     "output_type": "stream",
     "text": [
      "\n",
      "save..: 100%|██████████| 100/100 [00:01<00:00, 50.65it/s]\n"
     ]
    },
    {
     "name": "stdout",
     "output_type": "stream",
     "text": [
      "(37321, 11)\n"
     ]
    },
    {
     "name": "stderr",
     "output_type": "stream",
     "text": [
      "\r",
      "craw:  69%|██████▉   | 207/300 [4:55:07<1:43:50, 66.99s/it]"
     ]
    },
    {
     "name": "stdout",
     "output_type": "stream",
     "text": [
      "에그드랍-경희대점 scroll\n",
      "에그드랍-경희대점 238\n",
      "모든 리뷰 불러오기 시작...\n",
      "모든 리뷰 불러오기 완료!\n"
     ]
    },
    {
     "name": "stderr",
     "output_type": "stream",
     "text": [
      "\n",
      "save..:   0%|          | 0/238 [00:00<?, ?it/s]\u001b[A\n",
      "save..:  36%|███▌      | 86/238 [00:03<00:05, 28.11it/s]\u001b[A\n",
      "save..: 100%|██████████| 238/238 [00:08<00:00, 29.31it/s]\u001b[A\n"
     ]
    },
    {
     "name": "stdout",
     "output_type": "stream",
     "text": [
      "(37559, 11)\n"
     ]
    },
    {
     "name": "stderr",
     "output_type": "stream",
     "text": [
      "\r",
      "craw:  69%|██████▉   | 208/300 [4:56:27<1:48:29, 70.75s/it]"
     ]
    },
    {
     "name": "stdout",
     "output_type": "stream",
     "text": [
      "리후찬팅 scroll\n",
      "리후찬팅 36\n",
      "모든 리뷰 불러오기 시작...\n"
     ]
    },
    {
     "name": "stderr",
     "output_type": "stream",
     "text": [
      "\n",
      "save..:   0%|          | 0/36 [00:00<?, ?it/s]\u001b[A"
     ]
    },
    {
     "name": "stdout",
     "output_type": "stream",
     "text": [
      "모든 리뷰 불러오기 완료!\n"
     ]
    },
    {
     "name": "stderr",
     "output_type": "stream",
     "text": [
      "save..: 100%|██████████| 36/36 [00:01<00:00, 25.83it/s]\n"
     ]
    },
    {
     "name": "stdout",
     "output_type": "stream",
     "text": [
      "(37595, 11)\n"
     ]
    },
    {
     "name": "stderr",
     "output_type": "stream",
     "text": [
      "\r",
      "craw:  70%|██████▉   | 209/300 [4:56:56<1:28:16, 58.20s/it]"
     ]
    },
    {
     "name": "stdout",
     "output_type": "stream",
     "text": [
      "명인옛날통닭-장안직영점 scroll\n"
     ]
    },
    {
     "name": "stderr",
     "output_type": "stream",
     "text": [
      "\n",
      "save..:   0%|          | 0/2 [00:00<?, ?it/s]\u001b[A"
     ]
    },
    {
     "name": "stdout",
     "output_type": "stream",
     "text": [
      "명인옛날통닭-장안직영점 2\n",
      "모든 리뷰 불러오기 시작...\n",
      "모든 리뷰 불러오기 완료!\n"
     ]
    },
    {
     "name": "stderr",
     "output_type": "stream",
     "text": [
      "save..: 100%|██████████| 2/2 [00:00<00:00, 12.56it/s]\n"
     ]
    },
    {
     "name": "stdout",
     "output_type": "stream",
     "text": [
      "(37597, 11)\n"
     ]
    },
    {
     "name": "stderr",
     "output_type": "stream",
     "text": [
      "\r",
      "craw:  70%|███████   | 210/300 [4:57:13<1:08:40, 45.79s/it]"
     ]
    },
    {
     "name": "stdout",
     "output_type": "stream",
     "text": [
      "신라방마라탕 scroll\n"
     ]
    },
    {
     "name": "stderr",
     "output_type": "stream",
     "text": [
      "\r",
      "craw:  70%|███████   | 211/300 [4:57:28<54:17, 36.60s/it]  "
     ]
    },
    {
     "name": "stdout",
     "output_type": "stream",
     "text": [
      "wrong shop\n",
      "마장곱창 scroll\n",
      "마장곱창 47\n",
      "모든 리뷰 불러오기 시작...\n"
     ]
    },
    {
     "name": "stderr",
     "output_type": "stream",
     "text": [
      "\n",
      "save..:   0%|          | 0/47 [00:00<?, ?it/s]\u001b[A"
     ]
    },
    {
     "name": "stdout",
     "output_type": "stream",
     "text": [
      "모든 리뷰 불러오기 완료!\n"
     ]
    },
    {
     "name": "stderr",
     "output_type": "stream",
     "text": [
      "save..: 100%|██████████| 47/47 [00:02<00:00, 21.54it/s]\n"
     ]
    },
    {
     "name": "stdout",
     "output_type": "stream",
     "text": [
      "(37644, 11)\n"
     ]
    },
    {
     "name": "stderr",
     "output_type": "stream",
     "text": [
      "\r",
      "craw:  71%|███████   | 212/300 [4:57:59<51:09, 34.89s/it]"
     ]
    },
    {
     "name": "stdout",
     "output_type": "stream",
     "text": [
      "족발의신-답십리본점 scroll\n"
     ]
    },
    {
     "name": "stderr",
     "output_type": "stream",
     "text": [
      "\r",
      "craw:  71%|███████   | 213/300 [4:58:30<49:05, 33.86s/it]"
     ]
    },
    {
     "name": "stdout",
     "output_type": "stream",
     "text": [
      "wrong shop\n",
      "보보찰리베이커리-제기동점 scroll\n",
      "보보찰리베이커리-제기동점 scroll\n"
     ]
    },
    {
     "name": "stderr",
     "output_type": "stream",
     "text": [
      "\n",
      "save..:   0%|          | 0/3 [00:00<?, ?it/s]\u001b[A"
     ]
    },
    {
     "name": "stdout",
     "output_type": "stream",
     "text": [
      "보보찰리베이커리-제기동점 3\n",
      "모든 리뷰 불러오기 시작...\n",
      "모든 리뷰 불러오기 완료!\n"
     ]
    },
    {
     "name": "stderr",
     "output_type": "stream",
     "text": [
      "save..: 100%|██████████| 3/3 [00:00<00:00, 17.01it/s]\n"
     ]
    },
    {
     "name": "stdout",
     "output_type": "stream",
     "text": [
      "(37647, 11)\n"
     ]
    },
    {
     "name": "stderr",
     "output_type": "stream",
     "text": [
      "\r",
      "craw:  71%|███████▏  | 214/300 [4:59:04<48:41, 33.97s/it]"
     ]
    },
    {
     "name": "stdout",
     "output_type": "stream",
     "text": [
      "한나식빵-답십리점 scroll\n"
     ]
    },
    {
     "name": "stderr",
     "output_type": "stream",
     "text": [
      "\r",
      "craw:  72%|███████▏  | 215/300 [4:59:32<45:33, 32.16s/it]"
     ]
    },
    {
     "name": "stdout",
     "output_type": "stream",
     "text": [
      "wrong shop\n",
      "진아구-사가정역점 scroll\n",
      "진아구-사가정역점 38\n",
      "모든 리뷰 불러오기 시작...\n",
      "모든 리뷰 불러오기 완료!\n"
     ]
    },
    {
     "name": "stderr",
     "output_type": "stream",
     "text": [
      "\n",
      "save..: 100%|██████████| 38/38 [00:01<00:00, 22.35it/s]\n"
     ]
    },
    {
     "name": "stdout",
     "output_type": "stream",
     "text": [
      "(37685, 11)\n"
     ]
    },
    {
     "name": "stderr",
     "output_type": "stream",
     "text": [
      "\r",
      "craw:  72%|███████▏  | 216/300 [5:00:15<49:35, 35.43s/it]"
     ]
    },
    {
     "name": "stdout",
     "output_type": "stream",
     "text": [
      "한국통닭-면목시장점 scroll\n"
     ]
    },
    {
     "name": "stderr",
     "output_type": "stream",
     "text": [
      "\r",
      "craw:  72%|███████▏  | 217/300 [5:00:34<41:55, 30.31s/it]"
     ]
    },
    {
     "name": "stdout",
     "output_type": "stream",
     "text": [
      "wrong shop\n",
      "한촌설렁탕-답십리점 scroll\n"
     ]
    },
    {
     "name": "stderr",
     "output_type": "stream",
     "text": [
      "\n",
      "save..:   0%|          | 0/9 [00:00<?, ?it/s]\u001b[A"
     ]
    },
    {
     "name": "stdout",
     "output_type": "stream",
     "text": [
      "한촌설렁탕-답십리점 9\n",
      "모든 리뷰 불러오기 시작...\n",
      "모든 리뷰 불러오기 완료!\n"
     ]
    },
    {
     "name": "stderr",
     "output_type": "stream",
     "text": [
      "save..: 100%|██████████| 9/9 [00:00<00:00, 43.04it/s]\n"
     ]
    },
    {
     "name": "stdout",
     "output_type": "stream",
     "text": [
      "(37694, 11)\n"
     ]
    },
    {
     "name": "stderr",
     "output_type": "stream",
     "text": [
      "\r",
      "craw:  73%|███████▎  | 218/300 [5:01:17<46:38, 34.13s/it]"
     ]
    },
    {
     "name": "stdout",
     "output_type": "stream",
     "text": [
      "고기왕창통큰육회비빔밥-답십리점 scroll\n",
      "고기왕창통큰육회비빔밥-답십리점 12\n",
      "모든 리뷰 불러오기 시작...\n"
     ]
    },
    {
     "name": "stderr",
     "output_type": "stream",
     "text": [
      "\n",
      "save..:   0%|          | 0/12 [00:00<?, ?it/s]\u001b[A"
     ]
    },
    {
     "name": "stdout",
     "output_type": "stream",
     "text": [
      "모든 리뷰 불러오기 완료!\n"
     ]
    },
    {
     "name": "stderr",
     "output_type": "stream",
     "text": [
      "save..: 100%|██████████| 12/12 [00:00<00:00, 17.37it/s]\n"
     ]
    },
    {
     "name": "stdout",
     "output_type": "stream",
     "text": [
      "(37706, 11)\n"
     ]
    },
    {
     "name": "stderr",
     "output_type": "stream",
     "text": [
      "\r",
      "craw:  73%|███████▎  | 219/300 [5:01:47<44:35, 33.03s/it]"
     ]
    },
    {
     "name": "stdout",
     "output_type": "stream",
     "text": [
      "김준현의눈치떡-회기점 scroll\n"
     ]
    },
    {
     "name": "stderr",
     "output_type": "stream",
     "text": [
      "\n",
      "save..:   0%|          | 0/9 [00:00<?, ?it/s]\u001b[A"
     ]
    },
    {
     "name": "stdout",
     "output_type": "stream",
     "text": [
      "김준현의눈치떡-회기점 9\n",
      "모든 리뷰 불러오기 시작...\n",
      "모든 리뷰 불러오기 완료!\n"
     ]
    },
    {
     "name": "stderr",
     "output_type": "stream",
     "text": [
      "save..: 100%|██████████| 9/9 [00:00<00:00, 27.60it/s]\n"
     ]
    },
    {
     "name": "stdout",
     "output_type": "stream",
     "text": [
      "(37715, 11)\n"
     ]
    },
    {
     "name": "stderr",
     "output_type": "stream",
     "text": [
      "\r",
      "craw:  73%|███████▎  | 220/300 [5:02:31<48:12, 36.16s/it]"
     ]
    },
    {
     "name": "stdout",
     "output_type": "stream",
     "text": [
      "좋은맛-장안점 scroll\n"
     ]
    },
    {
     "name": "stderr",
     "output_type": "stream",
     "text": [
      "\r",
      "craw:  74%|███████▎  | 221/300 [5:02:36<35:34, 27.01s/it]"
     ]
    },
    {
     "name": "stdout",
     "output_type": "stream",
     "text": [
      "wrong shop\n",
      "청춘닭꼬치-장안점 scroll\n",
      "청춘닭꼬치-장안점 64\n",
      "모든 리뷰 불러오기 시작...\n",
      "모든 리뷰 불러오기 완료!\n"
     ]
    },
    {
     "name": "stderr",
     "output_type": "stream",
     "text": [
      "\n",
      "save..:   0%|          | 0/64 [00:00<?, ?it/s]\u001b[A\n",
      "save..: 100%|██████████| 64/64 [00:03<00:00, 17.11it/s]\u001b[A\n"
     ]
    },
    {
     "name": "stdout",
     "output_type": "stream",
     "text": [
      "(37779, 11)\n"
     ]
    },
    {
     "name": "stderr",
     "output_type": "stream",
     "text": [
      "\r",
      "craw:  74%|███████▍  | 222/300 [5:03:31<45:53, 35.30s/it]"
     ]
    },
    {
     "name": "stdout",
     "output_type": "stream",
     "text": [
      "못말리는파닭-전농시립대점 scroll\n"
     ]
    },
    {
     "name": "stderr",
     "output_type": "stream",
     "text": [
      "\r",
      "craw:  74%|███████▍  | 223/300 [5:03:37<33:52, 26.40s/it]"
     ]
    },
    {
     "name": "stdout",
     "output_type": "stream",
     "text": [
      "wrong shop\n",
      "신현대반점 scroll\n",
      "신현대반점 scroll\n",
      "신현대반점 1973\n",
      "모든 리뷰 불러오기 시작...\n",
      "모든 리뷰 불러오기 완료!\n"
     ]
    },
    {
     "name": "stderr",
     "output_type": "stream",
     "text": [
      "\n",
      "save..:   0%|          | 0/1973 [00:00<?, ?it/s]\u001b[A\n",
      "save..:   3%|▎         | 59/1973 [00:03<01:37, 19.60it/s]\u001b[A\n",
      "save..:   6%|▌         | 118/1973 [00:06<01:35, 19.40it/s]\u001b[A\n",
      "save..:   9%|▉         | 180/1973 [00:09<01:30, 19.72it/s]\u001b[A\n",
      "save..:  12%|█▏        | 239/1973 [00:12<01:28, 19.62it/s]\u001b[A\n",
      "save..:  16%|█▌        | 311/1973 [00:15<01:20, 20.65it/s]\u001b[A\n",
      "save..:  19%|█▉        | 375/1973 [00:18<01:17, 20.63it/s]\u001b[A\n",
      "save..:  23%|██▎       | 451/1973 [00:21<01:09, 21.78it/s]\u001b[A\n",
      "save..:  26%|██▌       | 515/1973 [00:24<01:07, 21.54it/s]\u001b[A\n",
      "save..:  30%|██▉       | 585/1973 [00:27<01:03, 21.83it/s]\u001b[A\n",
      "save..:  33%|███▎      | 649/1973 [00:31<01:08, 19.41it/s]\u001b[A\n",
      "save..:  36%|███▌      | 708/1973 [00:34<01:05, 19.41it/s]\u001b[A\n",
      "save..:  39%|███▉      | 767/1973 [00:37<01:03, 19.13it/s]\u001b[A\n",
      "save..:  42%|████▏     | 829/1973 [00:41<00:59, 19.29it/s]\u001b[A\n",
      "save..:  46%|████▌     | 899/1973 [00:44<00:52, 20.30it/s]\u001b[A\n",
      "save..:  49%|████▊     | 961/1973 [00:47<00:50, 20.10it/s]\u001b[A\n",
      "save..:  52%|█████▏    | 1022/1973 [00:51<00:51, 18.37it/s]\u001b[A\n",
      "save..:  55%|█████▍    | 1084/1973 [00:54<00:46, 18.94it/s]\u001b[A\n",
      "save..:  58%|█████▊    | 1142/1973 [00:57<00:43, 19.05it/s]\u001b[A\n",
      "save..:  61%|██████    | 1203/1973 [01:00<00:39, 19.29it/s]\u001b[A\n",
      "save..:  64%|██████▍   | 1263/1973 [01:03<00:36, 19.50it/s]\u001b[A\n",
      "save..:  67%|██████▋   | 1322/1973 [01:06<00:33, 19.39it/s]\u001b[A\n",
      "save..:  70%|██████▉   | 1381/1973 [01:10<00:32, 18.38it/s]\u001b[A\n",
      "save..:  73%|███████▎  | 1439/1973 [01:13<00:29, 18.09it/s]\u001b[A\n",
      "save..:  76%|███████▌  | 1501/1973 [01:16<00:25, 18.70it/s]\u001b[A\n",
      "save..:  79%|███████▉  | 1565/1973 [01:19<00:21, 19.30it/s]\u001b[A\n",
      "save..:  82%|████████▏ | 1627/1973 [01:22<00:17, 19.68it/s]\u001b[A\n",
      "save..:  86%|████████▌ | 1699/1973 [01:25<00:13, 20.75it/s]\u001b[A\n",
      "save..:  90%|████████▉ | 1772/1973 [01:28<00:09, 21.61it/s]\u001b[A\n",
      "save..:  93%|█████████▎| 1838/1973 [01:31<00:06, 21.34it/s]\u001b[A\n",
      "save..:  96%|█████████▋| 1903/1973 [01:34<00:03, 20.98it/s]\u001b[A\n",
      "save..: 100%|██████████| 1973/1973 [01:38<00:00, 20.08it/s]\u001b[A\n"
     ]
    },
    {
     "name": "stdout",
     "output_type": "stream",
     "text": [
      "(39752, 11)\n"
     ]
    },
    {
     "name": "stderr",
     "output_type": "stream",
     "text": [
      "\r",
      "craw:  75%|███████▍  | 224/300 [5:14:22<4:28:38, 212.08s/it]"
     ]
    },
    {
     "name": "stdout",
     "output_type": "stream",
     "text": [
      "프리미엄분식식탁-고대본점 scroll\n"
     ]
    },
    {
     "name": "stderr",
     "output_type": "stream",
     "text": [
      "\r",
      "craw:  75%|███████▌  | 225/300 [5:14:47<3:14:52, 155.90s/it]"
     ]
    },
    {
     "name": "stdout",
     "output_type": "stream",
     "text": [
      "wrong shop\n",
      "굽네치킨&피자-시립대점 scroll\n",
      "굽네치킨&피자-시립대점 scroll\n",
      "굽네치킨&피자-시립대점 631\n",
      "모든 리뷰 불러오기 시작...\n",
      "모든 리뷰 불러오기 완료!\n"
     ]
    },
    {
     "name": "stderr",
     "output_type": "stream",
     "text": [
      "\n",
      "save..:   0%|          | 0/631 [00:00<?, ?it/s]\u001b[A\n",
      "save..:  11%|█         | 70/631 [00:03<00:25, 22.28it/s]\u001b[A\n",
      "save..:  19%|█▊        | 117/631 [00:06<00:26, 19.65it/s]\u001b[A\n",
      "save..:  25%|██▌       | 159/631 [00:09<00:26, 17.48it/s]\u001b[A\n",
      "save..:  35%|███▌      | 221/631 [00:12<00:22, 18.18it/s]\u001b[A\n",
      "save..:  47%|████▋     | 295/631 [00:15<00:17, 19.66it/s]\u001b[A\n",
      "save..:  60%|██████    | 379/631 [00:18<00:11, 21.54it/s]\u001b[A\n",
      "save..:  74%|███████▍  | 468/631 [00:21<00:06, 23.45it/s]\u001b[A\n",
      "save..: 100%|██████████| 631/631 [00:26<00:00, 23.78it/s]\u001b[A\n"
     ]
    },
    {
     "name": "stdout",
     "output_type": "stream",
     "text": [
      "(40383, 11)\n"
     ]
    },
    {
     "name": "stderr",
     "output_type": "stream",
     "text": [
      "\r",
      "craw:  75%|███████▌  | 226/300 [5:18:05<3:27:51, 168.53s/it]"
     ]
    },
    {
     "name": "stdout",
     "output_type": "stream",
     "text": [
      "먹어도돼지 scroll\n"
     ]
    },
    {
     "name": "stderr",
     "output_type": "stream",
     "text": [
      "\n",
      "save..:   0%|          | 0/6 [00:00<?, ?it/s]\u001b[A"
     ]
    },
    {
     "name": "stdout",
     "output_type": "stream",
     "text": [
      "먹어도돼지 6\n",
      "모든 리뷰 불러오기 시작...\n",
      "모든 리뷰 불러오기 완료!\n"
     ]
    },
    {
     "name": "stderr",
     "output_type": "stream",
     "text": [
      "save..: 100%|██████████| 6/6 [00:00<00:00, 18.04it/s]\n"
     ]
    },
    {
     "name": "stdout",
     "output_type": "stream",
     "text": [
      "(40389, 11)\n"
     ]
    },
    {
     "name": "stderr",
     "output_type": "stream",
     "text": [
      "\r",
      "craw:  76%|███████▌  | 227/300 [5:18:40<2:36:13, 128.40s/it]"
     ]
    },
    {
     "name": "stdout",
     "output_type": "stream",
     "text": [
      "해마당해장국전문점 scroll\n"
     ]
    },
    {
     "name": "stderr",
     "output_type": "stream",
     "text": [
      "\r",
      "craw:  76%|███████▌  | 228/300 [5:18:53<1:52:44, 93.95s/it] "
     ]
    },
    {
     "name": "stdout",
     "output_type": "stream",
     "text": [
      "wrong shop\n",
      "뚜레쥬르-면목점 scroll\n",
      "뚜레쥬르-면목점 269\n",
      "모든 리뷰 불러오기 시작...\n",
      "모든 리뷰 불러오기 완료!\n"
     ]
    },
    {
     "name": "stderr",
     "output_type": "stream",
     "text": [
      "\n",
      "save..:   0%|          | 0/269 [00:00<?, ?it/s]\u001b[A\n",
      "save..:  26%|██▌       | 69/269 [00:03<00:08, 22.71it/s]\u001b[A\n",
      "save..:  46%|████▌     | 124/269 [00:06<00:06, 21.11it/s]\u001b[A\n",
      "save..:  68%|██████▊   | 182/269 [00:09<00:04, 20.51it/s]\u001b[A\n",
      "save..: 100%|██████████| 269/269 [00:14<00:00, 18.79it/s]\u001b[A\n"
     ]
    },
    {
     "name": "stdout",
     "output_type": "stream",
     "text": [
      "(40658, 11)\n"
     ]
    },
    {
     "name": "stderr",
     "output_type": "stream",
     "text": [
      "\r",
      "craw:  76%|███████▋  | 229/300 [5:20:18<1:47:53, 91.17s/it]"
     ]
    },
    {
     "name": "stdout",
     "output_type": "stream",
     "text": [
      "공룡도배부른안심탕수육&치킨 scroll\n",
      "공룡도배부른안심탕수육&치킨 115\n",
      "모든 리뷰 불러오기 시작...\n",
      "모든 리뷰 불러오기 완료!\n"
     ]
    },
    {
     "name": "stderr",
     "output_type": "stream",
     "text": [
      "\n",
      "save..:   0%|          | 0/115 [00:00<?, ?it/s]\u001b[A\n",
      "save..: 100%|██████████| 115/115 [00:05<00:00, 20.23it/s][A\n"
     ]
    },
    {
     "name": "stdout",
     "output_type": "stream",
     "text": [
      "(40773, 11)\n"
     ]
    },
    {
     "name": "stderr",
     "output_type": "stream",
     "text": [
      "\r",
      "craw:  77%|███████▋  | 230/300 [5:20:59<1:28:45, 76.08s/it]"
     ]
    },
    {
     "name": "stdout",
     "output_type": "stream",
     "text": [
      "한솥도시락-외대점 scroll\n",
      "한솥도시락-외대점 12\n",
      "모든 리뷰 불러오기 시작...\n",
      "모든 리뷰 불러오기 완료!\n"
     ]
    },
    {
     "name": "stderr",
     "output_type": "stream",
     "text": [
      "\n",
      "save..: 100%|██████████| 12/12 [00:00<00:00, 40.25it/s]\n"
     ]
    },
    {
     "name": "stdout",
     "output_type": "stream",
     "text": [
      "(40785, 11)\n"
     ]
    },
    {
     "name": "stderr",
     "output_type": "stream",
     "text": [
      "\r",
      "craw:  77%|███████▋  | 231/300 [5:21:46<1:17:24, 67.31s/it]"
     ]
    },
    {
     "name": "stdout",
     "output_type": "stream",
     "text": [
      "도시락파스타-회기본점 scroll\n"
     ]
    },
    {
     "name": "stderr",
     "output_type": "stream",
     "text": [
      "\r",
      "craw:  77%|███████▋  | 232/300 [5:21:56<56:55, 50.23s/it]  "
     ]
    },
    {
     "name": "stdout",
     "output_type": "stream",
     "text": [
      "wrong shop\n",
      "마라성연 scroll\n",
      "마라성연 scroll\n",
      "마라성연 1014\n",
      "모든 리뷰 불러오기 시작...\n",
      "모든 리뷰 불러오기 완료!\n"
     ]
    },
    {
     "name": "stderr",
     "output_type": "stream",
     "text": [
      "\n",
      "save..:   0%|          | 0/1014 [00:00<?, ?it/s]\u001b[A\n",
      "save..:   4%|▍         | 41/1014 [00:03<01:12, 13.50it/s]\u001b[A\n",
      "save..:   9%|▉         | 89/1014 [00:06<01:05, 14.12it/s]\u001b[A\n",
      "save..:  13%|█▎        | 131/1014 [00:09<01:03, 14.01it/s]\u001b[A\n",
      "save..:  18%|█▊        | 179/1014 [00:12<00:57, 14.48it/s]\u001b[A\n",
      "save..:  23%|██▎       | 232/1014 [00:15<00:51, 15.15it/s]\u001b[A\n",
      "save..:  29%|██▊       | 290/1014 [00:18<00:44, 16.15it/s]\u001b[A\n",
      "save..:  34%|███▎      | 340/1014 [00:21<00:41, 16.26it/s]\u001b[A\n",
      "save..:  39%|███▉      | 397/1014 [00:24<00:36, 16.83it/s]\u001b[A\n",
      "save..:  44%|████▍     | 446/1014 [00:27<00:34, 16.48it/s]\u001b[A\n",
      "save..:  49%|████▉     | 495/1014 [00:30<00:32, 15.94it/s]\u001b[A\n",
      "save..:  54%|█████▎    | 544/1014 [00:33<00:29, 16.00it/s]\u001b[A\n",
      "save..:  59%|█████▉    | 599/1014 [00:37<00:25, 16.53it/s]\u001b[A\n",
      "save..:  64%|██████▍   | 652/1014 [00:40<00:21, 16.77it/s]\u001b[A\n",
      "save..:  69%|██████▉   | 703/1014 [00:43<00:19, 15.95it/s]\u001b[A\n",
      "save..:  75%|███████▍  | 760/1014 [00:46<00:15, 16.75it/s]\u001b[A\n",
      "save..:  80%|███████▉  | 811/1014 [00:49<00:12, 16.69it/s]\u001b[A\n",
      "save..:  85%|████████▌ | 862/1014 [00:52<00:09, 16.57it/s]\u001b[A\n",
      "save..:  90%|█████████ | 915/1014 [00:55<00:05, 16.87it/s]\u001b[A\n",
      "save..: 100%|██████████| 1014/1014 [01:01<00:00, 16.62it/s][A\n"
     ]
    },
    {
     "name": "stdout",
     "output_type": "stream",
     "text": [
      "(41799, 11)\n"
     ]
    },
    {
     "name": "stderr",
     "output_type": "stream",
     "text": [
      "\r",
      "craw:  78%|███████▊  | 233/300 [5:27:09<2:24:08, 129.08s/it]"
     ]
    },
    {
     "name": "stdout",
     "output_type": "stream",
     "text": [
      "물로 scroll\n"
     ]
    },
    {
     "name": "stderr",
     "output_type": "stream",
     "text": [
      "\r",
      "craw:  78%|███████▊  | 234/300 [5:27:44<1:50:49, 100.75s/it]"
     ]
    },
    {
     "name": "stdout",
     "output_type": "stream",
     "text": [
      "wrong shop\n",
      "꼬부기곱창&거북곱창 scroll\n",
      "꼬부기곱창&거북곱창 scroll\n",
      "꼬부기곱창&거북곱창 38\n",
      "모든 리뷰 불러오기 시작...\n",
      "모든 리뷰 불러오기 완료!\n"
     ]
    },
    {
     "name": "stderr",
     "output_type": "stream",
     "text": [
      "\n",
      "save..: 100%|██████████| 38/38 [00:02<00:00, 18.88it/s]\n"
     ]
    },
    {
     "name": "stdout",
     "output_type": "stream",
     "text": [
      "(41837, 11)\n"
     ]
    },
    {
     "name": "stderr",
     "output_type": "stream",
     "text": [
      "\r",
      "craw:  78%|███████▊  | 235/300 [5:28:27<1:30:22, 83.42s/it] "
     ]
    },
    {
     "name": "stdout",
     "output_type": "stream",
     "text": [
      "김한돈덮밥 scroll\n"
     ]
    },
    {
     "name": "stderr",
     "output_type": "stream",
     "text": [
      "\n",
      "save..: 100%|██████████| 1/1 [00:00<00:00, 676.50it/s]"
     ]
    },
    {
     "name": "stdout",
     "output_type": "stream",
     "text": [
      "김한돈덮밥 1\n",
      "모든 리뷰 불러오기 시작...\n",
      "모든 리뷰 불러오기 완료!\n",
      "(41838, 11)\n"
     ]
    },
    {
     "name": "stderr",
     "output_type": "stream",
     "text": [
      "\n",
      "craw:  79%|███████▊  | 236/300 [5:28:51<1:10:11, 65.80s/it]"
     ]
    },
    {
     "name": "stdout",
     "output_type": "stream",
     "text": [
      "김가네-장안점 scroll\n",
      "김가네-장안점 915\n",
      "모든 리뷰 불러오기 시작...\n",
      "모든 리뷰 불러오기 완료!\n"
     ]
    },
    {
     "name": "stderr",
     "output_type": "stream",
     "text": [
      "\n",
      "save..:   0%|          | 0/915 [00:00<?, ?it/s]\u001b[A\n",
      "save..:   7%|▋         | 61/915 [00:03<00:42, 20.02it/s]\u001b[A\n",
      "save..:  15%|█▍        | 135/915 [00:06<00:37, 20.97it/s]\u001b[A\n",
      "save..:  24%|██▍       | 224/915 [00:09<00:30, 22.97it/s]\u001b[A\n",
      "save..:  32%|███▏      | 291/915 [00:12<00:27, 22.66it/s]\u001b[A\n",
      "save..:  38%|███▊      | 346/915 [00:15<00:28, 20.29it/s]\u001b[A\n",
      "save..:  45%|████▍     | 409/915 [00:18<00:24, 20.38it/s]\u001b[A\n",
      "save..:  51%|█████     | 465/915 [00:22<00:24, 18.06it/s]\u001b[A\n",
      "save..:  57%|█████▋    | 519/915 [00:25<00:22, 17.99it/s]\u001b[A\n",
      "save..:  63%|██████▎   | 578/915 [00:28<00:18, 18.39it/s]\u001b[A\n",
      "save..:  69%|██████▉   | 633/915 [00:31<00:15, 17.87it/s]\u001b[A\n",
      "save..:  78%|███████▊  | 712/915 [00:34<00:10, 19.74it/s]\u001b[A\n",
      "save..: 100%|██████████| 915/915 [00:38<00:00, 23.48it/s]\u001b[A\n"
     ]
    },
    {
     "name": "stdout",
     "output_type": "stream",
     "text": [
      "(42753, 11)\n"
     ]
    },
    {
     "name": "stderr",
     "output_type": "stream",
     "text": [
      "\r",
      "craw:  79%|███████▉  | 237/300 [5:33:03<2:07:43, 121.64s/it]"
     ]
    },
    {
     "name": "stdout",
     "output_type": "stream",
     "text": [
      "도시피자-동대문구직영점 scroll\n",
      "도시피자-동대문구직영점 11\n",
      "모든 리뷰 불러오기 시작...\n",
      "모든 리뷰 불러오기 완료!\n"
     ]
    },
    {
     "name": "stderr",
     "output_type": "stream",
     "text": [
      "\n",
      "save..: 100%|██████████| 11/11 [00:00<00:00, 22.34it/s]\n"
     ]
    },
    {
     "name": "stdout",
     "output_type": "stream",
     "text": [
      "(42764, 11)\n"
     ]
    },
    {
     "name": "stderr",
     "output_type": "stream",
     "text": [
      "\r",
      "craw:  79%|███████▉  | 238/300 [5:33:16<1:32:02, 89.07s/it] "
     ]
    },
    {
     "name": "stdout",
     "output_type": "stream",
     "text": [
      "임영웅의티바두마리-답십리점 scroll\n",
      "임영웅의티바두마리-답십리점 522\n",
      "모든 리뷰 불러오기 시작...\n",
      "모든 리뷰 불러오기 완료!\n"
     ]
    },
    {
     "name": "stderr",
     "output_type": "stream",
     "text": [
      "\n",
      "save..:   0%|          | 0/522 [00:00<?, ?it/s]\u001b[A\n",
      "save..:  15%|█▍        | 77/522 [00:03<00:17, 25.52it/s]\u001b[A\n",
      "save..:  29%|██▊       | 150/522 [00:06<00:14, 25.12it/s]\u001b[A\n",
      "save..:  45%|████▍     | 234/522 [00:09<00:11, 25.91it/s]\u001b[A\n",
      "save..:  59%|█████▊    | 306/522 [00:12<00:08, 25.21it/s]\u001b[A\n",
      "save..:  72%|███████▏  | 375/522 [00:15<00:06, 24.35it/s]\u001b[A\n",
      "save..: 100%|██████████| 522/522 [00:21<00:00, 24.82it/s]\u001b[A\n"
     ]
    },
    {
     "name": "stdout",
     "output_type": "stream",
     "text": [
      "(43286, 11)\n"
     ]
    },
    {
     "name": "stderr",
     "output_type": "stream",
     "text": [
      "\r",
      "craw:  80%|███████▉  | 239/300 [5:36:01<1:53:42, 111.84s/it]"
     ]
    },
    {
     "name": "stdout",
     "output_type": "stream",
     "text": [
      "전초전-사가정점 scroll\n",
      "전초전-사가정점 10\n",
      "모든 리뷰 불러오기 시작...\n"
     ]
    },
    {
     "name": "stderr",
     "output_type": "stream",
     "text": [
      "\n",
      "save..:   0%|          | 0/10 [00:00<?, ?it/s]\u001b[A"
     ]
    },
    {
     "name": "stdout",
     "output_type": "stream",
     "text": [
      "모든 리뷰 불러오기 완료!\n"
     ]
    },
    {
     "name": "stderr",
     "output_type": "stream",
     "text": [
      "save..: 100%|██████████| 10/10 [00:00<00:00, 14.54it/s]\n"
     ]
    },
    {
     "name": "stdout",
     "output_type": "stream",
     "text": [
      "(43296, 11)\n"
     ]
    },
    {
     "name": "stderr",
     "output_type": "stream",
     "text": [
      "\r",
      "craw:  80%|████████  | 240/300 [5:36:39<1:29:27, 89.47s/it] "
     ]
    },
    {
     "name": "stdout",
     "output_type": "stream",
     "text": [
      "파스타입니다-회기이문점 scroll\n",
      "파스타입니다-회기이문점 61\n",
      "모든 리뷰 불러오기 시작...\n",
      "모든 리뷰 불러오기 완료!\n"
     ]
    },
    {
     "name": "stderr",
     "output_type": "stream",
     "text": [
      "\n",
      "save..:   0%|          | 0/61 [00:00<?, ?it/s]\u001b[A\n",
      "save..: 100%|██████████| 61/61 [00:03<00:00, 17.42it/s]\u001b[A\n"
     ]
    },
    {
     "name": "stdout",
     "output_type": "stream",
     "text": [
      "(43357, 11)\n"
     ]
    },
    {
     "name": "stderr",
     "output_type": "stream",
     "text": [
      "\r",
      "craw:  80%|████████  | 241/300 [5:37:22<1:14:30, 75.78s/it]"
     ]
    },
    {
     "name": "stdout",
     "output_type": "stream",
     "text": [
      "포차에꼬치리 scroll\n"
     ]
    },
    {
     "name": "stderr",
     "output_type": "stream",
     "text": [
      "\n",
      "save..: 100%|██████████| 1/1 [00:00<00:00, 631.01it/s]"
     ]
    },
    {
     "name": "stdout",
     "output_type": "stream",
     "text": [
      "포차에꼬치리 1\n",
      "모든 리뷰 불러오기 시작...\n",
      "모든 리뷰 불러오기 완료!\n",
      "(43358, 11)\n"
     ]
    },
    {
     "name": "stderr",
     "output_type": "stream",
     "text": [
      "\n",
      "craw:  81%|████████  | 242/300 [5:38:17<1:07:06, 69.42s/it]"
     ]
    },
    {
     "name": "stdout",
     "output_type": "stream",
     "text": [
      "미스터바베큐 scroll\n",
      "미스터바베큐 6\n",
      "모든 리뷰 불러오기 시작...\n",
      "모든 리뷰 불러오기 완료!\n"
     ]
    },
    {
     "name": "stderr",
     "output_type": "stream",
     "text": [
      "\n",
      "save..: 100%|██████████| 6/6 [00:00<00:00, 15.54it/s]\n"
     ]
    },
    {
     "name": "stdout",
     "output_type": "stream",
     "text": [
      "(43364, 11)\n"
     ]
    },
    {
     "name": "stderr",
     "output_type": "stream",
     "text": [
      "\r",
      "craw:  81%|████████  | 243/300 [5:38:28<49:17, 51.89s/it]  "
     ]
    },
    {
     "name": "stdout",
     "output_type": "stream",
     "text": [
      "큰집닭강정-답십리점 scroll\n",
      "큰집닭강정-답십리점 61\n",
      "모든 리뷰 불러오기 시작...\n"
     ]
    },
    {
     "name": "stderr",
     "output_type": "stream",
     "text": [
      "\n",
      "save..:   0%|          | 0/61 [00:00<?, ?it/s]\u001b[A"
     ]
    },
    {
     "name": "stdout",
     "output_type": "stream",
     "text": [
      "모든 리뷰 불러오기 완료!\n"
     ]
    },
    {
     "name": "stderr",
     "output_type": "stream",
     "text": [
      "save..: 100%|██████████| 61/61 [00:01<00:00, 37.82it/s]\n"
     ]
    },
    {
     "name": "stdout",
     "output_type": "stream",
     "text": [
      "(43425, 11)\n"
     ]
    },
    {
     "name": "stderr",
     "output_type": "stream",
     "text": [
      "\r",
      "craw:  81%|████████▏ | 244/300 [5:39:10<45:36, 48.86s/it]"
     ]
    },
    {
     "name": "stdout",
     "output_type": "stream",
     "text": [
      "뿅가곱창-이문동점 scroll\n"
     ]
    },
    {
     "name": "stderr",
     "output_type": "stream",
     "text": [
      "\r",
      "craw:  82%|████████▏ | 245/300 [5:39:20<34:10, 37.28s/it]"
     ]
    },
    {
     "name": "stdout",
     "output_type": "stream",
     "text": [
      "wrong shop\n",
      "당진아구찜-면목점 scroll\n"
     ]
    },
    {
     "name": "stderr",
     "output_type": "stream",
     "text": [
      "\n",
      "save..: 100%|██████████| 1/1 [00:00<00:00, 16.93it/s]"
     ]
    },
    {
     "name": "stdout",
     "output_type": "stream",
     "text": [
      "당진아구찜-면목점 1\n",
      "모든 리뷰 불러오기 시작...\n",
      "모든 리뷰 불러오기 완료!\n",
      "(43426, 11)\n"
     ]
    },
    {
     "name": "stderr",
     "output_type": "stream",
     "text": [
      "\n",
      "craw:  82%|████████▏ | 246/300 [5:40:07<36:17, 40.32s/it]"
     ]
    },
    {
     "name": "stdout",
     "output_type": "stream",
     "text": [
      "차고집칡냉면-동대문점 scroll\n"
     ]
    },
    {
     "name": "stderr",
     "output_type": "stream",
     "text": [
      "\r",
      "craw:  82%|████████▏ | 247/300 [5:40:22<28:54, 32.73s/it]"
     ]
    },
    {
     "name": "stdout",
     "output_type": "stream",
     "text": [
      "wrong shop\n",
      "길동우동-동부시장점 scroll\n"
     ]
    },
    {
     "name": "stderr",
     "output_type": "stream",
     "text": [
      "\n",
      "save..: 100%|██████████| 1/1 [00:00<00:00, 1380.61it/s]"
     ]
    },
    {
     "name": "stdout",
     "output_type": "stream",
     "text": [
      "길동우동-동부시장점 1\n",
      "모든 리뷰 불러오기 시작...\n",
      "모든 리뷰 불러오기 완료!\n",
      "(43427, 11)\n"
     ]
    },
    {
     "name": "stderr",
     "output_type": "stream",
     "text": [
      "\n",
      "craw:  83%|████████▎ | 248/300 [5:40:48<26:25, 30.49s/it]"
     ]
    },
    {
     "name": "stdout",
     "output_type": "stream",
     "text": [
      "역전숯불바베큐 scroll\n"
     ]
    },
    {
     "name": "stderr",
     "output_type": "stream",
     "text": [
      "\r",
      "craw:  83%|████████▎ | 249/300 [5:41:24<27:23, 32.23s/it]"
     ]
    },
    {
     "name": "stdout",
     "output_type": "stream",
     "text": [
      "wrong shop\n",
      "더크림 scroll\n",
      "더크림 scroll\n",
      "더크림 77\n",
      "모든 리뷰 불러오기 시작...\n",
      "모든 리뷰 불러오기 완료!\n"
     ]
    },
    {
     "name": "stderr",
     "output_type": "stream",
     "text": [
      "\n",
      "save..:   0%|          | 0/77 [00:00<?, ?it/s]\u001b[A\n",
      "save..: 100%|██████████| 77/77 [00:05<00:00, 13.55it/s]\u001b[A\n"
     ]
    },
    {
     "name": "stdout",
     "output_type": "stream",
     "text": [
      "(43504, 11)\n"
     ]
    },
    {
     "name": "stderr",
     "output_type": "stream",
     "text": [
      "\r",
      "craw:  83%|████████▎ | 250/300 [5:42:17<32:05, 38.51s/it]"
     ]
    },
    {
     "name": "stdout",
     "output_type": "stream",
     "text": [
      "메이크샐러드-외대점 scroll\n",
      "메이크샐러드-외대점 353\n",
      "모든 리뷰 불러오기 시작...\n",
      "모든 리뷰 불러오기 완료!\n"
     ]
    },
    {
     "name": "stderr",
     "output_type": "stream",
     "text": [
      "\n",
      "save..:   0%|          | 0/353 [00:00<?, ?it/s]\u001b[A\n",
      "save..:  15%|█▌        | 54/353 [00:03<00:16, 17.80it/s]\u001b[A\n",
      "save..:  34%|███▍      | 120/353 [00:06<00:12, 18.86it/s]\u001b[A\n",
      "save..:  58%|█████▊    | 205/353 [00:09<00:07, 20.96it/s]\u001b[A\n",
      "save..: 100%|██████████| 353/353 [00:14<00:00, 24.37it/s]\u001b[A\n"
     ]
    },
    {
     "name": "stdout",
     "output_type": "stream",
     "text": [
      "(43857, 11)\n"
     ]
    },
    {
     "name": "stderr",
     "output_type": "stream",
     "text": [
      "\r",
      "craw:  84%|████████▎ | 251/300 [5:43:58<46:37, 57.09s/it]"
     ]
    },
    {
     "name": "stdout",
     "output_type": "stream",
     "text": [
      "왕돈까스왕냉면-사가정점 scroll\n",
      "왕돈까스왕냉면-사가정점 135\n",
      "모든 리뷰 불러오기 시작...\n",
      "모든 리뷰 불러오기 완료!\n"
     ]
    },
    {
     "name": "stderr",
     "output_type": "stream",
     "text": [
      "\n",
      "save..:   0%|          | 0/135 [00:00<?, ?it/s]\u001b[A\n",
      "save..: 100%|██████████| 135/135 [00:05<00:00, 26.89it/s][A\n"
     ]
    },
    {
     "name": "stdout",
     "output_type": "stream",
     "text": [
      "(43992, 11)\n"
     ]
    },
    {
     "name": "stderr",
     "output_type": "stream",
     "text": [
      "\r",
      "craw:  84%|████████▍ | 252/300 [5:45:01<47:08, 58.92s/it]"
     ]
    },
    {
     "name": "stdout",
     "output_type": "stream",
     "text": [
      "착한족발-월계점 scroll\n",
      "착한족발-월계점 219\n",
      "모든 리뷰 불러오기 시작...\n",
      "모든 리뷰 불러오기 완료!\n"
     ]
    },
    {
     "name": "stderr",
     "output_type": "stream",
     "text": [
      "\n",
      "save..:   0%|          | 0/219 [00:00<?, ?it/s]\u001b[A\n",
      "save..:  31%|███       | 68/219 [00:03<00:06, 22.65it/s]\u001b[A\n",
      "save..: 100%|██████████| 219/219 [00:08<00:00, 26.17it/s]\u001b[A\n"
     ]
    },
    {
     "name": "stdout",
     "output_type": "stream",
     "text": [
      "(44211, 11)\n"
     ]
    },
    {
     "name": "stderr",
     "output_type": "stream",
     "text": [
      "\r",
      "craw:  84%|████████▍ | 253/300 [5:46:28<52:48, 67.41s/it]"
     ]
    },
    {
     "name": "stdout",
     "output_type": "stream",
     "text": [
      "등갈비의신화 scroll\n"
     ]
    },
    {
     "name": "stderr",
     "output_type": "stream",
     "text": [
      "\n",
      "save..:   0%|          | 0/1 [00:00<?, ?it/s]\u001b[A"
     ]
    },
    {
     "name": "stdout",
     "output_type": "stream",
     "text": [
      "등갈비의신화 1\n",
      "모든 리뷰 불러오기 시작...\n",
      "모든 리뷰 불러오기 완료!\n"
     ]
    },
    {
     "name": "stderr",
     "output_type": "stream",
     "text": [
      "save..: 100%|██████████| 1/1 [00:00<00:00,  8.22it/s]\n"
     ]
    },
    {
     "name": "stdout",
     "output_type": "stream",
     "text": [
      "(44212, 11)\n"
     ]
    },
    {
     "name": "stderr",
     "output_type": "stream",
     "text": [
      "\r",
      "craw:  85%|████████▍ | 254/300 [5:46:45<40:04, 52.27s/it]"
     ]
    },
    {
     "name": "stdout",
     "output_type": "stream",
     "text": [
      "김싸부의일식당-중랑점 scroll\n",
      "김싸부의일식당-중랑점 42\n",
      "모든 리뷰 불러오기 시작...\n"
     ]
    },
    {
     "name": "stderr",
     "output_type": "stream",
     "text": [
      "\n",
      "save..:   0%|          | 0/42 [00:00<?, ?it/s]\u001b[A"
     ]
    },
    {
     "name": "stdout",
     "output_type": "stream",
     "text": [
      "모든 리뷰 불러오기 완료!\n"
     ]
    },
    {
     "name": "stderr",
     "output_type": "stream",
     "text": [
      "save..: 100%|██████████| 42/42 [00:01<00:00, 30.57it/s]\n"
     ]
    },
    {
     "name": "stdout",
     "output_type": "stream",
     "text": [
      "(44254, 11)\n"
     ]
    },
    {
     "name": "stderr",
     "output_type": "stream",
     "text": [
      "\r",
      "craw:  85%|████████▌ | 255/300 [5:47:41<40:04, 53.44s/it]"
     ]
    },
    {
     "name": "stdout",
     "output_type": "stream",
     "text": [
      "유끼노하나 눈꽃빙수&수제디저트 scroll\n",
      "유끼노하나 눈꽃빙수&수제디저트 193\n",
      "모든 리뷰 불러오기 시작...\n",
      "모든 리뷰 불러오기 완료!\n"
     ]
    },
    {
     "name": "stderr",
     "output_type": "stream",
     "text": [
      "\n",
      "save..:   0%|          | 0/193 [00:00<?, ?it/s]\u001b[A\n",
      "save..:  15%|█▌        | 29/193 [00:03<00:17,  9.31it/s]\u001b[A\n",
      "save..:  35%|███▍      | 67/193 [00:06<00:12, 10.08it/s]\u001b[A\n",
      "save..:  59%|█████▉    | 114/193 [00:09<00:07, 11.20it/s]\u001b[A\n",
      "save..: 100%|██████████| 193/193 [00:14<00:00, 13.14it/s]\u001b[A\n"
     ]
    },
    {
     "name": "stdout",
     "output_type": "stream",
     "text": [
      "(44447, 11)\n"
     ]
    },
    {
     "name": "stderr",
     "output_type": "stream",
     "text": [
      "\r",
      "craw:  85%|████████▌ | 256/300 [5:49:07<46:25, 63.31s/it]"
     ]
    },
    {
     "name": "stdout",
     "output_type": "stream",
     "text": [
      "돈까스짱-중화점 scroll\n",
      "돈까스짱-중화점 289\n",
      "모든 리뷰 불러오기 시작...\n",
      "모든 리뷰 불러오기 완료!\n"
     ]
    },
    {
     "name": "stderr",
     "output_type": "stream",
     "text": [
      "\n",
      "save..:   0%|          | 0/289 [00:00<?, ?it/s]\u001b[A\n",
      "save..:  21%|██        | 61/289 [00:03<00:11, 20.21it/s]\u001b[A\n",
      "save..:  43%|████▎     | 124/289 [00:06<00:08, 20.29it/s]\u001b[A\n",
      "save..:  62%|██████▏   | 180/289 [00:09<00:05, 19.69it/s]\u001b[A\n",
      "save..: 100%|██████████| 289/289 [00:14<00:00, 19.60it/s]\u001b[A\n"
     ]
    },
    {
     "name": "stdout",
     "output_type": "stream",
     "text": [
      "(44736, 11)\n"
     ]
    },
    {
     "name": "stderr",
     "output_type": "stream",
     "text": [
      "\r",
      "craw:  86%|████████▌ | 257/300 [5:50:43<52:19, 73.00s/it]"
     ]
    },
    {
     "name": "stdout",
     "output_type": "stream",
     "text": [
      "카츠앤포 scroll\n",
      "카츠앤포 25\n",
      "모든 리뷰 불러오기 시작...\n"
     ]
    },
    {
     "name": "stderr",
     "output_type": "stream",
     "text": [
      "\n",
      "save..:   0%|          | 0/25 [00:00<?, ?it/s]\u001b[A"
     ]
    },
    {
     "name": "stdout",
     "output_type": "stream",
     "text": [
      "모든 리뷰 불러오기 완료!\n"
     ]
    },
    {
     "name": "stderr",
     "output_type": "stream",
     "text": [
      "save..: 100%|██████████| 25/25 [00:00<00:00, 32.67it/s]\n"
     ]
    },
    {
     "name": "stdout",
     "output_type": "stream",
     "text": [
      "(44761, 11)\n"
     ]
    },
    {
     "name": "stderr",
     "output_type": "stream",
     "text": [
      "\r",
      "craw:  86%|████████▌ | 258/300 [5:51:13<41:57, 59.95s/it]"
     ]
    },
    {
     "name": "stdout",
     "output_type": "stream",
     "text": [
      "샐러데이 scroll\n",
      "샐러데이 55\n",
      "모든 리뷰 불러오기 시작...\n",
      "모든 리뷰 불러오기 완료!\n"
     ]
    },
    {
     "name": "stderr",
     "output_type": "stream",
     "text": [
      "\n",
      "save..: 100%|██████████| 55/55 [00:02<00:00, 22.90it/s]\n"
     ]
    },
    {
     "name": "stdout",
     "output_type": "stream",
     "text": [
      "(44816, 11)\n"
     ]
    },
    {
     "name": "stderr",
     "output_type": "stream",
     "text": [
      "\r",
      "craw:  86%|████████▋ | 259/300 [5:52:05<39:25, 57.69s/it]"
     ]
    },
    {
     "name": "stdout",
     "output_type": "stream",
     "text": [
      "대한닭발1979-본점 scroll\n"
     ]
    },
    {
     "name": "stderr",
     "output_type": "stream",
     "text": [
      "\r",
      "craw:  87%|████████▋ | 260/300 [5:52:43<34:32, 51.81s/it]"
     ]
    },
    {
     "name": "stdout",
     "output_type": "stream",
     "text": [
      "wrong shop\n",
      "리김밥-홈플러스동대문점 scroll\n",
      "리김밥-홈플러스동대문점 scroll\n"
     ]
    },
    {
     "name": "stderr",
     "output_type": "stream",
     "text": [
      "\n",
      "save..: 100%|██████████| 1/1 [00:00<00:00, 10.76it/s]"
     ]
    },
    {
     "name": "stdout",
     "output_type": "stream",
     "text": [
      "리김밥-홈플러스동대문점 1\n",
      "모든 리뷰 불러오기 시작...\n",
      "모든 리뷰 불러오기 완료!\n"
     ]
    },
    {
     "name": "stderr",
     "output_type": "stream",
     "text": [
      "\n"
     ]
    },
    {
     "name": "stdout",
     "output_type": "stream",
     "text": [
      "(44817, 11)\n"
     ]
    },
    {
     "name": "stderr",
     "output_type": "stream",
     "text": [
      "\r",
      "craw:  87%|████████▋ | 261/300 [5:53:30<32:40, 50.27s/it]"
     ]
    },
    {
     "name": "stdout",
     "output_type": "stream",
     "text": [
      "오하이요돈까스&돈부리 scroll\n"
     ]
    },
    {
     "name": "stderr",
     "output_type": "stream",
     "text": [
      "\r",
      "craw:  87%|████████▋ | 262/300 [5:53:45<25:07, 39.68s/it]"
     ]
    },
    {
     "name": "stdout",
     "output_type": "stream",
     "text": [
      "wrong shop\n",
      "엄마손김치-본점 scroll\n"
     ]
    },
    {
     "name": "stderr",
     "output_type": "stream",
     "text": [
      "\n",
      "save..: 100%|██████████| 1/1 [00:00<00:00, 942.12it/s]"
     ]
    },
    {
     "name": "stdout",
     "output_type": "stream",
     "text": [
      "엄마손김치-본점 1\n",
      "모든 리뷰 불러오기 시작...\n",
      "모든 리뷰 불러오기 완료!\n",
      "(44818, 11)\n"
     ]
    },
    {
     "name": "stderr",
     "output_type": "stream",
     "text": [
      "\n",
      "craw:  88%|████████▊ | 263/300 [5:54:24<24:21, 39.50s/it]"
     ]
    },
    {
     "name": "stdout",
     "output_type": "stream",
     "text": [
      "청수냉면소불고기갈비탕 scroll\n",
      "청수냉면소불고기갈비탕 27\n",
      "모든 리뷰 불러오기 시작...\n"
     ]
    },
    {
     "name": "stderr",
     "output_type": "stream",
     "text": [
      "\n",
      "save..:   0%|          | 0/27 [00:00<?, ?it/s]\u001b[A"
     ]
    },
    {
     "name": "stdout",
     "output_type": "stream",
     "text": [
      "모든 리뷰 불러오기 완료!\n"
     ]
    },
    {
     "name": "stderr",
     "output_type": "stream",
     "text": [
      "save..: 100%|██████████| 27/27 [00:01<00:00, 24.26it/s]\n"
     ]
    },
    {
     "name": "stdout",
     "output_type": "stream",
     "text": [
      "(44845, 11)\n"
     ]
    },
    {
     "name": "stderr",
     "output_type": "stream",
     "text": [
      "\r",
      "craw:  88%|████████▊ | 264/300 [5:55:03<23:42, 39.52s/it]"
     ]
    },
    {
     "name": "stdout",
     "output_type": "stream",
     "text": [
      "뽀빠이부대찌개 scroll\n",
      "뽀빠이부대찌개 117\n",
      "모든 리뷰 불러오기 시작...\n",
      "모든 리뷰 불러오기 완료!\n"
     ]
    },
    {
     "name": "stderr",
     "output_type": "stream",
     "text": [
      "\n",
      "save..: 100%|██████████| 117/117 [00:01<00:00, 89.69it/s]\n"
     ]
    },
    {
     "name": "stdout",
     "output_type": "stream",
     "text": [
      "(44962, 11)\n"
     ]
    },
    {
     "name": "stderr",
     "output_type": "stream",
     "text": [
      "\r",
      "craw:  88%|████████▊ | 265/300 [5:56:12<28:06, 48.20s/it]"
     ]
    },
    {
     "name": "stdout",
     "output_type": "stream",
     "text": [
      "원수산 scroll\n"
     ]
    },
    {
     "name": "stderr",
     "output_type": "stream",
     "text": [
      "\r",
      "craw:  89%|████████▊ | 266/300 [5:56:48<25:18, 44.67s/it]"
     ]
    },
    {
     "name": "stdout",
     "output_type": "stream",
     "text": [
      "wrong shop\n",
      "다미안푸드 scroll\n"
     ]
    },
    {
     "name": "stderr",
     "output_type": "stream",
     "text": [
      "\n",
      "save..: 100%|██████████| 2/2 [00:00<00:00, 1274.67it/s]"
     ]
    },
    {
     "name": "stdout",
     "output_type": "stream",
     "text": [
      "다미안푸드 2\n",
      "모든 리뷰 불러오기 시작...\n",
      "모든 리뷰 불러오기 완료!\n",
      "(44964, 11)\n"
     ]
    },
    {
     "name": "stderr",
     "output_type": "stream",
     "text": [
      "\n",
      "craw:  89%|████████▉ | 267/300 [5:57:01<19:14, 34.99s/it]"
     ]
    },
    {
     "name": "stdout",
     "output_type": "stream",
     "text": [
      "굽네치킨&피자-이문2호점 scroll\n",
      "굽네치킨&피자-이문2호점 376\n",
      "모든 리뷰 불러오기 시작...\n",
      "모든 리뷰 불러오기 완료!\n"
     ]
    },
    {
     "name": "stderr",
     "output_type": "stream",
     "text": [
      "\n",
      "save..:   0%|          | 0/376 [00:00<?, ?it/s]\u001b[A\n",
      "save..:  16%|█▋        | 62/376 [00:03<00:15, 20.50it/s]\u001b[A\n",
      "save..:  35%|███▍      | 131/376 [00:06<00:11, 21.11it/s]\u001b[A\n",
      "save..: 100%|██████████| 376/376 [00:11<00:00, 32.03it/s]\u001b[A\n"
     ]
    },
    {
     "name": "stdout",
     "output_type": "stream",
     "text": [
      "(45340, 11)\n"
     ]
    },
    {
     "name": "stderr",
     "output_type": "stream",
     "text": [
      "\r",
      "craw:  89%|████████▉ | 268/300 [5:58:55<31:25, 58.92s/it]"
     ]
    },
    {
     "name": "stdout",
     "output_type": "stream",
     "text": [
      "온복식당-덮밥전문점 scroll\n"
     ]
    },
    {
     "name": "stderr",
     "output_type": "stream",
     "text": [
      "\n",
      "save..:   0%|          | 0/5 [00:00<?, ?it/s]\u001b[A"
     ]
    },
    {
     "name": "stdout",
     "output_type": "stream",
     "text": [
      "온복식당-덮밥전문점 5\n",
      "모든 리뷰 불러오기 시작...\n",
      "모든 리뷰 불러오기 완료!\n"
     ]
    },
    {
     "name": "stderr",
     "output_type": "stream",
     "text": [
      "save..: 100%|██████████| 5/5 [00:00<00:00, 15.96it/s]\n"
     ]
    },
    {
     "name": "stdout",
     "output_type": "stream",
     "text": [
      "(45345, 11)\n"
     ]
    },
    {
     "name": "stderr",
     "output_type": "stream",
     "text": [
      "\r",
      "craw:  90%|████████▉ | 269/300 [5:59:47<29:17, 56.70s/it]"
     ]
    },
    {
     "name": "stdout",
     "output_type": "stream",
     "text": [
      "PB델리-전농삼성점 scroll\n"
     ]
    },
    {
     "name": "stderr",
     "output_type": "stream",
     "text": [
      "\r",
      "craw:  90%|█████████ | 270/300 [5:59:51<20:27, 40.92s/it]"
     ]
    },
    {
     "name": "stdout",
     "output_type": "stream",
     "text": [
      "wrong shop\n",
      "김치공장 scroll\n",
      "김치공장 6\n",
      "모든 리뷰 불러오기 시작...\n",
      "모든 리뷰 불러오기 완료!\n"
     ]
    },
    {
     "name": "stderr",
     "output_type": "stream",
     "text": [
      "\n",
      "save..: 100%|██████████| 6/6 [00:00<00:00, 14.17it/s]\n"
     ]
    },
    {
     "name": "stdout",
     "output_type": "stream",
     "text": [
      "(45351, 11)\n"
     ]
    },
    {
     "name": "stderr",
     "output_type": "stream",
     "text": [
      "\r",
      "craw:  90%|█████████ | 271/300 [6:00:23<18:28, 38.24s/it]"
     ]
    },
    {
     "name": "stdout",
     "output_type": "stream",
     "text": [
      "풍천장어마을 scroll\n"
     ]
    },
    {
     "name": "stderr",
     "output_type": "stream",
     "text": [
      "\n",
      "save..: 100%|██████████| 1/1 [00:00<00:00,  7.64it/s]"
     ]
    },
    {
     "name": "stdout",
     "output_type": "stream",
     "text": [
      "풍천장어마을 1\n",
      "모든 리뷰 불러오기 시작...\n",
      "모든 리뷰 불러오기 완료!\n"
     ]
    },
    {
     "name": "stderr",
     "output_type": "stream",
     "text": [
      "\n"
     ]
    },
    {
     "name": "stdout",
     "output_type": "stream",
     "text": [
      "(45352, 11)\n"
     ]
    },
    {
     "name": "stderr",
     "output_type": "stream",
     "text": [
      "\r",
      "craw:  91%|█████████ | 272/300 [6:00:38<14:36, 31.32s/it]"
     ]
    },
    {
     "name": "stdout",
     "output_type": "stream",
     "text": [
      "구어발라 scroll\n"
     ]
    },
    {
     "name": "stderr",
     "output_type": "stream",
     "text": [
      "\r",
      "craw:  91%|█████████ | 273/300 [6:00:53<11:53, 26.44s/it]"
     ]
    },
    {
     "name": "stdout",
     "output_type": "stream",
     "text": [
      "wrong shop\n",
      "아라연대게 scroll\n",
      "아라연대게 scroll\n",
      "아라연대게 32\n",
      "모든 리뷰 불러오기 시작...\n"
     ]
    },
    {
     "name": "stderr",
     "output_type": "stream",
     "text": [
      "\n",
      "save..:   0%|          | 0/32 [00:00<?, ?it/s]\u001b[A"
     ]
    },
    {
     "name": "stdout",
     "output_type": "stream",
     "text": [
      "모든 리뷰 불러오기 완료!\n"
     ]
    },
    {
     "name": "stderr",
     "output_type": "stream",
     "text": [
      "save..: 100%|██████████| 32/32 [00:01<00:00, 19.23it/s]\n"
     ]
    },
    {
     "name": "stdout",
     "output_type": "stream",
     "text": [
      "(45384, 11)\n"
     ]
    },
    {
     "name": "stderr",
     "output_type": "stream",
     "text": [
      "\r",
      "craw:  91%|█████████▏| 274/300 [6:01:24<11:59, 27.65s/it]"
     ]
    },
    {
     "name": "stdout",
     "output_type": "stream",
     "text": [
      "1992덮밥앤짜글이-중랑점 scroll\n"
     ]
    },
    {
     "name": "stderr",
     "output_type": "stream",
     "text": [
      "\r",
      "craw:  92%|█████████▏| 275/300 [6:01:55<11:59, 28.76s/it]"
     ]
    },
    {
     "name": "stdout",
     "output_type": "stream",
     "text": [
      "wrong shop\n",
      "39돈까스-외대점 scroll\n",
      "39돈까스-외대점 scroll\n",
      "39돈까스-외대점 987\n",
      "모든 리뷰 불러오기 시작...\n",
      "모든 리뷰 불러오기 완료!\n"
     ]
    },
    {
     "name": "stderr",
     "output_type": "stream",
     "text": [
      "\n",
      "save..:   0%|          | 0/987 [00:00<?, ?it/s]\u001b[A\n",
      "save..:   7%|▋         | 66/987 [00:03<00:42, 21.65it/s]\u001b[A\n",
      "save..:  13%|█▎        | 130/987 [00:06<00:39, 21.55it/s]\u001b[A\n",
      "save..:  21%|██        | 209/987 [00:09<00:34, 22.53it/s]\u001b[A\n",
      "save..:  28%|██▊       | 275/987 [00:12<00:31, 22.33it/s]\u001b[A\n",
      "save..:  33%|███▎      | 330/987 [00:15<00:31, 20.94it/s]\u001b[A\n",
      "save..:  41%|████      | 402/987 [00:18<00:26, 21.70it/s]\u001b[A\n",
      "save..:  47%|████▋     | 461/987 [00:21<00:25, 20.69it/s]\u001b[A\n",
      "save..:  54%|█████▍    | 533/987 [00:24<00:21, 21.49it/s]\u001b[A\n",
      "save..:  60%|██████    | 595/987 [00:27<00:18, 21.13it/s]\u001b[A\n",
      "save..:  67%|██████▋   | 660/987 [00:30<00:15, 21.25it/s]\u001b[A\n",
      "save..:  73%|███████▎  | 724/987 [00:33<00:12, 21.18it/s]\u001b[A\n",
      "save..:  80%|███████▉  | 787/987 [00:36<00:09, 21.05it/s]\u001b[A\n",
      "save..:  87%|████████▋ | 854/987 [00:39<00:06, 21.15it/s]\u001b[A\n",
      "save..: 100%|██████████| 987/987 [00:43<00:00, 22.48it/s]\u001b[A\n"
     ]
    },
    {
     "name": "stdout",
     "output_type": "stream",
     "text": [
      "(46371, 11)\n"
     ]
    },
    {
     "name": "stderr",
     "output_type": "stream",
     "text": [
      "\r",
      "craw:  92%|█████████▏| 276/300 [6:06:39<42:08, 105.33s/it]"
     ]
    },
    {
     "name": "stdout",
     "output_type": "stream",
     "text": [
      "60계-장안점 scroll\n",
      "60계-장안점 988\n",
      "모든 리뷰 불러오기 시작...\n",
      "모든 리뷰 불러오기 완료!\n"
     ]
    },
    {
     "name": "stderr",
     "output_type": "stream",
     "text": [
      "\n",
      "save..:   0%|          | 0/988 [00:00<?, ?it/s]\u001b[A\n",
      "save..:  10%|█         | 100/988 [00:03<00:26, 33.03it/s]\u001b[A\n",
      "save..:  17%|█▋        | 170/988 [00:06<00:28, 29.14it/s]\u001b[A\n",
      "save..:  26%|██▋       | 260/988 [00:09<00:25, 28.84it/s]\u001b[A\n",
      "save..:  37%|███▋      | 368/988 [00:12<00:20, 30.59it/s]\u001b[A\n",
      "save..:  52%|█████▏    | 513/988 [00:15<00:13, 34.37it/s]\u001b[A\n",
      "save..:  70%|██████▉   | 687/988 [00:18<00:07, 39.16it/s]\u001b[A\n",
      "save..: 100%|██████████| 988/988 [00:24<00:00, 40.67it/s]\u001b[A\n"
     ]
    },
    {
     "name": "stdout",
     "output_type": "stream",
     "text": [
      "(47359, 11)\n"
     ]
    },
    {
     "name": "stderr",
     "output_type": "stream",
     "text": [
      "\r",
      "craw:  92%|█████████▏| 277/300 [6:11:05<58:48, 153.43s/it]"
     ]
    },
    {
     "name": "stdout",
     "output_type": "stream",
     "text": [
      "단골손님-사가정점 scroll\n",
      "단골손님-사가정점 16\n",
      "모든 리뷰 불러오기 시작...\n"
     ]
    },
    {
     "name": "stderr",
     "output_type": "stream",
     "text": [
      "\n",
      "save..:   0%|          | 0/16 [00:00<?, ?it/s]\u001b[A"
     ]
    },
    {
     "name": "stdout",
     "output_type": "stream",
     "text": [
      "모든 리뷰 불러오기 완료!\n"
     ]
    },
    {
     "name": "stderr",
     "output_type": "stream",
     "text": [
      "save..: 100%|██████████| 16/16 [00:00<00:00, 18.13it/s]\n"
     ]
    },
    {
     "name": "stdout",
     "output_type": "stream",
     "text": [
      "(47375, 11)\n"
     ]
    },
    {
     "name": "stderr",
     "output_type": "stream",
     "text": [
      "\r",
      "craw:  93%|█████████▎| 278/300 [6:11:42<43:29, 118.63s/it]"
     ]
    },
    {
     "name": "stdout",
     "output_type": "stream",
     "text": [
      "촨커-중국전통요리전문점 scroll\n",
      "촨커-중국전통요리전문점 40\n",
      "모든 리뷰 불러오기 시작...\n",
      "모든 리뷰 불러오기 완료!\n"
     ]
    },
    {
     "name": "stderr",
     "output_type": "stream",
     "text": [
      "\n",
      "save..: 100%|██████████| 40/40 [00:01<00:00, 29.32it/s]\n"
     ]
    },
    {
     "name": "stdout",
     "output_type": "stream",
     "text": [
      "(47415, 11)\n"
     ]
    },
    {
     "name": "stderr",
     "output_type": "stream",
     "text": [
      "\r",
      "craw:  93%|█████████▎| 279/300 [6:12:34<34:33, 98.74s/it] "
     ]
    },
    {
     "name": "stdout",
     "output_type": "stream",
     "text": [
      "이삭토스트-장안현대점 scroll\n"
     ]
    },
    {
     "name": "stderr",
     "output_type": "stream",
     "text": [
      "\r",
      "craw:  93%|█████████▎| 280/300 [6:13:04<25:59, 77.96s/it]"
     ]
    },
    {
     "name": "stdout",
     "output_type": "stream",
     "text": [
      "wrong shop\n",
      "오마뎅-답십리래미안점 scroll\n",
      "오마뎅-답십리래미안점 scroll\n",
      "오마뎅-답십리래미안점 18\n",
      "모든 리뷰 불러오기 시작...\n"
     ]
    },
    {
     "name": "stderr",
     "output_type": "stream",
     "text": [
      "\n",
      "save..:   0%|          | 0/18 [00:00<?, ?it/s]\u001b[A"
     ]
    },
    {
     "name": "stdout",
     "output_type": "stream",
     "text": [
      "모든 리뷰 불러오기 완료!\n"
     ]
    },
    {
     "name": "stderr",
     "output_type": "stream",
     "text": [
      "save..: 100%|██████████| 18/18 [00:00<00:00, 41.57it/s]\n"
     ]
    },
    {
     "name": "stdout",
     "output_type": "stream",
     "text": [
      "(47433, 11)\n"
     ]
    },
    {
     "name": "stderr",
     "output_type": "stream",
     "text": [
      "\r",
      "craw:  94%|█████████▎| 281/300 [6:13:48<21:29, 67.86s/it]"
     ]
    },
    {
     "name": "stdout",
     "output_type": "stream",
     "text": [
      "어산스시 scroll\n"
     ]
    },
    {
     "name": "stderr",
     "output_type": "stream",
     "text": [
      "\r",
      "craw:  94%|█████████▍| 282/300 [6:14:05<15:45, 52.51s/it]"
     ]
    },
    {
     "name": "stdout",
     "output_type": "stream",
     "text": [
      "wrong shop\n",
      "후라이드참잘하는집-장안점 scroll\n",
      "후라이드참잘하는집-장안점 scroll\n",
      "후라이드참잘하는집-장안점 1771\n",
      "모든 리뷰 불러오기 시작...\n",
      "모든 리뷰 불러오기 완료!\n"
     ]
    },
    {
     "name": "stderr",
     "output_type": "stream",
     "text": [
      "\n",
      "save..:   0%|          | 0/1771 [00:00<?, ?it/s]\u001b[A\n",
      "save..:   3%|▎         | 56/1771 [00:03<01:32, 18.62it/s]\u001b[A\n",
      "save..:   7%|▋         | 122/1771 [00:06<01:24, 19.46it/s]\u001b[A\n",
      "save..:  11%|█         | 191/1771 [00:09<01:17, 20.37it/s]\u001b[A\n",
      "save..:  15%|█▍        | 265/1771 [00:12<01:10, 21.47it/s]\u001b[A\n",
      "save..:  18%|█▊        | 323/1771 [00:15<01:10, 20.67it/s]\u001b[A\n",
      "save..:  22%|██▏       | 383/1771 [00:18<01:08, 20.37it/s]\u001b[A\n",
      "save..:  25%|██▌       | 450/1771 [00:21<01:03, 20.76it/s]\u001b[A\n",
      "save..:  29%|██▊       | 509/1771 [00:24<01:03, 20.01it/s]\u001b[A\n",
      "save..:  35%|███▍      | 619/1771 [00:27<00:49, 23.11it/s]\u001b[A\n",
      "save..:  41%|████▏     | 734/1771 [00:30<00:39, 26.09it/s]\u001b[A\n",
      "save..:  47%|████▋     | 824/1771 [00:33<00:34, 27.07it/s]\u001b[A\n",
      "save..:  51%|█████▏    | 910/1771 [00:37<00:35, 24.56it/s]\u001b[A\n",
      "save..:  58%|█████▊    | 1024/1771 [00:40<00:27, 27.41it/s]\u001b[A\n",
      "save..:  65%|██████▍   | 1148/1771 [00:43<00:20, 30.49it/s]\u001b[A\n",
      "save..:  74%|███████▍  | 1316/1771 [00:46<00:12, 35.28it/s]\u001b[A\n",
      "save..:  84%|████████▎ | 1480/1771 [00:49<00:07, 39.33it/s]\u001b[A\n",
      "save..: 100%|██████████| 1771/1771 [00:54<00:00, 32.70it/s]\u001b[A\n"
     ]
    },
    {
     "name": "stdout",
     "output_type": "stream",
     "text": [
      "(49204, 11)\n"
     ]
    },
    {
     "name": "stderr",
     "output_type": "stream",
     "text": [
      "\r",
      "craw:  94%|█████████▍| 283/300 [6:22:42<54:19, 191.76s/it]"
     ]
    },
    {
     "name": "stdout",
     "output_type": "stream",
     "text": [
      "부스부리또-서울시립대점 scroll\n",
      "부스부리또-서울시립대점 12\n",
      "모든 리뷰 불러오기 시작...\n"
     ]
    },
    {
     "name": "stderr",
     "output_type": "stream",
     "text": [
      "\n",
      "save..:   0%|          | 0/12 [00:00<?, ?it/s]\u001b[A"
     ]
    },
    {
     "name": "stdout",
     "output_type": "stream",
     "text": [
      "모든 리뷰 불러오기 완료!\n"
     ]
    },
    {
     "name": "stderr",
     "output_type": "stream",
     "text": [
      "save..: 100%|██████████| 12/12 [00:00<00:00, 22.08it/s]\n"
     ]
    },
    {
     "name": "stdout",
     "output_type": "stream",
     "text": [
      "(49216, 11)\n"
     ]
    },
    {
     "name": "stderr",
     "output_type": "stream",
     "text": [
      "\r",
      "craw:  95%|█████████▍| 284/300 [6:23:33<39:56, 149.77s/it]"
     ]
    },
    {
     "name": "stdout",
     "output_type": "stream",
     "text": [
      "육감만족-답십리점 scroll\n"
     ]
    },
    {
     "name": "stderr",
     "output_type": "stream",
     "text": [
      "\n",
      "save..:   0%|          | 0/6 [00:00<?, ?it/s]\u001b[A"
     ]
    },
    {
     "name": "stdout",
     "output_type": "stream",
     "text": [
      "육감만족-답십리점 6\n",
      "모든 리뷰 불러오기 시작...\n",
      "모든 리뷰 불러오기 완료!\n"
     ]
    },
    {
     "name": "stderr",
     "output_type": "stream",
     "text": [
      "save..: 100%|██████████| 6/6 [00:00<00:00, 19.23it/s]\n"
     ]
    },
    {
     "name": "stdout",
     "output_type": "stream",
     "text": [
      "(49222, 11)\n"
     ]
    },
    {
     "name": "stderr",
     "output_type": "stream",
     "text": [
      "\r",
      "craw:  95%|█████████▌| 285/300 [6:24:22<29:49, 119.28s/it]"
     ]
    },
    {
     "name": "stdout",
     "output_type": "stream",
     "text": [
      "사리원돼지국밥&순대국 scroll\n"
     ]
    },
    {
     "name": "stderr",
     "output_type": "stream",
     "text": [
      "\r",
      "craw:  95%|█████████▌| 286/300 [6:24:29<19:59, 85.67s/it] "
     ]
    },
    {
     "name": "stdout",
     "output_type": "stream",
     "text": [
      "wrong shop\n",
      "팔공티-경희대점 scroll\n",
      "팔공티-경희대점 82\n",
      "모든 리뷰 불러오기 시작...\n",
      "모든 리뷰 불러오기 완료!\n"
     ]
    },
    {
     "name": "stderr",
     "output_type": "stream",
     "text": [
      "\n",
      "save..:   0%|          | 0/82 [00:00<?, ?it/s]\u001b[A\n",
      "save..: 100%|██████████| 82/82 [00:03<00:00, 24.37it/s]\u001b[A\n"
     ]
    },
    {
     "name": "stdout",
     "output_type": "stream",
     "text": [
      "(49304, 11)\n"
     ]
    },
    {
     "name": "stderr",
     "output_type": "stream",
     "text": [
      "\r",
      "craw:  96%|█████████▌| 287/300 [6:25:09<15:36, 72.07s/it]"
     ]
    },
    {
     "name": "stdout",
     "output_type": "stream",
     "text": [
      "코코버블티-경희대입구점 scroll\n",
      "코코버블티-경희대입구점 17\n",
      "모든 리뷰 불러오기 시작...\n"
     ]
    },
    {
     "name": "stderr",
     "output_type": "stream",
     "text": [
      "\n",
      "save..:   0%|          | 0/17 [00:00<?, ?it/s]\u001b[A"
     ]
    },
    {
     "name": "stdout",
     "output_type": "stream",
     "text": [
      "모든 리뷰 불러오기 완료!\n"
     ]
    },
    {
     "name": "stderr",
     "output_type": "stream",
     "text": [
      "save..: 100%|██████████| 17/17 [00:00<00:00, 22.93it/s]\n"
     ]
    },
    {
     "name": "stdout",
     "output_type": "stream",
     "text": [
      "(49321, 11)\n"
     ]
    },
    {
     "name": "stderr",
     "output_type": "stream",
     "text": [
      "\r",
      "craw:  96%|█████████▌| 288/300 [6:25:26<11:04, 55.37s/it]"
     ]
    },
    {
     "name": "stdout",
     "output_type": "stream",
     "text": [
      "메가커피-용마산역점 scroll\n",
      "메가커피-용마산역점 5\n",
      "모든 리뷰 불러오기 시작...\n",
      "모든 리뷰 불러오기 완료!\n"
     ]
    },
    {
     "name": "stderr",
     "output_type": "stream",
     "text": [
      "\n",
      "save..: 100%|██████████| 5/5 [00:00<00:00, 43.08it/s]\n"
     ]
    },
    {
     "name": "stdout",
     "output_type": "stream",
     "text": [
      "(49326, 11)\n"
     ]
    },
    {
     "name": "stderr",
     "output_type": "stream",
     "text": [
      "\r",
      "craw:  96%|█████████▋| 289/300 [6:26:02<09:05, 49.61s/it]"
     ]
    },
    {
     "name": "stdout",
     "output_type": "stream",
     "text": [
      "1988감성식당&혼밥의정석 scroll\n",
      "1988감성식당&혼밥의정석 10\n",
      "모든 리뷰 불러오기 시작...\n",
      "모든 리뷰 불러오기 완료!\n"
     ]
    },
    {
     "name": "stderr",
     "output_type": "stream",
     "text": [
      "\n",
      "save..: 100%|██████████| 10/10 [00:00<00:00, 23.17it/s]\n"
     ]
    },
    {
     "name": "stdout",
     "output_type": "stream",
     "text": [
      "(49336, 11)\n"
     ]
    },
    {
     "name": "stderr",
     "output_type": "stream",
     "text": [
      "\r",
      "craw:  97%|█████████▋| 290/300 [6:26:32<07:19, 43.91s/it]"
     ]
    },
    {
     "name": "stdout",
     "output_type": "stream",
     "text": [
      "국선생-전농점 scroll\n",
      "국선생-전농점 46\n",
      "모든 리뷰 불러오기 시작...\n",
      "모든 리뷰 불러오기 완료!\n"
     ]
    },
    {
     "name": "stderr",
     "output_type": "stream",
     "text": [
      "\n",
      "save..: 100%|██████████| 46/46 [00:01<00:00, 25.79it/s]\n"
     ]
    },
    {
     "name": "stdout",
     "output_type": "stream",
     "text": [
      "(49382, 11)\n"
     ]
    },
    {
     "name": "stderr",
     "output_type": "stream",
     "text": [
      "\r",
      "craw:  97%|█████████▋| 291/300 [6:27:27<07:03, 47.10s/it]"
     ]
    },
    {
     "name": "stdout",
     "output_type": "stream",
     "text": [
      "골라먹는짱닭치킨-사가정점 scroll\n"
     ]
    },
    {
     "name": "stderr",
     "output_type": "stream",
     "text": [
      "\r",
      "craw:  97%|█████████▋| 292/300 [6:27:33<04:37, 34.67s/it]"
     ]
    },
    {
     "name": "stdout",
     "output_type": "stream",
     "text": [
      "wrong shop\n",
      "계림원-회기점 scroll\n"
     ]
    },
    {
     "name": "stderr",
     "output_type": "stream",
     "text": [
      "\n",
      "save..:   0%|          | 0/5 [00:00<?, ?it/s]\u001b[A"
     ]
    },
    {
     "name": "stdout",
     "output_type": "stream",
     "text": [
      "계림원-회기점 5\n",
      "모든 리뷰 불러오기 시작...\n",
      "모든 리뷰 불러오기 완료!\n"
     ]
    },
    {
     "name": "stderr",
     "output_type": "stream",
     "text": [
      "save..: 100%|██████████| 5/5 [00:00<00:00, 16.02it/s]\n"
     ]
    },
    {
     "name": "stdout",
     "output_type": "stream",
     "text": [
      "(49387, 11)\n"
     ]
    },
    {
     "name": "stderr",
     "output_type": "stream",
     "text": [
      "\r",
      "craw:  98%|█████████▊| 293/300 [6:27:50<03:25, 29.37s/it]"
     ]
    },
    {
     "name": "stdout",
     "output_type": "stream",
     "text": [
      "그옛날1947왕만두-이문점 scroll\n",
      "그옛날1947왕만두-이문점 80\n",
      "모든 리뷰 불러오기 시작...\n",
      "모든 리뷰 불러오기 완료!\n"
     ]
    },
    {
     "name": "stderr",
     "output_type": "stream",
     "text": [
      "\n",
      "save..:   0%|          | 0/80 [00:00<?, ?it/s]\u001b[A\n",
      "save..: 100%|██████████| 80/80 [00:03<00:00, 21.59it/s]\u001b[A\n"
     ]
    },
    {
     "name": "stdout",
     "output_type": "stream",
     "text": [
      "(49467, 11)\n"
     ]
    },
    {
     "name": "stderr",
     "output_type": "stream",
     "text": [
      "\r",
      "craw:  98%|█████████▊| 294/300 [6:28:23<03:04, 30.72s/it]"
     ]
    },
    {
     "name": "stdout",
     "output_type": "stream",
     "text": [
      "스시앤참치혼 scroll\n",
      "스시앤참치혼 96\n",
      "모든 리뷰 불러오기 시작...\n",
      "모든 리뷰 불러오기 완료!\n"
     ]
    },
    {
     "name": "stderr",
     "output_type": "stream",
     "text": [
      "\n",
      "save..:   0%|          | 0/96 [00:00<?, ?it/s]\u001b[A\n",
      "save..: 100%|██████████| 96/96 [00:03<00:00, 24.52it/s]\u001b[A\n"
     ]
    },
    {
     "name": "stdout",
     "output_type": "stream",
     "text": [
      "(49563, 11)\n"
     ]
    },
    {
     "name": "stderr",
     "output_type": "stream",
     "text": [
      "\r",
      "craw:  98%|█████████▊| 295/300 [6:29:46<03:50, 46.15s/it]"
     ]
    },
    {
     "name": "stdout",
     "output_type": "stream",
     "text": [
      "그옛날1947왕만두-경희대점 scroll\n"
     ]
    },
    {
     "name": "stderr",
     "output_type": "stream",
     "text": [
      "\n",
      "save..: 100%|██████████| 1/1 [00:00<00:00, 1052.52it/s]"
     ]
    },
    {
     "name": "stdout",
     "output_type": "stream",
     "text": [
      "그옛날1947왕만두-경희대점 1\n",
      "모든 리뷰 불러오기 시작...\n",
      "모든 리뷰 불러오기 완료!\n",
      "(49564, 11)\n"
     ]
    },
    {
     "name": "stderr",
     "output_type": "stream",
     "text": [
      "\n",
      "craw:  99%|█████████▊| 296/300 [6:30:02<02:29, 37.27s/it]"
     ]
    },
    {
     "name": "stdout",
     "output_type": "stream",
     "text": [
      "회기농장 scroll\n"
     ]
    },
    {
     "name": "stderr",
     "output_type": "stream",
     "text": [
      "\n",
      "save..: 100%|██████████| 1/1 [00:00<00:00, 1022.50it/s]"
     ]
    },
    {
     "name": "stdout",
     "output_type": "stream",
     "text": [
      "회기농장 1\n",
      "모든 리뷰 불러오기 시작...\n",
      "모든 리뷰 불러오기 완료!\n",
      "(49565, 11)\n"
     ]
    },
    {
     "name": "stderr",
     "output_type": "stream",
     "text": [
      "\n",
      "craw:  99%|█████████▉| 297/300 [6:30:33<01:46, 35.37s/it]"
     ]
    },
    {
     "name": "stdout",
     "output_type": "stream",
     "text": [
      "에그드랍-면목역점 scroll\n",
      "에그드랍-면목역점 637\n",
      "모든 리뷰 불러오기 시작...\n",
      "모든 리뷰 불러오기 완료!\n"
     ]
    },
    {
     "name": "stderr",
     "output_type": "stream",
     "text": [
      "\n",
      "save..:   0%|          | 0/637 [00:00<?, ?it/s]\u001b[A\n",
      "save..:  10%|▉         | 63/637 [00:03<00:27, 20.60it/s]\u001b[A\n",
      "save..:  22%|██▏       | 138/637 [00:06<00:22, 21.73it/s]\u001b[A\n",
      "save..:  32%|███▏      | 201/637 [00:09<00:20, 21.51it/s]\u001b[A\n",
      "save..:  45%|████▌     | 288/637 [00:12<00:15, 23.25it/s]\u001b[A\n",
      "save..:  58%|█████▊    | 367/637 [00:15<00:11, 24.03it/s]\u001b[A\n",
      "save..:  71%|███████   | 450/637 [00:18<00:07, 24.90it/s]\u001b[A\n",
      "save..: 100%|██████████| 637/637 [00:23<00:00, 27.51it/s]\u001b[A\n"
     ]
    },
    {
     "name": "stdout",
     "output_type": "stream",
     "text": [
      "(50202, 11)\n"
     ]
    },
    {
     "name": "stderr",
     "output_type": "stream",
     "text": [
      "\r",
      "craw:  99%|█████████▉| 298/300 [6:33:30<02:35, 77.85s/it]"
     ]
    },
    {
     "name": "stdout",
     "output_type": "stream",
     "text": [
      "락식락당-경희대점 scroll\n",
      "락식락당-경희대점 1053\n",
      "모든 리뷰 불러오기 시작...\n",
      "모든 리뷰 불러오기 완료!\n"
     ]
    },
    {
     "name": "stderr",
     "output_type": "stream",
     "text": [
      "\n",
      "save..:   0%|          | 0/1053 [00:00<?, ?it/s]\u001b[A\n",
      "save..:   6%|▌         | 62/1053 [00:03<00:50, 19.76it/s]\u001b[A\n",
      "save..:  11%|█▏        | 119/1053 [00:06<00:48, 19.42it/s]\u001b[A\n",
      "save..:  16%|█▋        | 173/1053 [00:09<00:46, 18.90it/s]\u001b[A\n",
      "save..:  21%|██▏       | 226/1053 [00:12<00:45, 18.32it/s]\u001b[A\n",
      "save..:  27%|██▋       | 284/1053 [00:15<00:41, 18.54it/s]\u001b[A\n",
      "save..:  33%|███▎      | 349/1053 [00:18<00:36, 19.23it/s]\u001b[A\n",
      "save..:  39%|███▉      | 409/1053 [00:21<00:33, 19.38it/s]\u001b[A\n",
      "save..:  44%|████▍     | 464/1053 [00:24<00:30, 19.04it/s]\u001b[A\n",
      "save..:  50%|█████     | 529/1053 [00:27<00:26, 19.72it/s]\u001b[A\n",
      "save..:  56%|█████▌    | 587/1053 [00:30<00:24, 19.14it/s]\u001b[A\n",
      "save..:  61%|██████    | 644/1053 [00:34<00:22, 18.35it/s]\u001b[A\n",
      "save..:  66%|██████▋   | 699/1053 [00:37<00:19, 18.01it/s]\u001b[A\n",
      "save..:  72%|███████▏  | 756/1053 [00:40<00:16, 18.24it/s]\u001b[A\n",
      "save..:  77%|███████▋  | 811/1053 [00:43<00:13, 17.60it/s]\u001b[A\n",
      "save..:  82%|████████▏ | 868/1053 [00:46<00:10, 17.92it/s]\u001b[A\n",
      "save..:  90%|█████████ | 950/1053 [00:49<00:05, 19.95it/s]\u001b[A\n",
      "save..: 100%|██████████| 1053/1053 [00:53<00:00, 19.65it/s]\u001b[A\n"
     ]
    },
    {
     "name": "stdout",
     "output_type": "stream",
     "text": [
      "(51255, 11)\n"
     ]
    },
    {
     "name": "stderr",
     "output_type": "stream",
     "text": [
      "\r",
      "craw: 100%|█████████▉| 299/300 [6:38:33<02:25, 145.53s/it]"
     ]
    },
    {
     "name": "stdout",
     "output_type": "stream",
     "text": [
      "롯데리아-장안사거리점 scroll\n",
      "롯데리아-장안사거리점 1479\n",
      "모든 리뷰 불러오기 시작...\n",
      "모든 리뷰 불러오기 완료!\n"
     ]
    },
    {
     "name": "stderr",
     "output_type": "stream",
     "text": [
      "\n",
      "save..:   0%|          | 0/1479 [00:00<?, ?it/s]\u001b[A\n",
      "save..:   4%|▍         | 66/1479 [00:03<01:04, 21.75it/s]\u001b[A\n",
      "save..:   9%|▉         | 139/1479 [00:06<00:59, 22.44it/s]\u001b[A\n",
      "save..:  14%|█▍        | 214/1479 [00:09<00:54, 23.07it/s]\u001b[A\n",
      "save..:  19%|█▉        | 286/1479 [00:12<00:51, 23.31it/s]\u001b[A\n",
      "save..:  24%|██▎       | 348/1479 [00:15<00:50, 22.27it/s]\u001b[A\n",
      "save..:  27%|██▋       | 405/1479 [00:18<00:50, 21.12it/s]\u001b[A\n",
      "save..:  32%|███▏      | 472/1479 [00:21<00:47, 21.37it/s]\u001b[A\n",
      "save..:  37%|███▋      | 552/1479 [00:24<00:40, 22.71it/s]\u001b[A\n",
      "save..:  44%|████▍     | 653/1479 [00:27<00:32, 25.09it/s]\u001b[A\n",
      "save..:  52%|█████▏    | 769/1479 [00:30<00:25, 27.93it/s]\u001b[A\n",
      "save..:  58%|█████▊    | 860/1479 [00:33<00:21, 28.57it/s]\u001b[A\n",
      "save..:  66%|██████▌   | 978/1479 [00:36<00:16, 30.80it/s]\u001b[A\n",
      "save..: 100%|██████████| 1479/1479 [00:41<00:00, 36.00it/s]\u001b[A\n"
     ]
    },
    {
     "name": "stdout",
     "output_type": "stream",
     "text": [
      "(52734, 11)\n"
     ]
    },
    {
     "name": "stderr",
     "output_type": "stream",
     "text": [
      "craw: 100%|██████████| 300/300 [6:45:19<00:00, 81.06s/it] "
     ]
    },
    {
     "name": "stdout",
     "output_type": "stream",
     "text": [
      "tot_shop:599,crawling sucess\n"
     ]
    },
    {
     "name": "stderr",
     "output_type": "stream",
     "text": [
      "\n"
     ]
    }
   ],
   "source": [
    "cata=4\n",
    "start=300\n",
    "end=600\n",
    "\n",
    "\n",
    "shops_list=uni_shop.shop[uni_shop.catagory == cata].tolist()\n",
    "col_list=['shop','name','date','tot_star','star_flavor','star_volume','star_deliver','menu','review_customer','review_owner','img_name']\n",
    "df=pd.DataFrame(columns=col_list)\n",
    "global driver\n",
    "#driver.quit()\n",
    "driver=driver_start(university)\n",
    "for i in tqdm(range(start,end),desc='craw'):\n",
    "    shop=shops_list[i]\n",
    "    go_stop=scroll_element(shop)\n",
    "    if go_stop:\n",
    "        #스크롤 했는데 음식점 없으면 다음으로 넘어감\n",
    "        print('wrong shop')\n",
    "        continue\n",
    "    \n",
    "    time.sleep(3)\n",
    "    \n",
    "        #찾은 음식점 클릭\n",
    "    try:\n",
    "        driver.find_element_by_xpath(f'//*[@title=\"{shop}\"]').click()\n",
    "    except (Exception, NoSuchElementException, ElementClickInterceptedException):\n",
    "        driver.quit()\n",
    "        driver=driver_start(university)\n",
    "        time.sleep(2)\n",
    "        scroll_element(shop)\n",
    "        time.sleep(3)\n",
    "        driver.find_element_by_xpath(f'//*[@title=\"{shop}\"]').click()\n",
    "    time.sleep(3)\n",
    "    \n",
    "\n",
    "    new=craw(i,shop,driver,col_list,cata)\n",
    "    df=pd.concat([new,df])\n",
    "    print(df.shape)\n",
    "    driver.back()\n",
    "    time.sleep(2)\n",
    "\n",
    "print(f'tot_shop:{i},crawling sucess')"
   ]
  },
  {
   "cell_type": "code",
   "execution_count": 9,
   "metadata": {},
   "outputs": [],
   "source": [
    "df.to_csv(path+f'cata{cata}_2.csv',index=False)"
   ]
  },
  {
   "cell_type": "code",
   "execution_count": null,
   "metadata": {},
   "outputs": [],
   "source": []
  }
 ],
 "metadata": {
  "kernelspec": {
   "display_name": "Python 3",
   "language": "python",
   "name": "python3"
  },
  "language_info": {
   "codemirror_mode": {
    "name": "ipython",
    "version": 3
   },
   "file_extension": ".py",
   "mimetype": "text/x-python",
   "name": "python",
   "nbconvert_exporter": "python",
   "pygments_lexer": "ipython3",
   "version": "3.8.5"
  }
 },
 "nbformat": 4,
 "nbformat_minor": 4
}
