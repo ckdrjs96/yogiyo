{
 "cells": [
  {
   "cell_type": "code",
   "execution_count": 1,
   "metadata": {},
   "outputs": [],
   "source": [
    "from selenium import webdriver\n",
    "from bs4 import BeautifulSoup\n",
    "from selenium.webdriver.support.ui import WebDriverWait\n",
    "from selenium.webdriver.support import expected_conditions as EC\n",
    "from selenium.webdriver.common.by import By\n",
    "import pandas as pd\n",
    "import time\n",
    "from urllib.request import urlretrieve\n",
    "from tqdm import tqdm\n",
    "from selenium.webdriver import ActionChains\n",
    "import re"
   ]
  },
  {
   "cell_type": "code",
   "execution_count": 11,
   "metadata": {},
   "outputs": [],
   "source": [
    "from selenium.common.exceptions import NoSuchElementException"
   ]
  },
  {
   "cell_type": "code",
   "execution_count": 2,
   "metadata": {},
   "outputs": [],
   "source": [
    "#서울특별시 동대문구 회기동 36-3 경희대학교\n",
    "#'서울특별시 동대문구 전농동 694 서울시립대학교'\n",
    "#서울특별시 동대문구 이문동 284-1 한국외국어대학교"
   ]
  },
  {
   "cell_type": "code",
   "execution_count": 3,
   "metadata": {},
   "outputs": [],
   "source": [
    "def driver_start(university):\n",
    "    chrome_options = webdriver.ChromeOptions() \n",
    "    chrome_options.add_argument('--headless')#창없이 실행\n",
    "    chrome_options.add_argument('--no-sandbox')\n",
    "    chrome_options.add_argument('--disable-dev-shm-usage')\n",
    "\n",
    "    path=r'/data/chromedriver'\n",
    "    driver = webdriver.Chrome(executable_path=path,chrome_options=chrome_options)\n",
    "    driver.set_window_size(1024,1000)\n",
    "\n",
    "    url = \"https://www.yogiyo.co.kr/mobile/#/\"\n",
    "    driver.get(url)\n",
    "    time.sleep(1)\n",
    "    driver.find_element_by_xpath('//*[@id=\"search\"]/div/form/input').clear()\n",
    "    driver.find_element_by_xpath('//*[@id=\"search\"]/div/form/input').send_keys(university)\n",
    "    driver.find_element_by_xpath('//*[@id=\"button_search_address\"]/button[2]').click()\n",
    "    time.sleep(1)\n",
    "    \n",
    "    return driver"
   ]
  },
  {
   "cell_type": "code",
   "execution_count": 4,
   "metadata": {},
   "outputs": [],
   "source": [
    "def scroll():\n",
    "    last_height = driver.execute_script(\"return document.body.scrollHeight\")\n",
    "    while True:\n",
    "        driver.execute_script(\"window.scrollTo(0, document.body.scrollHeight);\")\n",
    "        time.sleep(1)\n",
    "        new_height = driver.execute_script(\"return document.body.scrollHeight\")\n",
    "        if new_height == last_height: #스크롤후 높이 변화 없으면 탈출\n",
    "            break\n",
    "        last_height = new_height"
   ]
  },
  {
   "cell_type": "code",
   "execution_count": 5,
   "metadata": {},
   "outputs": [],
   "source": [
    "def shops_catag(driver,cnt):\n",
    "    driver.find_element_by_xpath(f'//*[@id=\"category\"]/ul/li[{cnt}]/span').click() #치킨,피자등 카테고리 클릭\n",
    "    time.sleep(3)\n",
    "\n",
    "    last_height = driver.execute_script(\"return document.body.scrollHeight\")\n",
    "    \n",
    "    scroll()\n",
    "\n",
    "    html = driver.page_source\n",
    "    soup = BeautifulSoup(html, 'html.parser')\n",
    "    soup2=soup.find_all('div',{'class':\"restaurant-list\"})[2]\n",
    "    name_list=[x.text for x in soup2.find_all('div',{'ng-bind':\"restaurant.name\"})]\n",
    "    \n",
    "    return name_list"
   ]
  },
  {
   "cell_type": "code",
   "execution_count": 6,
   "metadata": {},
   "outputs": [],
   "source": [
    "def scroll_element(shop):#음식점이 있는 곳까지 스크롤\n",
    "    print(f\"{shop} scroll\")\n",
    "    while True:\n",
    "        last_height = driver.execute_script(\"return document.body.scrollHeight\")\n",
    "        try:\n",
    "            some_tag = driver.find_element_by_xpath(f'//*[@title=\"{shop}\"]')\n",
    "            if some_tag:\n",
    "                return False\n",
    "        except Exception:\n",
    "            driver.execute_script(\"window.scrollTo(0, document.body.scrollHeight);\")\n",
    "            time.sleep(1)\n",
    "            new_height = driver.execute_script(\"return document.body.scrollHeight\")\n",
    "            if new_height == last_height: #끝까지 스크롤후 해당 음식점이 없으면 종료 \n",
    "                return True\n",
    "            last_height = new_height\n",
    "            time.sleep(0.5)"
   ]
  },
  {
   "cell_type": "code",
   "execution_count": 7,
   "metadata": {},
   "outputs": [],
   "source": [
    "def craw(shop,driver):\n",
    "    try:\n",
    "        #정보창 클릭\n",
    "        driver.find_element_by_xpath('//*[@id=\"content\"]/div[2]/div[1]/ul/li[3]').click()\n",
    "    except Exception:\n",
    "        driver.quit()\n",
    "        driver=driver_start(university)\n",
    "        time.sleep(3)\n",
    "        scroll_element(shop)\n",
    "        #driver.find_element_by_xpath(f'//*[@title=\"{shop_in[i]}\"]').click()\n",
    "        time.sleep(3)\n",
    "        driver.find_element_by_xpath(f'//*[@title=\"{shop}\"]').click()\n",
    "        time.sleep(3)\n",
    "        driver.find_element_by_xpath('//*[@id=\"content\"]/div[2]/div[1]/ul/li[3]').click()\n",
    "    \n",
    "    time.sleep(2)\n",
    "    #shop=driver.find_element_by_xpath('//*[@id=\"content\"]/div[2]/div[1]/div[1]/div[1]/span').text\n",
    "    star=driver.find_element_by_xpath('//*[@id=\"content\"]/div[2]/div[1]/div[1]/div[2]/ul/li[1]/span').text\n",
    "    star=re.sub('[^0-9.]','',star)\n",
    "    notice=driver.find_element_by_xpath('//*[@id=\"info\"]/div[1]/div[2]').text\n",
    "    \n",
    "    return star, notice"
   ]
  },
  {
   "cell_type": "code",
   "execution_count": 8,
   "metadata": {},
   "outputs": [
    {
     "name": "stderr",
     "output_type": "stream",
     "text": [
      "<ipython-input-3-bb62db29bb57>:8: DeprecationWarning: use options instead of chrome_options\n",
      "  driver = webdriver.Chrome(executable_path=path,chrome_options=chrome_options)\n"
     ]
    }
   ],
   "source": [
    "university='서울특별시 동대문구 이문동 284-1 한국외국어대학교'\n",
    "#driver.quit()\n",
    "driver=driver_start(university)"
   ]
  },
  {
   "cell_type": "code",
   "execution_count": 9,
   "metadata": {},
   "outputs": [
    {
     "data": {
      "text/plain": [
       "1892"
      ]
     },
     "execution_count": 9,
     "metadata": {},
     "output_type": "execute_result"
    }
   ],
   "source": [
    "# shops_all=shops_catag(driver,2)\n",
    "# shops_conv=shops_catag(driver,14)\n",
    "# shops_list=list(set(shops_all)-set(shops_conv))\n",
    "# len(shops_list)"
   ]
  },
  {
   "cell_type": "code",
   "execution_count": 10,
   "metadata": {},
   "outputs": [],
   "source": [
    "# shop_list=pd.Series(shops_list)\n",
    "# path='/data/yogiyo/pr_data/hufs/'\n",
    "# shop_list.to_pickle(path+'only_shop_name.pickle')"
   ]
  },
  {
   "cell_type": "code",
   "execution_count": 12,
   "metadata": {},
   "outputs": [
    {
     "data": {
      "text/plain": [
       "1892"
      ]
     },
     "execution_count": 12,
     "metadata": {},
     "output_type": "execute_result"
    }
   ],
   "source": [
    "path='/data/yogiyo/pr_data/hufs/'\n",
    "shops_list=pd.read_pickle(path+'only_shop_name.pickle').tolist()\n",
    "len(shops_list)"
   ]
  },
  {
   "cell_type": "code",
   "execution_count": null,
   "metadata": {},
   "outputs": [
    {
     "name": "stderr",
     "output_type": "stream",
     "text": [
      "<ipython-input-3-bb62db29bb57>:8: DeprecationWarning: use options instead of chrome_options\n",
      "  driver = webdriver.Chrome(executable_path=path,chrome_options=chrome_options)\n",
      "  0%|          | 0/700 [00:00<?, ?it/s]"
     ]
    },
    {
     "name": "stdout",
     "output_type": "stream",
     "text": [
      "shop0 : 석도치즈닭갈비전문점\n",
      "석도치즈닭갈비전문점 scroll\n",
      "리뷰가 없습니다\n"
     ]
    },
    {
     "name": "stderr",
     "output_type": "stream",
     "text": [
      "\r",
      "  0%|          | 1/700 [00:25<5:01:46, 25.90s/it]"
     ]
    },
    {
     "name": "stdout",
     "output_type": "stream",
     "text": [
      "shop1 : 가성비갑부대찌개-석관점\n",
      "가성비갑부대찌개-석관점 scroll\n"
     ]
    },
    {
     "name": "stderr",
     "output_type": "stream",
     "text": [
      "\r",
      "  0%|          | 2/700 [00:41<4:23:37, 22.66s/it]"
     ]
    },
    {
     "name": "stdout",
     "output_type": "stream",
     "text": [
      "wrong shop\n",
      "shop2 : 맘스터치-경희대로점\n",
      "맘스터치-경희대로점 scroll\n",
      "맘스터치-경희대로점 4.6 58\n"
     ]
    },
    {
     "name": "stderr",
     "output_type": "stream",
     "text": [
      "\r",
      "  0%|          | 3/700 [01:10<4:48:29, 24.83s/it]"
     ]
    },
    {
     "name": "stdout",
     "output_type": "stream",
     "text": [
      "shop3 : 이디야커피-회기역점\n",
      "이디야커피-회기역점 scroll\n",
      "이디야커피-회기역점 4.9 32\n"
     ]
    },
    {
     "name": "stderr",
     "output_type": "stream",
     "text": [
      "\r",
      "  1%|          | 4/700 [03:15<10:34:32, 54.70s/it]"
     ]
    },
    {
     "name": "stdout",
     "output_type": "stream",
     "text": [
      "shop4 : 암사해물찜탕\n",
      "암사해물찜탕 scroll\n",
      "암사해물찜탕 3.4 184\n"
     ]
    },
    {
     "name": "stderr",
     "output_type": "stream",
     "text": [
      "\r",
      "  1%|          | 5/700 [05:05<13:45:00, 71.22s/it]"
     ]
    },
    {
     "name": "stdout",
     "output_type": "stream",
     "text": [
      "shop5 : 벼락떡볶이-성북점\n",
      "벼락떡볶이-성북점 scroll\n"
     ]
    }
   ],
   "source": [
    "start=0\n",
    "end=700\n",
    "#end=len(shops_list)\n",
    "\n",
    "shops=[]\n",
    "notices=[]\n",
    "stars=[]\n",
    "review_cnts=[]\n",
    "driver.quit()\n",
    "driver=driver_start(university)\n",
    "time.sleep(2)\n",
    "#전체보기로 이동\n",
    "driver.find_element_by_xpath(f'//*[@id=\"category\"]/ul/li[2]/span').click()\n",
    "time.sleep(2)\n",
    "for i in tqdm(range(start,end)):\n",
    "    shop=shops_list[i]\n",
    "    print(f'shop{i} : {shop}')\n",
    "    #음식점 있는 곳까지 스크롤\n",
    "    go_stop=scroll_element(shop)\n",
    "    if go_stop:\n",
    "        #스크롤 했는데 음식점 없으면 다음으로 넘어감\n",
    "        print('wrong shop')\n",
    "        continue\n",
    "        \n",
    "    time.sleep(3)\n",
    "    \n",
    "    #찾은 음식점 클릭\n",
    "    try:\n",
    "        driver.find_element_by_xpath(f'//*[@title=\"{shop}\"]').click()\n",
    "    except Exception or NoSuchElementException:\n",
    "        driver.quit()\n",
    "        driver=driver_start(university)\n",
    "        time.sleep(2)\n",
    "        scroll_element(shop)\n",
    "        time.sleep(3)\n",
    "        driver.find_element_by_xpath(f'//*[@title=\"{shop}\"]').click()\n",
    "    time.sleep(3)\n",
    "    \n",
    "    #식당의 리뷰가 없으면 넘어감\n",
    "    review_cnt=driver.find_element_by_xpath('//*[@id=\"content\"]/div[2]/div[1]/ul/li[2]/a/span').text\n",
    "    if review_cnt=='0':\n",
    "        print('리뷰가 없습니다')\n",
    "        driver.back()\n",
    "        time.sleep(2)\n",
    "        continue\n",
    "    \n",
    "    star,notice=craw(shop,driver)\n",
    "    shops.append(shop)\n",
    "    stars.append(star)\n",
    "    review_cnts.append(review_cnt)\n",
    "    print(shop,star,review_cnt)\n",
    "    notices.append(notice)\n",
    "    driver.back()\n",
    "    time.sleep(2)\n",
    "    \n",
    "df=pd.DataFrame({'shop':shops,'star':stars,'review_cnt':review_cnts,'notice':notices})"
   ]
  },
  {
   "cell_type": "code",
   "execution_count": null,
   "metadata": {},
   "outputs": [],
   "source": [
    "df.to_csv(path+'hufs_shop1.csv')"
   ]
  }
 ],
 "metadata": {
  "kernelspec": {
   "display_name": "Python 3",
   "language": "python",
   "name": "python3"
  },
  "language_info": {
   "codemirror_mode": {
    "name": "ipython",
    "version": 3
   },
   "file_extension": ".py",
   "mimetype": "text/x-python",
   "name": "python",
   "nbconvert_exporter": "python",
   "pygments_lexer": "ipython3",
   "version": "3.8.5"
  }
 },
 "nbformat": 4,
 "nbformat_minor": 4
}
