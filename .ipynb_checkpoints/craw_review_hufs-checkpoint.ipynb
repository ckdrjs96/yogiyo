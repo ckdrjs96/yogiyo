{
 "cells": [
  {
   "cell_type": "code",
   "execution_count": 2,
   "metadata": {},
   "outputs": [],
   "source": [
    "from selenium import webdriver\n",
    "from bs4 import BeautifulSoup\n",
    "from selenium.webdriver.support.ui import WebDriverWait\n",
    "from selenium.webdriver.support import expected_conditions as EC\n",
    "from selenium.webdriver.common.by import By\n",
    "import pandas as pd\n",
    "import time\n",
    "from urllib.request import urlretrieve\n",
    "from tqdm import tqdm\n",
    "import os,csv\n",
    "from selenium.common.exceptions import NoSuchElementException, ElementClickInterceptedException"
   ]
  },
  {
   "cell_type": "code",
   "execution_count": 3,
   "metadata": {},
   "outputs": [],
   "source": [
    "import requests"
   ]
  },
  {
   "cell_type": "code",
   "execution_count": 4,
   "metadata": {},
   "outputs": [],
   "source": [
    "def driver_start(university):\n",
    "    chrome_options = webdriver.ChromeOptions() \n",
    "    chrome_options.add_argument('--headless')#창없이 실행\n",
    "    chrome_options.add_argument('--no-sandbox')\n",
    "    chrome_options.add_argument('--disable-dev-shm-usage')\n",
    "\n",
    "    path=r'/data/chromedriver'\n",
    "    driver = webdriver.Chrome(executable_path=path,chrome_options=chrome_options)\n",
    "    driver.set_window_size(1024,1000)\n",
    "\n",
    "    url = \"https://www.yogiyo.co.kr/mobile/#/\"\n",
    "    driver.get(url)\n",
    "    time.sleep(1)\n",
    "    driver.find_element_by_xpath('//*[@id=\"search\"]/div/form/input').clear()\n",
    "    driver.find_element_by_xpath('//*[@id=\"search\"]/div/form/input').send_keys(university)\n",
    "    driver.find_element_by_xpath('//*[@id=\"button_search_address\"]/button[2]').click()\n",
    "    time.sleep(1)\n",
    "    \n",
    "    return driver"
   ]
  },
  {
   "cell_type": "code",
   "execution_count": 5,
   "metadata": {},
   "outputs": [],
   "source": [
    "def scroll_element(shop):#음식점이 있는 곳까지 스크롤\n",
    "    print(f\"{shop} scroll\")\n",
    "    while True:\n",
    "        last_height = driver.execute_script(\"return document.body.scrollHeight\")\n",
    "        try:\n",
    "            some_tag = driver.find_element_by_xpath(f'//*[@title=\"{shop}\"]')\n",
    "            if some_tag:\n",
    "                return False\n",
    "        except Exception:\n",
    "            driver.execute_script(\"window.scrollTo(0, document.body.scrollHeight);\")\n",
    "            time.sleep(1)\n",
    "            new_height = driver.execute_script(\"return document.body.scrollHeight\")\n",
    "            if new_height == last_height: #끝까지 스크롤후 해당 음식점이 없으면 종료 \n",
    "                return True\n",
    "            last_height = new_height\n",
    "            time.sleep(0.5)"
   ]
  },
  {
   "cell_type": "code",
   "execution_count": 6,
   "metadata": {},
   "outputs": [],
   "source": [
    "def stretch_review_page(review_cnt):\n",
    "    #클린리뷰에서 제일 아랫부분까지 열기\n",
    "    click_count = int((review_cnt/10))\n",
    "    print('모든 리뷰 불러오기 시작...')\n",
    "    for _ in range(click_count):\n",
    "        try:\n",
    "            driver.execute_script(\"window.scrollTo(0,document.body.scrollHeight);\")\n",
    "            driver.find_element_by_class_name('btn-more').click()\n",
    "            time.sleep(2)\n",
    "        except Exception as e:\n",
    "            pass\n",
    "    driver.execute_script(\"window.scrollTo(0,document.body.scrollHeight);\")\n",
    "    print('모든 리뷰 불러오기 완료!')"
   ]
  },
  {
   "cell_type": "code",
   "execution_count": 7,
   "metadata": {},
   "outputs": [],
   "source": [
    "def craw(i,shop,driver,col_list,cata):\n",
    "    #클린리뷰클릭\n",
    "    try:\n",
    "        driver.find_element_by_xpath('//*[@id=\"content\"]/div[2]/div[1]/ul/li[2]').click()\n",
    "    except Exception:\n",
    "        driver.quit()\n",
    "        driver=driver_start(university)\n",
    "        time.sleep(3)\n",
    "        scroll_element(shop)\n",
    "        #driver.find_element_by_xpath(f'//*[@title=\"{shop_in[i]}\"]').click()\n",
    "        time.sleep(3)\n",
    "        driver.find_element_by_xpath(f'//*[@title=\"{shop}\"]').click()\n",
    "        time.sleep(3)\n",
    "        driver.find_element_by_xpath('//*[@id=\"content\"]/div[2]/div[1]/ul/li[2]').click()\n",
    "    \n",
    "    time.sleep(2)\n",
    "    review_cnt=driver.find_element_by_xpath('//*[@id=\"content\"]/div[2]/div[1]/ul/li[2]/a/span').text\n",
    "    review_cnt=int(review_cnt)\n",
    "\n",
    "    print(shop, review_cnt)\n",
    "    \n",
    "    if review_cnt==0: #리뷰없으면 종료\n",
    "        print(0)\n",
    "        return\n",
    "    \n",
    "    stretch_review_page(review_cnt)\n",
    "        \n",
    "    html = driver.page_source\n",
    "    soup = BeautifulSoup(html, 'html.parser')\n",
    "\n",
    "    b=soup.find_all('li',{'class':'list-group-item star-point ng-scope'})\n",
    "    \n",
    "    tot_star_list=[]\n",
    "    name_list,date_list,star_flavor_list,star_volume_list,star_deliver_list=[],[],[],[],[]\n",
    "    menu_list,review_customer_list,review_owner_list,img_name_list=[],[],[],[]\n",
    "    for i in tqdm(range(len(b)),desc='save..',mininterval=3):\n",
    "        now=b[i]\n",
    "        name=now.find('span',{'ng-show':\"review.phone\"}).text\n",
    "        name_list.append(name)\n",
    "        date=now.find('span',{'ng-bind':\"review.time|since\"}).text\n",
    "        date_list.append(date)\n",
    "        \n",
    "        try:\n",
    "            star=now.find_all('span',{'class':\"points ng-binding\"})\n",
    "        except IndexError:\n",
    "            print(f'{i}th review, none star')\n",
    "            continue\n",
    "        \n",
    "        \n",
    "        try:\n",
    "            tot_star=len(now.find_all('span',{'class':\"full ng-scope\"}))\n",
    "        except IndexError:\n",
    "            print(f'{i}th review, none star')\n",
    "            continue\n",
    "        tot_star_list.append(tot_star)\n",
    "        \n",
    "        try:\n",
    "            star_flavor=star[0].text\n",
    "        except IndexError:\n",
    "            star_flavor=None\n",
    "        star_flavor_list.append(star_flavor)\n",
    "        \n",
    "        try:\n",
    "            star_volume=star[1].text\n",
    "        except IndexError:\n",
    "            star_volume=None\n",
    "        star_volume_list.append(star_volume)\n",
    "\n",
    "        try:\n",
    "            star_deliver=star[2].text\n",
    "        except IndexError:\n",
    "            star_deliver=None\n",
    "            pass\n",
    "        star_deliver_list.append(star_deliver)\n",
    "            \n",
    "        menu=now.find(\"div\",{\"class\":\"order-items default ng-binding\"}).text.strip()\n",
    "        menu_list.append(menu)\n",
    "        review_customer=now.find(\"p\",{\"class\":\"ng-binding\"}).text\n",
    "        review_customer_list.append(review_customer)\n",
    "\n",
    "    \n",
    "        try:\n",
    "            review_owner=now.find(\"p\",{\"ng-bind-html\":\"review.owner_reply.comment|strip_html\"}).text\n",
    "        except AttributeError:\n",
    "            review_owner=None\n",
    "        review_owner_list.append(review_owner)\n",
    "        try:\n",
    "            img_urls=now.find_all('img')\n",
    "        except TypeError:\n",
    "            img_names=None\n",
    "        else:\n",
    "            img_names=[]\n",
    "            for idx in range(len(img_urls)):\n",
    "                img_name=shop+'_'+str(i)+'_'+str(idx)\n",
    "                path=f'/data/yogiyo/pr_data/hufs/cata{cata}/{shop}'\n",
    "                img_url=img_urls[idx]['src']\n",
    "                if not os.path.isdir(path):\n",
    "                    os.mkdir(path)\n",
    "                try:\n",
    "                    urlretrieve(img_url,path+'/'+img_name+'.jpg')\n",
    "                except requests.exceptions.SSLError or URLError:\n",
    "                    pass\n",
    "                img_names.append(img_name)\n",
    "        img_name_list.append(img_names)\n",
    "                \n",
    "    #new=pd.DataFrame([[shop,name,date,star_flavor,star_volume,star_deliver,menu,review_customer,review_owner,img_name]],columns=col_list)\n",
    "    data={'shop':shop,'name':name_list,'date':date_list,'tot_star':tot_star_list,\n",
    "          'star_flavor':star_flavor_list,'star_volume':star_volume_list,\n",
    "         'star_deliver':star_deliver_list,'menu':menu_list,'review_customer':review_customer_list,\n",
    "          'review_owner':review_owner_list,'img_name':img_name_list}\n",
    "    new=pd.DataFrame(data)\n",
    "\n",
    "    return new"
   ]
  },
  {
   "cell_type": "code",
   "execution_count": 8,
   "metadata": {},
   "outputs": [],
   "source": [
    "path='/data/yogiyo/pr_data/hufs/'\n",
    "university='서울특별시 동대문구 이문동 284-1 한국외국어대학교'\n",
    "uni_shop=pd.read_csv(path+'hufs_shop.csv')"
   ]
  },
  {
   "cell_type": "code",
   "execution_count": 9,
   "metadata": {},
   "outputs": [
    {
     "data": {
      "text/plain": [
       "4    839\n",
       "0    271\n",
       "3     85\n",
       "1     75\n",
       "2     68\n",
       "Name: catagory, dtype: int64"
      ]
     },
     "execution_count": 9,
     "metadata": {},
     "output_type": "execute_result"
    }
   ],
   "source": [
    "uni_shop.catagory.value_counts()"
   ]
  },
  {
   "cell_type": "code",
   "execution_count": 15,
   "metadata": {},
   "outputs": [
    {
     "name": "stderr",
     "output_type": "stream",
     "text": [
      "<ipython-input-8-bb62db29bb57>:8: DeprecationWarning: use options instead of chrome_options\n",
      "  driver = webdriver.Chrome(executable_path=path,chrome_options=chrome_options)\n",
      "craw:   0%|          | 0/259 [00:00<?, ?it/s]"
     ]
    },
    {
     "name": "stdout",
     "output_type": "stream",
     "text": [
      "도선감동이닭 scroll\n"
     ]
    },
    {
     "name": "stderr",
     "output_type": "stream",
     "text": [
      "\n",
      "save..:   0%|          | 0/7 [00:00<?, ?it/s]\u001b[A"
     ]
    },
    {
     "name": "stdout",
     "output_type": "stream",
     "text": [
      "도선감동이닭 7\n",
      "모든 리뷰 불러오기 시작...\n",
      "모든 리뷰 불러오기 완료!\n"
     ]
    },
    {
     "name": "stderr",
     "output_type": "stream",
     "text": [
      "save..: 100%|██████████| 7/7 [00:00<00:00, 16.73it/s]\n"
     ]
    },
    {
     "name": "stdout",
     "output_type": "stream",
     "text": [
      "(2845, 11)\n"
     ]
    },
    {
     "name": "stderr",
     "output_type": "stream",
     "text": [
      "\r",
      "craw:   0%|          | 1/259 [01:06<4:45:16, 66.34s/it]"
     ]
    },
    {
     "name": "stdout",
     "output_type": "stream",
     "text": [
      "동의마늘보쌈&냉면 scroll\n"
     ]
    },
    {
     "name": "stderr",
     "output_type": "stream",
     "text": [
      "\n",
      "save..: 100%|██████████| 1/1 [00:00<00:00, 12.94it/s]"
     ]
    },
    {
     "name": "stdout",
     "output_type": "stream",
     "text": [
      "동의마늘보쌈&냉면 1\n",
      "모든 리뷰 불러오기 시작...\n",
      "모든 리뷰 불러오기 완료!\n",
      "(2846, 11)\n"
     ]
    },
    {
     "name": "stderr",
     "output_type": "stream",
     "text": [
      "\n",
      "craw:   1%|          | 2/259 [01:34<3:55:03, 54.88s/it]"
     ]
    },
    {
     "name": "stdout",
     "output_type": "stream",
     "text": [
      "홍콩반점0410-외대점 scroll\n",
      "홍콩반점0410-외대점 880\n",
      "모든 리뷰 불러오기 시작...\n",
      "모든 리뷰 불러오기 완료!\n"
     ]
    },
    {
     "name": "stderr",
     "output_type": "stream",
     "text": [
      "\n",
      "save..:   0%|          | 0/880 [00:00<?, ?it/s]\u001b[A\n",
      "save..:   5%|▍         | 41/880 [00:03<01:02, 13.40it/s]\u001b[A\n",
      "save..:  10%|▉         | 85/880 [00:06<00:58, 13.60it/s]\u001b[A\n",
      "save..:  15%|█▍        | 130/880 [00:09<00:53, 13.91it/s]\u001b[A\n",
      "save..:  23%|██▎       | 202/880 [00:12<00:42, 15.89it/s]\u001b[A\n",
      "save..:  28%|██▊       | 250/880 [00:15<00:39, 15.83it/s]\u001b[A\n",
      "save..:  33%|███▎      | 293/880 [00:18<00:38, 15.14it/s]\u001b[A\n",
      "save..:  39%|███▉      | 345/880 [00:21<00:34, 15.73it/s]\u001b[A\n",
      "save..:  45%|████▍     | 392/880 [00:24<00:31, 15.64it/s]\u001b[A\n",
      "save..:  50%|████▉     | 438/880 [00:28<00:30, 14.68it/s]\u001b[A\n",
      "save..:  55%|█████▍    | 482/880 [00:31<00:28, 14.19it/s]\u001b[A\n",
      "save..:  60%|█████▉    | 525/880 [00:36<00:29, 12.22it/s]\u001b[A\n",
      "save..:  64%|██████▍   | 567/880 [00:39<00:24, 12.70it/s]\u001b[A\n",
      "save..:  69%|██████▉   | 607/880 [00:42<00:22, 12.14it/s]\u001b[A\n",
      "save..:  73%|███████▎  | 645/880 [00:45<00:19, 12.19it/s]\u001b[A\n",
      "save..:  78%|███████▊  | 686/880 [00:49<00:15, 12.34it/s]\u001b[A\n",
      "save..:  82%|████████▏ | 724/880 [00:52<00:13, 11.77it/s]\u001b[A\n",
      "save..:  88%|████████▊ | 770/880 [00:56<00:09, 12.22it/s]\u001b[A\n",
      "save..:  92%|█████████▏| 808/880 [00:59<00:05, 12.30it/s]\u001b[A\n",
      "save..: 100%|██████████| 880/880 [01:03<00:00, 13.84it/s]\u001b[A\n"
     ]
    },
    {
     "name": "stdout",
     "output_type": "stream",
     "text": [
      "(3726, 11)\n"
     ]
    },
    {
     "name": "stderr",
     "output_type": "stream",
     "text": [
      "\r",
      "craw:   1%|          | 3/259 [06:23<8:53:29, 125.04s/it]"
     ]
    },
    {
     "name": "stdout",
     "output_type": "stream",
     "text": [
      "투썸플레이스-장안점 scroll\n",
      "투썸플레이스-장안점 138\n",
      "모든 리뷰 불러오기 시작...\n",
      "모든 리뷰 불러오기 완료!\n"
     ]
    },
    {
     "name": "stderr",
     "output_type": "stream",
     "text": [
      "\n",
      "save..:   0%|          | 0/138 [00:00<?, ?it/s]\u001b[A\n",
      "save..:  51%|█████     | 70/138 [00:03<00:03, 21.86it/s]\u001b[A\n",
      "save..: 100%|██████████| 138/138 [00:07<00:00, 17.52it/s]\u001b[A\n"
     ]
    },
    {
     "name": "stdout",
     "output_type": "stream",
     "text": [
      "(3864, 11)\n"
     ]
    },
    {
     "name": "stderr",
     "output_type": "stream",
     "text": [
      "\r",
      "craw:   2%|▏         | 4/259 [07:30<7:37:17, 107.60s/it]"
     ]
    },
    {
     "name": "stdout",
     "output_type": "stream",
     "text": [
      "곱마니-면목점 scroll\n"
     ]
    },
    {
     "name": "stderr",
     "output_type": "stream",
     "text": [
      "\n",
      "save..:   0%|          | 0/4 [00:00<?, ?it/s]\u001b[A"
     ]
    },
    {
     "name": "stdout",
     "output_type": "stream",
     "text": [
      "곱마니-면목점 4\n",
      "모든 리뷰 불러오기 시작...\n",
      "모든 리뷰 불러오기 완료!\n"
     ]
    },
    {
     "name": "stderr",
     "output_type": "stream",
     "text": [
      "save..: 100%|██████████| 4/4 [00:00<00:00, 13.68it/s]\n"
     ]
    },
    {
     "name": "stdout",
     "output_type": "stream",
     "text": [
      "(3868, 11)\n"
     ]
    },
    {
     "name": "stderr",
     "output_type": "stream",
     "text": [
      "\r",
      "craw:   2%|▏         | 5/259 [07:45<5:38:26, 79.95s/it] "
     ]
    },
    {
     "name": "stdout",
     "output_type": "stream",
     "text": [
      "중앙정육점 scroll\n",
      "중앙정육점 10\n",
      "모든 리뷰 불러오기 시작...\n"
     ]
    },
    {
     "name": "stderr",
     "output_type": "stream",
     "text": [
      "\n",
      "save..:   0%|          | 0/10 [00:00<?, ?it/s]\u001b[A"
     ]
    },
    {
     "name": "stdout",
     "output_type": "stream",
     "text": [
      "모든 리뷰 불러오기 완료!\n"
     ]
    },
    {
     "name": "stderr",
     "output_type": "stream",
     "text": [
      "save..: 100%|██████████| 10/10 [00:00<00:00, 19.66it/s]\n"
     ]
    },
    {
     "name": "stdout",
     "output_type": "stream",
     "text": [
      "(3878, 11)\n"
     ]
    },
    {
     "name": "stderr",
     "output_type": "stream",
     "text": [
      "\r",
      "craw:   2%|▏         | 6/259 [08:24<4:45:05, 67.61s/it]"
     ]
    },
    {
     "name": "stdout",
     "output_type": "stream",
     "text": [
      "북촌손만두-경희대점 scroll\n"
     ]
    },
    {
     "name": "stderr",
     "output_type": "stream",
     "text": [
      "\n",
      "save..:   0%|          | 0/7 [00:00<?, ?it/s]\u001b[A"
     ]
    },
    {
     "name": "stdout",
     "output_type": "stream",
     "text": [
      "북촌손만두-경희대점 7\n",
      "모든 리뷰 불러오기 시작...\n",
      "모든 리뷰 불러오기 완료!\n"
     ]
    },
    {
     "name": "stderr",
     "output_type": "stream",
     "text": [
      "save..: 100%|██████████| 7/7 [00:00<00:00, 17.35it/s]\n"
     ]
    },
    {
     "name": "stdout",
     "output_type": "stream",
     "text": [
      "(3885, 11)\n"
     ]
    },
    {
     "name": "stderr",
     "output_type": "stream",
     "text": [
      "\r",
      "craw:   3%|▎         | 7/259 [08:46<3:46:27, 53.92s/it]"
     ]
    },
    {
     "name": "stdout",
     "output_type": "stream",
     "text": [
      "가장맛있는족발-경희대점 scroll\n",
      "가장맛있는족발-경희대점 53\n",
      "모든 리뷰 불러오기 시작...\n",
      "모든 리뷰 불러오기 완료!\n"
     ]
    },
    {
     "name": "stderr",
     "output_type": "stream",
     "text": [
      "\n",
      "save..: 100%|██████████| 53/53 [00:01<00:00, 39.58it/s]\n"
     ]
    },
    {
     "name": "stdout",
     "output_type": "stream",
     "text": [
      "(3938, 11)\n"
     ]
    },
    {
     "name": "stderr",
     "output_type": "stream",
     "text": [
      "\r",
      "craw:   3%|▎         | 8/259 [09:11<3:09:52, 45.39s/it]"
     ]
    },
    {
     "name": "stdout",
     "output_type": "stream",
     "text": [
      "황학동숯불구이막창 scroll\n",
      "황학동숯불구이막창 10\n",
      "모든 리뷰 불러오기 시작...\n"
     ]
    },
    {
     "name": "stderr",
     "output_type": "stream",
     "text": [
      "\n",
      "save..:   0%|          | 0/10 [00:00<?, ?it/s]\u001b[A"
     ]
    },
    {
     "name": "stdout",
     "output_type": "stream",
     "text": [
      "모든 리뷰 불러오기 완료!\n"
     ]
    },
    {
     "name": "stderr",
     "output_type": "stream",
     "text": [
      "save..: 100%|██████████| 10/10 [00:00<00:00, 12.48it/s]\n"
     ]
    },
    {
     "name": "stdout",
     "output_type": "stream",
     "text": [
      "(3948, 11)\n"
     ]
    },
    {
     "name": "stderr",
     "output_type": "stream",
     "text": [
      "\r",
      "craw:   3%|▎         | 9/259 [09:31<2:36:47, 37.63s/it]"
     ]
    },
    {
     "name": "stdout",
     "output_type": "stream",
     "text": [
      "8000샤브칼국수 scroll\n"
     ]
    },
    {
     "name": "stderr",
     "output_type": "stream",
     "text": [
      "\n",
      "save..: 100%|██████████| 4/4 [00:00<00:00, 66.77it/s]"
     ]
    },
    {
     "name": "stdout",
     "output_type": "stream",
     "text": [
      "8000샤브칼국수 4\n",
      "모든 리뷰 불러오기 시작...\n",
      "모든 리뷰 불러오기 완료!\n",
      "(3952, 11)\n"
     ]
    },
    {
     "name": "stderr",
     "output_type": "stream",
     "text": [
      "\n",
      "craw:   4%|▍         | 10/259 [10:01<2:26:45, 35.36s/it]"
     ]
    },
    {
     "name": "stdout",
     "output_type": "stream",
     "text": [
      "우미도시락 scroll\n"
     ]
    },
    {
     "name": "stderr",
     "output_type": "stream",
     "text": [
      "\n",
      "save..:   0%|          | 0/9 [00:00<?, ?it/s]\u001b[A"
     ]
    },
    {
     "name": "stdout",
     "output_type": "stream",
     "text": [
      "우미도시락 9\n",
      "모든 리뷰 불러오기 시작...\n",
      "모든 리뷰 불러오기 완료!\n"
     ]
    },
    {
     "name": "stderr",
     "output_type": "stream",
     "text": [
      "save..: 100%|██████████| 9/9 [00:00<00:00, 22.41it/s]\n"
     ]
    },
    {
     "name": "stdout",
     "output_type": "stream",
     "text": [
      "(3961, 11)\n"
     ]
    },
    {
     "name": "stderr",
     "output_type": "stream",
     "text": [
      "\r",
      "craw:   4%|▍         | 11/259 [10:49<2:41:21, 39.04s/it]"
     ]
    },
    {
     "name": "stdout",
     "output_type": "stream",
     "text": [
      "감탄떡볶이-장안홈타운점 scroll\n"
     ]
    },
    {
     "name": "stderr",
     "output_type": "stream",
     "text": [
      "\n",
      "save..:   0%|          | 0/3 [00:00<?, ?it/s]\u001b[A"
     ]
    },
    {
     "name": "stdout",
     "output_type": "stream",
     "text": [
      "감탄떡볶이-장안홈타운점 3\n",
      "모든 리뷰 불러오기 시작...\n",
      "모든 리뷰 불러오기 완료!\n"
     ]
    },
    {
     "name": "stderr",
     "output_type": "stream",
     "text": [
      "save..: 100%|██████████| 3/3 [00:00<00:00, 25.84it/s]\n"
     ]
    },
    {
     "name": "stdout",
     "output_type": "stream",
     "text": [
      "(3964, 11)\n"
     ]
    },
    {
     "name": "stderr",
     "output_type": "stream",
     "text": [
      "\r",
      "craw:   5%|▍         | 12/259 [11:24<2:35:55, 37.88s/it]"
     ]
    },
    {
     "name": "stdout",
     "output_type": "stream",
     "text": [
      "존네맛집-월곡점 scroll\n"
     ]
    },
    {
     "name": "stderr",
     "output_type": "stream",
     "text": [
      "\r",
      "craw:   5%|▌         | 13/259 [11:31<1:57:37, 28.69s/it]"
     ]
    },
    {
     "name": "stdout",
     "output_type": "stream",
     "text": [
      "wrong shop\n",
      "호세야오리바베큐-장안점 scroll\n",
      "호세야오리바베큐-장안점 scroll\n",
      "호세야오리바베큐-장안점 367\n",
      "모든 리뷰 불러오기 시작...\n",
      "모든 리뷰 불러오기 완료!\n"
     ]
    },
    {
     "name": "stderr",
     "output_type": "stream",
     "text": [
      "\n",
      "save..:   0%|          | 0/367 [00:00<?, ?it/s]\u001b[A\n",
      "save..:  21%|██▏       | 78/367 [00:03<00:11, 25.89it/s]\u001b[A\n",
      "save..:  46%|████▌     | 167/367 [00:06<00:07, 26.83it/s]\u001b[A\n",
      "save..: 100%|██████████| 367/367 [00:09<00:00, 39.22it/s]\u001b[A\n"
     ]
    },
    {
     "name": "stdout",
     "output_type": "stream",
     "text": [
      "(4331, 11)\n"
     ]
    },
    {
     "name": "stderr",
     "output_type": "stream",
     "text": [
      "\r",
      "craw:   5%|▌         | 14/259 [13:24<3:40:51, 54.09s/it]"
     ]
    },
    {
     "name": "stdout",
     "output_type": "stream",
     "text": [
      "갈비냉면&해장파스타 scroll\n",
      "갈비냉면&해장파스타 33\n",
      "모든 리뷰 불러오기 시작...\n"
     ]
    },
    {
     "name": "stderr",
     "output_type": "stream",
     "text": [
      "\n",
      "save..:   0%|          | 0/33 [00:00<?, ?it/s]\u001b[A"
     ]
    },
    {
     "name": "stdout",
     "output_type": "stream",
     "text": [
      "모든 리뷰 불러오기 완료!\n"
     ]
    },
    {
     "name": "stderr",
     "output_type": "stream",
     "text": [
      "save..: 100%|██████████| 33/33 [00:01<00:00, 29.03it/s]\n"
     ]
    },
    {
     "name": "stdout",
     "output_type": "stream",
     "text": [
      "(4364, 11)\n"
     ]
    },
    {
     "name": "stderr",
     "output_type": "stream",
     "text": [
      "\r",
      "craw:   6%|▌         | 15/259 [13:44<2:57:39, 43.69s/it]"
     ]
    },
    {
     "name": "stdout",
     "output_type": "stream",
     "text": [
      "1번지옛날통닭-장안휘경주공점 scroll\n"
     ]
    },
    {
     "name": "stderr",
     "output_type": "stream",
     "text": [
      "\n",
      "save..:   0%|          | 0/2 [00:00<?, ?it/s]\u001b[A"
     ]
    },
    {
     "name": "stdout",
     "output_type": "stream",
     "text": [
      "1번지옛날통닭-장안휘경주공점 2\n",
      "모든 리뷰 불러오기 시작...\n",
      "모든 리뷰 불러오기 완료!\n"
     ]
    },
    {
     "name": "stderr",
     "output_type": "stream",
     "text": [
      "save..: 100%|██████████| 2/2 [00:00<00:00, 14.69it/s]\n"
     ]
    },
    {
     "name": "stdout",
     "output_type": "stream",
     "text": [
      "(4366, 11)\n"
     ]
    },
    {
     "name": "stderr",
     "output_type": "stream",
     "text": [
      "\r",
      "craw:   6%|▌         | 16/259 [14:05<2:30:11, 37.08s/it]"
     ]
    },
    {
     "name": "stdout",
     "output_type": "stream",
     "text": [
      "장수족발-청량리점 scroll\n",
      "장수족발-청량리점 91\n",
      "모든 리뷰 불러오기 시작...\n",
      "모든 리뷰 불러오기 완료!\n"
     ]
    },
    {
     "name": "stderr",
     "output_type": "stream",
     "text": [
      "\n",
      "save..:   0%|          | 0/91 [00:00<?, ?it/s]\u001b[A\n",
      "save..:  44%|████▍     | 40/91 [00:03<00:03, 13.25it/s]\u001b[A\n",
      "save..: 100%|██████████| 91/91 [00:06<00:00, 14.93it/s]\u001b[A\n"
     ]
    },
    {
     "name": "stdout",
     "output_type": "stream",
     "text": [
      "(4457, 11)\n"
     ]
    },
    {
     "name": "stderr",
     "output_type": "stream",
     "text": [
      "\r",
      "craw:   7%|▋         | 17/259 [14:49<2:37:02, 38.94s/it]"
     ]
    },
    {
     "name": "stdout",
     "output_type": "stream",
     "text": [
      "자담치킨-이문점 scroll\n",
      "자담치킨-이문점 1398\n",
      "모든 리뷰 불러오기 시작...\n",
      "모든 리뷰 불러오기 완료!\n"
     ]
    },
    {
     "name": "stderr",
     "output_type": "stream",
     "text": [
      "\n",
      "save..:   0%|          | 0/1398 [00:00<?, ?it/s]\u001b[A\n",
      "save..:   3%|▎         | 48/1398 [00:03<01:25, 15.88it/s]\u001b[A\n",
      "save..:   8%|▊         | 107/1398 [00:06<01:16, 16.77it/s]\u001b[A\n",
      "save..:  11%|█         | 151/1398 [00:09<01:17, 16.07it/s]\u001b[A\n",
      "save..:  15%|█▍        | 205/1398 [00:12<01:11, 16.60it/s]\u001b[A\n",
      "save..:  18%|█▊        | 254/1398 [00:15<01:09, 16.50it/s]\u001b[A\n",
      "save..:  22%|██▏       | 310/1398 [00:18<01:03, 17.04it/s]\u001b[A\n",
      "save..:  25%|██▌       | 356/1398 [00:21<01:04, 16.15it/s]\u001b[A\n",
      "save..:  29%|██▉       | 402/1398 [00:24<01:03, 15.67it/s]\u001b[A\n",
      "save..:  33%|███▎      | 457/1398 [00:27<00:58, 16.19it/s]\u001b[A\n",
      "save..:  36%|███▋      | 508/1398 [00:30<00:54, 16.41it/s]\u001b[A\n",
      "save..:  41%|████      | 570/1398 [00:33<00:47, 17.41it/s]\u001b[A\n",
      "save..:  45%|████▍     | 623/1398 [00:37<00:46, 16.74it/s]\u001b[A\n",
      "save..:  48%|████▊     | 674/1398 [00:40<00:43, 16.47it/s]\u001b[A\n",
      "save..:  53%|█████▎    | 736/1398 [00:43<00:38, 17.33it/s]\u001b[A\n",
      "save..:  59%|█████▉    | 827/1398 [00:46<00:28, 19.88it/s]\u001b[A\n",
      "save..:  68%|██████▊   | 949/1398 [00:49<00:19, 23.42it/s]\u001b[A\n",
      "save..:  75%|███████▍  | 1044/1398 [00:52<00:13, 25.35it/s]\u001b[A\n",
      "save..:  84%|████████▍ | 1173/1398 [00:55<00:07, 28.84it/s]\u001b[A\n",
      "save..: 100%|██████████| 1398/1398 [01:00<00:00, 23.29it/s]\u001b[A\n"
     ]
    },
    {
     "name": "stdout",
     "output_type": "stream",
     "text": [
      "(5855, 11)\n"
     ]
    },
    {
     "name": "stderr",
     "output_type": "stream",
     "text": [
      "\r",
      "craw:   7%|▋         | 18/259 [22:00<10:28:54, 156.57s/it]"
     ]
    },
    {
     "name": "stdout",
     "output_type": "stream",
     "text": [
      "떡순튀-면목점 scroll\n"
     ]
    },
    {
     "name": "stderr",
     "output_type": "stream",
     "text": [
      "\n",
      "save..: 100%|██████████| 2/2 [00:00<00:00, 32.61it/s]"
     ]
    },
    {
     "name": "stdout",
     "output_type": "stream",
     "text": [
      "떡순튀-면목점 2\n",
      "모든 리뷰 불러오기 시작...\n",
      "모든 리뷰 불러오기 완료!\n",
      "(5857, 11)\n"
     ]
    },
    {
     "name": "stderr",
     "output_type": "stream",
     "text": [
      "\n",
      "craw:   7%|▋         | 19/259 [22:41<8:08:18, 122.08s/it] "
     ]
    },
    {
     "name": "stdout",
     "output_type": "stream",
     "text": [
      "곽선생왕만두-중랑점 scroll\n"
     ]
    },
    {
     "name": "stderr",
     "output_type": "stream",
     "text": [
      "\n",
      "save..:   0%|          | 0/2 [00:00<?, ?it/s]\u001b[A"
     ]
    },
    {
     "name": "stdout",
     "output_type": "stream",
     "text": [
      "곽선생왕만두-중랑점 2\n",
      "모든 리뷰 불러오기 시작...\n",
      "모든 리뷰 불러오기 완료!\n"
     ]
    },
    {
     "name": "stderr",
     "output_type": "stream",
     "text": [
      "save..: 100%|██████████| 2/2 [00:00<00:00, 11.28it/s]\n"
     ]
    },
    {
     "name": "stdout",
     "output_type": "stream",
     "text": [
      "(5859, 11)\n"
     ]
    },
    {
     "name": "stderr",
     "output_type": "stream",
     "text": [
      "\r",
      "craw:   8%|▊         | 20/259 [23:50<7:02:53, 106.16s/it]"
     ]
    },
    {
     "name": "stdout",
     "output_type": "stream",
     "text": [
      "석우동-이문점 scroll\n",
      "석우동-이문점 220\n",
      "모든 리뷰 불러오기 시작...\n",
      "모든 리뷰 불러오기 완료!\n"
     ]
    },
    {
     "name": "stderr",
     "output_type": "stream",
     "text": [
      "\n",
      "save..:   0%|          | 0/220 [00:00<?, ?it/s]\u001b[A\n",
      "save..:  30%|███       | 66/220 [00:03<00:07, 21.77it/s]\u001b[A\n",
      "save..: 100%|██████████| 220/220 [00:07<00:00, 28.56it/s]\u001b[A\n"
     ]
    },
    {
     "name": "stdout",
     "output_type": "stream",
     "text": [
      "(6079, 11)\n"
     ]
    },
    {
     "name": "stderr",
     "output_type": "stream",
     "text": [
      "\r",
      "craw:   8%|▊         | 21/259 [25:13<6:33:05, 99.10s/it] "
     ]
    },
    {
     "name": "stdout",
     "output_type": "stream",
     "text": [
      "사랑한닭-사가정시장점 scroll\n",
      "사랑한닭-사가정시장점 102\n",
      "모든 리뷰 불러오기 시작...\n",
      "모든 리뷰 불러오기 완료!\n"
     ]
    },
    {
     "name": "stderr",
     "output_type": "stream",
     "text": [
      "\n",
      "save..:   0%|          | 0/102 [00:00<?, ?it/s]\u001b[A\n",
      "save..: 100%|██████████| 102/102 [00:05<00:00, 19.73it/s][A\n"
     ]
    },
    {
     "name": "stdout",
     "output_type": "stream",
     "text": [
      "(6181, 11)\n"
     ]
    },
    {
     "name": "stderr",
     "output_type": "stream",
     "text": [
      "\r",
      "craw:   8%|▊         | 22/259 [26:14<5:46:09, 87.63s/it]"
     ]
    },
    {
     "name": "stdout",
     "output_type": "stream",
     "text": [
      "강원식당 scroll\n"
     ]
    },
    {
     "name": "stderr",
     "output_type": "stream",
     "text": [
      "\n",
      "save..: 100%|██████████| 2/2 [00:00<00:00, 1258.23it/s]"
     ]
    },
    {
     "name": "stdout",
     "output_type": "stream",
     "text": [
      "강원식당 2\n",
      "모든 리뷰 불러오기 시작...\n",
      "모든 리뷰 불러오기 완료!\n",
      "(6183, 11)\n"
     ]
    },
    {
     "name": "stderr",
     "output_type": "stream",
     "text": [
      "\n",
      "craw:   9%|▉         | 23/259 [26:27<4:17:16, 65.41s/it]"
     ]
    },
    {
     "name": "stdout",
     "output_type": "stream",
     "text": [
      "칠락염소요리전문점 scroll\n"
     ]
    },
    {
     "name": "stderr",
     "output_type": "stream",
     "text": [
      "\n",
      "save..: 100%|██████████| 1/1 [00:00<00:00, 15.98it/s]"
     ]
    },
    {
     "name": "stdout",
     "output_type": "stream",
     "text": [
      "칠락염소요리전문점 1\n",
      "모든 리뷰 불러오기 시작...\n",
      "모든 리뷰 불러오기 완료!\n",
      "(6184, 11)\n"
     ]
    },
    {
     "name": "stderr",
     "output_type": "stream",
     "text": [
      "\n",
      "craw:   9%|▉         | 24/259 [27:32<4:14:52, 65.07s/it]"
     ]
    },
    {
     "name": "stdout",
     "output_type": "stream",
     "text": [
      "가장맛있는족발-답십리역점 scroll\n"
     ]
    },
    {
     "name": "stderr",
     "output_type": "stream",
     "text": [
      "\r",
      "craw:  10%|▉         | 25/259 [27:58<3:28:47, 53.54s/it]"
     ]
    },
    {
     "name": "stdout",
     "output_type": "stream",
     "text": [
      "wrong shop\n",
      "조선닭볶음탕-청량리점 scroll\n",
      "조선닭볶음탕-청량리점 scroll\n",
      "조선닭볶음탕-청량리점 41\n",
      "모든 리뷰 불러오기 시작...\n",
      "모든 리뷰 불러오기 완료!\n"
     ]
    },
    {
     "name": "stderr",
     "output_type": "stream",
     "text": [
      "\n",
      "save..: 100%|██████████| 41/41 [00:02<00:00, 18.54it/s]\n"
     ]
    },
    {
     "name": "stdout",
     "output_type": "stream",
     "text": [
      "(6225, 11)\n"
     ]
    },
    {
     "name": "stderr",
     "output_type": "stream",
     "text": [
      "\r",
      "craw:  10%|█         | 26/259 [28:54<3:29:58, 54.07s/it]"
     ]
    },
    {
     "name": "stdout",
     "output_type": "stream",
     "text": [
      "송학삼계탕 scroll\n",
      "송학삼계탕 10\n",
      "모든 리뷰 불러오기 시작...\n"
     ]
    },
    {
     "name": "stderr",
     "output_type": "stream",
     "text": [
      "\n",
      "save..:   0%|          | 0/10 [00:00<?, ?it/s]\u001b[A"
     ]
    },
    {
     "name": "stdout",
     "output_type": "stream",
     "text": [
      "모든 리뷰 불러오기 완료!\n"
     ]
    },
    {
     "name": "stderr",
     "output_type": "stream",
     "text": [
      "save..: 100%|██████████| 10/10 [00:00<00:00, 53.66it/s]\n"
     ]
    },
    {
     "name": "stdout",
     "output_type": "stream",
     "text": [
      "(6235, 11)\n"
     ]
    },
    {
     "name": "stderr",
     "output_type": "stream",
     "text": [
      "\r",
      "craw:  10%|█         | 27/259 [29:29<3:07:29, 48.49s/it]"
     ]
    },
    {
     "name": "stdout",
     "output_type": "stream",
     "text": [
      "고씨네 고려대점 scroll\n",
      "고씨네 고려대점 97\n",
      "모든 리뷰 불러오기 시작...\n",
      "모든 리뷰 불러오기 완료!\n"
     ]
    },
    {
     "name": "stderr",
     "output_type": "stream",
     "text": [
      "\n",
      "save..:   0%|          | 0/97 [00:00<?, ?it/s]\u001b[A\n",
      "save..: 100%|██████████| 97/97 [00:05<00:00, 17.94it/s]\u001b[A\n"
     ]
    },
    {
     "name": "stdout",
     "output_type": "stream",
     "text": [
      "(6332, 11)\n"
     ]
    },
    {
     "name": "stderr",
     "output_type": "stream",
     "text": [
      "\r",
      "craw:  11%|█         | 28/259 [30:26<3:16:59, 51.17s/it]"
     ]
    },
    {
     "name": "stdout",
     "output_type": "stream",
     "text": [
      "유가네한우곰탕-장안점 scroll\n",
      "유가네한우곰탕-장안점 22\n",
      "모든 리뷰 불러오기 시작...\n",
      "모든 리뷰 불러오기 완료!\n"
     ]
    },
    {
     "name": "stderr",
     "output_type": "stream",
     "text": [
      "\n",
      "save..: 100%|██████████| 22/22 [00:01<00:00, 19.22it/s]\n"
     ]
    },
    {
     "name": "stdout",
     "output_type": "stream",
     "text": [
      "(6354, 11)\n"
     ]
    },
    {
     "name": "stderr",
     "output_type": "stream",
     "text": [
      "\r",
      "craw:  11%|█         | 29/259 [30:58<2:53:51, 45.35s/it]"
     ]
    },
    {
     "name": "stdout",
     "output_type": "stream",
     "text": [
      "이디야커피-회기역중앙점 scroll\n"
     ]
    },
    {
     "name": "stderr",
     "output_type": "stream",
     "text": [
      "\r",
      "craw:  12%|█▏        | 30/259 [31:01<2:04:07, 32.52s/it]"
     ]
    },
    {
     "name": "stdout",
     "output_type": "stream",
     "text": [
      "wrong shop\n",
      "제기동마라탕마라샹궈전문점 scroll\n"
     ]
    },
    {
     "name": "stderr",
     "output_type": "stream",
     "text": [
      "\n",
      "save..:   0%|          | 0/3 [00:00<?, ?it/s]\u001b[A"
     ]
    },
    {
     "name": "stdout",
     "output_type": "stream",
     "text": [
      "제기동마라탕마라샹궈전문점 3\n",
      "모든 리뷰 불러오기 시작...\n",
      "모든 리뷰 불러오기 완료!\n"
     ]
    },
    {
     "name": "stderr",
     "output_type": "stream",
     "text": [
      "save..: 100%|██████████| 3/3 [00:00<00:00, 15.33it/s]\n"
     ]
    },
    {
     "name": "stdout",
     "output_type": "stream",
     "text": [
      "(6357, 11)\n"
     ]
    },
    {
     "name": "stderr",
     "output_type": "stream",
     "text": [
      "\r",
      "craw:  12%|█▏        | 31/259 [32:06<2:40:33, 42.25s/it]"
     ]
    },
    {
     "name": "stdout",
     "output_type": "stream",
     "text": [
      "카롱이네-중곡점 scroll\n"
     ]
    },
    {
     "name": "stderr",
     "output_type": "stream",
     "text": [
      "\n",
      "save..: 100%|██████████| 3/3 [00:00<00:00, 1199.86it/s]"
     ]
    },
    {
     "name": "stdout",
     "output_type": "stream",
     "text": [
      "카롱이네-중곡점 3\n",
      "모든 리뷰 불러오기 시작...\n",
      "모든 리뷰 불러오기 완료!\n",
      "(6360, 11)\n"
     ]
    },
    {
     "name": "stderr",
     "output_type": "stream",
     "text": [
      "\n",
      "craw:  12%|█▏        | 32/259 [32:44<2:35:30, 41.10s/it]"
     ]
    },
    {
     "name": "stdout",
     "output_type": "stream",
     "text": [
      "프란츠카프카 scroll\n"
     ]
    },
    {
     "name": "stderr",
     "output_type": "stream",
     "text": [
      "\n",
      "save..:   0%|          | 0/3 [00:00<?, ?it/s]\u001b[A"
     ]
    },
    {
     "name": "stdout",
     "output_type": "stream",
     "text": [
      "프란츠카프카 3\n",
      "모든 리뷰 불러오기 시작...\n",
      "모든 리뷰 불러오기 완료!\n"
     ]
    },
    {
     "name": "stderr",
     "output_type": "stream",
     "text": [
      "save..: 100%|██████████| 3/3 [00:00<00:00, 10.24it/s]\n"
     ]
    },
    {
     "name": "stdout",
     "output_type": "stream",
     "text": [
      "(6363, 11)\n"
     ]
    },
    {
     "name": "stderr",
     "output_type": "stream",
     "text": [
      "\r",
      "craw:  13%|█▎        | 33/259 [33:50<3:02:19, 48.40s/it]"
     ]
    },
    {
     "name": "stdout",
     "output_type": "stream",
     "text": [
      "전농골목냉면 scroll\n"
     ]
    },
    {
     "name": "stderr",
     "output_type": "stream",
     "text": [
      "\r",
      "craw:  13%|█▎        | 34/259 [34:06<2:25:56, 38.92s/it]"
     ]
    },
    {
     "name": "stdout",
     "output_type": "stream",
     "text": [
      "wrong shop\n",
      "투샷카페 scroll\n",
      "투샷카페 scroll\n",
      "투샷카페 8\n",
      "모든 리뷰 불러오기 시작...\n",
      "모든 리뷰 불러오기 완료!\n"
     ]
    },
    {
     "name": "stderr",
     "output_type": "stream",
     "text": [
      "\n",
      "save..: 100%|██████████| 8/8 [00:00<00:00, 16.71it/s]\n"
     ]
    },
    {
     "name": "stdout",
     "output_type": "stream",
     "text": [
      "(6371, 11)\n"
     ]
    },
    {
     "name": "stderr",
     "output_type": "stream",
     "text": [
      "\r",
      "craw:  14%|█▎        | 35/259 [34:32<2:10:34, 34.97s/it]"
     ]
    },
    {
     "name": "stdout",
     "output_type": "stream",
     "text": [
      "해원수산 scroll\n",
      "해원수산 530\n",
      "모든 리뷰 불러오기 시작...\n",
      "모든 리뷰 불러오기 완료!\n"
     ]
    },
    {
     "name": "stderr",
     "output_type": "stream",
     "text": [
      "\n",
      "save..:   0%|          | 0/530 [00:00<?, ?it/s]\u001b[A\n",
      "save..:   9%|▊         | 46/530 [00:03<00:32, 15.01it/s]\u001b[A\n",
      "save..:  16%|█▌        | 83/530 [00:06<00:32, 13.91it/s]\u001b[A\n",
      "save..:  25%|██▌       | 133/530 [00:09<00:27, 14.50it/s]\u001b[A\n",
      "save..:  33%|███▎      | 177/530 [00:12<00:24, 14.52it/s]\u001b[A\n",
      "save..:  41%|████      | 215/530 [00:15<00:22, 13.86it/s]\u001b[A\n",
      "save..:  49%|████▊     | 258/530 [00:18<00:19, 13.87it/s]\u001b[A\n",
      "save..:  59%|█████▉    | 313/530 [00:21<00:14, 14.90it/s]\u001b[A\n",
      "save..:  67%|██████▋   | 355/530 [00:25<00:13, 13.04it/s]\u001b[A\n",
      "save..:  75%|███████▌  | 398/530 [00:28<00:09, 13.28it/s]\u001b[A\n",
      "save..:  84%|████████▍ | 445/530 [00:31<00:06, 13.87it/s]\u001b[A\n",
      "save..: 100%|██████████| 530/530 [00:36<00:00, 14.38it/s]\u001b[A\n"
     ]
    },
    {
     "name": "stdout",
     "output_type": "stream",
     "text": [
      "(6901, 11)\n"
     ]
    },
    {
     "name": "stderr",
     "output_type": "stream",
     "text": [
      "\r",
      "craw:  14%|█▍        | 36/259 [37:16<4:33:25, 73.57s/it]"
     ]
    },
    {
     "name": "stdout",
     "output_type": "stream",
     "text": [
      "따스한온족-월곡본점 scroll\n",
      "따스한온족-월곡본점 726\n",
      "모든 리뷰 불러오기 시작...\n",
      "모든 리뷰 불러오기 완료!\n"
     ]
    },
    {
     "name": "stderr",
     "output_type": "stream",
     "text": [
      "\n",
      "save..:   0%|          | 0/726 [00:00<?, ?it/s]\u001b[A\n",
      "save..:  11%|█▏        | 82/726 [00:03<00:24, 26.62it/s]\u001b[A\n",
      "save..:  22%|██▏       | 163/726 [00:06<00:21, 26.73it/s]\u001b[A\n",
      "save..:  33%|███▎      | 241/726 [00:09<00:18, 26.13it/s]\u001b[A\n",
      "save..:  46%|████▌     | 332/726 [00:12<00:14, 27.13it/s]\u001b[A\n",
      "save..:  59%|█████▉    | 428/726 [00:15<00:10, 27.73it/s]\u001b[A\n",
      "save..: 100%|██████████| 726/726 [00:18<00:00, 38.45it/s]\u001b[A\n"
     ]
    },
    {
     "name": "stdout",
     "output_type": "stream",
     "text": [
      "(7627, 11)\n"
     ]
    },
    {
     "name": "stderr",
     "output_type": "stream",
     "text": [
      "\r",
      "craw:  14%|█▍        | 37/259 [40:57<7:16:27, 117.96s/it]"
     ]
    },
    {
     "name": "stdout",
     "output_type": "stream",
     "text": [
      "용떡볶이 scroll\n"
     ]
    },
    {
     "name": "stderr",
     "output_type": "stream",
     "text": [
      "\n",
      "save..:   0%|          | 0/5 [00:00<?, ?it/s]\u001b[A"
     ]
    },
    {
     "name": "stdout",
     "output_type": "stream",
     "text": [
      "용떡볶이 5\n",
      "모든 리뷰 불러오기 시작...\n",
      "모든 리뷰 불러오기 완료!\n"
     ]
    },
    {
     "name": "stderr",
     "output_type": "stream",
     "text": [
      "save..: 100%|██████████| 5/5 [00:00<00:00, 34.27it/s]\n"
     ]
    },
    {
     "name": "stdout",
     "output_type": "stream",
     "text": [
      "(7632, 11)\n"
     ]
    },
    {
     "name": "stderr",
     "output_type": "stream",
     "text": [
      "\r",
      "craw:  15%|█▍        | 38/259 [41:17<5:26:17, 88.58s/it] "
     ]
    },
    {
     "name": "stdout",
     "output_type": "stream",
     "text": [
      "퀴즈노스-경희의료원점 scroll\n"
     ]
    },
    {
     "name": "stderr",
     "output_type": "stream",
     "text": [
      "\r",
      "craw:  15%|█▌        | 39/259 [41:58<4:32:17, 74.26s/it]"
     ]
    },
    {
     "name": "stdout",
     "output_type": "stream",
     "text": [
      "wrong shop\n",
      "타이인플레이트-사근본점 scroll\n",
      "타이인플레이트-사근본점 scroll\n",
      "타이인플레이트-사근본점 44\n",
      "모든 리뷰 불러오기 시작...\n"
     ]
    },
    {
     "name": "stderr",
     "output_type": "stream",
     "text": [
      "\n",
      "save..:   0%|          | 0/44 [00:00<?, ?it/s]\u001b[A"
     ]
    },
    {
     "name": "stdout",
     "output_type": "stream",
     "text": [
      "모든 리뷰 불러오기 완료!\n"
     ]
    },
    {
     "name": "stderr",
     "output_type": "stream",
     "text": [
      "save..: 100%|██████████| 44/44 [00:01<00:00, 28.14it/s]\n"
     ]
    },
    {
     "name": "stdout",
     "output_type": "stream",
     "text": [
      "(7676, 11)\n"
     ]
    },
    {
     "name": "stderr",
     "output_type": "stream",
     "text": [
      "\r",
      "craw:  15%|█▌        | 40/259 [42:54<4:11:16, 68.84s/it]"
     ]
    },
    {
     "name": "stdout",
     "output_type": "stream",
     "text": [
      "꼬부리곱창 scroll\n",
      "꼬부리곱창 13\n",
      "모든 리뷰 불러오기 시작...\n"
     ]
    },
    {
     "name": "stderr",
     "output_type": "stream",
     "text": [
      "\n",
      "save..:   0%|          | 0/13 [00:00<?, ?it/s]\u001b[A"
     ]
    },
    {
     "name": "stdout",
     "output_type": "stream",
     "text": [
      "모든 리뷰 불러오기 완료!\n"
     ]
    },
    {
     "name": "stderr",
     "output_type": "stream",
     "text": [
      "save..: 100%|██████████| 13/13 [00:00<00:00, 17.55it/s]\n"
     ]
    },
    {
     "name": "stdout",
     "output_type": "stream",
     "text": [
      "(7689, 11)\n"
     ]
    },
    {
     "name": "stderr",
     "output_type": "stream",
     "text": [
      "\r",
      "craw:  16%|█▌        | 41/259 [43:11<3:12:56, 53.10s/it]"
     ]
    },
    {
     "name": "stdout",
     "output_type": "stream",
     "text": [
      "니뽕내뽕-아트몰링장안점 scroll\n",
      "니뽕내뽕-아트몰링장안점 20\n",
      "모든 리뷰 불러오기 시작...\n"
     ]
    },
    {
     "name": "stderr",
     "output_type": "stream",
     "text": [
      "\n",
      "save..:   0%|          | 0/20 [00:00<?, ?it/s]\u001b[A"
     ]
    },
    {
     "name": "stdout",
     "output_type": "stream",
     "text": [
      "모든 리뷰 불러오기 완료!\n"
     ]
    },
    {
     "name": "stderr",
     "output_type": "stream",
     "text": [
      "save..: 100%|██████████| 20/20 [00:00<00:00, 23.43it/s]\n"
     ]
    },
    {
     "name": "stdout",
     "output_type": "stream",
     "text": [
      "(7709, 11)\n"
     ]
    },
    {
     "name": "stderr",
     "output_type": "stream",
     "text": [
      "\r",
      "craw:  16%|█▌        | 42/259 [44:19<3:28:23, 57.62s/it]"
     ]
    },
    {
     "name": "stdout",
     "output_type": "stream",
     "text": [
      "궁디저트 scroll\n"
     ]
    },
    {
     "name": "stderr",
     "output_type": "stream",
     "text": [
      "\n",
      "save..: 100%|██████████| 1/1 [00:00<00:00, 991.09it/s]"
     ]
    },
    {
     "name": "stdout",
     "output_type": "stream",
     "text": [
      "궁디저트 1\n",
      "모든 리뷰 불러오기 시작...\n",
      "모든 리뷰 불러오기 완료!\n",
      "(7710, 11)\n"
     ]
    },
    {
     "name": "stderr",
     "output_type": "stream",
     "text": [
      "\n",
      "craw:  17%|█▋        | 43/259 [44:54<3:02:41, 50.75s/it]"
     ]
    },
    {
     "name": "stdout",
     "output_type": "stream",
     "text": [
      "판다플래터&파스타 scroll\n"
     ]
    },
    {
     "name": "stderr",
     "output_type": "stream",
     "text": [
      "\r",
      "craw:  17%|█▋        | 44/259 [45:19<2:34:11, 43.03s/it]"
     ]
    },
    {
     "name": "stdout",
     "output_type": "stream",
     "text": [
      "wrong shop\n",
      "종로계림닭도리탕원조-장안점 scroll\n",
      "종로계림닭도리탕원조-장안점 scroll\n"
     ]
    },
    {
     "name": "stderr",
     "output_type": "stream",
     "text": [
      "\n",
      "save..: 100%|██████████| 2/2 [00:00<00:00, 1145.67it/s]"
     ]
    },
    {
     "name": "stdout",
     "output_type": "stream",
     "text": [
      "종로계림닭도리탕원조-장안점 2\n",
      "모든 리뷰 불러오기 시작...\n",
      "모든 리뷰 불러오기 완료!\n",
      "(7712, 11)\n"
     ]
    },
    {
     "name": "stderr",
     "output_type": "stream",
     "text": [
      "\n",
      "craw:  17%|█▋        | 45/259 [45:57<2:28:36, 41.67s/it]"
     ]
    },
    {
     "name": "stdout",
     "output_type": "stream",
     "text": [
      "와와통닭-전농본점 scroll\n",
      "와와통닭-전농본점 17\n",
      "모든 리뷰 불러오기 시작...\n",
      "모든 리뷰 불러오기 완료!\n"
     ]
    },
    {
     "name": "stderr",
     "output_type": "stream",
     "text": [
      "\n",
      "save..: 100%|██████████| 17/17 [00:00<00:00, 24.23it/s]\n"
     ]
    },
    {
     "name": "stdout",
     "output_type": "stream",
     "text": [
      "(7729, 11)\n"
     ]
    },
    {
     "name": "stderr",
     "output_type": "stream",
     "text": [
      "\r",
      "craw:  18%|█▊        | 46/259 [46:33<2:21:53, 39.97s/it]"
     ]
    },
    {
     "name": "stdout",
     "output_type": "stream",
     "text": [
      "맴매떡볶이 scroll\n",
      "맴매떡볶이 84\n",
      "모든 리뷰 불러오기 시작...\n",
      "모든 리뷰 불러오기 완료!\n"
     ]
    },
    {
     "name": "stderr",
     "output_type": "stream",
     "text": [
      "\n",
      "save..:   0%|          | 0/84 [00:00<?, ?it/s]\u001b[A\n",
      "save..: 100%|██████████| 84/84 [00:03<00:00, 24.20it/s]\u001b[A\n"
     ]
    },
    {
     "name": "stdout",
     "output_type": "stream",
     "text": [
      "(7813, 11)\n"
     ]
    },
    {
     "name": "stderr",
     "output_type": "stream",
     "text": [
      "\r",
      "craw:  18%|█▊        | 47/259 [47:12<2:19:50, 39.58s/it]"
     ]
    },
    {
     "name": "stdout",
     "output_type": "stream",
     "text": [
      "참치네 scroll\n"
     ]
    },
    {
     "name": "stderr",
     "output_type": "stream",
     "text": [
      "\r",
      "craw:  19%|█▊        | 48/259 [47:22<1:48:27, 30.84s/it]"
     ]
    },
    {
     "name": "stdout",
     "output_type": "stream",
     "text": [
      "wrong shop\n",
      "정가네돈쭈랑-동대문점 scroll\n",
      "정가네돈쭈랑-동대문점 15\n",
      "모든 리뷰 불러오기 시작...\n"
     ]
    },
    {
     "name": "stderr",
     "output_type": "stream",
     "text": [
      "\n",
      "save..:   0%|          | 0/15 [00:00<?, ?it/s]\u001b[A"
     ]
    },
    {
     "name": "stdout",
     "output_type": "stream",
     "text": [
      "모든 리뷰 불러오기 완료!\n"
     ]
    },
    {
     "name": "stderr",
     "output_type": "stream",
     "text": [
      "save..: 100%|██████████| 15/15 [00:00<00:00, 15.63it/s]\n"
     ]
    },
    {
     "name": "stdout",
     "output_type": "stream",
     "text": [
      "(7828, 11)\n"
     ]
    },
    {
     "name": "stderr",
     "output_type": "stream",
     "text": [
      "\r",
      "craw:  19%|█▉        | 49/259 [48:17<2:13:19, 38.09s/it]"
     ]
    },
    {
     "name": "stdout",
     "output_type": "stream",
     "text": [
      "고씨네-한국외대점 scroll\n",
      "고씨네-한국외대점 175\n",
      "모든 리뷰 불러오기 시작...\n",
      "모든 리뷰 불러오기 완료!\n"
     ]
    },
    {
     "name": "stderr",
     "output_type": "stream",
     "text": [
      "\n",
      "save..:   0%|          | 0/175 [00:00<?, ?it/s]\u001b[A\n",
      "save..:  29%|██▉       | 51/175 [00:03<00:07, 16.76it/s]\u001b[A\n",
      "save..:  56%|█████▌    | 98/175 [00:06<00:04, 16.34it/s]\u001b[A\n",
      "save..: 100%|██████████| 175/175 [00:10<00:00, 16.88it/s]\u001b[A\n"
     ]
    },
    {
     "name": "stdout",
     "output_type": "stream",
     "text": [
      "(8003, 11)\n"
     ]
    },
    {
     "name": "stderr",
     "output_type": "stream",
     "text": [
      "\r",
      "craw:  19%|█▉        | 50/259 [49:20<2:38:39, 45.55s/it]"
     ]
    },
    {
     "name": "stdout",
     "output_type": "stream",
     "text": [
      "꽁지네 scroll\n"
     ]
    },
    {
     "name": "stderr",
     "output_type": "stream",
     "text": [
      "\r",
      "craw:  20%|█▉        | 51/259 [49:26<1:56:25, 33.59s/it]"
     ]
    },
    {
     "name": "stdout",
     "output_type": "stream",
     "text": [
      "wrong shop\n",
      "deartable-본점 scroll\n",
      "deartable-본점 13\n",
      "모든 리뷰 불러오기 시작...\n",
      "모든 리뷰 불러오기 완료!\n"
     ]
    },
    {
     "name": "stderr",
     "output_type": "stream",
     "text": [
      "\n",
      "save..: 100%|██████████| 13/13 [00:00<00:00, 21.52it/s]\n"
     ]
    },
    {
     "name": "stdout",
     "output_type": "stream",
     "text": [
      "(8016, 11)\n"
     ]
    },
    {
     "name": "stderr",
     "output_type": "stream",
     "text": [
      "\r",
      "craw:  20%|██        | 52/259 [50:28<2:25:12, 42.09s/it]"
     ]
    },
    {
     "name": "stdout",
     "output_type": "stream",
     "text": [
      "바르다김선생-장안점 scroll\n",
      "바르다김선생-장안점 27\n",
      "모든 리뷰 불러오기 시작...\n"
     ]
    },
    {
     "name": "stderr",
     "output_type": "stream",
     "text": [
      "\n",
      "save..:   0%|          | 0/27 [00:00<?, ?it/s]\u001b[A"
     ]
    },
    {
     "name": "stdout",
     "output_type": "stream",
     "text": [
      "모든 리뷰 불러오기 완료!\n"
     ]
    },
    {
     "name": "stderr",
     "output_type": "stream",
     "text": [
      "save..: 100%|██████████| 27/27 [00:01<00:00, 21.27it/s]\n"
     ]
    },
    {
     "name": "stdout",
     "output_type": "stream",
     "text": [
      "(8043, 11)\n"
     ]
    },
    {
     "name": "stderr",
     "output_type": "stream",
     "text": [
      "\r",
      "craw:  20%|██        | 53/259 [51:37<2:52:22, 50.21s/it]"
     ]
    },
    {
     "name": "stdout",
     "output_type": "stream",
     "text": [
      "돈태자 scroll\n",
      "돈태자 6\n",
      "모든 리뷰 불러오기 시작...\n",
      "모든 리뷰 불러오기 완료!\n"
     ]
    },
    {
     "name": "stderr",
     "output_type": "stream",
     "text": [
      "\n",
      "save..: 100%|██████████| 6/6 [00:00<00:00, 793.45it/s]\n"
     ]
    },
    {
     "name": "stdout",
     "output_type": "stream",
     "text": [
      "(8049, 11)\n"
     ]
    },
    {
     "name": "stderr",
     "output_type": "stream",
     "text": [
      "\r",
      "craw:  21%|██        | 54/259 [52:04<2:27:16, 43.11s/it]"
     ]
    },
    {
     "name": "stdout",
     "output_type": "stream",
     "text": [
      "불타는왕십리 scroll\n",
      "불타는왕십리 34\n",
      "모든 리뷰 불러오기 시작...\n"
     ]
    },
    {
     "name": "stderr",
     "output_type": "stream",
     "text": [
      "\n",
      "save..:   0%|          | 0/34 [00:00<?, ?it/s]\u001b[A"
     ]
    },
    {
     "name": "stdout",
     "output_type": "stream",
     "text": [
      "모든 리뷰 불러오기 완료!\n"
     ]
    },
    {
     "name": "stderr",
     "output_type": "stream",
     "text": [
      "save..: 100%|██████████| 34/34 [00:00<00:00, 50.20it/s]\n"
     ]
    },
    {
     "name": "stdout",
     "output_type": "stream",
     "text": [
      "(8083, 11)\n"
     ]
    },
    {
     "name": "stderr",
     "output_type": "stream",
     "text": [
      "\r",
      "craw:  21%|██        | 55/259 [52:50<2:30:20, 44.22s/it]"
     ]
    },
    {
     "name": "stdout",
     "output_type": "stream",
     "text": [
      "브라운돈까스-장안점 scroll\n",
      "브라운돈까스-장안점 334\n",
      "모든 리뷰 불러오기 시작...\n",
      "모든 리뷰 불러오기 완료!\n"
     ]
    },
    {
     "name": "stderr",
     "output_type": "stream",
     "text": [
      "\n",
      "save..:   0%|          | 0/334 [00:00<?, ?it/s]\u001b[A\n",
      "save..:  17%|█▋        | 56/334 [00:03<00:15, 18.40it/s]\u001b[A\n",
      "save..:  31%|███       | 102/334 [00:06<00:13, 17.16it/s]\u001b[A\n",
      "save..:  45%|████▍     | 149/334 [00:09<00:11, 16.66it/s]\u001b[A\n",
      "save..: 100%|██████████| 334/334 [00:14<00:00, 22.93it/s]\u001b[A\n"
     ]
    },
    {
     "name": "stdout",
     "output_type": "stream",
     "text": [
      "(8417, 11)\n"
     ]
    },
    {
     "name": "stderr",
     "output_type": "stream",
     "text": [
      "\r",
      "craw:  22%|██▏       | 56/259 [54:38<3:34:05, 63.28s/it]"
     ]
    },
    {
     "name": "stdout",
     "output_type": "stream",
     "text": [
      "맛집옛날통닭-경희대점 scroll\n",
      "맛집옛날통닭-경희대점 40\n",
      "모든 리뷰 불러오기 시작...\n"
     ]
    },
    {
     "name": "stderr",
     "output_type": "stream",
     "text": [
      "\n",
      "save..:   0%|          | 0/40 [00:00<?, ?it/s]\u001b[A"
     ]
    },
    {
     "name": "stdout",
     "output_type": "stream",
     "text": [
      "모든 리뷰 불러오기 완료!\n"
     ]
    },
    {
     "name": "stderr",
     "output_type": "stream",
     "text": [
      "save..: 100%|██████████| 40/40 [00:01<00:00, 36.91it/s]\n"
     ]
    },
    {
     "name": "stdout",
     "output_type": "stream",
     "text": [
      "(8457, 11)\n"
     ]
    },
    {
     "name": "stderr",
     "output_type": "stream",
     "text": [
      "\r",
      "craw:  22%|██▏       | 57/259 [55:00<2:50:41, 50.70s/it]"
     ]
    },
    {
     "name": "stdout",
     "output_type": "stream",
     "text": [
      "광수육회-종암점 scroll\n"
     ]
    },
    {
     "name": "stderr",
     "output_type": "stream",
     "text": [
      "\n",
      "save..:   0%|          | 0/3 [00:00<?, ?it/s]\u001b[A"
     ]
    },
    {
     "name": "stdout",
     "output_type": "stream",
     "text": [
      "광수육회-종암점 3\n",
      "모든 리뷰 불러오기 시작...\n",
      "모든 리뷰 불러오기 완료!\n"
     ]
    },
    {
     "name": "stderr",
     "output_type": "stream",
     "text": [
      "save..: 100%|██████████| 3/3 [00:00<00:00, 10.14it/s]\n"
     ]
    },
    {
     "name": "stdout",
     "output_type": "stream",
     "text": [
      "(8460, 11)\n"
     ]
    },
    {
     "name": "stderr",
     "output_type": "stream",
     "text": [
      "\r",
      "craw:  22%|██▏       | 58/259 [55:45<2:44:23, 49.07s/it]"
     ]
    },
    {
     "name": "stdout",
     "output_type": "stream",
     "text": [
      "알로카시아 scroll\n"
     ]
    },
    {
     "name": "stderr",
     "output_type": "stream",
     "text": [
      "\n",
      "save..: 100%|██████████| 1/1 [00:00<00:00, 1035.63it/s]"
     ]
    },
    {
     "name": "stdout",
     "output_type": "stream",
     "text": [
      "알로카시아 1\n",
      "모든 리뷰 불러오기 시작...\n",
      "모든 리뷰 불러오기 완료!\n",
      "(8461, 11)\n"
     ]
    },
    {
     "name": "stderr",
     "output_type": "stream",
     "text": [
      "\n",
      "craw:  23%|██▎       | 59/259 [56:06<2:16:05, 40.83s/it]"
     ]
    },
    {
     "name": "stdout",
     "output_type": "stream",
     "text": [
      "크리스피크림도넛-롯데청량리점 scroll\n",
      "크리스피크림도넛-롯데청량리점 276\n",
      "모든 리뷰 불러오기 시작...\n",
      "모든 리뷰 불러오기 완료!\n"
     ]
    },
    {
     "name": "stderr",
     "output_type": "stream",
     "text": [
      "\n",
      "save..:   0%|          | 0/276 [00:00<?, ?it/s]\u001b[A\n",
      "save..:  26%|██▌       | 71/276 [00:03<00:08, 23.22it/s]\u001b[A\n",
      "save..:  46%|████▋     | 128/276 [00:06<00:06, 21.66it/s]\u001b[A\n",
      "save..:  60%|██████    | 166/276 [00:09<00:06, 17.84it/s]\u001b[A\n",
      "save..:  79%|███████▉  | 218/276 [00:12<00:03, 17.67it/s]\u001b[A\n",
      "save..: 100%|██████████| 276/276 [00:15<00:00, 18.13it/s]\u001b[A\n"
     ]
    },
    {
     "name": "stdout",
     "output_type": "stream",
     "text": [
      "(8737, 11)\n"
     ]
    },
    {
     "name": "stderr",
     "output_type": "stream",
     "text": [
      "\r",
      "craw:  23%|██▎       | 60/259 [57:51<3:18:59, 60.00s/it]"
     ]
    },
    {
     "name": "stdout",
     "output_type": "stream",
     "text": [
      "도미노피자-전농점 scroll\n",
      "도미노피자-전농점 139\n",
      "모든 리뷰 불러오기 시작...\n",
      "모든 리뷰 불러오기 완료!\n"
     ]
    },
    {
     "name": "stderr",
     "output_type": "stream",
     "text": [
      "\n",
      "save..:   0%|          | 0/139 [00:00<?, ?it/s]\u001b[A\n",
      "save..: 100%|██████████| 139/139 [00:05<00:00, 27.02it/s][A\n"
     ]
    },
    {
     "name": "stdout",
     "output_type": "stream",
     "text": [
      "(8876, 11)\n"
     ]
    },
    {
     "name": "stderr",
     "output_type": "stream",
     "text": [
      "\r",
      "craw:  24%|██▎       | 61/259 [59:06<3:32:38, 64.44s/it]"
     ]
    },
    {
     "name": "stdout",
     "output_type": "stream",
     "text": [
      "CAFE153 scroll\n",
      "CAFE153 223\n",
      "모든 리뷰 불러오기 시작...\n",
      "모든 리뷰 불러오기 완료!\n"
     ]
    },
    {
     "name": "stderr",
     "output_type": "stream",
     "text": [
      "\n",
      "save..:   0%|          | 0/223 [00:00<?, ?it/s]\u001b[A\n",
      "save..:  17%|█▋        | 38/223 [00:03<00:14, 12.61it/s]\u001b[A\n",
      "save..:  31%|███▏      | 70/223 [00:06<00:12, 11.93it/s]\u001b[A\n",
      "save..:  59%|█████▉    | 132/223 [00:09<00:06, 13.62it/s]\u001b[A\n",
      "save..: 100%|██████████| 223/223 [00:14<00:00, 14.89it/s]\u001b[A\n"
     ]
    },
    {
     "name": "stdout",
     "output_type": "stream",
     "text": [
      "(9099, 11)\n"
     ]
    },
    {
     "name": "stderr",
     "output_type": "stream",
     "text": [
      "\r",
      "craw:  24%|██▍       | 62/259 [1:00:32<3:52:29, 70.81s/it]"
     ]
    },
    {
     "name": "stdout",
     "output_type": "stream",
     "text": [
      "한솥도시락-경희대정문점 scroll\n",
      "한솥도시락-경희대정문점 65\n",
      "모든 리뷰 불러오기 시작...\n",
      "모든 리뷰 불러오기 완료!\n"
     ]
    },
    {
     "name": "stderr",
     "output_type": "stream",
     "text": [
      "\n",
      "save..:   0%|          | 0/65 [00:00<?, ?it/s]\u001b[A\n",
      "save..: 100%|██████████| 65/65 [00:03<00:00, 17.89it/s]\u001b[A\n"
     ]
    },
    {
     "name": "stdout",
     "output_type": "stream",
     "text": [
      "(9164, 11)\n"
     ]
    },
    {
     "name": "stderr",
     "output_type": "stream",
     "text": [
      "\r",
      "craw:  24%|██▍       | 63/259 [1:01:11<3:20:47, 61.46s/it]"
     ]
    },
    {
     "name": "stdout",
     "output_type": "stream",
     "text": [
      "소문난열무국수냉면 scroll\n",
      "소문난열무국수냉면 14\n",
      "모든 리뷰 불러오기 시작...\n"
     ]
    },
    {
     "name": "stderr",
     "output_type": "stream",
     "text": [
      "\n",
      "save..:   0%|          | 0/14 [00:00<?, ?it/s]\u001b[A"
     ]
    },
    {
     "name": "stdout",
     "output_type": "stream",
     "text": [
      "모든 리뷰 불러오기 완료!\n"
     ]
    },
    {
     "name": "stderr",
     "output_type": "stream",
     "text": [
      "save..: 100%|██████████| 14/14 [00:00<00:00, 14.54it/s]\n"
     ]
    },
    {
     "name": "stdout",
     "output_type": "stream",
     "text": [
      "(9178, 11)\n"
     ]
    },
    {
     "name": "stderr",
     "output_type": "stream",
     "text": [
      "\r",
      "craw:  25%|██▍       | 64/259 [1:01:52<2:59:58, 55.37s/it]"
     ]
    },
    {
     "name": "stdout",
     "output_type": "stream",
     "text": [
      "동해물과아구찜-중랑점 scroll\n",
      "동해물과아구찜-중랑점 18\n",
      "모든 리뷰 불러오기 시작...\n"
     ]
    },
    {
     "name": "stderr",
     "output_type": "stream",
     "text": [
      "\n",
      "save..:   0%|          | 0/18 [00:00<?, ?it/s]\u001b[A"
     ]
    },
    {
     "name": "stdout",
     "output_type": "stream",
     "text": [
      "모든 리뷰 불러오기 완료!\n"
     ]
    },
    {
     "name": "stderr",
     "output_type": "stream",
     "text": [
      "save..: 100%|██████████| 18/18 [00:01<00:00, 14.65it/s]\n"
     ]
    },
    {
     "name": "stdout",
     "output_type": "stream",
     "text": [
      "(9196, 11)\n"
     ]
    },
    {
     "name": "stderr",
     "output_type": "stream",
     "text": [
      "\r",
      "craw:  25%|██▌       | 65/259 [1:02:22<2:34:12, 47.69s/it]"
     ]
    },
    {
     "name": "stdout",
     "output_type": "stream",
     "text": [
      "홍곱창-회기본점 scroll\n",
      "홍곱창-회기본점 60\n",
      "모든 리뷰 불러오기 시작...\n",
      "모든 리뷰 불러오기 완료!\n"
     ]
    },
    {
     "name": "stderr",
     "output_type": "stream",
     "text": [
      "\n",
      "save..:   0%|          | 0/60 [00:00<?, ?it/s]\u001b[A\n",
      "save..: 100%|██████████| 60/60 [00:04<00:00, 14.93it/s]\u001b[A\n"
     ]
    },
    {
     "name": "stdout",
     "output_type": "stream",
     "text": [
      "(9256, 11)\n"
     ]
    },
    {
     "name": "stderr",
     "output_type": "stream",
     "text": [
      "\r",
      "craw:  25%|██▌       | 66/259 [1:03:22<2:45:15, 51.38s/it]"
     ]
    },
    {
     "name": "stdout",
     "output_type": "stream",
     "text": [
      "밥맛나는세상-전농점 scroll\n",
      "밥맛나는세상-전농점 24\n",
      "모든 리뷰 불러오기 시작...\n"
     ]
    },
    {
     "name": "stderr",
     "output_type": "stream",
     "text": [
      "\n",
      "save..:   0%|          | 0/24 [00:00<?, ?it/s]\u001b[A"
     ]
    },
    {
     "name": "stdout",
     "output_type": "stream",
     "text": [
      "모든 리뷰 불러오기 완료!\n"
     ]
    },
    {
     "name": "stderr",
     "output_type": "stream",
     "text": [
      "save..: 100%|██████████| 24/24 [00:00<00:00, 28.03it/s]\n"
     ]
    },
    {
     "name": "stdout",
     "output_type": "stream",
     "text": [
      "(9280, 11)\n"
     ]
    },
    {
     "name": "stderr",
     "output_type": "stream",
     "text": [
      "\r",
      "craw:  26%|██▌       | 67/259 [1:04:00<2:31:49, 47.45s/it]"
     ]
    },
    {
     "name": "stdout",
     "output_type": "stream",
     "text": [
      "막퍼분식 scroll\n"
     ]
    },
    {
     "name": "stderr",
     "output_type": "stream",
     "text": [
      "\n",
      "save..:   0%|          | 0/3 [00:00<?, ?it/s]\u001b[A"
     ]
    },
    {
     "name": "stdout",
     "output_type": "stream",
     "text": [
      "막퍼분식 3\n",
      "모든 리뷰 불러오기 시작...\n",
      "모든 리뷰 불러오기 완료!\n"
     ]
    },
    {
     "name": "stderr",
     "output_type": "stream",
     "text": [
      "save..: 100%|██████████| 3/3 [00:00<00:00, 20.81it/s]\n"
     ]
    },
    {
     "name": "stdout",
     "output_type": "stream",
     "text": [
      "(9283, 11)\n"
     ]
    },
    {
     "name": "stderr",
     "output_type": "stream",
     "text": [
      "\r",
      "craw:  26%|██▋       | 68/259 [1:04:29<2:12:42, 41.69s/it]"
     ]
    },
    {
     "name": "stdout",
     "output_type": "stream",
     "text": [
      "크림스치킨 scroll\n",
      "크림스치킨 26\n",
      "모든 리뷰 불러오기 시작...\n"
     ]
    },
    {
     "name": "stderr",
     "output_type": "stream",
     "text": [
      "\n",
      "save..:   0%|          | 0/26 [00:00<?, ?it/s]\u001b[A"
     ]
    },
    {
     "name": "stdout",
     "output_type": "stream",
     "text": [
      "모든 리뷰 불러오기 완료!\n"
     ]
    },
    {
     "name": "stderr",
     "output_type": "stream",
     "text": [
      "save..: 100%|██████████| 26/26 [00:01<00:00, 24.90it/s]\n"
     ]
    },
    {
     "name": "stdout",
     "output_type": "stream",
     "text": [
      "(9309, 11)\n"
     ]
    },
    {
     "name": "stderr",
     "output_type": "stream",
     "text": [
      "\r",
      "craw:  27%|██▋       | 69/259 [1:05:04<2:05:50, 39.74s/it]"
     ]
    },
    {
     "name": "stdout",
     "output_type": "stream",
     "text": [
      "79번지국수집 scroll\n",
      "79번지국수집 78\n",
      "모든 리뷰 불러오기 시작...\n",
      "모든 리뷰 불러오기 완료!\n"
     ]
    },
    {
     "name": "stderr",
     "output_type": "stream",
     "text": [
      "\n",
      "save..: 100%|██████████| 78/78 [00:02<00:00, 26.41it/s]\n"
     ]
    },
    {
     "name": "stdout",
     "output_type": "stream",
     "text": [
      "(9387, 11)\n"
     ]
    },
    {
     "name": "stderr",
     "output_type": "stream",
     "text": [
      "\r",
      "craw:  27%|██▋       | 70/259 [1:05:38<2:00:03, 38.11s/it]"
     ]
    },
    {
     "name": "stdout",
     "output_type": "stream",
     "text": [
      "주오꼬마김밥 scroll\n"
     ]
    },
    {
     "name": "stderr",
     "output_type": "stream",
     "text": [
      "\r",
      "craw:  27%|██▋       | 71/259 [1:05:50<1:34:51, 30.27s/it]"
     ]
    },
    {
     "name": "stdout",
     "output_type": "stream",
     "text": [
      "wrong shop\n",
      "재수돈감자탕 scroll\n",
      "재수돈감자탕 11\n",
      "모든 리뷰 불러오기 시작...\n"
     ]
    },
    {
     "name": "stderr",
     "output_type": "stream",
     "text": [
      "\n",
      "save..:   0%|          | 0/11 [00:00<?, ?it/s]\u001b[A"
     ]
    },
    {
     "name": "stdout",
     "output_type": "stream",
     "text": [
      "모든 리뷰 불러오기 완료!\n"
     ]
    },
    {
     "name": "stderr",
     "output_type": "stream",
     "text": [
      "save..: 100%|██████████| 11/11 [00:00<00:00, 23.29it/s]\n"
     ]
    },
    {
     "name": "stdout",
     "output_type": "stream",
     "text": [
      "(9398, 11)\n"
     ]
    },
    {
     "name": "stderr",
     "output_type": "stream",
     "text": [
      "\r",
      "craw:  28%|██▊       | 72/259 [1:06:36<1:49:05, 35.00s/it]"
     ]
    },
    {
     "name": "stdout",
     "output_type": "stream",
     "text": [
      "작렬곱창-본점 scroll\n"
     ]
    },
    {
     "name": "stderr",
     "output_type": "stream",
     "text": [
      "\r",
      "craw:  28%|██▊       | 73/259 [1:06:52<1:30:24, 29.16s/it]"
     ]
    },
    {
     "name": "stdout",
     "output_type": "stream",
     "text": [
      "wrong shop\n",
      "정아니의불타는여고24시떡볶이-전농점 scroll\n",
      "정아니의불타는여고24시떡볶이-전농점 66\n",
      "모든 리뷰 불러오기 시작...\n",
      "모든 리뷰 불러오기 완료!\n"
     ]
    },
    {
     "name": "stderr",
     "output_type": "stream",
     "text": [
      "\n",
      "save..:   0%|          | 0/66 [00:00<?, ?it/s]\u001b[A\n",
      "save..: 100%|██████████| 66/66 [00:04<00:00, 15.69it/s]\u001b[A\n"
     ]
    },
    {
     "name": "stdout",
     "output_type": "stream",
     "text": [
      "(9464, 11)\n"
     ]
    },
    {
     "name": "stderr",
     "output_type": "stream",
     "text": [
      "\r",
      "craw:  29%|██▊       | 74/259 [1:07:38<1:45:36, 34.25s/it]"
     ]
    },
    {
     "name": "stdout",
     "output_type": "stream",
     "text": [
      "까시발라생선구이 scroll\n",
      "까시발라생선구이 1883\n",
      "모든 리뷰 불러오기 시작...\n",
      "모든 리뷰 불러오기 완료!\n"
     ]
    },
    {
     "name": "stderr",
     "output_type": "stream",
     "text": [
      "\n",
      "save..:   0%|          | 0/1883 [00:00<?, ?it/s]\u001b[A\n",
      "save..:   3%|▎         | 60/1883 [00:03<01:37, 18.76it/s]\u001b[A\n",
      "save..:   5%|▍         | 94/1883 [00:06<01:54, 15.62it/s]\u001b[A\n",
      "save..:   8%|▊         | 152/1883 [00:09<01:45, 16.46it/s]\u001b[A\n",
      "save..:  12%|█▏        | 227/1883 [00:12<01:30, 18.20it/s]\u001b[A\n",
      "save..:  16%|█▌        | 299/1883 [00:15<01:21, 19.53it/s]\u001b[A\n",
      "save..:  20%|█▉        | 376/1883 [00:18<01:11, 21.02it/s]\u001b[A\n",
      "save..:  24%|██▎       | 444/1883 [00:21<01:08, 21.03it/s]\u001b[A\n",
      "save..:  27%|██▋       | 505/1883 [00:24<01:06, 20.60it/s]\u001b[A\n",
      "save..:  30%|███       | 574/1883 [00:27<01:01, 21.15it/s]\u001b[A\n",
      "save..:  34%|███▍      | 637/1883 [00:31<01:00, 20.56it/s]\u001b[A\n",
      "save..:  39%|███▉      | 730/1883 [00:34<00:50, 22.79it/s]\u001b[A\n",
      "save..:  43%|████▎     | 810/1883 [00:37<00:45, 23.80it/s]\u001b[A\n",
      "save..:  47%|████▋     | 884/1883 [00:40<00:43, 22.85it/s]\u001b[A\n",
      "save..:  51%|█████     | 964/1883 [00:43<00:38, 23.67it/s]\u001b[A\n",
      "save..:  55%|█████▌    | 1037/1883 [00:47<00:38, 22.23it/s]\u001b[A\n",
      "save..:  59%|█████▉    | 1111/1883 [00:50<00:34, 22.44it/s]\u001b[A\n",
      "save..:  63%|██████▎   | 1180/1883 [00:54<00:32, 21.33it/s]\u001b[A\n",
      "save..:  66%|██████▌   | 1246/1883 [00:57<00:30, 21.15it/s]\u001b[A\n",
      "save..:  71%|███████   | 1335/1883 [01:00<00:23, 22.93it/s]\u001b[A\n",
      "save..:  76%|███████▌  | 1429/1883 [01:03<00:18, 24.58it/s]\u001b[A\n",
      "save..:  80%|███████▉  | 1506/1883 [01:07<00:15, 24.43it/s]\u001b[A\n",
      "save..:  85%|████████▌ | 1601/1883 [01:10<00:10, 26.19it/s]\u001b[A\n",
      "save..:  89%|████████▉ | 1682/1883 [01:13<00:08, 24.74it/s]\u001b[A\n",
      "save..: 100%|██████████| 1883/1883 [01:19<00:00, 23.63it/s]\u001b[A\n"
     ]
    },
    {
     "name": "stdout",
     "output_type": "stream",
     "text": [
      "(11347, 11)\n"
     ]
    },
    {
     "name": "stderr",
     "output_type": "stream",
     "text": [
      "\r",
      "craw:  29%|██▉       | 75/259 [1:18:11<10:55:49, 213.86s/it]"
     ]
    },
    {
     "name": "stdout",
     "output_type": "stream",
     "text": [
      "피자나라치킨공주-답십리점 scroll\n"
     ]
    },
    {
     "name": "stderr",
     "output_type": "stream",
     "text": [
      "\r",
      "craw:  29%|██▉       | 76/259 [1:18:41<8:03:59, 158.68s/it] "
     ]
    },
    {
     "name": "stdout",
     "output_type": "stream",
     "text": [
      "wrong shop\n",
      "사라다방 scroll\n",
      "사라다방 67\n",
      "모든 리뷰 불러오기 시작...\n",
      "모든 리뷰 불러오기 완료!\n"
     ]
    },
    {
     "name": "stderr",
     "output_type": "stream",
     "text": [
      "\n",
      "save..:   0%|          | 0/67 [00:00<?, ?it/s]\u001b[A\n",
      "save..: 100%|██████████| 67/67 [00:04<00:00, 15.11it/s]\u001b[A\n"
     ]
    },
    {
     "name": "stdout",
     "output_type": "stream",
     "text": [
      "(11414, 11)\n"
     ]
    },
    {
     "name": "stderr",
     "output_type": "stream",
     "text": [
      "\r",
      "craw:  30%|██▉       | 77/259 [1:19:10<6:03:51, 119.95s/it]"
     ]
    },
    {
     "name": "stdout",
     "output_type": "stream",
     "text": [
      "중국관-본점 scroll\n",
      "중국관-본점 855\n",
      "모든 리뷰 불러오기 시작...\n",
      "모든 리뷰 불러오기 완료!\n"
     ]
    },
    {
     "name": "stderr",
     "output_type": "stream",
     "text": [
      "\n",
      "save..:   0%|          | 0/855 [00:00<?, ?it/s]\u001b[A\n",
      "save..:   5%|▌         | 45/855 [00:03<00:54, 14.74it/s]\u001b[A\n",
      "save..:  13%|█▎        | 112/855 [00:06<00:45, 16.28it/s]\u001b[A\n",
      "save..:  21%|██        | 176/855 [00:09<00:38, 17.50it/s]\u001b[A\n",
      "save..:  27%|██▋       | 230/855 [00:12<00:35, 17.53it/s]\u001b[A\n",
      "save..:  35%|███▍      | 295/855 [00:15<00:30, 18.54it/s]\u001b[A\n",
      "save..:  42%|████▏     | 356/855 [00:18<00:26, 18.91it/s]\u001b[A\n",
      "save..:  53%|█████▎    | 455/855 [00:21<00:18, 21.33it/s]\u001b[A\n",
      "save..:  62%|██████▏   | 533/855 [00:24<00:14, 22.43it/s]\u001b[A\n",
      "save..:  80%|████████  | 688/855 [00:27<00:06, 26.96it/s]\u001b[A\n",
      "save..: 100%|██████████| 855/855 [00:31<00:00, 26.78it/s]\u001b[A\n"
     ]
    },
    {
     "name": "stdout",
     "output_type": "stream",
     "text": [
      "(12269, 11)\n"
     ]
    },
    {
     "name": "stderr",
     "output_type": "stream",
     "text": [
      "\r",
      "craw:  30%|███       | 78/259 [1:23:16<7:55:59, 157.79s/it]"
     ]
    },
    {
     "name": "stdout",
     "output_type": "stream",
     "text": [
      "전국에서손꼽히는족발 scroll\n",
      "전국에서손꼽히는족발 25\n",
      "모든 리뷰 불러오기 시작...\n"
     ]
    },
    {
     "name": "stderr",
     "output_type": "stream",
     "text": [
      "\n",
      "save..:   0%|          | 0/25 [00:00<?, ?it/s]\u001b[A"
     ]
    },
    {
     "name": "stdout",
     "output_type": "stream",
     "text": [
      "모든 리뷰 불러오기 완료!\n"
     ]
    },
    {
     "name": "stderr",
     "output_type": "stream",
     "text": [
      "save..: 100%|██████████| 25/25 [00:01<00:00, 16.92it/s]\n"
     ]
    },
    {
     "name": "stdout",
     "output_type": "stream",
     "text": [
      "(12294, 11)\n"
     ]
    },
    {
     "name": "stderr",
     "output_type": "stream",
     "text": [
      "\r",
      "craw:  31%|███       | 79/259 [1:23:36<5:48:40, 116.22s/it]"
     ]
    },
    {
     "name": "stdout",
     "output_type": "stream",
     "text": [
      "옛고을장터 scroll\n"
     ]
    },
    {
     "name": "stderr",
     "output_type": "stream",
     "text": [
      "\r",
      "craw:  31%|███       | 80/259 [1:23:46<4:12:02, 84.48s/it] "
     ]
    },
    {
     "name": "stdout",
     "output_type": "stream",
     "text": [
      "wrong shop\n",
      "1인식탁-청량리점 scroll\n",
      "1인식탁-청량리점 19\n",
      "모든 리뷰 불러오기 시작...\n"
     ]
    },
    {
     "name": "stderr",
     "output_type": "stream",
     "text": [
      "\n",
      "save..:   0%|          | 0/19 [00:00<?, ?it/s]\u001b[A"
     ]
    },
    {
     "name": "stdout",
     "output_type": "stream",
     "text": [
      "모든 리뷰 불러오기 완료!\n"
     ]
    },
    {
     "name": "stderr",
     "output_type": "stream",
     "text": [
      "\n",
      "save..: 100%|██████████| 19/19 [02:11<00:00,  6.91s/it][A\n"
     ]
    },
    {
     "name": "stdout",
     "output_type": "stream",
     "text": [
      "(12313, 11)\n"
     ]
    },
    {
     "name": "stderr",
     "output_type": "stream",
     "text": [
      "\r",
      "craw:  31%|███▏      | 81/259 [1:26:54<5:42:39, 115.50s/it]"
     ]
    },
    {
     "name": "stdout",
     "output_type": "stream",
     "text": [
      "카페밀리언생과일&디저트 scroll\n",
      "카페밀리언생과일&디저트 31\n",
      "모든 리뷰 불러오기 시작...\n",
      "모든 리뷰 불러오기 완료!\n"
     ]
    },
    {
     "name": "stderr",
     "output_type": "stream",
     "text": [
      "\n",
      "save..: 100%|██████████| 31/31 [00:01<00:00, 22.64it/s]\n"
     ]
    },
    {
     "name": "stdout",
     "output_type": "stream",
     "text": [
      "(12344, 11)\n"
     ]
    },
    {
     "name": "stderr",
     "output_type": "stream",
     "text": [
      "\r",
      "craw:  32%|███▏      | 82/259 [1:27:52<4:50:17, 98.41s/it] "
     ]
    },
    {
     "name": "stdout",
     "output_type": "stream",
     "text": [
      "하꼬스시 scroll\n"
     ]
    },
    {
     "name": "stderr",
     "output_type": "stream",
     "text": [
      "\n",
      "save..:   0%|          | 0/6 [00:00<?, ?it/s]\u001b[A"
     ]
    },
    {
     "name": "stdout",
     "output_type": "stream",
     "text": [
      "하꼬스시 6\n",
      "모든 리뷰 불러오기 시작...\n",
      "모든 리뷰 불러오기 완료!\n"
     ]
    },
    {
     "name": "stderr",
     "output_type": "stream",
     "text": [
      "save..: 100%|██████████| 6/6 [00:00<00:00, 19.54it/s]\n"
     ]
    },
    {
     "name": "stdout",
     "output_type": "stream",
     "text": [
      "(12350, 11)\n"
     ]
    },
    {
     "name": "stderr",
     "output_type": "stream",
     "text": [
      "\r",
      "craw:  32%|███▏      | 83/259 [1:28:42<4:05:15, 83.61s/it]"
     ]
    },
    {
     "name": "stdout",
     "output_type": "stream",
     "text": [
      "황귀닭곰탕 scroll\n"
     ]
    },
    {
     "name": "stderr",
     "output_type": "stream",
     "text": [
      "\r",
      "craw:  32%|███▏      | 84/259 [1:28:57<3:04:05, 63.11s/it]"
     ]
    },
    {
     "name": "stdout",
     "output_type": "stream",
     "text": [
      "wrong shop\n",
      "서산간장게장-장안본점 scroll\n",
      "서산간장게장-장안본점 45\n",
      "모든 리뷰 불러오기 시작...\n"
     ]
    },
    {
     "name": "stderr",
     "output_type": "stream",
     "text": [
      "\n",
      "save..:   0%|          | 0/45 [00:00<?, ?it/s]\u001b[A"
     ]
    },
    {
     "name": "stdout",
     "output_type": "stream",
     "text": [
      "모든 리뷰 불러오기 완료!\n"
     ]
    },
    {
     "name": "stderr",
     "output_type": "stream",
     "text": [
      "save..: 100%|██████████| 45/45 [00:02<00:00, 17.60it/s]\n"
     ]
    },
    {
     "name": "stdout",
     "output_type": "stream",
     "text": [
      "(12395, 11)\n"
     ]
    },
    {
     "name": "stderr",
     "output_type": "stream",
     "text": [
      "\r",
      "craw:  33%|███▎      | 85/259 [1:29:39<2:44:48, 56.83s/it]"
     ]
    },
    {
     "name": "stdout",
     "output_type": "stream",
     "text": [
      "보스턴샐러드하우스 scroll\n",
      "보스턴샐러드하우스 262\n",
      "모든 리뷰 불러오기 시작...\n",
      "모든 리뷰 불러오기 완료!\n"
     ]
    },
    {
     "name": "stderr",
     "output_type": "stream",
     "text": [
      "\n",
      "save..:   0%|          | 0/262 [00:00<?, ?it/s]\u001b[A\n",
      "save..:  18%|█▊        | 46/262 [00:03<00:14, 15.17it/s]\u001b[A\n",
      "save..:  28%|██▊       | 74/262 [00:06<00:15, 12.53it/s]\u001b[A\n",
      "save..:  42%|████▏     | 111/262 [00:09<00:12, 12.44it/s]\u001b[A\n",
      "save..:  61%|██████▏   | 161/262 [00:12<00:07, 13.40it/s]\u001b[A\n",
      "save..:  74%|███████▎  | 193/262 [00:15<00:05, 12.12it/s]\u001b[A\n",
      "save..: 100%|██████████| 262/262 [00:19<00:00, 13.26it/s]\u001b[A\n"
     ]
    },
    {
     "name": "stdout",
     "output_type": "stream",
     "text": [
      "(12657, 11)\n"
     ]
    },
    {
     "name": "stderr",
     "output_type": "stream",
     "text": [
      "\r",
      "craw:  33%|███▎      | 86/259 [1:31:22<3:24:04, 70.78s/it]"
     ]
    },
    {
     "name": "stdout",
     "output_type": "stream",
     "text": [
      "싸닭지존 scroll\n",
      "싸닭지존 298\n",
      "모든 리뷰 불러오기 시작...\n",
      "모든 리뷰 불러오기 완료!\n"
     ]
    },
    {
     "name": "stderr",
     "output_type": "stream",
     "text": [
      "\n",
      "save..:   0%|          | 0/298 [00:00<?, ?it/s]\u001b[A\n",
      "save..:  27%|██▋       | 80/298 [00:03<00:08, 25.77it/s]\u001b[A\n",
      "save..: 100%|██████████| 298/298 [00:06<00:00, 46.01it/s]\u001b[A\n"
     ]
    },
    {
     "name": "stdout",
     "output_type": "stream",
     "text": [
      "(12955, 11)\n"
     ]
    },
    {
     "name": "stderr",
     "output_type": "stream",
     "text": [
      "\r",
      "craw:  34%|███▎      | 87/259 [1:33:10<3:54:59, 81.97s/it]"
     ]
    },
    {
     "name": "stdout",
     "output_type": "stream",
     "text": [
      "커피에반하다-답십리점 scroll\n",
      "커피에반하다-답십리점 5\n",
      "모든 리뷰 불러오기 시작...\n",
      "모든 리뷰 불러오기 완료!\n"
     ]
    },
    {
     "name": "stderr",
     "output_type": "stream",
     "text": [
      "\n",
      "save..: 100%|██████████| 5/5 [00:00<00:00, 25.28it/s]\n"
     ]
    },
    {
     "name": "stdout",
     "output_type": "stream",
     "text": [
      "(12960, 11)\n"
     ]
    },
    {
     "name": "stderr",
     "output_type": "stream",
     "text": [
      "\r",
      "craw:  34%|███▍      | 88/259 [1:33:37<3:06:31, 65.45s/it]"
     ]
    },
    {
     "name": "stdout",
     "output_type": "stream",
     "text": [
      "설악칡냉면 scroll\n",
      "설악칡냉면 1700\n",
      "모든 리뷰 불러오기 시작...\n",
      "모든 리뷰 불러오기 완료!\n"
     ]
    },
    {
     "name": "stderr",
     "output_type": "stream",
     "text": [
      "\n",
      "save..:   0%|          | 0/1700 [00:00<?, ?it/s]\u001b[A\n",
      "save..:   5%|▍         | 82/1700 [00:03<00:59, 27.05it/s]\u001b[A\n",
      "save..:  10%|▉         | 163/1700 [00:06<00:57, 26.84it/s]\u001b[A\n",
      "save..:  14%|█▍        | 238/1700 [00:09<00:55, 26.26it/s]\u001b[A\n",
      "save..:  21%|██        | 352/1700 [00:12<00:46, 28.89it/s]\u001b[A\n",
      "save..:  29%|██▊       | 487/1700 [00:15<00:37, 32.20it/s]\u001b[A\n",
      "save..:  36%|███▌      | 604/1700 [00:18<00:32, 33.46it/s]\u001b[A\n",
      "save..:  43%|████▎     | 739/1700 [00:21<00:26, 36.19it/s]\u001b[A\n",
      "save..:  54%|█████▎    | 911/1700 [00:24<00:19, 40.36it/s]\u001b[A\n",
      "save..:  68%|██████▊   | 1151/1700 [00:27<00:11, 47.12it/s]\u001b[A\n",
      "save..:  82%|████████▏ | 1391/1700 [00:30<00:05, 53.63it/s]\u001b[A\n",
      "save..: 100%|██████████| 1700/1700 [00:33<00:00, 50.11it/s]\u001b[A\n"
     ]
    },
    {
     "name": "stdout",
     "output_type": "stream",
     "text": [
      "(14660, 11)\n"
     ]
    },
    {
     "name": "stderr",
     "output_type": "stream",
     "text": [
      "\r",
      "craw:  34%|███▍      | 89/259 [1:41:56<9:13:26, 195.33s/it]"
     ]
    },
    {
     "name": "stdout",
     "output_type": "stream",
     "text": [
      "치즈밥있슈-광진점 scroll\n",
      "치즈밥있슈-광진점 285\n",
      "모든 리뷰 불러오기 시작...\n",
      "모든 리뷰 불러오기 완료!\n"
     ]
    },
    {
     "name": "stderr",
     "output_type": "stream",
     "text": [
      "\n",
      "save..:   0%|          | 0/285 [00:00<?, ?it/s]\u001b[A\n",
      "save..:  19%|█▉        | 55/285 [00:03<00:12, 18.04it/s]\u001b[A\n",
      "save..:  38%|███▊      | 107/285 [00:06<00:10, 17.71it/s]\u001b[A\n",
      "save..:  58%|█████▊    | 164/285 [00:09<00:06, 17.95it/s]\u001b[A\n",
      "save..: 100%|██████████| 285/285 [00:14<00:00, 19.11it/s]\u001b[A\n"
     ]
    },
    {
     "name": "stdout",
     "output_type": "stream",
     "text": [
      "(14945, 11)\n"
     ]
    },
    {
     "name": "stderr",
     "output_type": "stream",
     "text": [
      "\r",
      "craw:  35%|███▍      | 90/259 [1:43:33<7:47:00, 165.80s/it]"
     ]
    },
    {
     "name": "stdout",
     "output_type": "stream",
     "text": [
      "수원명물행복닭강정 scroll\n"
     ]
    },
    {
     "name": "stderr",
     "output_type": "stream",
     "text": [
      "\r",
      "craw:  35%|███▌      | 91/259 [1:43:50<5:39:16, 121.17s/it]"
     ]
    },
    {
     "name": "stdout",
     "output_type": "stream",
     "text": [
      "wrong shop\n",
      "돈태자돈가스 scroll\n",
      "돈태자돈가스 scroll\n",
      "돈태자돈가스 6\n",
      "모든 리뷰 불러오기 시작...\n",
      "모든 리뷰 불러오기 완료!\n"
     ]
    },
    {
     "name": "stderr",
     "output_type": "stream",
     "text": [
      "\n",
      "save..: 100%|██████████| 6/6 [00:00<00:00, 680.88it/s]\n"
     ]
    },
    {
     "name": "stdout",
     "output_type": "stream",
     "text": [
      "(14951, 11)\n"
     ]
    },
    {
     "name": "stderr",
     "output_type": "stream",
     "text": [
      "\r",
      "craw:  36%|███▌      | 92/259 [1:44:24<4:24:45, 95.12s/it] "
     ]
    },
    {
     "name": "stdout",
     "output_type": "stream",
     "text": [
      "미미고찹쌀꽈배기-답십리점 scroll\n"
     ]
    },
    {
     "name": "stderr",
     "output_type": "stream",
     "text": [
      "\n",
      "save..: 100%|██████████| 1/1 [00:00<00:00, 17.28it/s]"
     ]
    },
    {
     "name": "stdout",
     "output_type": "stream",
     "text": [
      "미미고찹쌀꽈배기-답십리점 1\n",
      "모든 리뷰 불러오기 시작...\n",
      "모든 리뷰 불러오기 완료!\n",
      "(14952, 11)\n"
     ]
    },
    {
     "name": "stderr",
     "output_type": "stream",
     "text": [
      "\n",
      "craw:  36%|███▌      | 93/259 [1:44:49<3:24:50, 74.04s/it]"
     ]
    },
    {
     "name": "stdout",
     "output_type": "stream",
     "text": [
      "용마산한우곱창 scroll\n"
     ]
    },
    {
     "name": "stderr",
     "output_type": "stream",
     "text": [
      "\n",
      "save..:   0%|          | 0/9 [00:00<?, ?it/s]\u001b[A"
     ]
    },
    {
     "name": "stdout",
     "output_type": "stream",
     "text": [
      "용마산한우곱창 9\n",
      "모든 리뷰 불러오기 시작...\n",
      "모든 리뷰 불러오기 완료!\n"
     ]
    },
    {
     "name": "stderr",
     "output_type": "stream",
     "text": [
      "save..: 100%|██████████| 9/9 [00:00<00:00, 38.61it/s]\n"
     ]
    },
    {
     "name": "stdout",
     "output_type": "stream",
     "text": [
      "(14961, 11)\n"
     ]
    },
    {
     "name": "stderr",
     "output_type": "stream",
     "text": [
      "\r",
      "craw:  36%|███▋      | 94/259 [1:45:26<2:52:56, 62.89s/it]"
     ]
    },
    {
     "name": "stdout",
     "output_type": "stream",
     "text": [
      "먹곱창 scroll\n"
     ]
    },
    {
     "name": "stderr",
     "output_type": "stream",
     "text": [
      "\r",
      "craw:  37%|███▋      | 95/259 [1:45:53<2:22:23, 52.10s/it]"
     ]
    },
    {
     "name": "stdout",
     "output_type": "stream",
     "text": [
      "wrong shop\n",
      "라마파스타 scroll\n",
      "라마파스타 scroll\n"
     ]
    },
    {
     "name": "stderr",
     "output_type": "stream",
     "text": [
      "\n",
      "save..:   0%|          | 0/3 [00:00<?, ?it/s]\u001b[A"
     ]
    },
    {
     "name": "stdout",
     "output_type": "stream",
     "text": [
      "라마파스타 3\n",
      "모든 리뷰 불러오기 시작...\n",
      "모든 리뷰 불러오기 완료!\n"
     ]
    },
    {
     "name": "stderr",
     "output_type": "stream",
     "text": [
      "save..: 100%|██████████| 3/3 [00:00<00:00, 15.63it/s]\n"
     ]
    },
    {
     "name": "stdout",
     "output_type": "stream",
     "text": [
      "(14964, 11)\n"
     ]
    },
    {
     "name": "stderr",
     "output_type": "stream",
     "text": [
      "\r",
      "craw:  37%|███▋      | 96/259 [1:46:23<2:03:31, 45.47s/it]"
     ]
    },
    {
     "name": "stdout",
     "output_type": "stream",
     "text": [
      "김밥천국-신제기점 scroll\n"
     ]
    },
    {
     "name": "stderr",
     "output_type": "stream",
     "text": [
      "\n",
      "save..:   0%|          | 0/9 [00:00<?, ?it/s]\u001b[A"
     ]
    },
    {
     "name": "stdout",
     "output_type": "stream",
     "text": [
      "김밥천국-신제기점 9\n",
      "모든 리뷰 불러오기 시작...\n",
      "모든 리뷰 불러오기 완료!\n"
     ]
    },
    {
     "name": "stderr",
     "output_type": "stream",
     "text": [
      "save..: 100%|██████████| 9/9 [00:00<00:00, 19.22it/s]\n"
     ]
    },
    {
     "name": "stdout",
     "output_type": "stream",
     "text": [
      "(14973, 11)\n"
     ]
    },
    {
     "name": "stderr",
     "output_type": "stream",
     "text": [
      "\r",
      "craw:  37%|███▋      | 97/259 [1:47:00<1:55:54, 42.93s/it]"
     ]
    },
    {
     "name": "stdout",
     "output_type": "stream",
     "text": [
      "옛맛수제피순대 scroll\n"
     ]
    },
    {
     "name": "stderr",
     "output_type": "stream",
     "text": [
      "\n",
      "save..:   0%|          | 0/7 [00:00<?, ?it/s]\u001b[A"
     ]
    },
    {
     "name": "stdout",
     "output_type": "stream",
     "text": [
      "옛맛수제피순대 7\n",
      "모든 리뷰 불러오기 시작...\n",
      "모든 리뷰 불러오기 완료!\n"
     ]
    },
    {
     "name": "stderr",
     "output_type": "stream",
     "text": [
      "save..: 100%|██████████| 7/7 [00:00<00:00, 57.63it/s]\n"
     ]
    },
    {
     "name": "stdout",
     "output_type": "stream",
     "text": [
      "(14980, 11)\n"
     ]
    },
    {
     "name": "stderr",
     "output_type": "stream",
     "text": [
      "\r",
      "craw:  38%|███▊      | 98/259 [1:47:25<1:40:43, 37.54s/it]"
     ]
    },
    {
     "name": "stdout",
     "output_type": "stream",
     "text": [
      "피자나라치킨공주-장안1호점 scroll\n",
      "피자나라치킨공주-장안1호점 2258\n",
      "모든 리뷰 불러오기 시작...\n",
      "모든 리뷰 불러오기 완료!\n"
     ]
    },
    {
     "name": "stderr",
     "output_type": "stream",
     "text": [
      "\n",
      "save..:   0%|          | 0/2258 [00:00<?, ?it/s]\u001b[A\n",
      "save..:   3%|▎         | 72/2258 [00:03<01:33, 23.32it/s]\u001b[A\n",
      "save..:   6%|▋         | 145/2258 [00:06<01:29, 23.50it/s]\u001b[A\n",
      "save..:   9%|▉         | 211/2258 [00:09<01:29, 22.84it/s]\u001b[A\n",
      "save..:  13%|█▎        | 287/2258 [00:12<01:24, 23.40it/s]\u001b[A\n",
      "save..:  16%|█▌        | 358/2258 [00:15<01:21, 23.42it/s]\u001b[A\n",
      "save..:  19%|█▉        | 434/2258 [00:18<01:16, 23.86it/s]\u001b[A\n",
      "save..:  22%|██▏       | 498/2258 [00:21<01:17, 22.65it/s]\u001b[A\n",
      "save..:  25%|██▌       | 568/2258 [00:24<01:14, 22.82it/s]\u001b[A\n",
      "save..:  28%|██▊       | 633/2258 [00:28<01:18, 20.76it/s]\u001b[A\n",
      "save..:  32%|███▏      | 725/2258 [00:31<01:06, 22.91it/s]\u001b[A\n",
      "save..:  36%|███▋      | 824/2258 [00:34<00:56, 25.17it/s]\u001b[A\n",
      "save..:  40%|███▉      | 903/2258 [00:37<00:55, 24.28it/s]\u001b[A\n",
      "save..:  46%|████▋     | 1047/2258 [00:40<00:42, 28.43it/s]\u001b[A\n",
      "save..:  53%|█████▎    | 1207/2258 [00:44<00:32, 32.69it/s]\u001b[A\n",
      "save..:  60%|█████▉    | 1347/2258 [00:47<00:25, 35.87it/s]\u001b[A\n",
      "save..:  66%|██████▌   | 1491/2258 [00:50<00:19, 38.70it/s]\u001b[A\n",
      "save..:  72%|███████▏  | 1618/2258 [00:53<00:16, 38.62it/s]\u001b[A\n",
      "save..:  80%|████████  | 1808/2258 [00:56<00:10, 43.73it/s]\u001b[A\n",
      "save..:  87%|████████▋ | 1958/2258 [00:59<00:06, 45.38it/s]\u001b[A\n",
      "save..:  93%|█████████▎| 2105/2258 [01:02<00:03, 45.87it/s]\u001b[A\n",
      "save..: 100%|██████████| 2258/2258 [01:06<00:00, 34.04it/s]\u001b[A\n"
     ]
    },
    {
     "name": "stdout",
     "output_type": "stream",
     "text": [
      "(17238, 11)\n"
     ]
    },
    {
     "name": "stderr",
     "output_type": "stream",
     "text": [
      "\r",
      "craw:  38%|███▊      | 99/259 [1:59:08<10:32:49, 237.31s/it]"
     ]
    },
    {
     "name": "stdout",
     "output_type": "stream",
     "text": [
      "역전우동-회기역점 scroll\n",
      "역전우동-회기역점 315\n",
      "모든 리뷰 불러오기 시작...\n",
      "모든 리뷰 불러오기 완료!\n"
     ]
    },
    {
     "name": "stderr",
     "output_type": "stream",
     "text": [
      "\n",
      "save..:   0%|          | 0/315 [00:00<?, ?it/s]\u001b[A\n",
      "save..:  23%|██▎       | 72/315 [00:03<00:10, 23.54it/s]\u001b[A\n",
      "save..:  43%|████▎     | 136/315 [00:06<00:07, 22.46it/s]\u001b[A\n",
      "save..:  63%|██████▎   | 197/315 [00:09<00:05, 21.61it/s]\u001b[A\n",
      "save..: 100%|██████████| 315/315 [00:14<00:00, 21.16it/s]\u001b[A\n"
     ]
    },
    {
     "name": "stdout",
     "output_type": "stream",
     "text": [
      "(17553, 11)\n"
     ]
    },
    {
     "name": "stderr",
     "output_type": "stream",
     "text": [
      "\r",
      "craw:  39%|███▊      | 100/259 [2:00:43<8:35:29, 194.53s/it]"
     ]
    },
    {
     "name": "stdout",
     "output_type": "stream",
     "text": [
      "땡초닭발-경희대점 scroll\n"
     ]
    },
    {
     "name": "stderr",
     "output_type": "stream",
     "text": [
      "\n",
      "save..: 100%|██████████| 1/1 [00:00<00:00, 1175.53it/s]"
     ]
    },
    {
     "name": "stdout",
     "output_type": "stream",
     "text": [
      "땡초닭발-경희대점 1\n",
      "모든 리뷰 불러오기 시작...\n",
      "모든 리뷰 불러오기 완료!\n",
      "(17554, 11)\n"
     ]
    },
    {
     "name": "stderr",
     "output_type": "stream",
     "text": [
      "\n",
      "craw:  39%|███▉      | 101/259 [2:01:52<6:53:06, 156.88s/it]"
     ]
    },
    {
     "name": "stdout",
     "output_type": "stream",
     "text": [
      "알촌-경희외대점 scroll\n",
      "알촌-경희외대점 80\n",
      "모든 리뷰 불러오기 시작...\n",
      "모든 리뷰 불러오기 완료!\n"
     ]
    },
    {
     "name": "stderr",
     "output_type": "stream",
     "text": [
      "\n",
      "save..:   0%|          | 0/80 [00:00<?, ?it/s]\u001b[A\n",
      "save..: 100%|██████████| 80/80 [00:04<00:00, 19.20it/s]\u001b[A\n"
     ]
    },
    {
     "name": "stdout",
     "output_type": "stream",
     "text": [
      "(17634, 11)\n"
     ]
    },
    {
     "name": "stderr",
     "output_type": "stream",
     "text": [
      "\r",
      "craw:  39%|███▉      | 102/259 [2:02:28<5:15:36, 120.61s/it]"
     ]
    },
    {
     "name": "stdout",
     "output_type": "stream",
     "text": [
      "우리엄마집밥 scroll\n"
     ]
    },
    {
     "name": "stderr",
     "output_type": "stream",
     "text": [
      "\n",
      "save..: 100%|██████████| 1/1 [00:00<00:00, 15.57it/s]"
     ]
    },
    {
     "name": "stdout",
     "output_type": "stream",
     "text": [
      "우리엄마집밥 1\n",
      "모든 리뷰 불러오기 시작...\n",
      "모든 리뷰 불러오기 완료!\n",
      "(17635, 11)\n"
     ]
    },
    {
     "name": "stderr",
     "output_type": "stream",
     "text": [
      "\n",
      "craw:  40%|███▉      | 103/259 [2:03:08<4:10:54, 96.50s/it] "
     ]
    },
    {
     "name": "stdout",
     "output_type": "stream",
     "text": [
      "평양불냉면&임금님갈비탕 scroll\n",
      "평양불냉면&임금님갈비탕 161\n",
      "모든 리뷰 불러오기 시작...\n",
      "모든 리뷰 불러오기 완료!\n"
     ]
    },
    {
     "name": "stderr",
     "output_type": "stream",
     "text": [
      "\n",
      "save..:   0%|          | 0/161 [00:00<?, ?it/s]\u001b[A\n",
      "save..: 100%|██████████| 161/161 [00:03<00:00, 53.12it/s]\u001b[A\n"
     ]
    },
    {
     "name": "stdout",
     "output_type": "stream",
     "text": [
      "(17796, 11)\n"
     ]
    },
    {
     "name": "stderr",
     "output_type": "stream",
     "text": [
      "\r",
      "craw:  40%|████      | 104/259 [2:03:57<3:32:23, 82.22s/it]"
     ]
    },
    {
     "name": "stdout",
     "output_type": "stream",
     "text": [
      "윤가네오리-면목본점 scroll\n"
     ]
    },
    {
     "name": "stderr",
     "output_type": "stream",
     "text": [
      "\n",
      "save..: 100%|██████████| 3/3 [00:00<00:00, 1190.66it/s]"
     ]
    },
    {
     "name": "stdout",
     "output_type": "stream",
     "text": [
      "윤가네오리-면목본점 3\n",
      "모든 리뷰 불러오기 시작...\n",
      "모든 리뷰 불러오기 완료!\n",
      "(17799, 11)\n"
     ]
    },
    {
     "name": "stderr",
     "output_type": "stream",
     "text": [
      "\n",
      "craw:  41%|████      | 105/259 [2:04:52<3:10:26, 74.20s/it]"
     ]
    },
    {
     "name": "stdout",
     "output_type": "stream",
     "text": [
      "더바른차담소 scroll\n"
     ]
    },
    {
     "name": "stderr",
     "output_type": "stream",
     "text": [
      "\n",
      "save..:   0%|          | 0/7 [00:00<?, ?it/s]\u001b[A"
     ]
    },
    {
     "name": "stdout",
     "output_type": "stream",
     "text": [
      "더바른차담소 7\n",
      "모든 리뷰 불러오기 시작...\n",
      "모든 리뷰 불러오기 완료!\n"
     ]
    },
    {
     "name": "stderr",
     "output_type": "stream",
     "text": [
      "save..: 100%|██████████| 7/7 [00:00<00:00, 18.55it/s]\n"
     ]
    },
    {
     "name": "stdout",
     "output_type": "stream",
     "text": [
      "(17806, 11)\n"
     ]
    },
    {
     "name": "stderr",
     "output_type": "stream",
     "text": [
      "\r",
      "craw:  41%|████      | 106/259 [2:05:29<2:40:40, 63.01s/it]"
     ]
    },
    {
     "name": "stdout",
     "output_type": "stream",
     "text": [
      "커리146 scroll\n",
      "커리146 783\n",
      "모든 리뷰 불러오기 시작...\n",
      "모든 리뷰 불러오기 완료!\n"
     ]
    },
    {
     "name": "stderr",
     "output_type": "stream",
     "text": [
      "\n",
      "save..:   0%|          | 0/783 [00:00<?, ?it/s]\u001b[A\n",
      "save..:   8%|▊         | 60/783 [00:03<00:37, 19.48it/s]\u001b[A\n",
      "save..:  15%|█▍        | 117/783 [00:06<00:34, 19.31it/s]\u001b[A\n",
      "save..:  22%|██▏       | 173/783 [00:09<00:31, 19.11it/s]\u001b[A\n",
      "save..:  30%|██▉       | 233/783 [00:12<00:28, 19.26it/s]\u001b[A\n",
      "save..:  36%|███▌      | 278/783 [00:15<00:28, 17.67it/s]\u001b[A\n",
      "save..:  42%|████▏     | 331/783 [00:18<00:25, 17.45it/s]\u001b[A\n",
      "save..:  50%|█████     | 393/783 [00:21<00:21, 18.25it/s]\u001b[A\n",
      "save..:  57%|█████▋    | 448/783 [00:24<00:18, 18.20it/s]\u001b[A\n",
      "save..:  66%|██████▌   | 513/783 [00:27<00:14, 19.04it/s]\u001b[A\n",
      "save..:  77%|███████▋  | 601/783 [00:30<00:08, 21.20it/s]\u001b[A\n",
      "save..:  86%|████████▋ | 676/783 [00:33<00:04, 22.09it/s]\u001b[A\n",
      "save..: 100%|██████████| 783/783 [00:36<00:00, 21.26it/s]\u001b[A\n"
     ]
    },
    {
     "name": "stdout",
     "output_type": "stream",
     "text": [
      "(18589, 11)\n"
     ]
    },
    {
     "name": "stderr",
     "output_type": "stream",
     "text": [
      "\r",
      "craw:  41%|████▏     | 107/259 [2:09:28<4:53:09, 115.72s/it]"
     ]
    },
    {
     "name": "stdout",
     "output_type": "stream",
     "text": [
      "피자링크-회기점 scroll\n",
      "피자링크-회기점 47\n",
      "모든 리뷰 불러오기 시작...\n",
      "모든 리뷰 불러오기 완료!\n"
     ]
    },
    {
     "name": "stderr",
     "output_type": "stream",
     "text": [
      "\n",
      "save..: 100%|██████████| 47/47 [00:01<00:00, 41.14it/s]\n"
     ]
    },
    {
     "name": "stdout",
     "output_type": "stream",
     "text": [
      "(18636, 11)\n"
     ]
    },
    {
     "name": "stderr",
     "output_type": "stream",
     "text": [
      "\r",
      "craw:  42%|████▏     | 108/259 [2:10:24<4:06:20, 97.88s/it] "
     ]
    },
    {
     "name": "stdout",
     "output_type": "stream",
     "text": [
      "어스담 scroll\n"
     ]
    },
    {
     "name": "stderr",
     "output_type": "stream",
     "text": [
      "\r",
      "craw:  42%|████▏     | 109/259 [2:10:28<2:54:23, 69.76s/it]"
     ]
    },
    {
     "name": "stdout",
     "output_type": "stream",
     "text": [
      "wrong shop\n",
      "고흥소곱창&부추삼겹살-본점 scroll\n",
      "고흥소곱창&부추삼겹살-본점 20\n",
      "모든 리뷰 불러오기 시작...\n",
      "모든 리뷰 불러오기 완료!\n"
     ]
    },
    {
     "name": "stderr",
     "output_type": "stream",
     "text": [
      "\n",
      "save..: 100%|██████████| 20/20 [00:01<00:00, 14.74it/s]\n"
     ]
    },
    {
     "name": "stdout",
     "output_type": "stream",
     "text": [
      "(18656, 11)\n"
     ]
    },
    {
     "name": "stderr",
     "output_type": "stream",
     "text": [
      "\r",
      "craw:  42%|████▏     | 110/259 [2:10:46<2:14:24, 54.12s/it]"
     ]
    },
    {
     "name": "stdout",
     "output_type": "stream",
     "text": [
      "동부시장마산아구찜 scroll\n",
      "동부시장마산아구찜 57\n",
      "모든 리뷰 불러오기 시작...\n"
     ]
    },
    {
     "name": "stderr",
     "output_type": "stream",
     "text": [
      "\n"
     ]
    },
    {
     "name": "stdout",
     "output_type": "stream",
     "text": [
      "모든 리뷰 불러오기 완료!\n"
     ]
    },
    {
     "name": "stderr",
     "output_type": "stream",
     "text": [
      "save..: 100%|██████████| 57/57 [00:02<00:00, 19.42it/s]\n"
     ]
    },
    {
     "name": "stdout",
     "output_type": "stream",
     "text": [
      "(18713, 11)\n"
     ]
    },
    {
     "name": "stderr",
     "output_type": "stream",
     "text": [
      "\r",
      "craw:  43%|████▎     | 111/259 [2:11:39<2:12:51, 53.86s/it]"
     ]
    },
    {
     "name": "stdout",
     "output_type": "stream",
     "text": [
      "서양요리집 scroll\n",
      "서양요리집 151\n",
      "모든 리뷰 불러오기 시작...\n",
      "모든 리뷰 불러오기 완료!\n"
     ]
    },
    {
     "name": "stderr",
     "output_type": "stream",
     "text": [
      "\n",
      "save..:   0%|          | 0/151 [00:00<?, ?it/s]\u001b[A\n",
      "save..:  40%|████      | 61/151 [00:03<00:04, 20.07it/s]\u001b[A\n",
      "save..: 100%|██████████| 151/151 [00:07<00:00, 20.14it/s]\u001b[A\n"
     ]
    },
    {
     "name": "stdout",
     "output_type": "stream",
     "text": [
      "(18864, 11)\n"
     ]
    },
    {
     "name": "stderr",
     "output_type": "stream",
     "text": [
      "\r",
      "craw:  43%|████▎     | 112/259 [2:12:32<2:10:58, 53.46s/it]"
     ]
    },
    {
     "name": "stdout",
     "output_type": "stream",
     "text": [
      "엄마손맛집-휘경동 scroll\n",
      "엄마손맛집-휘경동 30\n",
      "모든 리뷰 불러오기 시작...\n",
      "모든 리뷰 불러오기 완료!\n"
     ]
    },
    {
     "name": "stderr",
     "output_type": "stream",
     "text": [
      "\n",
      "save..: 100%|██████████| 30/30 [00:02<00:00, 14.84it/s]\n"
     ]
    },
    {
     "name": "stdout",
     "output_type": "stream",
     "text": [
      "(18894, 11)\n"
     ]
    },
    {
     "name": "stderr",
     "output_type": "stream",
     "text": [
      "\r",
      "craw:  44%|████▎     | 113/259 [2:12:55<1:48:13, 44.47s/it]"
     ]
    },
    {
     "name": "stdout",
     "output_type": "stream",
     "text": [
      "닭치고해물 scroll\n"
     ]
    },
    {
     "name": "stderr",
     "output_type": "stream",
     "text": [
      "\n",
      "save..: 100%|██████████| 1/1 [00:00<00:00, 14.60it/s]"
     ]
    },
    {
     "name": "stdout",
     "output_type": "stream",
     "text": [
      "닭치고해물 1\n",
      "모든 리뷰 불러오기 시작...\n",
      "모든 리뷰 불러오기 완료!\n",
      "(18895, 11)\n"
     ]
    },
    {
     "name": "stderr",
     "output_type": "stream",
     "text": [
      "\n",
      "craw:  44%|████▍     | 114/259 [2:13:49<1:54:30, 47.38s/it]"
     ]
    },
    {
     "name": "stdout",
     "output_type": "stream",
     "text": [
      "369두마리치킨-면목점 scroll\n",
      "369두마리치킨-면목점 153\n",
      "모든 리뷰 불러오기 시작...\n",
      "모든 리뷰 불러오기 완료!\n"
     ]
    },
    {
     "name": "stderr",
     "output_type": "stream",
     "text": [
      "\n",
      "save..:   0%|          | 0/153 [00:00<?, ?it/s]\u001b[A\n",
      "save..: 100%|██████████| 153/153 [00:05<00:00, 28.43it/s][A\n"
     ]
    },
    {
     "name": "stdout",
     "output_type": "stream",
     "text": [
      "(19048, 11)\n"
     ]
    },
    {
     "name": "stderr",
     "output_type": "stream",
     "text": [
      "\r",
      "craw:  44%|████▍     | 115/259 [2:14:37<1:53:41, 47.37s/it]"
     ]
    },
    {
     "name": "stdout",
     "output_type": "stream",
     "text": [
      "김밥천국-중곡점 scroll\n",
      "김밥천국-중곡점 6\n",
      "모든 리뷰 불러오기 시작...\n",
      "모든 리뷰 불러오기 완료!\n"
     ]
    },
    {
     "name": "stderr",
     "output_type": "stream",
     "text": [
      "\n",
      "save..: 100%|██████████| 6/6 [00:00<00:00, 16.53it/s]\n"
     ]
    },
    {
     "name": "stdout",
     "output_type": "stream",
     "text": [
      "(19054, 11)\n"
     ]
    },
    {
     "name": "stderr",
     "output_type": "stream",
     "text": [
      "\r",
      "craw:  45%|████▍     | 116/259 [2:15:14<1:45:23, 44.22s/it]"
     ]
    },
    {
     "name": "stdout",
     "output_type": "stream",
     "text": [
      "추풍령할매감자탕 scroll\n",
      "추풍령할매감자탕 181\n",
      "모든 리뷰 불러오기 시작...\n",
      "모든 리뷰 불러오기 완료!\n"
     ]
    },
    {
     "name": "stderr",
     "output_type": "stream",
     "text": [
      "\n",
      "save..: 100%|██████████| 181/181 [00:01<00:00, 105.34it/s]\n"
     ]
    },
    {
     "name": "stdout",
     "output_type": "stream",
     "text": [
      "(19235, 11)\n"
     ]
    },
    {
     "name": "stderr",
     "output_type": "stream",
     "text": [
      "\r",
      "craw:  45%|████▌     | 117/259 [2:16:46<2:18:33, 58.54s/it]"
     ]
    },
    {
     "name": "stdout",
     "output_type": "stream",
     "text": [
      "십오야바베큐폭립 scroll\n"
     ]
    },
    {
     "name": "stderr",
     "output_type": "stream",
     "text": [
      "\n",
      "save..:   0%|          | 0/9 [00:00<?, ?it/s]\u001b[A"
     ]
    },
    {
     "name": "stdout",
     "output_type": "stream",
     "text": [
      "십오야바베큐폭립 9\n",
      "모든 리뷰 불러오기 시작...\n",
      "모든 리뷰 불러오기 완료!\n"
     ]
    },
    {
     "name": "stderr",
     "output_type": "stream",
     "text": [
      "save..: 100%|██████████| 9/9 [00:00<00:00, 21.51it/s]\n"
     ]
    },
    {
     "name": "stdout",
     "output_type": "stream",
     "text": [
      "(19244, 11)\n"
     ]
    },
    {
     "name": "stderr",
     "output_type": "stream",
     "text": [
      "\r",
      "craw:  46%|████▌     | 118/259 [2:17:51<2:22:22, 60.59s/it]"
     ]
    },
    {
     "name": "stdout",
     "output_type": "stream",
     "text": [
      "동대문신야채곱창 scroll\n",
      "동대문신야채곱창 31\n",
      "모든 리뷰 불러오기 시작...\n",
      "모든 리뷰 불러오기 완료!\n"
     ]
    },
    {
     "name": "stderr",
     "output_type": "stream",
     "text": [
      "\n",
      "save..: 100%|██████████| 31/31 [00:00<00:00, 34.67it/s]\n"
     ]
    },
    {
     "name": "stdout",
     "output_type": "stream",
     "text": [
      "(19275, 11)\n"
     ]
    },
    {
     "name": "stderr",
     "output_type": "stream",
     "text": [
      "\r",
      "craw:  46%|████▌     | 119/259 [2:18:09<1:51:19, 47.71s/it]"
     ]
    },
    {
     "name": "stdout",
     "output_type": "stream",
     "text": [
      "뚱카롱 scroll\n"
     ]
    },
    {
     "name": "stderr",
     "output_type": "stream",
     "text": [
      "\n",
      "save..:   0%|          | 0/5 [00:00<?, ?it/s]\u001b[A"
     ]
    },
    {
     "name": "stdout",
     "output_type": "stream",
     "text": [
      "뚱카롱 5\n",
      "모든 리뷰 불러오기 시작...\n",
      "모든 리뷰 불러오기 완료!\n"
     ]
    },
    {
     "name": "stderr",
     "output_type": "stream",
     "text": [
      "save..: 100%|██████████| 5/5 [00:00<00:00,  6.08it/s]\n"
     ]
    },
    {
     "name": "stdout",
     "output_type": "stream",
     "text": [
      "(19280, 11)\n"
     ]
    },
    {
     "name": "stderr",
     "output_type": "stream",
     "text": [
      "\r",
      "craw:  46%|████▋     | 120/259 [2:19:02<1:54:18, 49.34s/it]"
     ]
    },
    {
     "name": "stdout",
     "output_type": "stream",
     "text": [
      "죠스떡볶이-아트몰링장안점 scroll\n",
      "죠스떡볶이-아트몰링장안점 76\n",
      "모든 리뷰 불러오기 시작...\n",
      "모든 리뷰 불러오기 완료!\n"
     ]
    },
    {
     "name": "stderr",
     "output_type": "stream",
     "text": [
      "\n",
      "save..:   0%|          | 0/76 [00:00<?, ?it/s]\u001b[A\n",
      "save..: 100%|██████████| 76/76 [00:04<00:00, 17.12it/s]\u001b[A\n"
     ]
    },
    {
     "name": "stdout",
     "output_type": "stream",
     "text": [
      "(19356, 11)\n"
     ]
    },
    {
     "name": "stderr",
     "output_type": "stream",
     "text": [
      "\r",
      "craw:  47%|████▋     | 121/259 [2:20:21<2:14:07, 58.32s/it]"
     ]
    },
    {
     "name": "stdout",
     "output_type": "stream",
     "text": [
      "성차사진품보이차 scroll\n"
     ]
    },
    {
     "name": "stderr",
     "output_type": "stream",
     "text": [
      "\r",
      "craw:  47%|████▋     | 122/259 [2:20:43<1:48:03, 47.32s/it]"
     ]
    },
    {
     "name": "stdout",
     "output_type": "stream",
     "text": [
      "wrong shop\n",
      "칸틴커피-휘경점 scroll\n",
      "칸틴커피-휘경점 scroll\n",
      "칸틴커피-휘경점 10\n",
      "모든 리뷰 불러오기 시작...\n"
     ]
    },
    {
     "name": "stderr",
     "output_type": "stream",
     "text": [
      "\n",
      "save..:   0%|          | 0/10 [00:00<?, ?it/s]\u001b[A"
     ]
    },
    {
     "name": "stdout",
     "output_type": "stream",
     "text": [
      "모든 리뷰 불러오기 완료!\n"
     ]
    },
    {
     "name": "stderr",
     "output_type": "stream",
     "text": [
      "save..: 100%|██████████| 10/10 [00:00<00:00, 15.49it/s]\n"
     ]
    },
    {
     "name": "stdout",
     "output_type": "stream",
     "text": [
      "(19366, 11)\n"
     ]
    },
    {
     "name": "stderr",
     "output_type": "stream",
     "text": [
      "\r",
      "craw:  47%|████▋     | 123/259 [2:21:12<1:35:10, 41.99s/it]"
     ]
    },
    {
     "name": "stdout",
     "output_type": "stream",
     "text": [
      "1인마라탕Delivery-장안동점 scroll\n"
     ]
    },
    {
     "name": "stderr",
     "output_type": "stream",
     "text": [
      "\r",
      "craw:  48%|████▊     | 124/259 [2:21:44<1:27:45, 39.00s/it]"
     ]
    },
    {
     "name": "stdout",
     "output_type": "stream",
     "text": [
      "wrong shop\n",
      "발리하이 scroll\n",
      "발리하이 18\n",
      "모든 리뷰 불러오기 시작...\n"
     ]
    },
    {
     "name": "stderr",
     "output_type": "stream",
     "text": [
      "\n",
      "save..:   0%|          | 0/18 [00:00<?, ?it/s]\u001b[A"
     ]
    },
    {
     "name": "stdout",
     "output_type": "stream",
     "text": [
      "모든 리뷰 불러오기 완료!\n"
     ]
    },
    {
     "name": "stderr",
     "output_type": "stream",
     "text": [
      "save..: 100%|██████████| 18/18 [00:00<00:00, 19.84it/s]\n"
     ]
    },
    {
     "name": "stdout",
     "output_type": "stream",
     "text": [
      "(19384, 11)\n"
     ]
    },
    {
     "name": "stderr",
     "output_type": "stream",
     "text": [
      "\r",
      "craw:  48%|████▊     | 125/259 [2:22:21<1:25:52, 38.45s/it]"
     ]
    },
    {
     "name": "stdout",
     "output_type": "stream",
     "text": [
      "행복카레돈까스 scroll\n"
     ]
    },
    {
     "name": "stderr",
     "output_type": "stream",
     "text": [
      "\n",
      "save..:   0%|          | 0/8 [00:00<?, ?it/s]\u001b[A"
     ]
    },
    {
     "name": "stdout",
     "output_type": "stream",
     "text": [
      "행복카레돈까스 8\n",
      "모든 리뷰 불러오기 시작...\n",
      "모든 리뷰 불러오기 완료!\n"
     ]
    },
    {
     "name": "stderr",
     "output_type": "stream",
     "text": [
      "save..: 100%|██████████| 8/8 [00:00<00:00, 10.50it/s]\n"
     ]
    },
    {
     "name": "stdout",
     "output_type": "stream",
     "text": [
      "(19392, 11)\n"
     ]
    },
    {
     "name": "stderr",
     "output_type": "stream",
     "text": [
      "\r",
      "craw:  49%|████▊     | 126/259 [2:22:39<1:11:21, 32.19s/it]"
     ]
    },
    {
     "name": "stdout",
     "output_type": "stream",
     "text": [
      "둘둘치킨-서울시립대점 scroll\n",
      "둘둘치킨-서울시립대점 22\n",
      "모든 리뷰 불러오기 시작...\n"
     ]
    },
    {
     "name": "stderr",
     "output_type": "stream",
     "text": [
      "\n",
      "save..:   0%|          | 0/22 [00:00<?, ?it/s]\u001b[A"
     ]
    },
    {
     "name": "stdout",
     "output_type": "stream",
     "text": [
      "모든 리뷰 불러오기 완료!\n"
     ]
    },
    {
     "name": "stderr",
     "output_type": "stream",
     "text": [
      "save..: 100%|██████████| 22/22 [00:01<00:00, 21.69it/s]\n"
     ]
    },
    {
     "name": "stdout",
     "output_type": "stream",
     "text": [
      "(19414, 11)\n"
     ]
    },
    {
     "name": "stderr",
     "output_type": "stream",
     "text": [
      "\r",
      "craw:  49%|████▉     | 127/259 [2:23:31<1:23:58, 38.17s/it]"
     ]
    },
    {
     "name": "stdout",
     "output_type": "stream",
     "text": [
      "꾼누룽지통닭구이 scroll\n",
      "꾼누룽지통닭구이 521\n",
      "모든 리뷰 불러오기 시작...\n",
      "모든 리뷰 불러오기 완료!\n"
     ]
    },
    {
     "name": "stderr",
     "output_type": "stream",
     "text": [
      "\n",
      "save..:   0%|          | 0/521 [00:00<?, ?it/s]\u001b[A\n",
      "save..:  13%|█▎        | 68/521 [00:03<00:21, 20.93it/s]\u001b[A\n",
      "save..:  33%|███▎      | 174/521 [00:06<00:14, 23.76it/s]\u001b[A\n",
      "save..:  46%|████▋     | 242/521 [00:09<00:11, 23.35it/s]\u001b[A\n",
      "save..:  60%|█████▉    | 310/521 [00:12<00:09, 23.06it/s]\u001b[A\n",
      "save..:  76%|███████▋  | 398/521 [00:15<00:04, 24.64it/s]\u001b[A\n",
      "save..: 100%|██████████| 521/521 [00:19<00:00, 26.37it/s]\u001b[A\n"
     ]
    },
    {
     "name": "stdout",
     "output_type": "stream",
     "text": [
      "(19935, 11)\n"
     ]
    },
    {
     "name": "stderr",
     "output_type": "stream",
     "text": [
      "\r",
      "craw:  49%|████▉     | 128/259 [2:26:08<2:40:53, 73.69s/it]"
     ]
    },
    {
     "name": "stdout",
     "output_type": "stream",
     "text": [
      "작렬곱창&야채곱창 scroll\n"
     ]
    },
    {
     "name": "stderr",
     "output_type": "stream",
     "text": [
      "\n",
      "save..: 100%|██████████| 6/6 [00:00<00:00, 100.95it/s]"
     ]
    },
    {
     "name": "stdout",
     "output_type": "stream",
     "text": [
      "작렬곱창&야채곱창 6\n",
      "모든 리뷰 불러오기 시작...\n",
      "모든 리뷰 불러오기 완료!\n",
      "(19941, 11)\n"
     ]
    },
    {
     "name": "stderr",
     "output_type": "stream",
     "text": [
      "\n",
      "craw:  50%|████▉     | 129/259 [2:26:56<2:23:19, 66.15s/it]"
     ]
    },
    {
     "name": "stdout",
     "output_type": "stream",
     "text": [
      "따띠삼겹-회기점 scroll\n",
      "따띠삼겹-회기점 319\n",
      "모든 리뷰 불러오기 시작...\n",
      "모든 리뷰 불러오기 완료!\n"
     ]
    },
    {
     "name": "stderr",
     "output_type": "stream",
     "text": [
      "\n",
      "save..:   0%|          | 0/319 [00:00<?, ?it/s]\u001b[A\n",
      "save..:  22%|██▏       | 70/319 [00:03<00:11, 22.38it/s]\u001b[A\n",
      "save..:  46%|████▌     | 147/319 [00:06<00:07, 23.27it/s]\u001b[A\n",
      "save..:  63%|██████▎   | 201/319 [00:09<00:05, 21.17it/s]\u001b[A\n",
      "save..:  76%|███████▌  | 243/319 [00:12<00:04, 17.00it/s]\u001b[A\n",
      "save..: 100%|██████████| 319/319 [00:17<00:00, 18.31it/s]\u001b[A\n"
     ]
    },
    {
     "name": "stdout",
     "output_type": "stream",
     "text": [
      "(20260, 11)\n"
     ]
    },
    {
     "name": "stderr",
     "output_type": "stream",
     "text": [
      "\r",
      "craw:  50%|█████     | 130/259 [2:28:33<2:42:00, 75.35s/it]"
     ]
    },
    {
     "name": "stdout",
     "output_type": "stream",
     "text": [
      "5븐 scroll\n"
     ]
    },
    {
     "name": "stderr",
     "output_type": "stream",
     "text": [
      "\r",
      "craw:  51%|█████     | 131/259 [2:28:55<2:06:21, 59.23s/it]"
     ]
    },
    {
     "name": "stdout",
     "output_type": "stream",
     "text": [
      "wrong shop\n",
      "수빈마마 scroll\n"
     ]
    },
    {
     "name": "stderr",
     "output_type": "stream",
     "text": [
      "\n",
      "save..:   0%|          | 0/2 [00:00<?, ?it/s]\u001b[A"
     ]
    },
    {
     "name": "stdout",
     "output_type": "stream",
     "text": [
      "수빈마마 2\n",
      "모든 리뷰 불러오기 시작...\n",
      "모든 리뷰 불러오기 완료!\n"
     ]
    },
    {
     "name": "stderr",
     "output_type": "stream",
     "text": [
      "save..: 100%|██████████| 2/2 [00:00<00:00, 14.65it/s]\n"
     ]
    },
    {
     "name": "stdout",
     "output_type": "stream",
     "text": [
      "(20262, 11)\n"
     ]
    },
    {
     "name": "stderr",
     "output_type": "stream",
     "text": [
      "\r",
      "craw:  51%|█████     | 132/259 [2:29:19<1:43:18, 48.81s/it]"
     ]
    },
    {
     "name": "stdout",
     "output_type": "stream",
     "text": [
      "언니네함바그-회기점 scroll\n",
      "언니네함바그-회기점 589\n",
      "모든 리뷰 불러오기 시작...\n",
      "모든 리뷰 불러오기 완료!\n"
     ]
    },
    {
     "name": "stderr",
     "output_type": "stream",
     "text": [
      "\n",
      "save..:   0%|          | 0/589 [00:00<?, ?it/s]\u001b[A\n",
      "save..:   7%|▋         | 44/589 [00:03<00:39, 13.90it/s]\u001b[A\n",
      "save..:  12%|█▏        | 71/589 [00:06<00:44, 11.69it/s]\u001b[A\n",
      "save..:  16%|█▌        | 92/589 [00:09<00:51,  9.65it/s]\u001b[A\n",
      "save..:  21%|██        | 121/589 [00:12<00:48,  9.64it/s]\u001b[A\n",
      "save..:  26%|██▌       | 154/589 [00:15<00:44,  9.84it/s]\u001b[A\n",
      "save..:  34%|███▍      | 202/589 [00:18<00:35, 10.99it/s]\u001b[A\n",
      "save..:  40%|███▉      | 233/589 [00:22<00:35,  9.93it/s]\u001b[A\n",
      "save..:  48%|████▊     | 281/589 [00:25<00:27, 11.17it/s]\u001b[A\n",
      "save..:  54%|█████▎    | 316/589 [00:29<00:26, 10.45it/s]\u001b[A\n",
      "save..:  59%|█████▉    | 349/589 [00:34<00:27,  8.85it/s]\u001b[A\n",
      "save..:  71%|███████   | 416/589 [00:37<00:16, 10.79it/s]\u001b[A\n",
      "save..:  80%|████████  | 472/589 [00:40<00:09, 12.33it/s]\u001b[A\n",
      "save..: 100%|██████████| 589/589 [00:46<00:00, 12.68it/s]\u001b[A\n"
     ]
    },
    {
     "name": "stdout",
     "output_type": "stream",
     "text": [
      "(20851, 11)\n"
     ]
    },
    {
     "name": "stderr",
     "output_type": "stream",
     "text": [
      "\r",
      "craw:  51%|█████▏    | 133/259 [2:32:24<3:07:52, 89.46s/it]"
     ]
    },
    {
     "name": "stdout",
     "output_type": "stream",
     "text": [
      "조선닭갈비-동대문점 scroll\n"
     ]
    },
    {
     "name": "stderr",
     "output_type": "stream",
     "text": [
      "\n",
      "save..: 100%|██████████| 1/1 [00:00<00:00, 11.64it/s]"
     ]
    },
    {
     "name": "stdout",
     "output_type": "stream",
     "text": [
      "조선닭갈비-동대문점 1\n",
      "모든 리뷰 불러오기 시작...\n",
      "모든 리뷰 불러오기 완료!\n",
      "(20852, 11)\n"
     ]
    },
    {
     "name": "stderr",
     "output_type": "stream",
     "text": [
      "\n",
      "craw:  52%|█████▏    | 134/259 [2:33:13<2:41:04, 77.31s/it]"
     ]
    },
    {
     "name": "stdout",
     "output_type": "stream",
     "text": [
      "해다원해물찜 scroll\n"
     ]
    },
    {
     "name": "stderr",
     "output_type": "stream",
     "text": [
      "\n",
      "save..: 100%|██████████| 1/1 [00:00<00:00, 1057.03it/s]"
     ]
    },
    {
     "name": "stdout",
     "output_type": "stream",
     "text": [
      "해다원해물찜 1\n",
      "모든 리뷰 불러오기 시작...\n",
      "모든 리뷰 불러오기 완료!\n",
      "(20853, 11)\n"
     ]
    },
    {
     "name": "stderr",
     "output_type": "stream",
     "text": [
      "\n",
      "craw:  52%|█████▏    | 135/259 [2:34:10<2:27:28, 71.36s/it]"
     ]
    },
    {
     "name": "stdout",
     "output_type": "stream",
     "text": [
      "1인분전문밥도둑술도둑 scroll\n"
     ]
    },
    {
     "name": "stderr",
     "output_type": "stream",
     "text": [
      "\r",
      "craw:  53%|█████▎    | 136/259 [2:34:37<1:58:53, 57.99s/it]"
     ]
    },
    {
     "name": "stdout",
     "output_type": "stream",
     "text": [
      "wrong shop\n",
      "cafe안녕에이미 scroll\n",
      "cafe안녕에이미 scroll\n",
      "cafe안녕에이미 203\n",
      "모든 리뷰 불러오기 시작...\n",
      "모든 리뷰 불러오기 완료!\n"
     ]
    },
    {
     "name": "stderr",
     "output_type": "stream",
     "text": [
      "\n",
      "save..:   0%|          | 0/203 [00:00<?, ?it/s]\u001b[A\n",
      "save..:  17%|█▋        | 34/203 [00:03<00:15, 11.23it/s]\u001b[A\n",
      "save..:  43%|████▎     | 87/203 [00:06<00:09, 12.60it/s]\u001b[A\n",
      "save..:  66%|██████▌   | 134/203 [00:09<00:05, 13.39it/s]\u001b[A\n",
      "save..: 100%|██████████| 203/203 [00:14<00:00, 13.87it/s]\u001b[A\n"
     ]
    },
    {
     "name": "stdout",
     "output_type": "stream",
     "text": [
      "(21056, 11)\n"
     ]
    },
    {
     "name": "stderr",
     "output_type": "stream",
     "text": [
      "\r",
      "craw:  53%|█████▎    | 137/259 [2:36:11<2:19:48, 68.76s/it]"
     ]
    },
    {
     "name": "stdout",
     "output_type": "stream",
     "text": [
      "썬더치킨-시립대점 scroll\n",
      "썬더치킨-시립대점 73\n",
      "모든 리뷰 불러오기 시작...\n",
      "모든 리뷰 불러오기 완료!\n"
     ]
    },
    {
     "name": "stderr",
     "output_type": "stream",
     "text": [
      "\n",
      "save..: 100%|██████████| 73/73 [00:02<00:00, 28.74it/s]\n"
     ]
    },
    {
     "name": "stdout",
     "output_type": "stream",
     "text": [
      "(21129, 11)\n"
     ]
    },
    {
     "name": "stderr",
     "output_type": "stream",
     "text": [
      "\r",
      "craw:  53%|█████▎    | 138/259 [2:37:11<2:13:35, 66.24s/it]"
     ]
    },
    {
     "name": "stdout",
     "output_type": "stream",
     "text": [
      "탐나종합어시장-중랑역점 scroll\n",
      "탐나종합어시장-중랑역점 51\n",
      "모든 리뷰 불러오기 시작...\n",
      "모든 리뷰 불러오기 완료!\n"
     ]
    },
    {
     "name": "stderr",
     "output_type": "stream",
     "text": [
      "\n",
      "save..:   0%|          | 0/51 [00:00<?, ?it/s]\u001b[A\n",
      "save..: 100%|██████████| 51/51 [00:03<00:00, 14.79it/s]\u001b[A\n"
     ]
    },
    {
     "name": "stdout",
     "output_type": "stream",
     "text": [
      "(21180, 11)\n"
     ]
    },
    {
     "name": "stderr",
     "output_type": "stream",
     "text": [
      "\r",
      "craw:  54%|█████▎    | 139/259 [2:38:24<2:16:44, 68.37s/it]"
     ]
    },
    {
     "name": "stdout",
     "output_type": "stream",
     "text": [
      "홍탁 scroll\n"
     ]
    },
    {
     "name": "stderr",
     "output_type": "stream",
     "text": [
      "\n",
      "save..: 100%|██████████| 1/1 [00:00<00:00, 15.22it/s]"
     ]
    },
    {
     "name": "stdout",
     "output_type": "stream",
     "text": [
      "홍탁 1\n",
      "모든 리뷰 불러오기 시작...\n",
      "모든 리뷰 불러오기 완료!\n",
      "(21181, 11)\n"
     ]
    },
    {
     "name": "stderr",
     "output_type": "stream",
     "text": [
      "\n",
      "craw:  54%|█████▍    | 140/259 [2:39:29<2:13:19, 67.22s/it]"
     ]
    },
    {
     "name": "stdout",
     "output_type": "stream",
     "text": [
      "직화구이삼겹배달-장안점 scroll\n",
      "직화구이삼겹배달-장안점 40\n",
      "모든 리뷰 불러오기 시작...\n"
     ]
    },
    {
     "name": "stderr",
     "output_type": "stream",
     "text": [
      "\n",
      "save..:   0%|          | 0/40 [00:00<?, ?it/s]\u001b[A"
     ]
    },
    {
     "name": "stdout",
     "output_type": "stream",
     "text": [
      "모든 리뷰 불러오기 완료!\n"
     ]
    },
    {
     "name": "stderr",
     "output_type": "stream",
     "text": [
      "save..: 100%|██████████| 40/40 [00:01<00:00, 22.37it/s]\n"
     ]
    },
    {
     "name": "stdout",
     "output_type": "stream",
     "text": [
      "(21221, 11)\n"
     ]
    },
    {
     "name": "stderr",
     "output_type": "stream",
     "text": [
      "\r",
      "craw:  54%|█████▍    | 141/259 [2:40:07<1:55:05, 58.52s/it]"
     ]
    },
    {
     "name": "stdout",
     "output_type": "stream",
     "text": [
      "더카페-장안점 scroll\n"
     ]
    },
    {
     "name": "stderr",
     "output_type": "stream",
     "text": [
      "\r",
      "craw:  55%|█████▍    | 142/259 [2:40:26<1:30:39, 46.49s/it]"
     ]
    },
    {
     "name": "stdout",
     "output_type": "stream",
     "text": [
      "wrong shop\n",
      "트라타-사가정점 scroll\n"
     ]
    },
    {
     "name": "stderr",
     "output_type": "stream",
     "text": [
      "\n",
      "save..:   0%|          | 0/5 [00:00<?, ?it/s]\u001b[A"
     ]
    },
    {
     "name": "stdout",
     "output_type": "stream",
     "text": [
      "트라타-사가정점 5\n",
      "모든 리뷰 불러오기 시작...\n",
      "모든 리뷰 불러오기 완료!\n"
     ]
    },
    {
     "name": "stderr",
     "output_type": "stream",
     "text": [
      "save..: 100%|██████████| 5/5 [00:00<00:00, 11.84it/s]\n"
     ]
    },
    {
     "name": "stdout",
     "output_type": "stream",
     "text": [
      "(21226, 11)\n"
     ]
    },
    {
     "name": "stderr",
     "output_type": "stream",
     "text": [
      "\r",
      "craw:  55%|█████▌    | 143/259 [2:41:08<1:27:20, 45.18s/it]"
     ]
    },
    {
     "name": "stdout",
     "output_type": "stream",
     "text": [
      "오색함떡집-사가정시장점 scroll\n"
     ]
    },
    {
     "name": "stderr",
     "output_type": "stream",
     "text": [
      "\n",
      "save..:   0%|          | 0/3 [00:00<?, ?it/s]\u001b[A"
     ]
    },
    {
     "name": "stdout",
     "output_type": "stream",
     "text": [
      "오색함떡집-사가정시장점 3\n",
      "모든 리뷰 불러오기 시작...\n",
      "모든 리뷰 불러오기 완료!\n"
     ]
    },
    {
     "name": "stderr",
     "output_type": "stream",
     "text": [
      "save..: 100%|██████████| 3/3 [00:00<00:00, 13.45it/s]\n"
     ]
    },
    {
     "name": "stdout",
     "output_type": "stream",
     "text": [
      "(21229, 11)\n"
     ]
    },
    {
     "name": "stderr",
     "output_type": "stream",
     "text": [
      "\r",
      "craw:  56%|█████▌    | 144/259 [2:41:46<1:22:46, 43.18s/it]"
     ]
    },
    {
     "name": "stdout",
     "output_type": "stream",
     "text": [
      "맥도날드-전농점 scroll\n",
      "맥도날드-전농점 1611\n",
      "모든 리뷰 불러오기 시작...\n",
      "모든 리뷰 불러오기 완료!\n"
     ]
    },
    {
     "name": "stderr",
     "output_type": "stream",
     "text": [
      "\n",
      "save..:   0%|          | 0/1611 [00:00<?, ?it/s]\u001b[A\n",
      "save..:   4%|▎         | 57/1611 [00:03<01:23, 18.64it/s]\u001b[A\n",
      "save..:   7%|▋         | 109/1611 [00:06<01:22, 18.19it/s]\u001b[A\n",
      "save..:  11%|█         | 175/1611 [00:09<01:15, 18.95it/s]\u001b[A\n",
      "save..:  15%|█▌        | 244/1611 [00:12<01:08, 19.97it/s]\u001b[A\n",
      "save..:  19%|█▉        | 313/1611 [00:15<01:03, 20.53it/s]\u001b[A\n",
      "save..:  23%|██▎       | 370/1611 [00:18<01:02, 19.92it/s]\u001b[A\n",
      "save..:  26%|██▋       | 424/1611 [00:21<01:04, 18.52it/s]\u001b[A\n",
      "save..:  30%|██▉       | 478/1611 [00:24<01:02, 18.16it/s]\u001b[A\n",
      "save..:  36%|███▌      | 575/1611 [00:27<00:49, 20.90it/s]\u001b[A\n",
      "save..:  41%|████      | 658/1611 [00:31<00:42, 22.29it/s]\u001b[A\n",
      "save..:  45%|████▌     | 728/1611 [00:34<00:40, 21.86it/s]\u001b[A\n",
      "save..:  49%|████▉     | 796/1611 [00:37<00:37, 21.80it/s]\u001b[A\n",
      "save..:  54%|█████▎    | 863/1611 [00:41<00:35, 20.87it/s]\u001b[A\n",
      "save..:  58%|█████▊    | 927/1611 [00:44<00:34, 20.02it/s]\u001b[A\n",
      "save..:  61%|██████▏   | 989/1611 [00:47<00:30, 20.08it/s]\u001b[A\n",
      "save..:  65%|██████▌   | 1050/1611 [00:50<00:28, 19.75it/s]\u001b[A\n",
      "save..:  69%|██████▉   | 1110/1611 [00:53<00:25, 19.78it/s]\u001b[A\n",
      "save..:  73%|███████▎  | 1174/1611 [00:56<00:21, 20.22it/s]\u001b[A\n",
      "save..:  77%|███████▋  | 1240/1611 [00:59<00:17, 20.65it/s]\u001b[A\n",
      "save..:  82%|████████▏ | 1322/1611 [01:02<00:13, 22.21it/s]\u001b[A\n",
      "save..:  86%|████████▋ | 1390/1611 [01:07<00:11, 19.16it/s]\u001b[A\n",
      "save..:  93%|█████████▎| 1494/1611 [01:10<00:05, 22.10it/s]\u001b[A\n",
      "save..: 100%|██████████| 1611/1611 [01:14<00:00, 21.62it/s]\u001b[A\n"
     ]
    },
    {
     "name": "stdout",
     "output_type": "stream",
     "text": [
      "(22840, 11)\n"
     ]
    },
    {
     "name": "stderr",
     "output_type": "stream",
     "text": [
      "\r",
      "craw:  56%|█████▌    | 145/259 [2:50:04<5:41:25, 179.70s/it]"
     ]
    },
    {
     "name": "stdout",
     "output_type": "stream",
     "text": [
      "시대곱창-시립대점 scroll\n",
      "시대곱창-시립대점 6\n",
      "모든 리뷰 불러오기 시작...\n",
      "모든 리뷰 불러오기 완료!\n"
     ]
    },
    {
     "name": "stderr",
     "output_type": "stream",
     "text": [
      "\n",
      "save..: 100%|██████████| 6/6 [00:00<00:00, 11.53it/s]\n"
     ]
    },
    {
     "name": "stdout",
     "output_type": "stream",
     "text": [
      "(22846, 11)\n"
     ]
    },
    {
     "name": "stderr",
     "output_type": "stream",
     "text": [
      "\r",
      "craw:  56%|█████▋    | 146/259 [2:51:01<4:28:43, 142.68s/it]"
     ]
    },
    {
     "name": "stdout",
     "output_type": "stream",
     "text": [
      "이디야커피-배봉초교사거리점 scroll\n",
      "이디야커피-배봉초교사거리점 6\n",
      "모든 리뷰 불러오기 시작...\n",
      "모든 리뷰 불러오기 완료!\n"
     ]
    },
    {
     "name": "stderr",
     "output_type": "stream",
     "text": [
      "\n",
      "save..: 100%|██████████| 6/6 [00:00<00:00, 34.38it/s]\n"
     ]
    },
    {
     "name": "stdout",
     "output_type": "stream",
     "text": [
      "(22852, 11)\n"
     ]
    },
    {
     "name": "stderr",
     "output_type": "stream",
     "text": [
      "\r",
      "craw:  57%|█████▋    | 147/259 [2:51:26<3:20:32, 107.44s/it]"
     ]
    },
    {
     "name": "stdout",
     "output_type": "stream",
     "text": [
      "망고곱창-중곡점 scroll\n"
     ]
    },
    {
     "name": "stderr",
     "output_type": "stream",
     "text": [
      "\n",
      "save..:   0%|          | 0/4 [00:00<?, ?it/s]\u001b[A"
     ]
    },
    {
     "name": "stdout",
     "output_type": "stream",
     "text": [
      "망고곱창-중곡점 4\n",
      "모든 리뷰 불러오기 시작...\n",
      "모든 리뷰 불러오기 완료!\n"
     ]
    },
    {
     "name": "stderr",
     "output_type": "stream",
     "text": [
      "save..: 100%|██████████| 4/4 [00:00<00:00, 19.08it/s]\n"
     ]
    },
    {
     "name": "stdout",
     "output_type": "stream",
     "text": [
      "(22856, 11)\n"
     ]
    },
    {
     "name": "stderr",
     "output_type": "stream",
     "text": [
      "\r",
      "craw:  57%|█████▋    | 148/259 [2:52:27<2:53:10, 93.61s/it] "
     ]
    },
    {
     "name": "stdout",
     "output_type": "stream",
     "text": [
      "미소야-장안점 scroll\n",
      "미소야-장안점 8\n",
      "모든 리뷰 불러오기 시작...\n",
      "모든 리뷰 불러오기 완료!\n"
     ]
    },
    {
     "name": "stderr",
     "output_type": "stream",
     "text": [
      "\n",
      "save..: 100%|██████████| 8/8 [00:00<00:00, 13.41it/s]\n"
     ]
    },
    {
     "name": "stdout",
     "output_type": "stream",
     "text": [
      "(22864, 11)\n"
     ]
    },
    {
     "name": "stderr",
     "output_type": "stream",
     "text": [
      "\r",
      "craw:  58%|█████▊    | 149/259 [2:53:10<2:23:28, 78.26s/it]"
     ]
    },
    {
     "name": "stdout",
     "output_type": "stream",
     "text": [
      "샐러데이샐러드-중랑점 scroll\n",
      "샐러데이샐러드-중랑점 428\n",
      "모든 리뷰 불러오기 시작...\n",
      "모든 리뷰 불러오기 완료!\n"
     ]
    },
    {
     "name": "stderr",
     "output_type": "stream",
     "text": [
      "\n",
      "save..:   0%|          | 0/428 [00:00<?, ?it/s]\u001b[A\n",
      "save..:  11%|█         | 47/428 [00:03<00:25, 14.93it/s]\u001b[A\n",
      "save..:  18%|█▊        | 76/428 [00:06<00:27, 12.70it/s]\u001b[A\n",
      "save..:  24%|██▍       | 104/428 [00:09<00:28, 11.32it/s]\u001b[A\n",
      "save..:  33%|███▎      | 141/428 [00:12<00:25, 11.42it/s]\u001b[A\n",
      "save..:  44%|████▍     | 188/428 [00:15<00:19, 12.36it/s]\u001b[A\n",
      "save..:  53%|█████▎    | 226/428 [00:18<00:16, 12.44it/s]\u001b[A\n",
      "save..:  64%|██████▍   | 275/428 [00:21<00:11, 13.10it/s]\u001b[A\n",
      "save..:  75%|███████▌  | 323/428 [00:24<00:07, 13.71it/s]\u001b[A\n",
      "save..:  85%|████████▍ | 363/428 [00:28<00:04, 13.50it/s]\u001b[A\n",
      "save..: 100%|██████████| 428/428 [00:34<00:00, 12.55it/s]\u001b[A\n"
     ]
    },
    {
     "name": "stdout",
     "output_type": "stream",
     "text": [
      "(23292, 11)\n"
     ]
    },
    {
     "name": "stderr",
     "output_type": "stream",
     "text": [
      "\r",
      "craw:  58%|█████▊    | 150/259 [2:55:37<2:59:46, 98.96s/it]"
     ]
    },
    {
     "name": "stdout",
     "output_type": "stream",
     "text": [
      "이대희짱낙지 scroll\n"
     ]
    },
    {
     "name": "stderr",
     "output_type": "stream",
     "text": [
      "\n",
      "save..:   0%|          | 0/5 [00:00<?, ?it/s]\u001b[A"
     ]
    },
    {
     "name": "stdout",
     "output_type": "stream",
     "text": [
      "이대희짱낙지 5\n",
      "모든 리뷰 불러오기 시작...\n",
      "모든 리뷰 불러오기 완료!\n"
     ]
    },
    {
     "name": "stderr",
     "output_type": "stream",
     "text": [
      "save..: 100%|██████████| 5/5 [00:00<00:00, 13.29it/s]\n"
     ]
    },
    {
     "name": "stdout",
     "output_type": "stream",
     "text": [
      "(23297, 11)\n"
     ]
    },
    {
     "name": "stderr",
     "output_type": "stream",
     "text": [
      "\r",
      "craw:  58%|█████▊    | 151/259 [2:56:01<2:17:23, 76.33s/it]"
     ]
    },
    {
     "name": "stdout",
     "output_type": "stream",
     "text": [
      "웍곱창 scroll\n"
     ]
    },
    {
     "name": "stderr",
     "output_type": "stream",
     "text": [
      "\r",
      "craw:  59%|█████▊    | 152/259 [2:56:05<1:37:29, 54.66s/it]"
     ]
    },
    {
     "name": "stdout",
     "output_type": "stream",
     "text": [
      "wrong shop\n",
      "커피발아 scroll\n",
      "커피발아 62\n",
      "모든 리뷰 불러오기 시작...\n",
      "모든 리뷰 불러오기 완료!\n"
     ]
    },
    {
     "name": "stderr",
     "output_type": "stream",
     "text": [
      "\n",
      "save..:   0%|          | 0/62 [00:00<?, ?it/s]\u001b[A\n",
      "save..: 100%|██████████| 62/62 [00:03<00:00, 17.69it/s]\u001b[A\n"
     ]
    },
    {
     "name": "stdout",
     "output_type": "stream",
     "text": [
      "(23359, 11)\n"
     ]
    },
    {
     "name": "stderr",
     "output_type": "stream",
     "text": [
      "\r",
      "craw:  59%|█████▉    | 153/259 [2:56:52<1:32:51, 52.56s/it]"
     ]
    },
    {
     "name": "stdout",
     "output_type": "stream",
     "text": [
      "남대문우리식당-본점 scroll\n"
     ]
    },
    {
     "name": "stderr",
     "output_type": "stream",
     "text": [
      "\r",
      "craw:  59%|█████▉    | 154/259 [2:57:06<1:11:32, 40.88s/it]"
     ]
    },
    {
     "name": "stdout",
     "output_type": "stream",
     "text": [
      "wrong shop\n",
      "대닭1979-본점 scroll\n",
      "대닭1979-본점 scroll\n"
     ]
    },
    {
     "name": "stderr",
     "output_type": "stream",
     "text": [
      "\n",
      "save..:   0%|          | 0/5 [00:00<?, ?it/s]\u001b[A"
     ]
    },
    {
     "name": "stdout",
     "output_type": "stream",
     "text": [
      "대닭1979-본점 5\n",
      "모든 리뷰 불러오기 시작...\n",
      "모든 리뷰 불러오기 완료!\n"
     ]
    },
    {
     "name": "stderr",
     "output_type": "stream",
     "text": [
      "save..: 100%|██████████| 5/5 [00:00<00:00, 11.22it/s]\n"
     ]
    },
    {
     "name": "stdout",
     "output_type": "stream",
     "text": [
      "(23364, 11)\n"
     ]
    },
    {
     "name": "stderr",
     "output_type": "stream",
     "text": [
      "\r",
      "craw:  60%|█████▉    | 155/259 [2:57:30<1:02:20, 35.97s/it]"
     ]
    },
    {
     "name": "stdout",
     "output_type": "stream",
     "text": [
      "오감만족안심탕수육-성동점 scroll\n"
     ]
    },
    {
     "name": "stderr",
     "output_type": "stream",
     "text": [
      "\r",
      "craw:  60%|██████    | 156/259 [2:58:07<1:02:10, 36.22s/it]"
     ]
    },
    {
     "name": "stdout",
     "output_type": "stream",
     "text": [
      "wrong shop\n",
      "롯데리아-청량리점 scroll\n",
      "롯데리아-청량리점 scroll\n",
      "롯데리아-청량리점 3955\n",
      "모든 리뷰 불러오기 시작...\n",
      "모든 리뷰 불러오기 완료!\n"
     ]
    },
    {
     "name": "stderr",
     "output_type": "stream",
     "text": [
      "\n",
      "save..:   0%|          | 0/3780 [00:00<?, ?it/s]\u001b[A\n",
      "save..:   2%|▏         | 67/3780 [00:03<02:55, 21.19it/s]\u001b[A\n",
      "save..:   4%|▍         | 142/3780 [00:06<02:45, 22.05it/s]\u001b[A\n",
      "save..:   5%|▌         | 195/3780 [00:09<02:56, 20.33it/s]\u001b[A\n",
      "save..:   7%|▋         | 257/3780 [00:12<02:53, 20.27it/s]\u001b[A\n",
      "save..:   8%|▊         | 317/3780 [00:15<02:53, 19.91it/s]\u001b[A\n",
      "save..:  10%|█         | 382/3780 [00:18<02:47, 20.28it/s]\u001b[A\n",
      "save..:  12%|█▏        | 439/3780 [00:21<02:48, 19.86it/s]\u001b[A\n",
      "save..:  13%|█▎        | 494/3780 [00:25<02:57, 18.51it/s]\u001b[A\n",
      "save..:  15%|█▍        | 565/3780 [00:28<02:42, 19.77it/s]\u001b[A\n",
      "save..:  17%|█▋        | 659/3780 [00:31<02:21, 22.00it/s]\u001b[A\n",
      "save..:  19%|█▉        | 727/3780 [00:35<02:29, 20.47it/s]\u001b[A\n",
      "save..:  21%|██        | 791/3780 [00:38<02:26, 20.38it/s]\u001b[A\n",
      "save..:  23%|██▎       | 854/3780 [00:42<02:34, 18.89it/s]\u001b[A\n",
      "save..:  24%|██▍       | 922/3780 [00:45<02:24, 19.80it/s]\u001b[A\n",
      "save..:  26%|██▌       | 983/3780 [00:49<02:34, 18.07it/s]\u001b[A\n",
      "save..:  28%|██▊       | 1040/3780 [00:52<02:32, 17.92it/s]\u001b[A\n",
      "save..:  30%|██▉       | 1128/3780 [00:55<02:11, 20.23it/s]\u001b[A\n",
      "save..:  32%|███▏      | 1216/3780 [00:58<01:55, 22.25it/s]\u001b[A\n",
      "save..:  34%|███▍      | 1290/3780 [01:01<01:48, 22.85it/s]\u001b[A\n",
      "save..:  36%|███▋      | 1376/3780 [01:04<01:41, 23.73it/s]\u001b[A\n",
      "save..:  38%|███▊      | 1450/3780 [01:08<01:37, 23.83it/s]\u001b[A\n",
      "save..:  41%|████      | 1540/3780 [01:11<01:28, 25.35it/s]\u001b[A\n",
      "save..:  43%|████▎     | 1621/3780 [01:14<01:24, 25.67it/s]\u001b[A\n",
      "save..:  45%|████▍     | 1700/3780 [01:17<01:24, 24.53it/s]\u001b[A\n",
      "save..:  47%|████▋     | 1778/3780 [01:20<01:20, 24.83it/s]\u001b[A\n",
      "save..:  49%|████▉     | 1860/3780 [01:23<01:15, 25.39it/s]\u001b[A\n",
      "save..:  51%|█████     | 1937/3780 [01:28<01:23, 22.09it/s]\u001b[A\n",
      "save..:  54%|█████▎    | 2025/3780 [01:31<01:13, 23.73it/s]\u001b[A\n",
      "save..:  56%|█████▌    | 2108/3780 [01:34<01:08, 24.50it/s]\u001b[A\n",
      "save..:  58%|█████▊    | 2200/3780 [01:37<01:01, 25.88it/s]\u001b[A\n",
      "save..:  60%|██████    | 2280/3780 [01:40<00:58, 25.46it/s]\u001b[A\n",
      "save..:  63%|██████▎   | 2384/3780 [01:43<00:50, 27.51it/s]\u001b[A\n",
      "save..:  65%|██████▌   | 2470/3780 [01:47<00:50, 25.83it/s]\u001b[A\n",
      "save..:  69%|██████▉   | 2613/3780 [01:50<00:38, 29.95it/s]\u001b[A\n",
      "save..:  72%|███████▏  | 2712/3780 [01:54<00:36, 29.49it/s]\u001b[A\n",
      "save..:  74%|███████▍  | 2816/3780 [01:57<00:31, 30.38it/s]\u001b[A\n",
      "save..:  78%|███████▊  | 2960/3780 [02:00<00:24, 34.06it/s]\u001b[A\n",
      "save..:  84%|████████▎ | 3165/3780 [02:03<00:15, 40.09it/s]\u001b[A\n",
      "save..:  87%|████████▋ | 3305/3780 [02:06<00:11, 41.78it/s]\u001b[A\n",
      "save..:  93%|█████████▎| 3523/3780 [02:09<00:05, 47.49it/s]\u001b[A\n",
      "save..: 100%|██████████| 3780/3780 [02:12<00:00, 28.44it/s]\u001b[A\n"
     ]
    },
    {
     "name": "stdout",
     "output_type": "stream",
     "text": [
      "(27144, 11)\n"
     ]
    },
    {
     "name": "stderr",
     "output_type": "stream",
     "text": [
      "\r",
      "craw:  61%|██████    | 157/259 [3:20:35<12:10:36, 429.77s/it]"
     ]
    },
    {
     "name": "stdout",
     "output_type": "stream",
     "text": [
      "레드컵스-고대점 scroll\n"
     ]
    },
    {
     "name": "stderr",
     "output_type": "stream",
     "text": [
      "\r",
      "craw:  61%|██████    | 158/259 [3:21:12<8:44:52, 311.81s/it] "
     ]
    },
    {
     "name": "stdout",
     "output_type": "stream",
     "text": [
      "wrong shop\n",
      "옛날할머니보쌈 scroll\n",
      "옛날할머니보쌈 scroll\n",
      "옛날할머니보쌈 244\n",
      "모든 리뷰 불러오기 시작...\n",
      "모든 리뷰 불러오기 완료!\n"
     ]
    },
    {
     "name": "stderr",
     "output_type": "stream",
     "text": [
      "\n",
      "save..:   0%|          | 0/244 [00:00<?, ?it/s]\u001b[A\n",
      "save..:  34%|███▍      | 84/244 [00:03<00:05, 27.87it/s]\u001b[A\n",
      "save..:  59%|█████▊    | 143/244 [00:06<00:04, 24.75it/s]\u001b[A\n",
      "save..: 100%|██████████| 244/244 [00:10<00:00, 22.88it/s]\u001b[A\n"
     ]
    },
    {
     "name": "stdout",
     "output_type": "stream",
     "text": [
      "(27388, 11)\n"
     ]
    },
    {
     "name": "stderr",
     "output_type": "stream",
     "text": [
      "\r",
      "craw:  61%|██████▏   | 159/259 [3:22:53<6:54:07, 248.48s/it]"
     ]
    },
    {
     "name": "stdout",
     "output_type": "stream",
     "text": [
      "바른치킨-전농점 scroll\n"
     ]
    },
    {
     "name": "stderr",
     "output_type": "stream",
     "text": [
      "\r",
      "craw:  62%|██████▏   | 160/259 [3:23:31<5:06:05, 185.51s/it]"
     ]
    },
    {
     "name": "stdout",
     "output_type": "stream",
     "text": [
      "wrong shop\n",
      "돈카츠마켙-장안점 scroll\n",
      "돈카츠마켙-장안점 scroll\n",
      "돈카츠마켙-장안점 13\n",
      "모든 리뷰 불러오기 시작...\n"
     ]
    },
    {
     "name": "stderr",
     "output_type": "stream",
     "text": [
      "\n",
      "save..:   0%|          | 0/13 [00:00<?, ?it/s]\u001b[A"
     ]
    },
    {
     "name": "stdout",
     "output_type": "stream",
     "text": [
      "모든 리뷰 불러오기 완료!\n"
     ]
    },
    {
     "name": "stderr",
     "output_type": "stream",
     "text": [
      "save..: 100%|██████████| 13/13 [00:00<00:00, 15.96it/s]\n"
     ]
    },
    {
     "name": "stdout",
     "output_type": "stream",
     "text": [
      "(27401, 11)\n"
     ]
    },
    {
     "name": "stderr",
     "output_type": "stream",
     "text": [
      "\r",
      "craw:  62%|██████▏   | 161/259 [3:24:10<3:51:14, 141.57s/it]"
     ]
    },
    {
     "name": "stdout",
     "output_type": "stream",
     "text": [
      "풍년생선구이 scroll\n"
     ]
    },
    {
     "name": "stderr",
     "output_type": "stream",
     "text": [
      "\n",
      "save..: 100%|██████████| 5/5 [00:00<00:00, 76.16it/s]"
     ]
    },
    {
     "name": "stdout",
     "output_type": "stream",
     "text": [
      "풍년생선구이 5\n",
      "모든 리뷰 불러오기 시작...\n",
      "모든 리뷰 불러오기 완료!\n"
     ]
    },
    {
     "name": "stderr",
     "output_type": "stream",
     "text": [
      "\n"
     ]
    },
    {
     "name": "stdout",
     "output_type": "stream",
     "text": [
      "(27406, 11)\n"
     ]
    },
    {
     "name": "stderr",
     "output_type": "stream",
     "text": [
      "\r",
      "craw:  63%|██████▎   | 162/259 [3:25:02<3:05:30, 114.75s/it]"
     ]
    },
    {
     "name": "stdout",
     "output_type": "stream",
     "text": [
      "용두동마약떡볶이 scroll\n",
      "용두동마약떡볶이 1167\n",
      "모든 리뷰 불러오기 시작...\n",
      "모든 리뷰 불러오기 완료!\n"
     ]
    },
    {
     "name": "stderr",
     "output_type": "stream",
     "text": [
      "\n",
      "save..:   0%|          | 0/1167 [00:00<?, ?it/s]\u001b[A\n",
      "save..:   7%|▋         | 81/1167 [00:03<00:40, 26.91it/s]\u001b[A\n",
      "save..:  18%|█▊        | 214/1167 [00:06<00:31, 30.34it/s]\u001b[A\n",
      "save..:  34%|███▍      | 398/1167 [00:09<00:21, 35.67it/s]\u001b[A\n",
      "save..:  46%|████▌     | 539/1167 [00:12<00:16, 38.45it/s]\u001b[A\n",
      "save..:  58%|█████▊    | 674/1167 [00:15<00:12, 40.10it/s]\u001b[A\n",
      "save..:  76%|███████▌  | 887/1167 [00:18<00:06, 45.83it/s]\u001b[A\n",
      "save..: 100%|██████████| 1167/1167 [00:22<00:00, 51.69it/s]\u001b[A\n"
     ]
    },
    {
     "name": "stdout",
     "output_type": "stream",
     "text": [
      "(28573, 11)\n"
     ]
    },
    {
     "name": "stderr",
     "output_type": "stream",
     "text": [
      "\r",
      "craw:  63%|██████▎   | 163/259 [3:30:25<4:43:19, 177.08s/it]"
     ]
    },
    {
     "name": "stdout",
     "output_type": "stream",
     "text": [
      "쏭스핫도그-회기점 scroll\n",
      "쏭스핫도그-회기점 15\n",
      "모든 리뷰 불러오기 시작...\n"
     ]
    },
    {
     "name": "stderr",
     "output_type": "stream",
     "text": [
      "\n",
      "save..:   0%|          | 0/15 [00:00<?, ?it/s]\u001b[A"
     ]
    },
    {
     "name": "stdout",
     "output_type": "stream",
     "text": [
      "모든 리뷰 불러오기 완료!\n"
     ]
    },
    {
     "name": "stderr",
     "output_type": "stream",
     "text": [
      "save..: 100%|██████████| 15/15 [00:00<00:00, 30.71it/s]\n"
     ]
    },
    {
     "name": "stdout",
     "output_type": "stream",
     "text": [
      "(28588, 11)\n"
     ]
    },
    {
     "name": "stderr",
     "output_type": "stream",
     "text": [
      "\r",
      "craw:  63%|██████▎   | 164/259 [3:30:59<3:32:25, 134.16s/it]"
     ]
    },
    {
     "name": "stdout",
     "output_type": "stream",
     "text": [
      "요띠드 scroll\n",
      "요띠드 378\n",
      "모든 리뷰 불러오기 시작...\n",
      "모든 리뷰 불러오기 완료!\n"
     ]
    },
    {
     "name": "stderr",
     "output_type": "stream",
     "text": [
      "\n",
      "save..:   0%|          | 0/378 [00:00<?, ?it/s]\u001b[A\n",
      "save..:  13%|█▎        | 50/378 [00:03<00:20, 16.38it/s]\u001b[A\n",
      "save..:  28%|██▊       | 105/378 [00:06<00:16, 16.88it/s]\u001b[A\n",
      "save..:  39%|███▊      | 146/378 [00:09<00:14, 15.65it/s]\u001b[A\n",
      "save..:  52%|█████▏    | 197/378 [00:12<00:11, 15.86it/s]\u001b[A\n",
      "save..:  65%|██████▌   | 246/378 [00:15<00:08, 15.97it/s]\u001b[A\n",
      "save..:  77%|███████▋  | 291/378 [00:18<00:05, 15.54it/s]\u001b[A\n",
      "save..: 100%|██████████| 378/378 [00:23<00:00, 15.80it/s]\u001b[A\n"
     ]
    },
    {
     "name": "stdout",
     "output_type": "stream",
     "text": [
      "(28966, 11)\n"
     ]
    },
    {
     "name": "stderr",
     "output_type": "stream",
     "text": [
      "\r",
      "craw:  64%|██████▎   | 165/259 [3:33:03<3:25:34, 131.22s/it]"
     ]
    },
    {
     "name": "stdout",
     "output_type": "stream",
     "text": [
      "언제나만족 scroll\n",
      "언제나만족 102\n",
      "모든 리뷰 불러오기 시작...\n",
      "모든 리뷰 불러오기 완료!\n"
     ]
    },
    {
     "name": "stderr",
     "output_type": "stream",
     "text": [
      "\n",
      "save..:   0%|          | 0/102 [00:00<?, ?it/s]\u001b[A\n",
      "save..: 100%|██████████| 102/102 [00:03<00:00, 28.08it/s][A\n"
     ]
    },
    {
     "name": "stdout",
     "output_type": "stream",
     "text": [
      "(29068, 11)\n"
     ]
    },
    {
     "name": "stderr",
     "output_type": "stream",
     "text": [
      "\r",
      "craw:  64%|██████▍   | 166/259 [3:34:01<2:49:10, 109.15s/it]"
     ]
    },
    {
     "name": "stdout",
     "output_type": "stream",
     "text": [
      "이디야커피-전농사거리점 scroll\n"
     ]
    },
    {
     "name": "stderr",
     "output_type": "stream",
     "text": [
      "\r",
      "craw:  64%|██████▍   | 167/259 [3:34:37<2:13:44, 87.22s/it] "
     ]
    },
    {
     "name": "stdout",
     "output_type": "stream",
     "text": [
      "wrong shop\n",
      "서병장부대찌개-회기점 scroll\n",
      "서병장부대찌개-회기점 scroll\n",
      "서병장부대찌개-회기점 65\n",
      "모든 리뷰 불러오기 시작...\n"
     ]
    },
    {
     "name": "stderr",
     "output_type": "stream",
     "text": [
      "\n",
      "save..:   0%|          | 0/65 [00:00<?, ?it/s]\u001b[A"
     ]
    },
    {
     "name": "stdout",
     "output_type": "stream",
     "text": [
      "모든 리뷰 불러오기 완료!\n"
     ]
    },
    {
     "name": "stderr",
     "output_type": "stream",
     "text": [
      "save..: 100%|██████████| 65/65 [00:01<00:00, 36.47it/s]\n"
     ]
    },
    {
     "name": "stdout",
     "output_type": "stream",
     "text": [
      "(29133, 11)\n"
     ]
    },
    {
     "name": "stderr",
     "output_type": "stream",
     "text": [
      "\r",
      "craw:  65%|██████▍   | 168/259 [3:35:25<1:54:14, 75.32s/it]"
     ]
    },
    {
     "name": "stdout",
     "output_type": "stream",
     "text": [
      "청도소고기수육국밥 scroll\n"
     ]
    },
    {
     "name": "stderr",
     "output_type": "stream",
     "text": [
      "\n",
      "save..: 100%|██████████| 2/2 [00:00<00:00, 32.24it/s]"
     ]
    },
    {
     "name": "stdout",
     "output_type": "stream",
     "text": [
      "청도소고기수육국밥 2\n",
      "모든 리뷰 불러오기 시작...\n",
      "모든 리뷰 불러오기 완료!\n",
      "(29135, 11)\n"
     ]
    },
    {
     "name": "stderr",
     "output_type": "stream",
     "text": [
      "\n",
      "craw:  65%|██████▌   | 169/259 [3:36:25<1:46:31, 71.01s/it]"
     ]
    },
    {
     "name": "stdout",
     "output_type": "stream",
     "text": [
      "곱창골목왕십리곱창&숯불막창 scroll\n"
     ]
    },
    {
     "name": "stderr",
     "output_type": "stream",
     "text": [
      "\r",
      "craw:  66%|██████▌   | 170/259 [3:36:39<1:19:44, 53.76s/it]"
     ]
    },
    {
     "name": "stdout",
     "output_type": "stream",
     "text": [
      "wrong shop\n",
      "승희장수곱창 scroll\n",
      "승희장수곱창 12\n",
      "모든 리뷰 불러오기 시작...\n"
     ]
    },
    {
     "name": "stderr",
     "output_type": "stream",
     "text": [
      "\n",
      "save..:   0%|          | 0/12 [00:00<?, ?it/s]\u001b[A"
     ]
    },
    {
     "name": "stdout",
     "output_type": "stream",
     "text": [
      "모든 리뷰 불러오기 완료!\n"
     ]
    },
    {
     "name": "stderr",
     "output_type": "stream",
     "text": [
      "save..: 100%|██████████| 12/12 [00:00<00:00, 15.50it/s]\n"
     ]
    },
    {
     "name": "stdout",
     "output_type": "stream",
     "text": [
      "(29147, 11)\n"
     ]
    },
    {
     "name": "stderr",
     "output_type": "stream",
     "text": [
      "\r",
      "craw:  66%|██████▌   | 171/259 [3:37:26<1:15:52, 51.74s/it]"
     ]
    },
    {
     "name": "stdout",
     "output_type": "stream",
     "text": [
      "경희마라탕-회기점 scroll\n"
     ]
    },
    {
     "name": "stderr",
     "output_type": "stream",
     "text": [
      "\r",
      "craw:  66%|██████▋   | 172/259 [3:37:41<59:05, 40.75s/it]  "
     ]
    },
    {
     "name": "stdout",
     "output_type": "stream",
     "text": [
      "wrong shop\n",
      "옛날통닭-장안1동점 scroll\n",
      "옛날통닭-장안1동점 2\n",
      "모든 리뷰 불러오기 시작...\n",
      "모든 리뷰 불러오기 완료!\n"
     ]
    },
    {
     "name": "stderr",
     "output_type": "stream",
     "text": [
      "\n",
      "save..: 100%|██████████| 2/2 [00:00<00:00, 636.13it/s]\n"
     ]
    },
    {
     "name": "stdout",
     "output_type": "stream",
     "text": [
      "(29149, 11)\n"
     ]
    },
    {
     "name": "stderr",
     "output_type": "stream",
     "text": [
      "\r",
      "craw:  67%|██████▋   | 173/259 [3:37:58<48:20, 33.73s/it]"
     ]
    },
    {
     "name": "stdout",
     "output_type": "stream",
     "text": [
      "설군닭발 scroll\n",
      "설군닭발 33\n",
      "모든 리뷰 불러오기 시작...\n",
      "모든 리뷰 불러오기 완료!\n"
     ]
    },
    {
     "name": "stderr",
     "output_type": "stream",
     "text": [
      "\n",
      "save..: 100%|██████████| 33/33 [00:01<00:00, 16.52it/s]\n"
     ]
    },
    {
     "name": "stdout",
     "output_type": "stream",
     "text": [
      "(29182, 11)\n"
     ]
    },
    {
     "name": "stderr",
     "output_type": "stream",
     "text": [
      "\r",
      "craw:  67%|██████▋   | 174/259 [3:39:00<59:44, 42.17s/it]"
     ]
    },
    {
     "name": "stdout",
     "output_type": "stream",
     "text": [
      "신참떡볶이-장안사거리점 scroll\n",
      "신참떡볶이-장안사거리점 28\n",
      "모든 리뷰 불러오기 시작...\n"
     ]
    },
    {
     "name": "stderr",
     "output_type": "stream",
     "text": [
      "\n",
      "save..:   0%|          | 0/28 [00:00<?, ?it/s]\u001b[A"
     ]
    },
    {
     "name": "stdout",
     "output_type": "stream",
     "text": [
      "모든 리뷰 불러오기 완료!\n"
     ]
    },
    {
     "name": "stderr",
     "output_type": "stream",
     "text": [
      "save..: 100%|██████████| 28/28 [00:01<00:00, 22.45it/s]\n"
     ]
    },
    {
     "name": "stdout",
     "output_type": "stream",
     "text": [
      "(29210, 11)\n"
     ]
    },
    {
     "name": "stderr",
     "output_type": "stream",
     "text": [
      "\r",
      "craw:  68%|██████▊   | 175/259 [3:39:35<56:02, 40.03s/it]"
     ]
    },
    {
     "name": "stdout",
     "output_type": "stream",
     "text": [
      "뚝배기양평해장국-장안직영점 scroll\n",
      "뚝배기양평해장국-장안직영점 29\n",
      "모든 리뷰 불러오기 시작...\n"
     ]
    },
    {
     "name": "stderr",
     "output_type": "stream",
     "text": [
      "\n",
      "save..:   0%|          | 0/29 [00:00<?, ?it/s]\u001b[A"
     ]
    },
    {
     "name": "stdout",
     "output_type": "stream",
     "text": [
      "모든 리뷰 불러오기 완료!\n"
     ]
    },
    {
     "name": "stderr",
     "output_type": "stream",
     "text": [
      "save..: 100%|██████████| 29/29 [00:00<00:00, 36.11it/s]\n"
     ]
    },
    {
     "name": "stdout",
     "output_type": "stream",
     "text": [
      "(29239, 11)\n"
     ]
    },
    {
     "name": "stderr",
     "output_type": "stream",
     "text": [
      "\r",
      "craw:  68%|██████▊   | 176/259 [3:40:39<1:05:12, 47.14s/it]"
     ]
    },
    {
     "name": "stdout",
     "output_type": "stream",
     "text": [
      "곱창이야기 scroll\n",
      "곱창이야기 149\n",
      "모든 리뷰 불러오기 시작...\n",
      "모든 리뷰 불러오기 완료!\n"
     ]
    },
    {
     "name": "stderr",
     "output_type": "stream",
     "text": [
      "\n",
      "save..:   0%|          | 0/149 [00:00<?, ?it/s]\u001b[A\n",
      "save..:  38%|███▊      | 56/149 [00:03<00:04, 18.66it/s]\u001b[A\n",
      "save..: 100%|██████████| 149/149 [00:07<00:00, 19.57it/s]\u001b[A\n"
     ]
    },
    {
     "name": "stdout",
     "output_type": "stream",
     "text": [
      "(29388, 11)\n"
     ]
    },
    {
     "name": "stderr",
     "output_type": "stream",
     "text": [
      "\r",
      "craw:  68%|██████▊   | 177/259 [3:41:36<1:08:30, 50.13s/it]"
     ]
    },
    {
     "name": "stdout",
     "output_type": "stream",
     "text": [
      "배스킨라빈스-전농동아점 scroll\n",
      "배스킨라빈스-전농동아점 91\n",
      "모든 리뷰 불러오기 시작...\n",
      "모든 리뷰 불러오기 완료!\n"
     ]
    },
    {
     "name": "stderr",
     "output_type": "stream",
     "text": [
      "\n",
      "save..: 100%|██████████| 91/91 [00:02<00:00, 38.43it/s]\n"
     ]
    },
    {
     "name": "stdout",
     "output_type": "stream",
     "text": [
      "(29479, 11)\n"
     ]
    },
    {
     "name": "stderr",
     "output_type": "stream",
     "text": [
      "\r",
      "craw:  69%|██████▊   | 178/259 [3:42:41<1:13:32, 54.48s/it]"
     ]
    },
    {
     "name": "stdout",
     "output_type": "stream",
     "text": [
      "라떼는떡볶이-제기점 scroll\n",
      "라떼는떡볶이-제기점 13\n",
      "모든 리뷰 불러오기 시작...\n",
      "모든 리뷰 불러오기 완료!\n"
     ]
    },
    {
     "name": "stderr",
     "output_type": "stream",
     "text": [
      "\n",
      "save..: 100%|██████████| 13/13 [00:00<00:00, 20.70it/s]\n"
     ]
    },
    {
     "name": "stdout",
     "output_type": "stream",
     "text": [
      "(29492, 11)\n"
     ]
    },
    {
     "name": "stderr",
     "output_type": "stream",
     "text": [
      "\r",
      "craw:  69%|██████▉   | 179/259 [3:43:08<1:01:53, 46.42s/it]"
     ]
    },
    {
     "name": "stdout",
     "output_type": "stream",
     "text": [
      "삼다옥찌개수육떡갈비 scroll\n"
     ]
    },
    {
     "name": "stderr",
     "output_type": "stream",
     "text": [
      "\n",
      "save..:   0%|          | 0/5 [00:00<?, ?it/s]\u001b[A"
     ]
    },
    {
     "name": "stdout",
     "output_type": "stream",
     "text": [
      "삼다옥찌개수육떡갈비 5\n",
      "모든 리뷰 불러오기 시작...\n",
      "모든 리뷰 불러오기 완료!\n"
     ]
    },
    {
     "name": "stderr",
     "output_type": "stream",
     "text": [
      "save..: 100%|██████████| 5/5 [00:00<00:00, 15.81it/s]\n"
     ]
    },
    {
     "name": "stdout",
     "output_type": "stream",
     "text": [
      "(29497, 11)\n"
     ]
    },
    {
     "name": "stderr",
     "output_type": "stream",
     "text": [
      "\r",
      "craw:  69%|██████▉   | 180/259 [3:43:45<57:11, 43.43s/it]  "
     ]
    },
    {
     "name": "stdout",
     "output_type": "stream",
     "text": [
      "더수제돈까스-장안점 scroll\n"
     ]
    },
    {
     "name": "stderr",
     "output_type": "stream",
     "text": [
      "\r",
      "craw:  70%|██████▉   | 181/259 [3:44:15<51:16, 39.44s/it]"
     ]
    },
    {
     "name": "stdout",
     "output_type": "stream",
     "text": [
      "wrong shop\n",
      "망우로30 scroll\n",
      "망우로30 scroll\n"
     ]
    },
    {
     "name": "stderr",
     "output_type": "stream",
     "text": [
      "\n",
      "save..:   0%|          | 0/2 [00:00<?, ?it/s]\u001b[A"
     ]
    },
    {
     "name": "stdout",
     "output_type": "stream",
     "text": [
      "망우로30 2\n",
      "모든 리뷰 불러오기 시작...\n",
      "모든 리뷰 불러오기 완료!\n"
     ]
    },
    {
     "name": "stderr",
     "output_type": "stream",
     "text": [
      "save..: 100%|██████████| 2/2 [00:00<00:00,  7.16it/s]\n"
     ]
    },
    {
     "name": "stdout",
     "output_type": "stream",
     "text": [
      "(29499, 11)\n"
     ]
    },
    {
     "name": "stderr",
     "output_type": "stream",
     "text": [
      "\r",
      "craw:  70%|███████   | 182/259 [3:44:42<45:59, 35.84s/it]"
     ]
    },
    {
     "name": "stdout",
     "output_type": "stream",
     "text": [
      "온가족행복닭강정-답십리점 scroll\n",
      "온가족행복닭강정-답십리점 22\n",
      "모든 리뷰 불러오기 시작...\n"
     ]
    },
    {
     "name": "stderr",
     "output_type": "stream",
     "text": [
      "\n",
      "save..:   0%|          | 0/22 [00:00<?, ?it/s]\u001b[A"
     ]
    },
    {
     "name": "stdout",
     "output_type": "stream",
     "text": [
      "모든 리뷰 불러오기 완료!\n"
     ]
    },
    {
     "name": "stderr",
     "output_type": "stream",
     "text": [
      "save..: 100%|██████████| 22/22 [00:00<00:00, 36.60it/s]\n"
     ]
    },
    {
     "name": "stdout",
     "output_type": "stream",
     "text": [
      "(29521, 11)\n"
     ]
    },
    {
     "name": "stderr",
     "output_type": "stream",
     "text": [
      "\r",
      "craw:  71%|███████   | 183/259 [3:45:17<44:52, 35.42s/it]"
     ]
    },
    {
     "name": "stdout",
     "output_type": "stream",
     "text": [
      "소예다방 scroll\n",
      "소예다방 15\n",
      "모든 리뷰 불러오기 시작...\n"
     ]
    },
    {
     "name": "stderr",
     "output_type": "stream",
     "text": [
      "\n",
      "save..:   0%|          | 0/15 [00:00<?, ?it/s]\u001b[A"
     ]
    },
    {
     "name": "stdout",
     "output_type": "stream",
     "text": [
      "모든 리뷰 불러오기 완료!\n"
     ]
    },
    {
     "name": "stderr",
     "output_type": "stream",
     "text": [
      "save..: 100%|██████████| 15/15 [00:00<00:00, 22.72it/s]\n"
     ]
    },
    {
     "name": "stdout",
     "output_type": "stream",
     "text": [
      "(29536, 11)\n"
     ]
    },
    {
     "name": "stderr",
     "output_type": "stream",
     "text": [
      "\r",
      "craw:  71%|███████   | 184/259 [3:45:54<45:00, 36.01s/it]"
     ]
    },
    {
     "name": "stdout",
     "output_type": "stream",
     "text": [
      "연탄직화구이-너와집 scroll\n",
      "연탄직화구이-너와집 49\n",
      "모든 리뷰 불러오기 시작...\n",
      "모든 리뷰 불러오기 완료!\n"
     ]
    },
    {
     "name": "stderr",
     "output_type": "stream",
     "text": [
      "\n",
      "save..: 100%|██████████| 49/49 [00:02<00:00, 22.70it/s]\n"
     ]
    },
    {
     "name": "stdout",
     "output_type": "stream",
     "text": [
      "(29585, 11)\n"
     ]
    },
    {
     "name": "stderr",
     "output_type": "stream",
     "text": [
      "\r",
      "craw:  71%|███████▏  | 185/259 [3:47:04<56:53, 46.13s/it]"
     ]
    },
    {
     "name": "stdout",
     "output_type": "stream",
     "text": [
      "여느일 scroll\n"
     ]
    },
    {
     "name": "stderr",
     "output_type": "stream",
     "text": [
      "\n",
      "save..: 100%|██████████| 1/1 [00:00<00:00, 703.86it/s]"
     ]
    },
    {
     "name": "stdout",
     "output_type": "stream",
     "text": [
      "여느일 1\n",
      "모든 리뷰 불러오기 시작...\n",
      "모든 리뷰 불러오기 완료!\n",
      "(29586, 11)\n"
     ]
    },
    {
     "name": "stderr",
     "output_type": "stream",
     "text": [
      "\n",
      "craw:  72%|███████▏  | 186/259 [3:47:21<45:22, 37.29s/it]"
     ]
    },
    {
     "name": "stdout",
     "output_type": "stream",
     "text": [
      "오동술-답십리점 scroll\n"
     ]
    },
    {
     "name": "stderr",
     "output_type": "stream",
     "text": [
      "\n",
      "save..: 100%|██████████| 1/1 [00:00<00:00, 792.87it/s]"
     ]
    },
    {
     "name": "stdout",
     "output_type": "stream",
     "text": [
      "오동술-답십리점 1\n",
      "모든 리뷰 불러오기 시작...\n",
      "모든 리뷰 불러오기 완료!\n",
      "(29587, 11)\n"
     ]
    },
    {
     "name": "stderr",
     "output_type": "stream",
     "text": [
      "\n",
      "craw:  72%|███████▏  | 187/259 [3:48:25<54:27, 45.38s/it]"
     ]
    },
    {
     "name": "stdout",
     "output_type": "stream",
     "text": [
      "진실이네초밥회마트 scroll\n",
      "진실이네초밥회마트 55\n",
      "모든 리뷰 불러오기 시작...\n",
      "모든 리뷰 불러오기 완료!\n"
     ]
    },
    {
     "name": "stderr",
     "output_type": "stream",
     "text": [
      "\n",
      "save..: 100%|██████████| 55/55 [00:01<00:00, 27.92it/s]\n"
     ]
    },
    {
     "name": "stdout",
     "output_type": "stream",
     "text": [
      "(29642, 11)\n"
     ]
    },
    {
     "name": "stderr",
     "output_type": "stream",
     "text": [
      "\r",
      "craw:  73%|███████▎  | 188/259 [3:49:01<50:17, 42.50s/it]"
     ]
    },
    {
     "name": "stdout",
     "output_type": "stream",
     "text": [
      "여우애김밥-용두역점 scroll\n"
     ]
    },
    {
     "name": "stderr",
     "output_type": "stream",
     "text": [
      "\n",
      "save..:   0%|          | 0/2 [00:00<?, ?it/s]\u001b[A"
     ]
    },
    {
     "name": "stdout",
     "output_type": "stream",
     "text": [
      "여우애김밥-용두역점 2\n",
      "모든 리뷰 불러오기 시작...\n",
      "모든 리뷰 불러오기 완료!\n"
     ]
    },
    {
     "name": "stderr",
     "output_type": "stream",
     "text": [
      "save..: 100%|██████████| 2/2 [00:00<00:00, 10.21it/s]\n"
     ]
    },
    {
     "name": "stdout",
     "output_type": "stream",
     "text": [
      "(29644, 11)\n"
     ]
    },
    {
     "name": "stderr",
     "output_type": "stream",
     "text": [
      "\r",
      "craw:  73%|███████▎  | 189/259 [3:49:34<46:17, 39.67s/it]"
     ]
    },
    {
     "name": "stdout",
     "output_type": "stream",
     "text": [
      "경동마라탕 scroll\n",
      "경동마라탕 623\n",
      "모든 리뷰 불러오기 시작...\n",
      "모든 리뷰 불러오기 완료!\n"
     ]
    },
    {
     "name": "stderr",
     "output_type": "stream",
     "text": [
      "\n",
      "save..:   0%|          | 0/623 [00:00<?, ?it/s]\u001b[A\n",
      "save..:   9%|▉         | 55/623 [00:03<00:31, 18.10it/s]\u001b[A\n",
      "save..:  17%|█▋        | 104/623 [00:06<00:29, 17.42it/s]\u001b[A\n",
      "save..:  25%|██▍       | 154/623 [00:09<00:27, 16.87it/s]\u001b[A\n",
      "save..:  35%|███▍      | 215/623 [00:12<00:23, 17.69it/s]\u001b[A\n",
      "save..:  42%|████▏     | 262/623 [00:15<00:21, 16.76it/s]\u001b[A\n",
      "save..:  51%|█████     | 315/623 [00:18<00:18, 16.96it/s]\u001b[A\n",
      "save..:  59%|█████▉    | 370/623 [00:21<00:14, 16.90it/s]\u001b[A\n",
      "save..:  68%|██████▊   | 424/623 [00:24<00:11, 17.21it/s]\u001b[A\n",
      "save..:  80%|███████▉  | 496/623 [00:27<00:06, 18.72it/s]\u001b[A\n",
      "save..: 100%|██████████| 623/623 [00:33<00:00, 18.85it/s]\u001b[A\n"
     ]
    },
    {
     "name": "stdout",
     "output_type": "stream",
     "text": [
      "(30267, 11)\n"
     ]
    },
    {
     "name": "stderr",
     "output_type": "stream",
     "text": [
      "\r",
      "craw:  73%|███████▎  | 190/259 [3:52:44<1:37:27, 84.75s/it]"
     ]
    },
    {
     "name": "stdout",
     "output_type": "stream",
     "text": [
      "스시도쿠-본점 scroll\n",
      "스시도쿠-본점 1740\n",
      "모든 리뷰 불러오기 시작...\n",
      "모든 리뷰 불러오기 완료!\n"
     ]
    },
    {
     "name": "stderr",
     "output_type": "stream",
     "text": [
      "\n",
      "save..:   0%|          | 0/1740 [00:00<?, ?it/s]\u001b[A\n",
      "save..:   2%|▏         | 41/1740 [00:03<02:10, 13.00it/s]\u001b[A\n",
      "save..:   4%|▍         | 68/1740 [00:06<02:26, 11.44it/s]\u001b[A\n",
      "save..:   6%|▌         | 98/1740 [00:09<02:29, 10.96it/s]\u001b[A\n",
      "save..:   8%|▊         | 134/1740 [00:12<02:22, 11.26it/s]\u001b[A\n",
      "save..:  10%|▉         | 173/1740 [00:15<02:14, 11.69it/s]\u001b[A\n",
      "save..:  12%|█▏        | 203/1740 [00:18<02:25, 10.59it/s]\u001b[A\n",
      "save..:  13%|█▎        | 234/1740 [00:21<02:25, 10.32it/s]\u001b[A\n",
      "save..:  15%|█▌        | 269/1740 [00:24<02:18, 10.61it/s]\u001b[A\n",
      "save..:  18%|█▊        | 308/1740 [00:28<02:09, 11.07it/s]\u001b[A\n",
      "save..:  20%|██        | 349/1740 [00:31<01:58, 11.71it/s]\u001b[A\n",
      "save..:  22%|██▏       | 384/1740 [00:35<02:06, 10.74it/s]\u001b[A\n",
      "save..:  25%|██▍       | 427/1740 [00:38<01:55, 11.34it/s]\u001b[A\n",
      "save..:  27%|██▋       | 476/1740 [00:41<01:42, 12.35it/s]\u001b[A\n",
      "save..:  30%|██▉       | 515/1740 [00:45<01:48, 11.33it/s]\u001b[A\n",
      "save..:  32%|███▏      | 553/1740 [00:48<01:42, 11.59it/s]\u001b[A\n",
      "save..:  34%|███▍      | 589/1740 [00:51<01:40, 11.41it/s]\u001b[A\n",
      "save..:  36%|███▌      | 624/1740 [00:56<01:48, 10.33it/s]\u001b[A\n",
      "save..:  38%|███▊      | 657/1740 [01:00<01:56,  9.27it/s]\u001b[A\n",
      "save..:  40%|███▉      | 690/1740 [01:03<01:48,  9.64it/s]\u001b[A\n",
      "save..:  41%|████▏     | 720/1740 [01:07<01:51,  9.11it/s]\u001b[A\n",
      "save..:  43%|████▎     | 755/1740 [01:10<01:41,  9.73it/s]\u001b[A\n",
      "save..:  45%|████▌     | 786/1740 [01:13<01:37,  9.74it/s]\u001b[A\n",
      "save..:  47%|████▋     | 825/1740 [01:16<01:27, 10.51it/s]\u001b[A\n",
      "save..:  49%|████▉     | 858/1740 [01:19<01:25, 10.30it/s]\u001b[A\n",
      "save..:  51%|█████▏    | 894/1740 [01:23<01:21, 10.44it/s]\u001b[A\n",
      "save..:  53%|█████▎    | 927/1740 [01:26<01:17, 10.49it/s]\u001b[A\n",
      "save..:  55%|█████▌    | 962/1740 [01:29<01:12, 10.75it/s]\u001b[A\n",
      "save..:  57%|█████▋    | 995/1740 [01:32<01:11, 10.41it/s]\u001b[A\n",
      "save..:  60%|█████▉    | 1042/1740 [01:35<01:00, 11.57it/s]\u001b[A\n",
      "save..:  62%|██████▏   | 1079/1740 [01:38<00:56, 11.75it/s]\u001b[A\n",
      "save..:  64%|██████▍   | 1116/1740 [01:42<00:53, 11.67it/s]\u001b[A\n",
      "save..:  66%|██████▌   | 1152/1740 [01:45<00:53, 11.01it/s]\u001b[A\n",
      "save..:  69%|██████▉   | 1205/1740 [01:48<00:43, 12.27it/s]\u001b[A\n",
      "save..:  72%|███████▏  | 1247/1740 [01:51<00:38, 12.71it/s]\u001b[A\n",
      "save..:  74%|███████▍  | 1294/1740 [01:55<00:33, 13.28it/s]\u001b[A\n",
      "save..:  77%|███████▋  | 1336/1740 [01:58<00:30, 13.35it/s]\u001b[A\n",
      "save..:  79%|███████▉  | 1377/1740 [02:01<00:27, 13.11it/s]\u001b[A\n",
      "save..:  81%|████████▏ | 1417/1740 [02:05<00:27, 11.85it/s]\u001b[A\n",
      "save..:  84%|████████▎ | 1454/1740 [02:09<00:25, 11.10it/s]\u001b[A\n",
      "save..:  86%|████████▌ | 1490/1740 [02:12<00:22, 11.21it/s]\u001b[A\n",
      "save..:  88%|████████▊ | 1525/1740 [02:15<00:18, 11.33it/s]\u001b[A\n",
      "save..:  90%|████████▉ | 1565/1740 [02:18<00:14, 11.72it/s]\u001b[A\n",
      "save..:  92%|█████████▏| 1602/1740 [02:21<00:11, 11.80it/s]\u001b[A\n",
      "save..:  94%|█████████▍| 1638/1740 [02:25<00:09, 10.94it/s]\u001b[A\n",
      "save..:  96%|█████████▌| 1672/1740 [02:29<00:06, 10.58it/s]\u001b[A\n",
      "save..: 100%|██████████| 1740/1740 [02:35<00:00, 11.21it/s]\u001b[A\n"
     ]
    },
    {
     "name": "stdout",
     "output_type": "stream",
     "text": [
      "(32007, 11)\n"
     ]
    },
    {
     "name": "stderr",
     "output_type": "stream",
     "text": [
      "\r",
      "craw:  74%|███████▎  | 191/259 [4:03:43<4:51:13, 256.96s/it]"
     ]
    },
    {
     "name": "stdout",
     "output_type": "stream",
     "text": [
      "착한짬뽕더착한탕수육 scroll\n"
     ]
    },
    {
     "name": "stderr",
     "output_type": "stream",
     "text": [
      "\n",
      "save..:   0%|          | 0/5 [00:00<?, ?it/s]\u001b[A"
     ]
    },
    {
     "name": "stdout",
     "output_type": "stream",
     "text": [
      "착한짬뽕더착한탕수육 5\n",
      "모든 리뷰 불러오기 시작...\n",
      "모든 리뷰 불러오기 완료!\n"
     ]
    },
    {
     "name": "stderr",
     "output_type": "stream",
     "text": [
      "save..: 100%|██████████| 5/5 [00:00<00:00, 23.85it/s]\n"
     ]
    },
    {
     "name": "stdout",
     "output_type": "stream",
     "text": [
      "(32012, 11)\n"
     ]
    },
    {
     "name": "stderr",
     "output_type": "stream",
     "text": [
      "\r",
      "craw:  74%|███████▍  | 192/259 [4:04:19<3:33:05, 190.83s/it]"
     ]
    },
    {
     "name": "stdout",
     "output_type": "stream",
     "text": [
      "배달의쌀국수-동대문점 scroll\n",
      "배달의쌀국수-동대문점 537\n",
      "모든 리뷰 불러오기 시작...\n",
      "모든 리뷰 불러오기 완료!\n"
     ]
    },
    {
     "name": "stderr",
     "output_type": "stream",
     "text": [
      "\n",
      "save..:   0%|          | 0/537 [00:00<?, ?it/s]\u001b[A\n",
      "save..:  11%|█         | 60/537 [00:03<00:24, 19.62it/s]\u001b[A\n",
      "save..:  18%|█▊        | 99/537 [00:06<00:25, 17.00it/s]\u001b[A\n",
      "save..:  29%|██▉       | 157/537 [00:09<00:21, 17.58it/s]\u001b[A\n",
      "save..:  38%|███▊      | 202/537 [00:12<00:20, 16.62it/s]\u001b[A\n",
      "save..:  51%|█████     | 274/537 [00:15<00:14, 18.27it/s]\u001b[A\n",
      "save..:  66%|██████▋   | 357/537 [00:18<00:08, 20.28it/s]\u001b[A\n",
      "save..:  82%|████████▏ | 443/537 [00:21<00:04, 22.05it/s]\u001b[A\n",
      "save..: 100%|██████████| 537/537 [00:24<00:00, 21.50it/s]\u001b[A\n"
     ]
    },
    {
     "name": "stdout",
     "output_type": "stream",
     "text": [
      "(32549, 11)\n"
     ]
    },
    {
     "name": "stderr",
     "output_type": "stream",
     "text": [
      "\r",
      "craw:  75%|███████▍  | 193/259 [4:07:06<3:21:57, 183.59s/it]"
     ]
    },
    {
     "name": "stdout",
     "output_type": "stream",
     "text": [
      "왕건고기촌육회집 scroll\n",
      "왕건고기촌육회집 16\n",
      "모든 리뷰 불러오기 시작...\n"
     ]
    },
    {
     "name": "stderr",
     "output_type": "stream",
     "text": [
      "\n",
      "save..:   0%|          | 0/16 [00:00<?, ?it/s]\u001b[A"
     ]
    },
    {
     "name": "stdout",
     "output_type": "stream",
     "text": [
      "모든 리뷰 불러오기 완료!\n"
     ]
    },
    {
     "name": "stderr",
     "output_type": "stream",
     "text": [
      "save..: 100%|██████████| 16/16 [00:00<00:00, 18.71it/s]\n"
     ]
    },
    {
     "name": "stdout",
     "output_type": "stream",
     "text": [
      "(32565, 11)\n"
     ]
    },
    {
     "name": "stderr",
     "output_type": "stream",
     "text": [
      "\r",
      "craw:  75%|███████▍  | 194/259 [4:08:00<2:36:55, 144.86s/it]"
     ]
    },
    {
     "name": "stdout",
     "output_type": "stream",
     "text": [
      "인생소곱창 scroll\n"
     ]
    },
    {
     "name": "stderr",
     "output_type": "stream",
     "text": [
      "\r",
      "craw:  75%|███████▌  | 195/259 [4:08:12<1:51:59, 104.99s/it]"
     ]
    },
    {
     "name": "stdout",
     "output_type": "stream",
     "text": [
      "wrong shop\n",
      "하마쌀국수 scroll\n",
      "하마쌀국수 21\n",
      "모든 리뷰 불러오기 시작...\n"
     ]
    },
    {
     "name": "stderr",
     "output_type": "stream",
     "text": [
      "\n",
      "save..:   0%|          | 0/21 [00:00<?, ?it/s]\u001b[A"
     ]
    },
    {
     "name": "stdout",
     "output_type": "stream",
     "text": [
      "모든 리뷰 불러오기 완료!\n"
     ]
    },
    {
     "name": "stderr",
     "output_type": "stream",
     "text": [
      "save..: 100%|██████████| 21/21 [00:00<00:00, 26.94it/s]\n"
     ]
    },
    {
     "name": "stdout",
     "output_type": "stream",
     "text": [
      "(32586, 11)\n"
     ]
    },
    {
     "name": "stderr",
     "output_type": "stream",
     "text": [
      "\r",
      "craw:  76%|███████▌  | 196/259 [4:08:56<1:30:57, 86.63s/it] "
     ]
    },
    {
     "name": "stdout",
     "output_type": "stream",
     "text": [
      "59년옛날통닭 scroll\n",
      "59년옛날통닭 178\n",
      "모든 리뷰 불러오기 시작...\n",
      "모든 리뷰 불러오기 완료!\n"
     ]
    },
    {
     "name": "stderr",
     "output_type": "stream",
     "text": [
      "\n",
      "save..:   0%|          | 0/178 [00:00<?, ?it/s]\u001b[A\n",
      "save..:  41%|████      | 73/178 [00:03<00:04, 23.70it/s]\u001b[A\n",
      "save..: 100%|██████████| 178/178 [00:07<00:00, 23.36it/s]\u001b[A\n"
     ]
    },
    {
     "name": "stdout",
     "output_type": "stream",
     "text": [
      "(32764, 11)\n"
     ]
    },
    {
     "name": "stderr",
     "output_type": "stream",
     "text": [
      "\r",
      "craw:  76%|███████▌  | 197/259 [4:09:53<1:20:21, 77.77s/it]"
     ]
    },
    {
     "name": "stdout",
     "output_type": "stream",
     "text": [
      "소중한참숯화로구이 scroll\n"
     ]
    },
    {
     "name": "stderr",
     "output_type": "stream",
     "text": [
      "\n",
      "save..: 100%|██████████| 1/1 [00:00<00:00, 14.17it/s]"
     ]
    },
    {
     "name": "stdout",
     "output_type": "stream",
     "text": [
      "소중한참숯화로구이 1\n",
      "모든 리뷰 불러오기 시작...\n",
      "모든 리뷰 불러오기 완료!\n",
      "(32765, 11)\n"
     ]
    },
    {
     "name": "stderr",
     "output_type": "stream",
     "text": [
      "\n",
      "craw:  76%|███████▋  | 198/259 [4:10:18<1:02:50, 61.81s/it]"
     ]
    },
    {
     "name": "stdout",
     "output_type": "stream",
     "text": [
      "충주집 scroll\n"
     ]
    },
    {
     "name": "stderr",
     "output_type": "stream",
     "text": [
      "\n",
      "save..:   0%|          | 0/7 [00:00<?, ?it/s]\u001b[A"
     ]
    },
    {
     "name": "stdout",
     "output_type": "stream",
     "text": [
      "충주집 7\n",
      "모든 리뷰 불러오기 시작...\n",
      "모든 리뷰 불러오기 완료!\n"
     ]
    },
    {
     "name": "stderr",
     "output_type": "stream",
     "text": [
      "save..: 100%|██████████| 7/7 [00:00<00:00, 29.50it/s]\n"
     ]
    },
    {
     "name": "stdout",
     "output_type": "stream",
     "text": [
      "(32772, 11)\n"
     ]
    },
    {
     "name": "stderr",
     "output_type": "stream",
     "text": [
      "\r",
      "craw:  77%|███████▋  | 199/259 [4:11:12<59:41, 59.70s/it]  "
     ]
    },
    {
     "name": "stdout",
     "output_type": "stream",
     "text": [
      "이삭토스트-서울시립대점 scroll\n",
      "이삭토스트-서울시립대점 75\n",
      "모든 리뷰 불러오기 시작...\n",
      "모든 리뷰 불러오기 완료!\n"
     ]
    },
    {
     "name": "stderr",
     "output_type": "stream",
     "text": [
      "\n",
      "save..:   0%|          | 0/75 [00:00<?, ?it/s]\u001b[A\n",
      "save..: 100%|██████████| 75/75 [00:03<00:00, 24.55it/s]\u001b[A\n"
     ]
    },
    {
     "name": "stdout",
     "output_type": "stream",
     "text": [
      "(32847, 11)\n"
     ]
    },
    {
     "name": "stderr",
     "output_type": "stream",
     "text": [
      "\r",
      "craw:  77%|███████▋  | 200/259 [4:12:13<59:00, 60.00s/it]"
     ]
    },
    {
     "name": "stdout",
     "output_type": "stream",
     "text": [
      "리얼안심JMT탕수육 scroll\n"
     ]
    },
    {
     "name": "stderr",
     "output_type": "stream",
     "text": [
      "\n",
      "save..:   0%|          | 0/7 [00:00<?, ?it/s]\u001b[A"
     ]
    },
    {
     "name": "stdout",
     "output_type": "stream",
     "text": [
      "리얼안심JMT탕수육 7\n",
      "모든 리뷰 불러오기 시작...\n",
      "모든 리뷰 불러오기 완료!\n"
     ]
    },
    {
     "name": "stderr",
     "output_type": "stream",
     "text": [
      "save..: 100%|██████████| 7/7 [00:00<00:00, 19.20it/s]\n"
     ]
    },
    {
     "name": "stdout",
     "output_type": "stream",
     "text": [
      "(32854, 11)\n"
     ]
    },
    {
     "name": "stderr",
     "output_type": "stream",
     "text": [
      "\r",
      "craw:  78%|███████▊  | 201/259 [4:13:19<59:40, 61.74s/it]"
     ]
    },
    {
     "name": "stdout",
     "output_type": "stream",
     "text": [
      "봉평골메밀막국수 scroll\n",
      "봉평골메밀막국수 20\n",
      "모든 리뷰 불러오기 시작...\n"
     ]
    },
    {
     "name": "stderr",
     "output_type": "stream",
     "text": [
      "\n",
      "save..:   0%|          | 0/20 [00:00<?, ?it/s]\u001b[A"
     ]
    },
    {
     "name": "stdout",
     "output_type": "stream",
     "text": [
      "모든 리뷰 불러오기 완료!\n"
     ]
    },
    {
     "name": "stderr",
     "output_type": "stream",
     "text": [
      "save..: 100%|██████████| 20/20 [00:00<00:00, 24.83it/s]\n"
     ]
    },
    {
     "name": "stdout",
     "output_type": "stream",
     "text": [
      "(32874, 11)\n"
     ]
    },
    {
     "name": "stderr",
     "output_type": "stream",
     "text": [
      "\r",
      "craw:  78%|███████▊  | 202/259 [4:13:45<48:33, 51.11s/it]"
     ]
    },
    {
     "name": "stdout",
     "output_type": "stream",
     "text": [
      "최군스시 scroll\n",
      "최군스시 38\n",
      "모든 리뷰 불러오기 시작...\n"
     ]
    },
    {
     "name": "stderr",
     "output_type": "stream",
     "text": [
      "\n",
      "save..:   0%|          | 0/38 [00:00<?, ?it/s]\u001b[A"
     ]
    },
    {
     "name": "stdout",
     "output_type": "stream",
     "text": [
      "모든 리뷰 불러오기 완료!\n"
     ]
    },
    {
     "name": "stderr",
     "output_type": "stream",
     "text": [
      "save..: 100%|██████████| 38/38 [00:01<00:00, 20.37it/s]\n"
     ]
    },
    {
     "name": "stdout",
     "output_type": "stream",
     "text": [
      "(32912, 11)\n"
     ]
    },
    {
     "name": "stderr",
     "output_type": "stream",
     "text": [
      "\r",
      "craw:  78%|███████▊  | 203/259 [4:14:28<45:17, 48.52s/it]"
     ]
    },
    {
     "name": "stdout",
     "output_type": "stream",
     "text": [
      "코다리밥도둑-장안점 scroll\n",
      "코다리밥도둑-장안점 36\n",
      "모든 리뷰 불러오기 시작...\n"
     ]
    },
    {
     "name": "stderr",
     "output_type": "stream",
     "text": [
      "\n",
      "save..:   0%|          | 0/36 [00:00<?, ?it/s]\u001b[A"
     ]
    },
    {
     "name": "stdout",
     "output_type": "stream",
     "text": [
      "모든 리뷰 불러오기 완료!\n"
     ]
    },
    {
     "name": "stderr",
     "output_type": "stream",
     "text": [
      "save..: 100%|██████████| 36/36 [00:00<00:00, 87.80it/s]\n"
     ]
    },
    {
     "name": "stdout",
     "output_type": "stream",
     "text": [
      "(32948, 11)\n"
     ]
    },
    {
     "name": "stderr",
     "output_type": "stream",
     "text": [
      "\r",
      "craw:  79%|███████▉  | 204/259 [4:15:10<42:51, 46.76s/it]"
     ]
    },
    {
     "name": "stdout",
     "output_type": "stream",
     "text": [
      "오동통닭 scroll\n"
     ]
    },
    {
     "name": "stderr",
     "output_type": "stream",
     "text": [
      "\n",
      "save..:   0%|          | 0/5 [00:00<?, ?it/s]\u001b[A"
     ]
    },
    {
     "name": "stdout",
     "output_type": "stream",
     "text": [
      "오동통닭 5\n",
      "모든 리뷰 불러오기 시작...\n",
      "모든 리뷰 불러오기 완료!\n"
     ]
    },
    {
     "name": "stderr",
     "output_type": "stream",
     "text": [
      "save..: 100%|██████████| 5/5 [00:00<00:00, 10.26it/s]\n"
     ]
    },
    {
     "name": "stdout",
     "output_type": "stream",
     "text": [
      "(32953, 11)\n"
     ]
    },
    {
     "name": "stderr",
     "output_type": "stream",
     "text": [
      "\r",
      "craw:  79%|███████▉  | 205/259 [4:15:27<34:02, 37.83s/it]"
     ]
    },
    {
     "name": "stdout",
     "output_type": "stream",
     "text": [
      "오부장불치킨&불닭발 scroll\n"
     ]
    },
    {
     "name": "stderr",
     "output_type": "stream",
     "text": [
      "\n",
      "save..:   0%|          | 0/1 [00:00<?, ?it/s]\u001b[A"
     ]
    },
    {
     "name": "stdout",
     "output_type": "stream",
     "text": [
      "오부장불치킨&불닭발 1\n",
      "모든 리뷰 불러오기 시작...\n",
      "모든 리뷰 불러오기 완료!\n"
     ]
    },
    {
     "name": "stderr",
     "output_type": "stream",
     "text": [
      "save..: 100%|██████████| 1/1 [00:00<00:00,  4.10it/s]\n"
     ]
    },
    {
     "name": "stdout",
     "output_type": "stream",
     "text": [
      "(32954, 11)\n"
     ]
    },
    {
     "name": "stderr",
     "output_type": "stream",
     "text": [
      "\r",
      "craw:  80%|███████▉  | 206/259 [4:16:20<37:24, 42.35s/it]"
     ]
    },
    {
     "name": "stdout",
     "output_type": "stream",
     "text": [
      "고려원양꼬치 scroll\n",
      "고려원양꼬치 815\n",
      "모든 리뷰 불러오기 시작...\n",
      "모든 리뷰 불러오기 완료!\n"
     ]
    },
    {
     "name": "stderr",
     "output_type": "stream",
     "text": [
      "\n",
      "save..:   0%|          | 0/815 [00:00<?, ?it/s]\u001b[A\n",
      "save..:   5%|▌         | 44/815 [00:03<00:52, 14.62it/s]\u001b[A\n",
      "save..:  11%|█         | 91/815 [00:06<00:48, 14.81it/s]\u001b[A\n",
      "save..:  20%|█▉        | 159/815 [00:09<00:39, 16.50it/s]\u001b[A\n",
      "save..:  26%|██▌       | 212/815 [00:12<00:36, 16.73it/s]\u001b[A\n",
      "save..:  33%|███▎      | 265/815 [00:15<00:32, 16.83it/s]\u001b[A\n",
      "save..:  38%|███▊      | 310/815 [00:18<00:32, 15.73it/s]\u001b[A\n",
      "save..:  45%|████▍     | 366/815 [00:21<00:27, 16.42it/s]\u001b[A\n",
      "save..:  53%|█████▎    | 431/815 [00:24<00:21, 17.57it/s]\u001b[A\n",
      "save..:  63%|██████▎   | 516/815 [00:27<00:15, 19.78it/s]\u001b[A\n",
      "save..:  72%|███████▏  | 587/815 [00:30<00:11, 20.72it/s]\u001b[A\n",
      "save..:  84%|████████▍ | 683/815 [00:33<00:05, 23.11it/s]\u001b[A\n",
      "save..: 100%|██████████| 815/815 [00:40<00:00, 20.25it/s]\u001b[A\n"
     ]
    },
    {
     "name": "stdout",
     "output_type": "stream",
     "text": [
      "(33769, 11)\n"
     ]
    },
    {
     "name": "stderr",
     "output_type": "stream",
     "text": [
      "\r",
      "craw:  80%|███████▉  | 207/259 [4:20:21<1:28:15, 101.83s/it]"
     ]
    },
    {
     "name": "stdout",
     "output_type": "stream",
     "text": [
      "사천마라탕-회기점 scroll\n"
     ]
    },
    {
     "name": "stderr",
     "output_type": "stream",
     "text": [
      "\n",
      "save..:   0%|          | 0/4 [00:00<?, ?it/s]\u001b[A"
     ]
    },
    {
     "name": "stdout",
     "output_type": "stream",
     "text": [
      "사천마라탕-회기점 4\n",
      "모든 리뷰 불러오기 시작...\n",
      "모든 리뷰 불러오기 완료!\n"
     ]
    },
    {
     "name": "stderr",
     "output_type": "stream",
     "text": [
      "save..: 100%|██████████| 4/4 [00:00<00:00, 17.04it/s]\n"
     ]
    },
    {
     "name": "stdout",
     "output_type": "stream",
     "text": [
      "(33773, 11)\n"
     ]
    },
    {
     "name": "stderr",
     "output_type": "stream",
     "text": [
      "\r",
      "craw:  80%|████████  | 208/259 [4:20:52<1:08:32, 80.64s/it] "
     ]
    },
    {
     "name": "stdout",
     "output_type": "stream",
     "text": [
      "풍년오리&추어탕 scroll\n"
     ]
    },
    {
     "name": "stderr",
     "output_type": "stream",
     "text": [
      "\n",
      "save..:   0%|          | 0/2 [00:00<?, ?it/s]\u001b[A"
     ]
    },
    {
     "name": "stdout",
     "output_type": "stream",
     "text": [
      "풍년오리&추어탕 2\n",
      "모든 리뷰 불러오기 시작...\n",
      "모든 리뷰 불러오기 완료!\n"
     ]
    },
    {
     "name": "stderr",
     "output_type": "stream",
     "text": [
      "save..: 100%|██████████| 2/2 [00:00<00:00, 14.40it/s]\n"
     ]
    },
    {
     "name": "stdout",
     "output_type": "stream",
     "text": [
      "(33775, 11)\n"
     ]
    },
    {
     "name": "stderr",
     "output_type": "stream",
     "text": [
      "\r",
      "craw:  81%|████████  | 209/259 [4:21:44<59:57, 71.94s/it]  "
     ]
    },
    {
     "name": "stdout",
     "output_type": "stream",
     "text": [
      "신가네동춘찜닭 scroll\n",
      "신가네동춘찜닭 133\n",
      "모든 리뷰 불러오기 시작...\n",
      "모든 리뷰 불러오기 완료!\n"
     ]
    },
    {
     "name": "stderr",
     "output_type": "stream",
     "text": [
      "\n",
      "save..:   0%|          | 0/133 [00:00<?, ?it/s]\u001b[A\n",
      "save..: 100%|██████████| 133/133 [00:05<00:00, 23.13it/s][A\n"
     ]
    },
    {
     "name": "stdout",
     "output_type": "stream",
     "text": [
      "(33908, 11)\n"
     ]
    },
    {
     "name": "stderr",
     "output_type": "stream",
     "text": [
      "\r",
      "craw:  81%|████████  | 210/259 [4:23:00<59:46, 73.20s/it]"
     ]
    },
    {
     "name": "stdout",
     "output_type": "stream",
     "text": [
      "오늘은김치찜-장안점 scroll\n",
      "오늘은김치찜-장안점 63\n",
      "모든 리뷰 불러오기 시작...\n",
      "모든 리뷰 불러오기 완료!\n"
     ]
    },
    {
     "name": "stderr",
     "output_type": "stream",
     "text": [
      "\n",
      "save..: 100%|██████████| 63/63 [00:01<00:00, 41.58it/s]\n"
     ]
    },
    {
     "name": "stdout",
     "output_type": "stream",
     "text": [
      "(33971, 11)\n"
     ]
    },
    {
     "name": "stderr",
     "output_type": "stream",
     "text": [
      "\r",
      "craw:  81%|████████▏ | 211/259 [4:24:03<56:02, 70.05s/it]"
     ]
    },
    {
     "name": "stdout",
     "output_type": "stream",
     "text": [
      "스시훈-경희대본점 scroll\n",
      "스시훈-경희대본점 455\n",
      "모든 리뷰 불러오기 시작...\n",
      "모든 리뷰 불러오기 완료!\n"
     ]
    },
    {
     "name": "stderr",
     "output_type": "stream",
     "text": [
      "\n",
      "save..:   0%|          | 0/455 [00:00<?, ?it/s]\u001b[A\n",
      "save..:  17%|█▋        | 77/455 [00:03<00:14, 25.22it/s]\u001b[A\n",
      "save..:  31%|███       | 140/455 [00:06<00:13, 23.66it/s]\u001b[A\n",
      "save..:  44%|████▍     | 201/455 [00:09<00:11, 22.54it/s]\u001b[A\n",
      "save..:  57%|█████▋    | 260/455 [00:12<00:09, 21.59it/s]\u001b[A\n",
      "save..:  73%|███████▎  | 334/455 [00:15<00:05, 22.42it/s]\u001b[A\n",
      "save..: 100%|██████████| 455/455 [00:20<00:00, 22.32it/s]\u001b[A\n"
     ]
    },
    {
     "name": "stdout",
     "output_type": "stream",
     "text": [
      "(34426, 11)\n"
     ]
    },
    {
     "name": "stderr",
     "output_type": "stream",
     "text": [
      "\r",
      "craw:  82%|████████▏ | 212/259 [4:26:11<1:08:33, 87.51s/it]"
     ]
    },
    {
     "name": "stdout",
     "output_type": "stream",
     "text": [
      "오거리왕십리야채곱창-동덕여대점 scroll\n"
     ]
    },
    {
     "name": "stderr",
     "output_type": "stream",
     "text": [
      "\r",
      "craw:  82%|████████▏ | 213/259 [4:26:33<51:57, 67.78s/it]  "
     ]
    },
    {
     "name": "stdout",
     "output_type": "stream",
     "text": [
      "wrong shop\n",
      "대대통닭-중화점 scroll\n",
      "대대통닭-중화점 16\n",
      "모든 리뷰 불러오기 시작...\n"
     ]
    },
    {
     "name": "stderr",
     "output_type": "stream",
     "text": [
      "\n",
      "save..:   0%|          | 0/16 [00:00<?, ?it/s]\u001b[A"
     ]
    },
    {
     "name": "stdout",
     "output_type": "stream",
     "text": [
      "모든 리뷰 불러오기 완료!\n"
     ]
    },
    {
     "name": "stderr",
     "output_type": "stream",
     "text": [
      "save..: 100%|██████████| 16/16 [00:00<00:00, 23.49it/s]\n"
     ]
    },
    {
     "name": "stdout",
     "output_type": "stream",
     "text": [
      "(34442, 11)\n"
     ]
    },
    {
     "name": "stderr",
     "output_type": "stream",
     "text": [
      "\r",
      "craw:  83%|████████▎ | 214/259 [4:26:50<39:24, 52.54s/it]"
     ]
    },
    {
     "name": "stdout",
     "output_type": "stream",
     "text": [
      "동부시장쭈사랑 scroll\n",
      "동부시장쭈사랑 91\n",
      "모든 리뷰 불러오기 시작...\n",
      "모든 리뷰 불러오기 완료!\n"
     ]
    },
    {
     "name": "stderr",
     "output_type": "stream",
     "text": [
      "\n",
      "save..:   0%|          | 0/91 [00:00<?, ?it/s]\u001b[A\n",
      "save..: 100%|██████████| 91/91 [00:03<00:00, 26.46it/s]\u001b[A\n"
     ]
    },
    {
     "name": "stdout",
     "output_type": "stream",
     "text": [
      "(34533, 11)\n"
     ]
    },
    {
     "name": "stderr",
     "output_type": "stream",
     "text": [
      "\r",
      "craw:  83%|████████▎ | 215/259 [4:27:46<39:25, 53.76s/it]"
     ]
    },
    {
     "name": "stdout",
     "output_type": "stream",
     "text": [
      "커피마마-휘경점 scroll\n",
      "커피마마-휘경점 10\n",
      "모든 리뷰 불러오기 시작...\n"
     ]
    },
    {
     "name": "stderr",
     "output_type": "stream",
     "text": [
      "\n",
      "save..:   0%|          | 0/10 [00:00<?, ?it/s]\u001b[A"
     ]
    },
    {
     "name": "stdout",
     "output_type": "stream",
     "text": [
      "모든 리뷰 불러오기 완료!\n"
     ]
    },
    {
     "name": "stderr",
     "output_type": "stream",
     "text": [
      "save..: 100%|██████████| 10/10 [00:00<00:00, 29.25it/s]\n"
     ]
    },
    {
     "name": "stdout",
     "output_type": "stream",
     "text": [
      "(34543, 11)\n"
     ]
    },
    {
     "name": "stderr",
     "output_type": "stream",
     "text": [
      "\r",
      "craw:  83%|████████▎ | 216/259 [4:28:21<34:31, 48.17s/it]"
     ]
    },
    {
     "name": "stdout",
     "output_type": "stream",
     "text": [
      "369피자-면목점 scroll\n"
     ]
    },
    {
     "name": "stderr",
     "output_type": "stream",
     "text": [
      "\r",
      "craw:  84%|████████▍ | 217/259 [4:28:35<26:26, 37.78s/it]"
     ]
    },
    {
     "name": "stdout",
     "output_type": "stream",
     "text": [
      "wrong shop\n",
      "그레이우드커피&샌드위치 scroll\n",
      "그레이우드커피&샌드위치 50\n",
      "모든 리뷰 불러오기 시작...\n",
      "모든 리뷰 불러오기 완료!\n"
     ]
    },
    {
     "name": "stderr",
     "output_type": "stream",
     "text": [
      "\n",
      "save..: 100%|██████████| 50/50 [00:02<00:00, 17.27it/s]\n"
     ]
    },
    {
     "name": "stdout",
     "output_type": "stream",
     "text": [
      "(34593, 11)\n"
     ]
    },
    {
     "name": "stderr",
     "output_type": "stream",
     "text": [
      "\r",
      "craw:  84%|████████▍ | 218/259 [4:29:08<24:56, 36.50s/it]"
     ]
    },
    {
     "name": "stdout",
     "output_type": "stream",
     "text": [
      "골드레벨파스타&필라프 scroll\n",
      "골드레벨파스타&필라프 23\n",
      "모든 리뷰 불러오기 시작...\n",
      "모든 리뷰 불러오기 완료!\n"
     ]
    },
    {
     "name": "stderr",
     "output_type": "stream",
     "text": [
      "\n",
      "save..: 100%|██████████| 23/23 [00:01<00:00, 20.47it/s]\n"
     ]
    },
    {
     "name": "stdout",
     "output_type": "stream",
     "text": [
      "(34616, 11)\n"
     ]
    },
    {
     "name": "stderr",
     "output_type": "stream",
     "text": [
      "\r",
      "craw:  85%|████████▍ | 219/259 [4:30:14<30:12, 45.30s/it]"
     ]
    },
    {
     "name": "stdout",
     "output_type": "stream",
     "text": [
      "소담돼지국밥 scroll\n"
     ]
    },
    {
     "name": "stderr",
     "output_type": "stream",
     "text": [
      "\r",
      "craw:  85%|████████▍ | 220/259 [4:30:37<25:05, 38.60s/it]"
     ]
    },
    {
     "name": "stdout",
     "output_type": "stream",
     "text": [
      "wrong shop\n",
      "파스타라이더스-광진구점 scroll\n"
     ]
    },
    {
     "name": "stderr",
     "output_type": "stream",
     "text": [
      "\n",
      "save..:   0%|          | 0/9 [00:00<?, ?it/s]\u001b[A"
     ]
    },
    {
     "name": "stdout",
     "output_type": "stream",
     "text": [
      "파스타라이더스-광진구점 9\n",
      "모든 리뷰 불러오기 시작...\n",
      "모든 리뷰 불러오기 완료!\n"
     ]
    },
    {
     "name": "stderr",
     "output_type": "stream",
     "text": [
      "save..: 100%|██████████| 9/9 [00:00<00:00, 15.04it/s]\n"
     ]
    },
    {
     "name": "stdout",
     "output_type": "stream",
     "text": [
      "(34625, 11)\n"
     ]
    },
    {
     "name": "stderr",
     "output_type": "stream",
     "text": [
      "\r",
      "craw:  85%|████████▌ | 221/259 [4:30:52<19:52, 31.37s/it]"
     ]
    },
    {
     "name": "stdout",
     "output_type": "stream",
     "text": [
      "고수찜닭-외대점 scroll\n",
      "고수찜닭-외대점 304\n",
      "모든 리뷰 불러오기 시작...\n",
      "모든 리뷰 불러오기 완료!\n"
     ]
    },
    {
     "name": "stderr",
     "output_type": "stream",
     "text": [
      "\n",
      "save..:   0%|          | 0/304 [00:00<?, ?it/s]\u001b[A\n",
      "save..:  25%|██▍       | 75/304 [00:03<00:09, 25.00it/s]\u001b[A\n",
      "save..:  49%|████▊     | 148/304 [00:06<00:06, 24.73it/s]\u001b[A\n",
      "save..: 100%|██████████| 304/304 [00:11<00:00, 25.86it/s]\u001b[A\n"
     ]
    },
    {
     "name": "stdout",
     "output_type": "stream",
     "text": [
      "(34929, 11)\n"
     ]
    },
    {
     "name": "stderr",
     "output_type": "stream",
     "text": [
      "\r",
      "craw:  86%|████████▌ | 222/259 [4:32:51<35:36, 57.76s/it]"
     ]
    },
    {
     "name": "stdout",
     "output_type": "stream",
     "text": [
      "복시루 scroll\n"
     ]
    },
    {
     "name": "stderr",
     "output_type": "stream",
     "text": [
      "\n",
      "save..:   0%|          | 0/4 [00:00<?, ?it/s]\u001b[A"
     ]
    },
    {
     "name": "stdout",
     "output_type": "stream",
     "text": [
      "복시루 4\n",
      "모든 리뷰 불러오기 시작...\n",
      "모든 리뷰 불러오기 완료!\n"
     ]
    },
    {
     "name": "stderr",
     "output_type": "stream",
     "text": [
      "save..: 100%|██████████| 4/4 [00:00<00:00, 16.87it/s]\n"
     ]
    },
    {
     "name": "stdout",
     "output_type": "stream",
     "text": [
      "(34933, 11)\n"
     ]
    },
    {
     "name": "stderr",
     "output_type": "stream",
     "text": [
      "\r",
      "craw:  86%|████████▌ | 223/259 [4:33:06<27:01, 45.05s/it]"
     ]
    },
    {
     "name": "stdout",
     "output_type": "stream",
     "text": [
      "파리바게뜨-청량리점 scroll\n",
      "파리바게뜨-청량리점 166\n",
      "모든 리뷰 불러오기 시작...\n",
      "모든 리뷰 불러오기 완료!\n"
     ]
    },
    {
     "name": "stderr",
     "output_type": "stream",
     "text": [
      "\n",
      "save..:   0%|          | 0/166 [00:00<?, ?it/s]\u001b[A\n",
      "save..: 100%|██████████| 166/166 [00:04<00:00, 35.69it/s][A\n"
     ]
    },
    {
     "name": "stdout",
     "output_type": "stream",
     "text": [
      "(35099, 11)\n"
     ]
    },
    {
     "name": "stderr",
     "output_type": "stream",
     "text": [
      "\r",
      "craw:  86%|████████▋ | 224/259 [4:34:13<30:00, 51.44s/it]"
     ]
    },
    {
     "name": "stdout",
     "output_type": "stream",
     "text": [
      "소문난장충왕족발보쌈 scroll\n",
      "소문난장충왕족발보쌈 107\n",
      "모든 리뷰 불러오기 시작...\n",
      "모든 리뷰 불러오기 완료!\n"
     ]
    },
    {
     "name": "stderr",
     "output_type": "stream",
     "text": [
      "\n",
      "save..: 100%|██████████| 107/107 [00:01<00:00, 81.96it/s]\n"
     ]
    },
    {
     "name": "stdout",
     "output_type": "stream",
     "text": [
      "(35206, 11)\n"
     ]
    },
    {
     "name": "stderr",
     "output_type": "stream",
     "text": [
      "\r",
      "craw:  87%|████████▋ | 225/259 [4:35:38<34:57, 61.70s/it]"
     ]
    },
    {
     "name": "stdout",
     "output_type": "stream",
     "text": [
      "용두동한식집 scroll\n",
      "용두동한식집 17\n",
      "모든 리뷰 불러오기 시작...\n",
      "모든 리뷰 불러오기 완료!\n"
     ]
    },
    {
     "name": "stderr",
     "output_type": "stream",
     "text": [
      "\n",
      "save..: 100%|██████████| 17/17 [00:00<00:00, 23.29it/s]\n"
     ]
    },
    {
     "name": "stdout",
     "output_type": "stream",
     "text": [
      "(35223, 11)\n"
     ]
    },
    {
     "name": "stderr",
     "output_type": "stream",
     "text": [
      "\r",
      "craw:  87%|████████▋ | 226/259 [4:36:29<32:10, 58.50s/it]"
     ]
    },
    {
     "name": "stdout",
     "output_type": "stream",
     "text": [
      "깐띤 scroll\n",
      "깐띤 115\n",
      "모든 리뷰 불러오기 시작...\n",
      "모든 리뷰 불러오기 완료!\n"
     ]
    },
    {
     "name": "stderr",
     "output_type": "stream",
     "text": [
      "\n",
      "save..:   0%|          | 0/115 [00:00<?, ?it/s]\u001b[A\n",
      "save..: 100%|██████████| 115/115 [00:05<00:00, 22.79it/s][A\n"
     ]
    },
    {
     "name": "stdout",
     "output_type": "stream",
     "text": [
      "(35338, 11)\n"
     ]
    },
    {
     "name": "stderr",
     "output_type": "stream",
     "text": [
      "\r",
      "craw:  88%|████████▊ | 227/259 [4:37:09<28:13, 52.93s/it]"
     ]
    },
    {
     "name": "stdout",
     "output_type": "stream",
     "text": [
      "나주곰탕-장한평역점 scroll\n"
     ]
    },
    {
     "name": "stderr",
     "output_type": "stream",
     "text": [
      "\r",
      "craw:  88%|████████▊ | 228/259 [4:37:26<21:43, 42.05s/it]"
     ]
    },
    {
     "name": "stdout",
     "output_type": "stream",
     "text": [
      "wrong shop\n",
      "냠냠분식 scroll\n",
      "냠냠분식 326\n",
      "모든 리뷰 불러오기 시작...\n",
      "모든 리뷰 불러오기 완료!\n"
     ]
    },
    {
     "name": "stderr",
     "output_type": "stream",
     "text": [
      "\n",
      "save..:   0%|          | 0/326 [00:00<?, ?it/s]\u001b[A\n",
      "save..:  26%|██▌       | 84/326 [00:03<00:08, 27.90it/s]\u001b[A\n",
      "save..:  48%|████▊     | 157/326 [00:06<00:06, 26.49it/s]\u001b[A\n",
      "save..: 100%|██████████| 326/326 [00:10<00:00, 31.23it/s]\u001b[A\n"
     ]
    },
    {
     "name": "stdout",
     "output_type": "stream",
     "text": [
      "(35664, 11)\n"
     ]
    },
    {
     "name": "stderr",
     "output_type": "stream",
     "text": [
      "\r",
      "craw:  88%|████████▊ | 229/259 [4:39:00<28:46, 57.54s/it]"
     ]
    },
    {
     "name": "stdout",
     "output_type": "stream",
     "text": [
      "1인용이태원부대찌개-청량리점 scroll\n",
      "1인용이태원부대찌개-청량리점 199\n",
      "모든 리뷰 불러오기 시작...\n",
      "모든 리뷰 불러오기 완료!\n"
     ]
    },
    {
     "name": "stderr",
     "output_type": "stream",
     "text": [
      "\n",
      "save..:   0%|          | 0/199 [00:00<?, ?it/s]\u001b[A\n",
      "save..:  32%|███▏      | 63/199 [00:03<00:06, 20.88it/s]\u001b[A\n",
      "save..: 100%|██████████| 199/199 [00:07<00:00, 24.95it/s]\u001b[A\n"
     ]
    },
    {
     "name": "stdout",
     "output_type": "stream",
     "text": [
      "(35863, 11)\n"
     ]
    },
    {
     "name": "stderr",
     "output_type": "stream",
     "text": [
      "\r",
      "craw:  89%|████████▉ | 230/259 [4:40:10<29:43, 61.50s/it]"
     ]
    },
    {
     "name": "stdout",
     "output_type": "stream",
     "text": [
      "아비꼬-경희대점 scroll\n",
      "아비꼬-경희대점 150\n",
      "모든 리뷰 불러오기 시작...\n",
      "모든 리뷰 불러오기 완료!\n"
     ]
    },
    {
     "name": "stderr",
     "output_type": "stream",
     "text": [
      "\n",
      "save..:   0%|          | 0/150 [00:00<?, ?it/s]\u001b[A\n",
      "save..: 100%|██████████| 150/150 [00:04<00:00, 31.08it/s]\u001b[A\n"
     ]
    },
    {
     "name": "stdout",
     "output_type": "stream",
     "text": [
      "(36013, 11)\n"
     ]
    },
    {
     "name": "stderr",
     "output_type": "stream",
     "text": [
      "\r",
      "craw:  89%|████████▉ | 231/259 [4:40:59<26:50, 57.53s/it]"
     ]
    },
    {
     "name": "stdout",
     "output_type": "stream",
     "text": [
      "카페홀작 scroll\n"
     ]
    },
    {
     "name": "stderr",
     "output_type": "stream",
     "text": [
      "\n",
      "save..: 100%|██████████| 1/1 [00:00<00:00, 1167.03it/s]"
     ]
    },
    {
     "name": "stdout",
     "output_type": "stream",
     "text": [
      "카페홀작 1\n",
      "모든 리뷰 불러오기 시작...\n",
      "모든 리뷰 불러오기 완료!\n",
      "(36014, 11)\n"
     ]
    },
    {
     "name": "stderr",
     "output_type": "stream",
     "text": [
      "\n",
      "craw:  90%|████████▉ | 232/259 [4:41:34<22:56, 51.00s/it]"
     ]
    },
    {
     "name": "stdout",
     "output_type": "stream",
     "text": [
      "골목족발 scroll\n",
      "골목족발 27\n",
      "모든 리뷰 불러오기 시작...\n"
     ]
    },
    {
     "name": "stderr",
     "output_type": "stream",
     "text": [
      "\n",
      "save..:   0%|          | 0/27 [00:00<?, ?it/s]\u001b[A"
     ]
    },
    {
     "name": "stdout",
     "output_type": "stream",
     "text": [
      "모든 리뷰 불러오기 완료!\n"
     ]
    },
    {
     "name": "stderr",
     "output_type": "stream",
     "text": [
      "save..: 100%|██████████| 27/27 [00:02<00:00, 13.38it/s]\n"
     ]
    },
    {
     "name": "stdout",
     "output_type": "stream",
     "text": [
      "(36041, 11)\n"
     ]
    },
    {
     "name": "stderr",
     "output_type": "stream",
     "text": [
      "\r",
      "craw:  90%|████████▉ | 233/259 [4:42:02<19:06, 44.11s/it]"
     ]
    },
    {
     "name": "stdout",
     "output_type": "stream",
     "text": [
      "1인삼겹오빠삼-중랑점 scroll\n"
     ]
    },
    {
     "name": "stderr",
     "output_type": "stream",
     "text": [
      "\r",
      "craw:  90%|█████████ | 234/259 [4:42:49<18:43, 44.93s/it]"
     ]
    },
    {
     "name": "stdout",
     "output_type": "stream",
     "text": [
      "wrong shop\n",
      "60계-전농점 scroll\n",
      "60계-전농점 scroll\n",
      "60계-전농점 658\n",
      "모든 리뷰 불러오기 시작...\n",
      "모든 리뷰 불러오기 완료!\n"
     ]
    },
    {
     "name": "stderr",
     "output_type": "stream",
     "text": [
      "\n",
      "save..:   0%|          | 0/658 [00:00<?, ?it/s]\u001b[A\n",
      "save..:  12%|█▏        | 80/658 [00:03<00:21, 26.60it/s]\u001b[A\n",
      "save..:  28%|██▊       | 185/658 [00:06<00:16, 28.53it/s]\u001b[A\n",
      "save..:  50%|█████     | 332/658 [00:09<00:10, 32.56it/s]\u001b[A\n",
      "save..:  70%|███████   | 461/658 [00:12<00:05, 34.99it/s]\u001b[A\n",
      "save..: 100%|██████████| 658/658 [00:16<00:00, 40.66it/s]\u001b[A\n"
     ]
    },
    {
     "name": "stdout",
     "output_type": "stream",
     "text": [
      "(36699, 11)\n"
     ]
    },
    {
     "name": "stderr",
     "output_type": "stream",
     "text": [
      "\r",
      "craw:  91%|█████████ | 235/259 [4:46:00<35:28, 88.70s/it]"
     ]
    },
    {
     "name": "stdout",
     "output_type": "stream",
     "text": [
      "미담 scroll\n",
      "미담 80\n",
      "모든 리뷰 불러오기 시작...\n",
      "모든 리뷰 불러오기 완료!\n"
     ]
    },
    {
     "name": "stderr",
     "output_type": "stream",
     "text": [
      "\n",
      "save..:   0%|          | 0/80 [00:00<?, ?it/s]\u001b[A\n",
      "save..: 100%|██████████| 80/80 [00:04<00:00, 17.79it/s]\u001b[A\n"
     ]
    },
    {
     "name": "stdout",
     "output_type": "stream",
     "text": [
      "(36779, 11)\n"
     ]
    },
    {
     "name": "stderr",
     "output_type": "stream",
     "text": [
      "\r",
      "craw:  91%|█████████ | 236/259 [4:46:35<27:48, 72.53s/it]"
     ]
    },
    {
     "name": "stdout",
     "output_type": "stream",
     "text": [
      "XO핫도그 scroll\n"
     ]
    },
    {
     "name": "stderr",
     "output_type": "stream",
     "text": [
      "\r",
      "craw:  92%|█████████▏| 237/259 [4:46:58<21:09, 57.70s/it]"
     ]
    },
    {
     "name": "stdout",
     "output_type": "stream",
     "text": [
      "wrong shop\n",
      "미스터카츠-경희대점 scroll\n",
      "미스터카츠-경희대점 scroll\n",
      "미스터카츠-경희대점 41\n",
      "모든 리뷰 불러오기 시작...\n"
     ]
    },
    {
     "name": "stderr",
     "output_type": "stream",
     "text": [
      "\n",
      "save..:   0%|          | 0/41 [00:00<?, ?it/s]\u001b[A"
     ]
    },
    {
     "name": "stdout",
     "output_type": "stream",
     "text": [
      "모든 리뷰 불러오기 완료!\n"
     ]
    },
    {
     "name": "stderr",
     "output_type": "stream",
     "text": [
      "save..: 100%|██████████| 41/41 [00:00<00:00, 45.71it/s]\n"
     ]
    },
    {
     "name": "stdout",
     "output_type": "stream",
     "text": [
      "(36820, 11)\n"
     ]
    },
    {
     "name": "stderr",
     "output_type": "stream",
     "text": [
      "\r",
      "craw:  92%|█████████▏| 238/259 [4:47:41<18:38, 53.26s/it]"
     ]
    },
    {
     "name": "stdout",
     "output_type": "stream",
     "text": [
      "정글포차-용두점 scroll\n"
     ]
    },
    {
     "name": "stderr",
     "output_type": "stream",
     "text": [
      "\n",
      "save..:   0%|          | 0/6 [00:00<?, ?it/s]\u001b[A"
     ]
    },
    {
     "name": "stdout",
     "output_type": "stream",
     "text": [
      "정글포차-용두점 6\n",
      "모든 리뷰 불러오기 시작...\n",
      "모든 리뷰 불러오기 완료!\n"
     ]
    },
    {
     "name": "stderr",
     "output_type": "stream",
     "text": [
      "save..: 100%|██████████| 6/6 [00:00<00:00, 15.87it/s]\n"
     ]
    },
    {
     "name": "stdout",
     "output_type": "stream",
     "text": [
      "(36826, 11)\n"
     ]
    },
    {
     "name": "stderr",
     "output_type": "stream",
     "text": [
      "\r",
      "craw:  92%|█████████▏| 239/259 [4:47:52<13:30, 40.52s/it]"
     ]
    },
    {
     "name": "stdout",
     "output_type": "stream",
     "text": [
      "광양석쇠불고기 scroll\n"
     ]
    },
    {
     "name": "stderr",
     "output_type": "stream",
     "text": [
      "\r",
      "craw:  93%|█████████▎| 240/259 [4:48:01<09:48, 31.00s/it]"
     ]
    },
    {
     "name": "stdout",
     "output_type": "stream",
     "text": [
      "wrong shop\n",
      "헐피자 scroll\n",
      "헐피자 64\n",
      "모든 리뷰 불러오기 시작...\n",
      "모든 리뷰 불러오기 완료!\n"
     ]
    },
    {
     "name": "stderr",
     "output_type": "stream",
     "text": [
      "\n",
      "save..: 100%|██████████| 64/64 [00:01<00:00, 47.20it/s]\n"
     ]
    },
    {
     "name": "stdout",
     "output_type": "stream",
     "text": [
      "(36890, 11)\n"
     ]
    },
    {
     "name": "stderr",
     "output_type": "stream",
     "text": [
      "\r",
      "craw:  93%|█████████▎| 241/259 [4:48:48<10:44, 35.83s/it]"
     ]
    },
    {
     "name": "stdout",
     "output_type": "stream",
     "text": [
      "골뱅이시집가는날 scroll\n",
      "골뱅이시집가는날 181\n",
      "모든 리뷰 불러오기 시작...\n",
      "모든 리뷰 불러오기 완료!\n"
     ]
    },
    {
     "name": "stderr",
     "output_type": "stream",
     "text": [
      "\n",
      "save..:   0%|          | 0/181 [00:00<?, ?it/s]\u001b[A\n",
      "save..: 100%|██████████| 181/181 [00:03<00:00, 57.35it/s]\u001b[A\n"
     ]
    },
    {
     "name": "stdout",
     "output_type": "stream",
     "text": [
      "(37071, 11)\n"
     ]
    },
    {
     "name": "stderr",
     "output_type": "stream",
     "text": [
      "\r",
      "craw:  93%|█████████▎| 242/259 [4:50:25<15:22, 54.26s/it]"
     ]
    },
    {
     "name": "stdout",
     "output_type": "stream",
     "text": [
      "만득이곱창-본점 scroll\n",
      "만득이곱창-본점 481\n",
      "모든 리뷰 불러오기 시작...\n",
      "모든 리뷰 불러오기 완료!\n"
     ]
    },
    {
     "name": "stderr",
     "output_type": "stream",
     "text": [
      "\n",
      "save..:   0%|          | 0/481 [00:00<?, ?it/s]\u001b[A\n",
      "save..:  19%|█▊        | 89/481 [00:03<00:13, 29.15it/s]\u001b[A\n",
      "save..:  59%|█████▉    | 286/481 [00:06<00:05, 34.89it/s]\u001b[A\n",
      "save..: 100%|██████████| 481/481 [00:11<00:00, 41.48it/s]\u001b[A\n"
     ]
    },
    {
     "name": "stdout",
     "output_type": "stream",
     "text": [
      "(37552, 11)\n"
     ]
    },
    {
     "name": "stderr",
     "output_type": "stream",
     "text": [
      "\r",
      "craw:  94%|█████████▍| 243/259 [4:53:06<23:03, 86.44s/it]"
     ]
    },
    {
     "name": "stdout",
     "output_type": "stream",
     "text": [
      "꼬꼬방집으로삼겹-장안점 scroll\n",
      "꼬꼬방집으로삼겹-장안점 15\n",
      "모든 리뷰 불러오기 시작...\n"
     ]
    },
    {
     "name": "stderr",
     "output_type": "stream",
     "text": [
      "\n",
      "save..:   0%|          | 0/15 [00:00<?, ?it/s]\u001b[A"
     ]
    },
    {
     "name": "stdout",
     "output_type": "stream",
     "text": [
      "모든 리뷰 불러오기 완료!\n"
     ]
    },
    {
     "name": "stderr",
     "output_type": "stream",
     "text": [
      "save..: 100%|██████████| 15/15 [00:00<00:00, 35.14it/s]\n"
     ]
    },
    {
     "name": "stdout",
     "output_type": "stream",
     "text": [
      "(37567, 11)\n"
     ]
    },
    {
     "name": "stderr",
     "output_type": "stream",
     "text": [
      "\r",
      "craw:  94%|█████████▍| 244/259 [4:53:34<17:09, 68.65s/it]"
     ]
    },
    {
     "name": "stdout",
     "output_type": "stream",
     "text": [
      "오부장서민치킨-장안동점 scroll\n"
     ]
    },
    {
     "name": "stderr",
     "output_type": "stream",
     "text": [
      "\r",
      "craw:  95%|█████████▍| 245/259 [4:54:12<13:53, 59.52s/it]"
     ]
    },
    {
     "name": "stdout",
     "output_type": "stream",
     "text": [
      "wrong shop\n",
      "꼬지사께-서울전농점 scroll\n",
      "꼬지사께-서울전농점 scroll\n",
      "꼬지사께-서울전농점 110\n",
      "모든 리뷰 불러오기 시작...\n",
      "모든 리뷰 불러오기 완료!\n"
     ]
    },
    {
     "name": "stderr",
     "output_type": "stream",
     "text": [
      "\n",
      "save..: 100%|██████████| 90/90 [00:01<00:00, 88.62it/s]\n"
     ]
    },
    {
     "name": "stdout",
     "output_type": "stream",
     "text": [
      "(37657, 11)\n"
     ]
    },
    {
     "name": "stderr",
     "output_type": "stream",
     "text": [
      "\r",
      "craw:  95%|█████████▍| 246/259 [4:55:26<13:51, 63.99s/it]"
     ]
    },
    {
     "name": "stdout",
     "output_type": "stream",
     "text": [
      "삼순이생고기 scroll\n",
      "삼순이생고기 74\n",
      "모든 리뷰 불러오기 시작...\n",
      "모든 리뷰 불러오기 완료!\n"
     ]
    },
    {
     "name": "stderr",
     "output_type": "stream",
     "text": [
      "\n",
      "save..:   0%|          | 0/74 [00:00<?, ?it/s]\u001b[A\n",
      "save..: 100%|██████████| 74/74 [00:03<00:00, 22.42it/s]\u001b[A\n"
     ]
    },
    {
     "name": "stdout",
     "output_type": "stream",
     "text": [
      "(37731, 11)\n"
     ]
    },
    {
     "name": "stderr",
     "output_type": "stream",
     "text": [
      "\r",
      "craw:  95%|█████████▌| 247/259 [4:56:17<12:00, 60.04s/it]"
     ]
    },
    {
     "name": "stdout",
     "output_type": "stream",
     "text": [
      "놀스캘리-초밥롤전문점 scroll\n",
      "놀스캘리-초밥롤전문점 82\n",
      "모든 리뷰 불러오기 시작...\n",
      "모든 리뷰 불러오기 완료!\n"
     ]
    },
    {
     "name": "stderr",
     "output_type": "stream",
     "text": [
      "\n",
      "save..:   0%|          | 0/82 [00:00<?, ?it/s]\u001b[A\n",
      "save..: 100%|██████████| 82/82 [00:04<00:00, 18.79it/s]\u001b[A\n"
     ]
    },
    {
     "name": "stdout",
     "output_type": "stream",
     "text": [
      "(37813, 11)\n"
     ]
    },
    {
     "name": "stderr",
     "output_type": "stream",
     "text": [
      "\r",
      "craw:  96%|█████████▌| 248/259 [4:57:18<11:02, 60.19s/it]"
     ]
    },
    {
     "name": "stdout",
     "output_type": "stream",
     "text": [
      "오돌이와불닭발-경희대점 scroll\n",
      "오돌이와불닭발-경희대점 15\n",
      "모든 리뷰 불러오기 시작...\n"
     ]
    },
    {
     "name": "stderr",
     "output_type": "stream",
     "text": [
      "\n",
      "save..:   0%|          | 0/15 [00:00<?, ?it/s]\u001b[A"
     ]
    },
    {
     "name": "stdout",
     "output_type": "stream",
     "text": [
      "모든 리뷰 불러오기 완료!\n"
     ]
    },
    {
     "name": "stderr",
     "output_type": "stream",
     "text": [
      "save..: 100%|██████████| 15/15 [00:00<00:00, 22.17it/s]\n"
     ]
    },
    {
     "name": "stdout",
     "output_type": "stream",
     "text": [
      "(37828, 11)\n"
     ]
    },
    {
     "name": "stderr",
     "output_type": "stream",
     "text": [
      "\r",
      "craw:  96%|█████████▌| 249/259 [4:58:08<09:32, 57.27s/it]"
     ]
    },
    {
     "name": "stdout",
     "output_type": "stream",
     "text": [
      "곱창이빛나는밤愛 scroll\n"
     ]
    },
    {
     "name": "stderr",
     "output_type": "stream",
     "text": [
      "\r",
      "craw:  97%|█████████▋| 250/259 [4:58:20<06:32, 43.65s/it]"
     ]
    },
    {
     "name": "stdout",
     "output_type": "stream",
     "text": [
      "wrong shop\n",
      "무이리꼬냉면돈가스만두 scroll\n",
      "무이리꼬냉면돈가스만두 scroll\n",
      "무이리꼬냉면돈가스만두 47\n",
      "모든 리뷰 불러오기 시작...\n"
     ]
    },
    {
     "name": "stderr",
     "output_type": "stream",
     "text": [
      "\n",
      "save..:   0%|          | 0/47 [00:00<?, ?it/s]\u001b[A"
     ]
    },
    {
     "name": "stdout",
     "output_type": "stream",
     "text": [
      "모든 리뷰 불러오기 완료!\n"
     ]
    },
    {
     "name": "stderr",
     "output_type": "stream",
     "text": [
      "save..: 100%|██████████| 47/47 [00:01<00:00, 29.75it/s]\n"
     ]
    },
    {
     "name": "stdout",
     "output_type": "stream",
     "text": [
      "(37875, 11)\n"
     ]
    },
    {
     "name": "stderr",
     "output_type": "stream",
     "text": [
      "\r",
      "craw:  97%|█████████▋| 251/259 [4:58:56<05:31, 41.48s/it]"
     ]
    },
    {
     "name": "stdout",
     "output_type": "stream",
     "text": [
      "핫도그방 scroll\n"
     ]
    },
    {
     "name": "stderr",
     "output_type": "stream",
     "text": [
      "\n",
      "save..:   0%|          | 0/2 [00:00<?, ?it/s]\u001b[A"
     ]
    },
    {
     "name": "stdout",
     "output_type": "stream",
     "text": [
      "핫도그방 2\n",
      "모든 리뷰 불러오기 시작...\n",
      "모든 리뷰 불러오기 완료!\n"
     ]
    },
    {
     "name": "stderr",
     "output_type": "stream",
     "text": [
      "save..: 100%|██████████| 2/2 [00:00<00:00, 10.54it/s]\n"
     ]
    },
    {
     "name": "stdout",
     "output_type": "stream",
     "text": [
      "(37877, 11)\n"
     ]
    },
    {
     "name": "stderr",
     "output_type": "stream",
     "text": [
      "\r",
      "craw:  97%|█████████▋| 252/259 [4:59:33<04:39, 39.93s/it]"
     ]
    },
    {
     "name": "stdout",
     "output_type": "stream",
     "text": [
      "고기롭다 scroll\n"
     ]
    },
    {
     "name": "stderr",
     "output_type": "stream",
     "text": [
      "\n",
      "save..:   0%|          | 0/1 [00:00<?, ?it/s]\u001b[A"
     ]
    },
    {
     "name": "stdout",
     "output_type": "stream",
     "text": [
      "고기롭다 1\n",
      "모든 리뷰 불러오기 시작...\n",
      "모든 리뷰 불러오기 완료!\n"
     ]
    },
    {
     "name": "stderr",
     "output_type": "stream",
     "text": [
      "save..: 100%|██████████| 1/1 [00:00<00:00,  5.33it/s]\n"
     ]
    },
    {
     "name": "stdout",
     "output_type": "stream",
     "text": [
      "(37878, 11)\n"
     ]
    },
    {
     "name": "stderr",
     "output_type": "stream",
     "text": [
      "\r",
      "craw:  98%|█████████▊| 253/259 [4:59:51<03:20, 33.48s/it]"
     ]
    },
    {
     "name": "stdout",
     "output_type": "stream",
     "text": [
      "파파존스피자-장안점 scroll\n",
      "파파존스피자-장안점 73\n",
      "모든 리뷰 불러오기 시작...\n",
      "모든 리뷰 불러오기 완료!\n"
     ]
    },
    {
     "name": "stderr",
     "output_type": "stream",
     "text": [
      "\n",
      "save..: 100%|██████████| 73/73 [00:02<00:00, 26.85it/s]\n"
     ]
    },
    {
     "name": "stdout",
     "output_type": "stream",
     "text": [
      "(37951, 11)\n"
     ]
    },
    {
     "name": "stderr",
     "output_type": "stream",
     "text": [
      "\r",
      "craw:  98%|█████████▊| 254/259 [5:00:29<02:53, 34.75s/it]"
     ]
    },
    {
     "name": "stdout",
     "output_type": "stream",
     "text": [
      "큐데이블디저트카페 scroll\n",
      "큐데이블디저트카페 128\n",
      "모든 리뷰 불러오기 시작...\n",
      "모든 리뷰 불러오기 완료!\n"
     ]
    },
    {
     "name": "stderr",
     "output_type": "stream",
     "text": [
      "\n",
      "save..:   0%|          | 0/128 [00:00<?, ?it/s]\u001b[A\n",
      "save..:  49%|████▉     | 63/128 [00:03<00:03, 20.55it/s]\u001b[A\n",
      "save..: 100%|██████████| 128/128 [00:07<00:00, 17.67it/s]\u001b[A\n"
     ]
    },
    {
     "name": "stdout",
     "output_type": "stream",
     "text": [
      "(38079, 11)\n"
     ]
    },
    {
     "name": "stderr",
     "output_type": "stream",
     "text": [
      "\r",
      "craw:  98%|█████████▊| 255/259 [5:01:15<02:32, 38.09s/it]"
     ]
    },
    {
     "name": "stdout",
     "output_type": "stream",
     "text": [
      "그남자의돼지갈비-본점 scroll\n"
     ]
    },
    {
     "name": "stderr",
     "output_type": "stream",
     "text": [
      "\r",
      "craw:  99%|█████████▉| 256/259 [5:01:25<01:29, 29.78s/it]"
     ]
    },
    {
     "name": "stdout",
     "output_type": "stream",
     "text": [
      "wrong shop\n",
      "봉평옹심이메밀칼국수-용답점 scroll\n",
      "봉평옹심이메밀칼국수-용답점 12\n",
      "모든 리뷰 불러오기 시작...\n"
     ]
    },
    {
     "name": "stderr",
     "output_type": "stream",
     "text": [
      "\n",
      "save..:   0%|          | 0/12 [00:00<?, ?it/s]\u001b[A"
     ]
    },
    {
     "name": "stdout",
     "output_type": "stream",
     "text": [
      "모든 리뷰 불러오기 완료!\n"
     ]
    },
    {
     "name": "stderr",
     "output_type": "stream",
     "text": [
      "save..: 100%|██████████| 12/12 [00:00<00:00, 15.93it/s]\n"
     ]
    },
    {
     "name": "stdout",
     "output_type": "stream",
     "text": [
      "(38091, 11)\n"
     ]
    },
    {
     "name": "stderr",
     "output_type": "stream",
     "text": [
      "\r",
      "craw:  99%|█████████▉| 257/259 [5:01:51<00:57, 28.71s/it]"
     ]
    },
    {
     "name": "stdout",
     "output_type": "stream",
     "text": [
      "브라더탕수-회기점 scroll\n",
      "브라더탕수-회기점 17\n",
      "모든 리뷰 불러오기 시작...\n"
     ]
    },
    {
     "name": "stderr",
     "output_type": "stream",
     "text": [
      "\n",
      "save..:   0%|          | 0/17 [00:00<?, ?it/s]\u001b[A"
     ]
    },
    {
     "name": "stdout",
     "output_type": "stream",
     "text": [
      "모든 리뷰 불러오기 완료!\n"
     ]
    },
    {
     "name": "stderr",
     "output_type": "stream",
     "text": [
      "save..: 100%|██████████| 17/17 [00:00<00:00, 23.03it/s]\n"
     ]
    },
    {
     "name": "stdout",
     "output_type": "stream",
     "text": [
      "(38108, 11)\n"
     ]
    },
    {
     "name": "stderr",
     "output_type": "stream",
     "text": [
      "\r",
      "craw: 100%|█████████▉| 258/259 [5:02:38<00:34, 34.20s/it]"
     ]
    },
    {
     "name": "stdout",
     "output_type": "stream",
     "text": [
      "먹보소고기국밥-청량리본점 scroll\n",
      "먹보소고기국밥-청량리본점 9\n",
      "모든 리뷰 불러오기 시작...\n",
      "모든 리뷰 불러오기 완료!\n"
     ]
    },
    {
     "name": "stderr",
     "output_type": "stream",
     "text": [
      "\n",
      "save..: 100%|██████████| 9/9 [00:00<00:00, 144.37it/s]\n"
     ]
    },
    {
     "name": "stdout",
     "output_type": "stream",
     "text": [
      "(38117, 11)\n"
     ]
    },
    {
     "name": "stderr",
     "output_type": "stream",
     "text": [
      "craw: 100%|██████████| 259/259 [5:02:53<00:00, 70.17s/it]"
     ]
    },
    {
     "name": "stdout",
     "output_type": "stream",
     "text": [
      "tot_shop:299,crawling sucess\n"
     ]
    },
    {
     "name": "stderr",
     "output_type": "stream",
     "text": [
      "\n"
     ]
    }
   ],
   "source": [
    "cata=4\n",
    "start=0\n",
    "end=300\n",
    "\n",
    "\n",
    "shops_list=uni_shop.shop[uni_shop.catagory == cata].tolist()\n",
    "col_list=['shop','name','date','tot_star','star_flavor','star_volume','star_deliver','menu','review_customer','review_owner','img_name']\n",
    "df=pd.DataFrame(columns=col_list)\n",
    "global driver\n",
    "#driver.quit()\n",
    "driver=driver_start(university)\n",
    "for i in tqdm(range(start,end),desc='craw'):\n",
    "    shop=shops_list[i]\n",
    "    go_stop=scroll_element(shop)\n",
    "    if go_stop:\n",
    "        #스크롤 했는데 음식점 없으면 다음으로 넘어감\n",
    "        print('wrong shop')\n",
    "        continue\n",
    "    \n",
    "    time.sleep(3)\n",
    "    \n",
    "        #찾은 음식점 클릭\n",
    "    try:\n",
    "        driver.find_element_by_xpath(f'//*[@title=\"{shop}\"]').click()\n",
    "    except (Exception, NoSuchElementException, ElementClickInterceptedException):\n",
    "        driver.quit()\n",
    "        driver=driver_start(university)\n",
    "        time.sleep(2)\n",
    "        scroll_element(shop)\n",
    "        time.sleep(3)\n",
    "        driver.find_element_by_xpath(f'//*[@title=\"{shop}\"]').click()\n",
    "    time.sleep(3)\n",
    "    \n",
    "\n",
    "    new=craw(i,shop,driver,col_list,cata)\n",
    "    df=pd.concat([new,df])\n",
    "    print(df.shape)\n",
    "    driver.back()\n",
    "    time.sleep(2)\n",
    "\n",
    "print(f'tot_shop:{i},crawling sucess')"
   ]
  },
  {
   "cell_type": "code",
   "execution_count": 16,
   "metadata": {},
   "outputs": [],
   "source": [
    "df.to_csv(path+f'cata{cata}_1.csv',index=False)"
   ]
  },
  {
   "cell_type": "code",
   "execution_count": null,
   "metadata": {},
   "outputs": [],
   "source": []
  }
 ],
 "metadata": {
  "kernelspec": {
   "display_name": "Python 3",
   "language": "python",
   "name": "python3"
  },
  "language_info": {
   "codemirror_mode": {
    "name": "ipython",
    "version": 3
   },
   "file_extension": ".py",
   "mimetype": "text/x-python",
   "name": "python",
   "nbconvert_exporter": "python",
   "pygments_lexer": "ipython3",
   "version": "3.8.5"
  }
 },
 "nbformat": 4,
 "nbformat_minor": 4
}
