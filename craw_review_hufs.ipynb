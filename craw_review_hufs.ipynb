{
 "cells": [
  {
   "cell_type": "code",
   "execution_count": 1,
   "metadata": {},
   "outputs": [],
   "source": [
    "from selenium import webdriver\n",
    "from bs4 import BeautifulSoup\n",
    "from selenium.webdriver.support.ui import WebDriverWait\n",
    "from selenium.webdriver.support import expected_conditions as EC\n",
    "from selenium.webdriver.common.by import By\n",
    "import pandas as pd\n",
    "import time\n",
    "from urllib.request import urlretrieve\n",
    "from tqdm import tqdm\n",
    "import os,csv\n",
    "from selenium.common.exceptions import NoSuchElementException, ElementClickInterceptedException"
   ]
  },
  {
   "cell_type": "code",
   "execution_count": 2,
   "metadata": {},
   "outputs": [],
   "source": [
    "import requests"
   ]
  },
  {
   "cell_type": "code",
   "execution_count": 3,
   "metadata": {},
   "outputs": [],
   "source": [
    "def driver_start(university):\n",
    "    chrome_options = webdriver.ChromeOptions() \n",
    "    chrome_options.add_argument('--headless')#창없이 실행\n",
    "    chrome_options.add_argument('--no-sandbox')\n",
    "    chrome_options.add_argument('--disable-dev-shm-usage')\n",
    "\n",
    "    path=r'/data/chromedriver'\n",
    "    driver = webdriver.Chrome(executable_path=path,chrome_options=chrome_options)\n",
    "    driver.set_window_size(1024,1000)\n",
    "\n",
    "    url = \"https://www.yogiyo.co.kr/mobile/#/\"\n",
    "    driver.get(url)\n",
    "    time.sleep(1)\n",
    "    driver.find_element_by_xpath('//*[@id=\"search\"]/div/form/input').clear()\n",
    "    driver.find_element_by_xpath('//*[@id=\"search\"]/div/form/input').send_keys(university)\n",
    "    driver.find_element_by_xpath('//*[@id=\"button_search_address\"]/button[2]').click()\n",
    "    time.sleep(1)\n",
    "    \n",
    "    return driver"
   ]
  },
  {
   "cell_type": "code",
   "execution_count": 4,
   "metadata": {},
   "outputs": [],
   "source": [
    "def scroll_element(shop):#음식점이 있는 곳까지 스크롤\n",
    "    print(f\"{shop} scroll\")\n",
    "    while True:\n",
    "        last_height = driver.execute_script(\"return document.body.scrollHeight\")\n",
    "        try:\n",
    "            some_tag = driver.find_element_by_xpath(f'//*[@title=\"{shop}\"]')\n",
    "            if some_tag:\n",
    "                return False\n",
    "        except Exception:\n",
    "            driver.execute_script(\"window.scrollTo(0, document.body.scrollHeight);\")\n",
    "            time.sleep(1)\n",
    "            new_height = driver.execute_script(\"return document.body.scrollHeight\")\n",
    "            if new_height == last_height: #끝까지 스크롤후 해당 음식점이 없으면 종료 \n",
    "                return True\n",
    "            last_height = new_height\n",
    "            time.sleep(0.5)"
   ]
  },
  {
   "cell_type": "code",
   "execution_count": 5,
   "metadata": {},
   "outputs": [],
   "source": [
    "def stretch_review_page(review_cnt):\n",
    "    #클린리뷰에서 제일 아랫부분까지 열기\n",
    "    click_count = int((review_cnt/10))\n",
    "    print('모든 리뷰 불러오기 시작...')\n",
    "    for _ in range(click_count):\n",
    "        try:\n",
    "            driver.execute_script(\"window.scrollTo(0,document.body.scrollHeight);\")\n",
    "            driver.find_element_by_class_name('btn-more').click()\n",
    "            time.sleep(2)\n",
    "        except Exception as e:\n",
    "            pass\n",
    "    driver.execute_script(\"window.scrollTo(0,document.body.scrollHeight);\")\n",
    "    print('모든 리뷰 불러오기 완료!')"
   ]
  },
  {
   "cell_type": "code",
   "execution_count": 6,
   "metadata": {},
   "outputs": [],
   "source": [
    "def craw(i,shop,driver,col_list,cata):\n",
    "    #클린리뷰클릭\n",
    "    try:\n",
    "        driver.find_element_by_xpath('//*[@id=\"content\"]/div[2]/div[1]/ul/li[2]').click()\n",
    "    except Exception:\n",
    "        driver.quit()\n",
    "        driver=driver_start(university)\n",
    "        time.sleep(3)\n",
    "        scroll_element(shop)\n",
    "        #driver.find_element_by_xpath(f'//*[@title=\"{shop_in[i]}\"]').click()\n",
    "        time.sleep(3)\n",
    "        driver.find_element_by_xpath(f'//*[@title=\"{shop}\"]').click()\n",
    "        time.sleep(3)\n",
    "        driver.find_element_by_xpath('//*[@id=\"content\"]/div[2]/div[1]/ul/li[2]').click()\n",
    "    \n",
    "    time.sleep(2)\n",
    "    review_cnt=driver.find_element_by_xpath('//*[@id=\"content\"]/div[2]/div[1]/ul/li[2]/a/span').text\n",
    "    review_cnt=int(review_cnt)\n",
    "\n",
    "    print(shop, review_cnt)\n",
    "    \n",
    "    if review_cnt==0: #리뷰없으면 종료\n",
    "        print(0)\n",
    "        return\n",
    "    \n",
    "    stretch_review_page(review_cnt)\n",
    "        \n",
    "    html = driver.page_source\n",
    "    soup = BeautifulSoup(html, 'html.parser')\n",
    "\n",
    "    b=soup.find_all('li',{'class':'list-group-item star-point ng-scope'})\n",
    "    \n",
    "    tot_star_list=[]\n",
    "    name_list,date_list,star_flavor_list,star_volume_list,star_deliver_list=[],[],[],[],[]\n",
    "    menu_list,review_customer_list,review_owner_list,img_name_list=[],[],[],[]\n",
    "    for i in tqdm(range(len(b)),desc='save..',mininterval=3):\n",
    "        now=b[i]\n",
    "        name=now.find('span',{'ng-show':\"review.phone\"}).text\n",
    "        name_list.append(name)\n",
    "        date=now.find('span',{'ng-bind':\"review.time|since\"}).text\n",
    "        date_list.append(date)\n",
    "        \n",
    "        try:\n",
    "            star=now.find_all('span',{'class':\"points ng-binding\"})\n",
    "        except IndexError:\n",
    "            print(f'{i}th review, none star')\n",
    "            continue\n",
    "        \n",
    "        \n",
    "        try:\n",
    "            tot_star=len(now.find_all('span',{'class':\"full ng-scope\"}))\n",
    "        except IndexError:\n",
    "            print(f'{i}th review, none star')\n",
    "            continue\n",
    "        tot_star_list.append(tot_star)\n",
    "        \n",
    "        try:\n",
    "            star_flavor=star[0].text\n",
    "        except IndexError:\n",
    "            star_flavor=None\n",
    "        star_flavor_list.append(star_flavor)\n",
    "        \n",
    "        try:\n",
    "            star_volume=star[1].text\n",
    "        except IndexError:\n",
    "            star_volume=None\n",
    "        star_volume_list.append(star_volume)\n",
    "\n",
    "        try:\n",
    "            star_deliver=star[2].text\n",
    "        except IndexError:\n",
    "            star_deliver=None\n",
    "            pass\n",
    "        star_deliver_list.append(star_deliver)\n",
    "            \n",
    "        menu=now.find(\"div\",{\"class\":\"order-items default ng-binding\"}).text.strip()\n",
    "        menu_list.append(menu)\n",
    "        review_customer=now.find(\"p\",{\"class\":\"ng-binding\"}).text\n",
    "        review_customer_list.append(review_customer)\n",
    "\n",
    "    \n",
    "        try:\n",
    "            review_owner=now.find(\"p\",{\"ng-bind-html\":\"review.owner_reply.comment|strip_html\"}).text\n",
    "        except AttributeError:\n",
    "            review_owner=None\n",
    "        review_owner_list.append(review_owner)\n",
    "        try:\n",
    "            img_urls=now.find_all('img')\n",
    "        except TypeError:\n",
    "            img_names=None\n",
    "        else:\n",
    "            img_names=[]\n",
    "            for idx in range(len(img_urls)):\n",
    "                img_name=shop+'_'+str(i)+'_'+str(idx)\n",
    "                path=f'/data/yogiyo/pr_data/hufs/cata{cata}/{shop}'\n",
    "                img_url=img_urls[idx]['src']\n",
    "                if not os.path.isdir(path):\n",
    "                    os.mkdir(path)\n",
    "                try:\n",
    "                    urlretrieve(img_url,path+'/'+img_name+'.jpg')\n",
    "                except requests.exceptions.SSLError or URLError:\n",
    "                    pass\n",
    "                img_names.append(img_name)\n",
    "        img_name_list.append(img_names)\n",
    "                \n",
    "    #new=pd.DataFrame([[shop,name,date,star_flavor,star_volume,star_deliver,menu,review_customer,review_owner,img_name]],columns=col_list)\n",
    "    data={'shop':shop,'name':name_list,'date':date_list,'tot_star':tot_star_list,\n",
    "          'star_flavor':star_flavor_list,'star_volume':star_volume_list,\n",
    "         'star_deliver':star_deliver_list,'menu':menu_list,'review_customer':review_customer_list,\n",
    "          'review_owner':review_owner_list,'img_name':img_name_list}\n",
    "    new=pd.DataFrame(data)\n",
    "\n",
    "    return new"
   ]
  },
  {
   "cell_type": "code",
   "execution_count": 7,
   "metadata": {},
   "outputs": [],
   "source": [
    "path='/data/yogiyo/pr_data/hufs/'\n",
    "university='서울특별시 동대문구 이문동 284-1 한국외국어대학교'\n",
    "uni_shop=pd.read_csv(path+'hufs_shop.csv')"
   ]
  },
  {
   "cell_type": "code",
   "execution_count": 8,
   "metadata": {},
   "outputs": [
    {
     "data": {
      "text/plain": [
       "4    839\n",
       "0    271\n",
       "3     85\n",
       "1     75\n",
       "2     68\n",
       "Name: catagory, dtype: int64"
      ]
     },
     "execution_count": 8,
     "metadata": {},
     "output_type": "execute_result"
    }
   ],
   "source": [
    "uni_shop.catagory.value_counts()"
   ]
  },
  {
   "cell_type": "code",
   "execution_count": 9,
   "metadata": {},
   "outputs": [
    {
     "name": "stderr",
     "output_type": "stream",
     "text": [
      "<ipython-input-3-bb62db29bb57>:8: DeprecationWarning: use options instead of chrome_options\n",
      "  driver = webdriver.Chrome(executable_path=path,chrome_options=chrome_options)\n",
      "craw:   0%|          | 0/300 [00:00<?, ?it/s]"
     ]
    },
    {
     "name": "stdout",
     "output_type": "stream",
     "text": [
      "김밥&즉석반찬전문점소담찬 scroll\n"
     ]
    },
    {
     "name": "stderr",
     "output_type": "stream",
     "text": [
      "\n",
      "save..:   0%|          | 0/3 [00:00<?, ?it/s]\u001b[A"
     ]
    },
    {
     "name": "stdout",
     "output_type": "stream",
     "text": [
      "김밥&즉석반찬전문점소담찬 3\n",
      "모든 리뷰 불러오기 시작...\n",
      "모든 리뷰 불러오기 완료!\n"
     ]
    },
    {
     "name": "stderr",
     "output_type": "stream",
     "text": [
      "save..: 100%|██████████| 3/3 [00:00<00:00, 10.18it/s]\n"
     ]
    },
    {
     "name": "stdout",
     "output_type": "stream",
     "text": [
      "(3, 11)\n"
     ]
    },
    {
     "name": "stderr",
     "output_type": "stream",
     "text": [
      "\r",
      "craw:   0%|          | 1/300 [00:36<3:01:05, 36.34s/it]"
     ]
    },
    {
     "name": "stdout",
     "output_type": "stream",
     "text": [
      "맛집옛날통닭-경희대점 scroll\n",
      "맛집옛날통닭-경희대점 40\n",
      "모든 리뷰 불러오기 시작...\n"
     ]
    },
    {
     "name": "stderr",
     "output_type": "stream",
     "text": [
      "\n",
      "save..:   0%|          | 0/40 [00:00<?, ?it/s]\u001b[A"
     ]
    },
    {
     "name": "stdout",
     "output_type": "stream",
     "text": [
      "모든 리뷰 불러오기 완료!\n"
     ]
    },
    {
     "name": "stderr",
     "output_type": "stream",
     "text": [
      "save..: 100%|██████████| 40/40 [00:01<00:00, 35.85it/s]\n"
     ]
    },
    {
     "name": "stdout",
     "output_type": "stream",
     "text": [
      "(43, 11)\n"
     ]
    },
    {
     "name": "stderr",
     "output_type": "stream",
     "text": [
      "\r",
      "craw:   1%|          | 2/300 [01:10<2:56:59, 35.64s/it]"
     ]
    },
    {
     "name": "stdout",
     "output_type": "stream",
     "text": [
      "불꽃냉면칼국수 scroll\n",
      "불꽃냉면칼국수 137\n",
      "모든 리뷰 불러오기 시작...\n",
      "모든 리뷰 불러오기 완료!\n"
     ]
    },
    {
     "name": "stderr",
     "output_type": "stream",
     "text": [
      "\n",
      "save..:   0%|          | 0/137 [00:00<?, ?it/s]\u001b[A\n",
      "save..: 100%|██████████| 137/137 [00:06<00:00, 22.78it/s][A\n"
     ]
    },
    {
     "name": "stdout",
     "output_type": "stream",
     "text": [
      "(180, 11)\n"
     ]
    },
    {
     "name": "stderr",
     "output_type": "stream",
     "text": [
      "\r",
      "craw:   1%|          | 3/300 [02:06<3:26:56, 41.81s/it]"
     ]
    },
    {
     "name": "stdout",
     "output_type": "stream",
     "text": [
      "탐앤탐스-상봉메가박스점 scroll\n",
      "탐앤탐스-상봉메가박스점 84\n",
      "모든 리뷰 불러오기 시작...\n",
      "모든 리뷰 불러오기 완료!\n"
     ]
    },
    {
     "name": "stderr",
     "output_type": "stream",
     "text": [
      "\n",
      "save..:   0%|          | 0/84 [00:00<?, ?it/s]\u001b[A\n",
      "save..: 100%|██████████| 84/84 [00:03<00:00, 27.45it/s]\u001b[A\n"
     ]
    },
    {
     "name": "stdout",
     "output_type": "stream",
     "text": [
      "(264, 11)\n"
     ]
    },
    {
     "name": "stderr",
     "output_type": "stream",
     "text": [
      "\r",
      "craw:   1%|▏         | 4/300 [02:38<3:11:21, 38.79s/it]"
     ]
    },
    {
     "name": "stdout",
     "output_type": "stream",
     "text": [
      "배스킨라빈스-월곡역점 scroll\n",
      "배스킨라빈스-월곡역점 343\n",
      "모든 리뷰 불러오기 시작...\n",
      "모든 리뷰 불러오기 완료!\n"
     ]
    },
    {
     "name": "stderr",
     "output_type": "stream",
     "text": [
      "\n",
      "save..:   0%|          | 0/343 [00:00<?, ?it/s]\u001b[A\n",
      "save..:  20%|██        | 69/343 [00:03<00:12, 22.65it/s]\u001b[A\n",
      "save..:  37%|███▋      | 126/343 [00:06<00:10, 21.29it/s]\u001b[A\n",
      "save..:  53%|█████▎    | 183/343 [00:09<00:07, 20.53it/s]\u001b[A\n",
      "save..: 100%|██████████| 343/343 [00:14<00:00, 23.30it/s]\u001b[A\n"
     ]
    },
    {
     "name": "stdout",
     "output_type": "stream",
     "text": [
      "(607, 11)\n"
     ]
    },
    {
     "name": "stderr",
     "output_type": "stream",
     "text": [
      "\r",
      "craw:   2%|▏         | 5/300 [04:39<5:11:51, 63.43s/it]"
     ]
    },
    {
     "name": "stdout",
     "output_type": "stream",
     "text": [
      "북촌손만두-경희대점 scroll\n"
     ]
    },
    {
     "name": "stderr",
     "output_type": "stream",
     "text": [
      "\n",
      "save..:   0%|          | 0/7 [00:00<?, ?it/s]\u001b[A"
     ]
    },
    {
     "name": "stdout",
     "output_type": "stream",
     "text": [
      "북촌손만두-경희대점 7\n",
      "모든 리뷰 불러오기 시작...\n",
      "모든 리뷰 불러오기 완료!\n"
     ]
    },
    {
     "name": "stderr",
     "output_type": "stream",
     "text": [
      "save..: 100%|██████████| 7/7 [00:00<00:00, 15.98it/s]\n"
     ]
    },
    {
     "name": "stdout",
     "output_type": "stream",
     "text": [
      "(614, 11)\n"
     ]
    },
    {
     "name": "stderr",
     "output_type": "stream",
     "text": [
      "\r",
      "craw:   2%|▏         | 6/300 [04:56<4:02:34, 49.51s/it]"
     ]
    },
    {
     "name": "stdout",
     "output_type": "stream",
     "text": [
      "왕건고기촌육회집 scroll\n",
      "왕건고기촌육회집 16\n",
      "모든 리뷰 불러오기 시작...\n"
     ]
    },
    {
     "name": "stderr",
     "output_type": "stream",
     "text": [
      "\n",
      "save..:   0%|          | 0/16 [00:00<?, ?it/s]\u001b[A"
     ]
    },
    {
     "name": "stdout",
     "output_type": "stream",
     "text": [
      "모든 리뷰 불러오기 완료!\n"
     ]
    },
    {
     "name": "stderr",
     "output_type": "stream",
     "text": [
      "save..: 100%|██████████| 16/16 [00:00<00:00, 17.66it/s]\n"
     ]
    },
    {
     "name": "stdout",
     "output_type": "stream",
     "text": [
      "(630, 11)\n"
     ]
    },
    {
     "name": "stderr",
     "output_type": "stream",
     "text": [
      "\r",
      "craw:   2%|▏         | 7/300 [05:33<3:44:02, 45.88s/it]"
     ]
    },
    {
     "name": "stdout",
     "output_type": "stream",
     "text": [
      "라마파스타 scroll\n"
     ]
    },
    {
     "name": "stderr",
     "output_type": "stream",
     "text": [
      "\n",
      "save..:   0%|          | 0/3 [00:00<?, ?it/s]\u001b[A"
     ]
    },
    {
     "name": "stdout",
     "output_type": "stream",
     "text": [
      "라마파스타 3\n",
      "모든 리뷰 불러오기 시작...\n",
      "모든 리뷰 불러오기 완료!\n"
     ]
    },
    {
     "name": "stderr",
     "output_type": "stream",
     "text": [
      "save..: 100%|██████████| 3/3 [00:00<00:00, 13.82it/s]\n"
     ]
    },
    {
     "name": "stdout",
     "output_type": "stream",
     "text": [
      "(633, 11)\n"
     ]
    },
    {
     "name": "stderr",
     "output_type": "stream",
     "text": [
      "\r",
      "craw:   3%|▎         | 8/300 [05:52<3:03:05, 37.62s/it]"
     ]
    },
    {
     "name": "stdout",
     "output_type": "stream",
     "text": [
      "토핑의신-이문점 scroll\n",
      "토핑의신-이문점 42\n",
      "모든 리뷰 불러오기 시작...\n"
     ]
    },
    {
     "name": "stderr",
     "output_type": "stream",
     "text": [
      "\n",
      "save..:   0%|          | 0/42 [00:00<?, ?it/s]\u001b[A"
     ]
    },
    {
     "name": "stdout",
     "output_type": "stream",
     "text": [
      "모든 리뷰 불러오기 완료!\n"
     ]
    },
    {
     "name": "stderr",
     "output_type": "stream",
     "text": [
      "save..: 100%|██████████| 42/42 [00:02<00:00, 17.52it/s]\n"
     ]
    },
    {
     "name": "stdout",
     "output_type": "stream",
     "text": [
      "(675, 11)\n"
     ]
    },
    {
     "name": "stderr",
     "output_type": "stream",
     "text": [
      "\r",
      "craw:   3%|▎         | 9/300 [06:43<3:22:52, 41.83s/it]"
     ]
    },
    {
     "name": "stdout",
     "output_type": "stream",
     "text": [
      "카페이노이드 scroll\n"
     ]
    },
    {
     "name": "stderr",
     "output_type": "stream",
     "text": [
      "\r",
      "craw:   3%|▎         | 10/300 [07:06<2:54:41, 36.14s/it]"
     ]
    },
    {
     "name": "stdout",
     "output_type": "stream",
     "text": [
      "wrong shop\n",
      "경성쭈꾸미-제기동점 scroll\n"
     ]
    },
    {
     "name": "stderr",
     "output_type": "stream",
     "text": [
      "\n",
      "save..: 100%|██████████| 1/1 [00:00<00:00, 13.74it/s]"
     ]
    },
    {
     "name": "stdout",
     "output_type": "stream",
     "text": [
      "경성쭈꾸미-제기동점 1\n",
      "모든 리뷰 불러오기 시작...\n",
      "모든 리뷰 불러오기 완료!\n",
      "(676, 11)\n"
     ]
    },
    {
     "name": "stderr",
     "output_type": "stream",
     "text": [
      "\n",
      "craw:   4%|▎         | 11/300 [07:37<2:46:54, 34.65s/it]"
     ]
    },
    {
     "name": "stdout",
     "output_type": "stream",
     "text": [
      "신사동떡볶이-석관점 scroll\n",
      "신사동떡볶이-석관점 13\n",
      "모든 리뷰 불러오기 시작...\n"
     ]
    },
    {
     "name": "stderr",
     "output_type": "stream",
     "text": [
      "\n",
      "save..:   0%|          | 0/13 [00:00<?, ?it/s]\u001b[A"
     ]
    },
    {
     "name": "stdout",
     "output_type": "stream",
     "text": [
      "모든 리뷰 불러오기 완료!\n"
     ]
    },
    {
     "name": "stderr",
     "output_type": "stream",
     "text": [
      "save..: 100%|██████████| 13/13 [00:00<00:00, 27.05it/s]\n"
     ]
    },
    {
     "name": "stdout",
     "output_type": "stream",
     "text": [
      "(689, 11)\n"
     ]
    },
    {
     "name": "stderr",
     "output_type": "stream",
     "text": [
      "\r",
      "craw:   4%|▍         | 12/300 [08:37<3:23:10, 42.33s/it]"
     ]
    },
    {
     "name": "stdout",
     "output_type": "stream",
     "text": [
      "대성집-고려대점 scroll\n"
     ]
    },
    {
     "name": "stderr",
     "output_type": "stream",
     "text": [
      "\n",
      "save..: 100%|██████████| 1/1 [00:00<00:00, 12.27it/s]"
     ]
    },
    {
     "name": "stdout",
     "output_type": "stream",
     "text": [
      "대성집-고려대점 1\n",
      "모든 리뷰 불러오기 시작...\n",
      "모든 리뷰 불러오기 완료!\n",
      "(690, 11)\n"
     ]
    },
    {
     "name": "stderr",
     "output_type": "stream",
     "text": [
      "\n",
      "craw:   4%|▍         | 13/300 [09:13<3:13:26, 40.44s/it]"
     ]
    },
    {
     "name": "stdout",
     "output_type": "stream",
     "text": [
      "용주한방삼계탕&치킨 scroll\n"
     ]
    },
    {
     "name": "stderr",
     "output_type": "stream",
     "text": [
      "\n",
      "save..:   0%|          | 0/3 [00:00<?, ?it/s]\u001b[A"
     ]
    },
    {
     "name": "stdout",
     "output_type": "stream",
     "text": [
      "용주한방삼계탕&치킨 3\n",
      "모든 리뷰 불러오기 시작...\n",
      "모든 리뷰 불러오기 완료!\n"
     ]
    },
    {
     "name": "stderr",
     "output_type": "stream",
     "text": [
      "save..: 100%|██████████| 3/3 [00:00<00:00, 21.00it/s]\n"
     ]
    },
    {
     "name": "stdout",
     "output_type": "stream",
     "text": [
      "(693, 11)\n"
     ]
    },
    {
     "name": "stderr",
     "output_type": "stream",
     "text": [
      "\r",
      "craw:   5%|▍         | 14/300 [09:29<2:36:36, 32.86s/it]"
     ]
    },
    {
     "name": "stdout",
     "output_type": "stream",
     "text": [
      "따스한온족-월곡본점 scroll\n",
      "따스한온족-월곡본점 726\n",
      "모든 리뷰 불러오기 시작...\n",
      "모든 리뷰 불러오기 완료!\n"
     ]
    },
    {
     "name": "stderr",
     "output_type": "stream",
     "text": [
      "\n",
      "save..:   0%|          | 0/726 [00:00<?, ?it/s]\u001b[A\n",
      "save..:   9%|▉         | 67/726 [00:03<00:30, 21.96it/s]\u001b[A\n",
      "save..:  19%|█▊        | 135/726 [00:06<00:26, 22.05it/s]\u001b[A\n",
      "save..:  33%|███▎      | 240/726 [00:09<00:19, 24.74it/s]\u001b[A\n",
      "save..:  46%|████▌     | 332/726 [00:12<00:15, 26.11it/s]\u001b[A\n",
      "save..:  59%|█████▊    | 426/726 [00:15<00:10, 27.32it/s]\u001b[A\n",
      "save..: 100%|██████████| 726/726 [00:18<00:00, 39.36it/s]\u001b[A\n"
     ]
    },
    {
     "name": "stdout",
     "output_type": "stream",
     "text": [
      "(1419, 11)\n"
     ]
    },
    {
     "name": "stderr",
     "output_type": "stream",
     "text": [
      "\r",
      "craw:   5%|▌         | 15/300 [12:53<6:40:27, 84.31s/it]"
     ]
    },
    {
     "name": "stdout",
     "output_type": "stream",
     "text": [
      "프리미엄분식식탁-고대본점 scroll\n"
     ]
    },
    {
     "name": "stderr",
     "output_type": "stream",
     "text": [
      "\n",
      "save..: 100%|██████████| 2/2 [00:00<00:00, 18.04it/s]"
     ]
    },
    {
     "name": "stdout",
     "output_type": "stream",
     "text": [
      "프리미엄분식식탁-고대본점 2\n",
      "모든 리뷰 불러오기 시작...\n",
      "모든 리뷰 불러오기 완료!\n",
      "(1421, 11)\n"
     ]
    },
    {
     "name": "stderr",
     "output_type": "stream",
     "text": [
      "\n",
      "craw:   5%|▌         | 16/300 [13:07<4:58:36, 63.09s/it]"
     ]
    },
    {
     "name": "stdout",
     "output_type": "stream",
     "text": [
      "비나레스토랑-본점 scroll\n",
      "비나레스토랑-본점 156\n",
      "모든 리뷰 불러오기 시작...\n",
      "모든 리뷰 불러오기 완료!\n"
     ]
    },
    {
     "name": "stderr",
     "output_type": "stream",
     "text": [
      "\n",
      "save..:   0%|          | 0/156 [00:00<?, ?it/s]\u001b[A\n",
      "save..:  39%|███▉      | 61/156 [00:03<00:04, 19.06it/s]\u001b[A\n",
      "save..: 100%|██████████| 156/156 [00:09<00:00, 17.18it/s]\u001b[A\n"
     ]
    },
    {
     "name": "stdout",
     "output_type": "stream",
     "text": [
      "(1577, 11)\n"
     ]
    },
    {
     "name": "stderr",
     "output_type": "stream",
     "text": [
      "\r",
      "craw:   6%|▌         | 17/300 [14:13<5:02:57, 64.23s/it]"
     ]
    },
    {
     "name": "stdout",
     "output_type": "stream",
     "text": [
      "김밥천국-장안2점 scroll\n",
      "김밥천국-장안2점 163\n",
      "모든 리뷰 불러오기 시작...\n",
      "모든 리뷰 불러오기 완료!\n"
     ]
    },
    {
     "name": "stderr",
     "output_type": "stream",
     "text": [
      "\n",
      "save..:   0%|          | 0/163 [00:00<?, ?it/s]\u001b[A\n",
      "save..:  66%|██████▋   | 108/163 [00:03<00:01, 34.01it/s]\u001b[A\n",
      "save..: 100%|██████████| 163/163 [00:06<00:00, 26.37it/s]\u001b[A\n"
     ]
    },
    {
     "name": "stdout",
     "output_type": "stream",
     "text": [
      "(1740, 11)\n"
     ]
    },
    {
     "name": "stderr",
     "output_type": "stream",
     "text": [
      "\r",
      "craw:   6%|▌         | 18/300 [15:08<4:48:25, 61.37s/it]"
     ]
    },
    {
     "name": "stdout",
     "output_type": "stream",
     "text": [
      "안암최고의밀크티집디에스티-안암점 scroll\n"
     ]
    },
    {
     "name": "stderr",
     "output_type": "stream",
     "text": [
      "\n",
      "save..:   0%|          | 0/5 [00:00<?, ?it/s]\u001b[A"
     ]
    },
    {
     "name": "stdout",
     "output_type": "stream",
     "text": [
      "안암최고의밀크티집디에스티-안암점 5\n",
      "모든 리뷰 불러오기 시작...\n",
      "모든 리뷰 불러오기 완료!\n"
     ]
    },
    {
     "name": "stderr",
     "output_type": "stream",
     "text": [
      "\n",
      "save..: 100%|██████████| 5/5 [02:11<00:00, 26.22s/it]\u001b[A\n"
     ]
    },
    {
     "name": "stdout",
     "output_type": "stream",
     "text": [
      "(1745, 11)\n"
     ]
    },
    {
     "name": "stderr",
     "output_type": "stream",
     "text": [
      "\r",
      "craw:   6%|▋         | 19/300 [17:54<7:13:37, 92.59s/it]"
     ]
    },
    {
     "name": "stdout",
     "output_type": "stream",
     "text": [
      "수제맵스버거-외대점 scroll\n",
      "수제맵스버거-외대점 57\n",
      "모든 리뷰 불러오기 시작...\n",
      "모든 리뷰 불러오기 완료!\n"
     ]
    },
    {
     "name": "stderr",
     "output_type": "stream",
     "text": [
      "\n",
      "save..: 100%|██████████| 57/57 [00:02<00:00, 22.32it/s]\n"
     ]
    },
    {
     "name": "stdout",
     "output_type": "stream",
     "text": [
      "(1802, 11)\n"
     ]
    },
    {
     "name": "stderr",
     "output_type": "stream",
     "text": [
      "\r",
      "craw:   7%|▋         | 20/300 [18:34<5:59:31, 77.04s/it]"
     ]
    },
    {
     "name": "stdout",
     "output_type": "stream",
     "text": [
      "김준현의눈치떡-회기점 scroll\n"
     ]
    },
    {
     "name": "stderr",
     "output_type": "stream",
     "text": [
      "\n",
      "save..:   0%|          | 0/9 [00:00<?, ?it/s]\u001b[A"
     ]
    },
    {
     "name": "stdout",
     "output_type": "stream",
     "text": [
      "김준현의눈치떡-회기점 9\n",
      "모든 리뷰 불러오기 시작...\n",
      "모든 리뷰 불러오기 완료!\n"
     ]
    },
    {
     "name": "stderr",
     "output_type": "stream",
     "text": [
      "save..: 100%|██████████| 9/9 [00:00<00:00, 14.26it/s]\n"
     ]
    },
    {
     "name": "stdout",
     "output_type": "stream",
     "text": [
      "(1811, 11)\n"
     ]
    },
    {
     "name": "stderr",
     "output_type": "stream",
     "text": [
      "\r",
      "craw:   7%|▋         | 21/300 [19:13<5:04:11, 65.42s/it]"
     ]
    },
    {
     "name": "stdout",
     "output_type": "stream",
     "text": [
      "늘봄참치&초밥 scroll\n",
      "늘봄참치&초밥 97\n",
      "모든 리뷰 불러오기 시작...\n",
      "모든 리뷰 불러오기 완료!\n"
     ]
    },
    {
     "name": "stderr",
     "output_type": "stream",
     "text": [
      "\n",
      "save..:   0%|          | 0/97 [00:00<?, ?it/s]\u001b[A\n",
      "save..:  41%|████      | 40/97 [00:03<00:04, 13.03it/s]\u001b[A\n",
      "save..: 100%|██████████| 97/97 [00:08<00:00, 10.96it/s]\u001b[A\n"
     ]
    },
    {
     "name": "stdout",
     "output_type": "stream",
     "text": [
      "(1908, 11)\n"
     ]
    },
    {
     "name": "stderr",
     "output_type": "stream",
     "text": [
      "\r",
      "craw:   7%|▋         | 22/300 [20:23<5:09:50, 66.87s/it]"
     ]
    },
    {
     "name": "stdout",
     "output_type": "stream",
     "text": [
      "긴카오태국식당 scroll\n",
      "긴카오태국식당 27\n",
      "모든 리뷰 불러오기 시작...\n"
     ]
    },
    {
     "name": "stderr",
     "output_type": "stream",
     "text": [
      "\n",
      "save..:   0%|          | 0/27 [00:00<?, ?it/s]\u001b[A"
     ]
    },
    {
     "name": "stdout",
     "output_type": "stream",
     "text": [
      "모든 리뷰 불러오기 완료!\n"
     ]
    },
    {
     "name": "stderr",
     "output_type": "stream",
     "text": [
      "save..: 100%|██████████| 27/27 [00:01<00:00, 14.56it/s]\n"
     ]
    },
    {
     "name": "stdout",
     "output_type": "stream",
     "text": [
      "(1935, 11)\n"
     ]
    },
    {
     "name": "stderr",
     "output_type": "stream",
     "text": [
      "\r",
      "craw:   8%|▊         | 23/300 [21:06<4:36:27, 59.88s/it]"
     ]
    },
    {
     "name": "stdout",
     "output_type": "stream",
     "text": [
      "르쁠랭 scroll\n",
      "르쁠랭 14\n",
      "모든 리뷰 불러오기 시작...\n"
     ]
    },
    {
     "name": "stderr",
     "output_type": "stream",
     "text": [
      "\n",
      "save..:   0%|          | 0/14 [00:00<?, ?it/s]\u001b[A"
     ]
    },
    {
     "name": "stdout",
     "output_type": "stream",
     "text": [
      "모든 리뷰 불러오기 완료!\n"
     ]
    },
    {
     "name": "stderr",
     "output_type": "stream",
     "text": [
      "save..: 100%|██████████| 14/14 [00:00<00:00, 15.61it/s]\n"
     ]
    },
    {
     "name": "stdout",
     "output_type": "stream",
     "text": [
      "(1949, 11)\n"
     ]
    },
    {
     "name": "stderr",
     "output_type": "stream",
     "text": [
      "\r",
      "craw:   8%|▊         | 24/300 [22:01<4:28:17, 58.33s/it]"
     ]
    },
    {
     "name": "stdout",
     "output_type": "stream",
     "text": [
      "동덕여대치킨모임 scroll\n"
     ]
    },
    {
     "name": "stderr",
     "output_type": "stream",
     "text": [
      "\n",
      "save..: 100%|██████████| 3/3 [00:00<00:00, 1199.17it/s]"
     ]
    },
    {
     "name": "stdout",
     "output_type": "stream",
     "text": [
      "동덕여대치킨모임 3\n",
      "모든 리뷰 불러오기 시작...\n",
      "모든 리뷰 불러오기 완료!\n",
      "(1952, 11)\n"
     ]
    },
    {
     "name": "stderr",
     "output_type": "stream",
     "text": [
      "\n",
      "craw:   8%|▊         | 25/300 [22:55<4:21:46, 57.11s/it]"
     ]
    },
    {
     "name": "stdout",
     "output_type": "stream",
     "text": [
      "오메가생선구이&탕&조림 scroll\n",
      "오메가생선구이&탕&조림 83\n",
      "모든 리뷰 불러오기 시작...\n",
      "모든 리뷰 불러오기 완료!\n"
     ]
    },
    {
     "name": "stderr",
     "output_type": "stream",
     "text": [
      "\n",
      "save..: 100%|██████████| 83/83 [00:02<00:00, 28.61it/s]\n"
     ]
    },
    {
     "name": "stdout",
     "output_type": "stream",
     "text": [
      "(2035, 11)\n"
     ]
    },
    {
     "name": "stderr",
     "output_type": "stream",
     "text": [
      "\r",
      "craw:   9%|▊         | 26/300 [23:56<4:25:30, 58.14s/it]"
     ]
    },
    {
     "name": "stdout",
     "output_type": "stream",
     "text": [
      "60계-전농점 scroll\n",
      "60계-전농점 658\n",
      "모든 리뷰 불러오기 시작...\n",
      "모든 리뷰 불러오기 완료!\n"
     ]
    },
    {
     "name": "stderr",
     "output_type": "stream",
     "text": [
      "\n",
      "save..:   0%|          | 0/658 [00:00<?, ?it/s]\u001b[A\n",
      "save..:  12%|█▏        | 77/658 [00:03<00:25, 23.22it/s]\u001b[A\n",
      "save..:  26%|██▋       | 173/658 [00:06<00:19, 25.26it/s]\u001b[A\n",
      "save..:  48%|████▊     | 317/658 [00:09<00:11, 29.45it/s]\u001b[A\n",
      "save..:  67%|██████▋   | 438/658 [00:12<00:06, 31.73it/s]\u001b[A\n",
      "save..: 100%|██████████| 658/658 [00:17<00:00, 37.59it/s]\u001b[A\n"
     ]
    },
    {
     "name": "stdout",
     "output_type": "stream",
     "text": [
      "(2693, 11)\n"
     ]
    },
    {
     "name": "stderr",
     "output_type": "stream",
     "text": [
      "\r",
      "craw:   9%|▉         | 27/300 [27:01<7:17:46, 96.21s/it]"
     ]
    },
    {
     "name": "stdout",
     "output_type": "stream",
     "text": [
      "위대한족보&앞다리튀김왕족-청량리점 scroll\n"
     ]
    },
    {
     "name": "stderr",
     "output_type": "stream",
     "text": [
      "\n",
      "save..:   0%|          | 0/8 [00:00<?, ?it/s]\u001b[A"
     ]
    },
    {
     "name": "stdout",
     "output_type": "stream",
     "text": [
      "위대한족보&앞다리튀김왕족-청량리점 8\n",
      "모든 리뷰 불러오기 시작...\n",
      "모든 리뷰 불러오기 완료!\n"
     ]
    },
    {
     "name": "stderr",
     "output_type": "stream",
     "text": [
      "save..: 100%|██████████| 8/8 [00:00<00:00, 23.47it/s]\n"
     ]
    },
    {
     "name": "stdout",
     "output_type": "stream",
     "text": [
      "(2701, 11)\n"
     ]
    },
    {
     "name": "stderr",
     "output_type": "stream",
     "text": [
      "\r",
      "craw:   9%|▉         | 28/300 [27:39<5:57:13, 78.80s/it]"
     ]
    },
    {
     "name": "stdout",
     "output_type": "stream",
     "text": [
      "팔공티-경희대점 scroll\n",
      "팔공티-경희대점 82\n",
      "모든 리뷰 불러오기 시작...\n",
      "모든 리뷰 불러오기 완료!\n"
     ]
    },
    {
     "name": "stderr",
     "output_type": "stream",
     "text": [
      "\n",
      "save..:   0%|          | 0/82 [00:00<?, ?it/s]\u001b[A\n",
      "save..: 100%|██████████| 82/82 [00:04<00:00, 18.13it/s]\u001b[A\n"
     ]
    },
    {
     "name": "stdout",
     "output_type": "stream",
     "text": [
      "(2783, 11)\n"
     ]
    },
    {
     "name": "stderr",
     "output_type": "stream",
     "text": [
      "\r",
      "craw:  10%|▉         | 29/300 [28:28<5:15:52, 69.94s/it]"
     ]
    },
    {
     "name": "stdout",
     "output_type": "stream",
     "text": [
      "눈물닭발 scroll\n",
      "눈물닭발 330\n",
      "모든 리뷰 불러오기 시작...\n",
      "모든 리뷰 불러오기 완료!\n"
     ]
    },
    {
     "name": "stderr",
     "output_type": "stream",
     "text": [
      "\n",
      "save..:   0%|          | 0/330 [00:00<?, ?it/s]\u001b[A\n",
      "save..:  19%|█▉        | 64/330 [00:03<00:12, 21.22it/s]\u001b[A\n",
      "save..:  47%|████▋     | 155/330 [00:06<00:07, 23.24it/s]\u001b[A\n",
      "save..: 100%|██████████| 330/330 [00:10<00:00, 31.14it/s]\u001b[A\n"
     ]
    },
    {
     "name": "stdout",
     "output_type": "stream",
     "text": [
      "(3113, 11)\n"
     ]
    },
    {
     "name": "stderr",
     "output_type": "stream",
     "text": [
      "\r",
      "craw:  10%|█         | 30/300 [30:25<6:17:38, 83.92s/it]"
     ]
    },
    {
     "name": "stdout",
     "output_type": "stream",
     "text": [
      "바다양푼이동태탕-청량리점 scroll\n"
     ]
    },
    {
     "name": "stderr",
     "output_type": "stream",
     "text": [
      "\n",
      "save..:   0%|          | 0/4 [00:00<?, ?it/s]\u001b[A"
     ]
    },
    {
     "name": "stdout",
     "output_type": "stream",
     "text": [
      "바다양푼이동태탕-청량리점 4\n",
      "모든 리뷰 불러오기 시작...\n",
      "모든 리뷰 불러오기 완료!\n"
     ]
    },
    {
     "name": "stderr",
     "output_type": "stream",
     "text": [
      "save..: 100%|██████████| 4/4 [00:00<00:00, 21.60it/s]\n"
     ]
    },
    {
     "name": "stdout",
     "output_type": "stream",
     "text": [
      "(3117, 11)\n"
     ]
    },
    {
     "name": "stderr",
     "output_type": "stream",
     "text": [
      "\r",
      "craw:  10%|█         | 31/300 [30:40<4:43:51, 63.31s/it]"
     ]
    },
    {
     "name": "stdout",
     "output_type": "stream",
     "text": [
      "서비식당닭한마리닭볶음탕 scroll\n"
     ]
    },
    {
     "name": "stderr",
     "output_type": "stream",
     "text": [
      "\n",
      "save..: 100%|██████████| 2/2 [00:00<00:00, 958.81it/s]"
     ]
    },
    {
     "name": "stdout",
     "output_type": "stream",
     "text": [
      "서비식당닭한마리닭볶음탕 2\n",
      "모든 리뷰 불러오기 시작...\n",
      "모든 리뷰 불러오기 완료!\n",
      "(3119, 11)\n"
     ]
    },
    {
     "name": "stderr",
     "output_type": "stream",
     "text": [
      "\n",
      "craw:  11%|█         | 32/300 [31:10<3:57:22, 53.14s/it]"
     ]
    },
    {
     "name": "stdout",
     "output_type": "stream",
     "text": [
      "무이리꼬냉면돈가스만두 scroll\n"
     ]
    },
    {
     "name": "stderr",
     "output_type": "stream",
     "text": [
      "\r",
      "craw:  11%|█         | 33/300 [31:39<3:25:20, 46.14s/it]"
     ]
    },
    {
     "name": "stdout",
     "output_type": "stream",
     "text": [
      "wrong shop\n",
      "모던통닭-장안점 scroll\n"
     ]
    },
    {
     "name": "stderr",
     "output_type": "stream",
     "text": [
      "\n",
      "save..: 100%|██████████| 2/2 [00:00<00:00, 1141.15it/s]"
     ]
    },
    {
     "name": "stdout",
     "output_type": "stream",
     "text": [
      "모던통닭-장안점 2\n",
      "모든 리뷰 불러오기 시작...\n",
      "모든 리뷰 불러오기 완료!\n",
      "(3121, 11)\n"
     ]
    },
    {
     "name": "stderr",
     "output_type": "stream",
     "text": [
      "\n",
      "craw:  11%|█▏        | 34/300 [32:11<3:04:44, 41.67s/it]"
     ]
    },
    {
     "name": "stdout",
     "output_type": "stream",
     "text": [
      "푸른초원능이오리전복삼계탕 scroll\n"
     ]
    },
    {
     "name": "stderr",
     "output_type": "stream",
     "text": [
      "\r",
      "craw:  12%|█▏        | 35/300 [32:40<2:48:08, 38.07s/it]"
     ]
    },
    {
     "name": "stdout",
     "output_type": "stream",
     "text": [
      "wrong shop\n",
      "인생소곱창 scroll\n",
      "인생소곱창 scroll\n"
     ]
    },
    {
     "name": "stderr",
     "output_type": "stream",
     "text": [
      "\n",
      "save..: 100%|██████████| 1/1 [00:00<00:00, 10.38it/s]"
     ]
    },
    {
     "name": "stdout",
     "output_type": "stream",
     "text": [
      "인생소곱창 1\n",
      "모든 리뷰 불러오기 시작...\n",
      "모든 리뷰 불러오기 완료!\n",
      "(3122, 11)\n"
     ]
    },
    {
     "name": "stderr",
     "output_type": "stream",
     "text": [
      "\n",
      "craw:  12%|█▏        | 36/300 [33:31<3:04:32, 41.94s/it]"
     ]
    },
    {
     "name": "stdout",
     "output_type": "stream",
     "text": [
      "자가제빵선명희피자-외대점 scroll\n",
      "자가제빵선명희피자-외대점 13\n",
      "모든 리뷰 불러오기 시작...\n",
      "모든 리뷰 불러오기 완료!\n"
     ]
    },
    {
     "name": "stderr",
     "output_type": "stream",
     "text": [
      "\n",
      "save..: 100%|██████████| 13/13 [00:01<00:00, 11.52it/s]\n"
     ]
    },
    {
     "name": "stdout",
     "output_type": "stream",
     "text": [
      "(3135, 11)\n"
     ]
    },
    {
     "name": "stderr",
     "output_type": "stream",
     "text": [
      "\r",
      "craw:  12%|█▏        | 37/300 [34:13<3:02:56, 41.74s/it]"
     ]
    },
    {
     "name": "stdout",
     "output_type": "stream",
     "text": [
      "파스타입니다-회기이문점 scroll\n",
      "파스타입니다-회기이문점 61\n",
      "모든 리뷰 불러오기 시작...\n",
      "모든 리뷰 불러오기 완료!\n"
     ]
    },
    {
     "name": "stderr",
     "output_type": "stream",
     "text": [
      "\n",
      "save..:   0%|          | 0/61 [00:00<?, ?it/s]\u001b[A\n",
      "save..: 100%|██████████| 61/61 [00:04<00:00, 14.91it/s]\u001b[A\n"
     ]
    },
    {
     "name": "stdout",
     "output_type": "stream",
     "text": [
      "(3196, 11)\n"
     ]
    },
    {
     "name": "stderr",
     "output_type": "stream",
     "text": [
      "\r",
      "craw:  13%|█▎        | 38/300 [34:49<2:55:16, 40.14s/it]"
     ]
    },
    {
     "name": "stdout",
     "output_type": "stream",
     "text": [
      "칸틴커피-휘경점 scroll\n",
      "칸틴커피-휘경점 10\n",
      "모든 리뷰 불러오기 시작...\n"
     ]
    },
    {
     "name": "stderr",
     "output_type": "stream",
     "text": [
      "\n",
      "save..:   0%|          | 0/10 [00:00<?, ?it/s]\u001b[A"
     ]
    },
    {
     "name": "stdout",
     "output_type": "stream",
     "text": [
      "모든 리뷰 불러오기 완료!\n"
     ]
    },
    {
     "name": "stderr",
     "output_type": "stream",
     "text": [
      "save..: 100%|██████████| 10/10 [00:00<00:00, 13.69it/s]\n"
     ]
    },
    {
     "name": "stdout",
     "output_type": "stream",
     "text": [
      "(3206, 11)\n"
     ]
    },
    {
     "name": "stderr",
     "output_type": "stream",
     "text": [
      "\r",
      "craw:  13%|█▎        | 39/300 [35:05<2:23:33, 33.00s/it]"
     ]
    },
    {
     "name": "stdout",
     "output_type": "stream",
     "text": [
      "영미네곱창전골 scroll\n"
     ]
    },
    {
     "name": "stderr",
     "output_type": "stream",
     "text": [
      "\n",
      "save..:   0%|          | 0/7 [00:00<?, ?it/s]\u001b[A"
     ]
    },
    {
     "name": "stdout",
     "output_type": "stream",
     "text": [
      "영미네곱창전골 7\n",
      "모든 리뷰 불러오기 시작...\n",
      "모든 리뷰 불러오기 완료!\n"
     ]
    },
    {
     "name": "stderr",
     "output_type": "stream",
     "text": [
      "save..: 100%|██████████| 7/7 [00:00<00:00, 33.65it/s]\n"
     ]
    },
    {
     "name": "stdout",
     "output_type": "stream",
     "text": [
      "(3213, 11)\n"
     ]
    },
    {
     "name": "stderr",
     "output_type": "stream",
     "text": [
      "\r",
      "craw:  13%|█▎        | 40/300 [35:35<2:18:56, 32.06s/it]"
     ]
    },
    {
     "name": "stdout",
     "output_type": "stream",
     "text": [
      "봉스부대찌개 scroll\n",
      "봉스부대찌개 61\n",
      "모든 리뷰 불러오기 시작...\n"
     ]
    },
    {
     "name": "stderr",
     "output_type": "stream",
     "text": [
      "\n",
      "save..:   0%|          | 0/61 [00:00<?, ?it/s]\u001b[A"
     ]
    },
    {
     "name": "stdout",
     "output_type": "stream",
     "text": [
      "모든 리뷰 불러오기 완료!\n"
     ]
    },
    {
     "name": "stderr",
     "output_type": "stream",
     "text": [
      "save..: 100%|██████████| 61/61 [00:02<00:00, 28.41it/s]\n"
     ]
    },
    {
     "name": "stdout",
     "output_type": "stream",
     "text": [
      "(3274, 11)\n"
     ]
    },
    {
     "name": "stderr",
     "output_type": "stream",
     "text": [
      "\r",
      "craw:  14%|█▎        | 41/300 [36:19<2:34:05, 35.70s/it]"
     ]
    },
    {
     "name": "stdout",
     "output_type": "stream",
     "text": [
      "골드레벨파스타&필라프 scroll\n",
      "골드레벨파스타&필라프 23\n",
      "모든 리뷰 불러오기 시작...\n"
     ]
    },
    {
     "name": "stderr",
     "output_type": "stream",
     "text": [
      "\n",
      "save..:   0%|          | 0/23 [00:00<?, ?it/s]\u001b[A"
     ]
    },
    {
     "name": "stdout",
     "output_type": "stream",
     "text": [
      "모든 리뷰 불러오기 완료!\n"
     ]
    },
    {
     "name": "stderr",
     "output_type": "stream",
     "text": [
      "save..: 100%|██████████| 23/23 [00:01<00:00, 18.41it/s]\n"
     ]
    },
    {
     "name": "stdout",
     "output_type": "stream",
     "text": [
      "(3297, 11)\n"
     ]
    },
    {
     "name": "stderr",
     "output_type": "stream",
     "text": [
      "\r",
      "craw:  14%|█▍        | 42/300 [37:18<3:03:01, 42.56s/it]"
     ]
    },
    {
     "name": "stdout",
     "output_type": "stream",
     "text": [
      "선굼터-답십리점 scroll\n",
      "선굼터-답십리점 78\n",
      "모든 리뷰 불러오기 시작...\n",
      "모든 리뷰 불러오기 완료!\n"
     ]
    },
    {
     "name": "stderr",
     "output_type": "stream",
     "text": [
      "\n",
      "save..:   0%|          | 0/78 [00:00<?, ?it/s]\u001b[A\n",
      "save..: 100%|██████████| 78/78 [00:03<00:00, 19.78it/s]\u001b[A\n"
     ]
    },
    {
     "name": "stdout",
     "output_type": "stream",
     "text": [
      "(3375, 11)\n"
     ]
    },
    {
     "name": "stderr",
     "output_type": "stream",
     "text": [
      "\r",
      "craw:  14%|█▍        | 43/300 [38:25<3:34:00, 49.96s/it]"
     ]
    },
    {
     "name": "stdout",
     "output_type": "stream",
     "text": [
      "마라천국-본점 scroll\n",
      "마라천국-본점 43\n",
      "모든 리뷰 불러오기 시작...\n"
     ]
    },
    {
     "name": "stderr",
     "output_type": "stream",
     "text": [
      "\n",
      "save..:   0%|          | 0/43 [00:00<?, ?it/s]\u001b[A"
     ]
    },
    {
     "name": "stdout",
     "output_type": "stream",
     "text": [
      "모든 리뷰 불러오기 완료!\n"
     ]
    },
    {
     "name": "stderr",
     "output_type": "stream",
     "text": [
      "save..: 100%|██████████| 43/43 [00:02<00:00, 18.59it/s]\n"
     ]
    },
    {
     "name": "stdout",
     "output_type": "stream",
     "text": [
      "(3418, 11)\n"
     ]
    },
    {
     "name": "stderr",
     "output_type": "stream",
     "text": [
      "\r",
      "craw:  15%|█▍        | 44/300 [39:24<3:44:41, 52.66s/it]"
     ]
    },
    {
     "name": "stdout",
     "output_type": "stream",
     "text": [
      "곱창이야기 scroll\n",
      "곱창이야기 149\n",
      "모든 리뷰 불러오기 시작...\n",
      "모든 리뷰 불러오기 완료!\n"
     ]
    },
    {
     "name": "stderr",
     "output_type": "stream",
     "text": [
      "\n",
      "save..:   0%|          | 0/149 [00:00<?, ?it/s]\u001b[A\n",
      "save..:  38%|███▊      | 57/149 [00:03<00:04, 18.80it/s]\u001b[A\n",
      "save..: 100%|██████████| 149/149 [00:08<00:00, 18.20it/s]\u001b[A\n"
     ]
    },
    {
     "name": "stdout",
     "output_type": "stream",
     "text": [
      "(3567, 11)\n"
     ]
    },
    {
     "name": "stderr",
     "output_type": "stream",
     "text": [
      "\r",
      "craw:  15%|█▌        | 45/300 [40:28<3:57:37, 55.91s/it]"
     ]
    },
    {
     "name": "stdout",
     "output_type": "stream",
     "text": [
      "1인용이태원부대찌개-청량리점 scroll\n",
      "1인용이태원부대찌개-청량리점 199\n",
      "모든 리뷰 불러오기 시작...\n",
      "모든 리뷰 불러오기 완료!\n"
     ]
    },
    {
     "name": "stderr",
     "output_type": "stream",
     "text": [
      "\n",
      "save..:   0%|          | 0/199 [00:00<?, ?it/s]\u001b[A\n",
      "save..:  30%|███       | 60/199 [00:03<00:07, 19.08it/s]\u001b[A\n",
      "save..:  64%|██████▍   | 127/199 [00:06<00:03, 19.91it/s]\u001b[A\n",
      "save..: 100%|██████████| 199/199 [00:09<00:00, 21.49it/s]\u001b[A\n"
     ]
    },
    {
     "name": "stdout",
     "output_type": "stream",
     "text": [
      "(3766, 11)\n"
     ]
    },
    {
     "name": "stderr",
     "output_type": "stream",
     "text": [
      "\r",
      "craw:  15%|█▌        | 46/300 [41:46<4:25:18, 62.67s/it]"
     ]
    },
    {
     "name": "stdout",
     "output_type": "stream",
     "text": [
      "올떡-외대점 scroll\n",
      "올떡-외대점 1070\n",
      "모든 리뷰 불러오기 시작...\n",
      "모든 리뷰 불러오기 완료!\n"
     ]
    },
    {
     "name": "stderr",
     "output_type": "stream",
     "text": [
      "\n",
      "save..:   0%|          | 0/1070 [00:00<?, ?it/s]\u001b[A\n",
      "save..:   4%|▎         | 40/1070 [00:03<01:17, 13.30it/s]\u001b[A\n",
      "save..:   9%|▊         | 92/1070 [00:06<01:08, 14.26it/s]\u001b[A\n",
      "save..:  13%|█▎        | 139/1070 [00:09<01:03, 14.58it/s]\u001b[A\n",
      "save..:  16%|█▋        | 176/1070 [00:12<01:04, 13.81it/s]\u001b[A\n",
      "save..:  20%|██        | 218/1070 [00:15<01:01, 13.76it/s]\u001b[A\n",
      "save..:  24%|██▍       | 256/1070 [00:18<01:01, 13.34it/s]\u001b[A\n",
      "save..:  28%|██▊       | 296/1070 [00:21<00:58, 13.33it/s]\u001b[A\n",
      "save..:  32%|███▏      | 340/1070 [00:24<00:53, 13.64it/s]\u001b[A\n",
      "save..:  35%|███▌      | 379/1070 [00:27<00:54, 12.72it/s]\u001b[A\n",
      "save..:  39%|███▉      | 417/1070 [00:30<00:51, 12.56it/s]\u001b[A\n",
      "save..:  44%|████▍     | 475/1070 [00:33<00:42, 14.02it/s]\u001b[A\n",
      "save..:  49%|████▉     | 526/1070 [00:36<00:36, 14.78it/s]\u001b[A\n",
      "save..:  53%|█████▎    | 572/1070 [00:40<00:34, 14.36it/s]\u001b[A\n",
      "save..:  58%|█████▊    | 616/1070 [00:43<00:31, 14.29it/s]\u001b[A\n",
      "save..:  62%|██████▏   | 660/1070 [00:46<00:29, 14.05it/s]\u001b[A\n",
      "save..:  67%|██████▋   | 713/1070 [00:49<00:24, 14.81it/s]\u001b[A\n",
      "save..:  71%|███████   | 759/1070 [00:53<00:21, 14.39it/s]\u001b[A\n",
      "save..:  75%|███████▌  | 806/1070 [00:56<00:17, 14.70it/s]\u001b[A\n",
      "save..:  75%|███████▌  | 806/1070 [01:15<00:17, 14.70it/s]\u001b[A\n",
      "save..:  76%|███████▌  | 813/1070 [03:07<24:19,  5.68s/it]\u001b[A\n",
      "save..:  80%|████████  | 858/1070 [03:11<14:07,  4.00s/it]\u001b[A\n",
      "save..:  83%|████████▎ | 890/1070 [03:14<08:28,  2.83s/it]\u001b[A\n",
      "save..:  87%|████████▋ | 930/1070 [03:17<04:40,  2.00s/it]\u001b[A\n",
      "save..:  90%|████████▉ | 962/1070 [03:20<02:34,  1.43s/it]\u001b[A\n",
      "save..: 100%|██████████| 1070/1070 [03:24<00:00,  5.24it/s]\u001b[A\n"
     ]
    },
    {
     "name": "stdout",
     "output_type": "stream",
     "text": [
      "(4836, 11)\n"
     ]
    },
    {
     "name": "stderr",
     "output_type": "stream",
     "text": [
      "\r",
      "craw:  16%|█▌        | 47/300 [49:41<13:06:04, 186.42s/it]"
     ]
    },
    {
     "name": "stdout",
     "output_type": "stream",
     "text": [
      "1인순살자박도리탕-묵동점 scroll\n",
      "1인순살자박도리탕-묵동점 141\n",
      "모든 리뷰 불러오기 시작...\n",
      "모든 리뷰 불러오기 완료!\n"
     ]
    },
    {
     "name": "stderr",
     "output_type": "stream",
     "text": [
      "\n",
      "save..:   0%|          | 0/141 [00:00<?, ?it/s]\u001b[A\n",
      "save..:  21%|██        | 29/141 [00:03<00:11,  9.48it/s]\u001b[A\n",
      "save..: 100%|██████████| 141/141 [00:08<00:00, 16.11it/s][A\n"
     ]
    },
    {
     "name": "stdout",
     "output_type": "stream",
     "text": [
      "(4977, 11)\n"
     ]
    },
    {
     "name": "stderr",
     "output_type": "stream",
     "text": [
      "\r",
      "craw:  16%|█▌        | 48/300 [50:36<10:17:05, 146.93s/it]"
     ]
    },
    {
     "name": "stdout",
     "output_type": "stream",
     "text": [
      "심봉사도로케-묵동화랑점 scroll\n"
     ]
    },
    {
     "name": "stderr",
     "output_type": "stream",
     "text": [
      "\n",
      "save..:   0%|          | 0/6 [00:00<?, ?it/s]\u001b[A"
     ]
    },
    {
     "name": "stdout",
     "output_type": "stream",
     "text": [
      "심봉사도로케-묵동화랑점 6\n",
      "모든 리뷰 불러오기 시작...\n",
      "모든 리뷰 불러오기 완료!\n"
     ]
    },
    {
     "name": "stderr",
     "output_type": "stream",
     "text": [
      "save..: 100%|██████████| 6/6 [00:00<00:00, 48.34it/s]\n"
     ]
    },
    {
     "name": "stdout",
     "output_type": "stream",
     "text": [
      "(4983, 11)\n"
     ]
    },
    {
     "name": "stderr",
     "output_type": "stream",
     "text": [
      "\r",
      "craw:  16%|█▋        | 49/300 [51:30<8:17:42, 118.98s/it] "
     ]
    },
    {
     "name": "stdout",
     "output_type": "stream",
     "text": [
      "JMT아구찜 scroll\n"
     ]
    },
    {
     "name": "stderr",
     "output_type": "stream",
     "text": [
      "\n",
      "save..: 100%|██████████| 2/2 [00:00<00:00, 1197.18it/s]"
     ]
    },
    {
     "name": "stdout",
     "output_type": "stream",
     "text": [
      "JMT아구찜 2\n",
      "모든 리뷰 불러오기 시작...\n",
      "모든 리뷰 불러오기 완료!\n",
      "(4985, 11)\n"
     ]
    },
    {
     "name": "stderr",
     "output_type": "stream",
     "text": [
      "\n",
      "craw:  17%|█▋        | 50/300 [52:16<6:44:54, 97.18s/it] "
     ]
    },
    {
     "name": "stdout",
     "output_type": "stream",
     "text": [
      "오태식해바라기치킨-동대문점 scroll\n"
     ]
    },
    {
     "name": "stderr",
     "output_type": "stream",
     "text": [
      "\r",
      "craw:  17%|█▋        | 51/300 [52:43<5:15:06, 75.93s/it]"
     ]
    },
    {
     "name": "stdout",
     "output_type": "stream",
     "text": [
      "wrong shop\n",
      "고수찜닭-외대점 scroll\n",
      "고수찜닭-외대점 304\n",
      "모든 리뷰 불러오기 시작...\n",
      "모든 리뷰 불러오기 완료!\n"
     ]
    },
    {
     "name": "stderr",
     "output_type": "stream",
     "text": [
      "\n",
      "save..:   0%|          | 0/304 [00:00<?, ?it/s]\u001b[A\n",
      "save..:  20%|██        | 62/304 [00:03<00:11, 20.26it/s]\u001b[A\n",
      "save..:  35%|███▌      | 107/304 [00:06<00:11, 17.77it/s]\u001b[A\n",
      "save..:  55%|█████▍    | 167/304 [00:09<00:07, 18.38it/s]\u001b[A\n",
      "save..: 100%|██████████| 304/304 [00:14<00:00, 20.28it/s]\u001b[A\n"
     ]
    },
    {
     "name": "stdout",
     "output_type": "stream",
     "text": [
      "(5289, 11)\n"
     ]
    },
    {
     "name": "stderr",
     "output_type": "stream",
     "text": [
      "\r",
      "craw:  17%|█▋        | 52/300 [54:15<5:34:49, 81.01s/it]"
     ]
    },
    {
     "name": "stdout",
     "output_type": "stream",
     "text": [
      "스케치두마리치킨-면목점 scroll\n",
      "스케치두마리치킨-면목점 306\n",
      "모든 리뷰 불러오기 시작...\n",
      "모든 리뷰 불러오기 완료!\n"
     ]
    },
    {
     "name": "stderr",
     "output_type": "stream",
     "text": [
      "\n",
      "save..:   0%|          | 0/306 [00:00<?, ?it/s]\u001b[A\n",
      "save..: 100%|██████████| 306/306 [00:06<00:00, 50.21it/s][A\n"
     ]
    },
    {
     "name": "stdout",
     "output_type": "stream",
     "text": [
      "(5595, 11)\n"
     ]
    },
    {
     "name": "stderr",
     "output_type": "stream",
     "text": [
      "\r",
      "craw:  18%|█▊        | 53/300 [55:59<6:01:45, 87.88s/it]"
     ]
    },
    {
     "name": "stdout",
     "output_type": "stream",
     "text": [
      "오케이삼겹살&수육 scroll\n",
      "오케이삼겹살&수육 12\n",
      "모든 리뷰 불러오기 시작...\n"
     ]
    },
    {
     "name": "stderr",
     "output_type": "stream",
     "text": [
      "\n",
      "save..:   0%|          | 0/12 [00:00<?, ?it/s]\u001b[A"
     ]
    },
    {
     "name": "stdout",
     "output_type": "stream",
     "text": [
      "모든 리뷰 불러오기 완료!\n"
     ]
    },
    {
     "name": "stderr",
     "output_type": "stream",
     "text": [
      "save..: 100%|██████████| 12/12 [00:00<00:00, 19.96it/s]\n"
     ]
    },
    {
     "name": "stdout",
     "output_type": "stream",
     "text": [
      "(5607, 11)\n"
     ]
    },
    {
     "name": "stderr",
     "output_type": "stream",
     "text": [
      "\r",
      "craw:  18%|█▊        | 54/300 [56:46<5:10:13, 75.67s/it]"
     ]
    },
    {
     "name": "stdout",
     "output_type": "stream",
     "text": [
      "백종원의인생설렁탕-경희대점 scroll\n",
      "백종원의인생설렁탕-경희대점 72\n",
      "모든 리뷰 불러오기 시작...\n",
      "모든 리뷰 불러오기 완료!\n"
     ]
    },
    {
     "name": "stderr",
     "output_type": "stream",
     "text": [
      "\n",
      "save..:   0%|          | 0/72 [00:00<?, ?it/s]\u001b[A\n",
      "save..: 100%|██████████| 72/72 [00:03<00:00, 22.34it/s]\u001b[A\n"
     ]
    },
    {
     "name": "stdout",
     "output_type": "stream",
     "text": [
      "(5679, 11)\n"
     ]
    },
    {
     "name": "stderr",
     "output_type": "stream",
     "text": [
      "\r",
      "craw:  18%|█▊        | 55/300 [57:16<4:12:56, 61.95s/it]"
     ]
    },
    {
     "name": "stdout",
     "output_type": "stream",
     "text": [
      "짜앤짬-면목점 scroll\n"
     ]
    },
    {
     "name": "stderr",
     "output_type": "stream",
     "text": [
      "\n",
      "save..:   0%|          | 0/5 [00:00<?, ?it/s]\u001b[A"
     ]
    },
    {
     "name": "stdout",
     "output_type": "stream",
     "text": [
      "짜앤짬-면목점 5\n",
      "모든 리뷰 불러오기 시작...\n",
      "모든 리뷰 불러오기 완료!\n"
     ]
    },
    {
     "name": "stderr",
     "output_type": "stream",
     "text": [
      "save..: 100%|██████████| 5/5 [00:00<00:00, 77.75it/s]\n"
     ]
    },
    {
     "name": "stdout",
     "output_type": "stream",
     "text": [
      "(5684, 11)\n"
     ]
    },
    {
     "name": "stderr",
     "output_type": "stream",
     "text": [
      "\r",
      "craw:  19%|█▊        | 56/300 [58:11<4:03:21, 59.84s/it]"
     ]
    },
    {
     "name": "stdout",
     "output_type": "stream",
     "text": [
      "락원오리주물럭&삼계탕 scroll\n"
     ]
    },
    {
     "name": "stderr",
     "output_type": "stream",
     "text": [
      "\n",
      "save..:   0%|          | 0/1 [00:00<?, ?it/s]\u001b[A"
     ]
    },
    {
     "name": "stdout",
     "output_type": "stream",
     "text": [
      "락원오리주물럭&삼계탕 1\n",
      "모든 리뷰 불러오기 시작...\n",
      "모든 리뷰 불러오기 완료!\n"
     ]
    },
    {
     "name": "stderr",
     "output_type": "stream",
     "text": [
      "save..: 100%|██████████| 1/1 [00:00<00:00,  7.59it/s]\n"
     ]
    },
    {
     "name": "stdout",
     "output_type": "stream",
     "text": [
      "(5685, 11)\n"
     ]
    },
    {
     "name": "stderr",
     "output_type": "stream",
     "text": [
      "\r",
      "craw:  19%|█▉        | 57/300 [58:39<3:23:26, 50.23s/it]"
     ]
    },
    {
     "name": "stdout",
     "output_type": "stream",
     "text": [
      "승희장수곱창 scroll\n",
      "승희장수곱창 12\n",
      "모든 리뷰 불러오기 시작...\n"
     ]
    },
    {
     "name": "stderr",
     "output_type": "stream",
     "text": [
      "\n",
      "save..:   0%|          | 0/12 [00:00<?, ?it/s]\u001b[A"
     ]
    },
    {
     "name": "stdout",
     "output_type": "stream",
     "text": [
      "모든 리뷰 불러오기 완료!\n"
     ]
    },
    {
     "name": "stderr",
     "output_type": "stream",
     "text": [
      "save..: 100%|██████████| 12/12 [00:01<00:00, 10.36it/s]\n"
     ]
    },
    {
     "name": "stdout",
     "output_type": "stream",
     "text": [
      "(5697, 11)\n"
     ]
    },
    {
     "name": "stderr",
     "output_type": "stream",
     "text": [
      "\r",
      "craw:  19%|█▉        | 58/300 [59:20<3:11:20, 47.44s/it]"
     ]
    },
    {
     "name": "stdout",
     "output_type": "stream",
     "text": [
      "네네치킨-청량리점 scroll\n",
      "네네치킨-청량리점 2029\n",
      "모든 리뷰 불러오기 시작...\n",
      "모든 리뷰 불러오기 완료!\n"
     ]
    },
    {
     "name": "stderr",
     "output_type": "stream",
     "text": [
      "\n",
      "save..:   0%|          | 0/2029 [00:00<?, ?it/s]\u001b[A\n",
      "save..:   2%|▏         | 47/2029 [00:03<02:11, 15.02it/s]\u001b[A\n",
      "save..:   5%|▍         | 95/2029 [00:06<02:06, 15.30it/s]\u001b[A\n",
      "save..:   7%|▋         | 152/2029 [00:09<01:55, 16.20it/s]\u001b[A\n",
      "save..:  10%|█         | 213/2029 [00:12<01:45, 17.20it/s]\u001b[A\n",
      "save..:  14%|█▍        | 281/2029 [00:15<01:34, 18.47it/s]\u001b[A\n",
      "save..:  17%|█▋        | 343/2029 [00:18<01:28, 19.01it/s]\u001b[A\n",
      "save..:  20%|█▉        | 397/2029 [00:21<01:27, 18.69it/s]\u001b[A\n",
      "save..:  22%|██▏       | 456/2029 [00:24<01:23, 18.94it/s]\u001b[A\n",
      "save..:  25%|██▌       | 511/2029 [00:27<01:24, 17.90it/s]\u001b[A\n",
      "save..:  29%|██▉       | 592/2029 [00:30<01:12, 19.82it/s]\u001b[A\n",
      "save..:  34%|███▎      | 680/2029 [00:34<01:02, 21.70it/s]\u001b[A\n",
      "save..:  38%|███▊      | 770/2029 [00:37<00:53, 23.41it/s]\u001b[A\n",
      "save..:  43%|████▎     | 865/2029 [00:40<00:46, 25.29it/s]\u001b[A\n",
      "save..:  47%|████▋     | 956/2029 [00:43<00:40, 26.43it/s]\u001b[A\n",
      "save..:  52%|█████▏    | 1052/2029 [00:46<00:35, 27.86it/s]\u001b[A\n",
      "save..:  56%|█████▌    | 1139/2029 [00:49<00:33, 26.51it/s]\u001b[A\n",
      "save..:  62%|██████▏   | 1255/2029 [00:53<00:26, 29.12it/s]\u001b[A\n",
      "save..:  66%|██████▋   | 1347/2029 [00:56<00:24, 27.84it/s]\u001b[A\n",
      "save..:  73%|███████▎  | 1487/2029 [00:59<00:17, 31.62it/s]\u001b[A\n",
      "save..:  79%|███████▊  | 1596/2029 [01:02<00:13, 32.70it/s]\u001b[A\n",
      "save..:  85%|████████▍ | 1720/2029 [01:05<00:08, 34.70it/s]\u001b[A\n",
      "save..: 100%|██████████| 2029/2029 [01:11<00:00, 28.46it/s]\u001b[A\n"
     ]
    },
    {
     "name": "stdout",
     "output_type": "stream",
     "text": [
      "(7726, 11)\n"
     ]
    },
    {
     "name": "stderr",
     "output_type": "stream",
     "text": [
      "\r",
      "craw:  20%|█▉        | 59/300 [1:09:43<14:43:33, 219.97s/it]"
     ]
    },
    {
     "name": "stdout",
     "output_type": "stream",
     "text": [
      "샤리호 scroll\n",
      "샤리호 116\n",
      "모든 리뷰 불러오기 시작...\n",
      "모든 리뷰 불러오기 완료!\n"
     ]
    },
    {
     "name": "stderr",
     "output_type": "stream",
     "text": [
      "\n",
      "save..:   0%|          | 0/116 [00:00<?, ?it/s]\u001b[A\n",
      "save..:  37%|███▋      | 43/116 [00:03<00:05, 14.06it/s]\u001b[A\n",
      "save..: 100%|██████████| 116/116 [00:07<00:00, 14.73it/s][A\n"
     ]
    },
    {
     "name": "stdout",
     "output_type": "stream",
     "text": [
      "(7842, 11)\n"
     ]
    },
    {
     "name": "stderr",
     "output_type": "stream",
     "text": [
      "\r",
      "craw:  20%|██        | 60/300 [1:10:57<11:44:54, 176.23s/it]"
     ]
    },
    {
     "name": "stdout",
     "output_type": "stream",
     "text": [
      "커리146 scroll\n",
      "커리146 783\n",
      "모든 리뷰 불러오기 시작...\n",
      "모든 리뷰 불러오기 완료!\n"
     ]
    },
    {
     "name": "stderr",
     "output_type": "stream",
     "text": [
      "\n",
      "save..:   0%|          | 0/783 [00:00<?, ?it/s]\u001b[A\n",
      "save..:   7%|▋         | 57/783 [00:03<00:38, 18.80it/s]\u001b[A\n",
      "save..:  15%|█▌        | 118/783 [00:06<00:34, 19.18it/s]\u001b[A\n",
      "save..:  23%|██▎       | 179/783 [00:09<00:31, 19.43it/s]\u001b[A\n",
      "save..:  30%|██▉       | 233/783 [00:12<00:29, 18.91it/s]\u001b[A\n",
      "save..:  35%|███▌      | 277/783 [00:15<00:30, 16.85it/s]\u001b[A\n",
      "save..:  42%|████▏     | 330/783 [00:18<00:26, 17.08it/s]\u001b[A\n",
      "save..:  49%|████▊     | 381/783 [00:21<00:23, 17.00it/s]\u001b[A\n",
      "save..:  55%|█████▌    | 432/783 [00:24<00:21, 16.70it/s]\u001b[A\n",
      "save..:  62%|██████▏   | 486/783 [00:27<00:17, 16.93it/s]\u001b[A\n",
      "save..:  73%|███████▎  | 570/783 [00:30<00:11, 19.16it/s]\u001b[A\n",
      "save..:  82%|████████▏ | 639/783 [00:33<00:07, 20.13it/s]\u001b[A\n",
      "save..: 100%|██████████| 783/783 [00:39<00:00, 19.90it/s]\u001b[A\n"
     ]
    },
    {
     "name": "stdout",
     "output_type": "stream",
     "text": [
      "(8625, 11)\n"
     ]
    },
    {
     "name": "stderr",
     "output_type": "stream",
     "text": [
      "\r",
      "craw:  20%|██        | 61/300 [1:14:46<12:45:01, 192.06s/it]"
     ]
    },
    {
     "name": "stdout",
     "output_type": "stream",
     "text": [
      "청량리남원통닭 scroll\n"
     ]
    },
    {
     "name": "stderr",
     "output_type": "stream",
     "text": [
      "\n",
      "save..: 100%|██████████| 3/3 [00:00<00:00, 47.66it/s]"
     ]
    },
    {
     "name": "stdout",
     "output_type": "stream",
     "text": [
      "청량리남원통닭 3\n",
      "모든 리뷰 불러오기 시작...\n",
      "모든 리뷰 불러오기 완료!\n",
      "(8628, 11)\n"
     ]
    },
    {
     "name": "stderr",
     "output_type": "stream",
     "text": [
      "\n",
      "craw:  21%|██        | 62/300 [1:15:28<9:44:04, 147.25s/it] "
     ]
    },
    {
     "name": "stdout",
     "output_type": "stream",
     "text": [
      "홈런토스트-용마산역점 scroll\n",
      "홈런토스트-용마산역점 56\n",
      "모든 리뷰 불러오기 시작...\n",
      "모든 리뷰 불러오기 완료!\n"
     ]
    },
    {
     "name": "stderr",
     "output_type": "stream",
     "text": [
      "\n",
      "save..: 100%|██████████| 56/56 [00:01<00:00, 32.42it/s]\n"
     ]
    },
    {
     "name": "stdout",
     "output_type": "stream",
     "text": [
      "(8684, 11)\n"
     ]
    },
    {
     "name": "stderr",
     "output_type": "stream",
     "text": [
      "\r",
      "craw:  21%|██        | 63/300 [1:16:07<7:32:50, 114.64s/it]"
     ]
    },
    {
     "name": "stdout",
     "output_type": "stream",
     "text": [
      "라황상마라탕-회기본점 scroll\n"
     ]
    },
    {
     "name": "stderr",
     "output_type": "stream",
     "text": [
      "\r",
      "craw:  21%|██▏       | 64/300 [1:16:13<5:22:21, 81.96s/it] "
     ]
    },
    {
     "name": "stdout",
     "output_type": "stream",
     "text": [
      "wrong shop\n",
      "서래갈매기살튀김ㅅㄹㅁㅈ scroll\n"
     ]
    },
    {
     "name": "stderr",
     "output_type": "stream",
     "text": [
      "\n",
      "save..:   0%|          | 0/5 [00:00<?, ?it/s]\u001b[A"
     ]
    },
    {
     "name": "stdout",
     "output_type": "stream",
     "text": [
      "서래갈매기살튀김ㅅㄹㅁㅈ 5\n",
      "모든 리뷰 불러오기 시작...\n",
      "모든 리뷰 불러오기 완료!\n"
     ]
    },
    {
     "name": "stderr",
     "output_type": "stream",
     "text": [
      "save..: 100%|██████████| 5/5 [00:00<00:00, 27.40it/s]\n"
     ]
    },
    {
     "name": "stdout",
     "output_type": "stream",
     "text": [
      "(8689, 11)\n"
     ]
    },
    {
     "name": "stderr",
     "output_type": "stream",
     "text": [
      "\r",
      "craw:  22%|██▏       | 65/300 [1:16:58<4:37:40, 70.90s/it]"
     ]
    },
    {
     "name": "stdout",
     "output_type": "stream",
     "text": [
      "센도수산 scroll\n"
     ]
    },
    {
     "name": "stderr",
     "output_type": "stream",
     "text": [
      "\n",
      "save..:   0%|          | 0/2 [00:00<?, ?it/s]\u001b[A"
     ]
    },
    {
     "name": "stdout",
     "output_type": "stream",
     "text": [
      "센도수산 2\n",
      "모든 리뷰 불러오기 시작...\n",
      "모든 리뷰 불러오기 완료!\n"
     ]
    },
    {
     "name": "stderr",
     "output_type": "stream",
     "text": [
      "save..: 100%|██████████| 2/2 [00:00<00:00, 10.14it/s]\n"
     ]
    },
    {
     "name": "stdout",
     "output_type": "stream",
     "text": [
      "(8691, 11)\n"
     ]
    },
    {
     "name": "stderr",
     "output_type": "stream",
     "text": [
      "\r",
      "craw:  22%|██▏       | 66/300 [1:17:48<4:11:51, 64.58s/it]"
     ]
    },
    {
     "name": "stdout",
     "output_type": "stream",
     "text": [
      "풍년오리&추어탕 scroll\n"
     ]
    },
    {
     "name": "stderr",
     "output_type": "stream",
     "text": [
      "\n",
      "save..:   0%|          | 0/2 [00:00<?, ?it/s]\u001b[A"
     ]
    },
    {
     "name": "stdout",
     "output_type": "stream",
     "text": [
      "풍년오리&추어탕 2\n",
      "모든 리뷰 불러오기 시작...\n",
      "모든 리뷰 불러오기 완료!\n"
     ]
    },
    {
     "name": "stderr",
     "output_type": "stream",
     "text": [
      "save..: 100%|██████████| 2/2 [00:00<00:00,  9.74it/s]\n"
     ]
    },
    {
     "name": "stdout",
     "output_type": "stream",
     "text": [
      "(8693, 11)\n"
     ]
    },
    {
     "name": "stderr",
     "output_type": "stream",
     "text": [
      "\r",
      "craw:  22%|██▏       | 67/300 [1:18:18<3:30:28, 54.20s/it]"
     ]
    },
    {
     "name": "stdout",
     "output_type": "stream",
     "text": [
      "굽네치킨&피자-시립대점 scroll\n",
      "굽네치킨&피자-시립대점 631\n",
      "모든 리뷰 불러오기 시작...\n",
      "모든 리뷰 불러오기 완료!\n"
     ]
    },
    {
     "name": "stderr",
     "output_type": "stream",
     "text": [
      "\n",
      "save..:   0%|          | 0/631 [00:00<?, ?it/s]\u001b[A\n",
      "save..:  10%|█         | 64/631 [00:03<00:27, 20.80it/s]\u001b[A\n",
      "save..:  16%|█▌        | 100/631 [00:06<00:31, 16.88it/s]\u001b[A\n",
      "save..:  21%|██        | 132/631 [00:09<00:35, 14.08it/s]\u001b[A\n",
      "save..:  30%|██▉       | 188/631 [00:12<00:29, 15.13it/s]\u001b[A\n",
      "save..:  39%|███▉      | 245/631 [00:15<00:23, 16.10it/s]\u001b[A\n",
      "save..:  51%|█████     | 319/631 [00:18<00:17, 17.97it/s]\u001b[A\n",
      "save..:  63%|██████▎   | 399/631 [00:21<00:11, 19.88it/s]\u001b[A\n",
      "save..:  76%|███████▋  | 482/631 [00:24<00:06, 21.71it/s]\u001b[A\n",
      "save..: 100%|██████████| 631/631 [00:29<00:00, 21.55it/s]\u001b[A\n"
     ]
    },
    {
     "name": "stdout",
     "output_type": "stream",
     "text": [
      "(9324, 11)\n"
     ]
    },
    {
     "name": "stderr",
     "output_type": "stream",
     "text": [
      "\r",
      "craw:  23%|██▎       | 68/300 [1:21:19<5:57:39, 92.50s/it]"
     ]
    },
    {
     "name": "stdout",
     "output_type": "stream",
     "text": [
      "어스담 scroll\n",
      "어스담 55\n",
      "모든 리뷰 불러오기 시작...\n",
      "모든 리뷰 불러오기 완료!\n"
     ]
    },
    {
     "name": "stderr",
     "output_type": "stream",
     "text": [
      "\n",
      "save..:   0%|          | 0/55 [00:00<?, ?it/s]\u001b[A\n",
      "save..: 100%|██████████| 55/55 [00:03<00:00, 17.93it/s]\u001b[A\n"
     ]
    },
    {
     "name": "stdout",
     "output_type": "stream",
     "text": [
      "(9379, 11)\n"
     ]
    },
    {
     "name": "stderr",
     "output_type": "stream",
     "text": [
      "\r",
      "craw:  23%|██▎       | 69/300 [1:22:06<5:02:43, 78.63s/it]"
     ]
    },
    {
     "name": "stdout",
     "output_type": "stream",
     "text": [
      "토리수제돈까스&스파게티 scroll\n",
      "토리수제돈까스&스파게티 21\n",
      "모든 리뷰 불러오기 시작...\n"
     ]
    },
    {
     "name": "stderr",
     "output_type": "stream",
     "text": [
      "\n",
      "save..:   0%|          | 0/21 [00:00<?, ?it/s]\u001b[A"
     ]
    },
    {
     "name": "stdout",
     "output_type": "stream",
     "text": [
      "모든 리뷰 불러오기 완료!\n"
     ]
    },
    {
     "name": "stderr",
     "output_type": "stream",
     "text": [
      "save..: 100%|██████████| 21/21 [00:00<00:00, 35.44it/s]\n"
     ]
    },
    {
     "name": "stdout",
     "output_type": "stream",
     "text": [
      "(9400, 11)\n"
     ]
    },
    {
     "name": "stderr",
     "output_type": "stream",
     "text": [
      "\r",
      "craw:  23%|██▎       | 70/300 [1:23:11<4:45:29, 74.48s/it]"
     ]
    },
    {
     "name": "stdout",
     "output_type": "stream",
     "text": [
      "떡깨비-동대문점 scroll\n",
      "떡깨비-동대문점 450\n",
      "모든 리뷰 불러오기 시작...\n",
      "모든 리뷰 불러오기 완료!\n"
     ]
    },
    {
     "name": "stderr",
     "output_type": "stream",
     "text": [
      "\n",
      "save..:   0%|          | 0/450 [00:00<?, ?it/s]\u001b[A\n",
      "save..:  10%|▉         | 43/450 [00:03<00:29, 13.63it/s]\u001b[A\n",
      "save..:  20%|██        | 90/450 [00:06<00:25, 13.87it/s]\u001b[A\n",
      "save..:  32%|███▏      | 143/450 [00:09<00:20, 14.76it/s]\u001b[A\n",
      "save..:  42%|████▏     | 191/450 [00:12<00:17, 15.05it/s]\u001b[A\n",
      "save..:  57%|█████▋    | 258/450 [00:15<00:11, 16.65it/s]\u001b[A\n",
      "save..:  67%|██████▋   | 303/450 [00:19<00:09, 14.76it/s]\u001b[A\n",
      "save..:  79%|███████▉  | 356/450 [00:22<00:06, 15.48it/s]\u001b[A\n",
      "save..: 100%|██████████| 450/450 [00:28<00:00, 15.99it/s]\u001b[A\n"
     ]
    },
    {
     "name": "stdout",
     "output_type": "stream",
     "text": [
      "(9850, 11)\n"
     ]
    },
    {
     "name": "stderr",
     "output_type": "stream",
     "text": [
      "\r",
      "craw:  24%|██▎       | 71/300 [1:25:36<6:06:01, 95.90s/it]"
     ]
    },
    {
     "name": "stdout",
     "output_type": "stream",
     "text": [
      "조마루감자탕-석관점 scroll\n",
      "조마루감자탕-석관점 22\n",
      "모든 리뷰 불러오기 시작...\n",
      "모든 리뷰 불러오기 완료!\n"
     ]
    },
    {
     "name": "stderr",
     "output_type": "stream",
     "text": [
      "\n",
      "save..: 100%|██████████| 22/22 [00:00<00:00, 41.45it/s]\n"
     ]
    },
    {
     "name": "stdout",
     "output_type": "stream",
     "text": [
      "(9872, 11)\n"
     ]
    },
    {
     "name": "stderr",
     "output_type": "stream",
     "text": [
      "\r",
      "craw:  24%|██▍       | 72/300 [1:25:56<4:37:39, 73.07s/it]"
     ]
    },
    {
     "name": "stdout",
     "output_type": "stream",
     "text": [
      "청담짝태&연어 scroll\n",
      "청담짝태&연어 22\n",
      "모든 리뷰 불러오기 시작...\n"
     ]
    },
    {
     "name": "stderr",
     "output_type": "stream",
     "text": [
      "\n",
      "save..:   0%|          | 0/22 [00:00<?, ?it/s]\u001b[A"
     ]
    },
    {
     "name": "stdout",
     "output_type": "stream",
     "text": [
      "모든 리뷰 불러오기 완료!\n"
     ]
    },
    {
     "name": "stderr",
     "output_type": "stream",
     "text": [
      "save..: 100%|██████████| 22/22 [00:01<00:00, 13.62it/s]\n"
     ]
    },
    {
     "name": "stdout",
     "output_type": "stream",
     "text": [
      "(9894, 11)\n"
     ]
    },
    {
     "name": "stderr",
     "output_type": "stream",
     "text": [
      "\r",
      "craw:  24%|██▍       | 73/300 [1:27:01<4:26:31, 70.45s/it]"
     ]
    },
    {
     "name": "stdout",
     "output_type": "stream",
     "text": [
      "네네치킨-석관점 scroll\n",
      "네네치킨-석관점 726\n",
      "모든 리뷰 불러오기 시작...\n",
      "모든 리뷰 불러오기 완료!\n"
     ]
    },
    {
     "name": "stderr",
     "output_type": "stream",
     "text": [
      "\n",
      "save..:   0%|          | 0/726 [00:00<?, ?it/s]\u001b[A\n",
      "save..:   9%|▉         | 68/726 [00:03<00:29, 22.38it/s]\u001b[A\n",
      "save..:  17%|█▋        | 124/726 [00:06<00:28, 21.12it/s]\u001b[A\n",
      "save..:  24%|██▍       | 175/726 [00:09<00:28, 19.55it/s]\u001b[A\n",
      "save..:  31%|███       | 222/726 [00:12<00:27, 18.15it/s]\u001b[A\n",
      "save..:  39%|███▊      | 280/726 [00:15<00:24, 18.39it/s]\u001b[A\n",
      "save..:  51%|█████     | 369/726 [00:18<00:17, 20.72it/s]\u001b[A\n",
      "save..:  65%|██████▌   | 473/726 [00:21<00:10, 23.56it/s]\u001b[A\n",
      "save..: 100%|██████████| 726/726 [00:26<00:00, 26.97it/s]\u001b[A\n"
     ]
    },
    {
     "name": "stdout",
     "output_type": "stream",
     "text": [
      "(10620, 11)\n"
     ]
    },
    {
     "name": "stderr",
     "output_type": "stream",
     "text": [
      "\r",
      "craw:  25%|██▍       | 74/300 [1:30:33<7:06:03, 113.11s/it]"
     ]
    },
    {
     "name": "stdout",
     "output_type": "stream",
     "text": [
      "진성각 scroll\n",
      "진성각 2700\n",
      "모든 리뷰 불러오기 시작...\n",
      "모든 리뷰 불러오기 완료!\n"
     ]
    },
    {
     "name": "stderr",
     "output_type": "stream",
     "text": [
      "\n",
      "save..:   0%|          | 0/2700 [00:00<?, ?it/s]\u001b[A\n",
      "save..:   2%|▏         | 51/2700 [00:03<02:37, 16.78it/s]\u001b[A\n",
      "save..:   4%|▎         | 97/2700 [00:06<02:40, 16.24it/s]\u001b[A\n",
      "save..:   5%|▌         | 138/2700 [00:09<02:49, 15.10it/s]\u001b[A\n",
      "save..:   7%|▋         | 186/2700 [00:12<02:44, 15.28it/s]\u001b[A\n",
      "save..:   9%|▊         | 230/2700 [00:15<02:44, 15.03it/s]\u001b[A\n",
      "save..:  11%|█         | 300/2700 [00:18<02:23, 16.75it/s]\u001b[A\n",
      "save..:  13%|█▎        | 347/2700 [00:21<02:24, 16.29it/s]\u001b[A\n",
      "save..:  15%|█▌        | 412/2700 [00:24<02:10, 17.57it/s]\u001b[A\n",
      "save..:  19%|█▉        | 507/2700 [00:27<01:48, 20.23it/s]\u001b[A\n",
      "save..:  21%|██▏       | 580/2700 [00:30<01:39, 21.21it/s]\u001b[A\n",
      "save..:  24%|██▍       | 649/2700 [00:33<01:34, 21.67it/s]\u001b[A\n",
      "save..:  27%|██▋       | 740/2700 [00:36<01:23, 23.60it/s]\u001b[A\n",
      "save..:  31%|███       | 827/2700 [00:39<01:15, 24.91it/s]\u001b[A\n",
      "save..:  34%|███▍      | 924/2700 [00:42<01:06, 26.73it/s]\u001b[A\n",
      "save..:  37%|███▋      | 1008/2700 [00:46<01:06, 25.43it/s]\u001b[A\n",
      "save..:  40%|████      | 1087/2700 [00:49<01:02, 25.62it/s]\u001b[A\n",
      "save..:  45%|████▍     | 1207/2700 [00:52<00:52, 28.61it/s]\u001b[A\n",
      "save..:  50%|█████     | 1355/2700 [00:55<00:41, 32.66it/s]\u001b[A\n",
      "save..:  56%|█████▌    | 1508/2700 [00:58<00:32, 36.46it/s]\u001b[A\n",
      "save..:  60%|██████    | 1629/2700 [01:02<00:29, 35.90it/s]\u001b[A\n",
      "save..:  66%|██████▌   | 1777/2700 [01:05<00:24, 38.33it/s]\u001b[A\n",
      "save..:  75%|███████▍  | 2015/2700 [01:08<00:15, 45.16it/s]\u001b[A\n",
      "save..: 100%|██████████| 2700/2700 [01:13<00:00, 36.68it/s]\u001b[A\n"
     ]
    },
    {
     "name": "stdout",
     "output_type": "stream",
     "text": [
      "(13320, 11)\n"
     ]
    },
    {
     "name": "stderr",
     "output_type": "stream",
     "text": [
      "\r",
      "craw:  25%|██▌       | 75/300 [1:44:30<20:38:50, 330.36s/it]"
     ]
    },
    {
     "name": "stdout",
     "output_type": "stream",
     "text": [
      "청량리골목식당 scroll\n",
      "청량리골목식당 10\n",
      "모든 리뷰 불러오기 시작...\n"
     ]
    },
    {
     "name": "stderr",
     "output_type": "stream",
     "text": [
      "\n",
      "save..:   0%|          | 0/10 [00:00<?, ?it/s]\u001b[A"
     ]
    },
    {
     "name": "stdout",
     "output_type": "stream",
     "text": [
      "모든 리뷰 불러오기 완료!\n"
     ]
    },
    {
     "name": "stderr",
     "output_type": "stream",
     "text": [
      "save..: 100%|██████████| 10/10 [00:00<00:00, 17.89it/s]\n"
     ]
    },
    {
     "name": "stdout",
     "output_type": "stream",
     "text": [
      "(13330, 11)\n"
     ]
    },
    {
     "name": "stderr",
     "output_type": "stream",
     "text": [
      "\r",
      "craw:  25%|██▌       | 76/300 [1:44:53<14:48:23, 237.96s/it]"
     ]
    },
    {
     "name": "stdout",
     "output_type": "stream",
     "text": [
      "1988감성식당&혼밥의정석 scroll\n"
     ]
    },
    {
     "name": "stderr",
     "output_type": "stream",
     "text": [
      "\r",
      "craw:  26%|██▌       | 77/300 [1:45:23<10:52:11, 175.48s/it]"
     ]
    },
    {
     "name": "stdout",
     "output_type": "stream",
     "text": [
      "wrong shop\n",
      "독도쭈꾸미-장안점 scroll\n",
      "독도쭈꾸미-장안점 29\n",
      "모든 리뷰 불러오기 시작...\n",
      "모든 리뷰 불러오기 완료!\n"
     ]
    },
    {
     "name": "stderr",
     "output_type": "stream",
     "text": [
      "\n",
      "save..: 100%|██████████| 29/29 [00:01<00:00, 24.92it/s]\n"
     ]
    },
    {
     "name": "stdout",
     "output_type": "stream",
     "text": [
      "(13359, 11)\n"
     ]
    },
    {
     "name": "stderr",
     "output_type": "stream",
     "text": [
      "\r",
      "craw:  26%|██▌       | 78/300 [1:46:04<8:20:16, 135.21s/it] "
     ]
    },
    {
     "name": "stdout",
     "output_type": "stream",
     "text": [
      "교촌치킨-신이문점 scroll\n",
      "교촌치킨-신이문점 1734\n",
      "모든 리뷰 불러오기 시작...\n",
      "모든 리뷰 불러오기 완료!\n"
     ]
    },
    {
     "name": "stderr",
     "output_type": "stream",
     "text": [
      "\n",
      "save..:   0%|          | 0/1734 [00:00<?, ?it/s]\u001b[A\n",
      "save..:   3%|▎         | 54/1734 [00:03<01:33, 17.90it/s]\u001b[A\n",
      "save..:   6%|▋         | 112/1734 [00:06<01:28, 18.26it/s]\u001b[A\n",
      "save..:   9%|▉         | 164/1734 [00:09<01:28, 17.76it/s]\u001b[A\n",
      "save..:  13%|█▎        | 227/1734 [00:12<01:21, 18.52it/s]\u001b[A\n",
      "save..:  16%|█▌        | 281/1734 [00:15<01:19, 18.32it/s]\u001b[A\n",
      "save..:  20%|██        | 347/1734 [00:18<01:12, 19.22it/s]\u001b[A\n",
      "save..:  24%|██▎       | 410/1734 [00:21<01:07, 19.63it/s]\u001b[A\n",
      "save..:  29%|██▉       | 500/1734 [00:24<00:56, 21.83it/s]\u001b[A\n",
      "save..:  34%|███▍      | 589/1734 [00:27<00:48, 23.66it/s]\u001b[A\n",
      "save..:  38%|███▊      | 661/1734 [00:31<00:48, 22.07it/s]\u001b[A\n",
      "save..:  43%|████▎     | 751/1734 [00:34<00:41, 23.96it/s]\u001b[A\n",
      "save..:  50%|████▉     | 859/1734 [00:37<00:32, 26.53it/s]\u001b[A\n",
      "save..:  58%|█████▊    | 1010/1734 [00:40<00:23, 30.89it/s]\u001b[A\n",
      "save..:  71%|███████   | 1227/1734 [00:43<00:13, 37.06it/s]\u001b[A\n",
      "save..:  80%|███████▉  | 1380/1734 [00:46<00:08, 40.24it/s]\u001b[A\n",
      "save..: 100%|██████████| 1734/1734 [00:51<00:00, 33.35it/s]\u001b[A\n"
     ]
    },
    {
     "name": "stdout",
     "output_type": "stream",
     "text": [
      "(15093, 11)\n"
     ]
    },
    {
     "name": "stderr",
     "output_type": "stream",
     "text": [
      "\r",
      "craw:  26%|██▋       | 79/300 [1:54:43<15:22:28, 250.44s/it]"
     ]
    },
    {
     "name": "stdout",
     "output_type": "stream",
     "text": [
      "청춘연가퓨전포차 scroll\n"
     ]
    },
    {
     "name": "stderr",
     "output_type": "stream",
     "text": [
      "\r",
      "craw:  27%|██▋       | 80/300 [1:54:58<10:59:22, 179.83s/it]"
     ]
    },
    {
     "name": "stdout",
     "output_type": "stream",
     "text": [
      "wrong shop\n",
      "아침의국 scroll\n",
      "아침의국 scroll\n",
      "아침의국 91\n",
      "모든 리뷰 불러오기 시작...\n",
      "모든 리뷰 불러오기 완료!\n"
     ]
    },
    {
     "name": "stderr",
     "output_type": "stream",
     "text": [
      "\n",
      "save..: 100%|██████████| 91/91 [00:02<00:00, 32.32it/s]\n"
     ]
    },
    {
     "name": "stdout",
     "output_type": "stream",
     "text": [
      "(15184, 11)\n"
     ]
    },
    {
     "name": "stderr",
     "output_type": "stream",
     "text": [
      "\r",
      "craw:  27%|██▋       | 81/300 [1:55:49<8:35:08, 141.13s/it] "
     ]
    },
    {
     "name": "stdout",
     "output_type": "stream",
     "text": [
      "치르치르-석계점 scroll\n"
     ]
    },
    {
     "name": "stderr",
     "output_type": "stream",
     "text": [
      "\n",
      "save..:   0%|          | 0/5 [00:00<?, ?it/s]\u001b[A"
     ]
    },
    {
     "name": "stdout",
     "output_type": "stream",
     "text": [
      "치르치르-석계점 5\n",
      "모든 리뷰 불러오기 시작...\n",
      "모든 리뷰 불러오기 완료!\n"
     ]
    },
    {
     "name": "stderr",
     "output_type": "stream",
     "text": [
      "save..: 100%|██████████| 5/5 [00:00<00:00, 13.37it/s]\n"
     ]
    },
    {
     "name": "stdout",
     "output_type": "stream",
     "text": [
      "(15189, 11)\n"
     ]
    },
    {
     "name": "stderr",
     "output_type": "stream",
     "text": [
      "\r",
      "craw:  27%|██▋       | 82/300 [1:56:35<6:49:30, 112.71s/it]"
     ]
    },
    {
     "name": "stdout",
     "output_type": "stream",
     "text": [
      "곽선생왕만두-중랑점 scroll\n"
     ]
    },
    {
     "name": "stderr",
     "output_type": "stream",
     "text": [
      "\n",
      "save..:   0%|          | 0/2 [00:00<?, ?it/s]\u001b[A"
     ]
    },
    {
     "name": "stdout",
     "output_type": "stream",
     "text": [
      "곽선생왕만두-중랑점 2\n",
      "모든 리뷰 불러오기 시작...\n",
      "모든 리뷰 불러오기 완료!\n"
     ]
    },
    {
     "name": "stderr",
     "output_type": "stream",
     "text": [
      "save..: 100%|██████████| 2/2 [00:00<00:00,  9.50it/s]\n"
     ]
    },
    {
     "name": "stdout",
     "output_type": "stream",
     "text": [
      "(15191, 11)\n"
     ]
    },
    {
     "name": "stderr",
     "output_type": "stream",
     "text": [
      "\r",
      "craw:  28%|██▊       | 83/300 [1:56:46<4:56:51, 82.08s/it] "
     ]
    },
    {
     "name": "stdout",
     "output_type": "stream",
     "text": [
      "수피자-이문동점 scroll\n",
      "수피자-이문동점 99\n",
      "모든 리뷰 불러오기 시작...\n",
      "모든 리뷰 불러오기 완료!\n"
     ]
    },
    {
     "name": "stderr",
     "output_type": "stream",
     "text": [
      "\n",
      "save..:   0%|          | 0/99 [00:00<?, ?it/s]\u001b[A\n",
      "save..:  45%|████▌     | 45/99 [00:03<00:03, 14.76it/s]\u001b[A\n",
      "save..: 100%|██████████| 99/99 [00:06<00:00, 15.37it/s]\u001b[A\n"
     ]
    },
    {
     "name": "stdout",
     "output_type": "stream",
     "text": [
      "(15290, 11)\n"
     ]
    },
    {
     "name": "stderr",
     "output_type": "stream",
     "text": [
      "\r",
      "craw:  28%|██▊       | 84/300 [1:58:01<4:47:50, 79.96s/it]"
     ]
    },
    {
     "name": "stdout",
     "output_type": "stream",
     "text": [
      "후라이드파티 scroll\n"
     ]
    },
    {
     "name": "stderr",
     "output_type": "stream",
     "text": [
      "\r",
      "craw:  28%|██▊       | 85/300 [1:58:04<3:23:20, 56.74s/it]"
     ]
    },
    {
     "name": "stdout",
     "output_type": "stream",
     "text": [
      "wrong shop\n",
      "제이제이카페 scroll\n"
     ]
    },
    {
     "name": "stderr",
     "output_type": "stream",
     "text": [
      "\n",
      "save..: 100%|██████████| 3/3 [00:00<00:00, 1097.12it/s]"
     ]
    },
    {
     "name": "stdout",
     "output_type": "stream",
     "text": [
      "제이제이카페 3\n",
      "모든 리뷰 불러오기 시작...\n",
      "모든 리뷰 불러오기 완료!\n",
      "(15293, 11)\n"
     ]
    },
    {
     "name": "stderr",
     "output_type": "stream",
     "text": [
      "\n",
      "craw:  29%|██▊       | 86/300 [1:58:19<2:37:55, 44.28s/it]"
     ]
    },
    {
     "name": "stdout",
     "output_type": "stream",
     "text": [
      "꼬마꼬치-중화요리주점 scroll\n"
     ]
    },
    {
     "name": "stderr",
     "output_type": "stream",
     "text": [
      "\n",
      "save..: 100%|██████████| 1/1 [00:00<00:00, 1115.21it/s]"
     ]
    },
    {
     "name": "stdout",
     "output_type": "stream",
     "text": [
      "꼬마꼬치-중화요리주점 1\n",
      "모든 리뷰 불러오기 시작...\n",
      "모든 리뷰 불러오기 완료!\n",
      "(15294, 11)\n"
     ]
    },
    {
     "name": "stderr",
     "output_type": "stream",
     "text": [
      "\n",
      "craw:  29%|██▉       | 87/300 [1:58:47<2:19:42, 39.35s/it]"
     ]
    },
    {
     "name": "stdout",
     "output_type": "stream",
     "text": [
      "명품꿔바로우&마라롱샤-장안점 scroll\n",
      "명품꿔바로우&마라롱샤-장안점 22\n",
      "모든 리뷰 불러오기 시작...\n"
     ]
    },
    {
     "name": "stderr",
     "output_type": "stream",
     "text": [
      "\n",
      "save..:   0%|          | 0/22 [00:00<?, ?it/s]\u001b[A"
     ]
    },
    {
     "name": "stdout",
     "output_type": "stream",
     "text": [
      "모든 리뷰 불러오기 완료!\n"
     ]
    },
    {
     "name": "stderr",
     "output_type": "stream",
     "text": [
      "save..: 100%|██████████| 22/22 [00:01<00:00, 16.21it/s]\n"
     ]
    },
    {
     "name": "stdout",
     "output_type": "stream",
     "text": [
      "(15316, 11)\n"
     ]
    },
    {
     "name": "stderr",
     "output_type": "stream",
     "text": [
      "\r",
      "craw:  29%|██▉       | 88/300 [1:59:49<2:42:56, 46.12s/it]"
     ]
    },
    {
     "name": "stdout",
     "output_type": "stream",
     "text": [
      "오아저씨수제돈까스 scroll\n",
      "오아저씨수제돈까스 19\n",
      "모든 리뷰 불러오기 시작...\n"
     ]
    },
    {
     "name": "stderr",
     "output_type": "stream",
     "text": [
      "\n",
      "save..:   0%|          | 0/19 [00:00<?, ?it/s]\u001b[A"
     ]
    },
    {
     "name": "stdout",
     "output_type": "stream",
     "text": [
      "모든 리뷰 불러오기 완료!\n"
     ]
    },
    {
     "name": "stderr",
     "output_type": "stream",
     "text": [
      "save..: 100%|██████████| 19/19 [00:00<00:00, 24.73it/s]\n"
     ]
    },
    {
     "name": "stdout",
     "output_type": "stream",
     "text": [
      "(15335, 11)\n"
     ]
    },
    {
     "name": "stderr",
     "output_type": "stream",
     "text": [
      "\r",
      "craw:  30%|██▉       | 89/300 [2:00:20<2:26:12, 41.58s/it]"
     ]
    },
    {
     "name": "stdout",
     "output_type": "stream",
     "text": [
      "이대희짱낙지 scroll\n"
     ]
    },
    {
     "name": "stderr",
     "output_type": "stream",
     "text": [
      "\n",
      "save..:   0%|          | 0/5 [00:00<?, ?it/s]\u001b[A"
     ]
    },
    {
     "name": "stdout",
     "output_type": "stream",
     "text": [
      "이대희짱낙지 5\n",
      "모든 리뷰 불러오기 시작...\n",
      "모든 리뷰 불러오기 완료!\n"
     ]
    },
    {
     "name": "stderr",
     "output_type": "stream",
     "text": [
      "save..: 100%|██████████| 5/5 [00:00<00:00, 13.25it/s]\n"
     ]
    },
    {
     "name": "stdout",
     "output_type": "stream",
     "text": [
      "(15340, 11)\n"
     ]
    },
    {
     "name": "stderr",
     "output_type": "stream",
     "text": [
      "\r",
      "craw:  30%|███       | 90/300 [2:00:36<1:59:39, 34.19s/it]"
     ]
    },
    {
     "name": "stdout",
     "output_type": "stream",
     "text": [
      "미가회집-본점 scroll\n",
      "미가회집-본점 13\n",
      "모든 리뷰 불러오기 시작...\n"
     ]
    },
    {
     "name": "stderr",
     "output_type": "stream",
     "text": [
      "\n",
      "save..:   0%|          | 0/13 [00:00<?, ?it/s]\u001b[A"
     ]
    },
    {
     "name": "stdout",
     "output_type": "stream",
     "text": [
      "모든 리뷰 불러오기 완료!\n"
     ]
    },
    {
     "name": "stderr",
     "output_type": "stream",
     "text": [
      "save..: 100%|██████████| 13/13 [00:01<00:00, 11.02it/s]\n"
     ]
    },
    {
     "name": "stdout",
     "output_type": "stream",
     "text": [
      "(15353, 11)\n"
     ]
    },
    {
     "name": "stderr",
     "output_type": "stream",
     "text": [
      "\r",
      "craw:  30%|███       | 91/300 [2:01:11<1:59:22, 34.27s/it]"
     ]
    },
    {
     "name": "stdout",
     "output_type": "stream",
     "text": [
      "까시발라생선구이 scroll\n",
      "까시발라생선구이 1883\n",
      "모든 리뷰 불러오기 시작...\n",
      "모든 리뷰 불러오기 완료!\n"
     ]
    },
    {
     "name": "stderr",
     "output_type": "stream",
     "text": [
      "\n",
      "save..:   0%|          | 0/1883 [00:00<?, ?it/s]\u001b[A\n",
      "save..:   3%|▎         | 60/1883 [00:03<01:32, 19.70it/s]\u001b[A\n",
      "save..:   6%|▌         | 110/1883 [00:06<01:35, 18.55it/s]\u001b[A\n",
      "save..:  10%|▉         | 179/1883 [00:09<01:26, 19.66it/s]\u001b[A\n",
      "save..:  13%|█▎        | 242/1883 [00:12<01:22, 19.94it/s]\u001b[A\n",
      "save..:  18%|█▊        | 335/1883 [00:15<01:09, 22.23it/s]\u001b[A\n",
      "save..:  22%|██▏       | 408/1883 [00:18<01:05, 22.69it/s]\u001b[A\n",
      "save..:  25%|██▌       | 479/1883 [00:21<01:01, 22.85it/s]\u001b[A\n",
      "save..:  29%|██▉       | 545/1883 [00:24<01:02, 21.24it/s]\u001b[A\n",
      "save..:  33%|███▎      | 618/1883 [00:28<00:58, 21.79it/s]\u001b[A\n",
      "save..:  37%|███▋      | 704/1883 [00:31<00:50, 23.12it/s]\u001b[A\n",
      "save..:  42%|████▏     | 795/1883 [00:34<00:43, 24.80it/s]\u001b[A\n",
      "save..:  46%|████▋     | 871/1883 [00:39<00:47, 21.34it/s]\u001b[A\n",
      "save..:  51%|█████     | 964/1883 [00:42<00:39, 23.51it/s]\u001b[A\n",
      "save..:  55%|█████▌    | 1039/1883 [00:45<00:36, 23.35it/s]\u001b[A\n",
      "save..:  60%|█████▉    | 1121/1883 [00:48<00:31, 24.36it/s]\u001b[A\n",
      "save..:  64%|██████▎   | 1199/1883 [00:51<00:27, 24.81it/s]\u001b[A\n",
      "save..:  70%|██████▉   | 1311/1883 [00:54<00:20, 27.44it/s]\u001b[A\n",
      "save..:  75%|███████▌  | 1419/1883 [00:57<00:15, 29.44it/s]\u001b[A\n",
      "save..:  84%|████████▍ | 1578/1883 [01:00<00:09, 33.68it/s]\u001b[A\n",
      "save..:  90%|████████▉ | 1689/1883 [01:03<00:05, 34.15it/s]\u001b[A\n",
      "save..: 100%|██████████| 1883/1883 [01:08<00:00, 27.35it/s]\u001b[A\n"
     ]
    },
    {
     "name": "stdout",
     "output_type": "stream",
     "text": [
      "(17236, 11)\n"
     ]
    },
    {
     "name": "stderr",
     "output_type": "stream",
     "text": [
      "\r",
      "craw:  31%|███       | 92/300 [2:11:07<11:42:50, 202.74s/it]"
     ]
    },
    {
     "name": "stdout",
     "output_type": "stream",
     "text": [
      "1인용이태원부대찌개-중화점 scroll\n",
      "1인용이태원부대찌개-중화점 31\n",
      "모든 리뷰 불러오기 시작...\n"
     ]
    },
    {
     "name": "stderr",
     "output_type": "stream",
     "text": [
      "\n",
      "save..:   0%|          | 0/31 [00:00<?, ?it/s]\u001b[A"
     ]
    },
    {
     "name": "stdout",
     "output_type": "stream",
     "text": [
      "모든 리뷰 불러오기 완료!\n"
     ]
    },
    {
     "name": "stderr",
     "output_type": "stream",
     "text": [
      "save..: 100%|██████████| 31/31 [00:02<00:00, 11.10it/s]\n"
     ]
    },
    {
     "name": "stdout",
     "output_type": "stream",
     "text": [
      "(17267, 11)\n"
     ]
    },
    {
     "name": "stderr",
     "output_type": "stream",
     "text": [
      "\r",
      "craw:  31%|███       | 93/300 [2:11:45<8:49:22, 153.44s/it] "
     ]
    },
    {
     "name": "stdout",
     "output_type": "stream",
     "text": [
      "국밥만선생 scroll\n"
     ]
    },
    {
     "name": "stderr",
     "output_type": "stream",
     "text": [
      "\n",
      "save..: 100%|██████████| 1/1 [00:00<00:00, 1198.03it/s]"
     ]
    },
    {
     "name": "stdout",
     "output_type": "stream",
     "text": [
      "국밥만선생 1\n",
      "모든 리뷰 불러오기 시작...\n",
      "모든 리뷰 불러오기 완료!\n",
      "(17268, 11)\n"
     ]
    },
    {
     "name": "stderr",
     "output_type": "stream",
     "text": [
      "\n",
      "craw:  31%|███▏      | 94/300 [2:12:29<6:54:12, 120.64s/it]"
     ]
    },
    {
     "name": "stdout",
     "output_type": "stream",
     "text": [
      "포차전 scroll\n",
      "포차전 24\n",
      "모든 리뷰 불러오기 시작...\n"
     ]
    },
    {
     "name": "stderr",
     "output_type": "stream",
     "text": [
      "\n",
      "save..:   0%|          | 0/24 [00:00<?, ?it/s]\u001b[A"
     ]
    },
    {
     "name": "stdout",
     "output_type": "stream",
     "text": [
      "모든 리뷰 불러오기 완료!\n"
     ]
    },
    {
     "name": "stderr",
     "output_type": "stream",
     "text": [
      "save..: 100%|██████████| 24/24 [00:01<00:00, 13.41it/s]\n"
     ]
    },
    {
     "name": "stdout",
     "output_type": "stream",
     "text": [
      "(17292, 11)\n"
     ]
    },
    {
     "name": "stderr",
     "output_type": "stream",
     "text": [
      "\r",
      "craw:  32%|███▏      | 95/300 [2:12:53<5:13:18, 91.70s/it] "
     ]
    },
    {
     "name": "stdout",
     "output_type": "stream",
     "text": [
      "놀스캘리-초밥롤전문점 scroll\n"
     ]
    },
    {
     "name": "stderr",
     "output_type": "stream",
     "text": [
      "\r",
      "craw:  32%|███▏      | 96/300 [2:12:58<3:42:25, 65.42s/it]"
     ]
    },
    {
     "name": "stdout",
     "output_type": "stream",
     "text": [
      "wrong shop\n",
      "고려원양꼬치 scroll\n",
      "고려원양꼬치 scroll\n",
      "고려원양꼬치 815\n",
      "모든 리뷰 불러오기 시작...\n",
      "모든 리뷰 불러오기 완료!\n"
     ]
    },
    {
     "name": "stderr",
     "output_type": "stream",
     "text": [
      "\n",
      "save..:   0%|          | 0/815 [00:00<?, ?it/s]\u001b[A\n",
      "save..:   4%|▍         | 31/815 [00:03<01:16, 10.23it/s]\u001b[A\n",
      "save..:   8%|▊         | 64/815 [00:06<01:12, 10.43it/s]\u001b[A\n",
      "save..:  13%|█▎        | 104/815 [00:09<01:03, 11.13it/s]\u001b[A\n",
      "save..:  19%|█▉        | 157/815 [00:12<00:52, 12.51it/s]\u001b[A\n",
      "save..:  25%|██▍       | 203/815 [00:15<00:46, 13.15it/s]\u001b[A\n",
      "save..:  30%|███       | 248/815 [00:18<00:41, 13.60it/s]\u001b[A\n",
      "save..:  35%|███▌      | 287/815 [00:21<00:42, 12.51it/s]\u001b[A\n",
      "save..:  40%|████      | 330/815 [00:24<00:37, 12.93it/s]\u001b[A\n",
      "save..:  47%|████▋     | 380/815 [00:28<00:31, 13.79it/s]\u001b[A\n",
      "save..:  54%|█████▍    | 442/815 [00:31<00:24, 15.27it/s]\u001b[A\n",
      "save..:  64%|██████▍   | 522/815 [00:34<00:16, 17.48it/s]\u001b[A\n",
      "save..:  71%|███████   | 579/815 [00:37<00:13, 17.77it/s]\u001b[A\n",
      "save..:  81%|████████  | 661/815 [00:40<00:07, 19.65it/s]\u001b[A\n",
      "save..:  89%|████████▉ | 725/815 [00:43<00:04, 19.75it/s]\u001b[A\n",
      "save..: 100%|██████████| 815/815 [00:49<00:00, 16.48it/s]\u001b[A\n"
     ]
    },
    {
     "name": "stdout",
     "output_type": "stream",
     "text": [
      "(18107, 11)\n"
     ]
    },
    {
     "name": "stderr",
     "output_type": "stream",
     "text": [
      "\r",
      "craw:  32%|███▏      | 97/300 [2:17:10<6:50:42, 121.39s/it]"
     ]
    },
    {
     "name": "stdout",
     "output_type": "stream",
     "text": [
      "조선닭갈비-동대문점 scroll\n"
     ]
    },
    {
     "name": "stderr",
     "output_type": "stream",
     "text": [
      "\n",
      "save..:   0%|          | 0/1 [00:00<?, ?it/s]\u001b[A"
     ]
    },
    {
     "name": "stdout",
     "output_type": "stream",
     "text": [
      "조선닭갈비-동대문점 1\n",
      "모든 리뷰 불러오기 시작...\n",
      "모든 리뷰 불러오기 완료!\n"
     ]
    },
    {
     "name": "stderr",
     "output_type": "stream",
     "text": [
      "save..: 100%|██████████| 1/1 [00:00<00:00,  6.43it/s]\n"
     ]
    },
    {
     "name": "stdout",
     "output_type": "stream",
     "text": [
      "(18108, 11)\n"
     ]
    },
    {
     "name": "stderr",
     "output_type": "stream",
     "text": [
      "\r",
      "craw:  33%|███▎      | 98/300 [2:18:08<5:44:57, 102.47s/it]"
     ]
    },
    {
     "name": "stdout",
     "output_type": "stream",
     "text": [
      "봉차우 scroll\n",
      "봉차우 99\n",
      "모든 리뷰 불러오기 시작...\n",
      "모든 리뷰 불러오기 완료!\n"
     ]
    },
    {
     "name": "stderr",
     "output_type": "stream",
     "text": [
      "\n",
      "save..:   0%|          | 0/99 [00:00<?, ?it/s]\u001b[A\n",
      "save..:  48%|████▊     | 48/99 [00:03<00:03, 15.96it/s]\u001b[A\n",
      "save..: 100%|██████████| 99/99 [00:06<00:00, 15.41it/s]\u001b[A\n"
     ]
    },
    {
     "name": "stdout",
     "output_type": "stream",
     "text": [
      "(18207, 11)\n"
     ]
    },
    {
     "name": "stderr",
     "output_type": "stream",
     "text": [
      "\r",
      "craw:  33%|███▎      | 99/300 [2:19:24<5:17:15, 94.70s/it] "
     ]
    },
    {
     "name": "stdout",
     "output_type": "stream",
     "text": [
      "교촌치킨-경희대점 scroll\n",
      "교촌치킨-경희대점 768\n",
      "모든 리뷰 불러오기 시작...\n",
      "모든 리뷰 불러오기 완료!\n"
     ]
    },
    {
     "name": "stderr",
     "output_type": "stream",
     "text": [
      "\n",
      "save..:   0%|          | 0/768 [00:00<?, ?it/s]\u001b[A\n",
      "save..:   7%|▋         | 56/768 [00:03<00:38, 18.41it/s]\u001b[A\n",
      "save..:  14%|█▎        | 105/768 [00:06<00:37, 17.67it/s]\u001b[A\n",
      "save..:  21%|██        | 163/768 [00:09<00:33, 18.11it/s]\u001b[A\n",
      "save..:  27%|██▋       | 208/768 [00:12<00:33, 16.92it/s]\u001b[A\n",
      "save..:  34%|███▎      | 258/768 [00:15<00:30, 16.77it/s]\u001b[A\n",
      "save..:  39%|███▉      | 303/768 [00:18<00:28, 16.13it/s]\u001b[A\n",
      "save..:  45%|████▌     | 346/768 [00:21<00:28, 14.73it/s]\u001b[A\n",
      "save..:  53%|█████▎    | 404/768 [00:24<00:23, 15.78it/s]\u001b[A\n",
      "save..:  60%|█████▉    | 459/768 [00:27<00:18, 16.42it/s]\u001b[A\n",
      "save..:  68%|██████▊   | 519/768 [00:30<00:14, 17.25it/s]\u001b[A\n",
      "save..:  77%|███████▋  | 594/768 [00:33<00:09, 18.94it/s]\u001b[A\n",
      "save..: 100%|██████████| 768/768 [00:38<00:00, 19.80it/s]\u001b[A\n"
     ]
    },
    {
     "name": "stdout",
     "output_type": "stream",
     "text": [
      "(18975, 11)\n"
     ]
    },
    {
     "name": "stderr",
     "output_type": "stream",
     "text": [
      "\r",
      "craw:  33%|███▎      | 100/300 [2:23:05<7:22:00, 132.60s/it]"
     ]
    },
    {
     "name": "stdout",
     "output_type": "stream",
     "text": [
      "우마이스시 scroll\n",
      "우마이스시 933\n",
      "모든 리뷰 불러오기 시작...\n",
      "모든 리뷰 불러오기 완료!\n"
     ]
    },
    {
     "name": "stderr",
     "output_type": "stream",
     "text": [
      "\n",
      "save..:   0%|          | 0/933 [00:00<?, ?it/s]\u001b[A\n",
      "save..:   5%|▍         | 46/933 [00:03<00:59, 14.94it/s]\u001b[A\n",
      "save..:  10%|█         | 96/933 [00:06<00:54, 15.36it/s]\u001b[A\n",
      "save..:  15%|█▍        | 136/933 [00:09<00:54, 14.69it/s]\u001b[A\n",
      "save..:  19%|█▉        | 176/933 [00:12<00:53, 14.20it/s]\u001b[A\n",
      "save..:  22%|██▏       | 209/933 [00:15<00:56, 12.86it/s]\u001b[A\n",
      "save..:  27%|██▋       | 249/933 [00:18<00:53, 12.79it/s]\u001b[A\n",
      "save..:  30%|███       | 283/933 [00:21<00:52, 12.29it/s]\u001b[A\n",
      "save..:  36%|███▌      | 333/933 [00:24<00:45, 13.14it/s]\u001b[A\n",
      "save..:  40%|███▉      | 372/933 [00:27<00:43, 12.99it/s]\u001b[A\n",
      "save..:  45%|████▌     | 422/933 [00:30<00:36, 13.91it/s]\u001b[A\n",
      "save..:  51%|█████     | 474/933 [00:33<00:31, 14.75it/s]\u001b[A\n",
      "save..:  56%|█████▌    | 519/933 [00:37<00:28, 14.32it/s]\u001b[A\n",
      "save..:  60%|██████    | 563/933 [00:40<00:25, 14.37it/s]\u001b[A\n",
      "save..:  70%|██████▉   | 649/933 [00:43<00:16, 16.82it/s]\u001b[A\n",
      "save..:  76%|███████▌  | 708/933 [00:46<00:12, 17.53it/s]\u001b[A\n",
      "save..:  82%|████████▏ | 765/933 [00:49<00:09, 17.60it/s]\u001b[A\n",
      "save..:  88%|████████▊ | 823/933 [00:52<00:06, 18.03it/s]\u001b[A\n",
      "save..: 100%|██████████| 933/933 [00:58<00:00, 15.90it/s]\u001b[A\n"
     ]
    },
    {
     "name": "stdout",
     "output_type": "stream",
     "text": [
      "(19908, 11)\n"
     ]
    },
    {
     "name": "stderr",
     "output_type": "stream",
     "text": [
      "\r",
      "craw:  34%|███▎      | 101/300 [2:27:50<9:51:17, 178.28s/it]"
     ]
    },
    {
     "name": "stdout",
     "output_type": "stream",
     "text": [
      "돈갓스대장 scroll\n",
      "돈갓스대장 17\n",
      "모든 리뷰 불러오기 시작...\n"
     ]
    },
    {
     "name": "stderr",
     "output_type": "stream",
     "text": [
      "\n",
      "save..:   0%|          | 0/17 [00:00<?, ?it/s]\u001b[A"
     ]
    },
    {
     "name": "stdout",
     "output_type": "stream",
     "text": [
      "모든 리뷰 불러오기 완료!\n"
     ]
    },
    {
     "name": "stderr",
     "output_type": "stream",
     "text": [
      "save..: 100%|██████████| 17/17 [00:01<00:00, 11.89it/s]\n"
     ]
    },
    {
     "name": "stdout",
     "output_type": "stream",
     "text": [
      "(19925, 11)\n"
     ]
    },
    {
     "name": "stderr",
     "output_type": "stream",
     "text": [
      "\r",
      "craw:  34%|███▍      | 102/300 [2:28:30<7:31:19, 136.77s/it]"
     ]
    },
    {
     "name": "stdout",
     "output_type": "stream",
     "text": [
      "영대특미아나고곰장어-서울경기본점 scroll\n",
      "영대특미아나고곰장어-서울경기본점 27\n",
      "모든 리뷰 불러오기 시작...\n"
     ]
    },
    {
     "name": "stderr",
     "output_type": "stream",
     "text": [
      "\n",
      "save..:   0%|          | 0/27 [00:00<?, ?it/s]\u001b[A"
     ]
    },
    {
     "name": "stdout",
     "output_type": "stream",
     "text": [
      "모든 리뷰 불러오기 완료!\n"
     ]
    },
    {
     "name": "stderr",
     "output_type": "stream",
     "text": [
      "save..: 100%|██████████| 27/27 [00:01<00:00, 18.41it/s]\n"
     ]
    },
    {
     "name": "stdout",
     "output_type": "stream",
     "text": [
      "(19952, 11)\n"
     ]
    },
    {
     "name": "stderr",
     "output_type": "stream",
     "text": [
      "\r",
      "craw:  34%|███▍      | 103/300 [2:29:38<6:20:45, 115.97s/it]"
     ]
    },
    {
     "name": "stdout",
     "output_type": "stream",
     "text": [
      "통큰할매토종순대국&설렁탕-상월곡점 scroll\n"
     ]
    },
    {
     "name": "stderr",
     "output_type": "stream",
     "text": [
      "\n",
      "save..:   0%|          | 0/4 [00:00<?, ?it/s]\u001b[A"
     ]
    },
    {
     "name": "stdout",
     "output_type": "stream",
     "text": [
      "통큰할매토종순대국&설렁탕-상월곡점 4\n",
      "모든 리뷰 불러오기 시작...\n",
      "모든 리뷰 불러오기 완료!\n"
     ]
    },
    {
     "name": "stderr",
     "output_type": "stream",
     "text": [
      "save..: 100%|██████████| 4/4 [00:00<00:00, 21.85it/s]\n"
     ]
    },
    {
     "name": "stdout",
     "output_type": "stream",
     "text": [
      "(19956, 11)\n"
     ]
    },
    {
     "name": "stderr",
     "output_type": "stream",
     "text": [
      "\r",
      "craw:  35%|███▍      | 104/300 [2:30:40<5:26:15, 99.87s/it] "
     ]
    },
    {
     "name": "stdout",
     "output_type": "stream",
     "text": [
      "이리카페 scroll\n",
      "이리카페 2\n",
      "모든 리뷰 불러오기 시작...\n",
      "모든 리뷰 불러오기 완료!\n"
     ]
    },
    {
     "name": "stderr",
     "output_type": "stream",
     "text": [
      "\n",
      "save..: 100%|██████████| 2/2 [00:00<00:00, 18.24it/s]\n"
     ]
    },
    {
     "name": "stdout",
     "output_type": "stream",
     "text": [
      "(19958, 11)\n"
     ]
    },
    {
     "name": "stderr",
     "output_type": "stream",
     "text": [
      "\r",
      "craw:  35%|███▌      | 105/300 [2:31:02<4:08:22, 76.42s/it]"
     ]
    },
    {
     "name": "stdout",
     "output_type": "stream",
     "text": [
      "일번지곱창&막창전문 scroll\n"
     ]
    },
    {
     "name": "stderr",
     "output_type": "stream",
     "text": [
      "\n",
      "save..: 100%|██████████| 2/2 [00:00<00:00, 25.42it/s]"
     ]
    },
    {
     "name": "stdout",
     "output_type": "stream",
     "text": [
      "일번지곱창&막창전문 2\n",
      "모든 리뷰 불러오기 시작...\n",
      "모든 리뷰 불러오기 완료!\n",
      "(19960, 11)\n"
     ]
    },
    {
     "name": "stderr",
     "output_type": "stream",
     "text": [
      "\n",
      "craw:  35%|███▌      | 106/300 [2:31:40<3:29:41, 64.85s/it]"
     ]
    },
    {
     "name": "stdout",
     "output_type": "stream",
     "text": [
      "골뱅이시집가는날 scroll\n",
      "골뱅이시집가는날 181\n",
      "모든 리뷰 불러오기 시작...\n",
      "모든 리뷰 불러오기 완료!\n"
     ]
    },
    {
     "name": "stderr",
     "output_type": "stream",
     "text": [
      "\n",
      "save..:   0%|          | 0/181 [00:00<?, ?it/s]\u001b[A\n",
      "save..: 100%|██████████| 181/181 [00:03<00:00, 45.52it/s][A\n"
     ]
    },
    {
     "name": "stdout",
     "output_type": "stream",
     "text": [
      "(20141, 11)\n"
     ]
    },
    {
     "name": "stderr",
     "output_type": "stream",
     "text": [
      "\r",
      "craw:  36%|███▌      | 107/300 [2:32:47<3:31:33, 65.77s/it]"
     ]
    },
    {
     "name": "stdout",
     "output_type": "stream",
     "text": [
      "신참떡볶이 전농사거리점 scroll\n",
      "신참떡볶이 전농사거리점 189\n",
      "모든 리뷰 불러오기 시작...\n",
      "모든 리뷰 불러오기 완료!\n"
     ]
    },
    {
     "name": "stderr",
     "output_type": "stream",
     "text": [
      "\n",
      "save..:   0%|          | 0/189 [00:00<?, ?it/s]\u001b[A\n",
      "save..: 100%|██████████| 189/189 [00:04<00:00, 41.50it/s]\u001b[A\n"
     ]
    },
    {
     "name": "stdout",
     "output_type": "stream",
     "text": [
      "(20330, 11)\n"
     ]
    },
    {
     "name": "stderr",
     "output_type": "stream",
     "text": [
      "\r",
      "craw:  36%|███▌      | 108/300 [2:33:54<3:31:35, 66.12s/it]"
     ]
    },
    {
     "name": "stdout",
     "output_type": "stream",
     "text": [
      "유자미훠궈사천요리 scroll\n",
      "유자미훠궈사천요리 4\n",
      "모든 리뷰 불러오기 시작...\n",
      "모든 리뷰 불러오기 완료!\n"
     ]
    },
    {
     "name": "stderr",
     "output_type": "stream",
     "text": [
      "\n",
      "save..: 100%|██████████| 4/4 [00:00<00:00, 10.68it/s]\n"
     ]
    },
    {
     "name": "stdout",
     "output_type": "stream",
     "text": [
      "(20334, 11)\n"
     ]
    },
    {
     "name": "stderr",
     "output_type": "stream",
     "text": [
      "\r",
      "craw:  36%|███▋      | 109/300 [2:34:41<3:11:35, 60.19s/it]"
     ]
    },
    {
     "name": "stdout",
     "output_type": "stream",
     "text": [
      "육수당-서울식국밥&파듬뿍고기튀김전문점 scroll\n"
     ]
    },
    {
     "name": "stderr",
     "output_type": "stream",
     "text": [
      "\r",
      "craw:  37%|███▋      | 110/300 [2:34:48<2:20:17, 44.30s/it]"
     ]
    },
    {
     "name": "stdout",
     "output_type": "stream",
     "text": [
      "wrong shop\n",
      "원조작살감자탕&해장국 scroll\n",
      "원조작살감자탕&해장국 384\n",
      "모든 리뷰 불러오기 시작...\n",
      "모든 리뷰 불러오기 완료!\n"
     ]
    },
    {
     "name": "stderr",
     "output_type": "stream",
     "text": [
      "\n",
      "save..:   0%|          | 0/384 [00:00<?, ?it/s]\u001b[A\n",
      "save..:  22%|██▏       | 83/384 [00:03<00:11, 26.37it/s]\u001b[A\n",
      "save..:  39%|███▉      | 149/384 [00:06<00:09, 24.85it/s]\u001b[A\n",
      "save..: 100%|██████████| 384/384 [00:11<00:00, 32.45it/s]\u001b[A\n"
     ]
    },
    {
     "name": "stdout",
     "output_type": "stream",
     "text": [
      "(20718, 11)\n"
     ]
    },
    {
     "name": "stderr",
     "output_type": "stream",
     "text": [
      "\r",
      "craw:  37%|███▋      | 111/300 [2:37:01<3:43:01, 70.80s/it]"
     ]
    },
    {
     "name": "stdout",
     "output_type": "stream",
     "text": [
      "고기범벅돼지찌개 scroll\n",
      "고기범벅돼지찌개 18\n",
      "모든 리뷰 불러오기 시작...\n"
     ]
    },
    {
     "name": "stderr",
     "output_type": "stream",
     "text": [
      "\n",
      "save..:   0%|          | 0/18 [00:00<?, ?it/s]\u001b[A"
     ]
    },
    {
     "name": "stdout",
     "output_type": "stream",
     "text": [
      "모든 리뷰 불러오기 완료!\n"
     ]
    },
    {
     "name": "stderr",
     "output_type": "stream",
     "text": [
      "save..: 100%|██████████| 18/18 [00:00<00:00, 36.10it/s]\n"
     ]
    },
    {
     "name": "stdout",
     "output_type": "stream",
     "text": [
      "(20736, 11)\n"
     ]
    },
    {
     "name": "stderr",
     "output_type": "stream",
     "text": [
      "\r",
      "craw:  37%|███▋      | 112/300 [2:37:38<3:10:12, 60.70s/it]"
     ]
    },
    {
     "name": "stdout",
     "output_type": "stream",
     "text": [
      "진국삼계탕 scroll\n"
     ]
    },
    {
     "name": "stderr",
     "output_type": "stream",
     "text": [
      "\n",
      "save..: 100%|██████████| 1/1 [00:00<00:00, 1104.05it/s]"
     ]
    },
    {
     "name": "stdout",
     "output_type": "stream",
     "text": [
      "진국삼계탕 1\n",
      "모든 리뷰 불러오기 시작...\n",
      "모든 리뷰 불러오기 완료!\n",
      "(20737, 11)\n"
     ]
    },
    {
     "name": "stderr",
     "output_type": "stream",
     "text": [
      "\n",
      "craw:  38%|███▊      | 113/300 [2:38:15<2:47:34, 53.77s/it]"
     ]
    },
    {
     "name": "stdout",
     "output_type": "stream",
     "text": [
      "마카나이-시립대점 scroll\n",
      "마카나이-시립대점 46\n",
      "모든 리뷰 불러오기 시작...\n"
     ]
    },
    {
     "name": "stderr",
     "output_type": "stream",
     "text": [
      "\n",
      "save..:   0%|          | 0/46 [00:00<?, ?it/s]\u001b[A"
     ]
    },
    {
     "name": "stdout",
     "output_type": "stream",
     "text": [
      "모든 리뷰 불러오기 완료!\n"
     ]
    },
    {
     "name": "stderr",
     "output_type": "stream",
     "text": [
      "save..: 100%|██████████| 46/46 [00:02<00:00, 17.13it/s]\n"
     ]
    },
    {
     "name": "stdout",
     "output_type": "stream",
     "text": [
      "(20783, 11)\n"
     ]
    },
    {
     "name": "stderr",
     "output_type": "stream",
     "text": [
      "\r",
      "craw:  38%|███▊      | 114/300 [2:39:18<2:54:40, 56.35s/it]"
     ]
    },
    {
     "name": "stdout",
     "output_type": "stream",
     "text": [
      "경동마라탕 scroll\n"
     ]
    },
    {
     "name": "stderr",
     "output_type": "stream",
     "text": [
      "\r",
      "craw:  38%|███▊      | 115/300 [2:39:41<2:23:00, 46.38s/it]"
     ]
    },
    {
     "name": "stdout",
     "output_type": "stream",
     "text": [
      "wrong shop\n",
      "광양석쇠불고기 scroll\n",
      "광양석쇠불고기 scroll\n",
      "광양석쇠불고기 32\n",
      "모든 리뷰 불러오기 시작...\n",
      "모든 리뷰 불러오기 완료!\n"
     ]
    },
    {
     "name": "stderr",
     "output_type": "stream",
     "text": [
      "\n",
      "save..: 100%|██████████| 32/32 [00:00<00:00, 32.14it/s]\n"
     ]
    },
    {
     "name": "stdout",
     "output_type": "stream",
     "text": [
      "(20815, 11)\n"
     ]
    },
    {
     "name": "stderr",
     "output_type": "stream",
     "text": [
      "\r",
      "craw:  39%|███▊      | 116/300 [2:40:27<2:21:41, 46.20s/it]"
     ]
    },
    {
     "name": "stdout",
     "output_type": "stream",
     "text": [
      "뿔발불막창불닭발-중랑점 scroll\n",
      "뿔발불막창불닭발-중랑점 641\n",
      "모든 리뷰 불러오기 시작...\n",
      "모든 리뷰 불러오기 완료!\n"
     ]
    },
    {
     "name": "stderr",
     "output_type": "stream",
     "text": [
      "\n",
      "save..:   0%|          | 0/641 [00:00<?, ?it/s]\u001b[A\n",
      "save..:   5%|▌         | 33/641 [00:03<00:55, 10.92it/s]\u001b[A\n",
      "save..:  12%|█▏        | 75/641 [00:06<00:48, 11.66it/s]\u001b[A\n",
      "save..:  19%|█▉        | 124/641 [00:09<00:40, 12.74it/s]\u001b[A\n",
      "save..:  29%|██▉       | 189/641 [00:12<00:31, 14.41it/s]\u001b[A\n",
      "save..:  36%|███▌      | 228/641 [00:15<00:29, 13.79it/s]\u001b[A\n",
      "save..:  44%|████▍     | 285/641 [00:18<00:23, 14.96it/s]\u001b[A\n",
      "save..:  52%|█████▏    | 336/641 [00:21<00:19, 15.34it/s]\u001b[A\n",
      "save..:  60%|█████▉    | 382/641 [00:24<00:17, 14.93it/s]\u001b[A\n",
      "save..:  69%|██████▉   | 443/641 [00:27<00:12, 16.20it/s]\u001b[A\n",
      "save..:  78%|███████▊  | 502/641 [00:30<00:08, 17.00it/s]\u001b[A\n",
      "save..:  86%|████████▋ | 554/641 [00:34<00:05, 15.98it/s]\u001b[A\n",
      "save..: 100%|██████████| 641/641 [00:38<00:00, 16.58it/s]\u001b[A\n"
     ]
    },
    {
     "name": "stdout",
     "output_type": "stream",
     "text": [
      "(21456, 11)\n"
     ]
    },
    {
     "name": "stderr",
     "output_type": "stream",
     "text": [
      "\r",
      "craw:  39%|███▉      | 117/300 [2:44:15<5:07:35, 100.85s/it]"
     ]
    },
    {
     "name": "stdout",
     "output_type": "stream",
     "text": [
      "반올림피자샵-장위월계점 scroll\n",
      "반올림피자샵-장위월계점 1214\n",
      "모든 리뷰 불러오기 시작...\n",
      "모든 리뷰 불러오기 완료!\n"
     ]
    },
    {
     "name": "stderr",
     "output_type": "stream",
     "text": [
      "\n",
      "save..:   0%|          | 0/1214 [00:00<?, ?it/s]\u001b[A\n",
      "save..:   3%|▎         | 41/1214 [00:03<01:26, 13.54it/s]\u001b[A\n",
      "save..:   8%|▊         | 93/1214 [00:06<01:17, 14.42it/s]\u001b[A\n",
      "save..:  12%|█▏        | 140/1214 [00:09<01:12, 14.72it/s]\u001b[A\n",
      "save..:  17%|█▋        | 202/1214 [00:12<01:03, 16.06it/s]\u001b[A\n",
      "save..:  21%|██        | 253/1214 [00:15<00:59, 16.25it/s]\u001b[A\n",
      "save..:  26%|██▌       | 310/1214 [00:18<00:53, 16.90it/s]\u001b[A\n",
      "save..:  31%|███       | 379/1214 [00:21<00:45, 18.32it/s]\u001b[A\n",
      "save..:  39%|███▊      | 468/1214 [00:24<00:36, 20.69it/s]\u001b[A\n",
      "save..:  46%|████▌     | 558/1214 [00:27<00:28, 22.75it/s]\u001b[A\n",
      "save..:  53%|█████▎    | 641/1214 [00:30<00:23, 23.90it/s]\u001b[A\n",
      "save..:  66%|██████▌   | 802/1214 [00:33<00:14, 28.58it/s]\u001b[A\n",
      "save..:  77%|███████▋  | 935/1214 [00:36<00:08, 31.70it/s]\u001b[A\n",
      "save..:  89%|████████▉ | 1078/1214 [00:39<00:03, 35.08it/s]\u001b[A\n",
      "save..: 100%|██████████| 1214/1214 [00:43<00:00, 28.04it/s]\u001b[A\n"
     ]
    },
    {
     "name": "stdout",
     "output_type": "stream",
     "text": [
      "(22670, 11)\n"
     ]
    },
    {
     "name": "stderr",
     "output_type": "stream",
     "text": [
      "\r",
      "craw:  39%|███▉      | 118/300 [2:49:57<8:45:14, 173.16s/it]"
     ]
    },
    {
     "name": "stdout",
     "output_type": "stream",
     "text": [
      "직화구이삼겹배달-장안점 scroll\n",
      "직화구이삼겹배달-장안점 40\n",
      "모든 리뷰 불러오기 시작...\n"
     ]
    },
    {
     "name": "stderr",
     "output_type": "stream",
     "text": [
      "\n",
      "save..:   0%|          | 0/40 [00:00<?, ?it/s]\u001b[A"
     ]
    },
    {
     "name": "stdout",
     "output_type": "stream",
     "text": [
      "모든 리뷰 불러오기 완료!\n"
     ]
    },
    {
     "name": "stderr",
     "output_type": "stream",
     "text": [
      "save..: 100%|██████████| 40/40 [00:01<00:00, 33.39it/s]\n"
     ]
    },
    {
     "name": "stdout",
     "output_type": "stream",
     "text": [
      "(22710, 11)\n"
     ]
    },
    {
     "name": "stderr",
     "output_type": "stream",
     "text": [
      "\r",
      "craw:  40%|███▉      | 119/300 [2:51:03<7:05:24, 141.02s/it]"
     ]
    },
    {
     "name": "stdout",
     "output_type": "stream",
     "text": [
      "작은동경덮밥&소바-회기점 scroll\n",
      "작은동경덮밥&소바-회기점 110\n",
      "모든 리뷰 불러오기 시작...\n",
      "모든 리뷰 불러오기 완료!\n"
     ]
    },
    {
     "name": "stderr",
     "output_type": "stream",
     "text": [
      "\n",
      "save..:   0%|          | 0/110 [00:00<?, ?it/s]\u001b[A\n",
      "save..: 100%|██████████| 110/110 [00:05<00:00, 21.41it/s][A\n"
     ]
    },
    {
     "name": "stdout",
     "output_type": "stream",
     "text": [
      "(22820, 11)\n"
     ]
    },
    {
     "name": "stderr",
     "output_type": "stream",
     "text": [
      "\r",
      "craw:  40%|████      | 120/300 [2:51:57<5:44:59, 115.00s/it]"
     ]
    },
    {
     "name": "stdout",
     "output_type": "stream",
     "text": [
      "FIRE핫도그-경희대점 scroll\n",
      "FIRE핫도그-경희대점 3\n",
      "모든 리뷰 불러오기 시작...\n",
      "모든 리뷰 불러오기 완료!\n"
     ]
    },
    {
     "name": "stderr",
     "output_type": "stream",
     "text": [
      "\n",
      "save..: 100%|██████████| 3/3 [00:00<00:00, 41.94it/s]\n"
     ]
    },
    {
     "name": "stdout",
     "output_type": "stream",
     "text": [
      "(22823, 11)\n"
     ]
    },
    {
     "name": "stderr",
     "output_type": "stream",
     "text": [
      "\r",
      "craw:  40%|████      | 121/300 [2:52:25<4:25:28, 88.98s/it] "
     ]
    },
    {
     "name": "stdout",
     "output_type": "stream",
     "text": [
      "위대한족보&반반세트-청량리점 scroll\n"
     ]
    },
    {
     "name": "stderr",
     "output_type": "stream",
     "text": [
      "\n",
      "save..:   0%|          | 0/4 [00:00<?, ?it/s]\u001b[A"
     ]
    },
    {
     "name": "stdout",
     "output_type": "stream",
     "text": [
      "위대한족보&반반세트-청량리점 4\n",
      "모든 리뷰 불러오기 시작...\n",
      "모든 리뷰 불러오기 완료!\n"
     ]
    },
    {
     "name": "stderr",
     "output_type": "stream",
     "text": [
      "save..: 100%|██████████| 4/4 [00:00<00:00, 15.78it/s]\n"
     ]
    },
    {
     "name": "stdout",
     "output_type": "stream",
     "text": [
      "(22827, 11)\n"
     ]
    },
    {
     "name": "stderr",
     "output_type": "stream",
     "text": [
      "\r",
      "craw:  41%|████      | 122/300 [2:52:52<3:28:10, 70.17s/it]"
     ]
    },
    {
     "name": "stdout",
     "output_type": "stream",
     "text": [
      "달떡볶이-답십리점 scroll\n",
      "달떡볶이-답십리점 224\n",
      "모든 리뷰 불러오기 시작...\n",
      "모든 리뷰 불러오기 완료!\n"
     ]
    },
    {
     "name": "stderr",
     "output_type": "stream",
     "text": [
      "\n",
      "save..:   0%|          | 0/224 [00:00<?, ?it/s]\u001b[A\n",
      "save..:  29%|██▉       | 65/224 [00:03<00:07, 21.39it/s]\u001b[A\n",
      "save..:  57%|█████▋    | 128/224 [00:06<00:04, 21.21it/s]\u001b[A\n",
      "save..:  77%|███████▋  | 172/224 [00:09<00:02, 18.42it/s]\u001b[A\n",
      "save..: 100%|██████████| 224/224 [00:12<00:00, 18.24it/s]\u001b[A\n"
     ]
    },
    {
     "name": "stdout",
     "output_type": "stream",
     "text": [
      "(23051, 11)\n"
     ]
    },
    {
     "name": "stderr",
     "output_type": "stream",
     "text": [
      "\r",
      "craw:  41%|████      | 123/300 [2:54:07<3:31:19, 71.64s/it]"
     ]
    },
    {
     "name": "stdout",
     "output_type": "stream",
     "text": [
      "냠냠분식 scroll\n",
      "냠냠분식 326\n",
      "모든 리뷰 불러오기 시작...\n",
      "모든 리뷰 불러오기 완료!\n"
     ]
    },
    {
     "name": "stderr",
     "output_type": "stream",
     "text": [
      "\n",
      "save..:   0%|          | 0/326 [00:00<?, ?it/s]\u001b[A\n",
      "save..:  18%|█▊        | 58/326 [00:03<00:14, 19.11it/s]\u001b[A\n",
      "save..:  38%|███▊      | 123/326 [00:06<00:10, 19.80it/s]\u001b[A\n",
      "save..:  59%|█████▉    | 193/326 [00:09<00:06, 20.64it/s]\u001b[A\n",
      "save..: 100%|██████████| 326/326 [00:12<00:00, 26.55it/s]\u001b[A\n"
     ]
    },
    {
     "name": "stdout",
     "output_type": "stream",
     "text": [
      "(23377, 11)\n"
     ]
    },
    {
     "name": "stderr",
     "output_type": "stream",
     "text": [
      "\r",
      "craw:  41%|████▏     | 124/300 [2:55:47<3:54:55, 80.09s/it]"
     ]
    },
    {
     "name": "stdout",
     "output_type": "stream",
     "text": [
      "주오꼬마김밥 scroll\n",
      "주오꼬마김밥 33\n",
      "모든 리뷰 불러오기 시작...\n"
     ]
    },
    {
     "name": "stderr",
     "output_type": "stream",
     "text": [
      "\n",
      "save..:   0%|          | 0/33 [00:00<?, ?it/s]\u001b[A"
     ]
    },
    {
     "name": "stdout",
     "output_type": "stream",
     "text": [
      "모든 리뷰 불러오기 완료!\n"
     ]
    },
    {
     "name": "stderr",
     "output_type": "stream",
     "text": [
      "save..: 100%|██████████| 33/33 [00:01<00:00, 20.73it/s]\n"
     ]
    },
    {
     "name": "stdout",
     "output_type": "stream",
     "text": [
      "(23410, 11)\n"
     ]
    },
    {
     "name": "stderr",
     "output_type": "stream",
     "text": [
      "\r",
      "craw:  42%|████▏     | 125/300 [2:56:27<3:18:41, 68.12s/it]"
     ]
    },
    {
     "name": "stdout",
     "output_type": "stream",
     "text": [
      "배스킨라빈스-청량리역사점 scroll\n",
      "배스킨라빈스-청량리역사점 122\n",
      "모든 리뷰 불러오기 시작...\n",
      "모든 리뷰 불러오기 완료!\n"
     ]
    },
    {
     "name": "stderr",
     "output_type": "stream",
     "text": [
      "\n",
      "save..:   0%|          | 0/122 [00:00<?, ?it/s]\u001b[A\n",
      "save..: 100%|██████████| 122/122 [00:05<00:00, 21.02it/s][A\n"
     ]
    },
    {
     "name": "stdout",
     "output_type": "stream",
     "text": [
      "(23532, 11)\n"
     ]
    },
    {
     "name": "stderr",
     "output_type": "stream",
     "text": [
      "\r",
      "craw:  42%|████▏     | 126/300 [2:57:21<3:05:30, 63.97s/it]"
     ]
    },
    {
     "name": "stdout",
     "output_type": "stream",
     "text": [
      "밥은화-경희대점 scroll\n",
      "밥은화-경희대점 304\n",
      "모든 리뷰 불러오기 시작...\n",
      "모든 리뷰 불러오기 완료!\n"
     ]
    },
    {
     "name": "stderr",
     "output_type": "stream",
     "text": [
      "\n",
      "save..:   0%|          | 0/304 [00:00<?, ?it/s]\u001b[A\n",
      "save..:  23%|██▎       | 69/304 [00:03<00:10, 22.73it/s]\u001b[A\n",
      "save..:  45%|████▍     | 136/304 [00:06<00:07, 22.55it/s]\u001b[A\n",
      "save..:  71%|███████   | 215/304 [00:09<00:03, 23.53it/s]\u001b[A\n",
      "save..: 100%|██████████| 304/304 [00:12<00:00, 25.09it/s]\u001b[A\n"
     ]
    },
    {
     "name": "stdout",
     "output_type": "stream",
     "text": [
      "(23836, 11)\n"
     ]
    },
    {
     "name": "stderr",
     "output_type": "stream",
     "text": [
      "\r",
      "craw:  42%|████▏     | 127/300 [2:59:16<3:48:16, 79.17s/it]"
     ]
    },
    {
     "name": "stdout",
     "output_type": "stream",
     "text": [
      "북촌손만두-장안점 scroll\n"
     ]
    },
    {
     "name": "stderr",
     "output_type": "stream",
     "text": [
      "\r",
      "craw:  43%|████▎     | 128/300 [2:59:21<2:43:44, 57.12s/it]"
     ]
    },
    {
     "name": "stdout",
     "output_type": "stream",
     "text": [
      "wrong shop\n",
      "모구모구초밥 scroll\n",
      "모구모구초밥 21\n",
      "모든 리뷰 불러오기 시작...\n"
     ]
    },
    {
     "name": "stderr",
     "output_type": "stream",
     "text": [
      "\n",
      "save..:   0%|          | 0/21 [00:00<?, ?it/s]\u001b[A"
     ]
    },
    {
     "name": "stdout",
     "output_type": "stream",
     "text": [
      "모든 리뷰 불러오기 완료!\n"
     ]
    },
    {
     "name": "stderr",
     "output_type": "stream",
     "text": [
      "save..: 100%|██████████| 21/21 [00:01<00:00, 17.37it/s]\n"
     ]
    },
    {
     "name": "stdout",
     "output_type": "stream",
     "text": [
      "(23857, 11)\n"
     ]
    },
    {
     "name": "stderr",
     "output_type": "stream",
     "text": [
      "\r",
      "craw:  43%|████▎     | 129/300 [3:00:14<2:38:32, 55.63s/it]"
     ]
    },
    {
     "name": "stdout",
     "output_type": "stream",
     "text": [
      "일번지곱창&전골전문 scroll\n"
     ]
    },
    {
     "name": "stderr",
     "output_type": "stream",
     "text": [
      "\n",
      "save..:   0%|          | 0/9 [00:00<?, ?it/s]\u001b[A"
     ]
    },
    {
     "name": "stdout",
     "output_type": "stream",
     "text": [
      "일번지곱창&전골전문 9\n",
      "모든 리뷰 불러오기 시작...\n",
      "모든 리뷰 불러오기 완료!\n"
     ]
    },
    {
     "name": "stderr",
     "output_type": "stream",
     "text": [
      "save..: 100%|██████████| 9/9 [00:00<00:00, 36.24it/s]\n"
     ]
    },
    {
     "name": "stdout",
     "output_type": "stream",
     "text": [
      "(23866, 11)\n"
     ]
    },
    {
     "name": "stderr",
     "output_type": "stream",
     "text": [
      "\r",
      "craw:  43%|████▎     | 130/300 [3:00:52<2:22:49, 50.41s/it]"
     ]
    },
    {
     "name": "stdout",
     "output_type": "stream",
     "text": [
      "메인레인템포 scroll\n",
      "메인레인템포 30\n",
      "모든 리뷰 불러오기 시작...\n"
     ]
    },
    {
     "name": "stderr",
     "output_type": "stream",
     "text": [
      "\n",
      "save..:   0%|          | 0/30 [00:00<?, ?it/s]\u001b[A"
     ]
    },
    {
     "name": "stdout",
     "output_type": "stream",
     "text": [
      "모든 리뷰 불러오기 완료!\n"
     ]
    },
    {
     "name": "stderr",
     "output_type": "stream",
     "text": [
      "save..: 100%|██████████| 30/30 [00:02<00:00, 13.85it/s]\n"
     ]
    },
    {
     "name": "stdout",
     "output_type": "stream",
     "text": [
      "(23896, 11)\n"
     ]
    },
    {
     "name": "stderr",
     "output_type": "stream",
     "text": [
      "\r",
      "craw:  44%|████▎     | 131/300 [3:01:31<2:12:42, 47.12s/it]"
     ]
    },
    {
     "name": "stdout",
     "output_type": "stream",
     "text": [
      "가마로강정-전농점 scroll\n",
      "가마로강정-전농점 485\n",
      "모든 리뷰 불러오기 시작...\n",
      "모든 리뷰 불러오기 완료!\n"
     ]
    },
    {
     "name": "stderr",
     "output_type": "stream",
     "text": [
      "\n",
      "save..:   0%|          | 0/485 [00:00<?, ?it/s]\u001b[A\n",
      "save..:  20%|█▉        | 96/485 [00:03<00:12, 31.87it/s]\u001b[A\n",
      "save..:  35%|███▌      | 170/485 [00:06<00:10, 29.20it/s]\u001b[A\n",
      "save..: 100%|██████████| 485/485 [00:11<00:00, 43.12it/s]\u001b[A\n"
     ]
    },
    {
     "name": "stdout",
     "output_type": "stream",
     "text": [
      "(24381, 11)\n"
     ]
    },
    {
     "name": "stderr",
     "output_type": "stream",
     "text": [
      "\r",
      "craw:  44%|████▍     | 132/300 [3:03:47<3:26:51, 73.88s/it]"
     ]
    },
    {
     "name": "stdout",
     "output_type": "stream",
     "text": [
      "정아니의불타는여고24시떡볶이-전농점 scroll\n",
      "정아니의불타는여고24시떡볶이-전농점 66\n",
      "모든 리뷰 불러오기 시작...\n",
      "모든 리뷰 불러오기 완료!\n"
     ]
    },
    {
     "name": "stderr",
     "output_type": "stream",
     "text": [
      "\n",
      "save..:   0%|          | 0/66 [00:00<?, ?it/s]\u001b[A\n",
      "save..: 100%|██████████| 66/66 [00:03<00:00, 16.64it/s]\u001b[A\n"
     ]
    },
    {
     "name": "stdout",
     "output_type": "stream",
     "text": [
      "(24447, 11)\n"
     ]
    },
    {
     "name": "stderr",
     "output_type": "stream",
     "text": [
      "\r",
      "craw:  44%|████▍     | 133/300 [3:04:29<2:58:19, 64.07s/it]"
     ]
    },
    {
     "name": "stdout",
     "output_type": "stream",
     "text": [
      "냠냠밥집 scroll\n",
      "냠냠밥집 95\n",
      "모든 리뷰 불러오기 시작...\n",
      "모든 리뷰 불러오기 완료!\n"
     ]
    },
    {
     "name": "stderr",
     "output_type": "stream",
     "text": [
      "\n",
      "save..:   0%|          | 0/95 [00:00<?, ?it/s]\u001b[A\n",
      "save..: 100%|██████████| 95/95 [00:03<00:00, 24.06it/s]\u001b[A\n"
     ]
    },
    {
     "name": "stdout",
     "output_type": "stream",
     "text": [
      "(24542, 11)\n"
     ]
    },
    {
     "name": "stderr",
     "output_type": "stream",
     "text": [
      "\r",
      "craw:  45%|████▍     | 134/300 [3:05:16<2:43:29, 59.09s/it]"
     ]
    },
    {
     "name": "stdout",
     "output_type": "stream",
     "text": [
      "샐러데이샐러드-중랑점 scroll\n",
      "샐러데이샐러드-중랑점 428\n",
      "모든 리뷰 불러오기 시작...\n",
      "모든 리뷰 불러오기 완료!\n"
     ]
    },
    {
     "name": "stderr",
     "output_type": "stream",
     "text": [
      "\n",
      "save..:   0%|          | 0/428 [00:00<?, ?it/s]\u001b[A\n",
      "save..:  13%|█▎        | 55/428 [00:03<00:20, 18.21it/s]\u001b[A\n",
      "save..:  21%|██▏       | 92/428 [00:06<00:21, 15.82it/s]\u001b[A\n",
      "save..:  34%|███▍      | 147/428 [00:09<00:17, 16.44it/s]\u001b[A\n",
      "save..:  50%|████▉     | 212/428 [00:12<00:12, 17.63it/s]\u001b[A\n",
      "save..:  64%|██████▍   | 274/428 [00:15<00:08, 18.33it/s]\u001b[A\n",
      "save..:  80%|███████▉  | 342/428 [00:18<00:04, 19.42it/s]\u001b[A\n",
      "save..: 100%|██████████| 428/428 [00:24<00:00, 17.28it/s]\u001b[A\n"
     ]
    },
    {
     "name": "stdout",
     "output_type": "stream",
     "text": [
      "(24970, 11)\n"
     ]
    },
    {
     "name": "stderr",
     "output_type": "stream",
     "text": [
      "\r",
      "craw:  45%|████▌     | 135/300 [3:07:53<4:03:10, 88.43s/it]"
     ]
    },
    {
     "name": "stdout",
     "output_type": "stream",
     "text": [
      "에그드랍-샌드위치전문점 scroll\n",
      "에그드랍-샌드위치전문점 28\n",
      "모든 리뷰 불러오기 시작...\n",
      "모든 리뷰 불러오기 완료!\n"
     ]
    },
    {
     "name": "stderr",
     "output_type": "stream",
     "text": [
      "\n",
      "save..: 100%|██████████| 28/28 [00:00<00:00, 31.11it/s]\n"
     ]
    },
    {
     "name": "stdout",
     "output_type": "stream",
     "text": [
      "(24998, 11)\n"
     ]
    },
    {
     "name": "stderr",
     "output_type": "stream",
     "text": [
      "\r",
      "craw:  45%|████▌     | 136/300 [3:08:26<3:16:30, 71.89s/it]"
     ]
    },
    {
     "name": "stdout",
     "output_type": "stream",
     "text": [
      "오거리왕십리야채곱창-동덕여대점 scroll\n"
     ]
    },
    {
     "name": "stderr",
     "output_type": "stream",
     "text": [
      "\r",
      "craw:  46%|████▌     | 137/300 [3:08:38<2:26:32, 53.94s/it]"
     ]
    },
    {
     "name": "stdout",
     "output_type": "stream",
     "text": [
      "wrong shop\n",
      "바른치킨-신이문점 scroll\n",
      "바른치킨-신이문점 204\n",
      "모든 리뷰 불러오기 시작...\n",
      "모든 리뷰 불러오기 완료!\n"
     ]
    },
    {
     "name": "stderr",
     "output_type": "stream",
     "text": [
      "\n",
      "save..:   0%|          | 0/204 [00:00<?, ?it/s]\u001b[A\n",
      "save..:  25%|██▌       | 51/204 [00:03<00:09, 16.88it/s]\u001b[A\n",
      "save..:  51%|█████     | 104/204 [00:06<00:05, 17.06it/s]\u001b[A\n",
      "save..:  75%|███████▌  | 153/204 [00:09<00:03, 16.80it/s]\u001b[A\n",
      "save..: 100%|██████████| 204/204 [00:12<00:00, 16.69it/s]\u001b[A\n"
     ]
    },
    {
     "name": "stdout",
     "output_type": "stream",
     "text": [
      "(25202, 11)\n"
     ]
    },
    {
     "name": "stderr",
     "output_type": "stream",
     "text": [
      "\r",
      "craw:  46%|████▌     | 138/300 [3:09:43<2:34:32, 57.24s/it]"
     ]
    },
    {
     "name": "stdout",
     "output_type": "stream",
     "text": [
      "삼순이생고기 scroll\n",
      "삼순이생고기 74\n",
      "모든 리뷰 불러오기 시작...\n",
      "모든 리뷰 불러오기 완료!\n"
     ]
    },
    {
     "name": "stderr",
     "output_type": "stream",
     "text": [
      "\n",
      "save..:   0%|          | 0/74 [00:00<?, ?it/s]\u001b[A\n",
      "save..: 100%|██████████| 74/74 [00:03<00:00, 18.55it/s]\u001b[A\n"
     ]
    },
    {
     "name": "stdout",
     "output_type": "stream",
     "text": [
      "(25276, 11)\n"
     ]
    },
    {
     "name": "stderr",
     "output_type": "stream",
     "text": [
      "\r",
      "craw:  46%|████▋     | 139/300 [3:10:35<2:28:56, 55.50s/it]"
     ]
    },
    {
     "name": "stdout",
     "output_type": "stream",
     "text": [
      "국빈중식 scroll\n",
      "국빈중식 185\n",
      "모든 리뷰 불러오기 시작...\n",
      "모든 리뷰 불러오기 완료!\n"
     ]
    },
    {
     "name": "stderr",
     "output_type": "stream",
     "text": [
      "\n",
      "save..:   0%|          | 0/185 [00:00<?, ?it/s]\u001b[A\n",
      "save..:  40%|████      | 74/185 [00:03<00:04, 24.17it/s]\u001b[A\n",
      "save..: 100%|██████████| 185/185 [00:08<00:00, 22.40it/s]\u001b[A\n"
     ]
    },
    {
     "name": "stdout",
     "output_type": "stream",
     "text": [
      "(25461, 11)\n"
     ]
    },
    {
     "name": "stderr",
     "output_type": "stream",
     "text": [
      "\r",
      "craw:  47%|████▋     | 140/300 [3:11:31<2:28:50, 55.81s/it]"
     ]
    },
    {
     "name": "stdout",
     "output_type": "stream",
     "text": [
      "1인분한식 scroll\n",
      "1인분한식 28\n",
      "모든 리뷰 불러오기 시작...\n"
     ]
    },
    {
     "name": "stderr",
     "output_type": "stream",
     "text": [
      "\n",
      "save..:   0%|          | 0/28 [00:00<?, ?it/s]\u001b[A"
     ]
    },
    {
     "name": "stdout",
     "output_type": "stream",
     "text": [
      "모든 리뷰 불러오기 완료!\n"
     ]
    },
    {
     "name": "stderr",
     "output_type": "stream",
     "text": [
      "save..: 100%|██████████| 28/28 [00:00<00:00, 29.91it/s]\n"
     ]
    },
    {
     "name": "stdout",
     "output_type": "stream",
     "text": [
      "(25489, 11)\n"
     ]
    },
    {
     "name": "stderr",
     "output_type": "stream",
     "text": [
      "\r",
      "craw:  47%|████▋     | 141/300 [3:12:11<2:14:47, 50.86s/it]"
     ]
    },
    {
     "name": "stdout",
     "output_type": "stream",
     "text": [
      "족발포차 scroll\n",
      "족발포차 14\n",
      "모든 리뷰 불러오기 시작...\n"
     ]
    },
    {
     "name": "stderr",
     "output_type": "stream",
     "text": [
      "\n",
      "save..:   0%|          | 0/14 [00:00<?, ?it/s]\u001b[A"
     ]
    },
    {
     "name": "stdout",
     "output_type": "stream",
     "text": [
      "모든 리뷰 불러오기 완료!\n"
     ]
    },
    {
     "name": "stderr",
     "output_type": "stream",
     "text": [
      "save..: 100%|██████████| 14/14 [00:00<00:00, 17.62it/s]\n"
     ]
    },
    {
     "name": "stdout",
     "output_type": "stream",
     "text": [
      "(25503, 11)\n"
     ]
    },
    {
     "name": "stderr",
     "output_type": "stream",
     "text": [
      "\r",
      "craw:  47%|████▋     | 142/300 [3:13:05<2:16:23, 51.80s/it]"
     ]
    },
    {
     "name": "stdout",
     "output_type": "stream",
     "text": [
      "충만치킨-외대점 scroll\n",
      "충만치킨-외대점 44\n",
      "모든 리뷰 불러오기 시작...\n"
     ]
    },
    {
     "name": "stderr",
     "output_type": "stream",
     "text": [
      "\n",
      "save..:   0%|          | 0/44 [00:00<?, ?it/s]\u001b[A"
     ]
    },
    {
     "name": "stdout",
     "output_type": "stream",
     "text": [
      "모든 리뷰 불러오기 완료!\n"
     ]
    },
    {
     "name": "stderr",
     "output_type": "stream",
     "text": [
      "save..: 100%|██████████| 44/44 [00:02<00:00, 19.48it/s]\n"
     ]
    },
    {
     "name": "stdout",
     "output_type": "stream",
     "text": [
      "(25547, 11)\n"
     ]
    },
    {
     "name": "stderr",
     "output_type": "stream",
     "text": [
      "\r",
      "craw:  48%|████▊     | 143/300 [3:14:05<2:22:28, 54.45s/it]"
     ]
    },
    {
     "name": "stdout",
     "output_type": "stream",
     "text": [
      "마카나하와이안쉬림프 scroll\n"
     ]
    },
    {
     "name": "stderr",
     "output_type": "stream",
     "text": [
      "\r",
      "craw:  48%|████▊     | 144/300 [3:14:41<2:07:18, 48.96s/it]"
     ]
    },
    {
     "name": "stdout",
     "output_type": "stream",
     "text": [
      "wrong shop\n",
      "북서울꿈의숲치킨명소 scroll\n",
      "북서울꿈의숲치킨명소 22\n",
      "모든 리뷰 불러오기 시작...\n",
      "모든 리뷰 불러오기 완료!\n"
     ]
    },
    {
     "name": "stderr",
     "output_type": "stream",
     "text": [
      "\n",
      "save..: 100%|██████████| 22/22 [00:01<00:00, 16.81it/s]\n"
     ]
    },
    {
     "name": "stdout",
     "output_type": "stream",
     "text": [
      "(25569, 11)\n"
     ]
    },
    {
     "name": "stderr",
     "output_type": "stream",
     "text": [
      "\r",
      "craw:  48%|████▊     | 145/300 [3:15:14<1:53:27, 43.92s/it]"
     ]
    },
    {
     "name": "stdout",
     "output_type": "stream",
     "text": [
      "라포(Rapport) scroll\n",
      "라포(Rapport) 28\n",
      "모든 리뷰 불러오기 시작...\n"
     ]
    },
    {
     "name": "stderr",
     "output_type": "stream",
     "text": [
      "\n",
      "save..:   0%|          | 0/28 [00:00<?, ?it/s]\u001b[A"
     ]
    },
    {
     "name": "stdout",
     "output_type": "stream",
     "text": [
      "모든 리뷰 불러오기 완료!\n"
     ]
    },
    {
     "name": "stderr",
     "output_type": "stream",
     "text": [
      "save..: 100%|██████████| 28/28 [00:02<00:00, 11.43it/s]\n"
     ]
    },
    {
     "name": "stdout",
     "output_type": "stream",
     "text": [
      "(25597, 11)\n"
     ]
    },
    {
     "name": "stderr",
     "output_type": "stream",
     "text": [
      "\r",
      "craw:  49%|████▊     | 146/300 [3:15:46<1:44:10, 40.58s/it]"
     ]
    },
    {
     "name": "stdout",
     "output_type": "stream",
     "text": [
      "메가커피-중랑역점 scroll\n",
      "메가커피-중랑역점 54\n",
      "모든 리뷰 불러오기 시작...\n",
      "모든 리뷰 불러오기 완료!\n"
     ]
    },
    {
     "name": "stderr",
     "output_type": "stream",
     "text": [
      "\n",
      "save..: 100%|██████████| 54/54 [00:00<00:00, 60.82it/s]\n"
     ]
    },
    {
     "name": "stdout",
     "output_type": "stream",
     "text": [
      "(25651, 11)\n"
     ]
    },
    {
     "name": "stderr",
     "output_type": "stream",
     "text": [
      "\r",
      "craw:  49%|████▉     | 147/300 [3:16:24<1:41:15, 39.71s/it]"
     ]
    },
    {
     "name": "stdout",
     "output_type": "stream",
     "text": [
      "꽁지네 scroll\n",
      "꽁지네 39\n",
      "모든 리뷰 불러오기 시작...\n",
      "모든 리뷰 불러오기 완료!\n"
     ]
    },
    {
     "name": "stderr",
     "output_type": "stream",
     "text": [
      "\n",
      "save..:   0%|          | 0/39 [00:00<?, ?it/s]\u001b[A\n",
      "save..: 100%|██████████| 39/39 [00:03<00:00, 12.70it/s]\u001b[A\n"
     ]
    },
    {
     "name": "stdout",
     "output_type": "stream",
     "text": [
      "(25690, 11)\n"
     ]
    },
    {
     "name": "stderr",
     "output_type": "stream",
     "text": [
      "\r",
      "craw:  49%|████▉     | 148/300 [3:17:23<1:55:05, 45.43s/it]"
     ]
    },
    {
     "name": "stdout",
     "output_type": "stream",
     "text": [
      "초롱이네찌개밥상 scroll\n"
     ]
    },
    {
     "name": "stderr",
     "output_type": "stream",
     "text": [
      "\n",
      "save..:   0%|          | 0/1 [00:00<?, ?it/s]\u001b[A"
     ]
    },
    {
     "name": "stdout",
     "output_type": "stream",
     "text": [
      "초롱이네찌개밥상 1\n",
      "모든 리뷰 불러오기 시작...\n",
      "모든 리뷰 불러오기 완료!\n"
     ]
    },
    {
     "name": "stderr",
     "output_type": "stream",
     "text": [
      "save..: 100%|██████████| 1/1 [00:00<00:00,  4.54it/s]\n"
     ]
    },
    {
     "name": "stdout",
     "output_type": "stream",
     "text": [
      "(25691, 11)\n"
     ]
    },
    {
     "name": "stderr",
     "output_type": "stream",
     "text": [
      "\r",
      "craw:  50%|████▉     | 149/300 [3:18:00<1:48:08, 42.97s/it]"
     ]
    },
    {
     "name": "stdout",
     "output_type": "stream",
     "text": [
      "가츠몽-상봉점 scroll\n",
      "가츠몽-상봉점 275\n",
      "모든 리뷰 불러오기 시작...\n",
      "모든 리뷰 불러오기 완료!\n"
     ]
    },
    {
     "name": "stderr",
     "output_type": "stream",
     "text": [
      "\n",
      "save..:   0%|          | 0/275 [00:00<?, ?it/s]\u001b[A\n",
      "save..:  19%|█▉        | 53/275 [00:03<00:13, 16.49it/s]\u001b[A\n",
      "save..:  35%|███▍      | 95/275 [00:06<00:11, 15.62it/s]\u001b[A\n",
      "save..:  49%|████▉     | 136/275 [00:09<00:09, 14.95it/s]\u001b[A\n",
      "save..:  61%|██████▏   | 169/275 [00:12<00:07, 13.32it/s]\u001b[A\n",
      "save..:  79%|███████▊  | 216/275 [00:15<00:04, 13.92it/s]\u001b[A\n",
      "save..: 100%|██████████| 275/275 [00:18<00:00, 14.52it/s]\u001b[A\n"
     ]
    },
    {
     "name": "stdout",
     "output_type": "stream",
     "text": [
      "(25966, 11)\n"
     ]
    },
    {
     "name": "stderr",
     "output_type": "stream",
     "text": [
      "\r",
      "craw:  50%|█████     | 150/300 [3:19:34<2:25:41, 58.27s/it]"
     ]
    },
    {
     "name": "stdout",
     "output_type": "stream",
     "text": [
      "오티알카페 scroll\n"
     ]
    },
    {
     "name": "stderr",
     "output_type": "stream",
     "text": [
      "\r",
      "craw:  50%|█████     | 151/300 [3:19:46<1:50:19, 44.43s/it]"
     ]
    },
    {
     "name": "stdout",
     "output_type": "stream",
     "text": [
      "wrong shop\n",
      "우찌네녹두파전 scroll\n",
      "우찌네녹두파전 52\n",
      "모든 리뷰 불러오기 시작...\n",
      "모든 리뷰 불러오기 완료!\n"
     ]
    },
    {
     "name": "stderr",
     "output_type": "stream",
     "text": [
      "\n",
      "save..:   0%|          | 0/52 [00:00<?, ?it/s]\u001b[A\n",
      "save..: 100%|██████████| 52/52 [00:03<00:00, 13.35it/s]\u001b[A\n"
     ]
    },
    {
     "name": "stdout",
     "output_type": "stream",
     "text": [
      "(26018, 11)\n"
     ]
    },
    {
     "name": "stderr",
     "output_type": "stream",
     "text": [
      "\r",
      "craw:  51%|█████     | 152/300 [3:20:40<1:56:34, 47.26s/it]"
     ]
    },
    {
     "name": "stdout",
     "output_type": "stream",
     "text": [
      "프로김치와반찬 scroll\n"
     ]
    },
    {
     "name": "stderr",
     "output_type": "stream",
     "text": [
      "\r",
      "craw:  51%|█████     | 153/300 [3:20:47<1:26:30, 35.31s/it]"
     ]
    },
    {
     "name": "stdout",
     "output_type": "stream",
     "text": [
      "wrong shop\n",
      "암사골숯불닭갈비&국밥 scroll\n",
      "암사골숯불닭갈비&국밥 32\n",
      "모든 리뷰 불러오기 시작...\n",
      "모든 리뷰 불러오기 완료!\n"
     ]
    },
    {
     "name": "stderr",
     "output_type": "stream",
     "text": [
      "\n",
      "save..: 100%|██████████| 32/32 [00:01<00:00, 22.29it/s]\n"
     ]
    },
    {
     "name": "stdout",
     "output_type": "stream",
     "text": [
      "(26050, 11)\n"
     ]
    },
    {
     "name": "stderr",
     "output_type": "stream",
     "text": [
      "\r",
      "craw:  51%|█████▏    | 154/300 [3:21:53<1:47:39, 44.24s/it]"
     ]
    },
    {
     "name": "stdout",
     "output_type": "stream",
     "text": [
      "무한등갈비&갈비찜 scroll\n",
      "무한등갈비&갈비찜 34\n",
      "모든 리뷰 불러오기 시작...\n",
      "모든 리뷰 불러오기 완료!\n"
     ]
    },
    {
     "name": "stderr",
     "output_type": "stream",
     "text": [
      "\n",
      "save..: 100%|██████████| 34/34 [00:01<00:00, 21.36it/s]\n"
     ]
    },
    {
     "name": "stdout",
     "output_type": "stream",
     "text": [
      "(26084, 11)\n"
     ]
    },
    {
     "name": "stderr",
     "output_type": "stream",
     "text": [
      "\r",
      "craw:  52%|█████▏    | 155/300 [3:22:34<1:44:37, 43.29s/it]"
     ]
    },
    {
     "name": "stdout",
     "output_type": "stream",
     "text": [
      "현택이두마리치킨 scroll\n",
      "현택이두마리치킨 11\n",
      "모든 리뷰 불러오기 시작...\n"
     ]
    },
    {
     "name": "stderr",
     "output_type": "stream",
     "text": [
      "\n",
      "save..:   0%|          | 0/11 [00:00<?, ?it/s]\u001b[A"
     ]
    },
    {
     "name": "stdout",
     "output_type": "stream",
     "text": [
      "모든 리뷰 불러오기 완료!\n"
     ]
    },
    {
     "name": "stderr",
     "output_type": "stream",
     "text": [
      "save..: 100%|██████████| 11/11 [00:00<00:00, 41.90it/s]\n"
     ]
    },
    {
     "name": "stdout",
     "output_type": "stream",
     "text": [
      "(26095, 11)\n"
     ]
    },
    {
     "name": "stderr",
     "output_type": "stream",
     "text": [
      "\r",
      "craw:  52%|█████▏    | 156/300 [3:23:42<2:01:49, 50.76s/it]"
     ]
    },
    {
     "name": "stdout",
     "output_type": "stream",
     "text": [
      "한솥도시락 외대정문점 scroll\n",
      "한솥도시락 외대정문점 95\n",
      "모든 리뷰 불러오기 시작...\n",
      "모든 리뷰 불러오기 완료!\n"
     ]
    },
    {
     "name": "stderr",
     "output_type": "stream",
     "text": [
      "\n",
      "save..:   0%|          | 0/95 [00:00<?, ?it/s]\u001b[A\n",
      "save..: 100%|██████████| 95/95 [00:05<00:00, 17.60it/s]\u001b[A\n"
     ]
    },
    {
     "name": "stdout",
     "output_type": "stream",
     "text": [
      "(26190, 11)\n"
     ]
    },
    {
     "name": "stderr",
     "output_type": "stream",
     "text": [
      "\r",
      "craw:  52%|█████▏    | 157/300 [3:24:22<1:53:12, 47.50s/it]"
     ]
    },
    {
     "name": "stdout",
     "output_type": "stream",
     "text": [
      "오거리왕십리곱창-본점 scroll\n",
      "오거리왕십리곱창-본점 17\n",
      "모든 리뷰 불러오기 시작...\n"
     ]
    },
    {
     "name": "stderr",
     "output_type": "stream",
     "text": [
      "\n",
      "save..:   0%|          | 0/17 [00:00<?, ?it/s]\u001b[A"
     ]
    },
    {
     "name": "stdout",
     "output_type": "stream",
     "text": [
      "모든 리뷰 불러오기 완료!\n"
     ]
    },
    {
     "name": "stderr",
     "output_type": "stream",
     "text": [
      "save..: 100%|██████████| 17/17 [00:00<00:00, 22.00it/s]\n"
     ]
    },
    {
     "name": "stdout",
     "output_type": "stream",
     "text": [
      "(26207, 11)\n"
     ]
    },
    {
     "name": "stderr",
     "output_type": "stream",
     "text": [
      "\r",
      "craw:  53%|█████▎    | 158/300 [3:25:28<2:05:51, 53.18s/it]"
     ]
    },
    {
     "name": "stdout",
     "output_type": "stream",
     "text": [
      "뚜레쥬르-상월곡역점 scroll\n",
      "뚜레쥬르-상월곡역점 68\n",
      "모든 리뷰 불러오기 시작...\n",
      "모든 리뷰 불러오기 완료!\n"
     ]
    },
    {
     "name": "stderr",
     "output_type": "stream",
     "text": [
      "\n",
      "save..:   0%|          | 0/68 [00:00<?, ?it/s]\u001b[A\n",
      "save..:  49%|████▊     | 33/68 [00:03<00:03, 10.54it/s]\u001b[A\n",
      "save..: 100%|██████████| 68/68 [00:06<00:00, 10.18it/s]\u001b[A\n"
     ]
    },
    {
     "name": "stdout",
     "output_type": "stream",
     "text": [
      "(26275, 11)\n"
     ]
    },
    {
     "name": "stderr",
     "output_type": "stream",
     "text": [
      "\r",
      "craw:  53%|█████▎    | 159/300 [3:26:08<1:55:21, 49.09s/it]"
     ]
    },
    {
     "name": "stdout",
     "output_type": "stream",
     "text": [
      "정직한삼겹살-동대문점 scroll\n",
      "정직한삼겹살-동대문점 15\n",
      "모든 리뷰 불러오기 시작...\n",
      "모든 리뷰 불러오기 완료!\n"
     ]
    },
    {
     "name": "stderr",
     "output_type": "stream",
     "text": [
      "\n",
      "save..: 100%|██████████| 15/15 [00:01<00:00, 10.16it/s]\n"
     ]
    },
    {
     "name": "stdout",
     "output_type": "stream",
     "text": [
      "(26290, 11)\n"
     ]
    },
    {
     "name": "stderr",
     "output_type": "stream",
     "text": [
      "\r",
      "craw:  53%|█████▎    | 160/300 [3:26:48<1:48:22, 46.45s/it]"
     ]
    },
    {
     "name": "stdout",
     "output_type": "stream",
     "text": [
      "엘가-외대점 scroll\n",
      "엘가-외대점 5\n",
      "모든 리뷰 불러오기 시작...\n",
      "모든 리뷰 불러오기 완료!\n"
     ]
    },
    {
     "name": "stderr",
     "output_type": "stream",
     "text": [
      "\n",
      "save..: 100%|██████████| 5/5 [00:00<00:00, 13.93it/s]\n"
     ]
    },
    {
     "name": "stdout",
     "output_type": "stream",
     "text": [
      "(26295, 11)\n"
     ]
    },
    {
     "name": "stderr",
     "output_type": "stream",
     "text": [
      "\r",
      "craw:  54%|█████▎    | 161/300 [3:27:02<1:25:18, 36.82s/it]"
     ]
    },
    {
     "name": "stdout",
     "output_type": "stream",
     "text": [
      "묵동곱도리탕 scroll\n"
     ]
    },
    {
     "name": "stderr",
     "output_type": "stream",
     "text": [
      "\r",
      "craw:  54%|█████▍    | 162/300 [3:27:23<1:13:22, 31.91s/it]"
     ]
    },
    {
     "name": "stdout",
     "output_type": "stream",
     "text": [
      "wrong shop\n",
      "썬더치킨-시립대점 scroll\n",
      "썬더치킨-시립대점 73\n",
      "모든 리뷰 불러오기 시작...\n",
      "모든 리뷰 불러오기 완료!\n"
     ]
    },
    {
     "name": "stderr",
     "output_type": "stream",
     "text": [
      "\n",
      "save..:   0%|          | 0/73 [00:00<?, ?it/s]\u001b[A\n",
      "save..: 100%|██████████| 73/73 [00:03<00:00, 20.75it/s]\u001b[A\n"
     ]
    },
    {
     "name": "stdout",
     "output_type": "stream",
     "text": [
      "(26368, 11)\n"
     ]
    },
    {
     "name": "stderr",
     "output_type": "stream",
     "text": [
      "\r",
      "craw:  54%|█████▍    | 163/300 [3:28:13<1:25:10, 37.30s/it]"
     ]
    },
    {
     "name": "stdout",
     "output_type": "stream",
     "text": [
      "왕코등갈비-장안동점 scroll\n"
     ]
    },
    {
     "name": "stderr",
     "output_type": "stream",
     "text": [
      "\n",
      "save..:   0%|          | 0/7 [00:00<?, ?it/s]\u001b[A"
     ]
    },
    {
     "name": "stdout",
     "output_type": "stream",
     "text": [
      "왕코등갈비-장안동점 7\n",
      "모든 리뷰 불러오기 시작...\n",
      "모든 리뷰 불러오기 완료!\n"
     ]
    },
    {
     "name": "stderr",
     "output_type": "stream",
     "text": [
      "save..: 100%|██████████| 7/7 [00:00<00:00, 11.42it/s]\n"
     ]
    },
    {
     "name": "stdout",
     "output_type": "stream",
     "text": [
      "(26375, 11)\n"
     ]
    },
    {
     "name": "stderr",
     "output_type": "stream",
     "text": [
      "\r",
      "craw:  55%|█████▍    | 164/300 [3:29:17<1:42:38, 45.28s/it]"
     ]
    },
    {
     "name": "stdout",
     "output_type": "stream",
     "text": [
      "쉐프부대-동대문점 scroll\n"
     ]
    },
    {
     "name": "stderr",
     "output_type": "stream",
     "text": [
      "\n",
      "save..: 100%|██████████| 1/1 [00:00<00:00, 992.97it/s]"
     ]
    },
    {
     "name": "stdout",
     "output_type": "stream",
     "text": [
      "쉐프부대-동대문점 1\n",
      "모든 리뷰 불러오기 시작...\n",
      "모든 리뷰 불러오기 완료!\n",
      "(26376, 11)\n"
     ]
    },
    {
     "name": "stderr",
     "output_type": "stream",
     "text": [
      "\n",
      "craw:  55%|█████▌    | 165/300 [3:29:55<1:37:23, 43.29s/it]"
     ]
    },
    {
     "name": "stdout",
     "output_type": "stream",
     "text": [
      "코코버블티-경희대입구점 scroll\n",
      "코코버블티-경희대입구점 17\n",
      "모든 리뷰 불러오기 시작...\n"
     ]
    },
    {
     "name": "stderr",
     "output_type": "stream",
     "text": [
      "\n",
      "save..:   0%|          | 0/17 [00:00<?, ?it/s]\u001b[A"
     ]
    },
    {
     "name": "stdout",
     "output_type": "stream",
     "text": [
      "모든 리뷰 불러오기 완료!\n"
     ]
    },
    {
     "name": "stderr",
     "output_type": "stream",
     "text": [
      "save..: 100%|██████████| 17/17 [00:00<00:00, 17.58it/s]\n"
     ]
    },
    {
     "name": "stdout",
     "output_type": "stream",
     "text": [
      "(26393, 11)\n"
     ]
    },
    {
     "name": "stderr",
     "output_type": "stream",
     "text": [
      "\r",
      "craw:  55%|█████▌    | 166/300 [3:30:12<1:18:51, 35.31s/it]"
     ]
    },
    {
     "name": "stdout",
     "output_type": "stream",
     "text": [
      "스무디킹-청량리역사점 scroll\n",
      "스무디킹-청량리역사점 19\n",
      "모든 리뷰 불러오기 시작...\n",
      "모든 리뷰 불러오기 완료!\n"
     ]
    },
    {
     "name": "stderr",
     "output_type": "stream",
     "text": [
      "\n",
      "save..: 100%|██████████| 19/19 [00:00<00:00, 30.69it/s]\n"
     ]
    },
    {
     "name": "stdout",
     "output_type": "stream",
     "text": [
      "(26412, 11)\n"
     ]
    },
    {
     "name": "stderr",
     "output_type": "stream",
     "text": [
      "\r",
      "craw:  56%|█████▌    | 167/300 [3:30:28<1:05:41, 29.63s/it]"
     ]
    },
    {
     "name": "stdout",
     "output_type": "stream",
     "text": [
      "스타삼겹살 scroll\n",
      "스타삼겹살 4760\n",
      "모든 리뷰 불러오기 시작...\n",
      "모든 리뷰 불러오기 완료!\n"
     ]
    },
    {
     "name": "stderr",
     "output_type": "stream",
     "text": [
      "\n",
      "save..:   0%|          | 0/4760 [00:00<?, ?it/s]\u001b[A\n",
      "save..:   1%|▏         | 65/4760 [00:03<03:37, 21.55it/s]\u001b[A\n",
      "save..:   3%|▎         | 123/4760 [00:06<03:43, 20.75it/s]\u001b[A\n",
      "save..:   4%|▍         | 179/4760 [00:09<03:52, 19.69it/s]\u001b[A\n",
      "save..:   5%|▍         | 227/4760 [00:12<04:08, 18.27it/s]\u001b[A\n",
      "save..:   6%|▌         | 291/4760 [00:15<03:54, 19.03it/s]\u001b[A\n",
      "save..:   7%|▋         | 352/4760 [00:18<03:48, 19.28it/s]\u001b[A\n",
      "save..:   9%|▊         | 414/4760 [00:21<03:42, 19.54it/s]\u001b[A\n",
      "save..:  10%|█         | 483/4760 [00:24<03:30, 20.35it/s]\u001b[A\n",
      "save..:  11%|█▏        | 541/4760 [00:28<03:45, 18.70it/s]\u001b[A\n",
      "save..:  13%|█▎        | 616/4760 [00:31<03:25, 20.18it/s]\u001b[A\n",
      "save..:  14%|█▍        | 678/4760 [00:34<03:21, 20.29it/s]\u001b[A\n",
      "save..:  16%|█▌        | 756/4760 [00:37<03:04, 21.70it/s]\u001b[A\n",
      "save..:  18%|█▊        | 841/4760 [00:40<02:48, 23.27it/s]\u001b[A\n",
      "save..:  20%|█▉        | 932/4760 [00:43<02:35, 24.60it/s]\u001b[A\n",
      "save..:  21%|██        | 1008/4760 [00:46<02:34, 24.27it/s]\u001b[A\n",
      "save..:  23%|██▎       | 1083/4760 [00:50<02:46, 22.15it/s]\u001b[A\n",
      "save..:  24%|██▍       | 1155/4760 [00:53<02:40, 22.52it/s]\u001b[A\n",
      "save..:  26%|██▌       | 1224/4760 [00:56<02:36, 22.62it/s]\u001b[A\n",
      "save..:  27%|██▋       | 1300/4760 [01:00<02:29, 23.09it/s]\u001b[A\n",
      "save..:  29%|██▉       | 1401/4760 [01:03<02:11, 25.47it/s]\u001b[A\n",
      "save..:  31%|███       | 1481/4760 [01:06<02:12, 24.78it/s]\u001b[A\n",
      "save..:  33%|███▎      | 1558/4760 [01:10<02:18, 23.12it/s]\u001b[A\n",
      "save..:  35%|███▌      | 1682/4760 [01:13<01:56, 26.32it/s]\u001b[A\n",
      "save..:  37%|███▋      | 1768/4760 [01:16<01:52, 26.48it/s]\u001b[A\n",
      "save..:  39%|███▉      | 1869/4760 [01:19<01:42, 28.22it/s]\u001b[A\n",
      "save..:  41%|████      | 1962/4760 [01:22<01:36, 28.93it/s]\u001b[A\n",
      "save..:  44%|████▎     | 2078/4760 [01:25<01:25, 31.25it/s]\u001b[A\n",
      "save..:  46%|████▌     | 2178/4760 [01:28<01:21, 31.70it/s]\u001b[A\n",
      "save..:  48%|████▊     | 2281/4760 [01:31<01:16, 32.33it/s]\u001b[A\n",
      "save..:  51%|█████     | 2430/4760 [01:34<01:04, 36.06it/s]\u001b[A\n",
      "save..:  54%|█████▎    | 2554/4760 [01:38<00:59, 37.16it/s]\u001b[A\n",
      "save..:  57%|█████▋    | 2714/4760 [01:41<00:50, 40.67it/s]\u001b[A\n",
      "save..:  60%|█████▉    | 2842/4760 [01:44<00:49, 39.06it/s]\u001b[A\n",
      "save..:  62%|██████▏   | 2968/4760 [01:47<00:45, 39.69it/s]\u001b[A\n",
      "save..:  65%|██████▌   | 3104/4760 [01:50<00:40, 41.20it/s]\u001b[A\n",
      "save..:  68%|██████▊   | 3252/4760 [01:53<00:34, 43.27it/s]\u001b[A\n",
      "save..:  71%|███████▏  | 3393/4760 [01:56<00:31, 44.09it/s]\u001b[A\n",
      "save..:  74%|███████▍  | 3528/4760 [02:00<00:29, 41.86it/s]\u001b[A\n",
      "save..:  77%|███████▋  | 3682/4760 [02:03<00:24, 43.62it/s]\u001b[A\n",
      "save..:  80%|████████  | 3815/4760 [02:06<00:21, 43.21it/s]\u001b[A\n",
      "save..:  85%|████████▍ | 4023/4760 [02:09<00:15, 48.34it/s]\u001b[A\n",
      "save..:  88%|████████▊ | 4175/4760 [02:14<00:14, 41.28it/s]\u001b[A\n",
      "save..:  91%|█████████ | 4335/4760 [02:17<00:09, 44.20it/s]\u001b[A\n",
      "save..:  94%|█████████▍| 4477/4760 [02:22<00:06, 40.48it/s]\u001b[A\n",
      "save..: 100%|██████████| 4760/4760 [02:28<00:00, 32.12it/s]\u001b[A\n"
     ]
    },
    {
     "name": "stdout",
     "output_type": "stream",
     "text": [
      "(31172, 11)\n"
     ]
    },
    {
     "name": "stderr",
     "output_type": "stream",
     "text": [
      "\r",
      "craw:  56%|█████▌    | 168/300 [4:02:07<21:38:50, 590.39s/it]"
     ]
    },
    {
     "name": "stdout",
     "output_type": "stream",
     "text": [
      "빅스타피자-서울안암점 scroll\n",
      "빅스타피자-서울안암점 978\n",
      "모든 리뷰 불러오기 시작...\n",
      "모든 리뷰 불러오기 완료!\n"
     ]
    },
    {
     "name": "stderr",
     "output_type": "stream",
     "text": [
      "\n",
      "save..:   0%|          | 0/978 [00:00<?, ?it/s]\u001b[A\n",
      "save..:   5%|▌         | 50/978 [00:03<00:56, 16.45it/s]\u001b[A\n",
      "save..:  11%|█         | 105/978 [00:06<00:51, 16.94it/s]\u001b[A\n",
      "save..:  17%|█▋        | 168/978 [00:09<00:45, 17.97it/s]\u001b[A\n",
      "save..:  23%|██▎       | 222/978 [00:12<00:42, 17.97it/s]\u001b[A\n",
      "save..:  29%|██▊       | 281/978 [00:15<00:37, 18.34it/s]\u001b[A\n",
      "save..:  34%|███▍      | 335/978 [00:18<00:35, 17.99it/s]\u001b[A\n",
      "save..:  39%|███▉      | 384/978 [00:21<00:34, 17.42it/s]\u001b[A\n",
      "save..:  45%|████▍     | 439/978 [00:24<00:30, 17.45it/s]\u001b[A\n",
      "save..:  53%|█████▎    | 515/978 [00:27<00:24, 19.22it/s]\u001b[A\n",
      "save..:  59%|█████▊    | 573/978 [00:30<00:21, 19.21it/s]\u001b[A\n",
      "save..:  65%|██████▌   | 637/978 [00:33<00:17, 19.79it/s]\u001b[A\n",
      "save..:  72%|███████▏  | 701/978 [00:36<00:13, 20.19it/s]\u001b[A\n",
      "save..:  78%|███████▊  | 764/978 [00:39<00:10, 20.32it/s]\u001b[A\n",
      "save..:  89%|████████▉ | 869/978 [00:42<00:04, 23.23it/s]\u001b[A\n",
      "save..: 100%|██████████| 978/978 [00:45<00:00, 21.29it/s]\u001b[A\n"
     ]
    },
    {
     "name": "stdout",
     "output_type": "stream",
     "text": [
      "(32150, 11)\n"
     ]
    },
    {
     "name": "stderr",
     "output_type": "stream",
     "text": [
      "\r",
      "craw:  56%|█████▋    | 169/300 [4:06:53<18:09:25, 498.98s/it]"
     ]
    },
    {
     "name": "stdout",
     "output_type": "stream",
     "text": [
      "두마리찜닭두찜-동대문휘경점 scroll\n",
      "두마리찜닭두찜-동대문휘경점 76\n",
      "모든 리뷰 불러오기 시작...\n",
      "모든 리뷰 불러오기 완료!\n"
     ]
    },
    {
     "name": "stderr",
     "output_type": "stream",
     "text": [
      "\n",
      "save..:   0%|          | 0/76 [00:00<?, ?it/s]\u001b[A\n",
      "save..: 100%|██████████| 76/76 [00:04<00:00, 16.20it/s]\u001b[A\n"
     ]
    },
    {
     "name": "stdout",
     "output_type": "stream",
     "text": [
      "(32226, 11)\n"
     ]
    },
    {
     "name": "stderr",
     "output_type": "stream",
     "text": [
      "\r",
      "craw:  57%|█████▋    | 170/300 [4:07:59<13:19:57, 369.21s/it]"
     ]
    },
    {
     "name": "stdout",
     "output_type": "stream",
     "text": [
      "락식락당-경희대점 scroll\n",
      "락식락당-경희대점 1053\n",
      "모든 리뷰 불러오기 시작...\n",
      "모든 리뷰 불러오기 완료!\n"
     ]
    },
    {
     "name": "stderr",
     "output_type": "stream",
     "text": [
      "\n",
      "save..:   0%|          | 0/1053 [00:00<?, ?it/s]\u001b[A\n",
      "save..:   4%|▎         | 37/1053 [00:03<01:26, 11.76it/s]\u001b[A\n",
      "save..:   8%|▊         | 86/1053 [00:06<01:15, 12.78it/s]\u001b[A\n",
      "save..:  12%|█▏        | 123/1053 [00:09<01:13, 12.63it/s]\u001b[A\n",
      "save..:  15%|█▌        | 163/1053 [00:12<01:09, 12.78it/s]\u001b[A\n",
      "save..:  19%|█▉        | 200/1053 [00:15<01:08, 12.54it/s]\u001b[A\n",
      "save..:  22%|██▏       | 236/1053 [00:18<01:06, 12.20it/s]\u001b[A\n",
      "save..:  27%|██▋       | 283/1053 [00:21<00:59, 13.02it/s]\u001b[A\n",
      "save..:  31%|███       | 327/1053 [00:24<00:54, 13.44it/s]\u001b[A\n",
      "save..:  35%|███▍      | 368/1053 [00:27<00:50, 13.48it/s]\u001b[A\n",
      "save..:  39%|███▉      | 409/1053 [00:30<00:47, 13.51it/s]\u001b[A\n",
      "save..:  43%|████▎     | 451/1053 [00:33<00:44, 13.53it/s]\u001b[A\n",
      "save..:  47%|████▋     | 497/1053 [00:36<00:39, 13.95it/s]\u001b[A\n",
      "save..:  51%|█████     | 539/1053 [00:40<00:39, 12.93it/s]\u001b[A\n",
      "save..:  55%|█████▍    | 579/1053 [00:43<00:37, 12.80it/s]\u001b[A\n",
      "save..:  59%|█████▉    | 619/1053 [00:46<00:33, 12.91it/s]\u001b[A\n",
      "save..:  62%|██████▏   | 658/1053 [00:50<00:32, 11.97it/s]\u001b[A\n",
      "save..:  66%|██████▌   | 695/1053 [00:53<00:30, 11.83it/s]\u001b[A\n",
      "save..:  70%|███████   | 738/1053 [00:56<00:25, 12.48it/s]\u001b[A\n",
      "save..:  74%|███████▎  | 776/1053 [01:00<00:23, 11.85it/s]\u001b[A\n",
      "save..:  77%|███████▋  | 813/1053 [01:04<00:21, 11.30it/s]\u001b[A\n",
      "save..:  81%|████████  | 854/1053 [01:07<00:16, 11.83it/s]\u001b[A\n",
      "save..:  85%|████████▌ | 900/1053 [01:10<00:12, 12.64it/s]\u001b[A\n",
      "save..:  90%|█████████ | 950/1053 [01:13<00:07, 13.62it/s]\u001b[A\n",
      "save..: 100%|██████████| 1053/1053 [01:18<00:00, 13.36it/s]\u001b[A\n"
     ]
    },
    {
     "name": "stdout",
     "output_type": "stream",
     "text": [
      "(33279, 11)\n"
     ]
    },
    {
     "name": "stderr",
     "output_type": "stream",
     "text": [
      "\r",
      "craw:  57%|█████▋    | 171/300 [4:13:40<12:55:44, 360.81s/it]"
     ]
    },
    {
     "name": "stdout",
     "output_type": "stream",
     "text": [
      "따순둥뼈해장국 scroll\n",
      "따순둥뼈해장국 21\n",
      "모든 리뷰 불러오기 시작...\n"
     ]
    },
    {
     "name": "stderr",
     "output_type": "stream",
     "text": [
      "\n",
      "save..:   0%|          | 0/21 [00:00<?, ?it/s]\u001b[A"
     ]
    },
    {
     "name": "stdout",
     "output_type": "stream",
     "text": [
      "모든 리뷰 불러오기 완료!\n"
     ]
    },
    {
     "name": "stderr",
     "output_type": "stream",
     "text": [
      "save..: 100%|██████████| 21/21 [00:01<00:00, 14.04it/s]\n"
     ]
    },
    {
     "name": "stdout",
     "output_type": "stream",
     "text": [
      "(33300, 11)\n"
     ]
    },
    {
     "name": "stderr",
     "output_type": "stream",
     "text": [
      "\r",
      "craw:  57%|█████▋    | 172/300 [4:14:11<9:18:23, 261.75s/it] "
     ]
    },
    {
     "name": "stdout",
     "output_type": "stream",
     "text": [
      "고대골목집 scroll\n",
      "고대골목집 47\n",
      "모든 리뷰 불러오기 시작...\n",
      "모든 리뷰 불러오기 완료!\n"
     ]
    },
    {
     "name": "stderr",
     "output_type": "stream",
     "text": [
      "\n",
      "save..: 100%|██████████| 47/47 [00:01<00:00, 30.79it/s]\n"
     ]
    },
    {
     "name": "stdout",
     "output_type": "stream",
     "text": [
      "(33347, 11)\n"
     ]
    },
    {
     "name": "stderr",
     "output_type": "stream",
     "text": [
      "\r",
      "craw:  58%|█████▊    | 173/300 [4:15:17<7:10:01, 203.16s/it]"
     ]
    },
    {
     "name": "stdout",
     "output_type": "stream",
     "text": [
      "옹골찬감자탕 scroll\n"
     ]
    },
    {
     "name": "stderr",
     "output_type": "stream",
     "text": [
      "\r",
      "craw:  58%|█████▊    | 174/300 [4:15:31<5:07:15, 146.32s/it]"
     ]
    },
    {
     "name": "stdout",
     "output_type": "stream",
     "text": [
      "wrong shop\n",
      "전초전-사가정점 scroll\n",
      "전초전-사가정점 10\n",
      "모든 리뷰 불러오기 시작...\n"
     ]
    },
    {
     "name": "stderr",
     "output_type": "stream",
     "text": [
      "\n",
      "save..:   0%|          | 0/10 [00:00<?, ?it/s]\u001b[A"
     ]
    },
    {
     "name": "stdout",
     "output_type": "stream",
     "text": [
      "모든 리뷰 불러오기 완료!\n"
     ]
    },
    {
     "name": "stderr",
     "output_type": "stream",
     "text": [
      "save..: 100%|██████████| 10/10 [00:00<00:00, 12.66it/s]\n"
     ]
    },
    {
     "name": "stdout",
     "output_type": "stream",
     "text": [
      "(33357, 11)\n"
     ]
    },
    {
     "name": "stderr",
     "output_type": "stream",
     "text": [
      "\r",
      "craw:  58%|█████▊    | 175/300 [4:16:19<4:03:35, 116.92s/it]"
     ]
    },
    {
     "name": "stdout",
     "output_type": "stream",
     "text": [
      "계림원-회기점 scroll\n"
     ]
    },
    {
     "name": "stderr",
     "output_type": "stream",
     "text": [
      "\n",
      "save..:   0%|          | 0/5 [00:00<?, ?it/s]\u001b[A"
     ]
    },
    {
     "name": "stdout",
     "output_type": "stream",
     "text": [
      "계림원-회기점 5\n",
      "모든 리뷰 불러오기 시작...\n",
      "모든 리뷰 불러오기 완료!\n"
     ]
    },
    {
     "name": "stderr",
     "output_type": "stream",
     "text": [
      "save..: 100%|██████████| 5/5 [00:00<00:00,  7.54it/s]\n"
     ]
    },
    {
     "name": "stdout",
     "output_type": "stream",
     "text": [
      "(33362, 11)\n"
     ]
    },
    {
     "name": "stderr",
     "output_type": "stream",
     "text": [
      "\r",
      "craw:  59%|█████▊    | 176/300 [4:17:05<3:17:33, 95.60s/it] "
     ]
    },
    {
     "name": "stdout",
     "output_type": "stream",
     "text": [
      "여기가좋겠네 scroll\n"
     ]
    },
    {
     "name": "stderr",
     "output_type": "stream",
     "text": [
      "\n",
      "save..:   0%|          | 0/8 [00:00<?, ?it/s]\u001b[A"
     ]
    },
    {
     "name": "stdout",
     "output_type": "stream",
     "text": [
      "여기가좋겠네 8\n",
      "모든 리뷰 불러오기 시작...\n",
      "모든 리뷰 불러오기 완료!\n"
     ]
    },
    {
     "name": "stderr",
     "output_type": "stream",
     "text": [
      "save..: 100%|██████████| 8/8 [00:00<00:00, 13.26it/s]\n"
     ]
    },
    {
     "name": "stdout",
     "output_type": "stream",
     "text": [
      "(33370, 11)\n"
     ]
    },
    {
     "name": "stderr",
     "output_type": "stream",
     "text": [
      "\r",
      "craw:  59%|█████▉    | 177/300 [4:17:19<2:25:54, 71.17s/it]"
     ]
    },
    {
     "name": "stdout",
     "output_type": "stream",
     "text": [
      "따봉하우스 scroll\n",
      "따봉하우스 23\n",
      "모든 리뷰 불러오기 시작...\n"
     ]
    },
    {
     "name": "stderr",
     "output_type": "stream",
     "text": [
      "\n",
      "save..:   0%|          | 0/23 [00:00<?, ?it/s]\u001b[A"
     ]
    },
    {
     "name": "stdout",
     "output_type": "stream",
     "text": [
      "모든 리뷰 불러오기 완료!\n"
     ]
    },
    {
     "name": "stderr",
     "output_type": "stream",
     "text": [
      "save..: 100%|██████████| 23/23 [00:01<00:00, 17.91it/s]\n"
     ]
    },
    {
     "name": "stdout",
     "output_type": "stream",
     "text": [
      "(33393, 11)\n"
     ]
    },
    {
     "name": "stderr",
     "output_type": "stream",
     "text": [
      "\r",
      "craw:  59%|█████▉    | 178/300 [4:17:39<1:52:54, 55.53s/it]"
     ]
    },
    {
     "name": "stdout",
     "output_type": "stream",
     "text": [
      "신현대반점 scroll\n",
      "신현대반점 1975\n",
      "모든 리뷰 불러오기 시작...\n",
      "모든 리뷰 불러오기 완료!\n"
     ]
    },
    {
     "name": "stderr",
     "output_type": "stream",
     "text": [
      "\n",
      "save..:   0%|          | 0/1975 [00:00<?, ?it/s]\u001b[A\n",
      "save..:   3%|▎         | 52/1975 [00:03<01:50, 17.33it/s]\u001b[A\n",
      "save..:   5%|▌         | 99/1975 [00:06<01:54, 16.35it/s]\u001b[A\n",
      "save..:   7%|▋         | 145/1975 [00:09<01:55, 15.84it/s]\u001b[A\n",
      "save..:   9%|▉         | 176/1975 [00:12<02:22, 12.65it/s]\u001b[A\n",
      "save..:  11%|█         | 220/1975 [00:15<02:13, 13.17it/s]\u001b[A\n",
      "save..:  14%|█▍        | 278/1975 [00:19<01:57, 14.48it/s]\u001b[A\n",
      "save..:  17%|█▋        | 326/1975 [00:22<01:52, 14.68it/s]\u001b[A\n",
      "save..:  19%|█▉        | 377/1975 [00:25<01:45, 15.21it/s]\u001b[A\n",
      "save..:  22%|██▏       | 430/1975 [00:28<01:37, 15.82it/s]\u001b[A\n",
      "save..:  25%|██▌       | 495/1975 [00:31<01:26, 17.18it/s]\u001b[A\n",
      "save..:  28%|██▊       | 548/1975 [00:35<01:31, 15.61it/s]\u001b[A\n",
      "save..:  30%|███       | 596/1975 [00:38<01:28, 15.56it/s]\u001b[A\n",
      "save..:  33%|███▎      | 644/1975 [00:42<01:34, 14.07it/s]\u001b[A\n",
      "save..:  35%|███▍      | 688/1975 [00:45<01:32, 13.99it/s]\u001b[A\n",
      "save..:  37%|███▋      | 731/1975 [00:49<01:28, 13.98it/s]\u001b[A\n",
      "save..:  40%|███▉      | 783/1975 [00:52<01:21, 14.65it/s]\u001b[A\n",
      "save..:  42%|████▏     | 830/1975 [00:55<01:16, 14.92it/s]\u001b[A\n",
      "save..:  44%|████▍     | 876/1975 [00:58<01:16, 14.44it/s]\u001b[A\n",
      "save..:  47%|████▋     | 920/1975 [01:02<01:15, 13.95it/s]\u001b[A\n",
      "save..:  50%|████▉     | 978/1975 [01:05<01:05, 15.15it/s]\u001b[A\n",
      "save..:  52%|█████▏    | 1025/1975 [01:08<01:05, 14.54it/s]\u001b[A\n",
      "save..:  55%|█████▍    | 1078/1975 [01:11<00:58, 15.31it/s]\u001b[A\n",
      "save..:  57%|█████▋    | 1131/1975 [01:14<00:53, 15.75it/s]\u001b[A\n",
      "save..:  60%|█████▉    | 1182/1975 [01:17<00:49, 16.10it/s]\u001b[A\n",
      "save..:  62%|██████▏   | 1231/1975 [01:21<00:49, 15.03it/s]\u001b[A\n",
      "save..:  65%|██████▌   | 1287/1975 [01:24<00:43, 15.80it/s]\u001b[A\n",
      "save..:  68%|██████▊   | 1336/1975 [01:28<00:41, 15.43it/s]\u001b[A\n",
      "save..:  70%|███████   | 1383/1975 [01:31<00:38, 15.37it/s]\u001b[A\n",
      "save..:  73%|███████▎  | 1434/1975 [01:34<00:34, 15.77it/s]\u001b[A\n",
      "save..:  75%|███████▌  | 1490/1975 [01:37<00:29, 16.29it/s]\u001b[A\n",
      "save..:  78%|███████▊  | 1540/1975 [01:40<00:27, 16.08it/s]\u001b[A\n",
      "save..:  81%|████████  | 1592/1975 [01:43<00:23, 16.38it/s]\u001b[A\n",
      "save..:  83%|████████▎ | 1647/1975 [01:46<00:19, 16.87it/s]\u001b[A\n",
      "save..:  86%|████████▌ | 1698/1975 [01:49<00:16, 16.59it/s]\u001b[A\n",
      "save..:  89%|████████▊ | 1752/1975 [01:52<00:13, 16.81it/s]\u001b[A\n",
      "save..:  91%|█████████▏| 1803/1975 [01:56<00:10, 15.97it/s]\u001b[A\n",
      "save..:  94%|█████████▍| 1852/1975 [02:00<00:08, 15.03it/s]\u001b[A\n",
      "save..:  96%|█████████▌| 1898/1975 [02:03<00:05, 14.82it/s]\u001b[A\n",
      "save..: 100%|██████████| 1975/1975 [02:08<00:00, 15.41it/s]\u001b[A\n"
     ]
    },
    {
     "name": "stdout",
     "output_type": "stream",
     "text": [
      "(35368, 11)\n"
     ]
    },
    {
     "name": "stderr",
     "output_type": "stream",
     "text": [
      "\r",
      "craw:  60%|█████▉    | 179/300 [4:29:20<8:22:35, 249.22s/it]"
     ]
    },
    {
     "name": "stdout",
     "output_type": "stream",
     "text": [
      "역전숯불바베큐 scroll\n",
      "역전숯불바베큐 23\n",
      "모든 리뷰 불러오기 시작...\n"
     ]
    },
    {
     "name": "stderr",
     "output_type": "stream",
     "text": [
      "\n",
      "save..:   0%|          | 0/23 [00:00<?, ?it/s]\u001b[A"
     ]
    },
    {
     "name": "stdout",
     "output_type": "stream",
     "text": [
      "모든 리뷰 불러오기 완료!\n"
     ]
    },
    {
     "name": "stderr",
     "output_type": "stream",
     "text": [
      "save..: 100%|██████████| 23/23 [00:01<00:00, 15.39it/s]\n"
     ]
    },
    {
     "name": "stdout",
     "output_type": "stream",
     "text": [
      "(35391, 11)\n"
     ]
    },
    {
     "name": "stderr",
     "output_type": "stream",
     "text": [
      "\r",
      "craw:  60%|██████    | 180/300 [4:29:54<6:09:13, 184.61s/it]"
     ]
    },
    {
     "name": "stdout",
     "output_type": "stream",
     "text": [
      "쨍하고회썬날N물회식사 scroll\n",
      "쨍하고회썬날N물회식사 1501\n",
      "모든 리뷰 불러오기 시작...\n",
      "모든 리뷰 불러오기 완료!\n"
     ]
    },
    {
     "name": "stderr",
     "output_type": "stream",
     "text": [
      "\n",
      "save..:   0%|          | 0/1501 [00:00<?, ?it/s]\u001b[A\n",
      "save..:   3%|▎         | 38/1501 [00:03<01:55, 12.64it/s]\u001b[A\n",
      "save..:   5%|▍         | 74/1501 [00:06<01:57, 12.17it/s]\u001b[A\n",
      "save..:  10%|▉         | 145/1501 [00:09<01:36, 13.99it/s]\u001b[A\n",
      "save..:  13%|█▎        | 193/1501 [00:12<01:30, 14.51it/s]\u001b[A\n",
      "save..:  15%|█▌        | 230/1501 [00:15<01:32, 13.71it/s]\u001b[A\n",
      "save..:  18%|█▊        | 274/1501 [00:18<01:27, 13.98it/s]\u001b[A\n",
      "save..:  22%|██▏       | 323/1501 [00:21<01:21, 14.39it/s]\u001b[A\n",
      "save..:  26%|██▌       | 384/1501 [00:24<01:11, 15.69it/s]\u001b[A\n",
      "save..:  29%|██▉       | 435/1501 [00:27<01:06, 15.98it/s]\u001b[A\n",
      "save..:  32%|███▏      | 483/1501 [00:32<01:13, 13.92it/s]\u001b[A\n",
      "save..:  35%|███▌      | 532/1501 [00:35<01:06, 14.48it/s]\u001b[A\n",
      "save..:  38%|███▊      | 577/1501 [00:38<01:04, 14.29it/s]\u001b[A\n",
      "save..:  41%|████▏     | 621/1501 [00:42<01:05, 13.36it/s]\u001b[A\n",
      "save..:  44%|████▍     | 662/1501 [00:46<01:09, 12.00it/s]\u001b[A\n",
      "save..:  47%|████▋     | 703/1501 [00:49<01:04, 12.44it/s]\u001b[A\n",
      "save..:  50%|█████     | 758/1501 [00:53<00:55, 13.48it/s]\u001b[A\n",
      "save..:  53%|█████▎    | 800/1501 [00:56<00:52, 13.41it/s]\u001b[A\n",
      "save..:  56%|█████▌    | 842/1501 [00:59<00:49, 13.21it/s]\u001b[A\n",
      "save..:  59%|█████▉    | 883/1501 [01:03<00:49, 12.37it/s]\u001b[A\n",
      "save..:  61%|██████▏   | 921/1501 [01:06<00:49, 11.75it/s]\u001b[A\n",
      "save..:  64%|██████▍   | 962/1501 [01:09<00:44, 12.24it/s]\u001b[A\n",
      "save..:  68%|██████▊   | 1016/1501 [01:13<00:36, 13.44it/s]\u001b[A\n",
      "save..:  70%|███████   | 1058/1501 [01:16<00:33, 13.41it/s]\u001b[A\n",
      "save..:  75%|███████▌  | 1126/1501 [01:19<00:24, 15.04it/s]\u001b[A\n",
      "save..:  79%|███████▉  | 1185/1501 [01:22<00:19, 16.14it/s]\u001b[A\n",
      "save..:  82%|████████▏ | 1237/1501 [01:25<00:16, 16.00it/s]\u001b[A\n",
      "save..:  86%|████████▌ | 1293/1501 [01:28<00:12, 16.43it/s]\u001b[A\n",
      "save..:  91%|█████████ | 1362/1501 [01:31<00:07, 17.92it/s]\u001b[A\n",
      "save..: 100%|██████████| 1501/1501 [01:37<00:00, 15.40it/s]\u001b[A\n"
     ]
    },
    {
     "name": "stdout",
     "output_type": "stream",
     "text": [
      "(36892, 11)\n"
     ]
    },
    {
     "name": "stderr",
     "output_type": "stream",
     "text": [
      "\r",
      "craw:  60%|██████    | 181/300 [4:38:13<9:13:18, 278.98s/it]"
     ]
    },
    {
     "name": "stdout",
     "output_type": "stream",
     "text": [
      "후구오네짜글이-성북점 scroll\n"
     ]
    },
    {
     "name": "stderr",
     "output_type": "stream",
     "text": [
      "\n",
      "save..:   0%|          | 0/9 [00:00<?, ?it/s]\u001b[A"
     ]
    },
    {
     "name": "stdout",
     "output_type": "stream",
     "text": [
      "후구오네짜글이-성북점 9\n",
      "모든 리뷰 불러오기 시작...\n",
      "모든 리뷰 불러오기 완료!\n"
     ]
    },
    {
     "name": "stderr",
     "output_type": "stream",
     "text": [
      "save..: 100%|██████████| 9/9 [00:00<00:00, 20.16it/s]\n"
     ]
    },
    {
     "name": "stdout",
     "output_type": "stream",
     "text": [
      "(36901, 11)\n"
     ]
    },
    {
     "name": "stderr",
     "output_type": "stream",
     "text": [
      "\r",
      "craw:  61%|██████    | 182/300 [4:38:50<6:46:09, 206.52s/it]"
     ]
    },
    {
     "name": "stdout",
     "output_type": "stream",
     "text": [
      "부스부리또-서울시립대점 scroll\n"
     ]
    },
    {
     "name": "stderr",
     "output_type": "stream",
     "text": [
      "\r",
      "craw:  61%|██████    | 183/300 [4:38:58<4:46:23, 146.86s/it]"
     ]
    },
    {
     "name": "stdout",
     "output_type": "stream",
     "text": [
      "wrong shop\n",
      "썬더치킨-장위시장점 scroll\n",
      "썬더치킨-장위시장점 250\n",
      "모든 리뷰 불러오기 시작...\n",
      "모든 리뷰 불러오기 완료!\n"
     ]
    },
    {
     "name": "stderr",
     "output_type": "stream",
     "text": [
      "\n",
      "save..:   0%|          | 0/250 [00:00<?, ?it/s]\u001b[A\n",
      "save..:  16%|█▌        | 39/250 [00:03<00:16, 12.54it/s]\u001b[A\n",
      "save..:  36%|███▌      | 89/250 [00:06<00:11, 13.48it/s]\u001b[A\n",
      "save..:  47%|████▋     | 117/250 [00:09<00:11, 11.79it/s]\u001b[A\n",
      "save..:  63%|██████▎   | 158/250 [00:12<00:07, 12.25it/s]\u001b[A\n",
      "save..: 100%|██████████| 250/250 [00:17<00:00, 14.37it/s]\u001b[A\n"
     ]
    },
    {
     "name": "stdout",
     "output_type": "stream",
     "text": [
      "(37151, 11)\n"
     ]
    },
    {
     "name": "stderr",
     "output_type": "stream",
     "text": [
      "\r",
      "craw:  61%|██████▏   | 184/300 [4:40:25<4:09:30, 129.05s/it]"
     ]
    },
    {
     "name": "stdout",
     "output_type": "stream",
     "text": [
      "미스터순두부보쌈 scroll\n",
      "미스터순두부보쌈 7\n",
      "모든 리뷰 불러오기 시작...\n",
      "모든 리뷰 불러오기 완료!\n"
     ]
    },
    {
     "name": "stderr",
     "output_type": "stream",
     "text": [
      "\n",
      "save..: 100%|██████████| 7/7 [00:00<00:00, 50.05it/s]\n"
     ]
    },
    {
     "name": "stdout",
     "output_type": "stream",
     "text": [
      "(37158, 11)\n"
     ]
    },
    {
     "name": "stderr",
     "output_type": "stream",
     "text": [
      "\r",
      "craw:  62%|██████▏   | 185/300 [4:41:20<3:24:47, 106.85s/it]"
     ]
    },
    {
     "name": "stdout",
     "output_type": "stream",
     "text": [
      "크치치킨-회기점 scroll\n",
      "크치치킨-회기점 19\n",
      "모든 리뷰 불러오기 시작...\n"
     ]
    },
    {
     "name": "stderr",
     "output_type": "stream",
     "text": [
      "\n",
      "save..:   0%|          | 0/19 [00:00<?, ?it/s]\u001b[A"
     ]
    },
    {
     "name": "stdout",
     "output_type": "stream",
     "text": [
      "모든 리뷰 불러오기 완료!\n"
     ]
    },
    {
     "name": "stderr",
     "output_type": "stream",
     "text": [
      "save..: 100%|██████████| 19/19 [00:01<00:00, 13.49it/s]\n"
     ]
    },
    {
     "name": "stdout",
     "output_type": "stream",
     "text": [
      "(37177, 11)\n"
     ]
    },
    {
     "name": "stderr",
     "output_type": "stream",
     "text": [
      "\r",
      "craw:  62%|██████▏   | 186/300 [4:42:13<2:52:08, 90.60s/it] "
     ]
    },
    {
     "name": "stdout",
     "output_type": "stream",
     "text": [
      "짱구짱구꼬마김밥앤만두 scroll\n",
      "짱구짱구꼬마김밥앤만두 160\n",
      "모든 리뷰 불러오기 시작...\n",
      "모든 리뷰 불러오기 완료!\n"
     ]
    },
    {
     "name": "stderr",
     "output_type": "stream",
     "text": [
      "\n",
      "save..:   0%|          | 0/160 [00:00<?, ?it/s]\u001b[A\n",
      "save..: 100%|██████████| 160/160 [00:05<00:00, 31.07it/s][A\n"
     ]
    },
    {
     "name": "stdout",
     "output_type": "stream",
     "text": [
      "(37337, 11)\n"
     ]
    },
    {
     "name": "stderr",
     "output_type": "stream",
     "text": [
      "\r",
      "craw:  62%|██████▏   | 187/300 [4:43:42<2:49:40, 90.10s/it]"
     ]
    },
    {
     "name": "stdout",
     "output_type": "stream",
     "text": [
      "굿맘할매순대국-상봉역점 scroll\n",
      "굿맘할매순대국-상봉역점 9\n",
      "모든 리뷰 불러오기 시작...\n",
      "모든 리뷰 불러오기 완료!\n"
     ]
    },
    {
     "name": "stderr",
     "output_type": "stream",
     "text": [
      "\n",
      "save..: 100%|██████████| 9/9 [00:00<00:00, 47.85it/s]\n"
     ]
    },
    {
     "name": "stdout",
     "output_type": "stream",
     "text": [
      "(37346, 11)\n"
     ]
    },
    {
     "name": "stderr",
     "output_type": "stream",
     "text": [
      "\r",
      "craw:  63%|██████▎   | 188/300 [4:44:19<2:18:27, 74.17s/it]"
     ]
    },
    {
     "name": "stdout",
     "output_type": "stream",
     "text": [
      "자담치킨-이문점 scroll\n",
      "자담치킨-이문점 1398\n",
      "모든 리뷰 불러오기 시작...\n",
      "모든 리뷰 불러오기 완료!\n"
     ]
    },
    {
     "name": "stderr",
     "output_type": "stream",
     "text": [
      "\n",
      "save..:   0%|          | 0/1398 [00:00<?, ?it/s]\u001b[A\n",
      "save..:   1%|          | 9/1398 [02:10<5:36:34, 14.54s/it]\u001b[A\n",
      "save..:   3%|▎         | 38/1398 [02:13<3:51:23, 10.21s/it]\u001b[A\n",
      "save..:   6%|▌         | 80/1398 [02:16<2:37:26,  7.17s/it]\u001b[A\n",
      "save..:   9%|▉         | 125/1398 [02:20<1:46:53,  5.04s/it]\u001b[A\n",
      "save..:  12%|█▏        | 163/1398 [02:23<1:13:07,  3.55s/it]\u001b[A\n",
      "save..:  15%|█▍        | 206/1398 [02:26<49:49,  2.51s/it]  \u001b[A\n",
      "save..:  17%|█▋        | 239/1398 [02:30<34:34,  1.79s/it]\u001b[A\n",
      "save..:  20%|██        | 285/1398 [02:33<23:36,  1.27s/it]\u001b[A\n",
      "save..:  23%|██▎       | 321/1398 [02:36<16:28,  1.09it/s]\u001b[A\n",
      "save..:  25%|██▌       | 356/1398 [02:39<11:36,  1.50it/s]\u001b[A\n",
      "save..:  28%|██▊       | 391/1398 [02:42<08:20,  2.01it/s]\u001b[A\n",
      "save..:  30%|███       | 425/1398 [02:46<06:07,  2.65it/s]\u001b[A\n",
      "save..:  34%|███▎      | 469/1398 [02:49<04:25,  3.50it/s]\u001b[A\n",
      "save..:  36%|███▋      | 510/1398 [02:52<03:16,  4.51it/s]\u001b[A\n",
      "save..:  40%|████      | 562/1398 [02:55<02:25,  5.75it/s]\u001b[A\n",
      "save..:  43%|████▎     | 603/1398 [02:58<01:57,  6.79it/s]\u001b[A\n",
      "save..:  46%|████▌     | 642/1398 [03:02<01:37,  7.73it/s]\u001b[A\n",
      "save..:  49%|████▉     | 692/1398 [03:05<01:17,  9.12it/s]\u001b[A\n",
      "save..:  52%|█████▏    | 733/1398 [03:08<01:05, 10.10it/s]\u001b[A\n",
      "save..:  57%|█████▋    | 794/1398 [03:11<00:50, 11.86it/s]\u001b[A\n",
      "save..:  63%|██████▎   | 878/1398 [03:14<00:36, 14.24it/s]\u001b[A\n",
      "save..:  70%|██████▉   | 972/1398 [03:17<00:25, 17.02it/s]\u001b[A\n",
      "save..:  76%|███████▋  | 1066/1398 [03:20<00:16, 19.59it/s]\u001b[A\n",
      "save..:  83%|████████▎ | 1160/1398 [03:23<00:10, 21.96it/s]\u001b[A\n",
      "save..:  92%|█████████▏| 1287/1398 [03:26<00:04, 25.63it/s]\u001b[A\n",
      "save..: 100%|██████████| 1398/1398 [03:30<00:00,  6.64it/s]\u001b[A\n"
     ]
    },
    {
     "name": "stdout",
     "output_type": "stream",
     "text": [
      "(38744, 11)\n"
     ]
    },
    {
     "name": "stderr",
     "output_type": "stream",
     "text": [
      "\r",
      "craw:  63%|██████▎   | 189/300 [4:54:25<7:12:24, 233.73s/it]"
     ]
    },
    {
     "name": "stdout",
     "output_type": "stream",
     "text": [
      "사라다방 scroll\n",
      "사라다방 67\n",
      "모든 리뷰 불러오기 시작...\n",
      "모든 리뷰 불러오기 완료!\n"
     ]
    },
    {
     "name": "stderr",
     "output_type": "stream",
     "text": [
      "\n",
      "save..:   0%|          | 0/67 [00:00<?, ?it/s]\u001b[A\n",
      "save..: 100%|██████████| 67/67 [00:04<00:00, 15.44it/s]\u001b[A\n"
     ]
    },
    {
     "name": "stdout",
     "output_type": "stream",
     "text": [
      "(38811, 11)\n"
     ]
    },
    {
     "name": "stderr",
     "output_type": "stream",
     "text": [
      "\r",
      "craw:  63%|██████▎   | 190/300 [4:54:59<5:18:44, 173.86s/it]"
     ]
    },
    {
     "name": "stdout",
     "output_type": "stream",
     "text": [
      "쏘크라테스떡볶이-성북아렌트점 scroll\n",
      "쏘크라테스떡볶이-성북아렌트점 18\n",
      "모든 리뷰 불러오기 시작...\n"
     ]
    },
    {
     "name": "stderr",
     "output_type": "stream",
     "text": [
      "\n",
      "save..:   0%|          | 0/18 [00:00<?, ?it/s]\u001b[A"
     ]
    },
    {
     "name": "stdout",
     "output_type": "stream",
     "text": [
      "모든 리뷰 불러오기 완료!\n"
     ]
    },
    {
     "name": "stderr",
     "output_type": "stream",
     "text": [
      "save..: 100%|██████████| 18/18 [00:00<00:00, 18.63it/s]\n"
     ]
    },
    {
     "name": "stdout",
     "output_type": "stream",
     "text": [
      "(38829, 11)\n"
     ]
    },
    {
     "name": "stderr",
     "output_type": "stream",
     "text": [
      "\r",
      "craw:  64%|██████▎   | 191/300 [4:55:39<4:02:55, 133.72s/it]"
     ]
    },
    {
     "name": "stdout",
     "output_type": "stream",
     "text": [
      "상하이앤홍콩 scroll\n",
      "상하이앤홍콩 2049\n",
      "모든 리뷰 불러오기 시작...\n",
      "모든 리뷰 불러오기 완료!\n"
     ]
    },
    {
     "name": "stderr",
     "output_type": "stream",
     "text": [
      "\n",
      "save..:   0%|          | 0/2049 [00:00<?, ?it/s]\u001b[A\n",
      "save..:   2%|▏         | 36/2049 [00:03<02:49, 11.88it/s]\u001b[A\n",
      "save..:   4%|▍         | 81/2049 [00:06<02:35, 12.62it/s]\u001b[A\n",
      "save..:   7%|▋         | 139/2049 [00:09<02:16, 14.04it/s]\u001b[A\n",
      "save..:   9%|▉         | 186/2049 [00:12<02:08, 14.49it/s]\u001b[A\n",
      "save..:  12%|█▏        | 237/2049 [00:15<01:59, 15.13it/s]\u001b[A\n",
      "save..:  14%|█▍        | 293/2049 [00:18<01:51, 15.75it/s]\u001b[A\n",
      "save..:  17%|█▋        | 345/2049 [00:21<01:45, 16.11it/s]\u001b[A\n",
      "save..:  20%|█▉        | 404/2049 [00:24<01:36, 16.99it/s]\u001b[A\n",
      "save..:  22%|██▏       | 460/2049 [00:27<01:31, 17.29it/s]\u001b[A\n",
      "save..:  25%|██▍       | 512/2049 [00:30<01:30, 17.07it/s]\u001b[A\n",
      "save..:  27%|██▋       | 563/2049 [00:33<01:27, 17.00it/s]\u001b[A\n",
      "save..:  30%|██▉       | 614/2049 [00:36<01:25, 16.88it/s]\u001b[A\n",
      "save..:  32%|███▏      | 665/2049 [00:40<01:27, 15.88it/s]\u001b[A\n",
      "save..:  35%|███▍      | 713/2049 [00:43<01:26, 15.47it/s]\u001b[A\n",
      "save..:  38%|███▊      | 772/2049 [00:46<01:17, 16.47it/s]\u001b[A\n",
      "save..:  40%|████      | 823/2049 [00:49<01:14, 16.37it/s]\u001b[A\n",
      "save..:  43%|████▎     | 879/2049 [00:52<01:09, 16.92it/s]\u001b[A\n",
      "save..:  46%|████▋     | 952/2049 [00:56<00:59, 18.59it/s]\u001b[A\n",
      "save..:  49%|████▉     | 1010/2049 [00:59<00:56, 18.34it/s]\u001b[A\n",
      "save..:  52%|█████▏    | 1073/2049 [01:02<00:51, 19.01it/s]\u001b[A\n",
      "save..:  56%|█████▌    | 1145/2049 [01:05<00:45, 20.02it/s]\u001b[A\n",
      "save..:  59%|█████▉    | 1207/2049 [01:08<00:43, 19.38it/s]\u001b[A\n",
      "save..:  63%|██████▎   | 1289/2049 [01:11<00:35, 21.18it/s]\u001b[A\n",
      "save..:  66%|██████▌   | 1355/2049 [01:15<00:34, 20.09it/s]\u001b[A\n",
      "save..:  69%|██████▉   | 1422/2049 [01:18<00:30, 20.63it/s]\u001b[A\n",
      "save..:  73%|███████▎  | 1486/2049 [01:22<00:28, 20.11it/s]\u001b[A\n",
      "save..:  76%|███████▌  | 1548/2049 [01:25<00:25, 19.69it/s]\u001b[A\n",
      "save..:  78%|███████▊  | 1608/2049 [01:28<00:22, 19.27it/s]\u001b[A\n",
      "save..:  83%|████████▎ | 1693/2049 [01:31<00:16, 21.25it/s]\u001b[A\n",
      "save..:  88%|████████▊ | 1811/2049 [01:34<00:09, 24.58it/s]\u001b[A\n",
      "save..: 100%|██████████| 2049/2049 [01:40<00:00, 20.48it/s]\u001b[A\n"
     ]
    },
    {
     "name": "stdout",
     "output_type": "stream",
     "text": [
      "(40878, 11)\n"
     ]
    },
    {
     "name": "stderr",
     "output_type": "stream",
     "text": [
      "\r",
      "craw:  64%|██████▍   | 192/300 [5:07:38<9:16:46, 309.32s/it]"
     ]
    },
    {
     "name": "stdout",
     "output_type": "stream",
     "text": [
      "오늘의식탁-장안동점 scroll\n",
      "오늘의식탁-장안동점 65\n",
      "모든 리뷰 불러오기 시작...\n",
      "모든 리뷰 불러오기 완료!\n"
     ]
    },
    {
     "name": "stderr",
     "output_type": "stream",
     "text": [
      "\n",
      "save..:   0%|          | 0/65 [00:00<?, ?it/s]\u001b[A\n",
      "save..: 100%|██████████| 65/65 [00:03<00:00, 21.01it/s]\u001b[A\n"
     ]
    },
    {
     "name": "stdout",
     "output_type": "stream",
     "text": [
      "(40943, 11)\n"
     ]
    },
    {
     "name": "stderr",
     "output_type": "stream",
     "text": [
      "\r",
      "craw:  64%|██████▍   | 193/300 [5:08:17<6:46:36, 228.01s/it]"
     ]
    },
    {
     "name": "stdout",
     "output_type": "stream",
     "text": [
      "신선루-이문점 scroll\n",
      "신선루-이문점 664\n",
      "모든 리뷰 불러오기 시작...\n",
      "모든 리뷰 불러오기 완료!\n"
     ]
    },
    {
     "name": "stderr",
     "output_type": "stream",
     "text": [
      "\n",
      "save..:   0%|          | 0/664 [00:00<?, ?it/s]\u001b[A\n",
      "save..:   6%|▌         | 40/664 [00:03<00:47, 13.00it/s]\u001b[A\n",
      "save..:  13%|█▎        | 84/664 [00:06<00:43, 13.45it/s]\u001b[A\n",
      "save..:  25%|██▌       | 166/664 [00:09<00:31, 15.84it/s]\u001b[A\n",
      "save..:  35%|███▌      | 235/664 [00:12<00:24, 17.46it/s]\u001b[A\n",
      "save..: 100%|██████████| 664/664 [00:15<00:00, 42.18it/s]\u001b[A\n"
     ]
    },
    {
     "name": "stdout",
     "output_type": "stream",
     "text": [
      "(41607, 11)\n"
     ]
    },
    {
     "name": "stderr",
     "output_type": "stream",
     "text": [
      "\r",
      "craw:  65%|██████▍   | 194/300 [5:11:12<6:14:50, 212.17s/it]"
     ]
    },
    {
     "name": "stdout",
     "output_type": "stream",
     "text": [
      "동해바다명품아구찜탕 scroll\n",
      "동해바다명품아구찜탕 107\n",
      "모든 리뷰 불러오기 시작...\n",
      "모든 리뷰 불러오기 완료!\n"
     ]
    },
    {
     "name": "stderr",
     "output_type": "stream",
     "text": [
      "\n",
      "save..: 100%|██████████| 107/107 [00:01<00:00, 71.82it/s]\n"
     ]
    },
    {
     "name": "stdout",
     "output_type": "stream",
     "text": [
      "(41714, 11)\n"
     ]
    },
    {
     "name": "stderr",
     "output_type": "stream",
     "text": [
      "\r",
      "craw:  65%|██████▌   | 195/300 [5:12:11<4:50:59, 166.28s/it]"
     ]
    },
    {
     "name": "stdout",
     "output_type": "stream",
     "text": [
      "에그드랍-면목역점 scroll\n",
      "에그드랍-면목역점 637\n",
      "모든 리뷰 불러오기 시작...\n",
      "모든 리뷰 불러오기 완료!\n"
     ]
    },
    {
     "name": "stderr",
     "output_type": "stream",
     "text": [
      "\n",
      "save..:   0%|          | 0/637 [00:00<?, ?it/s]\u001b[A\n",
      "save..:  11%|█▏        | 72/637 [00:03<00:23, 23.82it/s]\u001b[A\n",
      "save..:  24%|██▍       | 153/637 [00:06<00:19, 24.56it/s]\u001b[A\n",
      "save..:  38%|███▊      | 245/637 [00:09<00:15, 26.00it/s]\u001b[A\n",
      "save..:  51%|█████     | 324/637 [00:12<00:12, 26.01it/s]\u001b[A\n",
      "save..:  64%|██████▍   | 407/637 [00:15<00:08, 26.43it/s]\u001b[A\n",
      "save..:  76%|███████▌  | 481/637 [00:18<00:06, 25.46it/s]\u001b[A\n",
      "save..: 100%|██████████| 637/637 [00:22<00:00, 28.32it/s]\u001b[A\n"
     ]
    },
    {
     "name": "stdout",
     "output_type": "stream",
     "text": [
      "(42351, 11)\n"
     ]
    },
    {
     "name": "stderr",
     "output_type": "stream",
     "text": [
      "\r",
      "craw:  65%|██████▌   | 196/300 [5:15:33<5:06:34, 176.87s/it]"
     ]
    },
    {
     "name": "stdout",
     "output_type": "stream",
     "text": [
      "대한닭발1979-회기역점 scroll\n",
      "대한닭발1979-회기역점 341\n",
      "모든 리뷰 불러오기 시작...\n",
      "모든 리뷰 불러오기 완료!\n"
     ]
    },
    {
     "name": "stderr",
     "output_type": "stream",
     "text": [
      "\n",
      "save..:   0%|          | 0/341 [00:00<?, ?it/s]\u001b[A\n",
      "save..:  18%|█▊        | 63/341 [00:03<00:13, 20.82it/s]\u001b[A\n",
      "save..:  40%|███▉      | 136/341 [00:06<00:09, 21.71it/s]\u001b[A\n",
      "save..: 100%|██████████| 341/341 [00:11<00:00, 30.99it/s]\u001b[A\n"
     ]
    },
    {
     "name": "stdout",
     "output_type": "stream",
     "text": [
      "(42692, 11)\n"
     ]
    },
    {
     "name": "stderr",
     "output_type": "stream",
     "text": [
      "\r",
      "craw:  66%|██████▌   | 197/300 [5:17:42<4:39:15, 162.68s/it]"
     ]
    },
    {
     "name": "stdout",
     "output_type": "stream",
     "text": [
      "용두동방앗간 scroll\n",
      "용두동방앗간 107\n",
      "모든 리뷰 불러오기 시작...\n",
      "모든 리뷰 불러오기 완료!\n"
     ]
    },
    {
     "name": "stderr",
     "output_type": "stream",
     "text": [
      "\n",
      "save..:   0%|          | 0/107 [00:00<?, ?it/s]\u001b[A\n",
      "save..: 100%|██████████| 107/107 [00:05<00:00, 18.75it/s][A\n"
     ]
    },
    {
     "name": "stdout",
     "output_type": "stream",
     "text": [
      "(42799, 11)\n"
     ]
    },
    {
     "name": "stderr",
     "output_type": "stream",
     "text": [
      "\r",
      "craw:  66%|██████▌   | 198/300 [5:18:56<3:51:24, 136.13s/it]"
     ]
    },
    {
     "name": "stdout",
     "output_type": "stream",
     "text": [
      "바나프레소-회기역사거리점 scroll\n",
      "바나프레소-회기역사거리점 1\n",
      "모든 리뷰 불러오기 시작...\n",
      "모든 리뷰 불러오기 완료!\n"
     ]
    },
    {
     "name": "stderr",
     "output_type": "stream",
     "text": [
      "\n",
      "save..: 100%|██████████| 1/1 [00:00<00:00, 641.53it/s]\n"
     ]
    },
    {
     "name": "stdout",
     "output_type": "stream",
     "text": [
      "(42800, 11)\n"
     ]
    },
    {
     "name": "stderr",
     "output_type": "stream",
     "text": [
      "\r",
      "craw:  66%|██████▋   | 199/300 [5:19:47<3:06:01, 110.51s/it]"
     ]
    },
    {
     "name": "stdout",
     "output_type": "stream",
     "text": [
      "와와닭발 scroll\n",
      "와와닭발 66\n",
      "모든 리뷰 불러오기 시작...\n",
      "모든 리뷰 불러오기 완료!\n"
     ]
    },
    {
     "name": "stderr",
     "output_type": "stream",
     "text": [
      "\n",
      "save..: 100%|██████████| 66/66 [00:02<00:00, 23.36it/s]\n"
     ]
    },
    {
     "name": "stdout",
     "output_type": "stream",
     "text": [
      "(42866, 11)\n"
     ]
    },
    {
     "name": "stderr",
     "output_type": "stream",
     "text": [
      "\r",
      "craw:  67%|██████▋   | 200/300 [5:21:07<2:48:43, 101.23s/it]"
     ]
    },
    {
     "name": "stdout",
     "output_type": "stream",
     "text": [
      "카우웨이(cowway) scroll\n"
     ]
    },
    {
     "name": "stderr",
     "output_type": "stream",
     "text": [
      "\n",
      "save..:   0%|          | 0/4 [00:00<?, ?it/s]\u001b[A"
     ]
    },
    {
     "name": "stdout",
     "output_type": "stream",
     "text": [
      "카우웨이(cowway) 4\n",
      "모든 리뷰 불러오기 시작...\n",
      "모든 리뷰 불러오기 완료!\n"
     ]
    },
    {
     "name": "stderr",
     "output_type": "stream",
     "text": [
      "save..: 100%|██████████| 4/4 [00:00<00:00, 13.43it/s]\n"
     ]
    },
    {
     "name": "stdout",
     "output_type": "stream",
     "text": [
      "(42870, 11)\n"
     ]
    },
    {
     "name": "stderr",
     "output_type": "stream",
     "text": [
      "\r",
      "craw:  67%|██████▋   | 201/300 [5:22:06<2:26:05, 88.54s/it] "
     ]
    },
    {
     "name": "stdout",
     "output_type": "stream",
     "text": [
      "미스터피자-전농점 scroll\n",
      "미스터피자-전농점 490\n",
      "모든 리뷰 불러오기 시작...\n",
      "모든 리뷰 불러오기 완료!\n"
     ]
    },
    {
     "name": "stderr",
     "output_type": "stream",
     "text": [
      "\n",
      "save..:   0%|          | 0/490 [00:00<?, ?it/s]\u001b[A\n",
      "save..:  18%|█▊        | 88/490 [00:03<00:13, 29.07it/s]\u001b[A\n",
      "save..:  32%|███▏      | 158/490 [00:06<00:12, 27.05it/s]\u001b[A\n",
      "save..:  50%|█████     | 247/490 [00:09<00:08, 27.72it/s]\u001b[A\n",
      "save..: 100%|██████████| 490/490 [00:14<00:00, 32.95it/s]\u001b[A\n"
     ]
    },
    {
     "name": "stdout",
     "output_type": "stream",
     "text": [
      "(43360, 11)\n"
     ]
    },
    {
     "name": "stderr",
     "output_type": "stream",
     "text": [
      "\r",
      "craw:  67%|██████▋   | 202/300 [5:24:18<2:46:04, 101.68s/it]"
     ]
    },
    {
     "name": "stdout",
     "output_type": "stream",
     "text": [
      "아재부산낙곱새-청량리점 scroll\n"
     ]
    },
    {
     "name": "stderr",
     "output_type": "stream",
     "text": [
      "\n",
      "save..:   0%|          | 0/7 [00:00<?, ?it/s]\u001b[A"
     ]
    },
    {
     "name": "stdout",
     "output_type": "stream",
     "text": [
      "아재부산낙곱새-청량리점 7\n",
      "모든 리뷰 불러오기 시작...\n",
      "모든 리뷰 불러오기 완료!\n"
     ]
    },
    {
     "name": "stderr",
     "output_type": "stream",
     "text": [
      "save..: 100%|██████████| 7/7 [00:00<00:00, 13.50it/s]\n"
     ]
    },
    {
     "name": "stdout",
     "output_type": "stream",
     "text": [
      "(43367, 11)\n"
     ]
    },
    {
     "name": "stderr",
     "output_type": "stream",
     "text": [
      "\r",
      "craw:  68%|██████▊   | 203/300 [5:25:15<2:22:39, 88.24s/it] "
     ]
    },
    {
     "name": "stdout",
     "output_type": "stream",
     "text": [
      "나혼자 scroll\n",
      "나혼자 188\n",
      "모든 리뷰 불러오기 시작...\n",
      "모든 리뷰 불러오기 완료!\n"
     ]
    },
    {
     "name": "stderr",
     "output_type": "stream",
     "text": [
      "\n",
      "save..:   0%|          | 0/188 [00:00<?, ?it/s]\u001b[A\n",
      "save..:  38%|███▊      | 72/188 [00:03<00:04, 23.77it/s]\u001b[A\n",
      "save..: 100%|██████████| 188/188 [00:06<00:00, 28.90it/s]\u001b[A\n"
     ]
    },
    {
     "name": "stdout",
     "output_type": "stream",
     "text": [
      "(43555, 11)\n"
     ]
    },
    {
     "name": "stderr",
     "output_type": "stream",
     "text": [
      "\r",
      "craw:  68%|██████▊   | 204/300 [5:26:17<2:08:48, 80.50s/it]"
     ]
    },
    {
     "name": "stdout",
     "output_type": "stream",
     "text": [
      "돈수백-외대점 scroll\n",
      "돈수백-외대점 18\n",
      "모든 리뷰 불러오기 시작...\n",
      "모든 리뷰 불러오기 완료!\n"
     ]
    },
    {
     "name": "stderr",
     "output_type": "stream",
     "text": [
      "\n",
      "save..: 100%|██████████| 18/18 [00:00<00:00, 20.30it/s]\n"
     ]
    },
    {
     "name": "stdout",
     "output_type": "stream",
     "text": [
      "(43573, 11)\n"
     ]
    },
    {
     "name": "stderr",
     "output_type": "stream",
     "text": [
      "\r",
      "craw:  68%|██████▊   | 205/300 [5:26:41<1:40:23, 63.41s/it]"
     ]
    },
    {
     "name": "stdout",
     "output_type": "stream",
     "text": [
      "속초마늘떡볶이 scroll\n"
     ]
    },
    {
     "name": "stderr",
     "output_type": "stream",
     "text": [
      "\r",
      "craw:  69%|██████▊   | 206/300 [5:26:46<1:12:13, 46.10s/it]"
     ]
    },
    {
     "name": "stdout",
     "output_type": "stream",
     "text": [
      "wrong shop\n",
      "108장마라탕-본점 scroll\n",
      "108장마라탕-본점 scroll\n",
      "108장마라탕-본점 108\n",
      "모든 리뷰 불러오기 시작...\n",
      "모든 리뷰 불러오기 완료!\n"
     ]
    },
    {
     "name": "stderr",
     "output_type": "stream",
     "text": [
      "\n",
      "save..:   0%|          | 0/108 [00:00<?, ?it/s]\u001b[A\n",
      "save..: 100%|██████████| 108/108 [00:05<00:00, 19.74it/s][A\n"
     ]
    },
    {
     "name": "stdout",
     "output_type": "stream",
     "text": [
      "(43681, 11)\n"
     ]
    },
    {
     "name": "stderr",
     "output_type": "stream",
     "text": [
      "\r",
      "craw:  69%|██████▉   | 207/300 [5:27:38<1:14:05, 47.80s/it]"
     ]
    },
    {
     "name": "stdout",
     "output_type": "stream",
     "text": [
      "통큰꼼장어불닭발 scroll\n"
     ]
    },
    {
     "name": "stderr",
     "output_type": "stream",
     "text": [
      "\n",
      "save..:   0%|          | 0/8 [00:00<?, ?it/s]\u001b[A"
     ]
    },
    {
     "name": "stdout",
     "output_type": "stream",
     "text": [
      "통큰꼼장어불닭발 8\n",
      "모든 리뷰 불러오기 시작...\n",
      "모든 리뷰 불러오기 완료!\n"
     ]
    },
    {
     "name": "stderr",
     "output_type": "stream",
     "text": [
      "save..: 100%|██████████| 8/8 [00:00<00:00, 13.32it/s]\n"
     ]
    },
    {
     "name": "stdout",
     "output_type": "stream",
     "text": [
      "(43689, 11)\n"
     ]
    },
    {
     "name": "stderr",
     "output_type": "stream",
     "text": [
      "\r",
      "craw:  69%|██████▉   | 208/300 [5:28:40<1:19:53, 52.11s/it]"
     ]
    },
    {
     "name": "stdout",
     "output_type": "stream",
     "text": [
      "신룽푸마라탕-경희대점 scroll\n",
      "신룽푸마라탕-경희대점 77\n",
      "모든 리뷰 불러오기 시작...\n",
      "모든 리뷰 불러오기 완료!\n"
     ]
    },
    {
     "name": "stderr",
     "output_type": "stream",
     "text": [
      "\n",
      "save..:   0%|          | 0/77 [00:00<?, ?it/s]\u001b[A\n",
      "save..: 100%|██████████| 77/77 [00:04<00:00, 18.07it/s]\u001b[A\n"
     ]
    },
    {
     "name": "stdout",
     "output_type": "stream",
     "text": [
      "(43766, 11)\n"
     ]
    },
    {
     "name": "stderr",
     "output_type": "stream",
     "text": [
      "\r",
      "craw:  70%|██████▉   | 209/300 [5:29:23<1:14:31, 49.14s/it]"
     ]
    },
    {
     "name": "stdout",
     "output_type": "stream",
     "text": [
      "부산돼지국밥-장안동점 scroll\n"
     ]
    },
    {
     "name": "stderr",
     "output_type": "stream",
     "text": [
      "\r",
      "craw:  70%|███████   | 210/300 [5:29:44<1:01:25, 40.95s/it]"
     ]
    },
    {
     "name": "stdout",
     "output_type": "stream",
     "text": [
      "wrong shop\n",
      "피자에땅-장안점 scroll\n"
     ]
    },
    {
     "name": "stderr",
     "output_type": "stream",
     "text": [
      "\r",
      "craw:  70%|███████   | 211/300 [5:29:45<42:59, 28.98s/it]  "
     ]
    },
    {
     "name": "stdout",
     "output_type": "stream",
     "text": [
      "wrong shop\n",
      "혼술혼밥술꾼 scroll\n",
      "혼술혼밥술꾼 scroll\n",
      "혼술혼밥술꾼 198\n",
      "모든 리뷰 불러오기 시작...\n",
      "모든 리뷰 불러오기 완료!\n"
     ]
    },
    {
     "name": "stderr",
     "output_type": "stream",
     "text": [
      "\n",
      "save..:   0%|          | 0/198 [00:00<?, ?it/s]\u001b[A\n",
      "save..:  35%|███▌      | 70/198 [00:03<00:05, 23.33it/s]\u001b[A\n",
      "save..: 100%|██████████| 198/198 [00:08<00:00, 23.66it/s]\u001b[A\n"
     ]
    },
    {
     "name": "stdout",
     "output_type": "stream",
     "text": [
      "(43964, 11)\n"
     ]
    },
    {
     "name": "stderr",
     "output_type": "stream",
     "text": [
      "\r",
      "craw:  71%|███████   | 212/300 [5:31:06<1:05:06, 44.39s/it]"
     ]
    },
    {
     "name": "stdout",
     "output_type": "stream",
     "text": [
      "아재부산낙곱새-중화점 scroll\n",
      "아재부산낙곱새-중화점 5\n",
      "모든 리뷰 불러오기 시작...\n",
      "모든 리뷰 불러오기 완료!\n"
     ]
    },
    {
     "name": "stderr",
     "output_type": "stream",
     "text": [
      "\n",
      "save..: 100%|██████████| 5/5 [00:00<00:00, 77.51it/s]\n"
     ]
    },
    {
     "name": "stdout",
     "output_type": "stream",
     "text": [
      "(43969, 11)\n"
     ]
    },
    {
     "name": "stderr",
     "output_type": "stream",
     "text": [
      "\r",
      "craw:  71%|███████   | 213/300 [5:31:43<1:01:02, 42.10s/it]"
     ]
    },
    {
     "name": "stdout",
     "output_type": "stream",
     "text": [
      "땡초닭발-경희대점 scroll\n"
     ]
    },
    {
     "name": "stderr",
     "output_type": "stream",
     "text": [
      "\n",
      "save..: 100%|██████████| 1/1 [00:00<00:00, 958.26it/s]"
     ]
    },
    {
     "name": "stdout",
     "output_type": "stream",
     "text": [
      "땡초닭발-경희대점 1\n",
      "모든 리뷰 불러오기 시작...\n",
      "모든 리뷰 불러오기 완료!\n",
      "(43970, 11)\n"
     ]
    },
    {
     "name": "stderr",
     "output_type": "stream",
     "text": [
      "\n",
      "craw:  71%|███████▏  | 214/300 [5:32:49<1:11:00, 49.54s/it]"
     ]
    },
    {
     "name": "stdout",
     "output_type": "stream",
     "text": [
      "착한초밥-청량리점 scroll\n"
     ]
    },
    {
     "name": "stderr",
     "output_type": "stream",
     "text": [
      "\r",
      "craw:  72%|███████▏  | 215/300 [5:33:08<57:00, 40.24s/it]  "
     ]
    },
    {
     "name": "stdout",
     "output_type": "stream",
     "text": [
      "wrong shop\n",
      "홍마라탕스마일 scroll\n",
      "홍마라탕스마일 25\n",
      "모든 리뷰 불러오기 시작...\n"
     ]
    },
    {
     "name": "stderr",
     "output_type": "stream",
     "text": [
      "\n",
      "save..:   0%|          | 0/25 [00:00<?, ?it/s]\u001b[A"
     ]
    },
    {
     "name": "stdout",
     "output_type": "stream",
     "text": [
      "모든 리뷰 불러오기 완료!\n"
     ]
    },
    {
     "name": "stderr",
     "output_type": "stream",
     "text": [
      "save..: 100%|██████████| 25/25 [00:01<00:00, 17.77it/s]\n"
     ]
    },
    {
     "name": "stdout",
     "output_type": "stream",
     "text": [
      "(43995, 11)\n"
     ]
    },
    {
     "name": "stderr",
     "output_type": "stream",
     "text": [
      "\r",
      "craw:  72%|███████▏  | 216/300 [5:33:31<49:04, 35.05s/it]"
     ]
    },
    {
     "name": "stdout",
     "output_type": "stream",
     "text": [
      "칼리앤메리 scroll\n",
      "칼리앤메리 12\n",
      "모든 리뷰 불러오기 시작...\n"
     ]
    },
    {
     "name": "stderr",
     "output_type": "stream",
     "text": [
      "\n",
      "save..:   0%|          | 0/12 [00:00<?, ?it/s]\u001b[A"
     ]
    },
    {
     "name": "stdout",
     "output_type": "stream",
     "text": [
      "모든 리뷰 불러오기 완료!\n"
     ]
    },
    {
     "name": "stderr",
     "output_type": "stream",
     "text": [
      "save..: 100%|██████████| 12/12 [00:00<00:00, 21.25it/s]\n"
     ]
    },
    {
     "name": "stdout",
     "output_type": "stream",
     "text": [
      "(44007, 11)\n"
     ]
    },
    {
     "name": "stderr",
     "output_type": "stream",
     "text": [
      "\r",
      "craw:  72%|███████▏  | 217/300 [5:34:26<56:52, 41.11s/it]"
     ]
    },
    {
     "name": "stdout",
     "output_type": "stream",
     "text": [
      "모던한식당-동대문점 scroll\n"
     ]
    },
    {
     "name": "stderr",
     "output_type": "stream",
     "text": [
      "\n",
      "save..:   0%|          | 0/3 [00:00<?, ?it/s]\u001b[A"
     ]
    },
    {
     "name": "stdout",
     "output_type": "stream",
     "text": [
      "모던한식당-동대문점 3\n",
      "모든 리뷰 불러오기 시작...\n",
      "모든 리뷰 불러오기 완료!\n"
     ]
    },
    {
     "name": "stderr",
     "output_type": "stream",
     "text": [
      "save..: 100%|██████████| 3/3 [00:00<00:00, 12.68it/s]\n"
     ]
    },
    {
     "name": "stdout",
     "output_type": "stream",
     "text": [
      "(44010, 11)\n"
     ]
    },
    {
     "name": "stderr",
     "output_type": "stream",
     "text": [
      "\r",
      "craw:  73%|███████▎  | 218/300 [5:34:48<48:19, 35.36s/it]"
     ]
    },
    {
     "name": "stdout",
     "output_type": "stream",
     "text": [
      "뚜레쥬르-상봉역점 scroll\n",
      "뚜레쥬르-상봉역점 122\n",
      "모든 리뷰 불러오기 시작...\n",
      "모든 리뷰 불러오기 완료!\n"
     ]
    },
    {
     "name": "stderr",
     "output_type": "stream",
     "text": [
      "\n",
      "save..:   0%|          | 0/122 [00:00<?, ?it/s]\u001b[A\n",
      "save..: 100%|██████████| 122/122 [00:05<00:00, 21.19it/s][A\n"
     ]
    },
    {
     "name": "stdout",
     "output_type": "stream",
     "text": [
      "(44132, 11)\n"
     ]
    },
    {
     "name": "stderr",
     "output_type": "stream",
     "text": [
      "\r",
      "craw:  73%|███████▎  | 219/300 [5:35:41<54:52, 40.65s/it]"
     ]
    },
    {
     "name": "stdout",
     "output_type": "stream",
     "text": [
      "쉘터카페 scroll\n"
     ]
    },
    {
     "name": "stderr",
     "output_type": "stream",
     "text": [
      "\r",
      "craw:  73%|███████▎  | 220/300 [5:36:11<50:04, 37.55s/it]"
     ]
    },
    {
     "name": "stdout",
     "output_type": "stream",
     "text": [
      "wrong shop\n",
      "솔향기능이오리 scroll\n",
      "솔향기능이오리 scroll\n"
     ]
    },
    {
     "name": "stderr",
     "output_type": "stream",
     "text": [
      "\n",
      "save..:   0%|          | 0/3 [00:00<?, ?it/s]\u001b[A"
     ]
    },
    {
     "name": "stdout",
     "output_type": "stream",
     "text": [
      "솔향기능이오리 3\n",
      "모든 리뷰 불러오기 시작...\n",
      "모든 리뷰 불러오기 완료!\n"
     ]
    },
    {
     "name": "stderr",
     "output_type": "stream",
     "text": [
      "save..: 100%|██████████| 3/3 [00:00<00:00, 30.93it/s]\n"
     ]
    },
    {
     "name": "stdout",
     "output_type": "stream",
     "text": [
      "(44135, 11)\n"
     ]
    },
    {
     "name": "stderr",
     "output_type": "stream",
     "text": [
      "\r",
      "craw:  74%|███████▎  | 221/300 [5:36:42<46:33, 35.36s/it]"
     ]
    },
    {
     "name": "stdout",
     "output_type": "stream",
     "text": [
      "1인삼겹냉면 scroll\n",
      "1인삼겹냉면 3651\n",
      "모든 리뷰 불러오기 시작...\n",
      "모든 리뷰 불러오기 완료!\n"
     ]
    },
    {
     "name": "stderr",
     "output_type": "stream",
     "text": [
      "\n",
      "save..:   0%|          | 0/3651 [00:00<?, ?it/s]\u001b[A\n",
      "save..:   1%|▏         | 53/3651 [00:03<03:25, 17.54it/s]\u001b[A\n",
      "save..:   3%|▎         | 101/3651 [00:06<03:29, 16.95it/s]\u001b[A\n",
      "save..:   4%|▍         | 152/3651 [00:09<03:27, 16.86it/s]\u001b[A\n",
      "save..:   5%|▌         | 196/3651 [00:12<03:37, 15.92it/s]\u001b[A\n",
      "save..:   7%|▋         | 253/3651 [00:15<03:24, 16.65it/s]\u001b[A\n",
      "save..:   8%|▊         | 299/3651 [00:18<03:27, 16.16it/s]\u001b[A\n",
      "save..:  10%|▉         | 358/3651 [00:21<03:13, 17.06it/s]\u001b[A\n",
      "save..:  11%|█▏        | 416/3651 [00:24<03:03, 17.63it/s]\u001b[A\n",
      "save..:  13%|█▎        | 474/3651 [00:27<02:55, 18.08it/s]\u001b[A\n",
      "save..:  14%|█▍        | 529/3651 [00:30<02:52, 18.08it/s]\u001b[A\n",
      "save..:  16%|█▋        | 598/3651 [00:33<02:39, 19.18it/s]\u001b[A\n",
      "save..:  18%|█▊        | 656/3651 [00:37<02:44, 18.25it/s]\u001b[A\n",
      "save..:  20%|█▉        | 714/3651 [00:40<02:38, 18.55it/s]\u001b[A\n",
      "save..:  21%|██        | 770/3651 [00:43<02:41, 17.79it/s]\u001b[A\n",
      "save..:  23%|██▎       | 831/3651 [00:46<02:32, 18.44it/s]\u001b[A\n",
      "save..:  24%|██▍       | 887/3651 [00:49<02:30, 18.42it/s]\u001b[A\n",
      "save..:  26%|██▌       | 943/3651 [00:52<02:31, 17.85it/s]\u001b[A\n",
      "save..:  27%|██▋       | 997/3651 [00:57<02:51, 15.47it/s]\u001b[A\n",
      "save..:  29%|██▉       | 1055/3651 [01:00<02:38, 16.42it/s]\u001b[A\n",
      "save..:  31%|███       | 1129/3651 [01:03<02:18, 18.18it/s]\u001b[A\n",
      "save..:  33%|███▎      | 1187/3651 [01:07<02:27, 16.72it/s]\u001b[A\n",
      "save..:  34%|███▍      | 1243/3651 [01:10<02:20, 17.17it/s]\u001b[A\n",
      "save..:  36%|███▌      | 1305/3651 [01:13<02:10, 18.00it/s]\u001b[A\n",
      "save..:  37%|███▋      | 1366/3651 [01:16<02:02, 18.58it/s]\u001b[A\n",
      "save..:  39%|███▉      | 1424/3651 [01:20<02:04, 17.94it/s]\u001b[A\n",
      "save..:  41%|████      | 1484/3651 [01:23<01:57, 18.38it/s]\u001b[A\n",
      "save..:  42%|████▏     | 1541/3651 [01:26<01:56, 18.13it/s]\u001b[A\n",
      "save..:  44%|████▍     | 1602/3651 [01:29<01:49, 18.69it/s]\u001b[A\n",
      "save..:  46%|████▌     | 1665/3651 [01:32<01:42, 19.29it/s]\u001b[A\n",
      "save..:  47%|████▋     | 1730/3651 [01:35<01:36, 19.84it/s]\u001b[A\n",
      "save..:  49%|████▉     | 1801/3651 [01:38<01:28, 20.85it/s]\u001b[A\n",
      "save..:  51%|█████     | 1865/3651 [01:42<01:29, 19.86it/s]\u001b[A\n",
      "save..:  53%|█████▎    | 1928/3651 [01:45<01:25, 20.14it/s]\u001b[A\n",
      "save..:  55%|█████▍    | 1990/3651 [01:48<01:23, 19.94it/s]\u001b[A\n",
      "save..:  56%|█████▌    | 2051/3651 [01:52<01:23, 19.10it/s]\u001b[A\n",
      "save..:  58%|█████▊    | 2109/3651 [01:55<01:22, 18.80it/s]\u001b[A\n",
      "save..:  60%|█████▉    | 2179/3651 [01:58<01:14, 19.87it/s]\u001b[A\n",
      "save..:  61%|██████▏   | 2240/3651 [02:02<01:16, 18.52it/s]\u001b[A\n",
      "save..:  64%|██████▎   | 2321/3651 [02:05<01:05, 20.42it/s]\u001b[A\n",
      "save..:  65%|██████▌   | 2387/3651 [02:08<01:00, 20.75it/s]\u001b[A\n",
      "save..:  67%|██████▋   | 2452/3651 [02:11<00:58, 20.52it/s]\u001b[A\n",
      "save..:  69%|██████▉   | 2515/3651 [02:15<01:02, 18.31it/s]\u001b[A\n",
      "save..:  71%|███████   | 2580/3651 [02:18<00:56, 19.11it/s]\u001b[A\n",
      "save..:  72%|███████▏  | 2642/3651 [02:21<00:52, 19.35it/s]\u001b[A\n",
      "save..:  74%|███████▍  | 2704/3651 [02:25<00:48, 19.64it/s]\u001b[A\n",
      "save..:  76%|███████▌  | 2774/3651 [02:28<00:42, 20.52it/s]\u001b[A\n",
      "save..:  78%|███████▊  | 2837/3651 [02:31<00:39, 20.56it/s]\u001b[A\n",
      "save..:  79%|███████▉  | 2900/3651 [02:35<00:39, 18.82it/s]\u001b[A\n",
      "save..:  81%|████████  | 2958/3651 [02:38<00:39, 17.55it/s]\u001b[A\n",
      "save..:  83%|████████▎ | 3027/3651 [02:42<00:33, 18.74it/s]\u001b[A\n",
      "save..:  84%|████████▍ | 3085/3651 [02:45<00:30, 18.59it/s]\u001b[A\n",
      "save..:  86%|████████▋ | 3152/3651 [02:48<00:25, 19.49it/s]\u001b[A\n",
      "save..:  89%|████████▉ | 3243/3651 [02:51<00:18, 21.69it/s]\u001b[A\n",
      "save..:  91%|█████████ | 3312/3651 [02:54<00:15, 21.71it/s]\u001b[A\n",
      "save..:  93%|█████████▎| 3380/3651 [02:58<00:12, 20.97it/s]\u001b[A\n",
      "save..:  95%|█████████▍| 3455/3651 [03:01<00:08, 21.86it/s]\u001b[A\n",
      "save..:  96%|█████████▋| 3523/3651 [03:04<00:05, 21.52it/s]\u001b[A\n",
      "save..: 100%|██████████| 3651/3651 [03:07<00:00, 19.46it/s]\u001b[A\n"
     ]
    },
    {
     "name": "stdout",
     "output_type": "stream",
     "text": [
      "(47786, 11)\n"
     ]
    },
    {
     "name": "stderr",
     "output_type": "stream",
     "text": [
      "\r",
      "craw:  74%|███████▍  | 222/300 [5:55:29<7:51:49, 362.94s/it]"
     ]
    },
    {
     "name": "stdout",
     "output_type": "stream",
     "text": [
      "닥터찬의찌개백반-석계역점 scroll\n"
     ]
    },
    {
     "name": "stderr",
     "output_type": "stream",
     "text": [
      "\r",
      "craw:  74%|███████▍  | 223/300 [5:56:11<5:42:06, 266.58s/it]"
     ]
    },
    {
     "name": "stdout",
     "output_type": "stream",
     "text": [
      "wrong shop\n",
      "죽마고우갈비찜-중랑구점 scroll\n",
      "죽마고우갈비찜-중랑구점 scroll\n"
     ]
    },
    {
     "name": "stderr",
     "output_type": "stream",
     "text": [
      "\n",
      "save..:   0%|          | 0/8 [00:00<?, ?it/s]\u001b[A"
     ]
    },
    {
     "name": "stdout",
     "output_type": "stream",
     "text": [
      "죽마고우갈비찜-중랑구점 8\n",
      "모든 리뷰 불러오기 시작...\n",
      "모든 리뷰 불러오기 완료!\n"
     ]
    },
    {
     "name": "stderr",
     "output_type": "stream",
     "text": [
      "save..: 100%|██████████| 8/8 [00:00<00:00, 21.61it/s]\n"
     ]
    },
    {
     "name": "stdout",
     "output_type": "stream",
     "text": [
      "(47794, 11)\n"
     ]
    },
    {
     "name": "stderr",
     "output_type": "stream",
     "text": [
      "\r",
      "craw:  75%|███████▍  | 224/300 [5:56:48<4:10:36, 197.85s/it]"
     ]
    },
    {
     "name": "stdout",
     "output_type": "stream",
     "text": [
      "마더앤찬 scroll\n"
     ]
    },
    {
     "name": "stderr",
     "output_type": "stream",
     "text": [
      "\n",
      "save..:   0%|          | 0/4 [00:00<?, ?it/s]\u001b[A"
     ]
    },
    {
     "name": "stdout",
     "output_type": "stream",
     "text": [
      "마더앤찬 4\n",
      "모든 리뷰 불러오기 시작...\n",
      "모든 리뷰 불러오기 완료!\n"
     ]
    },
    {
     "name": "stderr",
     "output_type": "stream",
     "text": [
      "save..: 100%|██████████| 4/4 [00:00<00:00, 15.48it/s]\n"
     ]
    },
    {
     "name": "stdout",
     "output_type": "stream",
     "text": [
      "(47798, 11)\n"
     ]
    },
    {
     "name": "stderr",
     "output_type": "stream",
     "text": [
      "\r",
      "craw:  75%|███████▌  | 225/300 [5:57:23<3:06:05, 148.87s/it]"
     ]
    },
    {
     "name": "stdout",
     "output_type": "stream",
     "text": [
      "이디야커피-회기역중앙점 scroll\n",
      "이디야커피-회기역중앙점 230\n",
      "모든 리뷰 불러오기 시작...\n",
      "모든 리뷰 불러오기 완료!\n"
     ]
    },
    {
     "name": "stderr",
     "output_type": "stream",
     "text": [
      "\n",
      "save..:   0%|          | 0/230 [00:00<?, ?it/s]\u001b[A\n",
      "save..:   0%|          | 1/230 [02:10<8:16:11, 130.01s/it]\u001b[A\n",
      "save..:  16%|█▌        | 36/230 [02:13<4:54:20, 91.03s/it]\u001b[A\n",
      "save..:  33%|███▎      | 77/230 [02:16<2:42:32, 63.74s/it]\u001b[A\n",
      "save..:  50%|████▉     | 114/230 [02:19<1:26:18, 44.65s/it]\u001b[A\n",
      "save..:  66%|██████▌   | 151/230 [02:22<41:10, 31.28s/it]  \u001b[A\n",
      "save..: 100%|██████████| 230/230 [02:28<00:00,  1.55it/s]\u001b[A\n"
     ]
    },
    {
     "name": "stdout",
     "output_type": "stream",
     "text": [
      "(48028, 11)\n"
     ]
    },
    {
     "name": "stderr",
     "output_type": "stream",
     "text": [
      "\r",
      "craw:  75%|███████▌  | 226/300 [6:00:58<3:28:08, 168.77s/it]"
     ]
    },
    {
     "name": "stdout",
     "output_type": "stream",
     "text": [
      "맛닭꼬-답십리점 scroll\n",
      "맛닭꼬-답십리점 34\n",
      "모든 리뷰 불러오기 시작...\n"
     ]
    },
    {
     "name": "stderr",
     "output_type": "stream",
     "text": [
      "\n",
      "save..:   0%|          | 0/34 [00:00<?, ?it/s]\u001b[A"
     ]
    },
    {
     "name": "stdout",
     "output_type": "stream",
     "text": [
      "모든 리뷰 불러오기 완료!\n"
     ]
    },
    {
     "name": "stderr",
     "output_type": "stream",
     "text": [
      "save..: 100%|██████████| 34/34 [00:01<00:00, 20.49it/s]\n"
     ]
    },
    {
     "name": "stdout",
     "output_type": "stream",
     "text": [
      "(48062, 11)\n"
     ]
    },
    {
     "name": "stderr",
     "output_type": "stream",
     "text": [
      "\r",
      "craw:  76%|███████▌  | 227/300 [6:01:39<2:38:32, 130.31s/it]"
     ]
    },
    {
     "name": "stdout",
     "output_type": "stream",
     "text": [
      "등갈비의신화 scroll\n"
     ]
    },
    {
     "name": "stderr",
     "output_type": "stream",
     "text": [
      "\n",
      "save..:   0%|          | 0/1 [00:00<?, ?it/s]\u001b[A"
     ]
    },
    {
     "name": "stdout",
     "output_type": "stream",
     "text": [
      "등갈비의신화 1\n",
      "모든 리뷰 불러오기 시작...\n",
      "모든 리뷰 불러오기 완료!\n"
     ]
    },
    {
     "name": "stderr",
     "output_type": "stream",
     "text": [
      "save..: 100%|██████████| 1/1 [00:00<00:00,  3.55it/s]\n"
     ]
    },
    {
     "name": "stdout",
     "output_type": "stream",
     "text": [
      "(48063, 11)\n"
     ]
    },
    {
     "name": "stderr",
     "output_type": "stream",
     "text": [
      "\r",
      "craw:  76%|███████▌  | 228/300 [6:02:25<2:06:06, 105.08s/it]"
     ]
    },
    {
     "name": "stdout",
     "output_type": "stream",
     "text": [
      "골목족발 scroll\n",
      "골목족발 27\n",
      "모든 리뷰 불러오기 시작...\n"
     ]
    },
    {
     "name": "stderr",
     "output_type": "stream",
     "text": [
      "\n",
      "save..:   0%|          | 0/27 [00:00<?, ?it/s]\u001b[A"
     ]
    },
    {
     "name": "stdout",
     "output_type": "stream",
     "text": [
      "모든 리뷰 불러오기 완료!\n"
     ]
    },
    {
     "name": "stderr",
     "output_type": "stream",
     "text": [
      "\n",
      "save..: 100%|██████████| 27/27 [02:13<00:00,  4.94s/it]\u001b[A\n"
     ]
    },
    {
     "name": "stdout",
     "output_type": "stream",
     "text": [
      "(48090, 11)\n"
     ]
    },
    {
     "name": "stderr",
     "output_type": "stream",
     "text": [
      "\r",
      "craw:  76%|███████▋  | 229/300 [6:05:27<2:31:37, 128.14s/it]"
     ]
    },
    {
     "name": "stdout",
     "output_type": "stream",
     "text": [
      "영산포홍어삼합 scroll\n",
      "영산포홍어삼합 161\n",
      "모든 리뷰 불러오기 시작...\n",
      "모든 리뷰 불러오기 완료!\n"
     ]
    },
    {
     "name": "stderr",
     "output_type": "stream",
     "text": [
      "\n",
      "save..:   0%|          | 0/161 [00:00<?, ?it/s]\u001b[A\n",
      "save..: 100%|██████████| 161/161 [00:04<00:00, 35.84it/s][A\n"
     ]
    },
    {
     "name": "stdout",
     "output_type": "stream",
     "text": [
      "(48251, 11)\n"
     ]
    },
    {
     "name": "stderr",
     "output_type": "stream",
     "text": [
      "\r",
      "craw:  77%|███████▋  | 230/300 [6:06:46<2:12:24, 113.50s/it]"
     ]
    },
    {
     "name": "stdout",
     "output_type": "stream",
     "text": [
      "투썸플레이스-서울시립대점 scroll\n",
      "투썸플레이스-서울시립대점 58\n",
      "모든 리뷰 불러오기 시작...\n",
      "모든 리뷰 불러오기 완료!\n"
     ]
    },
    {
     "name": "stderr",
     "output_type": "stream",
     "text": [
      "\n",
      "save..: 100%|██████████| 58/58 [00:02<00:00, 22.10it/s]\n"
     ]
    },
    {
     "name": "stdout",
     "output_type": "stream",
     "text": [
      "(48309, 11)\n"
     ]
    },
    {
     "name": "stderr",
     "output_type": "stream",
     "text": [
      "\r",
      "craw:  77%|███████▋  | 231/300 [6:07:13<1:40:32, 87.42s/it] "
     ]
    },
    {
     "name": "stdout",
     "output_type": "stream",
     "text": [
      "신가네닭발 scroll\n"
     ]
    },
    {
     "name": "stderr",
     "output_type": "stream",
     "text": [
      "\n",
      "save..: 100%|██████████| 1/1 [00:00<00:00, 1155.14it/s]"
     ]
    },
    {
     "name": "stdout",
     "output_type": "stream",
     "text": [
      "신가네닭발 1\n",
      "모든 리뷰 불러오기 시작...\n",
      "모든 리뷰 불러오기 완료!\n",
      "(48310, 11)\n"
     ]
    },
    {
     "name": "stderr",
     "output_type": "stream",
     "text": [
      "\n",
      "craw:  77%|███████▋  | 232/300 [6:08:17<1:31:17, 80.55s/it]"
     ]
    },
    {
     "name": "stdout",
     "output_type": "stream",
     "text": [
      "배스킨라빈스-중화역점 scroll\n",
      "배스킨라빈스-중화역점 102\n",
      "모든 리뷰 불러오기 시작...\n",
      "모든 리뷰 불러오기 완료!\n"
     ]
    },
    {
     "name": "stderr",
     "output_type": "stream",
     "text": [
      "\n",
      "save..: 100%|██████████| 102/102 [00:02<00:00, 38.05it/s]\n"
     ]
    },
    {
     "name": "stdout",
     "output_type": "stream",
     "text": [
      "(48412, 11)\n"
     ]
    },
    {
     "name": "stderr",
     "output_type": "stream",
     "text": [
      "\r",
      "craw:  78%|███████▊  | 233/300 [6:09:12<1:21:22, 72.88s/it]"
     ]
    },
    {
     "name": "stdout",
     "output_type": "stream",
     "text": [
      "찬이네-본점 scroll\n",
      "찬이네-본점 33\n",
      "모든 리뷰 불러오기 시작...\n"
     ]
    },
    {
     "name": "stderr",
     "output_type": "stream",
     "text": [
      "\n",
      "save..:   0%|          | 0/33 [00:00<?, ?it/s]\u001b[A"
     ]
    },
    {
     "name": "stdout",
     "output_type": "stream",
     "text": [
      "모든 리뷰 불러오기 완료!\n"
     ]
    },
    {
     "name": "stderr",
     "output_type": "stream",
     "text": [
      "save..: 100%|██████████| 33/33 [00:01<00:00, 19.33it/s]\n"
     ]
    },
    {
     "name": "stdout",
     "output_type": "stream",
     "text": [
      "(48445, 11)\n"
     ]
    },
    {
     "name": "stderr",
     "output_type": "stream",
     "text": [
      "\r",
      "craw:  78%|███████▊  | 234/300 [6:09:49<1:08:25, 62.20s/it]"
     ]
    },
    {
     "name": "stdout",
     "output_type": "stream",
     "text": [
      "취홍 scroll\n",
      "취홍 3386\n",
      "모든 리뷰 불러오기 시작...\n",
      "모든 리뷰 불러오기 완료!\n"
     ]
    },
    {
     "name": "stderr",
     "output_type": "stream",
     "text": [
      "\n",
      "save..:   0%|          | 0/3386 [00:00<?, ?it/s]\u001b[A\n",
      "save..:   2%|▏         | 78/3386 [00:03<02:09, 25.61it/s]\u001b[A\n",
      "save..:   4%|▍         | 148/3386 [00:06<02:11, 24.63it/s]\u001b[A\n",
      "save..:   6%|▋         | 218/3386 [00:09<02:11, 24.12it/s]\u001b[A\n",
      "save..:   9%|▉         | 299/3386 [00:12<02:04, 24.89it/s]\u001b[A\n",
      "save..:  11%|█         | 372/3386 [00:15<02:02, 24.59it/s]\u001b[A\n",
      "save..:  13%|█▎        | 440/3386 [00:18<02:03, 23.91it/s]\u001b[A\n",
      "save..:  15%|█▍        | 505/3386 [00:21<02:06, 22.85it/s]\u001b[A\n",
      "save..:  17%|█▋        | 592/3386 [00:24<01:55, 24.28it/s]\u001b[A\n",
      "save..:  20%|█▉        | 672/3386 [00:27<01:49, 24.79it/s]\u001b[A\n",
      "save..:  23%|██▎       | 771/3386 [00:30<01:38, 26.66it/s]\u001b[A\n",
      "save..:  25%|██▌       | 851/3386 [00:34<01:40, 25.26it/s]\u001b[A\n",
      "save..:  28%|██▊       | 935/3386 [00:37<01:34, 25.97it/s]\u001b[A\n",
      "save..:  30%|██▉       | 1014/3386 [00:41<01:39, 23.95it/s]\u001b[A\n",
      "save..:  32%|███▏      | 1087/3386 [00:45<01:44, 22.01it/s]\u001b[A\n",
      "save..:  34%|███▍      | 1164/3386 [00:48<01:36, 22.97it/s]\u001b[A\n",
      "save..:  36%|███▋      | 1235/3386 [00:52<01:41, 21.09it/s]\u001b[A\n",
      "save..:  38%|███▊      | 1301/3386 [00:56<01:49, 18.99it/s]\u001b[A\n",
      "save..:  40%|████      | 1371/3386 [00:59<01:40, 20.12it/s]\u001b[A\n",
      "save..:  43%|████▎     | 1443/3386 [01:02<01:32, 20.98it/s]\u001b[A\n",
      "save..:  45%|████▍     | 1511/3386 [01:05<01:27, 21.34it/s]\u001b[A\n",
      "save..:  47%|████▋     | 1580/3386 [01:08<01:22, 21.77it/s]\u001b[A\n",
      "save..:  50%|████▉     | 1684/3386 [01:11<01:09, 24.41it/s]\u001b[A\n",
      "save..:  53%|█████▎    | 1790/3386 [01:14<00:59, 26.82it/s]\u001b[A\n",
      "save..:  56%|█████▌    | 1894/3386 [01:17<00:52, 28.47it/s]\u001b[A\n",
      "save..:  59%|█████▊    | 1984/3386 [01:20<00:48, 28.61it/s]\u001b[A\n",
      "save..:  65%|██████▌   | 2202/3386 [01:23<00:34, 34.73it/s]\u001b[A\n",
      "save..:  69%|██████▉   | 2334/3386 [01:27<00:28, 36.82it/s]\u001b[A\n",
      "save..:  74%|███████▎  | 2493/3386 [01:30<00:22, 40.38it/s]\u001b[A\n",
      "save..:  78%|███████▊  | 2653/3386 [01:33<00:16, 43.34it/s]\u001b[A\n",
      "save..:  78%|███████▊  | 2653/3386 [01:52<00:16, 43.34it/s]\u001b[A\n",
      "save..:  82%|████████▏ | 2763/3386 [03:46<03:57,  2.63it/s]\u001b[A\n",
      "save..:  86%|████████▌ | 2918/3386 [03:49<02:07,  3.67it/s]\u001b[A\n",
      "save..:  93%|█████████▎| 3135/3386 [03:53<00:48,  5.13it/s]\u001b[A\n",
      "save..: 100%|██████████| 3386/3386 [03:58<00:00, 14.22it/s]\u001b[A\n"
     ]
    },
    {
     "name": "stdout",
     "output_type": "stream",
     "text": [
      "(51831, 11)\n"
     ]
    },
    {
     "name": "stderr",
     "output_type": "stream",
     "text": [
      "\r",
      "craw:  78%|███████▊  | 235/300 [6:30:20<7:27:07, 412.73s/it]"
     ]
    },
    {
     "name": "stdout",
     "output_type": "stream",
     "text": [
      "에그셀런트-경희대점 scroll\n",
      "에그셀런트-경희대점 19\n",
      "모든 리뷰 불러오기 시작...\n"
     ]
    },
    {
     "name": "stderr",
     "output_type": "stream",
     "text": [
      "\n",
      "save..:   0%|          | 0/19 [00:00<?, ?it/s]\u001b[A"
     ]
    },
    {
     "name": "stdout",
     "output_type": "stream",
     "text": [
      "모든 리뷰 불러오기 완료!\n"
     ]
    },
    {
     "name": "stderr",
     "output_type": "stream",
     "text": [
      "save..: 100%|██████████| 19/19 [00:01<00:00, 18.22it/s]\n"
     ]
    },
    {
     "name": "stdout",
     "output_type": "stream",
     "text": [
      "(51850, 11)\n"
     ]
    },
    {
     "name": "stderr",
     "output_type": "stream",
     "text": [
      "\r",
      "craw:  79%|███████▊  | 236/300 [6:30:54<5:19:08, 299.20s/it]"
     ]
    },
    {
     "name": "stdout",
     "output_type": "stream",
     "text": [
      "입큰아구찜&알곤이찜-면목점 scroll\n"
     ]
    },
    {
     "name": "stderr",
     "output_type": "stream",
     "text": [
      "\r",
      "craw:  79%|███████▉  | 237/300 [6:31:08<3:44:09, 213.48s/it]"
     ]
    },
    {
     "name": "stdout",
     "output_type": "stream",
     "text": [
      "wrong shop\n",
      "뚱카롱 scroll\n",
      "뚱카롱 5\n",
      "모든 리뷰 불러오기 시작...\n",
      "모든 리뷰 불러오기 완료!\n"
     ]
    },
    {
     "name": "stderr",
     "output_type": "stream",
     "text": [
      "\n",
      "save..:   0%|          | 0/5 [00:00<?, ?it/s]\u001b[A\n",
      "save..: 100%|██████████| 5/5 [02:09<00:00, 25.97s/it]\u001b[A\n"
     ]
    },
    {
     "name": "stdout",
     "output_type": "stream",
     "text": [
      "(51855, 11)\n"
     ]
    },
    {
     "name": "stderr",
     "output_type": "stream",
     "text": [
      "\r",
      "craw:  79%|███████▉  | 238/300 [6:33:38<3:21:04, 194.59s/it]"
     ]
    },
    {
     "name": "stdout",
     "output_type": "stream",
     "text": [
      "권기영스시 scroll\n",
      "권기영스시 60\n",
      "모든 리뷰 불러오기 시작...\n",
      "모든 리뷰 불러오기 완료!\n"
     ]
    },
    {
     "name": "stderr",
     "output_type": "stream",
     "text": [
      "\n",
      "save..:   0%|          | 0/60 [00:00<?, ?it/s]\u001b[A\n",
      "save..:  10%|█         | 6/60 [02:09<19:25, 21.59s/it]\u001b[A\n",
      "save..: 100%|██████████| 60/60 [02:13<00:00,  2.22s/it]\u001b[A\n"
     ]
    },
    {
     "name": "stdout",
     "output_type": "stream",
     "text": [
      "(51915, 11)\n"
     ]
    },
    {
     "name": "stderr",
     "output_type": "stream",
     "text": [
      "\r",
      "craw:  80%|███████▉  | 239/300 [6:37:00<3:20:05, 196.81s/it]"
     ]
    },
    {
     "name": "stdout",
     "output_type": "stream",
     "text": [
      "불타는맛곱창 scroll\n",
      "불타는맛곱창 15\n",
      "모든 리뷰 불러오기 시작...\n"
     ]
    },
    {
     "name": "stderr",
     "output_type": "stream",
     "text": [
      "\n",
      "save..:   0%|          | 0/15 [00:00<?, ?it/s]\u001b[A"
     ]
    },
    {
     "name": "stdout",
     "output_type": "stream",
     "text": [
      "모든 리뷰 불러오기 완료!\n"
     ]
    },
    {
     "name": "stderr",
     "output_type": "stream",
     "text": [
      "save..: 100%|██████████| 15/15 [00:00<00:00, 26.27it/s]\n"
     ]
    },
    {
     "name": "stdout",
     "output_type": "stream",
     "text": [
      "(51930, 11)\n"
     ]
    },
    {
     "name": "stderr",
     "output_type": "stream",
     "text": [
      "\r",
      "craw:  80%|████████  | 240/300 [6:37:42<2:30:22, 150.37s/it]"
     ]
    },
    {
     "name": "stdout",
     "output_type": "stream",
     "text": [
      "딸랑구족발 scroll\n"
     ]
    },
    {
     "name": "stderr",
     "output_type": "stream",
     "text": [
      "\r",
      "craw:  80%|████████  | 241/300 [6:38:02<1:49:20, 111.19s/it]"
     ]
    },
    {
     "name": "stdout",
     "output_type": "stream",
     "text": [
      "wrong shop\n",
      "크러쉬온유 scroll\n",
      "크러쉬온유 67\n",
      "모든 리뷰 불러오기 시작...\n",
      "모든 리뷰 불러오기 완료!\n"
     ]
    },
    {
     "name": "stderr",
     "output_type": "stream",
     "text": [
      "\n",
      "save..: 100%|██████████| 67/67 [00:02<00:00, 26.38it/s]\n"
     ]
    },
    {
     "name": "stdout",
     "output_type": "stream",
     "text": [
      "(51997, 11)\n"
     ]
    },
    {
     "name": "stderr",
     "output_type": "stream",
     "text": [
      "\r",
      "craw:  81%|████████  | 242/300 [6:38:35<1:24:39, 87.58s/it] "
     ]
    },
    {
     "name": "stdout",
     "output_type": "stream",
     "text": [
      "따띠삼겹-회기점 scroll\n",
      "따띠삼겹-회기점 319\n",
      "모든 리뷰 불러오기 시작...\n",
      "모든 리뷰 불러오기 완료!\n"
     ]
    },
    {
     "name": "stderr",
     "output_type": "stream",
     "text": [
      "\n",
      "save..:   0%|          | 0/319 [00:00<?, ?it/s]\u001b[A\n",
      "save..:  21%|██        | 66/319 [00:03<00:11, 21.57it/s]\u001b[A\n",
      "save..:  42%|████▏     | 133/319 [00:06<00:08, 21.70it/s]\u001b[A\n",
      "save..:  60%|██████    | 192/319 [00:09<00:06, 20.93it/s]\u001b[A\n",
      "save..: 100%|██████████| 319/319 [00:15<00:00, 21.12it/s]\u001b[A\n"
     ]
    },
    {
     "name": "stdout",
     "output_type": "stream",
     "text": [
      "(52316, 11)\n"
     ]
    },
    {
     "name": "stderr",
     "output_type": "stream",
     "text": [
      "\r",
      "craw:  81%|████████  | 243/300 [6:40:07<1:24:31, 88.98s/it]"
     ]
    },
    {
     "name": "stdout",
     "output_type": "stream",
     "text": [
      "그옛날1947왕만두-이문점 scroll\n",
      "그옛날1947왕만두-이문점 80\n",
      "모든 리뷰 불러오기 시작...\n",
      "모든 리뷰 불러오기 완료!\n"
     ]
    },
    {
     "name": "stderr",
     "output_type": "stream",
     "text": [
      "\n",
      "save..:   0%|          | 0/80 [00:00<?, ?it/s]\u001b[A\n",
      "save..: 100%|██████████| 80/80 [00:04<00:00, 19.23it/s]\u001b[A\n"
     ]
    },
    {
     "name": "stdout",
     "output_type": "stream",
     "text": [
      "(52396, 11)\n"
     ]
    },
    {
     "name": "stderr",
     "output_type": "stream",
     "text": [
      "\r",
      "craw:  81%|████████▏ | 244/300 [6:40:41<1:07:43, 72.57s/it]"
     ]
    },
    {
     "name": "stdout",
     "output_type": "stream",
     "text": [
      "오샬OTSAL scroll\n"
     ]
    },
    {
     "name": "stderr",
     "output_type": "stream",
     "text": [
      "\n",
      "save..:   0%|          | 0/5 [00:00<?, ?it/s]\u001b[A"
     ]
    },
    {
     "name": "stdout",
     "output_type": "stream",
     "text": [
      "오샬OTSAL 5\n",
      "모든 리뷰 불러오기 시작...\n",
      "모든 리뷰 불러오기 완료!\n"
     ]
    },
    {
     "name": "stderr",
     "output_type": "stream",
     "text": [
      "save..: 100%|██████████| 5/5 [00:00<00:00, 15.82it/s]\n"
     ]
    },
    {
     "name": "stdout",
     "output_type": "stream",
     "text": [
      "(52401, 11)\n"
     ]
    },
    {
     "name": "stderr",
     "output_type": "stream",
     "text": [
      "\r",
      "craw:  82%|████████▏ | 245/300 [6:41:14<55:38, 60.71s/it]  "
     ]
    },
    {
     "name": "stdout",
     "output_type": "stream",
     "text": [
      "육쌈냉면-경희대점 scroll\n",
      "육쌈냉면-경희대점 26\n",
      "모든 리뷰 불러오기 시작...\n"
     ]
    },
    {
     "name": "stderr",
     "output_type": "stream",
     "text": [
      "\n",
      "save..:   0%|          | 0/26 [00:00<?, ?it/s]\u001b[A"
     ]
    },
    {
     "name": "stdout",
     "output_type": "stream",
     "text": [
      "모든 리뷰 불러오기 완료!\n"
     ]
    },
    {
     "name": "stderr",
     "output_type": "stream",
     "text": [
      "save..: 100%|██████████| 26/26 [00:01<00:00, 23.98it/s]\n"
     ]
    },
    {
     "name": "stdout",
     "output_type": "stream",
     "text": [
      "(52427, 11)\n"
     ]
    },
    {
     "name": "stderr",
     "output_type": "stream",
     "text": [
      "\r",
      "craw:  82%|████████▏ | 246/300 [6:42:08<52:47, 58.66s/it]"
     ]
    },
    {
     "name": "stdout",
     "output_type": "stream",
     "text": [
      "공차 회기점 scroll\n",
      "공차 회기점 1317\n",
      "모든 리뷰 불러오기 시작...\n",
      "모든 리뷰 불러오기 완료!\n"
     ]
    },
    {
     "name": "stderr",
     "output_type": "stream",
     "text": [
      "\n",
      "save..:   0%|          | 0/1317 [00:00<?, ?it/s]\u001b[A\n",
      "save..:   6%|▌         | 81/1317 [00:03<00:45, 26.88it/s]\u001b[A\n",
      "save..:  13%|█▎        | 174/1317 [00:06<00:41, 27.74it/s]\u001b[A\n",
      "save..:  23%|██▎       | 299/1317 [00:09<00:33, 30.74it/s]\u001b[A\n",
      "save..:  30%|██▉       | 394/1317 [00:12<00:29, 30.91it/s]\u001b[A\n",
      "save..:  37%|███▋      | 486/1317 [00:15<00:26, 30.80it/s]\u001b[A\n",
      "save..:  44%|████▍     | 581/1317 [00:18<00:23, 31.00it/s]\u001b[A\n",
      "save..:  51%|█████▏    | 676/1317 [00:21<00:20, 31.13it/s]\u001b[A\n",
      "save..:  59%|█████▉    | 780/1317 [00:24<00:16, 32.03it/s]\u001b[A\n",
      "save..:  67%|██████▋   | 878/1317 [00:27<00:13, 32.07it/s]\u001b[A\n",
      "save..:  74%|███████▍  | 972/1317 [00:30<00:11, 31.01it/s]\u001b[A\n",
      "save..:  81%|████████  | 1064/1317 [00:34<00:08, 29.55it/s]\u001b[A\n",
      "save..: 100%|██████████| 1317/1317 [00:38<00:00, 33.91it/s]\u001b[A\n"
     ]
    },
    {
     "name": "stdout",
     "output_type": "stream",
     "text": [
      "(53744, 11)\n"
     ]
    },
    {
     "name": "stderr",
     "output_type": "stream",
     "text": [
      "\r",
      "craw:  82%|████████▏ | 247/300 [6:48:12<2:12:43, 150.25s/it]"
     ]
    },
    {
     "name": "stdout",
     "output_type": "stream",
     "text": [
      "카페오플러스 scroll\n",
      "카페오플러스 2\n",
      "모든 리뷰 불러오기 시작...\n",
      "모든 리뷰 불러오기 완료!\n"
     ]
    },
    {
     "name": "stderr",
     "output_type": "stream",
     "text": [
      "\n",
      "save..: 100%|██████████| 2/2 [00:00<00:00, 11.63it/s]\n"
     ]
    },
    {
     "name": "stdout",
     "output_type": "stream",
     "text": [
      "(53746, 11)\n"
     ]
    },
    {
     "name": "stderr",
     "output_type": "stream",
     "text": [
      "\r",
      "craw:  83%|████████▎ | 248/300 [6:49:01<1:43:57, 119.96s/it]"
     ]
    },
    {
     "name": "stdout",
     "output_type": "stream",
     "text": [
      "10첩반상찌개백반-묵동점 scroll\n",
      "10첩반상찌개백반-묵동점 374\n",
      "모든 리뷰 불러오기 시작...\n",
      "모든 리뷰 불러오기 완료!\n"
     ]
    },
    {
     "name": "stderr",
     "output_type": "stream",
     "text": [
      "\n",
      "save..:   0%|          | 0/374 [00:00<?, ?it/s]\u001b[A\n",
      "save..:  16%|█▌        | 58/374 [00:03<00:16, 19.03it/s]\u001b[A\n",
      "save..:  30%|██▉       | 111/374 [00:06<00:14, 18.48it/s]\u001b[A\n",
      "save..:  43%|████▎     | 160/374 [00:09<00:12, 17.67it/s]\u001b[A\n",
      "save..:  53%|█████▎    | 198/374 [00:12<00:11, 15.67it/s]\u001b[A\n",
      "save..:  66%|██████▌   | 245/374 [00:15<00:08, 15.60it/s]\u001b[A\n",
      "save..: 100%|██████████| 374/374 [00:20<00:00, 17.87it/s]\u001b[A\n"
     ]
    },
    {
     "name": "stdout",
     "output_type": "stream",
     "text": [
      "(54120, 11)\n"
     ]
    },
    {
     "name": "stderr",
     "output_type": "stream",
     "text": [
      "\r",
      "craw:  83%|████████▎ | 249/300 [6:51:03<1:42:23, 120.47s/it]"
     ]
    },
    {
     "name": "stdout",
     "output_type": "stream",
     "text": [
      "그대쉴꽃 scroll\n"
     ]
    },
    {
     "name": "stderr",
     "output_type": "stream",
     "text": [
      "\n",
      "save..:   0%|          | 0/7 [00:00<?, ?it/s]\u001b[A"
     ]
    },
    {
     "name": "stdout",
     "output_type": "stream",
     "text": [
      "그대쉴꽃 7\n",
      "모든 리뷰 불러오기 시작...\n",
      "모든 리뷰 불러오기 완료!\n"
     ]
    },
    {
     "name": "stderr",
     "output_type": "stream",
     "text": [
      "save..: 100%|██████████| 7/7 [00:00<00:00, 36.68it/s]\n"
     ]
    },
    {
     "name": "stdout",
     "output_type": "stream",
     "text": [
      "(54127, 11)\n"
     ]
    },
    {
     "name": "stderr",
     "output_type": "stream",
     "text": [
      "\r",
      "craw:  83%|████████▎ | 250/300 [6:51:49<1:21:44, 98.09s/it] "
     ]
    },
    {
     "name": "stdout",
     "output_type": "stream",
     "text": [
      "대만샌드위치티앙웨이-전농점 scroll\n"
     ]
    },
    {
     "name": "stderr",
     "output_type": "stream",
     "text": [
      "\r",
      "craw:  84%|████████▎ | 251/300 [6:52:05<1:00:06, 73.60s/it]"
     ]
    },
    {
     "name": "stdout",
     "output_type": "stream",
     "text": [
      "wrong shop\n",
      "카페115번지 scroll\n",
      "카페115번지 scroll\n",
      "카페115번지 51\n",
      "모든 리뷰 불러오기 시작...\n",
      "모든 리뷰 불러오기 완료!\n"
     ]
    },
    {
     "name": "stderr",
     "output_type": "stream",
     "text": [
      "\n",
      "save..:   0%|          | 0/51 [00:00<?, ?it/s]\u001b[A\n",
      "save..: 100%|██████████| 51/51 [00:03<00:00, 13.34it/s]\u001b[A\n"
     ]
    },
    {
     "name": "stdout",
     "output_type": "stream",
     "text": [
      "(54178, 11)\n"
     ]
    },
    {
     "name": "stderr",
     "output_type": "stream",
     "text": [
      "\r",
      "craw:  84%|████████▍ | 252/300 [6:52:44<50:30, 63.13s/it]  "
     ]
    },
    {
     "name": "stdout",
     "output_type": "stream",
     "text": [
      "은행골-경희대점 scroll\n",
      "은행골-경희대점 91\n",
      "모든 리뷰 불러오기 시작...\n",
      "모든 리뷰 불러오기 완료!\n"
     ]
    },
    {
     "name": "stderr",
     "output_type": "stream",
     "text": [
      "\n",
      "save..:   0%|          | 0/91 [00:00<?, ?it/s]\u001b[A\n",
      "save..: 100%|██████████| 91/91 [00:05<00:00, 15.47it/s]\u001b[A\n"
     ]
    },
    {
     "name": "stdout",
     "output_type": "stream",
     "text": [
      "(54269, 11)\n"
     ]
    },
    {
     "name": "stderr",
     "output_type": "stream",
     "text": [
      "\r",
      "craw:  84%|████████▍ | 253/300 [6:53:35<46:32, 59.42s/it]"
     ]
    },
    {
     "name": "stdout",
     "output_type": "stream",
     "text": [
      "해피테라스 scroll\n",
      "해피테라스 57\n",
      "모든 리뷰 불러오기 시작...\n"
     ]
    },
    {
     "name": "stderr",
     "output_type": "stream",
     "text": [
      "\n",
      "save..:   0%|          | 0/57 [00:00<?, ?it/s]\u001b[A"
     ]
    },
    {
     "name": "stdout",
     "output_type": "stream",
     "text": [
      "모든 리뷰 불러오기 완료!\n"
     ]
    },
    {
     "name": "stderr",
     "output_type": "stream",
     "text": [
      "save..: 100%|██████████| 57/57 [00:02<00:00, 21.67it/s]\n"
     ]
    },
    {
     "name": "stdout",
     "output_type": "stream",
     "text": [
      "(54326, 11)\n"
     ]
    },
    {
     "name": "stderr",
     "output_type": "stream",
     "text": [
      "\r",
      "craw:  85%|████████▍ | 254/300 [6:54:27<43:50, 57.19s/it]"
     ]
    },
    {
     "name": "stdout",
     "output_type": "stream",
     "text": [
      "1992덮밥앤짜글이-중랑점 scroll\n"
     ]
    },
    {
     "name": "stderr",
     "output_type": "stream",
     "text": [
      "\n",
      "save..:   0%|          | 0/4 [00:00<?, ?it/s]\u001b[A"
     ]
    },
    {
     "name": "stdout",
     "output_type": "stream",
     "text": [
      "1992덮밥앤짜글이-중랑점 4\n",
      "모든 리뷰 불러오기 시작...\n",
      "모든 리뷰 불러오기 완료!\n"
     ]
    },
    {
     "name": "stderr",
     "output_type": "stream",
     "text": [
      "\n",
      "save..: 100%|██████████| 4/4 [02:11<00:00, 32.88s/it]\u001b[A\n"
     ]
    },
    {
     "name": "stdout",
     "output_type": "stream",
     "text": [
      "(54330, 11)\n"
     ]
    },
    {
     "name": "stderr",
     "output_type": "stream",
     "text": [
      "\r",
      "craw:  85%|████████▌ | 255/300 [6:57:17<1:08:23, 91.20s/it]"
     ]
    },
    {
     "name": "stdout",
     "output_type": "stream",
     "text": [
      "본가닭도리탕&아빠반찬 scroll\n"
     ]
    },
    {
     "name": "stderr",
     "output_type": "stream",
     "text": [
      "\n",
      "save..: 100%|██████████| 1/1 [00:00<00:00, 1327.73it/s]"
     ]
    },
    {
     "name": "stdout",
     "output_type": "stream",
     "text": [
      "본가닭도리탕&아빠반찬 1\n",
      "모든 리뷰 불러오기 시작...\n",
      "모든 리뷰 불러오기 완료!\n",
      "(54331, 11)\n"
     ]
    },
    {
     "name": "stderr",
     "output_type": "stream",
     "text": [
      "\n",
      "craw:  85%|████████▌ | 256/300 [6:58:09<58:16, 79.46s/it]  "
     ]
    },
    {
     "name": "stdout",
     "output_type": "stream",
     "text": [
      "쉐프부대-광진점 scroll\n"
     ]
    },
    {
     "name": "stderr",
     "output_type": "stream",
     "text": [
      "\n",
      "save..: 100%|██████████| 1/1 [00:00<00:00, 15.73it/s]"
     ]
    },
    {
     "name": "stdout",
     "output_type": "stream",
     "text": [
      "쉐프부대-광진점 1\n",
      "모든 리뷰 불러오기 시작...\n",
      "모든 리뷰 불러오기 완료!\n",
      "(54332, 11)\n"
     ]
    },
    {
     "name": "stderr",
     "output_type": "stream",
     "text": [
      "\n",
      "craw:  86%|████████▌ | 257/300 [6:58:50<48:36, 67.83s/it]"
     ]
    },
    {
     "name": "stdout",
     "output_type": "stream",
     "text": [
      "마시그래이-경희대점 scroll\n",
      "마시그래이-경희대점 17\n",
      "모든 리뷰 불러오기 시작...\n"
     ]
    },
    {
     "name": "stderr",
     "output_type": "stream",
     "text": [
      "\n",
      "save..:   0%|          | 0/17 [00:00<?, ?it/s]"
     ]
    },
    {
     "name": "stdout",
     "output_type": "stream",
     "text": [
      "모든 리뷰 불러오기 완료!\n"
     ]
    },
    {
     "name": "stderr",
     "output_type": "stream",
     "text": [
      "save..: 100%|██████████| 17/17 [00:01<00:00, 12.85it/s]\n"
     ]
    },
    {
     "name": "stdout",
     "output_type": "stream",
     "text": [
      "(54349, 11)\n"
     ]
    },
    {
     "name": "stderr",
     "output_type": "stream",
     "text": [
      "\r",
      "craw:  86%|████████▌ | 258/300 [6:59:43<44:18, 63.30s/it]"
     ]
    },
    {
     "name": "stdout",
     "output_type": "stream",
     "text": [
      "그린치킨닥터 scroll\n",
      "그린치킨닥터 23\n",
      "모든 리뷰 불러오기 시작...\n"
     ]
    },
    {
     "name": "stderr",
     "output_type": "stream",
     "text": [
      "\n",
      "save..:   0%|          | 0/23 [00:00<?, ?it/s]\u001b[A"
     ]
    },
    {
     "name": "stdout",
     "output_type": "stream",
     "text": [
      "모든 리뷰 불러오기 완료!\n"
     ]
    },
    {
     "name": "stderr",
     "output_type": "stream",
     "text": [
      "save..: 100%|██████████| 23/23 [00:01<00:00, 15.52it/s]\n"
     ]
    },
    {
     "name": "stdout",
     "output_type": "stream",
     "text": [
      "(54372, 11)\n"
     ]
    },
    {
     "name": "stderr",
     "output_type": "stream",
     "text": [
      "\r",
      "craw:  86%|████████▋ | 259/300 [7:00:02<34:12, 50.05s/it]"
     ]
    },
    {
     "name": "stdout",
     "output_type": "stream",
     "text": [
      "버거킹-종암점 scroll\n",
      "버거킹-종암점 3503\n",
      "모든 리뷰 불러오기 시작...\n",
      "모든 리뷰 불러오기 완료!\n"
     ]
    },
    {
     "name": "stderr",
     "output_type": "stream",
     "text": [
      "\n",
      "save..:   0%|          | 0/3503 [00:00<?, ?it/s]\u001b[A\n",
      "save..:   2%|▏         | 54/3503 [00:03<03:17, 17.42it/s]\u001b[A\n",
      "save..:   3%|▎         | 96/3503 [00:06<03:30, 16.21it/s]\u001b[A\n",
      "save..:   5%|▍         | 158/3503 [00:09<03:13, 17.27it/s]\u001b[A\n",
      "save..:   6%|▌         | 209/3503 [00:12<03:13, 17.02it/s]\u001b[A\n",
      "save..:   7%|▋         | 261/3503 [00:15<03:12, 16.87it/s]\u001b[A\n",
      "save..:   9%|▉         | 308/3503 [00:18<03:14, 16.46it/s]\u001b[A\n",
      "save..:  10%|█         | 352/3503 [00:22<03:31, 14.93it/s]\u001b[A\n",
      "save..:  12%|█▏        | 416/3503 [00:25<03:08, 16.38it/s]\u001b[A\n",
      "save..:  13%|█▎        | 465/3503 [00:28<03:07, 16.21it/s]\u001b[A\n",
      "save..:  15%|█▍        | 519/3503 [00:31<02:58, 16.69it/s]\u001b[A\n",
      "save..:  16%|█▌        | 569/3503 [00:34<02:57, 16.54it/s]\u001b[A\n",
      "save..:  18%|█▊        | 633/3503 [00:37<02:42, 17.67it/s]\u001b[A\n",
      "save..:  20%|██        | 701/3503 [00:40<02:28, 18.82it/s]\u001b[A\n",
      "save..:  22%|██▏       | 760/3503 [00:43<02:25, 18.88it/s]\u001b[A\n",
      "save..:  23%|██▎       | 818/3503 [00:46<02:24, 18.57it/s]\u001b[A\n",
      "save..:  25%|██▍       | 875/3503 [00:50<02:28, 17.68it/s]\u001b[A\n",
      "save..:  27%|██▋       | 948/3503 [00:53<02:13, 19.15it/s]\u001b[A\n",
      "save..:  29%|██▉       | 1010/3503 [00:56<02:07, 19.52it/s]\u001b[A\n",
      "save..:  31%|███       | 1070/3503 [00:59<02:04, 19.51it/s]\u001b[A\n",
      "save..:  32%|███▏      | 1130/3503 [01:02<02:04, 19.12it/s]\u001b[A\n",
      "save..:  34%|███▍      | 1188/3503 [01:05<02:00, 19.15it/s]\u001b[A\n",
      "save..:  36%|███▌      | 1264/3503 [01:08<01:48, 20.57it/s]\u001b[A\n",
      "save..:  38%|███▊      | 1335/3503 [01:11<01:41, 21.40it/s]\u001b[A\n",
      "save..:  40%|███▉      | 1401/3503 [01:16<01:50, 19.07it/s]\u001b[A\n",
      "save..:  43%|████▎     | 1493/3503 [01:19<01:33, 21.47it/s]\u001b[A\n",
      "save..:  45%|████▍     | 1562/3503 [01:22<01:30, 21.34it/s]\u001b[A\n",
      "save..:  47%|████▋     | 1635/3503 [01:25<01:24, 22.04it/s]\u001b[A\n",
      "save..:  49%|████▉     | 1720/3503 [01:28<01:15, 23.49it/s]\u001b[A\n",
      "save..:  52%|█████▏    | 1808/3503 [01:31<01:08, 24.87it/s]\u001b[A\n",
      "save..:  54%|█████▍    | 1885/3503 [01:35<01:09, 23.40it/s]\u001b[A\n",
      "save..:  56%|█████▌    | 1958/3503 [01:39<01:13, 21.16it/s]\u001b[A\n",
      "save..:  58%|█████▊    | 2027/3503 [01:42<01:08, 21.66it/s]\u001b[A\n",
      "save..:  60%|█████▉    | 2094/3503 [01:45<01:06, 21.07it/s]\u001b[A\n",
      "save..:  62%|██████▏   | 2180/3503 [01:48<00:57, 22.85it/s]\u001b[A\n",
      "save..:  65%|██████▌   | 2286/3503 [01:52<00:47, 25.45it/s]\u001b[A\n",
      "save..:  69%|██████▊   | 2404/3503 [01:55<00:38, 28.34it/s]\u001b[A\n",
      "save..:  72%|███████▏  | 2526/3503 [01:58<00:31, 31.09it/s]\u001b[A\n",
      "save..:  75%|███████▌  | 2631/3503 [02:01<00:27, 32.16it/s]\u001b[A\n",
      "save..:  79%|███████▊  | 2752/3503 [02:04<00:22, 34.09it/s]\u001b[A\n",
      "save..:  82%|████████▏ | 2879/3503 [02:07<00:17, 36.18it/s]\u001b[A\n",
      "save..:  86%|████████▌ | 3013/3503 [02:10<00:12, 38.30it/s]\u001b[A\n",
      "save..:  91%|█████████ | 3187/3503 [02:13<00:07, 42.23it/s]\u001b[A\n",
      "save..:  95%|█████████▍| 3321/3503 [02:17<00:04, 39.04it/s]\u001b[A\n",
      "save..: 100%|██████████| 3503/3503 [02:20<00:00, 24.90it/s]\u001b[A\n"
     ]
    },
    {
     "name": "stdout",
     "output_type": "stream",
     "text": [
      "(57875, 11)\n"
     ]
    },
    {
     "name": "stderr",
     "output_type": "stream",
     "text": [
      "\r",
      "craw:  87%|████████▋ | 260/300 [7:19:56<4:22:15, 393.40s/it]"
     ]
    },
    {
     "name": "stdout",
     "output_type": "stream",
     "text": [
      "큰맘할매순대국-먹골역점 scroll\n",
      "큰맘할매순대국-먹골역점 416\n",
      "모든 리뷰 불러오기 시작...\n",
      "모든 리뷰 불러오기 완료!\n"
     ]
    },
    {
     "name": "stderr",
     "output_type": "stream",
     "text": [
      "\n",
      "save..:   0%|          | 0/416 [00:00<?, ?it/s]\u001b[A\n",
      "save..:  17%|█▋        | 69/416 [00:03<00:15, 22.60it/s]\u001b[A\n",
      "save..:  36%|███▌      | 150/416 [00:06<00:11, 23.72it/s]\u001b[A\n",
      "save..:  52%|█████▏    | 215/416 [00:09<00:08, 22.97it/s]\u001b[A\n",
      "save..:  63%|██████▎   | 262/416 [00:12<00:07, 19.65it/s]\u001b[A\n",
      "save..:  75%|███████▌  | 313/416 [00:15<00:05, 18.64it/s]\u001b[A\n",
      "save..: 100%|██████████| 416/416 [00:19<00:00, 21.55it/s]\u001b[A\n"
     ]
    },
    {
     "name": "stdout",
     "output_type": "stream",
     "text": [
      "(58291, 11)\n"
     ]
    },
    {
     "name": "stderr",
     "output_type": "stream",
     "text": [
      "\r",
      "craw:  87%|████████▋ | 261/300 [7:22:10<3:25:03, 315.46s/it]"
     ]
    },
    {
     "name": "stdout",
     "output_type": "stream",
     "text": [
      "팔공티-광운대점 scroll\n",
      "팔공티-광운대점 16\n",
      "모든 리뷰 불러오기 시작...\n",
      "모든 리뷰 불러오기 완료!\n"
     ]
    },
    {
     "name": "stderr",
     "output_type": "stream",
     "text": [
      "\n",
      "save..: 100%|██████████| 16/16 [00:01<00:00, 10.98it/s]\n"
     ]
    },
    {
     "name": "stdout",
     "output_type": "stream",
     "text": [
      "(58307, 11)\n"
     ]
    },
    {
     "name": "stderr",
     "output_type": "stream",
     "text": [
      "\r",
      "craw:  87%|████████▋ | 262/300 [7:22:53<2:27:59, 233.67s/it]"
     ]
    },
    {
     "name": "stdout",
     "output_type": "stream",
     "text": [
      "곽씨네김치찌개 scroll\n",
      "곽씨네김치찌개 487\n",
      "모든 리뷰 불러오기 시작...\n",
      "모든 리뷰 불러오기 완료!\n"
     ]
    },
    {
     "name": "stderr",
     "output_type": "stream",
     "text": [
      "\n",
      "save..:   0%|          | 0/487 [00:00<?, ?it/s]\u001b[A\n",
      "save..:  10%|▉         | 47/487 [00:03<00:28, 15.61it/s]\u001b[A\n",
      "save..:  23%|██▎       | 110/487 [00:06<00:22, 16.88it/s]\u001b[A\n",
      "save..:  40%|████      | 197/487 [00:09<00:15, 19.10it/s]\u001b[A\n",
      "save..:  61%|██████    | 296/487 [00:12<00:08, 21.85it/s]\u001b[A\n",
      "save..: 100%|██████████| 487/487 [00:15<00:00, 31.38it/s]\u001b[A\n"
     ]
    },
    {
     "name": "stdout",
     "output_type": "stream",
     "text": [
      "(58794, 11)\n"
     ]
    },
    {
     "name": "stderr",
     "output_type": "stream",
     "text": [
      "\r",
      "craw:  88%|████████▊ | 263/300 [7:25:41<2:12:03, 214.15s/it]"
     ]
    },
    {
     "name": "stdout",
     "output_type": "stream",
     "text": [
      "꼬꼬스토리-석관점 scroll\n"
     ]
    },
    {
     "name": "stderr",
     "output_type": "stream",
     "text": [
      "\r",
      "craw:  88%|████████▊ | 264/300 [7:26:16<1:36:05, 160.15s/it]"
     ]
    },
    {
     "name": "stdout",
     "output_type": "stream",
     "text": [
      "wrong shop\n",
      "서양요리집 scroll\n",
      "서양요리집 scroll\n",
      "서양요리집 151\n",
      "모든 리뷰 불러오기 시작...\n",
      "모든 리뷰 불러오기 완료!\n"
     ]
    },
    {
     "name": "stderr",
     "output_type": "stream",
     "text": [
      "\n",
      "save..:   0%|          | 0/151 [00:00<?, ?it/s]\u001b[A\n",
      "save..:   1%|          | 1/151 [02:09<5:24:33, 129.82s/it]\u001b[A\n",
      "save..:  36%|███▌      | 54/151 [02:12<2:26:56, 90.89s/it]\u001b[A\n",
      "save..: 100%|██████████| 151/151 [02:17<00:00,  1.10it/s] \u001b[A\n"
     ]
    },
    {
     "name": "stdout",
     "output_type": "stream",
     "text": [
      "(58945, 11)\n"
     ]
    },
    {
     "name": "stderr",
     "output_type": "stream",
     "text": [
      "\r",
      "craw:  88%|████████▊ | 265/300 [7:29:30<1:39:27, 170.50s/it]"
     ]
    },
    {
     "name": "stdout",
     "output_type": "stream",
     "text": [
      "BEANKHAN scroll\n"
     ]
    },
    {
     "name": "stderr",
     "output_type": "stream",
     "text": [
      "\n",
      "save..: 100%|██████████| 1/1 [00:00<00:00, 14.81it/s]"
     ]
    },
    {
     "name": "stdout",
     "output_type": "stream",
     "text": [
      "BEANKHAN 1\n",
      "모든 리뷰 불러오기 시작...\n",
      "모든 리뷰 불러오기 완료!\n",
      "(58946, 11)\n"
     ]
    },
    {
     "name": "stderr",
     "output_type": "stream",
     "text": [
      "\n",
      "craw:  89%|████████▊ | 266/300 [7:29:45<1:10:12, 123.89s/it]"
     ]
    },
    {
     "name": "stdout",
     "output_type": "stream",
     "text": [
      "한국통닭-면목역점 scroll\n"
     ]
    },
    {
     "name": "stderr",
     "output_type": "stream",
     "text": [
      "\n",
      "save..: 100%|██████████| 4/4 [00:00<00:00, 1275.93it/s]"
     ]
    },
    {
     "name": "stdout",
     "output_type": "stream",
     "text": [
      "한국통닭-면목역점 4\n",
      "모든 리뷰 불러오기 시작...\n",
      "모든 리뷰 불러오기 완료!\n",
      "(58950, 11)\n"
     ]
    },
    {
     "name": "stderr",
     "output_type": "stream",
     "text": [
      "\n",
      "craw:  89%|████████▉ | 267/300 [7:30:26<54:26, 98.98s/it]   "
     ]
    },
    {
     "name": "stdout",
     "output_type": "stream",
     "text": [
      "하동우렁추어탕-먹골점 scroll\n",
      "하동우렁추어탕-먹골점 12\n",
      "모든 리뷰 불러오기 시작...\n"
     ]
    },
    {
     "name": "stderr",
     "output_type": "stream",
     "text": [
      "\n",
      "save..:   0%|          | 0/12 [00:00<?, ?it/s]\u001b[A"
     ]
    },
    {
     "name": "stdout",
     "output_type": "stream",
     "text": [
      "모든 리뷰 불러오기 완료!\n"
     ]
    },
    {
     "name": "stderr",
     "output_type": "stream",
     "text": [
      "\n",
      "save..:   8%|▊         | 1/12 [02:10<23:58, 130.78s/it]\u001b[A\n",
      "save..:  33%|███▎      | 4/12 [04:21<13:57, 104.65s/it]\u001b[A\n",
      "save..: 100%|██████████| 12/12 [06:33<00:00, 32.76s/it]\u001b[A\n"
     ]
    },
    {
     "name": "stdout",
     "output_type": "stream",
     "text": [
      "(58962, 11)\n"
     ]
    },
    {
     "name": "stderr",
     "output_type": "stream",
     "text": [
      "\r",
      "craw:  89%|████████▉ | 268/300 [7:37:26<1:44:05, 195.18s/it]"
     ]
    },
    {
     "name": "stdout",
     "output_type": "stream",
     "text": [
      "역전우동-회기역점 scroll\n",
      "역전우동-회기역점 315\n",
      "모든 리뷰 불러오기 시작...\n",
      "모든 리뷰 불러오기 완료!\n"
     ]
    },
    {
     "name": "stderr",
     "output_type": "stream",
     "text": [
      "\n",
      "save..:   0%|          | 0/315 [00:00<?, ?it/s]\u001b[A\n",
      "save..:  25%|██▍       | 78/315 [00:03<00:09, 25.65it/s]\u001b[A\n",
      "save..:  45%|████▌     | 142/315 [00:06<00:07, 24.11it/s]\u001b[A\n",
      "save..:  65%|██████▌   | 205/315 [00:09<00:04, 23.05it/s]\u001b[A\n",
      "save..: 100%|██████████| 315/315 [00:14<00:00, 22.29it/s]\u001b[A\n"
     ]
    },
    {
     "name": "stdout",
     "output_type": "stream",
     "text": [
      "(59277, 11)\n"
     ]
    },
    {
     "name": "stderr",
     "output_type": "stream",
     "text": [
      "\r",
      "craw:  90%|████████▉ | 269/300 [7:39:00<1:25:14, 164.99s/it]"
     ]
    },
    {
     "name": "stdout",
     "output_type": "stream",
     "text": [
      "육수당-푸짐한순대수육전골&부대찌개전문점 scroll\n"
     ]
    },
    {
     "name": "stderr",
     "output_type": "stream",
     "text": [
      "\n",
      "save..: 100%|██████████| 1/1 [00:00<00:00, 1214.33it/s]"
     ]
    },
    {
     "name": "stdout",
     "output_type": "stream",
     "text": [
      "육수당-푸짐한순대수육전골&부대찌개전문점 1\n",
      "모든 리뷰 불러오기 시작...\n",
      "모든 리뷰 불러오기 완료!\n"
     ]
    },
    {
     "name": "stderr",
     "output_type": "stream",
     "text": [
      "\n"
     ]
    },
    {
     "name": "stdout",
     "output_type": "stream",
     "text": [
      "(59278, 11)\n"
     ]
    },
    {
     "name": "stderr",
     "output_type": "stream",
     "text": [
      "\r",
      "craw:  90%|█████████ | 270/300 [7:39:41<1:03:52, 127.76s/it]"
     ]
    },
    {
     "name": "stdout",
     "output_type": "stream",
     "text": [
      "왔다흑돼지전문점 scroll\n"
     ]
    },
    {
     "name": "stderr",
     "output_type": "stream",
     "text": [
      "\n",
      "save..: 100%|██████████| 1/1 [00:00<00:00, 16.69it/s]"
     ]
    },
    {
     "name": "stdout",
     "output_type": "stream",
     "text": [
      "왔다흑돼지전문점 1\n",
      "모든 리뷰 불러오기 시작...\n",
      "모든 리뷰 불러오기 완료!\n",
      "(59279, 11)\n"
     ]
    },
    {
     "name": "stderr",
     "output_type": "stream",
     "text": [
      "\n",
      "craw:  90%|█████████ | 271/300 [7:40:28<50:03, 103.58s/it]  "
     ]
    },
    {
     "name": "stdout",
     "output_type": "stream",
     "text": [
      "엄마손김치-답십리점 scroll\n"
     ]
    },
    {
     "name": "stderr",
     "output_type": "stream",
     "text": [
      "\r",
      "craw:  91%|█████████ | 272/300 [7:40:37<35:04, 75.14s/it] "
     ]
    },
    {
     "name": "stdout",
     "output_type": "stream",
     "text": [
      "wrong shop\n",
      "김밥천국-청량리점 scroll\n",
      "김밥천국-청량리점 251\n",
      "모든 리뷰 불러오기 시작...\n",
      "모든 리뷰 불러오기 완료!\n"
     ]
    },
    {
     "name": "stderr",
     "output_type": "stream",
     "text": [
      "\n",
      "save..:   0%|          | 0/251 [00:00<?, ?it/s]\u001b[A\n",
      "save..:  22%|██▏       | 55/251 [00:03<00:11, 17.36it/s]\u001b[A\n",
      "save..:  52%|█████▏    | 131/251 [00:06<00:06, 19.09it/s]\u001b[A\n",
      "save..: 100%|██████████| 251/251 [00:11<00:00, 21.86it/s]\u001b[A\n"
     ]
    },
    {
     "name": "stdout",
     "output_type": "stream",
     "text": [
      "(59530, 11)\n"
     ]
    },
    {
     "name": "stderr",
     "output_type": "stream",
     "text": [
      "\r",
      "craw:  91%|█████████ | 273/300 [7:42:23<37:54, 84.23s/it]"
     ]
    },
    {
     "name": "stdout",
     "output_type": "stream",
     "text": [
      "장어촌-중랑점 scroll\n",
      "장어촌-중랑점 14\n",
      "모든 리뷰 불러오기 시작...\n"
     ]
    },
    {
     "name": "stderr",
     "output_type": "stream",
     "text": [
      "\n",
      "save..:   0%|          | 0/14 [00:00<?, ?it/s]\u001b[A"
     ]
    },
    {
     "name": "stdout",
     "output_type": "stream",
     "text": [
      "모든 리뷰 불러오기 완료!\n"
     ]
    },
    {
     "name": "stderr",
     "output_type": "stream",
     "text": [
      "save..: 100%|██████████| 14/14 [00:00<00:00, 20.68it/s]\n"
     ]
    },
    {
     "name": "stdout",
     "output_type": "stream",
     "text": [
      "(59544, 11)\n"
     ]
    },
    {
     "name": "stderr",
     "output_type": "stream",
     "text": [
      "\r",
      "craw:  91%|█████████▏| 274/300 [7:43:08<31:26, 72.55s/it]"
     ]
    },
    {
     "name": "stdout",
     "output_type": "stream",
     "text": [
      "1번지통닭-장안데시앙점 scroll\n",
      "1번지통닭-장안데시앙점 42\n",
      "모든 리뷰 불러오기 시작...\n"
     ]
    },
    {
     "name": "stderr",
     "output_type": "stream",
     "text": [
      "\n",
      "save..:   0%|          | 0/42 [00:00<?, ?it/s]\u001b[A"
     ]
    },
    {
     "name": "stdout",
     "output_type": "stream",
     "text": [
      "모든 리뷰 불러오기 완료!\n"
     ]
    },
    {
     "name": "stderr",
     "output_type": "stream",
     "text": [
      "save..: 100%|██████████| 42/42 [00:02<00:00, 17.68it/s]\n"
     ]
    },
    {
     "name": "stdout",
     "output_type": "stream",
     "text": [
      "(59586, 11)\n"
     ]
    },
    {
     "name": "stderr",
     "output_type": "stream",
     "text": [
      "\r",
      "craw:  92%|█████████▏| 275/300 [7:43:55<26:58, 64.75s/it]"
     ]
    },
    {
     "name": "stdout",
     "output_type": "stream",
     "text": [
      "세븐돈까스김밥-먹골점 scroll\n",
      "세븐돈까스김밥-먹골점 6\n",
      "모든 리뷰 불러오기 시작...\n",
      "모든 리뷰 불러오기 완료!\n"
     ]
    },
    {
     "name": "stderr",
     "output_type": "stream",
     "text": [
      "\n",
      "save..: 100%|██████████| 6/6 [00:00<00:00, 16.12it/s]\n"
     ]
    },
    {
     "name": "stdout",
     "output_type": "stream",
     "text": [
      "(59592, 11)\n"
     ]
    },
    {
     "name": "stderr",
     "output_type": "stream",
     "text": [
      "\r",
      "craw:  92%|█████████▏| 276/300 [7:44:35<22:55, 57.33s/it]"
     ]
    },
    {
     "name": "stdout",
     "output_type": "stream",
     "text": [
      "XO핫도그 scroll\n",
      "XO핫도그 44\n",
      "모든 리뷰 불러오기 시작...\n",
      "모든 리뷰 불러오기 완료!\n"
     ]
    },
    {
     "name": "stderr",
     "output_type": "stream",
     "text": [
      "\n",
      "save..: 100%|██████████| 44/44 [00:01<00:00, 36.29it/s]\n"
     ]
    },
    {
     "name": "stdout",
     "output_type": "stream",
     "text": [
      "(59636, 11)\n"
     ]
    },
    {
     "name": "stderr",
     "output_type": "stream",
     "text": [
      "\r",
      "craw:  92%|█████████▏| 277/300 [7:45:13<19:51, 51.79s/it]"
     ]
    },
    {
     "name": "stdout",
     "output_type": "stream",
     "text": [
      "무꼬뭐꼬떡볶이-동대문점 scroll\n",
      "무꼬뭐꼬떡볶이-동대문점 103\n",
      "모든 리뷰 불러오기 시작...\n",
      "모든 리뷰 불러오기 완료!\n"
     ]
    },
    {
     "name": "stderr",
     "output_type": "stream",
     "text": [
      "\n",
      "save..:   0%|          | 0/103 [00:00<?, ?it/s]\u001b[A\n",
      "save..: 100%|██████████| 103/103 [00:05<00:00, 18.13it/s][A\n"
     ]
    },
    {
     "name": "stdout",
     "output_type": "stream",
     "text": [
      "(59739, 11)\n"
     ]
    },
    {
     "name": "stderr",
     "output_type": "stream",
     "text": [
      "\r",
      "craw:  93%|█████████▎| 278/300 [7:46:04<18:54, 51.55s/it]"
     ]
    },
    {
     "name": "stdout",
     "output_type": "stream",
     "text": [
      "와우냉면&수제만두 scroll\n"
     ]
    },
    {
     "name": "stderr",
     "output_type": "stream",
     "text": [
      "\n",
      "save..:   0%|          | 0/8 [00:00<?, ?it/s]\u001b[A"
     ]
    },
    {
     "name": "stdout",
     "output_type": "stream",
     "text": [
      "와우냉면&수제만두 8\n",
      "모든 리뷰 불러오기 시작...\n",
      "모든 리뷰 불러오기 완료!\n"
     ]
    },
    {
     "name": "stderr",
     "output_type": "stream",
     "text": [
      "save..: 100%|██████████| 8/8 [00:00<00:00, 32.93it/s]\n"
     ]
    },
    {
     "name": "stdout",
     "output_type": "stream",
     "text": [
      "(59747, 11)\n"
     ]
    },
    {
     "name": "stderr",
     "output_type": "stream",
     "text": [
      "\r",
      "craw:  93%|█████████▎| 279/300 [7:46:49<17:17, 49.41s/it]"
     ]
    },
    {
     "name": "stdout",
     "output_type": "stream",
     "text": [
      "소딸이북카페 scroll\n"
     ]
    },
    {
     "name": "stderr",
     "output_type": "stream",
     "text": [
      "\r",
      "craw:  93%|█████████▎| 280/300 [7:46:56<12:14, 36.74s/it]"
     ]
    },
    {
     "name": "stdout",
     "output_type": "stream",
     "text": [
      "wrong shop\n",
      "커피마마-상월곡점 scroll\n",
      "커피마마-상월곡점 12\n",
      "모든 리뷰 불러오기 시작...\n",
      "모든 리뷰 불러오기 완료!\n"
     ]
    },
    {
     "name": "stderr",
     "output_type": "stream",
     "text": [
      "\n",
      "save..: 100%|██████████| 12/12 [00:00<00:00, 28.20it/s]\n"
     ]
    },
    {
     "name": "stdout",
     "output_type": "stream",
     "text": [
      "(59759, 11)\n"
     ]
    },
    {
     "name": "stderr",
     "output_type": "stream",
     "text": [
      "\r",
      "craw:  94%|█████████▎| 281/300 [7:47:25<10:54, 34.44s/it]"
     ]
    },
    {
     "name": "stdout",
     "output_type": "stream",
     "text": [
      "빽가네수제족발-본점 scroll\n",
      "빽가네수제족발-본점 106\n",
      "모든 리뷰 불러오기 시작...\n",
      "모든 리뷰 불러오기 완료!\n"
     ]
    },
    {
     "name": "stderr",
     "output_type": "stream",
     "text": [
      "\n",
      "save..:   0%|          | 0/106 [00:00<?, ?it/s]\u001b[A\n",
      "save..:  48%|████▊     | 51/106 [00:03<00:03, 16.52it/s]\u001b[A\n",
      "save..: 100%|██████████| 106/106 [00:06<00:00, 16.85it/s]\u001b[A\n"
     ]
    },
    {
     "name": "stdout",
     "output_type": "stream",
     "text": [
      "(59865, 11)\n"
     ]
    },
    {
     "name": "stderr",
     "output_type": "stream",
     "text": [
      "\r",
      "craw:  94%|█████████▍| 282/300 [7:48:49<14:49, 49.40s/it]"
     ]
    },
    {
     "name": "stdout",
     "output_type": "stream",
     "text": [
      "코난커피 scroll\n"
     ]
    },
    {
     "name": "stderr",
     "output_type": "stream",
     "text": [
      "\n",
      "save..:   0%|          | 0/4 [00:00<?, ?it/s]\u001b[A"
     ]
    },
    {
     "name": "stdout",
     "output_type": "stream",
     "text": [
      "코난커피 4\n",
      "모든 리뷰 불러오기 시작...\n",
      "모든 리뷰 불러오기 완료!\n"
     ]
    },
    {
     "name": "stderr",
     "output_type": "stream",
     "text": [
      "save..: 100%|██████████| 4/4 [00:00<00:00, 10.18it/s]\n"
     ]
    },
    {
     "name": "stdout",
     "output_type": "stream",
     "text": [
      "(59869, 11)\n"
     ]
    },
    {
     "name": "stderr",
     "output_type": "stream",
     "text": [
      "\r",
      "craw:  94%|█████████▍| 283/300 [7:49:16<12:03, 42.53s/it]"
     ]
    },
    {
     "name": "stdout",
     "output_type": "stream",
     "text": [
      "수퍼보울 scroll\n",
      "수퍼보울 296\n",
      "모든 리뷰 불러오기 시작...\n",
      "모든 리뷰 불러오기 완료!\n"
     ]
    },
    {
     "name": "stderr",
     "output_type": "stream",
     "text": [
      "\n",
      "save..:   0%|          | 0/296 [00:00<?, ?it/s]\u001b[A\n",
      "save..:  16%|█▌        | 46/296 [00:03<00:16, 15.08it/s]\u001b[A\n",
      "save..:  31%|███       | 92/296 [00:06<00:13, 15.04it/s]\u001b[A\n",
      "save..:  46%|████▋     | 137/296 [00:09<00:10, 14.99it/s]\u001b[A\n",
      "save..:  61%|██████    | 180/296 [00:12<00:07, 14.69it/s]\u001b[A\n",
      "save..:  74%|███████▍  | 220/296 [00:15<00:05, 14.14it/s]\u001b[A\n",
      "save..:  93%|█████████▎| 274/296 [00:18<00:01, 15.08it/s]\u001b[A\n",
      "save..:  93%|█████████▎| 274/296 [00:30<00:01, 15.08it/s]\u001b[A\n",
      "save..: 100%|██████████| 296/296 [02:30<00:00,  1.97it/s]\u001b[A\n"
     ]
    },
    {
     "name": "stdout",
     "output_type": "stream",
     "text": [
      "(60165, 11)\n"
     ]
    },
    {
     "name": "stderr",
     "output_type": "stream",
     "text": [
      "\r",
      "craw:  95%|█████████▍| 284/300 [7:53:33<28:29, 106.86s/it]"
     ]
    },
    {
     "name": "stdout",
     "output_type": "stream",
     "text": [
      "키친요시노 scroll\n",
      "키친요시노 14\n",
      "모든 리뷰 불러오기 시작...\n"
     ]
    },
    {
     "name": "stderr",
     "output_type": "stream",
     "text": [
      "\n",
      "save..:   0%|          | 0/14 [00:00<?, ?it/s]\u001b[A"
     ]
    },
    {
     "name": "stdout",
     "output_type": "stream",
     "text": [
      "모든 리뷰 불러오기 완료!\n"
     ]
    },
    {
     "name": "stderr",
     "output_type": "stream",
     "text": [
      "save..: 100%|██████████| 14/14 [00:01<00:00, 11.23it/s]\n"
     ]
    },
    {
     "name": "stdout",
     "output_type": "stream",
     "text": [
      "(60179, 11)\n"
     ]
    },
    {
     "name": "stderr",
     "output_type": "stream",
     "text": [
      "\r",
      "craw:  95%|█████████▌| 285/300 [7:53:58<20:33, 82.23s/it] "
     ]
    },
    {
     "name": "stdout",
     "output_type": "stream",
     "text": [
      "참맛감자탕-석관점 scroll\n",
      "참맛감자탕-석관점 13\n",
      "모든 리뷰 불러오기 시작...\n"
     ]
    },
    {
     "name": "stderr",
     "output_type": "stream",
     "text": [
      "\n",
      "save..:   0%|          | 0/13 [00:00<?, ?it/s]\u001b[A"
     ]
    },
    {
     "name": "stdout",
     "output_type": "stream",
     "text": [
      "모든 리뷰 불러오기 완료!\n"
     ]
    },
    {
     "name": "stderr",
     "output_type": "stream",
     "text": [
      "save..: 100%|██████████| 13/13 [00:00<00:00, 14.58it/s]\n"
     ]
    },
    {
     "name": "stdout",
     "output_type": "stream",
     "text": [
      "(60192, 11)\n"
     ]
    },
    {
     "name": "stderr",
     "output_type": "stream",
     "text": [
      "\r",
      "craw:  95%|█████████▌| 286/300 [7:54:19<14:54, 63.91s/it]"
     ]
    },
    {
     "name": "stdout",
     "output_type": "stream",
     "text": [
      "1인용묵은지김치찜-청량리점 scroll\n",
      "1인용묵은지김치찜-청량리점 90\n",
      "모든 리뷰 불러오기 시작...\n",
      "모든 리뷰 불러오기 완료!\n"
     ]
    },
    {
     "name": "stderr",
     "output_type": "stream",
     "text": [
      "\n",
      "save..:   0%|          | 0/90 [00:00<?, ?it/s]\u001b[A\n",
      "save..: 100%|██████████| 90/90 [00:05<00:00, 15.53it/s]\u001b[A\n"
     ]
    },
    {
     "name": "stdout",
     "output_type": "stream",
     "text": [
      "(60282, 11)\n"
     ]
    },
    {
     "name": "stderr",
     "output_type": "stream",
     "text": [
      "\r",
      "craw:  96%|█████████▌| 287/300 [7:55:32<14:27, 66.73s/it]"
     ]
    },
    {
     "name": "stdout",
     "output_type": "stream",
     "text": [
      "1인용묵은지김치찜-중화점 scroll\n",
      "1인용묵은지김치찜-중화점 42\n",
      "모든 리뷰 불러오기 시작...\n"
     ]
    },
    {
     "name": "stderr",
     "output_type": "stream",
     "text": [
      "\n",
      "save..:   0%|          | 0/42 [00:00<?, ?it/s]\u001b[A"
     ]
    },
    {
     "name": "stdout",
     "output_type": "stream",
     "text": [
      "모든 리뷰 불러오기 완료!\n"
     ]
    },
    {
     "name": "stderr",
     "output_type": "stream",
     "text": [
      "\n",
      "save..: 100%|██████████| 42/42 [02:12<00:00,  3.16s/it][A\n"
     ]
    },
    {
     "name": "stdout",
     "output_type": "stream",
     "text": [
      "(60324, 11)\n"
     ]
    },
    {
     "name": "stderr",
     "output_type": "stream",
     "text": [
      "\r",
      "craw:  96%|█████████▌| 288/300 [7:58:24<19:39, 98.26s/it]"
     ]
    },
    {
     "name": "stdout",
     "output_type": "stream",
     "text": [
      "하노이별-상봉엠코점 scroll\n",
      "하노이별-상봉엠코점 50\n",
      "모든 리뷰 불러오기 시작...\n",
      "모든 리뷰 불러오기 완료!\n"
     ]
    },
    {
     "name": "stderr",
     "output_type": "stream",
     "text": [
      "\n",
      "save..:   0%|          | 0/50 [00:00<?, ?it/s]\u001b[A\n",
      "save..:   6%|▌         | 3/50 [02:09<33:50, 43.20s/it]\u001b[A\n",
      "save..: 100%|██████████| 50/50 [04:21<00:00,  5.23s/it]\u001b[A\n"
     ]
    },
    {
     "name": "stdout",
     "output_type": "stream",
     "text": [
      "(60374, 11)\n"
     ]
    },
    {
     "name": "stderr",
     "output_type": "stream",
     "text": [
      "\r",
      "craw:  96%|█████████▋| 289/300 [8:03:33<29:37, 161.63s/it]"
     ]
    },
    {
     "name": "stdout",
     "output_type": "stream",
     "text": [
      "산골닭갈비 scroll\n",
      "산골닭갈비 29\n",
      "모든 리뷰 불러오기 시작...\n"
     ]
    },
    {
     "name": "stderr",
     "output_type": "stream",
     "text": [
      "\n",
      "save..:   0%|          | 0/29 [00:00<?, ?it/s]\u001b[A"
     ]
    },
    {
     "name": "stdout",
     "output_type": "stream",
     "text": [
      "모든 리뷰 불러오기 완료!\n"
     ]
    },
    {
     "name": "stderr",
     "output_type": "stream",
     "text": [
      "save..: 100%|██████████| 29/29 [00:01<00:00, 16.01it/s]\n"
     ]
    },
    {
     "name": "stdout",
     "output_type": "stream",
     "text": [
      "(60403, 11)\n"
     ]
    },
    {
     "name": "stderr",
     "output_type": "stream",
     "text": [
      "\r",
      "craw:  97%|█████████▋| 290/300 [8:04:09<20:37, 123.73s/it]"
     ]
    },
    {
     "name": "stdout",
     "output_type": "stream",
     "text": [
      "3인분13000원부대찌개-석관점 scroll\n",
      "3인분13000원부대찌개-석관점 10\n",
      "모든 리뷰 불러오기 시작...\n"
     ]
    },
    {
     "name": "stderr",
     "output_type": "stream",
     "text": [
      "\n",
      "save..:   0%|          | 0/10 [00:00<?, ?it/s]\u001b[A"
     ]
    },
    {
     "name": "stdout",
     "output_type": "stream",
     "text": [
      "모든 리뷰 불러오기 완료!\n"
     ]
    },
    {
     "name": "stderr",
     "output_type": "stream",
     "text": [
      "\n",
      "save..: 100%|██████████| 10/10 [02:10<00:00, 13.02s/it][A\n"
     ]
    },
    {
     "name": "stdout",
     "output_type": "stream",
     "text": [
      "(60413, 11)\n"
     ]
    },
    {
     "name": "stderr",
     "output_type": "stream",
     "text": [
      "\r",
      "craw:  97%|█████████▋| 291/300 [8:07:12<21:14, 141.62s/it]"
     ]
    },
    {
     "name": "stdout",
     "output_type": "stream",
     "text": [
      "deartable-본점 scroll\n",
      "deartable-본점 13\n",
      "모든 리뷰 불러오기 시작...\n"
     ]
    },
    {
     "name": "stderr",
     "output_type": "stream",
     "text": [
      "\n",
      "save..:   0%|          | 0/13 [00:00<?, ?it/s]\u001b[A"
     ]
    },
    {
     "name": "stdout",
     "output_type": "stream",
     "text": [
      "모든 리뷰 불러오기 완료!\n"
     ]
    },
    {
     "name": "stderr",
     "output_type": "stream",
     "text": [
      "save..: 100%|██████████| 13/13 [00:00<00:00, 20.81it/s]\n"
     ]
    },
    {
     "name": "stdout",
     "output_type": "stream",
     "text": [
      "(60426, 11)\n"
     ]
    },
    {
     "name": "stderr",
     "output_type": "stream",
     "text": [
      "\r",
      "craw:  97%|█████████▋| 292/300 [8:07:59<15:04, 113.12s/it]"
     ]
    },
    {
     "name": "stdout",
     "output_type": "stream",
     "text": [
      "미담 scroll\n",
      "미담 80\n",
      "모든 리뷰 불러오기 시작...\n",
      "모든 리뷰 불러오기 완료!\n"
     ]
    },
    {
     "name": "stderr",
     "output_type": "stream",
     "text": [
      "\n",
      "save..:   0%|          | 0/80 [00:00<?, ?it/s]\u001b[A\n",
      "save..:   1%|▏         | 1/80 [02:10<2:51:55, 130.58s/it]\u001b[A\n",
      "save..:  11%|█▏        | 9/80 [04:21<1:53:58, 96.32s/it] \u001b[A\n",
      "save..: 100%|██████████| 80/80 [04:27<00:00,  3.34s/it] \u001b[A\n"
     ]
    },
    {
     "name": "stdout",
     "output_type": "stream",
     "text": [
      "(60506, 11)\n"
     ]
    },
    {
     "name": "stderr",
     "output_type": "stream",
     "text": [
      "\r",
      "craw:  98%|█████████▊| 293/300 [8:13:32<20:54, 179.24s/it]"
     ]
    },
    {
     "name": "stdout",
     "output_type": "stream",
     "text": [
      "황학동숯불구이막창 scroll\n",
      "황학동숯불구이막창 10\n",
      "모든 리뷰 불러오기 시작...\n"
     ]
    },
    {
     "name": "stderr",
     "output_type": "stream",
     "text": [
      "\n",
      "save..:   0%|          | 0/10 [00:00<?, ?it/s]\u001b[A"
     ]
    },
    {
     "name": "stdout",
     "output_type": "stream",
     "text": [
      "모든 리뷰 불러오기 완료!\n"
     ]
    },
    {
     "name": "stderr",
     "output_type": "stream",
     "text": [
      "save..: 100%|██████████| 10/10 [00:00<00:00, 11.17it/s]\n"
     ]
    },
    {
     "name": "stdout",
     "output_type": "stream",
     "text": [
      "(60516, 11)\n"
     ]
    },
    {
     "name": "stderr",
     "output_type": "stream",
     "text": [
      "\r",
      "craw:  98%|█████████▊| 294/300 [8:14:19<13:57, 139.51s/it]"
     ]
    },
    {
     "name": "stdout",
     "output_type": "stream",
     "text": [
      "청춘닭꼬치-장안점 scroll\n",
      "청춘닭꼬치-장안점 64\n",
      "모든 리뷰 불러오기 시작...\n",
      "모든 리뷰 불러오기 완료!\n"
     ]
    },
    {
     "name": "stderr",
     "output_type": "stream",
     "text": [
      "\n",
      "save..:   0%|          | 0/64 [00:00<?, ?it/s]\u001b[A\n",
      "save..:   3%|▎         | 2/64 [02:09<1:07:03, 64.89s/it]\u001b[A\n",
      "save..:   5%|▍         | 3/64 [04:20<1:26:09, 84.75s/it]\u001b[A\n",
      "save..: 100%|██████████| 64/64 [04:26<00:00,  4.16s/it] \u001b[A\n"
     ]
    },
    {
     "name": "stdout",
     "output_type": "stream",
     "text": [
      "(60580, 11)\n"
     ]
    },
    {
     "name": "stderr",
     "output_type": "stream",
     "text": [
      "\r",
      "craw:  98%|█████████▊| 295/300 [8:19:30<15:55, 191.04s/it]"
     ]
    },
    {
     "name": "stdout",
     "output_type": "stream",
     "text": [
      "미미고찹쌀꽈배기-답십리점 scroll\n"
     ]
    },
    {
     "name": "stderr",
     "output_type": "stream",
     "text": [
      "\n",
      "save..: 100%|██████████| 1/1 [00:00<00:00, 12.76it/s]"
     ]
    },
    {
     "name": "stdout",
     "output_type": "stream",
     "text": [
      "미미고찹쌀꽈배기-답십리점 1\n",
      "모든 리뷰 불러오기 시작...\n",
      "모든 리뷰 불러오기 완료!\n",
      "(60581, 11)\n"
     ]
    },
    {
     "name": "stderr",
     "output_type": "stream",
     "text": [
      "\n",
      "craw:  99%|█████████▊| 296/300 [8:20:21<09:55, 148.93s/it]"
     ]
    },
    {
     "name": "stdout",
     "output_type": "stream",
     "text": [
      "에그드랍-경희대점 scroll\n",
      "에그드랍-경희대점 238\n",
      "모든 리뷰 불러오기 시작...\n",
      "모든 리뷰 불러오기 완료!\n"
     ]
    },
    {
     "name": "stderr",
     "output_type": "stream",
     "text": [
      "\n",
      "save..:   0%|          | 0/238 [00:00<?, ?it/s]\u001b[A\n",
      "save..:   7%|▋         | 17/238 [02:11<28:24,  7.71s/it]\u001b[A\n",
      "save..:  34%|███▎      | 80/238 [02:14<14:15,  5.41s/it]\u001b[A\n",
      "save..:  58%|█████▊    | 137/238 [02:17<06:24,  3.81s/it]\u001b[A\n",
      "save..:  58%|█████▊    | 137/238 [02:36<06:24,  3.81s/it]\u001b[A\n",
      "save..:  68%|██████▊   | 161/238 [04:28<05:31,  4.30s/it]\u001b[A\n",
      "save..: 100%|██████████| 238/238 [04:31<00:00,  1.14s/it]\u001b[A\n"
     ]
    },
    {
     "name": "stdout",
     "output_type": "stream",
     "text": [
      "(60819, 11)\n"
     ]
    },
    {
     "name": "stderr",
     "output_type": "stream",
     "text": [
      "\r",
      "craw:  99%|█████████▉| 297/300 [8:25:57<10:15, 205.11s/it]"
     ]
    },
    {
     "name": "stdout",
     "output_type": "stream",
     "text": [
      "최강불막창-본점 scroll\n",
      "최강불막창-본점 15\n",
      "모든 리뷰 불러오기 시작...\n"
     ]
    },
    {
     "name": "stderr",
     "output_type": "stream",
     "text": [
      "\n",
      "save..:   0%|          | 0/15 [00:00<?, ?it/s]\u001b[A"
     ]
    },
    {
     "name": "stdout",
     "output_type": "stream",
     "text": [
      "모든 리뷰 불러오기 완료!\n"
     ]
    },
    {
     "name": "stderr",
     "output_type": "stream",
     "text": [
      "save..: 100%|██████████| 15/15 [00:01<00:00, 11.76it/s]\n"
     ]
    },
    {
     "name": "stdout",
     "output_type": "stream",
     "text": [
      "(60834, 11)\n"
     ]
    },
    {
     "name": "stderr",
     "output_type": "stream",
     "text": [
      "\r",
      "craw:  99%|█████████▉| 298/300 [8:26:43<05:14, 157.27s/it]"
     ]
    },
    {
     "name": "stdout",
     "output_type": "stream",
     "text": [
      "꽃중년푸줏간-장안점 scroll\n"
     ]
    },
    {
     "name": "stderr",
     "output_type": "stream",
     "text": [
      "\r",
      "craw: 100%|█████████▉| 299/300 [8:26:58<01:54, 114.61s/it]"
     ]
    },
    {
     "name": "stdout",
     "output_type": "stream",
     "text": [
      "wrong shop\n",
      "1인용마라탕-청량리점 scroll\n",
      "1인용마라탕-청량리점 33\n",
      "모든 리뷰 불러오기 시작...\n"
     ]
    },
    {
     "name": "stderr",
     "output_type": "stream",
     "text": [
      "\n",
      "save..:   0%|          | 0/33 [00:00<?, ?it/s]\u001b[A"
     ]
    },
    {
     "name": "stdout",
     "output_type": "stream",
     "text": [
      "모든 리뷰 불러오기 완료!\n"
     ]
    },
    {
     "name": "stderr",
     "output_type": "stream",
     "text": [
      "save..: 100%|██████████| 33/33 [00:01<00:00, 17.18it/s]\n"
     ]
    },
    {
     "name": "stdout",
     "output_type": "stream",
     "text": [
      "(60867, 11)\n"
     ]
    },
    {
     "name": "stderr",
     "output_type": "stream",
     "text": [
      "craw: 100%|██████████| 300/300 [8:27:41<00:00, 101.54s/it]"
     ]
    },
    {
     "name": "stdout",
     "output_type": "stream",
     "text": [
      "tot_shop:299,crawling sucess\n"
     ]
    },
    {
     "name": "stderr",
     "output_type": "stream",
     "text": [
      "\n"
     ]
    }
   ],
   "source": [
    "cata=4\n",
    "start=0\n",
    "end=300\n",
    "\n",
    "\n",
    "shops_list=uni_shop.shop[uni_shop.catagory == cata].tolist()\n",
    "col_list=['shop','name','date','tot_star','star_flavor','star_volume','star_deliver','menu','review_customer','review_owner','img_name']\n",
    "df=pd.DataFrame(columns=col_list)\n",
    "global driver\n",
    "#driver.quit()\n",
    "driver=driver_start(university)\n",
    "for i in tqdm(range(start,end),desc='craw'):\n",
    "    shop=shops_list[i]\n",
    "    go_stop=scroll_element(shop)\n",
    "    if go_stop:\n",
    "        #스크롤 했는데 음식점 없으면 다음으로 넘어감\n",
    "        print('wrong shop')\n",
    "        continue\n",
    "    \n",
    "    time.sleep(3)\n",
    "    \n",
    "        #찾은 음식점 클릭\n",
    "    try:\n",
    "        driver.find_element_by_xpath(f'//*[@title=\"{shop}\"]').click()\n",
    "    except (Exception, NoSuchElementException, ElementClickInterceptedException):\n",
    "        driver.quit()\n",
    "        driver=driver_start(university)\n",
    "        time.sleep(2)\n",
    "        scroll_element(shop)\n",
    "        time.sleep(3)\n",
    "        driver.find_element_by_xpath(f'//*[@title=\"{shop}\"]').click()\n",
    "    time.sleep(3)\n",
    "    \n",
    "\n",
    "    new=craw(i,shop,driver,col_list,cata)\n",
    "    df=pd.concat([new,df])\n",
    "    print(df.shape)\n",
    "    driver.back()\n",
    "    time.sleep(2)\n",
    "\n",
    "print(f'tot_shop:{i},crawling sucess')"
   ]
  },
  {
   "cell_type": "code",
   "execution_count": 10,
   "metadata": {},
   "outputs": [],
   "source": [
    "df.to_csv(path+f'cata{cata}_1.csv',index=False)"
   ]
  },
  {
   "cell_type": "code",
   "execution_count": null,
   "metadata": {},
   "outputs": [],
   "source": []
  }
 ],
 "metadata": {
  "kernelspec": {
   "display_name": "Python 3",
   "language": "python",
   "name": "python3"
  },
  "language_info": {
   "codemirror_mode": {
    "name": "ipython",
    "version": 3
   },
   "file_extension": ".py",
   "mimetype": "text/x-python",
   "name": "python",
   "nbconvert_exporter": "python",
   "pygments_lexer": "ipython3",
   "version": "3.8.5"
  }
 },
 "nbformat": 4,
 "nbformat_minor": 4
}
