{
 "cells": [
  {
   "cell_type": "code",
   "execution_count": 1,
   "metadata": {},
   "outputs": [],
   "source": [
    "from selenium import webdriver\n",
    "from bs4 import BeautifulSoup\n",
    "from selenium.webdriver.support.ui import WebDriverWait\n",
    "from selenium.webdriver.support import expected_conditions as EC\n",
    "from selenium.webdriver.common.by import By\n",
    "import pandas as pd\n",
    "import time\n",
    "from urllib.request import urlretrieve\n",
    "from tqdm import tqdm\n",
    "import os,csv"
   ]
  },
  {
   "cell_type": "code",
   "execution_count": 2,
   "metadata": {},
   "outputs": [],
   "source": [
    "def driver_start():\n",
    "    chrome_options = webdriver.ChromeOptions() \n",
    "    chrome_options.add_argument('--headless')#창없이 실행\n",
    "    chrome_options.add_argument('--no-sandbox')\n",
    "    chrome_options.add_argument('--disable-dev-shm-usage')\n",
    "    #print(0)\n",
    "\n",
    "    path='./chromedriver'\n",
    "    driver = webdriver.Chrome(executable_path=path,chrome_options=chrome_options)\n",
    "    driver.set_window_size(1024,1000)\n",
    "\n",
    "    url = \"https://www.yogiyo.co.kr/mobile/#/\"\n",
    "    driver.get(url)\n",
    "    time.sleep(1)\n",
    "    #print(1)\n",
    "    driver.find_element_by_xpath('//*[@id=\"search\"]/div/form/input').clear()\n",
    "    driver.find_element_by_xpath('//*[@id=\"search\"]/div/form/input').send_keys('서울특별시 동대문구 전농동 694 서울시립대학교')\n",
    "    driver.find_element_by_xpath('//*[@id=\"button_search_address\"]/button[2]').click()\n",
    "    time.sleep(1)\n",
    "    #print(2)\n",
    "\n",
    "    driver.find_element_by_xpath('//*[@id=\"category\"]/ul/li[5]/span').click() #치킨,피자등 카테고리 클릭\n",
    "    time.sleep(1)\n",
    "    #print(2)\n",
    "    \n",
    "    return driver"
   ]
  },
  {
   "cell_type": "code",
   "execution_count": 3,
   "metadata": {},
   "outputs": [],
   "source": [
    "#있는 곳까지 스크롤\n",
    "def scroll_element(shop,i):\n",
    "    print(f\"{i}th scroll\")\n",
    "    while True:\n",
    "        try:\n",
    "            some_tag = driver.find_element_by_xpath(f'//*[@title=\"{shop[i]}\"]')\n",
    "            if some_tag:\n",
    "                break\n",
    "        except Exception:\n",
    "            driver.execute_script(\"window.scrollTo(0, document.body.scrollHeight);\")\n",
    "            time.sleep(0.5)"
   ]
  },
  {
   "cell_type": "code",
   "execution_count": 4,
   "metadata": {},
   "outputs": [],
   "source": [
    "def stretch_review_page(review_cnt):\n",
    "    click_count = int((review_cnt/10))\n",
    "    print('모든 리뷰 불러오기 시작...')\n",
    "    for _ in range(click_count):\n",
    "        try:\n",
    "            driver.execute_script(\"window.scrollTo(0,document.body.scrollHeight);\")\n",
    "            driver.find_element_by_class_name('btn-more').click()\n",
    "            time.sleep(2)\n",
    "        except Exception as e:\n",
    "            pass\n",
    "    driver.execute_script(\"window.scrollTo(0,document.body.scrollHeight);\")\n",
    "    print('모든 리뷰 불러오기 완료!')"
   ]
  },
  {
   "cell_type": "code",
   "execution_count": 5,
   "metadata": {},
   "outputs": [],
   "source": [
    "def craw(i,shop_in,driver,col_list):\n",
    "    try:\n",
    "        driver.find_element_by_xpath('//*[@id=\"content\"]/div[2]/div[1]/ul/li[2]').click()\n",
    "    except Exception:\n",
    "        driver.quit()\n",
    "        driver=driver_start()\n",
    "        time.sleep(3)\n",
    "        driver.find_element_by_xpath(f'//*[@title=\"{shop_in[i]}\"]').click()\n",
    "        time.sleep(3)\n",
    "        driver.find_element_by_xpath('//*[@id=\"content\"]/div[2]/div[1]/ul/li[2]').click()\n",
    "    \n",
    "    html = driver.page_source\n",
    "    soup = BeautifulSoup(html, 'html.parser')\n",
    "    \n",
    "    a=soup.find_all(\"strong\",{\"class\":\"ng-binding\"})\n",
    "    star_tot=a[0].text.strip()\n",
    "    review_cnt=int(a[1].text.strip())\n",
    "    review_own_cnt=a[2].text\n",
    "    shop=soup.find('span',{'ng-bind':'restaurant.name'}).text\n",
    "    print(shop, review_cnt)\n",
    "    \n",
    "    if review_cnt==0: #리뷰없으면 종료\n",
    "        print(0)\n",
    "        return\n",
    "    \n",
    "    stretch_review_page(review_cnt)\n",
    "        \n",
    "    html = driver.page_source\n",
    "    soup = BeautifulSoup(html, 'html.parser')\n",
    "\n",
    "    b=soup.find_all('li',{'class':'list-group-item star-point ng-scope'})\n",
    "    \n",
    "    name_list,date_list,star_flavor_list,star_volume_list,star_deliver_list=[],[],[],[],[]\n",
    "    menu_list,review_customer_list,review_owner_list,img_name_list=[],[],[],[]\n",
    "    for i in tqdm(range(len(b)),desc='save..',mininterval=3):\n",
    "        now=b[i]\n",
    "        name=now.find('span',{'ng-show':\"review.phone\"}).text\n",
    "        name_list.append(name)\n",
    "        date=now.find('span',{'ng-bind':\"review.time|since\"}).text\n",
    "        date_list.append(date)\n",
    "        \n",
    "        try:\n",
    "            star=now.find_all('span',{'class':\"points ng-binding\"})\n",
    "        except IndexError:\n",
    "            print(f'{i}th review, none star')\n",
    "            continue\n",
    "            \n",
    "        try:\n",
    "            star_flavor=star[0].text\n",
    "        except IndexError:\n",
    "            star_flavor=None\n",
    "        star_flavor_list.append(star_flavor)\n",
    "        \n",
    "        try:\n",
    "            star_volume=star[1].text\n",
    "        except IndexError:\n",
    "            star_volume=None\n",
    "        star_volume_list.append(star_volume)\n",
    "\n",
    "        try:\n",
    "            star_deliver=star[2].text\n",
    "        except IndexError:\n",
    "            star_deliver=None\n",
    "            pass\n",
    "        star_deliver_list.append(star_deliver)\n",
    "            \n",
    "        menu=now.find(\"div\",{\"class\":\"order-items default ng-binding\"}).text.strip()\n",
    "        menu_list.append(menu)\n",
    "        review_customer=now.find(\"p\",{\"class\":\"ng-binding\"}).text\n",
    "        review_customer_list.append(review_customer)\n",
    "\n",
    "    \n",
    "        try:\n",
    "            review_owner=now.find(\"p\",{\"ng-bind-html\":\"review.owner_reply.comment|strip_html\"}).text\n",
    "        except AttributeError:\n",
    "            review_owner=None\n",
    "        review_owner_list.append(review_owner)\n",
    "        try:\n",
    "            img_url=now.find('img')['src']\n",
    "        except TypeError:\n",
    "            img_name=None\n",
    "        else:\n",
    "            img_name=shop+'_'+str(i)\n",
    "            path=f'./data/chicken/{shop}'\n",
    "            if not os.path.isdir(path):\n",
    "                os.mkdir(path)\n",
    "            urlretrieve(img_url,path+'/'+img_name+'.jpg')\n",
    "        img_name_list.append(img_name)\n",
    "                \n",
    "    #new=pd.DataFrame([[shop,name,date,star_flavor,star_volume,star_deliver,menu,review_customer,review_owner,img_name]],columns=col_list)\n",
    "    data={'shop':shop,'name':name_list,'date':date_list,'star_flavor':star_flavor_list,'star_volume':star_volume_list,\n",
    "         'star_deliver':star_deliver_list,'menu':menu_list,'review_customer':review_customer_list,\n",
    "          'review_owner':review_owner_list,'img_name':img_name_list}\n",
    "    new=pd.DataFrame(data)\n",
    "\n",
    "    return new"
   ]
  },
  {
   "cell_type": "code",
   "execution_count": 6,
   "metadata": {},
   "outputs": [],
   "source": [
    "fin_list=[1,1,1,1,1,1,1,1]\n",
    "with open('./data/final_shop.csv', 'r', encoding='cp949') as f:\n",
    "    rdr = csv.reader(f)\n",
    "    for i,line in enumerate(rdr):\n",
    "        fin_list[i] = line"
   ]
  },
  {
   "cell_type": "code",
   "execution_count": 10,
   "metadata": {},
   "outputs": [
    {
     "name": "stderr",
     "output_type": "stream",
     "text": [
      "<ipython-input-2-996b97e0e9c3>:9: DeprecationWarning: use options instead of chrome_options\n",
      "  driver = webdriver.Chrome(executable_path=path,chrome_options=chrome_options)\n",
      "craw:   0%|          | 0/35 [00:00<?, ?it/s]"
     ]
    },
    {
     "name": "stdout",
     "output_type": "stream",
     "text": [
      "172th scroll\n",
      "바사칸인생치킨 400\n",
      "모든 리뷰 불러오기 시작...\n",
      "모든 리뷰 불러오기 완료!\n"
     ]
    },
    {
     "name": "stderr",
     "output_type": "stream",
     "text": [
      "\n",
      "save..:   0%|          | 0/400 [00:00<?, ?it/s]\u001b[A\n",
      "save..:  15%|█▌        | 60/400 [00:03<00:17, 19.73it/s]\u001b[A\n",
      "save..:  27%|██▋       | 109/400 [00:06<00:15, 18.43it/s]\u001b[A\n",
      "save..:  44%|████▍     | 175/400 [00:09<00:11, 19.31it/s]\u001b[A\n",
      "save..:  58%|█████▊    | 231/400 [00:12<00:08, 18.98it/s]\u001b[A\n",
      "save..:  76%|███████▌  | 303/400 [00:15<00:04, 20.17it/s]\u001b[A\n",
      "save..: 100%|██████████| 400/400 [00:20<00:00, 19.56it/s]\u001b[A\n"
     ]
    },
    {
     "name": "stdout",
     "output_type": "stream",
     "text": [
      "(1954, 10)\n"
     ]
    },
    {
     "name": "stderr",
     "output_type": "stream",
     "text": [
      "\r",
      "craw:   3%|▎         | 1/35 [01:54<1:04:59, 114.70s/it]"
     ]
    },
    {
     "name": "stdout",
     "output_type": "stream",
     "text": [
      "173th scroll\n",
      "맛닭꼬-동부시장점 128\n",
      "모든 리뷰 불러오기 시작...\n",
      "모든 리뷰 불러오기 완료!\n"
     ]
    },
    {
     "name": "stderr",
     "output_type": "stream",
     "text": [
      "\n",
      "save..:   0%|          | 0/128 [00:00<?, ?it/s]\u001b[A\n",
      "save..:  34%|███▍      | 44/128 [00:03<00:05, 14.33it/s]\u001b[A\n",
      "save..: 100%|██████████| 128/128 [00:08<00:00, 15.76it/s][A\n"
     ]
    },
    {
     "name": "stdout",
     "output_type": "stream",
     "text": [
      "(2082, 10)\n"
     ]
    },
    {
     "name": "stderr",
     "output_type": "stream",
     "text": [
      "\r",
      "craw:   6%|▌         | 2/35 [02:37<51:10, 93.05s/it]   "
     ]
    },
    {
     "name": "stdout",
     "output_type": "stream",
     "text": [
      "174th scroll\n",
      "후라이드참잘하는집-장안점 1706\n",
      "모든 리뷰 불러오기 시작...\n",
      "모든 리뷰 불러오기 완료!\n"
     ]
    },
    {
     "name": "stderr",
     "output_type": "stream",
     "text": [
      "\n",
      "save..:   0%|          | 0/1706 [00:00<?, ?it/s]\u001b[A\n",
      "save..:   2%|▏         | 27/1706 [00:03<03:52,  7.23it/s]\u001b[A\n",
      "save..:   4%|▍         | 72/1706 [00:06<03:11,  8.52it/s]\u001b[A\n",
      "save..:   6%|▋         | 108/1706 [00:09<02:51,  9.32it/s]\u001b[A\n",
      "save..:   8%|▊         | 135/1706 [00:12<02:51,  9.18it/s]\u001b[A\n",
      "save..:  11%|█▏        | 196/1706 [00:15<02:17, 10.95it/s]\u001b[A\n",
      "save..:  14%|█▍        | 236/1706 [00:19<02:09, 11.32it/s]\u001b[A\n",
      "save..:  16%|█▌        | 273/1706 [00:22<02:03, 11.56it/s]\u001b[A\n",
      "save..:  18%|█▊        | 311/1706 [00:25<01:58, 11.82it/s]\u001b[A\n",
      "save..:  21%|██        | 361/1706 [00:28<01:43, 12.94it/s]\u001b[A\n",
      "save..:  24%|██▍       | 409/1706 [00:31<01:34, 13.69it/s]\u001b[A\n",
      "save..:  27%|██▋       | 455/1706 [00:34<01:28, 14.11it/s]\u001b[A\n",
      "save..:  32%|███▏      | 542/1706 [00:37<01:09, 16.66it/s]\u001b[A\n",
      "save..:  38%|███▊      | 651/1706 [00:40<00:53, 19.84it/s]\u001b[A\n",
      "save..:  43%|████▎     | 741/1706 [00:43<00:43, 21.98it/s]\u001b[A\n",
      "save..:  48%|████▊     | 818/1706 [00:48<00:44, 19.96it/s]\u001b[A\n",
      "save..:  53%|█████▎    | 908/1706 [00:51<00:36, 21.83it/s]\u001b[A\n",
      "save..:  62%|██████▏   | 1066/1706 [00:54<00:24, 26.44it/s]\u001b[A\n",
      "save..:  72%|███████▏  | 1236/1706 [00:57<00:14, 31.45it/s]\u001b[A\n",
      "save..:  82%|████████▏ | 1394/1706 [01:00<00:08, 35.67it/s]\u001b[A\n",
      "save..: 100%|██████████| 1706/1706 [01:06<00:00, 25.55it/s]\u001b[A\n"
     ]
    },
    {
     "name": "stdout",
     "output_type": "stream",
     "text": [
      "(3788, 10)\n"
     ]
    },
    {
     "name": "stderr",
     "output_type": "stream",
     "text": [
      "\r",
      "craw:   9%|▊         | 3/35 [10:34<1:51:08, 208.41s/it]"
     ]
    },
    {
     "name": "stdout",
     "output_type": "stream",
     "text": [
      "175th scroll\n",
      "취중진닭-본점 0\n",
      "0\n",
      "(3788, 10)\n"
     ]
    },
    {
     "name": "stderr",
     "output_type": "stream",
     "text": [
      "\r",
      "craw:  11%|█▏        | 4/35 [10:43<1:16:45, 148.55s/it]"
     ]
    },
    {
     "name": "stdout",
     "output_type": "stream",
     "text": [
      "176th scroll\n",
      "석도치즈닭갈비전문점 0\n",
      "0\n",
      "(3788, 10)\n"
     ]
    },
    {
     "name": "stderr",
     "output_type": "stream",
     "text": [
      "\r",
      "craw:  14%|█▍        | 5/35 [10:53<53:29, 106.98s/it]  "
     ]
    },
    {
     "name": "stdout",
     "output_type": "stream",
     "text": [
      "177th scroll\n",
      "넘치는호프 0\n",
      "0\n",
      "(3788, 10)\n"
     ]
    },
    {
     "name": "stderr",
     "output_type": "stream",
     "text": [
      "\r",
      "craw:  17%|█▋        | 6/35 [11:04<37:42, 78.03s/it] "
     ]
    },
    {
     "name": "stdout",
     "output_type": "stream",
     "text": [
      "178th scroll\n",
      "정글야식-용두점 0\n",
      "0\n",
      "(3788, 10)\n"
     ]
    },
    {
     "name": "stderr",
     "output_type": "stream",
     "text": [
      "\r",
      "craw:  20%|██        | 7/35 [11:14<26:53, 57.64s/it]"
     ]
    },
    {
     "name": "stdout",
     "output_type": "stream",
     "text": [
      "179th scroll\n",
      "용진산푸드코트 18\n",
      "모든 리뷰 불러오기 시작...\n"
     ]
    },
    {
     "name": "stderr",
     "output_type": "stream",
     "text": [
      "\n",
      "save..:   0%|          | 0/18 [00:00<?, ?it/s]\u001b[A"
     ]
    },
    {
     "name": "stdout",
     "output_type": "stream",
     "text": [
      "모든 리뷰 불러오기 완료!\n"
     ]
    },
    {
     "name": "stderr",
     "output_type": "stream",
     "text": [
      "save..: 100%|██████████| 18/18 [00:00<00:00, 24.55it/s]\n"
     ]
    },
    {
     "name": "stdout",
     "output_type": "stream",
     "text": [
      "(3806, 10)\n"
     ]
    },
    {
     "name": "stderr",
     "output_type": "stream",
     "text": [
      "\r",
      "craw:  23%|██▎       | 8/35 [11:27<19:58, 44.41s/it]"
     ]
    },
    {
     "name": "stdout",
     "output_type": "stream",
     "text": [
      "180th scroll\n",
      "주문이만은참나무군치킨 0\n",
      "0\n",
      "(3806, 10)\n"
     ]
    },
    {
     "name": "stderr",
     "output_type": "stream",
     "text": [
      "\r",
      "craw:  26%|██▌       | 9/35 [11:38<14:50, 34.24s/it]"
     ]
    },
    {
     "name": "stdout",
     "output_type": "stream",
     "text": [
      "181th scroll\n",
      "돈치킨-장안본점 0\n",
      "0\n",
      "(3806, 10)\n"
     ]
    },
    {
     "name": "stderr",
     "output_type": "stream",
     "text": [
      "\r",
      "craw:  29%|██▊       | 10/35 [11:49<11:21, 27.28s/it]"
     ]
    },
    {
     "name": "stdout",
     "output_type": "stream",
     "text": [
      "182th scroll\n"
     ]
    },
    {
     "name": "stderr",
     "output_type": "stream",
     "text": [
      "\n",
      "save..:   0%|          | 0/4 [00:00<?, ?it/s]\u001b[A"
     ]
    },
    {
     "name": "stdout",
     "output_type": "stream",
     "text": [
      "오태식해바라기치킨-동대문점 4\n",
      "모든 리뷰 불러오기 시작...\n",
      "모든 리뷰 불러오기 완료!\n"
     ]
    },
    {
     "name": "stderr",
     "output_type": "stream",
     "text": [
      "save..: 100%|██████████| 4/4 [00:00<00:00, 26.30it/s]\n"
     ]
    },
    {
     "name": "stdout",
     "output_type": "stream",
     "text": [
      "(3810, 10)\n"
     ]
    },
    {
     "name": "stderr",
     "output_type": "stream",
     "text": [
      "\r",
      "craw:  31%|███▏      | 11/35 [11:59<08:51, 22.17s/it]"
     ]
    },
    {
     "name": "stdout",
     "output_type": "stream",
     "text": [
      "183th scroll\n",
      "후아바베큐-6호점 217\n",
      "모든 리뷰 불러오기 시작...\n",
      "모든 리뷰 불러오기 완료!\n"
     ]
    },
    {
     "name": "stderr",
     "output_type": "stream",
     "text": [
      "\n",
      "save..:   0%|          | 0/217 [00:00<?, ?it/s]\u001b[A\n",
      "save..:  28%|██▊       | 60/217 [00:03<00:07, 19.84it/s]\u001b[A\n",
      "save..: 100%|██████████| 217/217 [00:08<00:00, 25.07it/s]\u001b[A\n"
     ]
    },
    {
     "name": "stdout",
     "output_type": "stream",
     "text": [
      "(4027, 10)\n"
     ]
    },
    {
     "name": "stderr",
     "output_type": "stream",
     "text": [
      "\r",
      "craw:  34%|███▍      | 12/35 [13:01<13:07, 34.23s/it]"
     ]
    },
    {
     "name": "stdout",
     "output_type": "stream",
     "text": [
      "184th scroll\n",
      "행복닭강정 460\n",
      "모든 리뷰 불러오기 시작...\n",
      "모든 리뷰 불러오기 완료!\n"
     ]
    },
    {
     "name": "stderr",
     "output_type": "stream",
     "text": [
      "\n",
      "save..:   0%|          | 0/460 [00:00<?, ?it/s]\u001b[A\n",
      "save..:  15%|█▌        | 71/460 [00:03<00:16, 23.37it/s]\u001b[A\n",
      "save..:  26%|██▋       | 121/460 [00:06<00:16, 20.62it/s]\u001b[A\n",
      "save..:  39%|███▊      | 178/460 [00:09<00:14, 20.03it/s]\u001b[A\n",
      "save..:  53%|█████▎    | 246/460 [00:12<00:10, 20.69it/s]\u001b[A\n",
      "save..:  72%|███████▏  | 330/460 [00:15<00:05, 22.44it/s]\u001b[A\n",
      "save..:  87%|████████▋ | 399/460 [00:18<00:02, 22.44it/s]\u001b[A\n",
      "save..: 100%|██████████| 460/460 [00:21<00:00, 21.40it/s]\u001b[A\n"
     ]
    },
    {
     "name": "stdout",
     "output_type": "stream",
     "text": [
      "(4487, 10)\n"
     ]
    },
    {
     "name": "stderr",
     "output_type": "stream",
     "text": [
      "\r",
      "craw:  37%|███▋      | 13/35 [15:10<22:53, 62.42s/it]"
     ]
    },
    {
     "name": "stdout",
     "output_type": "stream",
     "text": [
      "185th scroll\n",
      "또래오래-동대문장안점 222\n",
      "모든 리뷰 불러오기 시작...\n",
      "모든 리뷰 불러오기 완료!\n"
     ]
    },
    {
     "name": "stderr",
     "output_type": "stream",
     "text": [
      "\n",
      "save..:   0%|          | 0/222 [00:00<?, ?it/s]\u001b[A\n",
      "save..:  21%|██        | 47/222 [00:03<00:11, 15.03it/s]\u001b[A\n",
      "save..:  47%|████▋     | 104/222 [00:06<00:07, 15.88it/s]\u001b[A\n",
      "save..: 100%|██████████| 222/222 [00:10<00:00, 22.01it/s]\u001b[A\n"
     ]
    },
    {
     "name": "stdout",
     "output_type": "stream",
     "text": [
      "(4709, 10)\n"
     ]
    },
    {
     "name": "stderr",
     "output_type": "stream",
     "text": [
      "\r",
      "craw:  40%|████      | 14/35 [16:15<22:09, 63.31s/it]"
     ]
    },
    {
     "name": "stdout",
     "output_type": "stream",
     "text": [
      "186th scroll\n",
      "양계장집아들닭발 2\n",
      "모든 리뷰 불러오기 시작...\n",
      "모든 리뷰 불러오기 완료!\n"
     ]
    },
    {
     "name": "stderr",
     "output_type": "stream",
     "text": [
      "\n",
      "save..: 100%|██████████| 2/2 [00:00<00:00, 1940.01it/s]\n"
     ]
    },
    {
     "name": "stdout",
     "output_type": "stream",
     "text": [
      "(4711, 10)\n"
     ]
    },
    {
     "name": "stderr",
     "output_type": "stream",
     "text": [
      "\r",
      "craw:  43%|████▎     | 15/35 [16:25<15:44, 47.21s/it]"
     ]
    },
    {
     "name": "stdout",
     "output_type": "stream",
     "text": [
      "187th scroll\n",
      "오하이요돈까스&돈부리 198\n",
      "모든 리뷰 불러오기 시작...\n",
      "모든 리뷰 불러오기 완료!\n"
     ]
    },
    {
     "name": "stderr",
     "output_type": "stream",
     "text": [
      "\n",
      "save..:   0%|          | 0/198 [00:00<?, ?it/s]\u001b[A\n",
      "save..:  24%|██▍       | 48/198 [00:03<00:09, 15.40it/s]\u001b[A\n",
      "save..: 100%|██████████| 198/198 [00:08<00:00, 22.08it/s][A\n"
     ]
    },
    {
     "name": "stdout",
     "output_type": "stream",
     "text": [
      "(4909, 10)\n"
     ]
    },
    {
     "name": "stderr",
     "output_type": "stream",
     "text": [
      "\r",
      "craw:  46%|████▌     | 16/35 [17:24<16:06, 50.87s/it]"
     ]
    },
    {
     "name": "stdout",
     "output_type": "stream",
     "text": [
      "188th scroll\n",
      "짱닭치킨-외대점 113\n",
      "모든 리뷰 불러오기 시작...\n",
      "모든 리뷰 불러오기 완료!\n"
     ]
    },
    {
     "name": "stderr",
     "output_type": "stream",
     "text": [
      "\n",
      "save..:   0%|          | 0/113 [00:00<?, ?it/s]\u001b[A\n",
      "save..:  35%|███▌      | 40/113 [00:03<00:05, 13.28it/s]\u001b[A\n",
      "save..: 100%|██████████| 113/113 [00:09<00:00, 12.51it/s][A\n"
     ]
    },
    {
     "name": "stdout",
     "output_type": "stream",
     "text": [
      "(5022, 10)\n"
     ]
    },
    {
     "name": "stderr",
     "output_type": "stream",
     "text": [
      "\r",
      "craw:  49%|████▊     | 17/35 [18:05<14:23, 48.00s/it]"
     ]
    },
    {
     "name": "stdout",
     "output_type": "stream",
     "text": [
      "189th scroll\n"
     ]
    },
    {
     "name": "stderr",
     "output_type": "stream",
     "text": [
      "\n",
      "save..:   0%|          | 0/3 [00:00<?, ?it/s]\u001b[A"
     ]
    },
    {
     "name": "stdout",
     "output_type": "stream",
     "text": [
      "또바기치킨-휘경주공점 3\n",
      "모든 리뷰 불러오기 시작...\n",
      "모든 리뷰 불러오기 완료!\n"
     ]
    },
    {
     "name": "stderr",
     "output_type": "stream",
     "text": [
      "save..: 100%|██████████| 3/3 [00:00<00:00, 23.13it/s]\n"
     ]
    },
    {
     "name": "stdout",
     "output_type": "stream",
     "text": [
      "(5025, 10)\n"
     ]
    },
    {
     "name": "stderr",
     "output_type": "stream",
     "text": [
      "\r",
      "craw:  51%|█████▏    | 18/35 [18:16<10:23, 36.68s/it]"
     ]
    },
    {
     "name": "stdout",
     "output_type": "stream",
     "text": [
      "190th scroll\n",
      "CF숯불바베큐 110\n",
      "모든 리뷰 불러오기 시작...\n",
      "모든 리뷰 불러오기 완료!\n"
     ]
    },
    {
     "name": "stderr",
     "output_type": "stream",
     "text": [
      "\n",
      "save..:   0%|          | 0/110 [00:00<?, ?it/s]\u001b[A\n",
      "save..: 100%|██████████| 110/110 [00:04<00:00, 22.65it/s][A\n"
     ]
    },
    {
     "name": "stdout",
     "output_type": "stream",
     "text": [
      "(5135, 10)\n"
     ]
    },
    {
     "name": "stderr",
     "output_type": "stream",
     "text": [
      "\r",
      "craw:  54%|█████▍    | 19/35 [18:53<09:51, 36.95s/it]"
     ]
    },
    {
     "name": "stdout",
     "output_type": "stream",
     "text": [
      "191th scroll\n",
      "계림원-회기점 0\n",
      "0\n",
      "(5135, 10)\n"
     ]
    },
    {
     "name": "stderr",
     "output_type": "stream",
     "text": [
      "\r",
      "craw:  57%|█████▋    | 20/35 [19:03<07:13, 28.89s/it]"
     ]
    },
    {
     "name": "stdout",
     "output_type": "stream",
     "text": [
      "192th scroll\n",
      "처갓집양념치킨-장안점 1125\n",
      "모든 리뷰 불러오기 시작...\n",
      "모든 리뷰 불러오기 완료!\n"
     ]
    },
    {
     "name": "stderr",
     "output_type": "stream",
     "text": [
      "\n",
      "save..:   0%|          | 0/1125 [00:00<?, ?it/s]\u001b[A\n",
      "save..:   5%|▌         | 58/1125 [00:03<00:55, 19.17it/s]\u001b[A\n",
      "save..:  10%|█         | 114/1125 [00:06<00:53, 18.85it/s]\u001b[A\n",
      "save..:  13%|█▎        | 143/1125 [00:09<01:15, 13.03it/s]\u001b[A\n",
      "save..:  16%|█▌        | 178/1125 [00:12<01:15, 12.53it/s]\u001b[A\n",
      "save..:  20%|█▉        | 221/1125 [00:16<01:09, 12.99it/s]\u001b[A\n",
      "save..:  24%|██▍       | 268/1125 [00:19<01:02, 13.68it/s]\u001b[A\n",
      "save..:  28%|██▊       | 310/1125 [00:22<00:59, 13.67it/s]\u001b[A\n",
      "save..:  31%|███       | 351/1125 [00:25<00:56, 13.66it/s]\u001b[A\n",
      "save..:  35%|███▌      | 397/1125 [00:28<00:51, 14.11it/s]\u001b[A\n",
      "save..:  40%|███▉      | 448/1125 [00:31<00:45, 14.84it/s]\u001b[A\n",
      "save..:  44%|████▎     | 492/1125 [00:34<00:44, 14.37it/s]\u001b[A\n",
      "save..:  48%|████▊     | 535/1125 [00:37<00:41, 14.21it/s]\u001b[A\n",
      "save..:  52%|█████▏    | 587/1125 [00:40<00:35, 14.95it/s]\u001b[A\n",
      "save..:  58%|█████▊    | 650/1125 [00:43<00:29, 16.31it/s]\u001b[A\n",
      "save..:  63%|██████▎   | 714/1125 [00:46<00:23, 17.51it/s]\u001b[A\n",
      "save..:  69%|██████▉   | 775/1125 [00:49<00:19, 18.16it/s]\u001b[A\n",
      "save..:  74%|███████▍  | 831/1125 [00:52<00:16, 17.93it/s]\u001b[A\n",
      "save..:  79%|███████▉  | 886/1125 [00:55<00:13, 18.02it/s]\u001b[A\n",
      "save..:  84%|████████▍ | 948/1125 [00:58<00:09, 18.73it/s]\u001b[A\n",
      "save..:  89%|████████▉ | 1005/1125 [01:02<00:06, 17.72it/s]\u001b[A\n",
      "save..: 100%|██████████| 1125/1125 [01:08<00:00, 16.35it/s]\u001b[A\n"
     ]
    },
    {
     "name": "stdout",
     "output_type": "stream",
     "text": [
      "(6260, 10)\n"
     ]
    },
    {
     "name": "stderr",
     "output_type": "stream",
     "text": [
      "\r",
      "craw:  60%|██████    | 21/35 [24:36<27:58, 119.92s/it]"
     ]
    },
    {
     "name": "stdout",
     "output_type": "stream",
     "text": [
      "193th scroll\n",
      "네네치킨-전농점 1207\n",
      "모든 리뷰 불러오기 시작...\n",
      "모든 리뷰 불러오기 완료!\n"
     ]
    },
    {
     "name": "stderr",
     "output_type": "stream",
     "text": [
      "\n",
      "save..:   0%|          | 0/1207 [00:00<?, ?it/s]\u001b[A\n",
      "save..:   5%|▍         | 58/1207 [00:03<01:00, 19.14it/s]\u001b[A\n",
      "save..:  10%|▉         | 118/1207 [00:06<00:56, 19.34it/s]\u001b[A\n",
      "save..:  14%|█▍        | 175/1207 [00:09<00:54, 19.08it/s]\u001b[A\n",
      "save..:  19%|█▊        | 226/1207 [00:12<00:53, 18.34it/s]\u001b[A\n",
      "save..:  24%|██▍       | 287/1207 [00:15<00:48, 18.85it/s]\u001b[A\n",
      "save..:  28%|██▊       | 338/1207 [00:18<00:47, 18.24it/s]\u001b[A\n",
      "save..:  33%|███▎      | 397/1207 [00:21<00:43, 18.46it/s]\u001b[A\n",
      "save..:  38%|███▊      | 457/1207 [00:24<00:39, 18.82it/s]\u001b[A\n",
      "save..:  42%|████▏     | 511/1207 [00:27<00:37, 18.37it/s]\u001b[A\n",
      "save..:  49%|████▉     | 589/1207 [00:30<00:30, 20.10it/s]\u001b[A\n",
      "save..:  54%|█████▍    | 656/1207 [00:33<00:26, 20.63it/s]\u001b[A\n",
      "save..:  64%|██████▎   | 767/1207 [00:36<00:18, 23.73it/s]\u001b[A\n",
      "save..:  70%|██████▉   | 844/1207 [00:39<00:15, 23.94it/s]\u001b[A\n",
      "save..:  79%|███████▊  | 950/1207 [00:43<00:09, 25.82it/s]\u001b[A\n",
      "save..: 100%|██████████| 1207/1207 [00:47<00:00, 25.20it/s]\u001b[A\n"
     ]
    },
    {
     "name": "stdout",
     "output_type": "stream",
     "text": [
      "(7467, 10)\n"
     ]
    },
    {
     "name": "stderr",
     "output_type": "stream",
     "text": [
      "\r",
      "craw:  63%|██████▎   | 22/35 [30:15<40:15, 185.78s/it]"
     ]
    },
    {
     "name": "stdout",
     "output_type": "stream",
     "text": [
      "194th scroll\n",
      "취중찜닭-본점 0\n",
      "0\n",
      "(7467, 10)\n"
     ]
    },
    {
     "name": "stderr",
     "output_type": "stream",
     "text": [
      "\r",
      "craw:  66%|██████▌   | 23/35 [30:24<26:32, 132.70s/it]"
     ]
    },
    {
     "name": "stdout",
     "output_type": "stream",
     "text": [
      "195th scroll\n",
      "또봉이통닭-서울회기점 142\n",
      "모든 리뷰 불러오기 시작...\n",
      "모든 리뷰 불러오기 완료!\n"
     ]
    },
    {
     "name": "stderr",
     "output_type": "stream",
     "text": [
      "\n",
      "save..:   0%|          | 0/142 [00:00<?, ?it/s]\u001b[A\n",
      "save..:  40%|████      | 57/142 [00:03<00:04, 18.96it/s]\u001b[A\n",
      "save..: 100%|██████████| 142/142 [00:06<00:00, 20.51it/s]\u001b[A\n"
     ]
    },
    {
     "name": "stdout",
     "output_type": "stream",
     "text": [
      "(7609, 10)\n"
     ]
    },
    {
     "name": "stderr",
     "output_type": "stream",
     "text": [
      "\r",
      "craw:  69%|██████▊   | 24/35 [31:11<19:38, 107.12s/it]"
     ]
    },
    {
     "name": "stdout",
     "output_type": "stream",
     "text": [
      "196th scroll\n",
      "노랑통닭-장안점 20\n",
      "모든 리뷰 불러오기 시작...\n"
     ]
    },
    {
     "name": "stderr",
     "output_type": "stream",
     "text": [
      "\n",
      "save..:   0%|          | 0/20 [00:00<?, ?it/s]\u001b[A"
     ]
    },
    {
     "name": "stdout",
     "output_type": "stream",
     "text": [
      "모든 리뷰 불러오기 완료!\n"
     ]
    },
    {
     "name": "stderr",
     "output_type": "stream",
     "text": [
      "save..: 100%|██████████| 20/20 [00:01<00:00, 10.21it/s]\n"
     ]
    },
    {
     "name": "stdout",
     "output_type": "stream",
     "text": [
      "(7629, 10)\n"
     ]
    },
    {
     "name": "stderr",
     "output_type": "stream",
     "text": [
      "\r",
      "craw:  71%|███████▏  | 25/35 [31:27<13:16, 79.68s/it] "
     ]
    },
    {
     "name": "stdout",
     "output_type": "stream",
     "text": [
      "197th scroll\n",
      "수원명물행복닭강정 26\n",
      "모든 리뷰 불러오기 시작...\n",
      "모든 리뷰 불러오기 완료!\n"
     ]
    },
    {
     "name": "stderr",
     "output_type": "stream",
     "text": [
      "\n",
      "save..: 100%|██████████| 26/26 [00:01<00:00, 19.83it/s]\n"
     ]
    },
    {
     "name": "stdout",
     "output_type": "stream",
     "text": [
      "(7655, 10)\n"
     ]
    },
    {
     "name": "stderr",
     "output_type": "stream",
     "text": [
      "\r",
      "craw:  74%|███████▍  | 26/35 [31:42<09:02, 60.31s/it]"
     ]
    },
    {
     "name": "stdout",
     "output_type": "stream",
     "text": [
      "198th scroll\n",
      "크치치킨 2711\n",
      "모든 리뷰 불러오기 시작...\n",
      "모든 리뷰 불러오기 완료!\n"
     ]
    },
    {
     "name": "stderr",
     "output_type": "stream",
     "text": [
      "\n",
      "save..:   0%|          | 0/2711 [00:00<?, ?it/s]\u001b[A\n",
      "save..:   1%|▏         | 36/2711 [00:03<03:46, 11.81it/s]\u001b[A\n",
      "save..:   3%|▎         | 90/2711 [00:06<03:19, 13.14it/s]\u001b[A\n",
      "save..:   5%|▌         | 138/2711 [00:09<03:05, 13.86it/s]\u001b[A\n",
      "save..:   7%|▋         | 189/2711 [00:12<02:52, 14.64it/s]\u001b[A\n",
      "save..:   9%|▊         | 231/2711 [00:15<02:52, 14.42it/s]\u001b[A\n",
      "save..:  11%|█         | 285/2711 [00:18<02:38, 15.33it/s]\u001b[A\n",
      "save..:  13%|█▎        | 339/2711 [00:21<02:28, 16.02it/s]\u001b[A\n",
      "save..:  15%|█▍        | 397/2711 [00:24<02:17, 16.80it/s]\u001b[A\n",
      "save..:  17%|█▋        | 449/2711 [00:27<02:13, 16.94it/s]\u001b[A\n",
      "save..:  19%|█▊        | 504/2711 [00:30<02:07, 17.32it/s]\u001b[A\n",
      "save..:  21%|██        | 576/2711 [00:33<01:53, 18.85it/s]\u001b[A\n",
      "save..:  24%|██▍       | 658/2711 [00:36<01:39, 20.69it/s]\u001b[A\n",
      "save..:  28%|██▊       | 747/2711 [00:39<01:26, 22.67it/s]\u001b[A\n",
      "save..:  31%|███       | 830/2711 [00:42<01:18, 23.87it/s]\u001b[A\n",
      "save..:  33%|███▎      | 905/2711 [00:45<01:14, 24.19it/s]\u001b[A\n",
      "save..:  36%|███▌      | 982/2711 [00:48<01:10, 24.55it/s]\u001b[A\n",
      "save..:  40%|███▉      | 1074/2711 [00:51<01:02, 26.10it/s]\u001b[A\n",
      "save..:  44%|████▍     | 1195/2711 [00:54<00:51, 29.19it/s]\u001b[A\n",
      "save..:  48%|████▊     | 1288/2711 [00:57<00:48, 29.49it/s]\u001b[A\n",
      "save..:  51%|█████     | 1380/2711 [01:01<00:49, 26.74it/s]\u001b[A\n",
      "save..:  54%|█████▍    | 1470/2711 [01:04<00:45, 27.56it/s]\u001b[A\n",
      "save..:  57%|█████▋    | 1556/2711 [01:07<00:42, 27.48it/s]\u001b[A\n",
      "save..:  62%|██████▏   | 1679/2711 [01:11<00:34, 30.30it/s]\u001b[A\n",
      "save..:  67%|██████▋   | 1814/2711 [01:14<00:26, 33.50it/s]\u001b[A\n",
      "save..:  71%|███████   | 1921/2711 [01:17<00:24, 32.23it/s]\u001b[A\n",
      "save..:  76%|███████▌  | 2067/2711 [01:20<00:18, 35.77it/s]\u001b[A\n",
      "save..: 100%|██████████| 2711/2711 [01:25<00:00, 31.71it/s]\u001b[A\n"
     ]
    },
    {
     "name": "stdout",
     "output_type": "stream",
     "text": [
      "(10366, 10)\n"
     ]
    },
    {
     "name": "stderr",
     "output_type": "stream",
     "text": [
      "\r",
      "craw:  77%|███████▋  | 27/35 [46:24<40:53, 306.72s/it]"
     ]
    },
    {
     "name": "stdout",
     "output_type": "stream",
     "text": [
      "199th scroll\n",
      "크림스치킨 11\n",
      "모든 리뷰 불러오기 시작...\n"
     ]
    },
    {
     "name": "stderr",
     "output_type": "stream",
     "text": [
      "\n",
      "save..:   0%|          | 0/11 [00:00<?, ?it/s]\u001b[A"
     ]
    },
    {
     "name": "stdout",
     "output_type": "stream",
     "text": [
      "모든 리뷰 불러오기 완료!\n"
     ]
    },
    {
     "name": "stderr",
     "output_type": "stream",
     "text": [
      "save..: 100%|██████████| 11/11 [00:00<00:00, 31.74it/s]\n"
     ]
    },
    {
     "name": "stdout",
     "output_type": "stream",
     "text": [
      "(10377, 10)\n"
     ]
    },
    {
     "name": "stderr",
     "output_type": "stream",
     "text": [
      "\r",
      "craw:  80%|████████  | 28/35 [46:35<25:25, 217.99s/it]"
     ]
    },
    {
     "name": "stdout",
     "output_type": "stream",
     "text": [
      "200th scroll\n",
      "치킨의전설 250\n",
      "모든 리뷰 불러오기 시작...\n",
      "모든 리뷰 불러오기 완료!\n"
     ]
    },
    {
     "name": "stderr",
     "output_type": "stream",
     "text": [
      "\n",
      "save..:   0%|          | 0/250 [00:00<?, ?it/s]\u001b[A\n",
      "save..:  29%|██▉       | 72/250 [00:03<00:07, 23.80it/s]\u001b[A\n",
      "save..: 100%|██████████| 250/250 [00:07<00:00, 34.64it/s]\u001b[A\n"
     ]
    },
    {
     "name": "stdout",
     "output_type": "stream",
     "text": [
      "(10627, 10)\n"
     ]
    },
    {
     "name": "stderr",
     "output_type": "stream",
     "text": [
      "\r",
      "craw:  83%|████████▎ | 29/35 [47:45<17:21, 173.65s/it]"
     ]
    },
    {
     "name": "stdout",
     "output_type": "stream",
     "text": [
      "201th scroll\n",
      "후라인생맛집-중랑점 278\n",
      "모든 리뷰 불러오기 시작...\n",
      "모든 리뷰 불러오기 완료!\n"
     ]
    },
    {
     "name": "stderr",
     "output_type": "stream",
     "text": [
      "\n",
      "save..:   0%|          | 0/278 [00:00<?, ?it/s]\u001b[A\n",
      "save..:  18%|█▊        | 49/278 [00:03<00:14, 15.96it/s]\u001b[A\n",
      "save..:  37%|███▋      | 104/278 [00:06<00:10, 16.55it/s]\u001b[A\n",
      "save..:  56%|█████▋    | 157/278 [00:09<00:07, 16.87it/s]\u001b[A\n",
      "save..: 100%|██████████| 278/278 [00:14<00:00, 19.40it/s]\u001b[A\n"
     ]
    },
    {
     "name": "stdout",
     "output_type": "stream",
     "text": [
      "(10905, 10)\n"
     ]
    },
    {
     "name": "stderr",
     "output_type": "stream",
     "text": [
      "\r",
      "craw:  86%|████████▌ | 30/35 [49:08<12:11, 146.33s/it]"
     ]
    },
    {
     "name": "stdout",
     "output_type": "stream",
     "text": [
      "202th scroll\n",
      "푸라닭-답십리점 85\n",
      "모든 리뷰 불러오기 시작...\n",
      "모든 리뷰 불러오기 완료!\n"
     ]
    },
    {
     "name": "stderr",
     "output_type": "stream",
     "text": [
      "\n",
      "save..:   0%|          | 0/85 [00:00<?, ?it/s]\u001b[A\n",
      "save..: 100%|██████████| 85/85 [00:03<00:00, 24.00it/s]\u001b[A\n"
     ]
    },
    {
     "name": "stdout",
     "output_type": "stream",
     "text": [
      "(10990, 10)\n"
     ]
    },
    {
     "name": "stderr",
     "output_type": "stream",
     "text": [
      "\r",
      "craw:  89%|████████▊ | 31/35 [49:38<07:26, 111.61s/it]"
     ]
    },
    {
     "name": "stdout",
     "output_type": "stream",
     "text": [
      "203th scroll\n"
     ]
    },
    {
     "name": "stderr",
     "output_type": "stream",
     "text": [
      "\n",
      "save..:   0%|          | 0/4 [00:00<?, ?it/s]\u001b[A"
     ]
    },
    {
     "name": "stdout",
     "output_type": "stream",
     "text": [
      "오동통닭 4\n",
      "모든 리뷰 불러오기 시작...\n",
      "모든 리뷰 불러오기 완료!\n"
     ]
    },
    {
     "name": "stderr",
     "output_type": "stream",
     "text": [
      "save..: 100%|██████████| 4/4 [00:00<00:00, 17.54it/s]\n"
     ]
    },
    {
     "name": "stdout",
     "output_type": "stream",
     "text": [
      "(10994, 10)\n"
     ]
    },
    {
     "name": "stderr",
     "output_type": "stream",
     "text": [
      "\r",
      "craw:  91%|█████████▏| 32/35 [49:49<04:03, 81.25s/it] "
     ]
    },
    {
     "name": "stdout",
     "output_type": "stream",
     "text": [
      "204th scroll\n",
      "지코바치킨-서울청량리점 4224\n",
      "모든 리뷰 불러오기 시작...\n",
      "모든 리뷰 불러오기 완료!\n"
     ]
    },
    {
     "name": "stderr",
     "output_type": "stream",
     "text": [
      "\n",
      "save..:   0%|          | 0/4224 [00:00<?, ?it/s]\u001b[A\n",
      "save..:   1%|          | 52/4224 [00:03<04:01, 17.31it/s]\u001b[A\n",
      "save..:   2%|▏         | 101/4224 [00:06<04:02, 16.98it/s]\u001b[A\n",
      "save..:   4%|▎         | 152/4224 [00:09<04:00, 16.91it/s]\u001b[A\n",
      "save..:   5%|▌         | 216/4224 [00:12<03:44, 17.88it/s]\u001b[A\n",
      "save..:   7%|▋         | 275/4224 [00:15<03:35, 18.29it/s]\u001b[A\n",
      "save..:   8%|▊         | 327/4224 [00:18<03:37, 17.92it/s]\u001b[A\n",
      "save..:   9%|▉         | 383/4224 [00:21<03:31, 18.13it/s]\u001b[A\n",
      "save..:  10%|█         | 436/4224 [00:24<03:30, 17.97it/s]\u001b[A\n",
      "save..:  12%|█▏        | 488/4224 [00:27<03:35, 17.30it/s]\u001b[A\n",
      "save..:  13%|█▎        | 543/4224 [00:30<03:30, 17.48it/s]\u001b[A\n",
      "save..:  14%|█▍        | 598/4224 [00:33<03:25, 17.65it/s]\u001b[A\n",
      "save..:  15%|█▌        | 651/4224 [00:36<03:26, 17.34it/s]\u001b[A\n",
      "save..:  17%|█▋        | 708/4224 [00:39<03:18, 17.72it/s]\u001b[A\n",
      "save..:  18%|█▊        | 762/4224 [00:42<03:15, 17.70it/s]\u001b[A\n",
      "save..:  20%|█▉        | 825/4224 [00:45<03:03, 18.52it/s]\u001b[A\n",
      "save..:  21%|██        | 881/4224 [00:49<03:00, 18.52it/s]\u001b[A\n",
      "save..:  22%|██▏       | 938/4224 [00:52<02:56, 18.63it/s]\u001b[A\n",
      "save..:  24%|██▎       | 994/4224 [00:55<02:56, 18.26it/s]\u001b[A\n",
      "save..:  25%|██▍       | 1049/4224 [00:58<02:59, 17.67it/s]\u001b[A\n",
      "save..:  26%|██▌       | 1103/4224 [01:02<03:04, 16.90it/s]\u001b[A\n",
      "save..:  27%|██▋       | 1155/4224 [01:05<03:03, 16.73it/s]\u001b[A\n",
      "save..:  29%|██▊       | 1206/4224 [01:08<03:03, 16.41it/s]\u001b[A\n",
      "save..:  30%|██▉       | 1261/4224 [01:11<02:55, 16.86it/s]\u001b[A\n",
      "save..:  31%|███       | 1314/4224 [01:14<02:50, 17.03it/s]\u001b[A\n",
      "save..:  32%|███▏      | 1369/4224 [01:17<02:44, 17.39it/s]\u001b[A\n",
      "save..:  34%|███▎      | 1422/4224 [01:20<02:44, 17.07it/s]\u001b[A\n",
      "save..:  35%|███▌      | 1487/4224 [01:23<02:31, 18.11it/s]\u001b[A\n",
      "save..:  37%|███▋      | 1542/4224 [01:27<02:30, 17.78it/s]\u001b[A\n",
      "save..:  38%|███▊      | 1601/4224 [01:30<02:23, 18.26it/s]\u001b[A\n",
      "save..:  39%|███▉      | 1657/4224 [01:33<02:24, 17.71it/s]\u001b[A\n",
      "save..:  41%|████      | 1711/4224 [01:36<02:24, 17.36it/s]\u001b[A\n",
      "save..:  42%|████▏     | 1769/4224 [01:39<02:17, 17.82it/s]\u001b[A\n",
      "save..:  43%|████▎     | 1824/4224 [01:42<02:13, 17.97it/s]\u001b[A\n",
      "save..:  45%|████▍     | 1885/4224 [01:45<02:06, 18.53it/s]\u001b[A\n",
      "save..:  46%|████▌     | 1941/4224 [01:48<02:03, 18.50it/s]\u001b[A\n",
      "save..:  47%|████▋     | 1997/4224 [01:52<02:04, 17.92it/s]\u001b[A\n",
      "save..:  49%|████▊     | 2052/4224 [01:55<02:01, 17.87it/s]\u001b[A\n",
      "save..:  50%|████▉     | 2106/4224 [01:58<01:59, 17.70it/s]\u001b[A\n",
      "save..:  51%|█████▏    | 2172/4224 [02:01<01:49, 18.77it/s]\u001b[A\n",
      "save..:  53%|█████▎    | 2229/4224 [02:04<01:46, 18.74it/s]\u001b[A\n",
      "save..:  54%|█████▍    | 2286/4224 [02:07<01:43, 18.68it/s]\u001b[A\n",
      "save..:  55%|█████▌    | 2343/4224 [02:11<01:43, 18.12it/s]\u001b[A\n",
      "save..:  57%|█████▋    | 2398/4224 [02:14<01:41, 17.96it/s]\u001b[A\n",
      "save..:  58%|█████▊    | 2464/4224 [02:17<01:32, 18.98it/s]\u001b[A\n",
      "save..:  60%|█████▉    | 2525/4224 [02:20<01:28, 19.31it/s]\u001b[A\n",
      "save..:  61%|██████    | 2584/4224 [02:23<01:25, 19.07it/s]\u001b[A\n",
      "save..:  63%|██████▎   | 2655/4224 [02:26<01:17, 20.19it/s]\u001b[A\n",
      "save..:  64%|██████▍   | 2719/4224 [02:29<01:13, 20.43it/s]\u001b[A\n",
      "save..:  66%|██████▌   | 2784/4224 [02:32<01:09, 20.73it/s]\u001b[A\n",
      "save..:  67%|██████▋   | 2848/4224 [02:35<01:06, 20.83it/s]\u001b[A\n",
      "save..:  69%|██████▉   | 2914/4224 [02:38<01:02, 21.09it/s]\u001b[A\n",
      "save..:  71%|███████   | 2978/4224 [02:42<01:02, 19.92it/s]\u001b[A\n",
      "save..:  72%|███████▏  | 3039/4224 [02:45<01:02, 19.02it/s]\u001b[A\n",
      "save..:  74%|███████▎  | 3111/4224 [02:48<00:55, 20.22it/s]\u001b[A\n",
      "save..:  75%|███████▌  | 3173/4224 [02:52<00:53, 19.68it/s]\u001b[A\n",
      "save..:  77%|███████▋  | 3233/4224 [02:55<00:52, 18.92it/s]\u001b[A\n",
      "save..:  78%|███████▊  | 3307/4224 [02:58<00:45, 20.33it/s]\u001b[A\n",
      "save..:  80%|███████▉  | 3370/4224 [03:01<00:41, 20.47it/s]\u001b[A\n",
      "save..:  81%|████████▏ | 3434/4224 [03:04<00:38, 20.71it/s]\u001b[A\n",
      "save..:  83%|████████▎ | 3497/4224 [03:07<00:35, 20.52it/s]\u001b[A\n",
      "save..:  86%|████████▌ | 3625/4224 [03:10<00:24, 24.30it/s]\u001b[A\n",
      "save..:  91%|█████████ | 3832/4224 [03:13<00:13, 30.15it/s]\u001b[A\n",
      "save..:  94%|█████████▍| 3990/4224 [03:16<00:06, 34.47it/s]\u001b[A\n",
      "save..: 100%|██████████| 4224/4224 [03:21<00:00, 20.95it/s]\u001b[A\n"
     ]
    },
    {
     "name": "stdout",
     "output_type": "stream",
     "text": [
      "(15218, 10)\n"
     ]
    },
    {
     "name": "stderr",
     "output_type": "stream",
     "text": [
      "\r",
      "craw:  94%|█████████▍| 33/35 [1:15:21<17:13, 516.52s/it]"
     ]
    },
    {
     "name": "stdout",
     "output_type": "stream",
     "text": [
      "205th scroll\n",
      "치킨더홈-서울이문점 354\n",
      "모든 리뷰 불러오기 시작...\n",
      "모든 리뷰 불러오기 완료!\n"
     ]
    },
    {
     "name": "stderr",
     "output_type": "stream",
     "text": [
      "\n",
      "save..:   0%|          | 0/354 [00:00<?, ?it/s]\u001b[A\n",
      "save..:  14%|█▍        | 50/354 [00:03<00:18, 16.34it/s]\u001b[A\n",
      "save..:  30%|██▉       | 106/354 [00:06<00:14, 16.92it/s]\u001b[A\n",
      "save..:  47%|████▋     | 165/354 [00:09<00:10, 17.61it/s]\u001b[A\n",
      "save..:  63%|██████▎   | 222/354 [00:12<00:07, 17.93it/s]\u001b[A\n",
      "save..:  79%|███████▉  | 279/354 [00:15<00:04, 18.22it/s]\u001b[A\n",
      "save..: 100%|██████████| 354/354 [00:18<00:00, 18.68it/s]\u001b[A\n"
     ]
    },
    {
     "name": "stdout",
     "output_type": "stream",
     "text": [
      "(15572, 10)\n"
     ]
    },
    {
     "name": "stderr",
     "output_type": "stream",
     "text": [
      "\r",
      "craw:  97%|█████████▋| 34/35 [1:17:04<06:32, 392.67s/it]"
     ]
    },
    {
     "name": "stdout",
     "output_type": "stream",
     "text": [
      "206th scroll\n",
      "와와통닭-전농본점 17\n",
      "모든 리뷰 불러오기 시작...\n"
     ]
    },
    {
     "name": "stderr",
     "output_type": "stream",
     "text": [
      "\n",
      "save..:   0%|          | 0/17 [00:00<?, ?it/s]\u001b[A"
     ]
    },
    {
     "name": "stdout",
     "output_type": "stream",
     "text": [
      "모든 리뷰 불러오기 완료!\n"
     ]
    },
    {
     "name": "stderr",
     "output_type": "stream",
     "text": [
      "save..: 100%|██████████| 17/17 [00:00<00:00, 31.14it/s]\n"
     ]
    },
    {
     "name": "stdout",
     "output_type": "stream",
     "text": [
      "(15589, 10)\n"
     ]
    },
    {
     "name": "stderr",
     "output_type": "stream",
     "text": [
      "craw: 100%|██████████| 35/35 [1:17:17<00:00, 132.50s/it]"
     ]
    },
    {
     "name": "stdout",
     "output_type": "stream",
     "text": [
      "tot_shop:206,crawling sucess\n"
     ]
    },
    {
     "name": "stderr",
     "output_type": "stream",
     "text": [
      "\n"
     ]
    }
   ],
   "source": [
    "shop=fin_list[0]\n",
    "col_list=['shop','name','date','star_flavor','star_volume','star_deliver','menu','review_customer','review_owner','img_name']\n",
    "#df=pd.DataFrame(columns=col_list)\n",
    "start=172\n",
    "#end=90\n",
    "end=len(shop)\n",
    "\n",
    "#driver.quit()\n",
    "driver=driver_start()\n",
    "for i in tqdm(range(start,end),desc='craw'):\n",
    "    scroll_element(shop,i)\n",
    "    \n",
    "    time.sleep(3)\n",
    "    try:\n",
    "        driver.find_element_by_xpath(f'//*[@title=\"{shop[i]}\"]').click()\n",
    "    except Exception:\n",
    "        driver.quit()\n",
    "        driver=driver_start()\n",
    "        time.sleep(2)\n",
    "        scroll_element(shop,i)\n",
    "        time.sleep(3)\n",
    "        driver.find_element_by_xpath(f'//*[@title=\"{shop[i]}\"]').click()\n",
    "    time.sleep(3)\n",
    "    \n",
    "\n",
    "    new=craw(i,shop,driver,col_list)\n",
    "    df=pd.concat([new,df])\n",
    "    print(df.shape)\n",
    "    driver.back()\n",
    "    time.sleep(2)\n",
    "\n",
    "print(f'tot_shop:{i},crawling sucess')\n",
    "\n",
    "df.to_csv('./data/chicken5.csv')"
   ]
  },
  {
   "cell_type": "code",
   "execution_count": 12,
   "metadata": {},
   "outputs": [
    {
     "data": {
      "text/html": [
       "<div>\n",
       "<style scoped>\n",
       "    .dataframe tbody tr th:only-of-type {\n",
       "        vertical-align: middle;\n",
       "    }\n",
       "\n",
       "    .dataframe tbody tr th {\n",
       "        vertical-align: top;\n",
       "    }\n",
       "\n",
       "    .dataframe thead th {\n",
       "        text-align: right;\n",
       "    }\n",
       "</style>\n",
       "<table border=\"1\" class=\"dataframe\">\n",
       "  <thead>\n",
       "    <tr style=\"text-align: right;\">\n",
       "      <th></th>\n",
       "      <th>shop</th>\n",
       "      <th>name</th>\n",
       "      <th>date</th>\n",
       "      <th>star_flavor</th>\n",
       "      <th>star_volume</th>\n",
       "      <th>star_deliver</th>\n",
       "      <th>menu</th>\n",
       "      <th>review_customer</th>\n",
       "      <th>review_owner</th>\n",
       "      <th>img_name</th>\n",
       "    </tr>\n",
       "  </thead>\n",
       "  <tbody>\n",
       "    <tr>\n",
       "      <th>170</th>\n",
       "      <td>요녀석파스타</td>\n",
       "      <td>ky**님</td>\n",
       "      <td>2019년 6월 17일</td>\n",
       "      <td>5</td>\n",
       "      <td>5</td>\n",
       "      <td>3</td>\n",
       "      <td>새우알리오 파스타/1,목살스테이크＋샐러드/1</td>\n",
       "      <td>제가 알리오 올리오를 엄청좋아해서\\n항상해먹다가 언제부턴가 해먹기귀찮아서\\n시켜먹기...</td>\n",
       "      <td>None</td>\n",
       "      <td>None</td>\n",
       "    </tr>\n",
       "    <tr>\n",
       "      <th>171</th>\n",
       "      <td>요녀석파스타</td>\n",
       "      <td>su**님</td>\n",
       "      <td>2019년 6월 13일</td>\n",
       "      <td>5</td>\n",
       "      <td>5</td>\n",
       "      <td>5</td>\n",
       "      <td>커플세트（메인메뉴2＋에이드）/1(메뉴 선택(까르보나라 파스타),메뉴 선택2(차돌박이...</td>\n",
       "      <td>파스타 필라프 에이드 다 맛있어요! 배달도 빨리 옵니다!</td>\n",
       "      <td>None</td>\n",
       "      <td>None</td>\n",
       "    </tr>\n",
       "    <tr>\n",
       "      <th>172</th>\n",
       "      <td>요녀석파스타</td>\n",
       "      <td>ll**님</td>\n",
       "      <td>2019년 6월 8일</td>\n",
       "      <td>3</td>\n",
       "      <td>3</td>\n",
       "      <td>4</td>\n",
       "      <td>커플세트（메인메뉴2＋에이드）/1(메뉴 선택(까르보나라 파스타),메뉴 선택2(까르보나...</td>\n",
       "      <td>로제 파스타가 로제 맛이아닌듯해요.... 배달이넘늦졌어요</td>\n",
       "      <td>None</td>\n",
       "      <td>None</td>\n",
       "    </tr>\n",
       "    <tr>\n",
       "      <th>173</th>\n",
       "      <td>요녀석파스타</td>\n",
       "      <td>wi**님</td>\n",
       "      <td>2019년 5월 21일</td>\n",
       "      <td>5</td>\n",
       "      <td>5</td>\n",
       "      <td>5</td>\n",
       "      <td>도전세트（스테이크＋메인메뉴＋에이드）/1(메뉴 선택(목살필라프),에이드 메뉴 선택(딸...</td>\n",
       "      <td>고기가 맛있네요\\n다음에는 파스타를 시킬 예정입니다</td>\n",
       "      <td>None</td>\n",
       "      <td>None</td>\n",
       "    </tr>\n",
       "    <tr>\n",
       "      <th>174</th>\n",
       "      <td>요녀석파스타</td>\n",
       "      <td>손님</td>\n",
       "      <td>2019년 5월 19일</td>\n",
       "      <td>5</td>\n",
       "      <td>5</td>\n",
       "      <td>5</td>\n",
       "      <td>새우토마토 파스타/1,치킨텐더 샐러드/1</td>\n",
       "      <td>소스를 더 넣으주시면 좋겄어요～ 맛있게 만들어 주셨어 감사합니다～</td>\n",
       "      <td>None</td>\n",
       "      <td>요녀석파스타_174</td>\n",
       "    </tr>\n",
       "  </tbody>\n",
       "</table>\n",
       "</div>"
      ],
      "text/plain": [
       "       shop   name          date star_flavor star_volume star_deliver  \\\n",
       "170  요녀석파스타  ky**님  2019년 6월 17일           5           5            3   \n",
       "171  요녀석파스타  su**님  2019년 6월 13일           5           5            5   \n",
       "172  요녀석파스타  ll**님   2019년 6월 8일           3           3            4   \n",
       "173  요녀석파스타  wi**님  2019년 5월 21일           5           5            5   \n",
       "174  요녀석파스타     손님  2019년 5월 19일           5           5            5   \n",
       "\n",
       "                                                  menu  \\\n",
       "170                           새우알리오 파스타/1,목살스테이크＋샐러드/1   \n",
       "171  커플세트（메인메뉴2＋에이드）/1(메뉴 선택(까르보나라 파스타),메뉴 선택2(차돌박이...   \n",
       "172  커플세트（메인메뉴2＋에이드）/1(메뉴 선택(까르보나라 파스타),메뉴 선택2(까르보나...   \n",
       "173  도전세트（스테이크＋메인메뉴＋에이드）/1(메뉴 선택(목살필라프),에이드 메뉴 선택(딸...   \n",
       "174                             새우토마토 파스타/1,치킨텐더 샐러드/1   \n",
       "\n",
       "                                       review_customer review_owner  \\\n",
       "170  제가 알리오 올리오를 엄청좋아해서\\n항상해먹다가 언제부턴가 해먹기귀찮아서\\n시켜먹기...         None   \n",
       "171                    파스타 필라프 에이드 다 맛있어요! 배달도 빨리 옵니다!         None   \n",
       "172                    로제 파스타가 로제 맛이아닌듯해요.... 배달이넘늦졌어요         None   \n",
       "173                       고기가 맛있네요\\n다음에는 파스타를 시킬 예정입니다         None   \n",
       "174               소스를 더 넣으주시면 좋겄어요～ 맛있게 만들어 주셨어 감사합니다～         None   \n",
       "\n",
       "       img_name  \n",
       "170        None  \n",
       "171        None  \n",
       "172        None  \n",
       "173        None  \n",
       "174  요녀석파스타_174  "
      ]
     },
     "execution_count": 12,
     "metadata": {},
     "output_type": "execute_result"
    }
   ],
   "source": [
    "df.tail()"
   ]
  },
  {
   "cell_type": "code",
   "execution_count": null,
   "metadata": {},
   "outputs": [],
   "source": [
    "shop=fin_list[1]\n",
    "col_list=['shop','name','date','star_flavor','star_volume','star_deliver','menu','review_customer','review_owner','img_name']\n",
    "df=pd.DataFrame(columns=col_list)\n",
    "start=100\n",
    "#end=46\n",
    "end=1en(shop)\n",
    "\n",
    "driver=driver_start()\n",
    "for i in tqdm(range(start,end),desc='craw'):\n",
    "    scroll_element(shop,i)\n",
    "    \n",
    "    time.sleep(3)\n",
    "    try:\n",
    "        driver.find_element_by_xpath(f'//*[@title=\"{shop[i]}\"]').click()\n",
    "    except Exception:\n",
    "        driver.quit()\n",
    "        driver=driver_start()\n",
    "        time.sleep(2)\n",
    "        scroll_element(shop,i)\n",
    "        time.sleep(3)\n",
    "        driver.find_element_by_xpath(f'//*[@title=\"{shop[i]}\"]').click()\n",
    "    time.sleep(3)\n",
    "    \n",
    "\n",
    "    new=craw(i,shop,driver,col_list)\n",
    "    df=pd.concat([new,df])\n",
    "    print(df.shape)\n",
    "    driver.back()\n",
    "    time.sleep(2)\n",
    "\n",
    "print(f'tot_shop:{i},crawling sucess')\n",
    "\n",
    "df.to_csv('./data/pizza2.csv')"
   ]
  },
  {
   "cell_type": "code",
   "execution_count": 18,
   "metadata": {},
   "outputs": [
    {
     "data": {
      "text/plain": [
       "'라와마라탕-3호점'"
      ]
     },
     "execution_count": 18,
     "metadata": {},
     "output_type": "execute_result"
    }
   ],
   "source": [
    "shop[40]"
   ]
  },
  {
   "cell_type": "code",
   "execution_count": 9,
   "metadata": {},
   "outputs": [],
   "source": [
    "df.to_csv('./data/pig2.csv')"
   ]
  }
 ],
 "metadata": {
  "kernelspec": {
   "display_name": "Python 3",
   "language": "python",
   "name": "python3"
  },
  "language_info": {
   "codemirror_mode": {
    "name": "ipython",
    "version": 3
   },
   "file_extension": ".py",
   "mimetype": "text/x-python",
   "name": "python",
   "nbconvert_exporter": "python",
   "pygments_lexer": "ipython3",
   "version": "3.8.5"
  }
 },
 "nbformat": 4,
 "nbformat_minor": 4
}
