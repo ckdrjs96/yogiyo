{
 "cells": [
  {
   "cell_type": "code",
   "execution_count": 1,
   "metadata": {},
   "outputs": [],
   "source": [
    "from selenium import webdriver\n",
    "from bs4 import BeautifulSoup\n",
    "from selenium.webdriver.support.ui import WebDriverWait\n",
    "from selenium.webdriver.support import expected_conditions as EC\n",
    "from selenium.webdriver.common.by import By\n",
    "import pandas as pd\n",
    "import time\n",
    "from urllib.request import urlretrieve\n",
    "from tqdm import tqdm\n",
    "from selenium.webdriver import ActionChains"
   ]
  },
  {
   "cell_type": "code",
   "execution_count": 2,
   "metadata": {},
   "outputs": [],
   "source": [
    "driver = webdriver.Chrome(executable_path=r'C:\\Users\\ckdrj\\대학원\\yogiyo\\chromedriver.exe')\n",
    "time.sleep(1)\n",
    "\n",
    "driver.set_window_size(1024,1000)"
   ]
  },
  {
   "cell_type": "code",
   "execution_count": 3,
   "metadata": {},
   "outputs": [],
   "source": [
    "url = \"https://www.yogiyo.co.kr/mobile/#/\"\n",
    "driver.get(url)\n",
    "time.sleep(1)\n",
    "\n",
    "driver.find_element_by_xpath('//*[@id=\"search\"]/div/form/input').clear()\n",
    "driver.find_element_by_xpath('//*[@id=\"search\"]/div/form/input').send_keys('서울특별시 동대문구 전농동 694 서울시립대학교')\n",
    "driver.find_element_by_xpath('//*[@id=\"button_search_address\"]/button[2]').click()\n",
    "time.sleep(1)\n",
    "driver.find_element_by_xpath('//*[@id=\"category\"]/ul/li[13]/span').click() #치킨,피자등 카테고리 클릭\n",
    "time.sleep(1)"
   ]
  },
  {
   "cell_type": "code",
   "execution_count": 4,
   "metadata": {},
   "outputs": [],
   "source": [
    "def scroll():\n",
    "    last_height = driver.execute_script(\"return document.body.scrollHeight\")\n",
    "    while True:\n",
    "        driver.execute_script(\"window.scrollTo(0, document.body.scrollHeight);\")\n",
    "        time.sleep(1)\n",
    "        new_height = driver.execute_script(\"return document.body.scrollHeight\")\n",
    "        if new_height == last_height: #스크롤후 높이 변화 없으면 탈출\n",
    "            break\n",
    "        last_height = new_height"
   ]
  },
  {
   "cell_type": "code",
   "execution_count": 6,
   "metadata": {},
   "outputs": [],
   "source": [
    "def shops_catag(cnt):\n",
    "    driver.find_element_by_xpath(f'//*[@id=\"category\"]/ul/li[{cnt}]/span').click() #치킨,피자등 카테고리 클릭\n",
    "    time.sleep(3)\n",
    "\n",
    "    last_height = driver.execute_script(\"return document.body.scrollHeight\")\n",
    "    \n",
    "    scroll()\n",
    "\n",
    "    html = driver.page_source\n",
    "    soup = BeautifulSoup(html, 'html.parser')\n",
    "    soup2=soup.find_all('div',{'class':\"restaurant-list\"})[2]\n",
    "    name_list=[x.text for x in soup2.find_all('div',{'ng-bind':\"restaurant.name\"})]\n",
    "    \n",
    "    return name_list"
   ]
  },
  {
   "cell_type": "code",
   "execution_count": null,
   "metadata": {},
   "outputs": [],
   "source": [
    "# driver.find_element_by_xpath('//*[@id=\"category\"]/ul/li[5]/span').click() #치킨,피자등 카테고리 클릭\n",
    "# time.sleep(1)"
   ]
  },
  {
   "cell_type": "code",
   "execution_count": 7,
   "metadata": {},
   "outputs": [],
   "source": [
    "shops_chicken=shops_catag(5)\n",
    "shops_pizza=shops_catag(6)\n",
    "shops_china=shops_catag(7)\n",
    "shops_korea=shops_catag(8)\n"
   ]
  },
  {
   "cell_type": "code",
   "execution_count": 8,
   "metadata": {},
   "outputs": [],
   "source": [
    "shops_japan=shops_catag(9)\n",
    "shops_pig=shops_catag(10)\n",
    "shops_night=shops_catag(11)\n",
    "shops_tteok=shops_catag(12)\n"
   ]
  },
  {
   "cell_type": "code",
   "execution_count": 9,
   "metadata": {},
   "outputs": [],
   "source": [
    "shops_all=shops_catag(2)\n",
    "shops_cafe=shops_catag(13)\n",
    "shops_conv=shops_catag(14)"
   ]
  },
  {
   "cell_type": "code",
   "execution_count": 26,
   "metadata": {},
   "outputs": [],
   "source": [
    "shop_list=[shops_all,shops_chicken,shops_pizza,shops_china,shops_korea,shops_japan,shops_pig,shops_tteok,shops_cafe,shops_conv]"
   ]
  },
  {
   "cell_type": "code",
   "execution_count": 27,
   "metadata": {},
   "outputs": [
    {
     "data": {
      "text/plain": [
       "10"
      ]
     },
     "execution_count": 27,
     "metadata": {},
     "output_type": "execute_result"
    }
   ],
   "source": [
    "len(shop_list)"
   ]
  },
  {
   "cell_type": "code",
   "execution_count": 78,
   "metadata": {},
   "outputs": [],
   "source": [
    "shops_all2=list(set(shops_all) - set(shops_conv))\n",
    "shops_chicken2=list(set(shops_chicken))\n",
    "shops_pizza2=list(set(shops_pizza))\n",
    "shops_china2=list(set(shops_china))\n",
    "shops_korea2=list(set(shops_korea) - set(shops_conv))\n",
    "shops_japan2=list(set(shops_japan))\n",
    "shops_pig2=list(set(shops_pig))\n",
    "shops_tteok2=list(set(shops_tteok) - set(shops_conv))\n",
    "shops_cafe2=list(set(shops_cafe) - set(shops_conv))"
   ]
  },
  {
   "cell_type": "code",
   "execution_count": 84,
   "metadata": {},
   "outputs": [],
   "source": [
    "shops_list2=[shops_all2,shops_chicken2,shops_pizza2,\n",
    "             shops_china2,shops_korea2,shops_japan2,shops_pig2,shops_tteok2,shops_cafe2]"
   ]
  },
  {
   "cell_type": "code",
   "execution_count": 99,
   "metadata": {},
   "outputs": [],
   "source": [
    "shops_list3=[shops_all2,shops_chicken2,shops_pizza3,\n",
    "             shops_china2,shops_korea2,shops_japan2,shops_pig2,shops_tteok3,shops_cafe2]"
   ]
  },
  {
   "cell_type": "code",
   "execution_count": 97,
   "metadata": {},
   "outputs": [],
   "source": [
    "fin_cafe=shops_cafe2\n",
    "shops_tteok3=list(set(shops_tteok2)-set(shops_cafe2))\n",
    "shops_pizza3=list(set(shops_pizza2)-set(shops_cafe2))"
   ]
  },
  {
   "cell_type": "code",
   "execution_count": 128,
   "metadata": {},
   "outputs": [],
   "source": [
    "fin_pig=shops_pig2\n",
    "shops_tteok4=list(set(shops_list3[7])-set(shops_list3[6]))\n",
    "shops_japan4=list(set(shops_list3[5])-set(shops_list3[6]))\n",
    "shops_korea4=list(set(shops_list3[4])-set(shops_list3[6]))\n",
    "shops_china4=list(set(shops_list3[3])-set(shops_list3[6]))\n",
    "shops_pizza4=list(set(shops_list3[2])-set(shops_list3[6]))\n",
    "shops_chicken4=list(set(shops_list3[1])-set(shops_list3[6]))\n",
    "\n",
    "shops_list4=[shops_all2,shops_chicken4,shops_pizza4,\n",
    "             shops_china4,shops_korea4,shops_japan4,shops_pig2,shops_tteok4]"
   ]
  },
  {
   "cell_type": "code",
   "execution_count": 142,
   "metadata": {},
   "outputs": [],
   "source": [
    "fin_china=shops_china4\n",
    "shops_tteok5=list(set(shops_list4[7])-set(shops_list4[3]))\n",
    "shops_japan5=list(set(shops_list4[5])-set(shops_list4[3]))\n",
    "shops_korea5=list(set(shops_list4[4])-set(shops_list4[3]))\n",
    "shops_pizza5=list(set(shops_list4[2])-set(shops_list4[3]))\n",
    "shops_chicken5=list(set(shops_list4[1])-set(shops_list4[3]))\n",
    "shops_list5=[shops_all2,shops_chicken5,shops_pizza5,\n",
    "             shops_china4,shops_korea5,shops_japan5,shops_pig2,shops_tteok5]"
   ]
  },
  {
   "cell_type": "code",
   "execution_count": 159,
   "metadata": {},
   "outputs": [],
   "source": [
    "fin_pizza=shops_pizza5\n",
    "shops_tteok6=list(set(shops_list5[7])-set(shops_list5[2]))\n",
    "shops_japan6=list(set(shops_list5[5])-set(shops_list5[2]))\n",
    "shops_korea6=list(set(shops_list5[4])-set(shops_list5[2]))\n",
    "shops_chicken6=list(set(shops_list5[1])-set(shops_list5[2]))\n",
    "shops_list6=[shops_all2,shops_chicken6,shops_pizza5,\n",
    "             shops_china4,shops_korea6,shops_japan6,shops_pig2,shops_tteok6]"
   ]
  },
  {
   "cell_type": "code",
   "execution_count": 169,
   "metadata": {},
   "outputs": [],
   "source": [
    "fin_chicken=shops_chicken6\n",
    "shops_tteok7=list(set(shops_list6[7])-set(shops_list6[1]))\n",
    "shops_japan7=list(set(shops_list6[5])-set(shops_list6[1]))\n",
    "shops_korea7=list(set(shops_list6[4])-set(shops_list6[1]))\n",
    "shops_list7=[shops_all2,shops_chicken6,shops_pizza5,\n",
    "             shops_china4,shops_korea7,shops_japan7,shops_pig2,shops_tteok7]"
   ]
  },
  {
   "cell_type": "code",
   "execution_count": 177,
   "metadata": {},
   "outputs": [],
   "source": [
    "fin_tteok=shops_tteok7\n",
    "shops_japan8=list(set(shops_list7[5])-set(shops_list7[7]))\n",
    "shops_korea8=list(set(shops_list7[4])-set(shops_list7[7]))\n",
    "shops_list8=[shops_all2,shops_chicken6,shops_pizza5,\n",
    "             shops_china4,shops_korea8,shops_japan8,shops_pig2,shops_tteok7]"
   ]
  },
  {
   "cell_type": "code",
   "execution_count": 183,
   "metadata": {},
   "outputs": [],
   "source": [
    "fin_japan=shops_japan8\n",
    "fin_korea=list(set(shops_list8[4])-set(shops_list8[5]))"
   ]
  },
  {
   "cell_type": "code",
   "execution_count": 185,
   "metadata": {},
   "outputs": [
    {
     "data": {
      "text/plain": [
       "691"
      ]
     },
     "execution_count": 185,
     "metadata": {},
     "output_type": "execute_result"
    }
   ],
   "source": [
    "len(shops_korea8)"
   ]
  },
  {
   "cell_type": "code",
   "execution_count": 188,
   "metadata": {},
   "outputs": [],
   "source": [
    "import csv\n",
    "\n",
    "csvfile=open('./data/final_shop.csv','w',newline='')\n",
    "writer=csv.writer(csvfile)\n",
    "for row in fin_list:\n",
    "    writer.writerow(row)\n",
    "    \n",
    "csvfile.close()\n"
   ]
  },
  {
   "cell_type": "code",
   "execution_count": 187,
   "metadata": {},
   "outputs": [],
   "source": [
    "fin_list=[fin_chicken,fin_pizza,fin_china,fin_korea,fin_japan,fin_pig,fin_tteok,fin_cafe]"
   ]
  },
  {
   "cell_type": "code",
   "execution_count": 180,
   "metadata": {},
   "outputs": [
    {
     "data": {
      "text/plain": [
       "{'1인덮밥마을',\n",
       " '1인딜리버리오늘의덮밥',\n",
       " 'LA돈가스-장안본점',\n",
       " 'THE수제돈까스-태능점',\n",
       " '경호야초밥',\n",
       " '경희대곱창맛집',\n",
       " '고니야밀푀유',\n",
       " '곱창나베요마시',\n",
       " '광수육회-종암점',\n",
       " '더조반',\n",
       " '덮밥마을-동파육덮밥전문점',\n",
       " '덮밥마을-새우덮밥전문점',\n",
       " '덮밥마을-스테이크덮밥전문점',\n",
       " '독도게찜-장안본점',\n",
       " '돈태자',\n",
       " '돈태자돈가스',\n",
       " '동양덮밥',\n",
       " '두툼',\n",
       " '마카나이-외대점',\n",
       " '만원술상',\n",
       " '머글래싸갈래-곱창전문점',\n",
       " '무이리꼬냉면돈가스만두',\n",
       " '미가회집-본점',\n",
       " '밥도둑들',\n",
       " '삼촌횟집',\n",
       " '새벽대게-금호점',\n",
       " '서민반찬-답십리점',\n",
       " '선굼터-답십리점',\n",
       " '수제돈까스&일본식카레',\n",
       " '스시화',\n",
       " '스시화-동대문점',\n",
       " '씅s꼬기가득비빔밥-동대문점',\n",
       " '아라연대게',\n",
       " '야미가-동대문점',\n",
       " '야채곱창전문점',\n",
       " '야호수제돈까스',\n",
       " '엄마도시락&오광식당',\n",
       " '엄지돈가스-장안본점',\n",
       " '연안식당-답십리사거리점',\n",
       " '연어덮밥전문',\n",
       " '영산포홍어삼합',\n",
       " '오광수산-본점',\n",
       " '온복식당-덮밥전문점',\n",
       " '왕돈까스왕냉면-사가정점',\n",
       " '외대막창',\n",
       " '외대매운돈코츠라멘',\n",
       " '외대불난곱창',\n",
       " '외대치즈곱창',\n",
       " '요마시',\n",
       " '우마이-본점',\n",
       " '우미도시락',\n",
       " '우아한혼술식당-왕십리점',\n",
       " '위풍당당고기덮밥',\n",
       " '육회&연어-회기점',\n",
       " '육회공작소-회기점',\n",
       " '윤포차',\n",
       " '인(in)서울',\n",
       " '작은동경덮밥&소바-회기점',\n",
       " '전과9범밥도둑들',\n",
       " '전농골목냉면',\n",
       " '제주딱새우회-동대문구점',\n",
       " '조선수제돈까스-본점',\n",
       " '존스노우냉면-동대문점',\n",
       " '좋은맛-장안점',\n",
       " '지노돈까스',\n",
       " '진실이네초밥회마트',\n",
       " '차슈돈부리전문',\n",
       " '치즈돈까스요마시',\n",
       " '카츠앤포',\n",
       " '키친요시노',\n",
       " '태풍참치&스시',\n",
       " '텐동맛집요마시',\n",
       " '통닭다리살덮밥전문점',\n",
       " '하꼬스시',\n",
       " '하동우렁추어탕-면목역점',\n",
       " '한솥도시락-시립대점',\n",
       " '한우육회&연어-본점',\n",
       " '해적선혼술홈밤',\n",
       " '현덕육회',\n",
       " '호니도니-장안점',\n",
       " '회오징어나라',\n",
       " '희희스시&덮밥'}"
      ]
     },
     "execution_count": 180,
     "metadata": {},
     "output_type": "execute_result"
    }
   ],
   "source": [
    "set(shops_list8[4]) & set(shops_list8[5])"
   ]
  },
  {
   "cell_type": "code",
   "execution_count": 96,
   "metadata": {},
   "outputs": [
    {
     "data": {
      "text/plain": [
       "{'커피델라'}"
      ]
     },
     "execution_count": 96,
     "metadata": {},
     "output_type": "execute_result"
    }
   ],
   "source": [
    "set(shops_list2[2]) & set(shops_list2[8])"
   ]
  },
  {
   "cell_type": "code",
   "execution_count": null,
   "metadata": {},
   "outputs": [],
   "source": [
    "list(set(shops_cafe) - set(shops_conv))"
   ]
  },
  {
   "cell_type": "code",
   "execution_count": 72,
   "metadata": {},
   "outputs": [
    {
     "data": {
      "text/plain": [
       "311"
      ]
     },
     "execution_count": 72,
     "metadata": {},
     "output_type": "execute_result"
    }
   ],
   "source": [
    "len(set(shop_list[0]) & set(shop_list[8]))"
   ]
  },
  {
   "cell_type": "code",
   "execution_count": 76,
   "metadata": {},
   "outputs": [
    {
     "data": {
      "text/plain": [
       "45"
      ]
     },
     "execution_count": 76,
     "metadata": {},
     "output_type": "execute_result"
    }
   ],
   "source": [
    "len(set(shop_list[8]) & set(shops_conv))"
   ]
  },
  {
   "cell_type": "code",
   "execution_count": 32,
   "metadata": {},
   "outputs": [
    {
     "data": {
      "text/plain": [
       "['GS25-휘경하랑점',\n",
       " '세븐일레븐-서울시립대점',\n",
       " 'CU-회기중앙점',\n",
       " '홈플러스익스프레스-서울회기점',\n",
       " 'CU-외대앞역점',\n",
       " '세븐일레븐-답십리사거리점',\n",
       " 'CU-청량리경찰서점',\n",
       " 'CU-전농대로점',\n",
       " 'CU-휘경주공점',\n",
       " '세븐일레븐-시립대본점',\n",
       " '세븐일레븐-답십리카페점',\n",
       " 'GS25-전농삼성점',\n",
       " 'CU-전농시립대점',\n",
       " 'CU-휘경행복점',\n",
       " 'CU-전농으뜸점',\n",
       " 'GS25-전농제일점',\n",
       " 'CU-청량코아점',\n",
       " 'CU-동대문전농점',\n",
       " 'GS25-회기역점',\n",
       " 'CU-전농배봉로점',\n",
       " 'CU-휘경해모로점',\n",
       " 'CU-전농우성점',\n",
       " 'CU-참행복점',\n",
       " 'GS25-전농공원점',\n",
       " 'GS25-답십리센터점',\n",
       " 'CU-경희대점',\n",
       " 'GS25-전농캐슬점',\n",
       " 'CU-전농롯데캐슬점',\n",
       " 'GS25-휘경주공점',\n",
       " '미니스톱-장안삼거리점',\n",
       " 'CU-외대이문점',\n",
       " 'CU-외대얄개점',\n",
       " 'GS25-장안삼거리점',\n",
       " 'CU-장안에스점',\n",
       " 'CU-카이스트점',\n",
       " 'CU-휘경SK뷰점',\n",
       " '랄라블라-경희플라자점',\n",
       " '세븐일레븐-동대문경찰서점',\n",
       " 'CU-촬영소사거리점',\n",
       " 'CU-답십리삼성위브점',\n",
       " 'CU-장안동국점',\n",
       " 'CU-답십리위브점',\n",
       " 'CU-답십리두산행운점',\n",
       " '세븐일레븐-휘경시립대점',\n",
       " 'CU-전농크레시티점',\n",
       " '롯데슈퍼-이문점',\n",
       " '이마트24-청량리타운점']"
      ]
     },
     "execution_count": 32,
     "metadata": {},
     "output_type": "execute_result"
    }
   ],
   "source": [
    "shop_list[9]"
   ]
  },
  {
   "cell_type": "code",
   "execution_count": null,
   "metadata": {},
   "outputs": [],
   "source": [
    "html = driver.page_source\n",
    "soup = BeautifulSoup(html, 'html.parser')"
   ]
  },
  {
   "cell_type": "code",
   "execution_count": null,
   "metadata": {},
   "outputs": [],
   "source": [
    "soup2=soup.find_all('div',{'class':\"restaurant-list\"})[2]"
   ]
  },
  {
   "cell_type": "code",
   "execution_count": null,
   "metadata": {},
   "outputs": [],
   "source": [
    "shops=[x.text for x in soup2.find_all('div',{'ng-bind':\"restaurant.name\"})]"
   ]
  },
  {
   "cell_type": "code",
   "execution_count": 4,
   "metadata": {},
   "outputs": [],
   "source": [
    "def craw(i,shop_in,driver,df,col_list):\n",
    "    try:\n",
    "        driver.find_element_by_xpath('//*[@id=\"content\"]/div[2]/div[1]/ul/li[2]').click()\n",
    "    except Exception:\n",
    "        driver.quit()\n",
    "        driver=driver_start()\n",
    "        time.sleep(3)\n",
    "        driver.find_element_by_xpath(f'//*[@title=\"{shop_in[i]}\"]').click()\n",
    "        time.sleep(3)\n",
    "        driver.find_element_by_xpath('//*[@id=\"content\"]/div[2]/div[1]/ul/li[2]').click()\n",
    "    \n",
    "    html = driver.page_source\n",
    "    soup = BeautifulSoup(html, 'html.parser')\n",
    "    \n",
    "    a=soup.find_all(\"strong\",{\"class\":\"ng-binding\"})\n",
    "    star_tot=a[0].text.strip()\n",
    "    review_cnt=int(a[1].text.strip())\n",
    "    review_own_cnt=a[2].text\n",
    "    shop=soup.find('span',{'ng-bind':'restaurant.name'}).text\n",
    "    print(shop, review_cnt)\n",
    "    \n",
    "    if review_cnt==0: #리뷰없으면 종료\n",
    "        print(0)\n",
    "        return\n",
    "    \n",
    "    stretch_review_page(review_cnt)\n",
    "        \n",
    "    html = driver.page_source\n",
    "    soup = BeautifulSoup(html, 'html.parser')\n",
    "\n",
    "    b=soup.find_all('li',{'class':'list-group-item star-point ng-scope'})\n",
    "\n",
    "    for i in tqdm(range(len(b)),desc='save..',mininterval=2):\n",
    "        now=b[i]\n",
    "        name=now.find('span',{'ng-show':\"review.phone\"}).text\n",
    "        date=now.find('span',{'ng-bind':\"review.time|since\"}).text\n",
    "        try:\n",
    "            star=now.find_all('span',{'class':\"points ng-binding\"})\n",
    "        except IndexError:\n",
    "            print(f'{i}th review, none star')\n",
    "            continue\n",
    "            \n",
    "        try:\n",
    "            star_flavor=star[0].text\n",
    "        except IndexError:\n",
    "            star_flavor=None\n",
    "        \n",
    "        try:\n",
    "            star_volume=star[1].text\n",
    "        except IndexError:\n",
    "            star_volume=None\n",
    "\n",
    "        try:\n",
    "            star_deliver=star[2].text\n",
    "        except IndexError:\n",
    "            star_deliver=None\n",
    "            pass\n",
    "            \n",
    "        menu=now.find(\"div\",{\"class\":\"order-items default ng-binding\"}).text.strip()\n",
    "        review_customer=now.find(\"p\",{\"class\":\"ng-binding\"}).text\n",
    "    \n",
    "        try:\n",
    "            review_owner=now.find(\"p\",{\"ng-bind-html\":\"review.owner_reply.comment|strip_html\"}).text\n",
    "        except AttributeError:\n",
    "            review_owner=None\n",
    "        \n",
    "        try:\n",
    "            img_url=now.find('img')['src']\n",
    "        except TypeError:\n",
    "            img_name=None\n",
    "        else:\n",
    "            img_name=shop+'_'+str(i)\n",
    "            path=f'./data/cafe/{shop}'\n",
    "            if not os.path.isdir(path):\n",
    "                os.mkdir(path)\n",
    "            urlretrieve(img_url,path+'/'+img_name+'.jpg')\n",
    "            \n",
    "        \n",
    "        new=pd.DataFrame([[shop,name,date,star_flavor,star_volume,star_deliver,menu,review_customer,review_owner,img_name]],columns=col_list)\n",
    "        df=pd.concat([new,df])\n",
    "\n",
    "        '''    \n",
    "        try:\n",
    "            df=df.append(pd.DataFrame(\n",
    "                [[shop,name,date,star_flavor,star_volume,star_deliver,menu,review_customer,review_owner,img_name]],\n",
    "                columns=col_list),ignore_index=True)\n",
    "        except AttributeError:\n",
    "            print(f'i:{i}' ,shop,name,date,star_flavor,star_volume,star_deliver,menu,review_customer,review_owner,img_name)\n",
    "        '''\n",
    "    return df"
   ]
  },
  {
   "cell_type": "code",
   "execution_count": 5,
   "metadata": {},
   "outputs": [],
   "source": [
    "# 리뷰 페이지 모두 펼치기\n",
    "def stretch_review_page(review_cnt):\n",
    "    click_count = int((review_cnt/10))\n",
    "    print('모든 리뷰 불러오기 시작...')\n",
    "    for _ in range(click_count):\n",
    "        try:\n",
    "            driver.execute_script(\"window.scrollTo(0,document.body.scrollHeight);\")\n",
    "            driver.find_element_by_class_name('btn-more').click()\n",
    "            time.sleep(2)\n",
    "        except Exception as e:\n",
    "            pass\n",
    "    driver.execute_script(\"window.scrollTo(0,document.body.scrollHeight);\")\n",
    "    print('모든 리뷰 불러오기 완료!')"
   ]
  },
  {
   "cell_type": "code",
   "execution_count": null,
   "metadata": {},
   "outputs": [],
   "source": [
    "col_list=['shop','name','date','star_flavor','star_volume','star_deliver','menu','review_customer','review_owner','img_name']\n",
    "df=pd.DataFrame(columns=col_list)"
   ]
  },
  {
   "cell_type": "code",
   "execution_count": null,
   "metadata": {},
   "outputs": [],
   "source": [
    "start=0\n",
    "end=10\n",
    "#end=len(shops)\n",
    "for i in range(start,end):\n",
    "    driver.find_element_by_xpath('//*[@id=\"category\"]/ul/li[5]/span').click() #치킨,피자등 카테고리 클릭\n",
    "    time.sleep(1)\n",
    "    driver.find_element_by_xpath('//*[@id=\"category\"]/ul/li[1]/a').click()\n",
    "    time.sleep(0.5)\n",
    "    driver.find_element_by_xpath('//*[@id=\"category\"]/ul/li[15]/form/div/input').send_keys(shops[i])\n",
    "    time.sleep(0.5)\n",
    "    driver.find_element_by_xpath('//*[@id=\"category_search_button\"]').click()\n",
    "    time.sleep(2)\n",
    "    driver.find_element_by_xpath('//*[@id=\"content\"]/div/div[5]/div/div/div/div/table/tbody/tr/td[2]/div/div[1]').click()\n",
    "    time.sleep(2)\n",
    "    df=craw(driver,df,col_list)\n",
    "print(f'tot_shop:{i},crawling sucess')\n",
    "    "
   ]
  },
  {
   "cell_type": "code",
   "execution_count": null,
   "metadata": {},
   "outputs": [],
   "source": [
    "driver.find_element_by_xpath('//*[@id=\"category\"]/ul/li[5]/span').click() #치킨,피자등 카테고리 클릭\n",
    "time.sleep(1)\n",
    "driver.find_element_by_xpath('//*[@id=\"category\"]/ul/li[1]/a').click()\n",
    "time.sleep(0.5)\n",
    "<div class=\"restaurant-name ng-binding\" ng-bind=\"restaurant.name\" title=\"설빙-서울상봉점\">설빙-서울상봉점</div>  "
   ]
  },
  {
   "cell_type": "code",
   "execution_count": 56,
   "metadata": {},
   "outputs": [],
   "source": [
    "driver.find_element_by_xpath(f'//*[@title=\"설빙-서울상봉점\"]').click()"
   ]
  },
  {
   "cell_type": "code",
   "execution_count": null,
   "metadata": {},
   "outputs": [],
   "source": [
    "def test(driver):\n",
    "    btn=driver.find_element_by_xpath('//*[@id=\"content\"]/div[2]/div[1]/ul/li[2]')\n",
    "    btn.click()\n",
    "    \n",
    "    html = driver.page_source\n",
    "    soup = BeautifulSoup(html, 'lxml')\n",
    "    \n",
    "    a=soup.find_all(\"strong\",{\"class\":\"ng-binding\"})\n",
    "    star_tot=a[0].text.strip()\n",
    "    review_cnt=int(a[1].text.strip())\n",
    "    review_own_cnt=a[2].text\n",
    "    shop=soup.find('span',{'ng-bind':'restaurant.name'}).text\n",
    "    print(shop)\n",
    "    if review_cnt==0:\n",
    "        print(0)\n",
    "        return\n",
    "    else :\n",
    "        print(review_cnt)\n",
    "\n",
    "    "
   ]
  },
  {
   "cell_type": "code",
   "execution_count": null,
   "metadata": {},
   "outputs": [],
   "source": []
  },
  {
   "cell_type": "code",
   "execution_count": null,
   "metadata": {},
   "outputs": [],
   "source": []
  },
  {
   "cell_type": "code",
   "execution_count": null,
   "metadata": {},
   "outputs": [],
   "source": [
    "url = \"https://www.yogiyo.co.kr/mobile/#/391531/\"\n",
    "driver.get(url)\n",
    "time.sleep(1)"
   ]
  },
  {
   "cell_type": "code",
   "execution_count": null,
   "metadata": {},
   "outputs": [],
   "source": [
    "btn=driver.find_element_by_xpath('//*[@id=\"content\"]/div[2]/div[1]/ul/li[2]')\n",
    "btn.click()"
   ]
  },
  {
   "cell_type": "code",
   "execution_count": null,
   "metadata": {},
   "outputs": [],
   "source": [
    "html = driver.page_source\n",
    "soup = BeautifulSoup(html, 'lxml')"
   ]
  },
  {
   "cell_type": "code",
   "execution_count": null,
   "metadata": {},
   "outputs": [],
   "source": [
    "a=soup.find_all(\"strong\",{\"class\":\"ng-binding\"})\n",
    "star_tot=a[0].text.strip()\n",
    "review_cnt=int(a[1].text.strip())\n",
    "review_own_cnt=a[2].text"
   ]
  },
  {
   "cell_type": "code",
   "execution_count": null,
   "metadata": {},
   "outputs": [],
   "source": [
    "tot=soup.find_all('span',{'class':'points ng-binding'})\n",
    "star_tot_fla=tot[0].text\n",
    "star_tot_vol=tot[1].text\n",
    "star_tot_deli=tot[2].text"
   ]
  },
  {
   "cell_type": "code",
   "execution_count": null,
   "metadata": {},
   "outputs": [],
   "source": [
    "shop=soup.find('span',{'ng-bind':'restaurant.name'}).text"
   ]
  },
  {
   "cell_type": "code",
   "execution_count": null,
   "metadata": {},
   "outputs": [],
   "source": [
    "i=12\n",
    "while i<=review_cnt:\n",
    "    sent='//*[@id=\"review\"]/li['+str(i)+']'\n",
    "    btn=driver.find_element_by_xpath(sent)\n",
    "    btn.click()\n",
    "    time.sleep(0.7)\n",
    "    i+=10\n",
    "    if (i-2)%100 ==0:dd\n",
    "        time.sleep(3)\n",
    "        print(i)\n",
    "    if (i-2)%500 ==0:\n",
    "        time.sleep(5)\n",
    "    "
   ]
  },
  {
   "cell_type": "code",
   "execution_count": null,
   "metadata": {},
   "outputs": [],
   "source": []
  },
  {
   "cell_type": "code",
   "execution_count": null,
   "metadata": {},
   "outputs": [],
   "source": []
  },
  {
   "cell_type": "code",
   "execution_count": null,
   "metadata": {},
   "outputs": [],
   "source": []
  }
 ],
 "metadata": {
  "kernelspec": {
   "display_name": "Python 3",
   "language": "python",
   "name": "python3"
  },
  "language_info": {
   "codemirror_mode": {
    "name": "ipython",
    "version": 3
   },
   "file_extension": ".py",
   "mimetype": "text/x-python",
   "name": "python",
   "nbconvert_exporter": "python",
   "pygments_lexer": "ipython3",
   "version": "3.8.5"
  }
 },
 "nbformat": 4,
 "nbformat_minor": 2
}
