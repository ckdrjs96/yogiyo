{
 "cells": [
  {
   "cell_type": "code",
   "execution_count": 286,
   "metadata": {},
   "outputs": [],
   "source": [
    "import os, re\n",
    "import pandas as pd\n",
    "import numpy as np\n",
    "from matplotlib import pyplot as plt\n",
    "from konlpy.tag import Okt\n",
    "from collections import Counter\n",
    "\n",
    "okt=Okt()"
   ]
  },
  {
   "cell_type": "code",
   "execution_count": 2,
   "metadata": {},
   "outputs": [],
   "source": [
    "PATH='/root/workspace/data/'\n",
    "catagory=pd.read_csv(PATH+'catagory_num.csv', encoding='utf-8')"
   ]
  },
  {
   "cell_type": "code",
   "execution_count": 21,
   "metadata": {},
   "outputs": [],
   "source": [
    "cata_list=[catagory[catagory.catagory==i].shop.values.tolist() for i in range(16)]"
   ]
  },
  {
   "cell_type": "code",
   "execution_count": 78,
   "metadata": {},
   "outputs": [],
   "source": [
    "chicken=pd.read_csv(PATH+'chicken.csv', encoding='utf-8')\n",
    "pizza=pd.read_csv(PATH+'pizza.csv', encoding='utf-8')\n",
    "china=pd.read_csv(PATH+'china.csv', encoding='utf-8')\n",
    "korea=pd.read_csv(PATH+'korea.csv', encoding='utf-8')\n",
    "japan=pd.read_csv(PATH+'japan.csv', encoding='utf-8')\n",
    "pig=pd.read_csv(PATH+'pig.csv', encoding='utf-8')\n",
    "tteok=pd.read_csv(PATH+'tteok.csv', encoding='utf-8')\n",
    "cafe=pd.read_csv(PATH+'cafe.csv', encoding='utf-8')"
   ]
  },
  {
   "cell_type": "code",
   "execution_count": 81,
   "metadata": {},
   "outputs": [],
   "source": [
    "chicken_shop=chicken.shop.unique().tolist()\n",
    "pizza_shop=pizza.shop.unique().tolist()\n",
    "china_shop=china.shop.unique().tolist()\n",
    "korea_shop=korea.shop.unique().tolist()\n",
    "japan_shop=japan.shop.unique().tolist()\n",
    "pig_shop=pig.shop.unique().tolist()\n",
    "tteok_shop=tteok.shop.unique().tolist()\n",
    "cafe_shop=cafe.shop.unique().tolist()"
   ]
  },
  {
   "cell_type": "code",
   "execution_count": 109,
   "metadata": {},
   "outputs": [],
   "source": [
    "shop_list=[chicken,pizza,korea,japan,pig,tteok,cafe]"
   ]
  },
  {
   "cell_type": "code",
   "execution_count": 194,
   "metadata": {},
   "outputs": [],
   "source": [
    "catagory6=pd.DataFrame\n",
    "for num in cata_list[6]:\n",
    "    for cata in shop_list:\n",
    "        now=cata[cata.shop==num]\n",
    "        if catagory6.empty:\n",
    "            catagory6=now\n",
    "        else:\n",
    "            catagory6=catagory6.append(now)\n",
    "        \n"
   ]
  },
  {
   "cell_type": "code",
   "execution_count": 215,
   "metadata": {},
   "outputs": [],
   "source": [
    "def cluster(i):\n",
    "    catagory=pd.DataFrame\n",
    "    for num in cata_list[i]:\n",
    "        for cata in shop_list:\n",
    "            now=cata[cata.shop==num]\n",
    "            if catagory.empty:\n",
    "                catagory=now\n",
    "            else:\n",
    "                catagory=catagory.append(now)\n",
    "    \n",
    "    catagory.reset_index(drop=True,inplace=True)\n",
    "    \n",
    "    return catagory"
   ]
  },
  {
   "cell_type": "code",
   "execution_count": 218,
   "metadata": {},
   "outputs": [],
   "source": [
    "for i in range(6,16):\n",
    "    globals()[f'catagory{i}']=cluster(i)"
   ]
  },
  {
   "cell_type": "code",
   "execution_count": 219,
   "metadata": {},
   "outputs": [
    {
     "data": {
      "text/html": [
       "<div>\n",
       "<style scoped>\n",
       "    .dataframe tbody tr th:only-of-type {\n",
       "        vertical-align: middle;\n",
       "    }\n",
       "\n",
       "    .dataframe tbody tr th {\n",
       "        vertical-align: top;\n",
       "    }\n",
       "\n",
       "    .dataframe thead th {\n",
       "        text-align: right;\n",
       "    }\n",
       "</style>\n",
       "<table border=\"1\" class=\"dataframe\">\n",
       "  <thead>\n",
       "    <tr style=\"text-align: right;\">\n",
       "      <th></th>\n",
       "      <th>shop</th>\n",
       "      <th>name</th>\n",
       "      <th>date</th>\n",
       "      <th>star_flavor</th>\n",
       "      <th>star_volume</th>\n",
       "      <th>star_deliver</th>\n",
       "      <th>menu</th>\n",
       "      <th>review_customer</th>\n",
       "      <th>review_owner</th>\n",
       "      <th>img_name</th>\n",
       "    </tr>\n",
       "  </thead>\n",
       "  <tbody>\n",
       "    <tr>\n",
       "      <th>0</th>\n",
       "      <td>썬더치킨-경희대점</td>\n",
       "      <td>sa**님</td>\n",
       "      <td>2020년 9월 8일</td>\n",
       "      <td>5.0</td>\n",
       "      <td>5.0</td>\n",
       "      <td>5.0</td>\n",
       "      <td>파닭치킨/1(뼈or순살 선택(뼈),반마리 추가 선택(매운맛 양념치킨 반마리 추가),...</td>\n",
       "      <td>썬더치킨은 언제나 맞습니다!!!</td>\n",
       "      <td>NaN</td>\n",
       "      <td>썬더치킨-경희대점_0</td>\n",
       "    </tr>\n",
       "    <tr>\n",
       "      <th>1</th>\n",
       "      <td>썬더치킨-경희대점</td>\n",
       "      <td>ja**님</td>\n",
       "      <td>2020년 8월 27일</td>\n",
       "      <td>5.0</td>\n",
       "      <td>5.0</td>\n",
       "      <td>5.0</td>\n",
       "      <td>반반치킨（크리스피 반＋양념 반）/1(뼈or순살 선택(뼈),사이드 추가 선택(마약떡튀...</td>\n",
       "      <td>맛잇고 양많거 좋아여</td>\n",
       "      <td>NaN</td>\n",
       "      <td>썬더치킨-경희대점_1</td>\n",
       "    </tr>\n",
       "    <tr>\n",
       "      <th>2</th>\n",
       "      <td>썬더치킨-경희대점</td>\n",
       "      <td>be**님</td>\n",
       "      <td>2020년 8월 20일</td>\n",
       "      <td>5.0</td>\n",
       "      <td>5.0</td>\n",
       "      <td>5.0</td>\n",
       "      <td>크리스피치킨/1(뼈or순살 선택(뼈))</td>\n",
       "      <td>배달도 빠르고 맛있어요 서비스 감자도 최고~</td>\n",
       "      <td>NaN</td>\n",
       "      <td>썬더치킨-경희대점_2</td>\n",
       "    </tr>\n",
       "    <tr>\n",
       "      <th>3</th>\n",
       "      <td>썬더치킨-경희대점</td>\n",
       "      <td>lw**님</td>\n",
       "      <td>2020년 8월 11일</td>\n",
       "      <td>5.0</td>\n",
       "      <td>5.0</td>\n",
       "      <td>5.0</td>\n",
       "      <td>반반치킨（크리스피 반＋양념 반）/1(뼈or순살 선택(뼈),반마리 추가 선택(간장치킨...</td>\n",
       "      <td>비도 많이 왔는데 배달 빨리 해주셔서 감사했습니다 물론 치킨이랑 감자튀김도 더할 나...</td>\n",
       "      <td>NaN</td>\n",
       "      <td>썬더치킨-경희대점_3</td>\n",
       "    </tr>\n",
       "    <tr>\n",
       "      <th>4</th>\n",
       "      <td>썬더치킨-경희대점</td>\n",
       "      <td>na**님</td>\n",
       "      <td>2020년 8월 6일</td>\n",
       "      <td>5.0</td>\n",
       "      <td>5.0</td>\n",
       "      <td>5.0</td>\n",
       "      <td>닭다리 반반 8조각（후라이드 반＋양념 반）/1(뼈or순살 선택(뼈),소스 추가 선택...</td>\n",
       "      <td>닭다리 너무 맛있고요\\n감자튀김이 진짜 너무 맛있어요 감튀 강추입니다</td>\n",
       "      <td>NaN</td>\n",
       "      <td>썬더치킨-경희대점_4</td>\n",
       "    </tr>\n",
       "    <tr>\n",
       "      <th>...</th>\n",
       "      <td>...</td>\n",
       "      <td>...</td>\n",
       "      <td>...</td>\n",
       "      <td>...</td>\n",
       "      <td>...</td>\n",
       "      <td>...</td>\n",
       "      <td>...</td>\n",
       "      <td>...</td>\n",
       "      <td>...</td>\n",
       "      <td>...</td>\n",
       "    </tr>\n",
       "    <tr>\n",
       "      <th>1054</th>\n",
       "      <td>도야족발-중곡본점</td>\n",
       "      <td>70**님</td>\n",
       "      <td>2020년 2월 10일</td>\n",
       "      <td>5.0</td>\n",
       "      <td>5.0</td>\n",
       "      <td>5.0</td>\n",
       "      <td>불족발/1(사이즈 선택(中))</td>\n",
       "      <td>와우~~~~  족발집 중에 최고인거 같아요\\n집에서 조금 멀어서 음식이 식을까 걱정...</td>\n",
       "      <td>감사합니다 기억나요 껍대기 위주로 달라고하셔서 사실 그거 ..2족이나 들어간건 비밀...</td>\n",
       "      <td>도야족발-중곡본점_495</td>\n",
       "    </tr>\n",
       "    <tr>\n",
       "      <th>1055</th>\n",
       "      <td>도야족발-중곡본점</td>\n",
       "      <td>bu**님</td>\n",
       "      <td>2020년 2월 9일</td>\n",
       "      <td>5.0</td>\n",
       "      <td>5.0</td>\n",
       "      <td>5.0</td>\n",
       "      <td>도야보쌈/1(사이즈 선택(小))</td>\n",
       "      <td>배달시켜먹어본 족발중 최고였어요!!♡\\n돼지냄새도 안나고 쫄깃쫄깃 너무맛있어요~~\\...</td>\n",
       "      <td>감사합니다 ㅎㅎㅎ 항상 신선한 당일족으로만 삶아서 쫄깃 쫄깃 하실꺼에요 ㅎㅎㅎ \\n...</td>\n",
       "      <td>NaN</td>\n",
       "    </tr>\n",
       "    <tr>\n",
       "      <th>1056</th>\n",
       "      <td>도야족발-중곡본점</td>\n",
       "      <td>손님</td>\n",
       "      <td>2020년 2월 8일</td>\n",
       "      <td>5.0</td>\n",
       "      <td>5.0</td>\n",
       "      <td>5.0</td>\n",
       "      <td>도야보쌈/1(사이즈 선택(小))</td>\n",
       "      <td>보쌈 먹어봤는데, 요즘 되게 부드럽네요 육질이나 육즙이나 모든 면에서 최고라 생각합...</td>\n",
       "      <td>저희 도야족발주문해주셔서 감사합니다 ㅎㅎ 보쌈 맛나죠 이번에 고기도 업그레이드 해서...</td>\n",
       "      <td>NaN</td>\n",
       "    </tr>\n",
       "    <tr>\n",
       "      <th>1057</th>\n",
       "      <td>도야족발-중곡본점</td>\n",
       "      <td>na**님</td>\n",
       "      <td>2020년 2월 4일</td>\n",
       "      <td>2.0</td>\n",
       "      <td>1.0</td>\n",
       "      <td>3.0</td>\n",
       "      <td>반반족발/1(메뉴 선택(반반 앞발))</td>\n",
       "      <td>전에 시켜먹었을때 맛있게 먹었던 기억이 있어서 일부러 여기서 시켰는데.. 주인이 바...</td>\n",
       "      <td>죄송합니다..고객님...주인이 바낀건아니구요..ㅠㅠ 말슴주신부분에대해 변명안하겠습니...</td>\n",
       "      <td>도야족발-중곡본점_498</td>\n",
       "    </tr>\n",
       "    <tr>\n",
       "      <th>1058</th>\n",
       "      <td>도야족발-중곡본점</td>\n",
       "      <td>ja**님</td>\n",
       "      <td>2020년 2월 2일</td>\n",
       "      <td>5.0</td>\n",
       "      <td>5.0</td>\n",
       "      <td>5.0</td>\n",
       "      <td>도야보쌈/1(사이즈 선택(小))</td>\n",
       "      <td>자주 시켜먹던데가 문닫아서 여기서 시켜봤는데\\n대박 맛있네요 단골집 도야로 바뀔듯 ...</td>\n",
       "      <td>감사합니다..항상 맛봐 양에 신경을 쓰고 있습니다 ^^만족한 식사되셔서 제가 더욱 ...</td>\n",
       "      <td>NaN</td>\n",
       "    </tr>\n",
       "  </tbody>\n",
       "</table>\n",
       "<p>1059 rows × 10 columns</p>\n",
       "</div>"
      ],
      "text/plain": [
       "           shop   name          date  star_flavor  star_volume  star_deliver  \\\n",
       "0     썬더치킨-경희대점  sa**님   2020년 9월 8일          5.0          5.0           5.0   \n",
       "1     썬더치킨-경희대점  ja**님  2020년 8월 27일          5.0          5.0           5.0   \n",
       "2     썬더치킨-경희대점  be**님  2020년 8월 20일          5.0          5.0           5.0   \n",
       "3     썬더치킨-경희대점  lw**님  2020년 8월 11일          5.0          5.0           5.0   \n",
       "4     썬더치킨-경희대점  na**님   2020년 8월 6일          5.0          5.0           5.0   \n",
       "...         ...    ...           ...          ...          ...           ...   \n",
       "1054  도야족발-중곡본점  70**님  2020년 2월 10일          5.0          5.0           5.0   \n",
       "1055  도야족발-중곡본점  bu**님   2020년 2월 9일          5.0          5.0           5.0   \n",
       "1056  도야족발-중곡본점     손님   2020년 2월 8일          5.0          5.0           5.0   \n",
       "1057  도야족발-중곡본점  na**님   2020년 2월 4일          2.0          1.0           3.0   \n",
       "1058  도야족발-중곡본점  ja**님   2020년 2월 2일          5.0          5.0           5.0   \n",
       "\n",
       "                                                   menu  \\\n",
       "0     파닭치킨/1(뼈or순살 선택(뼈),반마리 추가 선택(매운맛 양념치킨 반마리 추가),...   \n",
       "1     반반치킨（크리스피 반＋양념 반）/1(뼈or순살 선택(뼈),사이드 추가 선택(마약떡튀...   \n",
       "2                                 크리스피치킨/1(뼈or순살 선택(뼈))   \n",
       "3     반반치킨（크리스피 반＋양념 반）/1(뼈or순살 선택(뼈),반마리 추가 선택(간장치킨...   \n",
       "4     닭다리 반반 8조각（후라이드 반＋양념 반）/1(뼈or순살 선택(뼈),소스 추가 선택...   \n",
       "...                                                 ...   \n",
       "1054                                   불족발/1(사이즈 선택(中))   \n",
       "1055                                  도야보쌈/1(사이즈 선택(小))   \n",
       "1056                                  도야보쌈/1(사이즈 선택(小))   \n",
       "1057                               반반족발/1(메뉴 선택(반반 앞발))   \n",
       "1058                                  도야보쌈/1(사이즈 선택(小))   \n",
       "\n",
       "                                        review_customer  \\\n",
       "0                                     썬더치킨은 언제나 맞습니다!!!   \n",
       "1                                           맛잇고 양많거 좋아여   \n",
       "2                              배달도 빠르고 맛있어요 서비스 감자도 최고~   \n",
       "3     비도 많이 왔는데 배달 빨리 해주셔서 감사했습니다 물론 치킨이랑 감자튀김도 더할 나...   \n",
       "4                닭다리 너무 맛있고요\\n감자튀김이 진짜 너무 맛있어요 감튀 강추입니다   \n",
       "...                                                 ...   \n",
       "1054  와우~~~~  족발집 중에 최고인거 같아요\\n집에서 조금 멀어서 음식이 식을까 걱정...   \n",
       "1055  배달시켜먹어본 족발중 최고였어요!!♡\\n돼지냄새도 안나고 쫄깃쫄깃 너무맛있어요~~\\...   \n",
       "1056  보쌈 먹어봤는데, 요즘 되게 부드럽네요 육질이나 육즙이나 모든 면에서 최고라 생각합...   \n",
       "1057  전에 시켜먹었을때 맛있게 먹었던 기억이 있어서 일부러 여기서 시켰는데.. 주인이 바...   \n",
       "1058  자주 시켜먹던데가 문닫아서 여기서 시켜봤는데\\n대박 맛있네요 단골집 도야로 바뀔듯 ...   \n",
       "\n",
       "                                           review_owner       img_name  \n",
       "0                                                   NaN    썬더치킨-경희대점_0  \n",
       "1                                                   NaN    썬더치킨-경희대점_1  \n",
       "2                                                   NaN    썬더치킨-경희대점_2  \n",
       "3                                                   NaN    썬더치킨-경희대점_3  \n",
       "4                                                   NaN    썬더치킨-경희대점_4  \n",
       "...                                                 ...            ...  \n",
       "1054  감사합니다 기억나요 껍대기 위주로 달라고하셔서 사실 그거 ..2족이나 들어간건 비밀...  도야족발-중곡본점_495  \n",
       "1055  감사합니다 ㅎㅎㅎ 항상 신선한 당일족으로만 삶아서 쫄깃 쫄깃 하실꺼에요 ㅎㅎㅎ \\n...            NaN  \n",
       "1056  저희 도야족발주문해주셔서 감사합니다 ㅎㅎ 보쌈 맛나죠 이번에 고기도 업그레이드 해서...            NaN  \n",
       "1057  죄송합니다..고객님...주인이 바낀건아니구요..ㅠㅠ 말슴주신부분에대해 변명안하겠습니...  도야족발-중곡본점_498  \n",
       "1058  감사합니다..항상 맛봐 양에 신경을 쓰고 있습니다 ^^만족한 식사되셔서 제가 더욱 ...            NaN  \n",
       "\n",
       "[1059 rows x 10 columns]"
      ]
     },
     "execution_count": 219,
     "metadata": {},
     "output_type": "execute_result"
    }
   ],
   "source": [
    "catagory6"
   ]
  },
  {
   "cell_type": "code",
   "execution_count": null,
   "metadata": {},
   "outputs": [],
   "source": []
  },
  {
   "cell_type": "code",
   "execution_count": null,
   "metadata": {},
   "outputs": [],
   "source": []
  },
  {
   "cell_type": "code",
   "execution_count": 162,
   "metadata": {},
   "outputs": [
    {
     "data": {
      "text/plain": [
       "shop                  26\n",
       "name                 804\n",
       "date                1740\n",
       "star_flavor            5\n",
       "star_volume            5\n",
       "star_deliver           5\n",
       "menu                6060\n",
       "review_customer    17324\n",
       "review_owner        8000\n",
       "img_name           10872\n",
       "dtype: int64"
      ]
     },
     "execution_count": 162,
     "metadata": {},
     "output_type": "execute_result"
    }
   ],
   "source": [
    "catagory1.nunique()"
   ]
  },
  {
   "cell_type": "code",
   "execution_count": 134,
   "metadata": {},
   "outputs": [
    {
     "data": {
      "text/plain": [
       "176"
      ]
     },
     "execution_count": 134,
     "metadata": {},
     "output_type": "execute_result"
    }
   ],
   "source": [
    "len(cata_list[0])"
   ]
  },
  {
   "cell_type": "code",
   "execution_count": 221,
   "metadata": {},
   "outputs": [
    {
     "data": {
      "text/plain": [
       "{'라와마라탕-5호점', '마라탕전문점소림마라-동대문점'}"
      ]
     },
     "execution_count": 221,
     "metadata": {},
     "output_type": "execute_result"
    }
   ],
   "source": [
    "set(cata_list[2])-set(catagory2.shop.unique().tolist())"
   ]
  },
  {
   "cell_type": "code",
   "execution_count": 136,
   "metadata": {},
   "outputs": [
    {
     "data": {
      "text/plain": [
       "(59374, 10)"
      ]
     },
     "execution_count": 136,
     "metadata": {},
     "output_type": "execute_result"
    }
   ],
   "source": [
    "catagory0.shape"
   ]
  },
  {
   "cell_type": "code",
   "execution_count": 294,
   "metadata": {},
   "outputs": [],
   "source": [
    "catagory15.to_csv(PATH+'catagory15.csv',index=False)"
   ]
  },
  {
   "cell_type": "code",
   "execution_count": 186,
   "metadata": {},
   "outputs": [],
   "source": [
    "catagory0=pd.read_csv(PATH+'catagory0.csv', encoding='utf-8')"
   ]
  },
  {
   "cell_type": "code",
   "execution_count": 264,
   "metadata": {},
   "outputs": [
    {
     "name": "stdout",
     "output_type": "stream",
     "text": [
      "300\n",
      "37.634481760277936\n"
     ]
    },
    {
     "data": {
      "text/plain": [
       "(array([4.900e+01, 1.934e+03, 1.356e+03, 8.540e+02, 6.000e+02, 4.660e+02,\n",
       "        3.110e+02, 2.680e+02, 2.080e+02, 1.470e+02, 1.300e+02, 1.100e+02,\n",
       "        7.000e+01, 7.400e+01, 5.000e+01, 4.900e+01, 3.000e+01, 4.100e+01,\n",
       "        2.400e+01, 1.500e+01, 1.700e+01, 1.700e+01, 8.000e+00, 1.800e+01,\n",
       "        1.100e+01, 4.000e+00, 2.000e+00, 2.000e+00, 5.000e+00, 5.000e+00,\n",
       "        5.000e+00, 4.000e+00, 1.000e+00, 4.000e+00, 4.000e+00, 1.000e+00,\n",
       "        4.000e+00, 1.000e+01, 0.000e+00, 0.000e+00, 0.000e+00, 0.000e+00,\n",
       "        0.000e+00, 0.000e+00, 0.000e+00, 0.000e+00, 0.000e+00, 0.000e+00,\n",
       "        0.000e+00, 0.000e+00]),\n",
       " array([  0.,   8.,  16.,  24.,  32.,  40.,  48.,  56.,  64.,  72.,  80.,\n",
       "         88.,  96., 104., 112., 120., 128., 136., 144., 152., 160., 168.,\n",
       "        176., 184., 192., 200., 208., 216., 224., 232., 240., 248., 256.,\n",
       "        264., 272., 280., 288., 296., 304., 312., 320., 328., 336., 344.,\n",
       "        352., 360., 368., 376., 384., 392., 400.]),\n",
       " <BarContainer object of 50 artists>)"
      ]
     },
     "execution_count": 264,
     "metadata": {},
     "output_type": "execute_result"
    },
    {
     "data": {
      "image/png": "[encoded data removed]",
      "text/plain": [
       "<Figure size 432x288 with 1 Axes>"
      ]
     },
     "metadata": {
      "needs_background": "light"
     },
     "output_type": "display_data"
    }
   ],
   "source": [
    "sentences=catagory10.review_customer.values.tolist()\n",
    "print(max(len(l) for l in sentences))\n",
    "print(sum(map(len, sentences))/len(sentences))\n",
    "plt.hist([len(s) for s in sentences],range=(0,400), bins=50)"
   ]
  },
  {
   "cell_type": "code",
   "execution_count": 178,
   "metadata": {},
   "outputs": [
    {
     "data": {
      "text/plain": [
       "(18002, 10)"
      ]
     },
     "execution_count": 178,
     "metadata": {},
     "output_type": "execute_result"
    }
   ],
   "source": [
    "catagory1.shape"
   ]
  },
  {
   "cell_type": "code",
   "execution_count": 180,
   "metadata": {},
   "outputs": [
    {
     "data": {
      "text/plain": [
       "(6276, 10)"
      ]
     },
     "execution_count": 180,
     "metadata": {},
     "output_type": "execute_result"
    }
   ],
   "source": [
    "catagory2.shape"
   ]
  },
  {
   "cell_type": "code",
   "execution_count": 189,
   "metadata": {},
   "outputs": [
    {
     "data": {
      "text/plain": [
       "(3339, 10)"
      ]
     },
     "execution_count": 189,
     "metadata": {},
     "output_type": "execute_result"
    }
   ],
   "source": [
    "catagory3.shape"
   ]
  },
  {
   "cell_type": "code",
   "execution_count": 192,
   "metadata": {},
   "outputs": [
    {
     "data": {
      "text/plain": [
       "(14814, 10)"
      ]
     },
     "execution_count": 192,
     "metadata": {},
     "output_type": "execute_result"
    }
   ],
   "source": [
    "catagory4.shape"
   ]
  },
  {
   "cell_type": "code",
   "execution_count": 196,
   "metadata": {},
   "outputs": [
    {
     "data": {
      "text/plain": [
       "(2099, 10)"
      ]
     },
     "execution_count": 196,
     "metadata": {},
     "output_type": "execute_result"
    }
   ],
   "source": [
    "catagory5.shape"
   ]
  },
  {
   "cell_type": "code",
   "execution_count": 256,
   "metadata": {},
   "outputs": [],
   "source": [
    "cata_na=catagory[catagory.catagory.isna()].shop.tolist()"
   ]
  },
  {
   "cell_type": "code",
   "execution_count": 258,
   "metadata": {},
   "outputs": [],
   "source": [
    "catagory_na=pd.DataFrame\n",
    "for num in cata_na:\n",
    "    for cata in shop_list:\n",
    "        now=cata[cata.shop==num]\n",
    "        if catagory_na.empty:\n",
    "            catagory_na=now\n",
    "        else:\n",
    "            catagory_na=catagory_na.append(now)\n",
    "    \n",
    "catagory_na.reset_index(drop=True,inplace=True)\n"
   ]
  },
  {
   "cell_type": "code",
   "execution_count": 259,
   "metadata": {},
   "outputs": [
    {
     "name": "stdout",
     "output_type": "stream",
     "text": [
      "525\n",
      "37.165942078991556\n"
     ]
    },
    {
     "data": {
      "text/plain": [
       "(array([1.5850e+03, 2.7653e+04, 1.6487e+04, 9.7880e+03, 6.4800e+03,\n",
       "        4.8080e+03, 3.7580e+03, 2.9110e+03, 2.3470e+03, 1.7970e+03,\n",
       "        1.5340e+03, 1.2740e+03, 1.0340e+03, 8.2400e+02, 6.7700e+02,\n",
       "        5.3100e+02, 4.7800e+02, 3.7000e+02, 3.5600e+02, 2.7700e+02,\n",
       "        2.4800e+02, 2.2500e+02, 1.6800e+02, 1.6000e+02, 1.3800e+02,\n",
       "        1.3200e+02, 1.0200e+02, 7.5000e+01, 7.5000e+01, 8.4000e+01,\n",
       "        5.9000e+01, 5.4000e+01, 5.1000e+01, 5.2000e+01, 4.2000e+01,\n",
       "        5.8000e+01, 6.9000e+01, 1.7400e+02, 3.0000e+00, 1.0000e+00,\n",
       "        1.0000e+00, 1.0000e+00, 0.0000e+00, 0.0000e+00, 1.0000e+00,\n",
       "        0.0000e+00, 0.0000e+00, 0.0000e+00, 0.0000e+00, 0.0000e+00]),\n",
       " array([  0.,   8.,  16.,  24.,  32.,  40.,  48.,  56.,  64.,  72.,  80.,\n",
       "         88.,  96., 104., 112., 120., 128., 136., 144., 152., 160., 168.,\n",
       "        176., 184., 192., 200., 208., 216., 224., 232., 240., 248., 256.,\n",
       "        264., 272., 280., 288., 296., 304., 312., 320., 328., 336., 344.,\n",
       "        352., 360., 368., 376., 384., 392., 400.]),\n",
       " <BarContainer object of 50 artists>)"
      ]
     },
     "execution_count": 259,
     "metadata": {},
     "output_type": "execute_result"
    },
    {
     "data": {
      "image/png": "[encoded data removed]",
      "text/plain": [
       "<Figure size 432x288 with 1 Axes>"
      ]
     },
     "metadata": {
      "needs_background": "light"
     },
     "output_type": "display_data"
    }
   ],
   "source": [
    "sentences=catagory_na.review_customer.values.tolist()\n",
    "print(max(len(l) for l in sentences))\n",
    "print(sum(map(len, sentences))/len(sentences))\n",
    "plt.hist([len(s) for s in sentences],range=(0,400), bins=50)"
   ]
  },
  {
   "cell_type": "code",
   "execution_count": 268,
   "metadata": {},
   "outputs": [
    {
     "data": {
      "text/html": [
       "<div>\n",
       "<style scoped>\n",
       "    .dataframe tbody tr th:only-of-type {\n",
       "        vertical-align: middle;\n",
       "    }\n",
       "\n",
       "    .dataframe tbody tr th {\n",
       "        vertical-align: top;\n",
       "    }\n",
       "\n",
       "    .dataframe thead th {\n",
       "        text-align: right;\n",
       "    }\n",
       "</style>\n",
       "<table border=\"1\" class=\"dataframe\">\n",
       "  <thead>\n",
       "    <tr style=\"text-align: right;\">\n",
       "      <th></th>\n",
       "      <th>shop</th>\n",
       "      <th>name</th>\n",
       "      <th>date</th>\n",
       "      <th>star_flavor</th>\n",
       "      <th>star_volume</th>\n",
       "      <th>star_deliver</th>\n",
       "      <th>menu</th>\n",
       "      <th>review_customer</th>\n",
       "      <th>review_owner</th>\n",
       "      <th>img_name</th>\n",
       "    </tr>\n",
       "  </thead>\n",
       "  <tbody>\n",
       "    <tr>\n",
       "      <th>30895</th>\n",
       "      <td>무치킨</td>\n",
       "      <td>ms**님</td>\n",
       "      <td>어제</td>\n",
       "      <td>5.0</td>\n",
       "      <td>5.0</td>\n",
       "      <td>5.0</td>\n",
       "      <td>2가지맛 순살치킨（양념＋후라이드）＋치킨무＋콜라 350mL/1</td>\n",
       "      <td>엄니가 정성스럽게\\n준비해주시는\\n식사보다도 무치킨 치킨이 맛있네요..\\n쫄면도 정...</td>\n",
       "      <td>NaN</td>\n",
       "      <td>무치킨_0</td>\n",
       "    </tr>\n",
       "    <tr>\n",
       "      <th>30896</th>\n",
       "      <td>무치킨</td>\n",
       "      <td>st**님</td>\n",
       "      <td>3일 전</td>\n",
       "      <td>5.0</td>\n",
       "      <td>5.0</td>\n",
       "      <td>5.0</td>\n",
       "      <td>2가지맛 순살치킨（양념＋후라이드）＋치킨무＋콜라 350mL/1</td>\n",
       "      <td>말이 필요없다 그냥 시키는게 답이다</td>\n",
       "      <td>NaN</td>\n",
       "      <td>무치킨_1</td>\n",
       "    </tr>\n",
       "    <tr>\n",
       "      <th>30897</th>\n",
       "      <td>무치킨</td>\n",
       "      <td>ms**님</td>\n",
       "      <td>5일 전</td>\n",
       "      <td>5.0</td>\n",
       "      <td>5.0</td>\n",
       "      <td>5.0</td>\n",
       "      <td>2가지맛 순살치킨（양념＋후라이드）＋치킨무＋콜라 350mL/1</td>\n",
       "      <td>무쳤다 무쳤어 맛있어요!</td>\n",
       "      <td>감사합니다  🙏  극찬?  고맙습니다   🙏</td>\n",
       "      <td>무치킨_2</td>\n",
       "    </tr>\n",
       "    <tr>\n",
       "      <th>30898</th>\n",
       "      <td>무치킨</td>\n",
       "      <td>yu**님</td>\n",
       "      <td>2020년 12월 15일</td>\n",
       "      <td>5.0</td>\n",
       "      <td>5.0</td>\n",
       "      <td>5.0</td>\n",
       "      <td>2가지맛 순살치킨（양념＋후라이드）＋치킨무＋콜라 350mL/1</td>\n",
       "      <td>찜만 눌러놓고 맨날 고민만했었는데 ,  담에도 야식으로 주문해야겠어요.! 양도 많고...</td>\n",
       "      <td>고맙습니다 🙏  이렇게  사진리뷰까지 올려주셔서 감사합니다 ㅎㅎ</td>\n",
       "      <td>무치킨_3</td>\n",
       "    </tr>\n",
       "    <tr>\n",
       "      <th>30899</th>\n",
       "      <td>무치킨</td>\n",
       "      <td>co**님</td>\n",
       "      <td>2020년 12월 15일</td>\n",
       "      <td>5.0</td>\n",
       "      <td>5.0</td>\n",
       "      <td>5.0</td>\n",
       "      <td>생후라이드치킨＋치킨무＋콜라 350mL/1(추가메뉴(양념소스))</td>\n",
       "      <td>항상 자주 방문하는 곳입니다\\n오늘은 집에서 먹고싶어 한번 배달 시켜봤는데\\n양도 ...</td>\n",
       "      <td>ㅎㅎ언제나 고맙습니다   포장은 최대한 따뜻하게 드시라고 튀기자마자 후다닥 달려갑니다</td>\n",
       "      <td>무치킨_4</td>\n",
       "    </tr>\n",
       "    <tr>\n",
       "      <th>...</th>\n",
       "      <td>...</td>\n",
       "      <td>...</td>\n",
       "      <td>...</td>\n",
       "      <td>...</td>\n",
       "      <td>...</td>\n",
       "      <td>...</td>\n",
       "      <td>...</td>\n",
       "      <td>...</td>\n",
       "      <td>...</td>\n",
       "      <td>...</td>\n",
       "    </tr>\n",
       "    <tr>\n",
       "      <th>8244</th>\n",
       "      <td>호이차-회기역점</td>\n",
       "      <td>ga**님</td>\n",
       "      <td>2019년 11월 28일</td>\n",
       "      <td>5.0</td>\n",
       "      <td>5.0</td>\n",
       "      <td>5.0</td>\n",
       "      <td>초코샌드위치/1,블랙밀크티＋펄 Black Milk Tea＋Pearl/1(HOT or...</td>\n",
       "      <td>맛도 좋고 서비스고 좋아요~</td>\n",
       "      <td>맛있게 드셨다니 넘 기쁘네요 😁 계속 노력하는 호이차가 되겠습니다. 추운 날씨 따뜻...</td>\n",
       "      <td>호이차-회기역점_414</td>\n",
       "    </tr>\n",
       "    <tr>\n",
       "      <th>8245</th>\n",
       "      <td>호이차-회기역점</td>\n",
       "      <td>ks**님</td>\n",
       "      <td>2019년 11월 23일</td>\n",
       "      <td>5.0</td>\n",
       "      <td>5.0</td>\n",
       "      <td>5.0</td>\n",
       "      <td>흑당버블티 BrownSugar Bubble Tea/1(HOT or ICE 선택(IC...</td>\n",
       "      <td>처음 시켜봤는데 맛있어요~~~~^^</td>\n",
       "      <td>정말 감사합니다 😁  늘 넉넉하게 드리는 호이차 회기역이 되겠습니다 추운날씨 건강 ...</td>\n",
       "      <td>NaN</td>\n",
       "    </tr>\n",
       "    <tr>\n",
       "      <th>8246</th>\n",
       "      <td>호이차-회기역점</td>\n",
       "      <td>hy**님</td>\n",
       "      <td>2019년 11월 21일</td>\n",
       "      <td>5.0</td>\n",
       "      <td>5.0</td>\n",
       "      <td>5.0</td>\n",
       "      <td>햄치즈샌드위치/4,블랙밀크티 Black Milk Tea/1(HOT or ICE 선택...</td>\n",
       "      <td>잘먹었어용~~~~~</td>\n",
       "      <td>감사드려요 언제든 필요하신것은 요청사항에 써 주시고 행복햐 한주되세요 ~😆\\n리뷰 ...</td>\n",
       "      <td>호이차-회기역점_416</td>\n",
       "    </tr>\n",
       "    <tr>\n",
       "      <th>8247</th>\n",
       "      <td>호이차-회기역점</td>\n",
       "      <td>do**님</td>\n",
       "      <td>2019년 11월 19일</td>\n",
       "      <td>5.0</td>\n",
       "      <td>5.0</td>\n",
       "      <td>5.0</td>\n",
       "      <td>초코스무디버블티 Choco Smoothie Bubble Tea/1(사이즈 선택(M)...</td>\n",
       "      <td>리뷰이벤트 참여하면 뭐 준다고 해서 개별사항에 적었는데ㅎ 딱 주문한 거만 왔어요. ...</td>\n",
       "      <td>고객님 정말 죄송합니다. ㅠㅠ  알아보니 저희 직원이 실수로 준비해 놓고 드리지 않...</td>\n",
       "      <td>호이차-회기역점_417</td>\n",
       "    </tr>\n",
       "    <tr>\n",
       "      <th>8248</th>\n",
       "      <td>호이차-회기역점</td>\n",
       "      <td>hy**님</td>\n",
       "      <td>2019년 11월 18일</td>\n",
       "      <td>5.0</td>\n",
       "      <td>5.0</td>\n",
       "      <td>5.0</td>\n",
       "      <td>치즈폼＋블랙밀크티＋펄 Cheese Foam＋Black Milk Tea＋Pearl/1...</td>\n",
       "      <td>리뷰 이벤트 참여했는데 서비스가 안 왔어요ㅠㅠ</td>\n",
       "      <td>고객님 😢  이벤트는 요청사항에  작성해 주지 않으시면 저희는 알수가 없어요 😢혹시...</td>\n",
       "      <td>NaN</td>\n",
       "    </tr>\n",
       "  </tbody>\n",
       "</table>\n",
       "<p>14814 rows × 10 columns</p>\n",
       "</div>"
      ],
      "text/plain": [
       "           shop   name           date  star_flavor  star_volume  star_deliver  \\\n",
       "30895       무치킨  ms**님             어제          5.0          5.0           5.0   \n",
       "30896       무치킨  st**님           3일 전          5.0          5.0           5.0   \n",
       "30897       무치킨  ms**님           5일 전          5.0          5.0           5.0   \n",
       "30898       무치킨  yu**님  2020년 12월 15일          5.0          5.0           5.0   \n",
       "30899       무치킨  co**님  2020년 12월 15일          5.0          5.0           5.0   \n",
       "...         ...    ...            ...          ...          ...           ...   \n",
       "8244   호이차-회기역점  ga**님  2019년 11월 28일          5.0          5.0           5.0   \n",
       "8245   호이차-회기역점  ks**님  2019년 11월 23일          5.0          5.0           5.0   \n",
       "8246   호이차-회기역점  hy**님  2019년 11월 21일          5.0          5.0           5.0   \n",
       "8247   호이차-회기역점  do**님  2019년 11월 19일          5.0          5.0           5.0   \n",
       "8248   호이차-회기역점  hy**님  2019년 11월 18일          5.0          5.0           5.0   \n",
       "\n",
       "                                                    menu  \\\n",
       "30895                  2가지맛 순살치킨（양념＋후라이드）＋치킨무＋콜라 350mL/1   \n",
       "30896                  2가지맛 순살치킨（양념＋후라이드）＋치킨무＋콜라 350mL/1   \n",
       "30897                  2가지맛 순살치킨（양념＋후라이드）＋치킨무＋콜라 350mL/1   \n",
       "30898                  2가지맛 순살치킨（양념＋후라이드）＋치킨무＋콜라 350mL/1   \n",
       "30899                 생후라이드치킨＋치킨무＋콜라 350mL/1(추가메뉴(양념소스))   \n",
       "...                                                  ...   \n",
       "8244   초코샌드위치/1,블랙밀크티＋펄 Black Milk Tea＋Pearl/1(HOT or...   \n",
       "8245   흑당버블티 BrownSugar Bubble Tea/1(HOT or ICE 선택(IC...   \n",
       "8246   햄치즈샌드위치/4,블랙밀크티 Black Milk Tea/1(HOT or ICE 선택...   \n",
       "8247   초코스무디버블티 Choco Smoothie Bubble Tea/1(사이즈 선택(M)...   \n",
       "8248   치즈폼＋블랙밀크티＋펄 Cheese Foam＋Black Milk Tea＋Pearl/1...   \n",
       "\n",
       "                                         review_customer  \\\n",
       "30895  엄니가 정성스럽게\\n준비해주시는\\n식사보다도 무치킨 치킨이 맛있네요..\\n쫄면도 정...   \n",
       "30896                                말이 필요없다 그냥 시키는게 답이다   \n",
       "30897                                      무쳤다 무쳤어 맛있어요!   \n",
       "30898  찜만 눌러놓고 맨날 고민만했었는데 ,  담에도 야식으로 주문해야겠어요.! 양도 많고...   \n",
       "30899  항상 자주 방문하는 곳입니다\\n오늘은 집에서 먹고싶어 한번 배달 시켜봤는데\\n양도 ...   \n",
       "...                                                  ...   \n",
       "8244                                     맛도 좋고 서비스고 좋아요~   \n",
       "8245                                 처음 시켜봤는데 맛있어요~~~~^^   \n",
       "8246                                          잘먹었어용~~~~~   \n",
       "8247   리뷰이벤트 참여하면 뭐 준다고 해서 개별사항에 적었는데ㅎ 딱 주문한 거만 왔어요. ...   \n",
       "8248                           리뷰 이벤트 참여했는데 서비스가 안 왔어요ㅠㅠ   \n",
       "\n",
       "                                            review_owner      img_name  \n",
       "30895                                                NaN         무치킨_0  \n",
       "30896                                                NaN         무치킨_1  \n",
       "30897                          감사합니다  🙏  극찬?  고맙습니다   🙏          무치킨_2  \n",
       "30898               고맙습니다 🙏  이렇게  사진리뷰까지 올려주셔서 감사합니다 ㅎㅎ          무치킨_3  \n",
       "30899   ㅎㅎ언제나 고맙습니다   포장은 최대한 따뜻하게 드시라고 튀기자마자 후다닥 달려갑니다          무치킨_4  \n",
       "...                                                  ...           ...  \n",
       "8244   맛있게 드셨다니 넘 기쁘네요 😁 계속 노력하는 호이차가 되겠습니다. 추운 날씨 따뜻...  호이차-회기역점_414  \n",
       "8245   정말 감사합니다 😁  늘 넉넉하게 드리는 호이차 회기역이 되겠습니다 추운날씨 건강 ...           NaN  \n",
       "8246   감사드려요 언제든 필요하신것은 요청사항에 써 주시고 행복햐 한주되세요 ~😆\\n리뷰 ...  호이차-회기역점_416  \n",
       "8247   고객님 정말 죄송합니다. ㅠㅠ  알아보니 저희 직원이 실수로 준비해 놓고 드리지 않...  호이차-회기역점_417  \n",
       "8248   고객님 😢  이벤트는 요청사항에  작성해 주지 않으시면 저희는 알수가 없어요 😢혹시...           NaN  \n",
       "\n",
       "[14814 rows x 10 columns]"
      ]
     },
     "execution_count": 268,
     "metadata": {},
     "output_type": "execute_result"
    }
   ],
   "source": []
  },
  {
   "cell_type": "code",
   "execution_count": 275,
   "metadata": {},
   "outputs": [],
   "source": [
    "def check(catagory):\n",
    "    print(catagory.shop.nunique())\n",
    "    sentences=catagory.review_customer.values.tolist()\n",
    "    print(max(len(l) for l in sentences))\n",
    "    print(sum(map(len, sentences))/len(sentences))"
   ]
  },
  {
   "cell_type": "code",
   "execution_count": 276,
   "metadata": {},
   "outputs": [
    {
     "name": "stdout",
     "output_type": "stream",
     "text": [
      "164\n",
      "632\n",
      "42.66210799339778\n"
     ]
    }
   ],
   "source": [
    "check(catagory0)"
   ]
  },
  {
   "cell_type": "code",
   "execution_count": 277,
   "metadata": {},
   "outputs": [
    {
     "name": "stdout",
     "output_type": "stream",
     "text": [
      "26\n",
      "386\n",
      "46.95222753027441\n"
     ]
    }
   ],
   "source": [
    "check(catagory1)"
   ]
  },
  {
   "cell_type": "code",
   "execution_count": 278,
   "metadata": {},
   "outputs": [
    {
     "name": "stdout",
     "output_type": "stream",
     "text": [
      "19\n",
      "370\n",
      "41.91539196940727\n"
     ]
    }
   ],
   "source": [
    "check(catagory2)"
   ]
  },
  {
   "cell_type": "code",
   "execution_count": 284,
   "metadata": {
    "scrolled": true
   },
   "outputs": [
    {
     "name": "stdout",
     "output_type": "stream",
     "text": [
      "case 0\n",
      "164\n",
      "632\n",
      "42.66210799339778\n",
      "\n",
      "case 1\n",
      "26\n",
      "386\n",
      "46.95222753027441\n",
      "\n",
      "case 2\n",
      "19\n",
      "370\n",
      "41.91539196940727\n",
      "\n",
      "case 3\n",
      "13\n",
      "300\n",
      "46.318358790056905\n",
      "\n",
      "case 4\n",
      "42\n",
      "532\n",
      "44.93506142837856\n",
      "\n",
      "case 5\n",
      "8\n",
      "672\n",
      "46.68651738923297\n",
      "\n",
      "case 6\n",
      "6\n",
      "300\n",
      "47.54485363550519\n",
      "\n",
      "case 7\n",
      "16\n",
      "458\n",
      "43.748584967750425\n",
      "\n",
      "case 8\n",
      "54\n",
      "407\n",
      "45.800233190827825\n",
      "\n",
      "case 9\n",
      "22\n",
      "301\n",
      "40.57457906295754\n",
      "\n",
      "case 10\n",
      "20\n",
      "300\n",
      "37.634481760277936\n",
      "\n",
      "case 11\n",
      "39\n",
      "316\n",
      "42.34701717798145\n",
      "\n",
      "case 12\n",
      "18\n",
      "302\n",
      "44.85760667903525\n",
      "\n",
      "case 13\n",
      "16\n",
      "300\n",
      "43.210967633741404\n",
      "\n",
      "case 14\n",
      "16\n",
      "335\n",
      "41.2715450310559\n",
      "\n",
      "case 15\n",
      "21\n",
      "299\n",
      "42.21983728578847\n",
      "\n"
     ]
    }
   ],
   "source": [
    "for i in range(16):\n",
    "    print(f'case {i}')\n",
    "    check(globals()[f'catagory{i}'])\n",
    "    print()"
   ]
  },
  {
   "cell_type": "code",
   "execution_count": 285,
   "metadata": {},
   "outputs": [
    {
     "data": {
      "text/html": [
       "<div>\n",
       "<style scoped>\n",
       "    .dataframe tbody tr th:only-of-type {\n",
       "        vertical-align: middle;\n",
       "    }\n",
       "\n",
       "    .dataframe tbody tr th {\n",
       "        vertical-align: top;\n",
       "    }\n",
       "\n",
       "    .dataframe thead th {\n",
       "        text-align: right;\n",
       "    }\n",
       "</style>\n",
       "<table border=\"1\" class=\"dataframe\">\n",
       "  <thead>\n",
       "    <tr style=\"text-align: right;\">\n",
       "      <th></th>\n",
       "      <th>shop</th>\n",
       "      <th>name</th>\n",
       "      <th>date</th>\n",
       "      <th>star_flavor</th>\n",
       "      <th>star_volume</th>\n",
       "      <th>star_deliver</th>\n",
       "      <th>menu</th>\n",
       "      <th>review_customer</th>\n",
       "      <th>review_owner</th>\n",
       "      <th>img_name</th>\n",
       "    </tr>\n",
       "  </thead>\n",
       "  <tbody>\n",
       "    <tr>\n",
       "      <th>0</th>\n",
       "      <td>썬더치킨-경희대점</td>\n",
       "      <td>sa**님</td>\n",
       "      <td>2020년 9월 8일</td>\n",
       "      <td>5.0</td>\n",
       "      <td>5.0</td>\n",
       "      <td>5.0</td>\n",
       "      <td>파닭치킨/1(뼈or순살 선택(뼈),반마리 추가 선택(매운맛 양념치킨 반마리 추가),...</td>\n",
       "      <td>썬더치킨은 언제나 맞습니다!!!</td>\n",
       "      <td>NaN</td>\n",
       "      <td>썬더치킨-경희대점_0</td>\n",
       "    </tr>\n",
       "    <tr>\n",
       "      <th>1</th>\n",
       "      <td>썬더치킨-경희대점</td>\n",
       "      <td>ja**님</td>\n",
       "      <td>2020년 8월 27일</td>\n",
       "      <td>5.0</td>\n",
       "      <td>5.0</td>\n",
       "      <td>5.0</td>\n",
       "      <td>반반치킨（크리스피 반＋양념 반）/1(뼈or순살 선택(뼈),사이드 추가 선택(마약떡튀...</td>\n",
       "      <td>맛잇고 양많거 좋아여</td>\n",
       "      <td>NaN</td>\n",
       "      <td>썬더치킨-경희대점_1</td>\n",
       "    </tr>\n",
       "    <tr>\n",
       "      <th>2</th>\n",
       "      <td>썬더치킨-경희대점</td>\n",
       "      <td>be**님</td>\n",
       "      <td>2020년 8월 20일</td>\n",
       "      <td>5.0</td>\n",
       "      <td>5.0</td>\n",
       "      <td>5.0</td>\n",
       "      <td>크리스피치킨/1(뼈or순살 선택(뼈))</td>\n",
       "      <td>배달도 빠르고 맛있어요 서비스 감자도 최고~</td>\n",
       "      <td>NaN</td>\n",
       "      <td>썬더치킨-경희대점_2</td>\n",
       "    </tr>\n",
       "    <tr>\n",
       "      <th>3</th>\n",
       "      <td>썬더치킨-경희대점</td>\n",
       "      <td>lw**님</td>\n",
       "      <td>2020년 8월 11일</td>\n",
       "      <td>5.0</td>\n",
       "      <td>5.0</td>\n",
       "      <td>5.0</td>\n",
       "      <td>반반치킨（크리스피 반＋양념 반）/1(뼈or순살 선택(뼈),반마리 추가 선택(간장치킨...</td>\n",
       "      <td>비도 많이 왔는데 배달 빨리 해주셔서 감사했습니다 물론 치킨이랑 감자튀김도 더할 나...</td>\n",
       "      <td>NaN</td>\n",
       "      <td>썬더치킨-경희대점_3</td>\n",
       "    </tr>\n",
       "    <tr>\n",
       "      <th>4</th>\n",
       "      <td>썬더치킨-경희대점</td>\n",
       "      <td>na**님</td>\n",
       "      <td>2020년 8월 6일</td>\n",
       "      <td>5.0</td>\n",
       "      <td>5.0</td>\n",
       "      <td>5.0</td>\n",
       "      <td>닭다리 반반 8조각（후라이드 반＋양념 반）/1(뼈or순살 선택(뼈),소스 추가 선택...</td>\n",
       "      <td>닭다리 너무 맛있고요\\n감자튀김이 진짜 너무 맛있어요 감튀 강추입니다</td>\n",
       "      <td>NaN</td>\n",
       "      <td>썬더치킨-경희대점_4</td>\n",
       "    </tr>\n",
       "    <tr>\n",
       "      <th>...</th>\n",
       "      <td>...</td>\n",
       "      <td>...</td>\n",
       "      <td>...</td>\n",
       "      <td>...</td>\n",
       "      <td>...</td>\n",
       "      <td>...</td>\n",
       "      <td>...</td>\n",
       "      <td>...</td>\n",
       "      <td>...</td>\n",
       "      <td>...</td>\n",
       "    </tr>\n",
       "    <tr>\n",
       "      <th>1054</th>\n",
       "      <td>도야족발-중곡본점</td>\n",
       "      <td>70**님</td>\n",
       "      <td>2020년 2월 10일</td>\n",
       "      <td>5.0</td>\n",
       "      <td>5.0</td>\n",
       "      <td>5.0</td>\n",
       "      <td>불족발/1(사이즈 선택(中))</td>\n",
       "      <td>와우~~~~  족발집 중에 최고인거 같아요\\n집에서 조금 멀어서 음식이 식을까 걱정...</td>\n",
       "      <td>감사합니다 기억나요 껍대기 위주로 달라고하셔서 사실 그거 ..2족이나 들어간건 비밀...</td>\n",
       "      <td>도야족발-중곡본점_495</td>\n",
       "    </tr>\n",
       "    <tr>\n",
       "      <th>1055</th>\n",
       "      <td>도야족발-중곡본점</td>\n",
       "      <td>bu**님</td>\n",
       "      <td>2020년 2월 9일</td>\n",
       "      <td>5.0</td>\n",
       "      <td>5.0</td>\n",
       "      <td>5.0</td>\n",
       "      <td>도야보쌈/1(사이즈 선택(小))</td>\n",
       "      <td>배달시켜먹어본 족발중 최고였어요!!♡\\n돼지냄새도 안나고 쫄깃쫄깃 너무맛있어요~~\\...</td>\n",
       "      <td>감사합니다 ㅎㅎㅎ 항상 신선한 당일족으로만 삶아서 쫄깃 쫄깃 하실꺼에요 ㅎㅎㅎ \\n...</td>\n",
       "      <td>NaN</td>\n",
       "    </tr>\n",
       "    <tr>\n",
       "      <th>1056</th>\n",
       "      <td>도야족발-중곡본점</td>\n",
       "      <td>손님</td>\n",
       "      <td>2020년 2월 8일</td>\n",
       "      <td>5.0</td>\n",
       "      <td>5.0</td>\n",
       "      <td>5.0</td>\n",
       "      <td>도야보쌈/1(사이즈 선택(小))</td>\n",
       "      <td>보쌈 먹어봤는데, 요즘 되게 부드럽네요 육질이나 육즙이나 모든 면에서 최고라 생각합...</td>\n",
       "      <td>저희 도야족발주문해주셔서 감사합니다 ㅎㅎ 보쌈 맛나죠 이번에 고기도 업그레이드 해서...</td>\n",
       "      <td>NaN</td>\n",
       "    </tr>\n",
       "    <tr>\n",
       "      <th>1057</th>\n",
       "      <td>도야족발-중곡본점</td>\n",
       "      <td>na**님</td>\n",
       "      <td>2020년 2월 4일</td>\n",
       "      <td>2.0</td>\n",
       "      <td>1.0</td>\n",
       "      <td>3.0</td>\n",
       "      <td>반반족발/1(메뉴 선택(반반 앞발))</td>\n",
       "      <td>전에 시켜먹었을때 맛있게 먹었던 기억이 있어서 일부러 여기서 시켰는데.. 주인이 바...</td>\n",
       "      <td>죄송합니다..고객님...주인이 바낀건아니구요..ㅠㅠ 말슴주신부분에대해 변명안하겠습니...</td>\n",
       "      <td>도야족발-중곡본점_498</td>\n",
       "    </tr>\n",
       "    <tr>\n",
       "      <th>1058</th>\n",
       "      <td>도야족발-중곡본점</td>\n",
       "      <td>ja**님</td>\n",
       "      <td>2020년 2월 2일</td>\n",
       "      <td>5.0</td>\n",
       "      <td>5.0</td>\n",
       "      <td>5.0</td>\n",
       "      <td>도야보쌈/1(사이즈 선택(小))</td>\n",
       "      <td>자주 시켜먹던데가 문닫아서 여기서 시켜봤는데\\n대박 맛있네요 단골집 도야로 바뀔듯 ...</td>\n",
       "      <td>감사합니다..항상 맛봐 양에 신경을 쓰고 있습니다 ^^만족한 식사되셔서 제가 더욱 ...</td>\n",
       "      <td>NaN</td>\n",
       "    </tr>\n",
       "  </tbody>\n",
       "</table>\n",
       "<p>1059 rows × 10 columns</p>\n",
       "</div>"
      ],
      "text/plain": [
       "           shop   name          date  star_flavor  star_volume  star_deliver  \\\n",
       "0     썬더치킨-경희대점  sa**님   2020년 9월 8일          5.0          5.0           5.0   \n",
       "1     썬더치킨-경희대점  ja**님  2020년 8월 27일          5.0          5.0           5.0   \n",
       "2     썬더치킨-경희대점  be**님  2020년 8월 20일          5.0          5.0           5.0   \n",
       "3     썬더치킨-경희대점  lw**님  2020년 8월 11일          5.0          5.0           5.0   \n",
       "4     썬더치킨-경희대점  na**님   2020년 8월 6일          5.0          5.0           5.0   \n",
       "...         ...    ...           ...          ...          ...           ...   \n",
       "1054  도야족발-중곡본점  70**님  2020년 2월 10일          5.0          5.0           5.0   \n",
       "1055  도야족발-중곡본점  bu**님   2020년 2월 9일          5.0          5.0           5.0   \n",
       "1056  도야족발-중곡본점     손님   2020년 2월 8일          5.0          5.0           5.0   \n",
       "1057  도야족발-중곡본점  na**님   2020년 2월 4일          2.0          1.0           3.0   \n",
       "1058  도야족발-중곡본점  ja**님   2020년 2월 2일          5.0          5.0           5.0   \n",
       "\n",
       "                                                   menu  \\\n",
       "0     파닭치킨/1(뼈or순살 선택(뼈),반마리 추가 선택(매운맛 양념치킨 반마리 추가),...   \n",
       "1     반반치킨（크리스피 반＋양념 반）/1(뼈or순살 선택(뼈),사이드 추가 선택(마약떡튀...   \n",
       "2                                 크리스피치킨/1(뼈or순살 선택(뼈))   \n",
       "3     반반치킨（크리스피 반＋양념 반）/1(뼈or순살 선택(뼈),반마리 추가 선택(간장치킨...   \n",
       "4     닭다리 반반 8조각（후라이드 반＋양념 반）/1(뼈or순살 선택(뼈),소스 추가 선택...   \n",
       "...                                                 ...   \n",
       "1054                                   불족발/1(사이즈 선택(中))   \n",
       "1055                                  도야보쌈/1(사이즈 선택(小))   \n",
       "1056                                  도야보쌈/1(사이즈 선택(小))   \n",
       "1057                               반반족발/1(메뉴 선택(반반 앞발))   \n",
       "1058                                  도야보쌈/1(사이즈 선택(小))   \n",
       "\n",
       "                                        review_customer  \\\n",
       "0                                     썬더치킨은 언제나 맞습니다!!!   \n",
       "1                                           맛잇고 양많거 좋아여   \n",
       "2                              배달도 빠르고 맛있어요 서비스 감자도 최고~   \n",
       "3     비도 많이 왔는데 배달 빨리 해주셔서 감사했습니다 물론 치킨이랑 감자튀김도 더할 나...   \n",
       "4                닭다리 너무 맛있고요\\n감자튀김이 진짜 너무 맛있어요 감튀 강추입니다   \n",
       "...                                                 ...   \n",
       "1054  와우~~~~  족발집 중에 최고인거 같아요\\n집에서 조금 멀어서 음식이 식을까 걱정...   \n",
       "1055  배달시켜먹어본 족발중 최고였어요!!♡\\n돼지냄새도 안나고 쫄깃쫄깃 너무맛있어요~~\\...   \n",
       "1056  보쌈 먹어봤는데, 요즘 되게 부드럽네요 육질이나 육즙이나 모든 면에서 최고라 생각합...   \n",
       "1057  전에 시켜먹었을때 맛있게 먹었던 기억이 있어서 일부러 여기서 시켰는데.. 주인이 바...   \n",
       "1058  자주 시켜먹던데가 문닫아서 여기서 시켜봤는데\\n대박 맛있네요 단골집 도야로 바뀔듯 ...   \n",
       "\n",
       "                                           review_owner       img_name  \n",
       "0                                                   NaN    썬더치킨-경희대점_0  \n",
       "1                                                   NaN    썬더치킨-경희대점_1  \n",
       "2                                                   NaN    썬더치킨-경희대점_2  \n",
       "3                                                   NaN    썬더치킨-경희대점_3  \n",
       "4                                                   NaN    썬더치킨-경희대점_4  \n",
       "...                                                 ...            ...  \n",
       "1054  감사합니다 기억나요 껍대기 위주로 달라고하셔서 사실 그거 ..2족이나 들어간건 비밀...  도야족발-중곡본점_495  \n",
       "1055  감사합니다 ㅎㅎㅎ 항상 신선한 당일족으로만 삶아서 쫄깃 쫄깃 하실꺼에요 ㅎㅎㅎ \\n...            NaN  \n",
       "1056  저희 도야족발주문해주셔서 감사합니다 ㅎㅎ 보쌈 맛나죠 이번에 고기도 업그레이드 해서...            NaN  \n",
       "1057  죄송합니다..고객님...주인이 바낀건아니구요..ㅠㅠ 말슴주신부분에대해 변명안하겠습니...  도야족발-중곡본점_498  \n",
       "1058  감사합니다..항상 맛봐 양에 신경을 쓰고 있습니다 ^^만족한 식사되셔서 제가 더욱 ...            NaN  \n",
       "\n",
       "[1059 rows x 10 columns]"
      ]
     },
     "execution_count": 285,
     "metadata": {},
     "output_type": "execute_result"
    }
   ],
   "source": [
    "catagory6"
   ]
  },
  {
   "cell_type": "code",
   "execution_count": 287,
   "metadata": {},
   "outputs": [],
   "source": [
    "def extract(notice):\n",
    "    notice_clean=re.sub('[^ㄱ-하-1가-힣a-zA-Z0-9]',' ',notice)\n",
    "    notice_clean=okt.nouns(notice)\n",
    "    return notice_clean"
   ]
  },
  {
   "cell_type": "code",
   "execution_count": 290,
   "metadata": {},
   "outputs": [],
   "source": [
    "a=catagory15.review_customer.map(lambda x : extract(x))"
   ]
  },
  {
   "cell_type": "code",
   "execution_count": 291,
   "metadata": {},
   "outputs": [],
   "source": [
    "all_a=sum(a,[])"
   ]
  },
  {
   "cell_type": "code",
   "execution_count": 292,
   "metadata": {},
   "outputs": [
    {
     "data": {
      "text/plain": [
       "[('맛', 1544),\n",
       " ('배달', 1298),\n",
       " ('족발', 687),\n",
       " ('양도', 658),\n",
       " ('주문', 492),\n",
       " ('또', 487),\n",
       " ('진짜', 476),\n",
       " ('양', 450),\n",
       " ('막국수', 442),\n",
       " ('정말', 363),\n",
       " ('좀', 332),\n",
       " ('다음', 324),\n",
       " ('항상', 315),\n",
       " ('더', 251),\n",
       " ('처음', 249),\n",
       " ('리뷰', 247),\n",
       " ('여기', 230),\n",
       " ('사진', 223),\n",
       " ('최고', 212),\n",
       " ('시간', 211),\n",
       " ('고기', 207),\n",
       " ('서비스', 200),\n",
       " ('오늘', 193),\n",
       " ('반찬', 184),\n",
       " ('요', 181),\n",
       " ('조금', 181),\n",
       " ('때', 177),\n",
       " ('역시', 175),\n",
       " ('떡볶이', 175),\n",
       " ('것', 170),\n",
       " ('자주', 169),\n",
       " ('보쌈', 164),\n",
       " ('김치', 151),\n",
       " ('음식', 147),\n",
       " ('집', 145),\n",
       " ('습', 144),\n",
       " ('생각', 144),\n",
       " ('국물', 139),\n",
       " ('요청', 129),\n",
       " ('밥', 125),\n",
       " ('담', 119),\n",
       " ('치킨', 115),\n",
       " ('포장', 113),\n",
       " ('제', 113),\n",
       " ('곳', 109),\n",
       " ('이벤트', 109),\n",
       " ('안', 107),\n",
       " ('먹기', 106),\n",
       " ('소스', 106),\n",
       " ('추가', 106),\n",
       " ('그냥', 104),\n",
       " ('짐', 103),\n",
       " ('사장', 102),\n",
       " ('가격', 101),\n",
       " ('아주', 99),\n",
       " ('완전', 98),\n",
       " ('사항', 98),\n",
       " ('냄새', 98),\n",
       " ('닭', 97),\n",
       " ('파스타', 97),\n",
       " ('존맛', 95),\n",
       " ('정도', 93),\n",
       " ('와플', 93),\n",
       " ('번창', 91),\n",
       " ('비', 87),\n",
       " ('불', 86),\n",
       " ('앞', 85),\n",
       " ('만', 85),\n",
       " ('햄', 85),\n",
       " ('추천', 82),\n",
       " ('매콤', 82),\n",
       " ('쭈꾸미', 82),\n",
       " ('배', 81),\n",
       " ('떡', 79),\n",
       " ('양념', 78),\n",
       " ('예상', 78),\n",
       " ('늘', 77),\n",
       " ('다른', 76),\n",
       " ('하나', 76),\n",
       " ('업', 74),\n",
       " ('맵', 73),\n",
       " ('이번', 73),\n",
       " ('양은', 73),\n",
       " ('번', 72),\n",
       " ('저', 70),\n",
       " ('계속', 67),\n",
       " ('약간', 67),\n",
       " ('점', 67),\n",
       " ('쟁반', 67),\n",
       " ('이', 66),\n",
       " ('국수', 66),\n",
       " ('사이즈', 65),\n",
       " ('분', 62),\n",
       " ('구성', 61),\n",
       " ('보고', 60),\n",
       " ('살짝', 60),\n",
       " ('주시', 59),\n",
       " ('튀김', 59),\n",
       " ('메뉴', 59),\n",
       " ('부대찌개', 58)]"
      ]
     },
     "execution_count": 292,
     "metadata": {},
     "output_type": "execute_result"
    }
   ],
   "source": [
    "Counter(all_a).most_common(100)"
   ]
  }
 ],
 "metadata": {
  "kernelspec": {
   "display_name": "Python 3",
   "language": "python",
   "name": "python3"
  },
  "language_info": {
   "codemirror_mode": {
    "name": "ipython",
    "version": 3
   },
   "file_extension": ".py",
   "mimetype": "text/x-python",
   "name": "python",
   "nbconvert_exporter": "python",
   "pygments_lexer": "ipython3",
   "version": "3.8.5"
  }
 },
 "nbformat": 4,
 "nbformat_minor": 4
}
